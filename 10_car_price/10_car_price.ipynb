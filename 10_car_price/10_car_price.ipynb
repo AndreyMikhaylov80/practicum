{
  "cells": [
    {
      "cell_type": "markdown",
      "metadata": {
        "id": "HPnR_MyEx5Qr"
      },
      "source": [
        "<div style=\"border:solid Chocolate 2px; padding: 40px\">\n",
        "\n",
        "<b> Андрей, привет!👋</b>\n",
        "\n",
        "Меня зовут Алексей Гриб, и я буду ревьюером твоего проекта.\n",
        "\n",
        "Сразу хочу предложить в дальнейшем общаться на \"ты\" - надеюсь, так будет комфортнее:) Но если это неудобно, обязательно дай знать, и мы придумаем что-нибудь ещё!\n",
        "    \n",
        "Цель ревью - не искать ошибки в твоём проекте, а помочь тебе сделать твою работу ещё лучше, устранив недочёты и приблизив её к реальным задачам специалиста по работе с данными. Поэтому не расстраивайся, если что-то не получилось с первого раза - это нормально, и это поможет тебе вырасти!\n",
        "    \n",
        "Ты можешь найти мои комментарии, обозначенные <font color='green'>зеленым</font>, <font color='gold'>желтым</font> и <font color='red'>красным</font> цветами, например:\n",
        "\n",
        "<br/>\n",
        "\n",
        "<div class=\"alert alert-success\">\n",
        "<h2> Комментарий ревьюера <a class=\"tocSkip\"> </h2>\n",
        "\n",
        "<b>Все отлично!👍:</b> похвала, рекомендации «со звёздочкой», полезные лайфхаки, которые сделают и без того красивое решение ещё более элегантным.\n",
        "</div>\n",
        "\n",
        "<br/>\n",
        "\n",
        "<div class=\"alert alert-warning\">\n",
        "    <h2> Комментарий ревьюера <a class=\"tocSkip\"> </h2>\n",
        "    \n",
        "<b>Некоторые замечания и рекомендации⚠️:</b> некритичные ошибки или развивающие рекомендации на будущее.\n",
        "</div>\n",
        "\n",
        "\n",
        "<br/>\n",
        "<div class=\"alert alert-block alert-danger\">\n",
        "<h2> Комментарий ревьюера <a class=\"tocSkip\"></h2>\n",
        "\n",
        "    \n",
        "<b>На доработку❌:</b>\n",
        "Критичные ошибки, которые обязательно нужно исправить.\n",
        "</div>\n",
        "\n",
        "    \n",
        "Пожалуйста, не удаляй мои комментарии, они будут особенно полезны для нашей работы в случае повторной проверки проекта.\n",
        "    \n",
        "Ты также можешь задавать свои вопросы, реагировать на мои комментарии, делать пометки и пояснения - полная творческая свобода! Но маленькая просьба - пускай они будут отличаться от моих комментариев, это поможет избежать путаницы в нашем общении:)\n",
        "Например, вот так:\n",
        "    \n",
        "<div class=\"alert alert-info\">\n",
        "<h2> Комментарий студента <a class=\"tocSkip\"> </h2>\n",
        "\n",
        "*Добрый день! Поправил замечания.*\n",
        "</div>\n",
        "    \n",
        "Давай посмотрим на твой проект!"
      ]
    },
    {
      "cell_type": "code",
      "execution_count": null,
      "metadata": {
        "id": "ffXqPTUyx5Qz",
        "outputId": "ee774095-328f-46e3-dc34-1228acc2a696"
      },
      "outputs": [
        {
          "name": "stdout",
          "output_type": "stream",
          "text": [
            "Requirement already satisfied: phik in /opt/conda/lib/python3.9/site-packages (0.12.4)\n",
            "Requirement already satisfied: pandas>=0.25.1 in /opt/conda/lib/python3.9/site-packages (from phik) (1.2.4)\n",
            "Requirement already satisfied: numpy>=1.18.0 in /opt/conda/lib/python3.9/site-packages (from phik) (1.21.1)\n",
            "Requirement already satisfied: matplotlib>=2.2.3 in /opt/conda/lib/python3.9/site-packages (from phik) (3.3.4)\n",
            "Requirement already satisfied: joblib>=0.14.1 in /opt/conda/lib/python3.9/site-packages (from phik) (1.1.0)\n",
            "Requirement already satisfied: scipy>=1.5.2 in /opt/conda/lib/python3.9/site-packages (from phik) (1.9.1)\n",
            "Requirement already satisfied: kiwisolver>=1.0.1 in /opt/conda/lib/python3.9/site-packages (from matplotlib>=2.2.3->phik) (1.4.4)\n",
            "Requirement already satisfied: cycler>=0.10 in /opt/conda/lib/python3.9/site-packages (from matplotlib>=2.2.3->phik) (0.11.0)\n",
            "Requirement already satisfied: pyparsing!=2.0.4,!=2.1.2,!=2.1.6,>=2.0.3 in /opt/conda/lib/python3.9/site-packages (from matplotlib>=2.2.3->phik) (2.4.7)\n",
            "Requirement already satisfied: pillow>=6.2.0 in /opt/conda/lib/python3.9/site-packages (from matplotlib>=2.2.3->phik) (8.4.0)\n",
            "Requirement already satisfied: python-dateutil>=2.1 in /opt/conda/lib/python3.9/site-packages (from matplotlib>=2.2.3->phik) (2.8.1)\n",
            "Requirement already satisfied: pytz>=2017.3 in /opt/conda/lib/python3.9/site-packages (from pandas>=0.25.1->phik) (2021.1)\n",
            "Requirement already satisfied: six>=1.5 in /opt/conda/lib/python3.9/site-packages (from python-dateutil>=2.1->matplotlib>=2.2.3->phik) (1.16.0)\n"
          ]
        }
      ],
      "source": [
        "import pandas as pd # Датафреймы\n",
        "import numpy as np # Математика для массивов\n",
        "import matplotlib\n",
        "from matplotlib import pyplot as plt\n",
        "import seaborn as sns\n",
        "from time import time\n",
        "\n",
        "!pip3 install phik\n",
        "# импортируем функцию\n",
        "from phik import phik_matrix\n",
        "from phik.report import plot_correlation_matrix\n",
        "\n",
        "from sklearn.model_selection import train_test_split, GridSearchCV\n",
        "from sklearn.preprocessing import OrdinalEncoder\n",
        "from sklearn.metrics import mean_squared_error\n",
        "from sklearn.metrics import make_scorer\n",
        "from sklearn.tree import DecisionTreeRegressor\n",
        "from sklearn.ensemble import RandomForestRegressor\n",
        "from sklearn.dummy import DummyRegressor\n",
        "\n",
        "import lightgbm as lgb\n",
        "from catboost import CatBoostRegressor"
      ]
    },
    {
      "cell_type": "markdown",
      "metadata": {
        "id": "fxXtBquMx5Q2"
      },
      "source": [
        "<div class=\"alert alert-success\">\n",
        "<h2> Комментарий ревьюера <a class=\"tocSkip\"> </h2>\n",
        "\n",
        "<b>Все отлично!👍:</b> Библиотеки импортировали - отлично!"
      ]
    },
    {
      "cell_type": "markdown",
      "metadata": {
        "id": "N6ez39Iix5Q3"
      },
      "source": [
        "# Определение стоимости автомобилей"
      ]
    },
    {
      "cell_type": "markdown",
      "metadata": {
        "id": "YYCneHdVx5Q3"
      },
      "source": [
        "Сервис по продаже автомобилей с пробегом «Не бит, не крашен» разрабатывает приложение для привлечения новых клиентов. В нём можно быстро узнать рыночную стоимость своего автомобиля. В вашем распоряжении исторические данные: технические характеристики, комплектации и цены автомобилей. Вам нужно построить модель для определения стоимости.\n",
        "\n",
        "Заказчику важны:\n",
        "\n",
        "- качество предсказания;\n",
        "- скорость предсказания;\n",
        "- время обучения."
      ]
    },
    {
      "cell_type": "markdown",
      "metadata": {
        "id": "Uma3-uB_x5Q4"
      },
      "source": [
        "Основные шаги:\n",
        "1.\tЗагрузить данные, путь к файлу: /datasets/autos.csv.\n",
        "2.\tИзучить данные. Заполнить пропущенные значения и обработать аномалии в столбцах. Если среди признаков имеются неинформативные, удалить их.\n",
        "3.\tПодготовить выборки для обучения моделей.\n",
        "4.\tОбучить разные модели, одна из которых — LightGBM, как минимум одна — не бустинг. Для каждой модели попробуйте разные гиперпараметры.\n",
        "5.\tПроанализировать время обучения, время предсказания и качество моделей.\n",
        "6.\tОпираясь на критерии заказчика, выберать лучшую модель, проверить её качество на тестовой выборке.\n",
        "Примечания:\n",
        "·\tДля оценки качества моделей применять метрику RMSE.\n",
        "·\tЗначение метрики RMSE должно быть меньше 2500.\n",
        "·\tСамостоятельно освоить библиотеку LightGBM и её средствами построить модели градиентного бустинга.\n",
        "·\tВремя выполнения ячейки кода Jupyter Notebook можно получить специальной командой. Найти её.\n",
        "·\tМодель градиентного бустинга может долго обучаться, поэтому изменить у неё только два-три параметра.\n",
        "·\tЕсли перестанет работать Jupyter Notebook, удалить лишние переменные оператором del.\n"
      ]
    },
    {
      "cell_type": "markdown",
      "metadata": {
        "id": "EdB4nPXox5Q4"
      },
      "source": [
        "<div class=\"alert alert-success\">\n",
        "<h2> Комментарий ревьюера <a class=\"tocSkip\"> </h2>\n",
        "\n",
        "<b>Все отлично!👍:</b> Хорошее вступление!\n",
        "    \n",
        "В нём есть всё, что необходимо, чтобы понять суть проекта с первых строк отчёта!"
      ]
    },
    {
      "cell_type": "markdown",
      "metadata": {
        "id": "8wZgNSG8x5Q5"
      },
      "source": [
        "## Подготовка данных"
      ]
    },
    {
      "cell_type": "code",
      "execution_count": null,
      "metadata": {
        "scrolled": true,
        "id": "Wpwv1IBHx5Q6"
      },
      "outputs": [],
      "source": [
        "# Загрузим данные\n",
        "# autos = pd.read_csv('/datasets/autos.csv')\n",
        "# autos = autos.iloc()[::100]"
      ]
    },
    {
      "cell_type": "code",
      "execution_count": null,
      "metadata": {
        "id": "I4V8G1Z2x5Q7"
      },
      "outputs": [],
      "source": [
        "try:\n",
        "    autos = pd.read_csv('/datasets/autos.csv')\n",
        "    # autos = autos.iloc()[::100]\n",
        "except:\n",
        "    try:\n",
        "        autos = pd.read_csv('autos.csv')\n",
        "    except:\n",
        "        print(\"Unable to load data\")"
      ]
    },
    {
      "cell_type": "markdown",
      "metadata": {
        "id": "PTeODyW3x5Q7"
      },
      "source": [
        "<div class=\"alert alert-info\">\n",
        "<h2> Комментарий студента 1 <a class=\"tocSkip\"> </h2>\n",
        "\n",
        "Добавил конструкцию try .. except\n",
        "</div>\n",
        "    "
      ]
    },
    {
      "cell_type": "markdown",
      "metadata": {
        "id": "2urh0Zeqx5Q8"
      },
      "source": [
        "<div class=\"alert alert-success\">\n",
        "<h2> Комментарий ревьюера <a class=\"tocSkip\"> </h2>\n",
        "\n",
        "<b>Все отлично!👍</b>\n",
        "    \n",
        "Данные загрузили.\n",
        "    \n",
        "При считывании данных из файла здорово перестраховывать себя от ошибок, связанных, например, с неверным указанием пути к файлу. А иногда бывает, что работаешь с файлом локально, выгружаешь его на сервер, ожидая, что он будет принимать данные, которые лежат на том же сервере, а код падает с ошибкой, потому что путь к файлу не поменялся с локального на серверный.\n",
        "    \n",
        "Для этого, например, можно использовать конструкцию `try-except`: сначала пробуешь локальный путь, при возникновении ошибки используется серверный путь (подробнее можешь почитать тут: https://pythonworld.ru/tipy-dannyx-v-python/isklyucheniya-v-python-konstrukciya-try-except-dlya-obrabotki-isklyuchenij.html).\n",
        "    \n",
        "Но еще лучше использовать библиотеку `os` - её использование позволит тебе проверять существование указанных директорий (что может быть актуально при одновременной работа на локальном и сетевом окружении) и загружать данные из существующей директории, избегая ошибок. Как пример:\n",
        "    \n",
        "    import os\n",
        "\n",
        "    pth1 = '/folder_1/data.csv'\n",
        "    pth2 = '/folder_2/data.csv'\n",
        "    \n",
        "    if os.path.exists(pth1):\n",
        "        query_1 = pd.read_csv(pth1)\n",
        "    elif os.path.exists(pth2):\n",
        "        query_1 = pd.read_csv(pth2)\n",
        "    else:\n",
        "        print('Something is wrong')\n",
        "\n",
        "Ещё на этапе считывания данных можно спарсить дату: за это действие отвечает параметр `parse_dates` метода `read_csv()`, в него нужно передать список с названием полей-дат, и в большинстве случаев дата будет корректно преобразована в нужный формат сразу:)\n",
        "Также на этапе считывания данных можно задать индекс-столбец - за это действие отвечает параметр `index_col`."
      ]
    },
    {
      "cell_type": "markdown",
      "metadata": {
        "id": "mjBQ7NO7x5Q8"
      },
      "source": [
        "### Описание данных\n",
        "\n",
        "Признаки\n",
        "* DateCrawled — дата скачивания анкеты из базы\n",
        "* VehicleType — тип автомобильного кузова\n",
        "* RegistrationYear — год регистрации автомобиля\n",
        "* Gearbox — тип коробки передач\n",
        "* Power — мощность (л. с.)\n",
        "* Model — модель автомобиля\n",
        "* Kilometer — пробег (км)\n",
        "* RegistrationMonth — месяц регистрации автомобиля\n",
        "* FuelType — тип топлива\n",
        "* Brand — марка автомобиля\n",
        "* Repaired — была машина в ремонте или нет\n",
        "* DateCreated — дата создания анкеты\n",
        "* NumberOfPictures — количество фотографий автомобиля\n",
        "* PostalCode — почтовый индекс владельца анкеты (пользователя)\n",
        "* LastSeen — дата последней активности пользователя\n",
        "\n",
        "Целевой признак\n",
        "* Price — цена (евро)"
      ]
    },
    {
      "cell_type": "markdown",
      "metadata": {
        "id": "fbmNZQRCx5Q9"
      },
      "source": [
        "### Изучение данных"
      ]
    },
    {
      "cell_type": "code",
      "execution_count": null,
      "metadata": {
        "id": "Syzl9X14x5Q9",
        "outputId": "20b29d30-9511-406d-da13-ca453743b106"
      },
      "outputs": [
        {
          "name": "stdout",
          "output_type": "stream",
          "text": [
            "<class 'pandas.core.frame.DataFrame'>\n",
            "RangeIndex: 354369 entries, 0 to 354368\n",
            "Data columns (total 16 columns):\n",
            " #   Column             Non-Null Count   Dtype \n",
            "---  ------             --------------   ----- \n",
            " 0   DateCrawled        354369 non-null  object\n",
            " 1   Price              354369 non-null  int64 \n",
            " 2   VehicleType        316879 non-null  object\n",
            " 3   RegistrationYear   354369 non-null  int64 \n",
            " 4   Gearbox            334536 non-null  object\n",
            " 5   Power              354369 non-null  int64 \n",
            " 6   Model              334664 non-null  object\n",
            " 7   Kilometer          354369 non-null  int64 \n",
            " 8   RegistrationMonth  354369 non-null  int64 \n",
            " 9   FuelType           321474 non-null  object\n",
            " 10  Brand              354369 non-null  object\n",
            " 11  Repaired           283215 non-null  object\n",
            " 12  DateCreated        354369 non-null  object\n",
            " 13  NumberOfPictures   354369 non-null  int64 \n",
            " 14  PostalCode         354369 non-null  int64 \n",
            " 15  LastSeen           354369 non-null  object\n",
            "dtypes: int64(7), object(9)\n",
            "memory usage: 43.3+ MB\n",
            "None\n"
          ]
        }
      ],
      "source": [
        "# Первичный анализ данных\n",
        "print(autos.info())"
      ]
    },
    {
      "cell_type": "markdown",
      "metadata": {
        "id": "we_lIqHtx5Q-"
      },
      "source": [
        "В базе 354369 записей. Есть пропуски. Некорректные типы данных в столбцах DateCrawled, DateCreated, LastSeen."
      ]
    },
    {
      "cell_type": "code",
      "execution_count": null,
      "metadata": {
        "id": "KG4l-mirx5Q-",
        "outputId": "46eb7923-320a-4e7d-f94e-c362d25f08e8"
      },
      "outputs": [
        {
          "data": {
            "text/html": [
              "<div>\n",
              "<style scoped>\n",
              "    .dataframe tbody tr th:only-of-type {\n",
              "        vertical-align: middle;\n",
              "    }\n",
              "\n",
              "    .dataframe tbody tr th {\n",
              "        vertical-align: top;\n",
              "    }\n",
              "\n",
              "    .dataframe thead th {\n",
              "        text-align: right;\n",
              "    }\n",
              "</style>\n",
              "<table border=\"1\" class=\"dataframe\">\n",
              "  <thead>\n",
              "    <tr style=\"text-align: right;\">\n",
              "      <th></th>\n",
              "      <th>DateCrawled</th>\n",
              "      <th>Price</th>\n",
              "      <th>VehicleType</th>\n",
              "      <th>RegistrationYear</th>\n",
              "      <th>Gearbox</th>\n",
              "      <th>Power</th>\n",
              "      <th>Model</th>\n",
              "      <th>Kilometer</th>\n",
              "      <th>RegistrationMonth</th>\n",
              "      <th>FuelType</th>\n",
              "      <th>Brand</th>\n",
              "      <th>Repaired</th>\n",
              "      <th>DateCreated</th>\n",
              "      <th>NumberOfPictures</th>\n",
              "      <th>PostalCode</th>\n",
              "      <th>LastSeen</th>\n",
              "    </tr>\n",
              "  </thead>\n",
              "  <tbody>\n",
              "    <tr>\n",
              "      <th>0</th>\n",
              "      <td>2016-03-24 11:52:17</td>\n",
              "      <td>480</td>\n",
              "      <td>NaN</td>\n",
              "      <td>1993</td>\n",
              "      <td>manual</td>\n",
              "      <td>0</td>\n",
              "      <td>golf</td>\n",
              "      <td>150000</td>\n",
              "      <td>0</td>\n",
              "      <td>petrol</td>\n",
              "      <td>volkswagen</td>\n",
              "      <td>NaN</td>\n",
              "      <td>2016-03-24 00:00:00</td>\n",
              "      <td>0</td>\n",
              "      <td>70435</td>\n",
              "      <td>2016-04-07 03:16:57</td>\n",
              "    </tr>\n",
              "    <tr>\n",
              "      <th>1</th>\n",
              "      <td>2016-03-24 10:58:45</td>\n",
              "      <td>18300</td>\n",
              "      <td>coupe</td>\n",
              "      <td>2011</td>\n",
              "      <td>manual</td>\n",
              "      <td>190</td>\n",
              "      <td>NaN</td>\n",
              "      <td>125000</td>\n",
              "      <td>5</td>\n",
              "      <td>gasoline</td>\n",
              "      <td>audi</td>\n",
              "      <td>yes</td>\n",
              "      <td>2016-03-24 00:00:00</td>\n",
              "      <td>0</td>\n",
              "      <td>66954</td>\n",
              "      <td>2016-04-07 01:46:50</td>\n",
              "    </tr>\n",
              "    <tr>\n",
              "      <th>2</th>\n",
              "      <td>2016-03-14 12:52:21</td>\n",
              "      <td>9800</td>\n",
              "      <td>suv</td>\n",
              "      <td>2004</td>\n",
              "      <td>auto</td>\n",
              "      <td>163</td>\n",
              "      <td>grand</td>\n",
              "      <td>125000</td>\n",
              "      <td>8</td>\n",
              "      <td>gasoline</td>\n",
              "      <td>jeep</td>\n",
              "      <td>NaN</td>\n",
              "      <td>2016-03-14 00:00:00</td>\n",
              "      <td>0</td>\n",
              "      <td>90480</td>\n",
              "      <td>2016-04-05 12:47:46</td>\n",
              "    </tr>\n",
              "    <tr>\n",
              "      <th>3</th>\n",
              "      <td>2016-03-17 16:54:04</td>\n",
              "      <td>1500</td>\n",
              "      <td>small</td>\n",
              "      <td>2001</td>\n",
              "      <td>manual</td>\n",
              "      <td>75</td>\n",
              "      <td>golf</td>\n",
              "      <td>150000</td>\n",
              "      <td>6</td>\n",
              "      <td>petrol</td>\n",
              "      <td>volkswagen</td>\n",
              "      <td>no</td>\n",
              "      <td>2016-03-17 00:00:00</td>\n",
              "      <td>0</td>\n",
              "      <td>91074</td>\n",
              "      <td>2016-03-17 17:40:17</td>\n",
              "    </tr>\n",
              "    <tr>\n",
              "      <th>4</th>\n",
              "      <td>2016-03-31 17:25:20</td>\n",
              "      <td>3600</td>\n",
              "      <td>small</td>\n",
              "      <td>2008</td>\n",
              "      <td>manual</td>\n",
              "      <td>69</td>\n",
              "      <td>fabia</td>\n",
              "      <td>90000</td>\n",
              "      <td>7</td>\n",
              "      <td>gasoline</td>\n",
              "      <td>skoda</td>\n",
              "      <td>no</td>\n",
              "      <td>2016-03-31 00:00:00</td>\n",
              "      <td>0</td>\n",
              "      <td>60437</td>\n",
              "      <td>2016-04-06 10:17:21</td>\n",
              "    </tr>\n",
              "  </tbody>\n",
              "</table>\n",
              "</div>"
            ],
            "text/plain": [
              "           DateCrawled  Price VehicleType  RegistrationYear Gearbox  Power  \\\n",
              "0  2016-03-24 11:52:17    480         NaN              1993  manual      0   \n",
              "1  2016-03-24 10:58:45  18300       coupe              2011  manual    190   \n",
              "2  2016-03-14 12:52:21   9800         suv              2004    auto    163   \n",
              "3  2016-03-17 16:54:04   1500       small              2001  manual     75   \n",
              "4  2016-03-31 17:25:20   3600       small              2008  manual     69   \n",
              "\n",
              "   Model  Kilometer  RegistrationMonth  FuelType       Brand Repaired  \\\n",
              "0   golf     150000                  0    petrol  volkswagen      NaN   \n",
              "1    NaN     125000                  5  gasoline        audi      yes   \n",
              "2  grand     125000                  8  gasoline        jeep      NaN   \n",
              "3   golf     150000                  6    petrol  volkswagen       no   \n",
              "4  fabia      90000                  7  gasoline       skoda       no   \n",
              "\n",
              "           DateCreated  NumberOfPictures  PostalCode             LastSeen  \n",
              "0  2016-03-24 00:00:00                 0       70435  2016-04-07 03:16:57  \n",
              "1  2016-03-24 00:00:00                 0       66954  2016-04-07 01:46:50  \n",
              "2  2016-03-14 00:00:00                 0       90480  2016-04-05 12:47:46  \n",
              "3  2016-03-17 00:00:00                 0       91074  2016-03-17 17:40:17  \n",
              "4  2016-03-31 00:00:00                 0       60437  2016-04-06 10:17:21  "
            ]
          },
          "execution_count": 5,
          "metadata": {},
          "output_type": "execute_result"
        }
      ],
      "source": [
        "# Проведём визуальный осмотр\n",
        "autos.head()"
      ]
    },
    {
      "cell_type": "code",
      "execution_count": null,
      "metadata": {
        "id": "7JOCl8lHx5Q-",
        "outputId": "4ed30821-4841-4289-b1bf-3cc5a171aa0b"
      },
      "outputs": [
        {
          "data": {
            "text/html": [
              "<div>\n",
              "<style scoped>\n",
              "    .dataframe tbody tr th:only-of-type {\n",
              "        vertical-align: middle;\n",
              "    }\n",
              "\n",
              "    .dataframe tbody tr th {\n",
              "        vertical-align: top;\n",
              "    }\n",
              "\n",
              "    .dataframe thead th {\n",
              "        text-align: right;\n",
              "    }\n",
              "</style>\n",
              "<table border=\"1\" class=\"dataframe\">\n",
              "  <thead>\n",
              "    <tr style=\"text-align: right;\">\n",
              "      <th></th>\n",
              "      <th>Price</th>\n",
              "      <th>RegistrationYear</th>\n",
              "      <th>Power</th>\n",
              "      <th>Kilometer</th>\n",
              "      <th>RegistrationMonth</th>\n",
              "      <th>NumberOfPictures</th>\n",
              "      <th>PostalCode</th>\n",
              "    </tr>\n",
              "  </thead>\n",
              "  <tbody>\n",
              "    <tr>\n",
              "      <th>count</th>\n",
              "      <td>354369.000000</td>\n",
              "      <td>354369.000000</td>\n",
              "      <td>354369.000000</td>\n",
              "      <td>354369.000000</td>\n",
              "      <td>354369.000000</td>\n",
              "      <td>354369.0</td>\n",
              "      <td>354369.000000</td>\n",
              "    </tr>\n",
              "    <tr>\n",
              "      <th>mean</th>\n",
              "      <td>4416.656776</td>\n",
              "      <td>2004.234448</td>\n",
              "      <td>110.094337</td>\n",
              "      <td>128211.172535</td>\n",
              "      <td>5.714645</td>\n",
              "      <td>0.0</td>\n",
              "      <td>50508.689087</td>\n",
              "    </tr>\n",
              "    <tr>\n",
              "      <th>std</th>\n",
              "      <td>4514.158514</td>\n",
              "      <td>90.227958</td>\n",
              "      <td>189.850405</td>\n",
              "      <td>37905.341530</td>\n",
              "      <td>3.726421</td>\n",
              "      <td>0.0</td>\n",
              "      <td>25783.096248</td>\n",
              "    </tr>\n",
              "    <tr>\n",
              "      <th>min</th>\n",
              "      <td>0.000000</td>\n",
              "      <td>1000.000000</td>\n",
              "      <td>0.000000</td>\n",
              "      <td>5000.000000</td>\n",
              "      <td>0.000000</td>\n",
              "      <td>0.0</td>\n",
              "      <td>1067.000000</td>\n",
              "    </tr>\n",
              "    <tr>\n",
              "      <th>25%</th>\n",
              "      <td>1050.000000</td>\n",
              "      <td>1999.000000</td>\n",
              "      <td>69.000000</td>\n",
              "      <td>125000.000000</td>\n",
              "      <td>3.000000</td>\n",
              "      <td>0.0</td>\n",
              "      <td>30165.000000</td>\n",
              "    </tr>\n",
              "    <tr>\n",
              "      <th>50%</th>\n",
              "      <td>2700.000000</td>\n",
              "      <td>2003.000000</td>\n",
              "      <td>105.000000</td>\n",
              "      <td>150000.000000</td>\n",
              "      <td>6.000000</td>\n",
              "      <td>0.0</td>\n",
              "      <td>49413.000000</td>\n",
              "    </tr>\n",
              "    <tr>\n",
              "      <th>75%</th>\n",
              "      <td>6400.000000</td>\n",
              "      <td>2008.000000</td>\n",
              "      <td>143.000000</td>\n",
              "      <td>150000.000000</td>\n",
              "      <td>9.000000</td>\n",
              "      <td>0.0</td>\n",
              "      <td>71083.000000</td>\n",
              "    </tr>\n",
              "    <tr>\n",
              "      <th>max</th>\n",
              "      <td>20000.000000</td>\n",
              "      <td>9999.000000</td>\n",
              "      <td>20000.000000</td>\n",
              "      <td>150000.000000</td>\n",
              "      <td>12.000000</td>\n",
              "      <td>0.0</td>\n",
              "      <td>99998.000000</td>\n",
              "    </tr>\n",
              "  </tbody>\n",
              "</table>\n",
              "</div>"
            ],
            "text/plain": [
              "               Price  RegistrationYear          Power      Kilometer  \\\n",
              "count  354369.000000     354369.000000  354369.000000  354369.000000   \n",
              "mean     4416.656776       2004.234448     110.094337  128211.172535   \n",
              "std      4514.158514         90.227958     189.850405   37905.341530   \n",
              "min         0.000000       1000.000000       0.000000    5000.000000   \n",
              "25%      1050.000000       1999.000000      69.000000  125000.000000   \n",
              "50%      2700.000000       2003.000000     105.000000  150000.000000   \n",
              "75%      6400.000000       2008.000000     143.000000  150000.000000   \n",
              "max     20000.000000       9999.000000   20000.000000  150000.000000   \n",
              "\n",
              "       RegistrationMonth  NumberOfPictures     PostalCode  \n",
              "count      354369.000000          354369.0  354369.000000  \n",
              "mean            5.714645               0.0   50508.689087  \n",
              "std             3.726421               0.0   25783.096248  \n",
              "min             0.000000               0.0    1067.000000  \n",
              "25%             3.000000               0.0   30165.000000  \n",
              "50%             6.000000               0.0   49413.000000  \n",
              "75%             9.000000               0.0   71083.000000  \n",
              "max            12.000000               0.0   99998.000000  "
            ]
          },
          "execution_count": 6,
          "metadata": {},
          "output_type": "execute_result"
        }
      ],
      "source": [
        "# Анализ распределения данных\n",
        "autos.describe()"
      ]
    },
    {
      "cell_type": "code",
      "execution_count": null,
      "metadata": {
        "id": "765VfaRwx5Q_",
        "outputId": "9b723d29-60eb-44c5-d5c4-044376cb830d"
      },
      "outputs": [
        {
          "data": {
            "image/png": "[encoded data removed]",
            "text/plain": [
              "<Figure size 1080x720 with 9 Axes>"
            ]
          },
          "metadata": {
            "needs_background": "light"
          },
          "output_type": "display_data"
        }
      ],
      "source": [
        "# Plotting Histogram for autos\n",
        "hist = autos.hist(bins=12, figsize = (15,10))"
      ]
    },
    {
      "cell_type": "code",
      "execution_count": null,
      "metadata": {
        "id": "lbn7gKFAx5Q_",
        "outputId": "ef914b75-6a74-4f09-9942-702ff5d2be07"
      },
      "outputs": [
        {
          "data": {
            "text/plain": [
              "DateCrawled           0.000000\n",
              "Price                 0.000000\n",
              "VehicleType          10.579368\n",
              "RegistrationYear      0.000000\n",
              "Gearbox               5.596709\n",
              "Power                 0.000000\n",
              "Model                 5.560588\n",
              "Kilometer             0.000000\n",
              "RegistrationMonth     0.000000\n",
              "FuelType              9.282697\n",
              "Brand                 0.000000\n",
              "Repaired             20.079070\n",
              "DateCreated           0.000000\n",
              "NumberOfPictures      0.000000\n",
              "PostalCode            0.000000\n",
              "LastSeen              0.000000\n",
              "dtype: float64"
            ]
          },
          "execution_count": 8,
          "metadata": {},
          "output_type": "execute_result"
        }
      ],
      "source": [
        "# Оценим количество пропусков в %\n",
        "autos.isna().mean()*100"
      ]
    },
    {
      "cell_type": "code",
      "execution_count": null,
      "metadata": {
        "scrolled": true,
        "id": "X5v6XgQEx5RA",
        "outputId": "457e3c86-9184-45d1-a97d-829bddb27bc4"
      },
      "outputs": [
        {
          "name": "stdout",
          "output_type": "stream",
          "text": [
            "Уникальные значения столбца DateCrawled\n",
            "['2016-03-24 11:52:17' '2016-03-24 10:58:45' '2016-03-14 12:52:21' ...\n",
            " '2016-03-21 09:50:58' '2016-03-14 17:48:27' '2016-03-19 18:57:12']\n",
            "Уникальные значения столбца Price\n",
            "[  480 18300  9800 ... 12395 18429 10985]\n",
            "Уникальные значения столбца VehicleType\n",
            "[nan 'coupe' 'suv' 'small' 'sedan' 'convertible' 'bus' 'wagon' 'other']\n",
            "Уникальные значения столбца RegistrationYear\n",
            "[1993 2011 2004 2001 2008 1995 1980 2014 1998 2005 1910 2016 2007 2009\n",
            " 2002 2018 1997 1990 2017 1981 2003 1994 1991 1984 2006 1999 2012 2010\n",
            " 2000 1992 2013 1996 1985 1989 2015 1982 1976 1983 1973 1111 1969 1971\n",
            " 1987 1986 1988 1970 1965 1945 1925 1974 1979 1955 1978 1972 1968 1977\n",
            " 1961 1960 1966 1975 1963 1964 5000 1954 1958 1967 1959 9999 1956 3200\n",
            " 1000 1941 8888 1500 2200 4100 1962 1929 1957 1940 3000 2066 1949 2019\n",
            " 1937 1951 1800 1953 1234 8000 5300 9000 2900 6000 5900 5911 1933 1400\n",
            " 1950 4000 1948 1952 1200 8500 1932 1255 3700 3800 4800 1942 7000 1935\n",
            " 1936 6500 1923 2290 2500 1930 1001 9450 1944 1943 1934 1938 1688 2800\n",
            " 1253 1928 1919 5555 5600 1600 2222 1039 9996 1300 8455 1931 1915 4500\n",
            " 1920 1602 7800 9229 1947 1927 7100 8200 1946 7500 3500]\n",
            "Уникальные значения столбца Gearbox\n",
            "['manual' 'auto' nan]\n",
            "Уникальные значения столбца Power\n",
            "[    0   190   163    75    69   102   109    50   125   101   105   140\n",
            "   115   131    60   136   160   231    90   118   193    99   113   218\n",
            "   122   129    70   306    95    61   177    80   170    55   143    64\n",
            "   286   232   150   156    82   155    54   185    87   180    86    84\n",
            "   224   235   200   178   265    77   110   144   120   116   184   126\n",
            "   204    88   194   305   197   179   250    45   313    41   165    98\n",
            "   130   114   211    56   201   213    58   107    83   174   100   220\n",
            "    85    73   192    68    66   299    74    52   147    65   310    71\n",
            "    97   239   203     5   300   103   258   320    63    81   148    44\n",
            "   145   230   280   260   104   188   333   186   117   141    59   132\n",
            "   234   158    39    92    51   135    53   209    43   146    67   106\n",
            "   166   276   344    72   249   237   245   111   326   279    23   138\n",
            "   175    96   226    26    37   301   334   128   133   124    33   219\n",
            "   241   167    94   182   196   238  1398   228   112    48   272   139\n",
            "  1799    40   240    79   256   360   243   375   252   396   340   108\n",
            "   121   345   187   289   222   198   284   450   233   387   152   347\n",
            "   172    57   137   212   476   314    30     7    47   173   290   207\n",
            "   205   171   750    78    91    89   349   325    76   151   350   953\n",
            "    93   142   500   343   199   119   164    16   264   367   208   210\n",
            "    46   435  1001   225   127   176   161   603   307   354    35   206\n",
            "   771   355   273   223   255   123   154   149  7515  1400   268   620\n",
            "   169   400   275    34     2   242  1779   285   162   328  1753   329\n",
            "   134   420   247   168 10317   215    18   330   283    62    10   214\n",
            "   183   254    15   321   322   315   952   600   181   426   599   379\n",
            "   999    22   157    42   195   553     4   309   507   381   271   440\n",
            "   189   401  1111  2729    21   236  1240  1704   521     1  1900   270\n",
            "    24   159   292   808   515  1200   303    29    38  1993    14   216\n",
            "   610   504    49   267   331   363   261   385  1011   253   696 10520\n",
            "   376   227   311    27   217    20  1999    11  1056    25   394    12\n",
            "   298   296  1659   294   551  6920   246    17  1800  1625   368   390\n",
            "   221  1367   259   606   327  2017  1597   266   374   392     9   405\n",
            "    13   262   601   430   295     8   411   900   541  7512   382 10218\n",
            "  7544  1102   287    19   751   297  1090   457   282   602   388     6\n",
            "  1000  5411   335  1360   202  3750   805  1062  1024 11530   364  1796\n",
            "  5000   269   460  1002   288  1780 12012 17932   316  2005  1399   191\n",
            "   278  1300   380   257   449  1256   153  1653   520   560   281 12510\n",
            "     3  1500   386    32  1202  2016  1436  1405   671   274  1288  1055\n",
            " 10912 15016  6226  1115   277  1105   341  1223  2340  8404  1968   338\n",
            "   445  1920   370   517  4400 10710 10522  9010   431  1164 11509   371\n",
            "  1501   428 11635    36   304   348  1703  1910  1995   579 10000   580\n",
            "   408    31  1005   358  1403   489  5575 19211   585   960   365   353\n",
            "   490   352  1801   346   550  3199   800  7508  1312   357  1937   950\n",
            "  4700  1600  3454 19208   251   850   337   700  8011  2331  2789   487\n",
            "   519  2461  6006  3500  5815  6018  1781  1503   612  1596   229  1506\n",
            "  5809 15020  5867  2172  1598 17410  1363   584  1054   851  1339   318\n",
            "   510   525  1700    28  1151   685  6011   317   703  1771 15001   514\n",
            "   362   332   324  6045   530   425   308  6010   475   903   640  2000\n",
            "   248   651  2799 17011   505  1103  1521   351 16051   398  9000  1998\n",
            " 10311   409  1230 17019 12684  8259  1895   901  1317   871   909  2201\n",
            "  1595   776 17700 11011  1199   459  1162  1120 15033  1896   339   361\n",
            "   574  6512   454   650 13616   604   607 16312  1082   336 20000   416\n",
            "   678  6012  1401  1021  1870 13636  1250  9710   323  1158  2009   902\n",
            "  6062  1275   572   244   399  1016   743  1221  2402 16011  1362   544\n",
            "   645   907   702 12512  1986  1003  1432  9013  9011   442  1017  1394\n",
            " 15017 10910  1992   540  2018 11025  1433  1701  2792  1502  1239  1390\n",
            " 14009  1160  1351 11111  1783  9007   923  1149   754  1988   402  2004\n",
            "  5420  1793  1324   356  7511  1299   293 19312  1079  1689   998  1100\n",
            "  9012  1933   508 16311   682  1252  1922  7529   732  2389  2200  1707\n",
            "  1416  8500  1012   485  3000 10110   421  4507  1631  7518   377  1004\n",
            "  2007  2598  1548  1241]\n",
            "Уникальные значения столбца Model\n",
            "['golf' nan 'grand' 'fabia' '3er' '2_reihe' 'other' 'c_max' '3_reihe'\n",
            " 'passat' 'navara' 'ka' 'polo' 'twingo' 'a_klasse' 'scirocco' '5er'\n",
            " 'meriva' 'arosa' 'c4' 'civic' 'transporter' 'punto' 'e_klasse' 'clio'\n",
            " 'kadett' 'kangoo' 'corsa' 'one' 'fortwo' '1er' 'b_klasse' 'signum'\n",
            " 'astra' 'a8' 'jetta' 'fiesta' 'c_klasse' 'micra' 'vito' 'sprinter' '156'\n",
            " 'escort' 'forester' 'xc_reihe' 'scenic' 'a4' 'a1' 'insignia' 'combo'\n",
            " 'focus' 'tt' 'a6' 'jazz' 'omega' 'slk' '7er' '80' '147' '100' 'z_reihe'\n",
            " 'sportage' 'sorento' 'v40' 'ibiza' 'mustang' 'eos' 'touran' 'getz' 'a3'\n",
            " 'almera' 'megane' 'lupo' 'r19' 'zafira' 'caddy' 'mondeo' 'cordoba' 'colt'\n",
            " 'impreza' 'vectra' 'berlingo' 'tiguan' 'i_reihe' 'espace' 'sharan'\n",
            " '6_reihe' 'panda' 'up' 'seicento' 'ceed' '5_reihe' 'yeti' 'octavia' 'mii'\n",
            " 'rx_reihe' '6er' 'modus' 'fox' 'matiz' 'beetle' 'c1' 'rio' 'touareg'\n",
            " 'logan' 'spider' 'cuore' 's_max' 'a2' 'galaxy' 'c3' 'viano' 's_klasse'\n",
            " '1_reihe' 'avensis' 'roomster' 'sl' 'kaefer' 'santa' 'cooper' 'leon'\n",
            " '4_reihe' 'a5' '500' 'laguna' 'ptcruiser' 'clk' 'primera' 'x_reihe'\n",
            " 'exeo' '159' 'transit' 'juke' 'qashqai' 'carisma' 'accord' 'corolla'\n",
            " 'lanos' 'phaeton' 'verso' 'swift' 'rav' 'picanto' 'boxster' 'kalos'\n",
            " 'superb' 'stilo' 'alhambra' 'mx_reihe' 'roadster' 'ypsilon' 'cayenne'\n",
            " 'galant' 'justy' '90' 'sirion' 'crossfire' 'agila' 'duster' 'cr_reihe'\n",
            " 'v50' 'c_reihe' 'v_klasse' 'm_klasse' 'yaris' 'c5' 'aygo' 'cc' 'carnival'\n",
            " 'fusion' '911' 'bora' 'forfour' 'm_reihe' 'cl' 'tigra' '300c' 'spark'\n",
            " 'v70' 'kuga' 'x_type' 'ducato' 's_type' 'x_trail' 'toledo' 'altea'\n",
            " 'voyager' 'calibra' 'bravo' 'antara' 'tucson' 'citigo' 'jimny' 'wrangler'\n",
            " 'lybra' 'q7' 'lancer' 'captiva' 'c2' 'discovery' 'freelander' 'sandero'\n",
            " 'note' '900' 'cherokee' 'clubman' 'samara' 'defender' '601' 'cx_reihe'\n",
            " 'legacy' 'pajero' 'auris' 'niva' 's60' 'nubira' 'vivaro' 'g_klasse'\n",
            " 'lodgy' '850' 'range_rover' 'q3' 'serie_2' 'glk' 'charade' 'croma'\n",
            " 'outlander' 'doblo' 'musa' 'move' '9000' 'v60' '145' 'aveo' '200' 'b_max'\n",
            " 'range_rover_sport' 'terios' 'rangerover' 'q5' 'range_rover_evoque'\n",
            " 'materia' 'delta' 'gl' 'kalina' 'amarok' 'elefantino' 'i3' 'kappa'\n",
            " 'serie_3' 'serie_1']\n",
            "Уникальные значения столбца Kilometer\n",
            "[150000 125000  90000  40000  30000  70000   5000 100000  60000  20000\n",
            "  80000  50000  10000]\n",
            "Уникальные значения столбца RegistrationMonth\n",
            "[ 0  5  8  6  7 10 12 11  2  3  1  4  9]\n",
            "Уникальные значения столбца FuelType\n",
            "['petrol' 'gasoline' nan 'lpg' 'other' 'hybrid' 'cng' 'electric']\n",
            "Уникальные значения столбца Brand\n",
            "['volkswagen' 'audi' 'jeep' 'skoda' 'bmw' 'peugeot' 'ford' 'mazda'\n",
            " 'nissan' 'renault' 'mercedes_benz' 'opel' 'seat' 'citroen' 'honda' 'fiat'\n",
            " 'mini' 'smart' 'hyundai' 'sonstige_autos' 'alfa_romeo' 'subaru' 'volvo'\n",
            " 'mitsubishi' 'kia' 'suzuki' 'lancia' 'toyota' 'chevrolet' 'dacia'\n",
            " 'daihatsu' 'trabant' 'saab' 'chrysler' 'jaguar' 'daewoo' 'porsche'\n",
            " 'rover' 'land_rover' 'lada']\n",
            "Уникальные значения столбца Repaired\n",
            "[nan 'yes' 'no']\n",
            "Уникальные значения столбца DateCreated\n",
            "['2016-03-24 00:00:00' '2016-03-14 00:00:00' '2016-03-17 00:00:00'\n",
            " '2016-03-31 00:00:00' '2016-04-04 00:00:00' '2016-04-01 00:00:00'\n",
            " '2016-03-21 00:00:00' '2016-03-26 00:00:00' '2016-04-07 00:00:00'\n",
            " '2016-03-15 00:00:00' '2016-03-11 00:00:00' '2016-03-20 00:00:00'\n",
            " '2016-03-23 00:00:00' '2016-03-27 00:00:00' '2016-03-12 00:00:00'\n",
            " '2016-03-13 00:00:00' '2016-03-18 00:00:00' '2016-03-10 00:00:00'\n",
            " '2016-03-07 00:00:00' '2016-03-09 00:00:00' '2016-03-08 00:00:00'\n",
            " '2016-04-03 00:00:00' '2016-03-29 00:00:00' '2016-03-25 00:00:00'\n",
            " '2016-03-28 00:00:00' '2016-03-30 00:00:00' '2016-03-22 00:00:00'\n",
            " '2016-02-09 00:00:00' '2016-03-05 00:00:00' '2016-04-02 00:00:00'\n",
            " '2016-03-16 00:00:00' '2016-03-19 00:00:00' '2016-04-05 00:00:00'\n",
            " '2016-03-06 00:00:00' '2016-02-12 00:00:00' '2016-03-03 00:00:00'\n",
            " '2016-03-01 00:00:00' '2016-03-04 00:00:00' '2016-04-06 00:00:00'\n",
            " '2016-02-15 00:00:00' '2016-02-24 00:00:00' '2016-02-27 00:00:00'\n",
            " '2015-03-20 00:00:00' '2016-02-28 00:00:00' '2016-02-17 00:00:00'\n",
            " '2016-01-27 00:00:00' '2016-02-20 00:00:00' '2016-02-29 00:00:00'\n",
            " '2016-02-10 00:00:00' '2016-02-23 00:00:00' '2016-02-21 00:00:00'\n",
            " '2015-11-02 00:00:00' '2016-02-19 00:00:00' '2016-02-26 00:00:00'\n",
            " '2016-02-11 00:00:00' '2016-01-10 00:00:00' '2016-02-06 00:00:00'\n",
            " '2016-02-18 00:00:00' '2016-01-29 00:00:00' '2016-03-02 00:00:00'\n",
            " '2015-12-06 00:00:00' '2016-01-24 00:00:00' '2016-01-30 00:00:00'\n",
            " '2016-02-02 00:00:00' '2016-02-16 00:00:00' '2016-02-13 00:00:00'\n",
            " '2016-02-05 00:00:00' '2016-02-22 00:00:00' '2015-11-17 00:00:00'\n",
            " '2014-03-10 00:00:00' '2016-02-07 00:00:00' '2016-01-23 00:00:00'\n",
            " '2016-02-25 00:00:00' '2016-02-14 00:00:00' '2016-01-02 00:00:00'\n",
            " '2015-09-04 00:00:00' '2015-11-12 00:00:00' '2015-12-27 00:00:00'\n",
            " '2015-11-24 00:00:00' '2016-01-20 00:00:00' '2016-02-03 00:00:00'\n",
            " '2015-12-05 00:00:00' '2015-08-07 00:00:00' '2016-01-28 00:00:00'\n",
            " '2016-01-31 00:00:00' '2016-02-08 00:00:00' '2016-01-07 00:00:00'\n",
            " '2016-01-22 00:00:00' '2016-01-18 00:00:00' '2016-01-08 00:00:00'\n",
            " '2015-11-23 00:00:00' '2016-01-13 00:00:00' '2016-01-17 00:00:00'\n",
            " '2016-01-15 00:00:00' '2015-11-08 00:00:00' '2016-01-26 00:00:00'\n",
            " '2016-02-04 00:00:00' '2016-01-25 00:00:00' '2016-01-16 00:00:00'\n",
            " '2015-08-10 00:00:00' '2016-01-03 00:00:00' '2016-01-19 00:00:00'\n",
            " '2015-12-30 00:00:00' '2016-02-01 00:00:00' '2015-12-17 00:00:00'\n",
            " '2015-11-10 00:00:00' '2016-01-06 00:00:00' '2015-09-09 00:00:00'\n",
            " '2015-06-18 00:00:00']\n",
            "Уникальные значения столбца NumberOfPictures\n",
            "[0]\n",
            "Уникальные значения столбца PostalCode\n",
            "[70435 66954 90480 ... 38528 38325 31096]\n",
            "Уникальные значения столбца LastSeen\n",
            "['2016-04-07 03:16:57' '2016-04-07 01:46:50' '2016-04-05 12:47:46' ...\n",
            " '2016-03-19 20:44:43' '2016-03-29 10:17:23' '2016-03-21 10:42:49']\n"
          ]
        }
      ],
      "source": [
        "# Определим уникальные значения признаков\n",
        "def rows(data):\n",
        "    for column in data.columns:\n",
        "        print('Уникальные значения столбца', column)\n",
        "        print(data[column].unique())\n",
        "rows(autos)"
      ]
    },
    {
      "cell_type": "code",
      "execution_count": null,
      "metadata": {
        "id": "KEHUetBlx5RA",
        "outputId": "5a699738-c133-4ac2-dd97-25c592db6b58"
      },
      "outputs": [
        {
          "data": {
            "text/plain": [
              "4"
            ]
          },
          "execution_count": 10,
          "metadata": {},
          "output_type": "execute_result"
        }
      ],
      "source": [
        "autos.duplicated().sum()"
      ]
    },
    {
      "cell_type": "markdown",
      "metadata": {
        "id": "CH21ow-2x5RB"
      },
      "source": [
        "Дубликаты значений объектов могут быть в данной базе, удалять их не смысла."
      ]
    },
    {
      "cell_type": "markdown",
      "metadata": {
        "id": "Ke43TUnMx5RB"
      },
      "source": [
        "Выводы из анализа данных\n",
        "\n",
        "* Датафрейм содержит 354369 строк, 16 признаков, 7 из которых являются 64-битными целочисленными, а 9 типа object. Целевым является целочисленный признак Price.\n",
        "* В данных есть пропуски. Их количество в разных признаках до 20% от всего количества. Заменим их на no_value. Данные значения можно предсказать на основании похожих данных, но лучше оставить этот процесс моделям.\n",
        "* Категориальные признаки VehicleType, FuelType и Model имеют значения other. Для моделей это будет аналогом no_value. Не будем их смешивать. Как вариант, если не будет найдено решение с нужной скоростью предсказания, можно совместить. А также можно отнести к этой группе значения параметров менее 0,5%. Точность предсказания, это сильно не изменит, а скорость вероятно.\n",
        "* Эти признаки неинформативны при определении цены машины:\n",
        "-- DateCrawled — дата скачивания анкеты из базы;\n",
        "-- RegistrationMonth — месяц регистрации автомобиля. Есть еще год регистрации. Вряд ли в течение года сильные колебания цены. Но как вариант, если точности не хватит, можно вернуть этот параметр.\n",
        "-- DateCreated — дата создания анкеты.\n",
        "-- NumberOfPictures — количество фото авто. Признак содержит только нули, поэтому использовать не получится.\n",
        "-- PostalCode — почтовый индекс. вряд ли имеет сильное значение.\n",
        "-- LastSeen — дата последней активности пользователя.\n",
        "* Числовые данные не распределены нормально и имеют выбросы, надо их скорректировать.\n",
        "* Анализ текстовых категриальных признаков Model и Brand выявил неявное совпадение значений range_rover и rangerover в признаке Model. Эти значения следует объеденить в range_rover.\n",
        "\n",
        "Данные с пропусками:\n",
        "- VehicleType — тип автомобильного кузова;\n",
        "- Gearbox — тип коробки передач\n",
        "- Model — модель автомобиля\n",
        "- FuelType — тип топлива\n",
        "- Repaired — была машина в ремонте или нет\n",
        "Все признаки с пропусками категориального типа object. Для них будет использована категория no_value, указывающая на отсутствие значений.\n",
        "\n",
        "Ненормальности в данных:\n",
        "\n",
        "Признак RegistrationYear содержит значения с годами производства автомобилей меньше 1900 года и больше 2023 года. Восстановить их невозможно.\n",
        "Признак Power содержит значения с мощностью двигателя выходящую за пределы адекватных значений. Можно восстановить через таблицу соответствий бренда, модели."
      ]
    },
    {
      "cell_type": "markdown",
      "metadata": {
        "id": "89UygCJSx5RB"
      },
      "source": [
        "<div class=\"alert alert-success\">\n",
        "<h2> Комментарий ревьюера <a class=\"tocSkip\"> </h2>\n",
        "\n",
        "<b>Все отлично!👍:</b> Хороший первичный анализ данных."
      ]
    },
    {
      "cell_type": "markdown",
      "metadata": {
        "id": "MMFooFHxx5RC"
      },
      "source": [
        "<div class=\"alert alert-warning\">\n",
        "    <h2> Комментарий ревьюера <a class=\"tocSkip\"> </h2>\n",
        "    \n",
        "<b>Некоторые замечания и рекомендации⚠️:</b>\n",
        "        \n",
        "Обрати внимание на ряд неявных дубликатов:\n",
        "        \n",
        "1. `FuelType` - значения `petrol` и `gasoline` по сути означают одно и то же, можно привести к одной форме.\n",
        "        \n",
        "~2. `Model` - значения `rangerover` и `range_rover` аналогично характеризуют одну модель, можно также привести к одной форме.~ - сделано далее:)"
      ]
    },
    {
      "cell_type": "markdown",
      "metadata": {
        "id": "CIhCskN2x5RC"
      },
      "source": [
        "<div class=\"alert alert-info\">\n",
        "<h2> Комментарий студента 1 <a class=\"tocSkip\"> </h2>\n",
        "\n",
        "\"FuelType - значения petrol и gasoline по сути означают одно и то же, можно привести к одной форме.\" - выполнил в п. 1.3.2.5\n",
        "</div>\n",
        "    "
      ]
    },
    {
      "cell_type": "markdown",
      "metadata": {
        "id": "bbS8Ume0x5RC"
      },
      "source": [
        "<div class=\"alert alert-success\">\n",
        "<h2> Комментарий ревьюера v.2 <a class=\"tocSkip\"> </h2>\n",
        "\n",
        "<b>Все отлично!👍:</b> Учтено."
      ]
    },
    {
      "cell_type": "markdown",
      "metadata": {
        "id": "unb88NPsx5RC"
      },
      "source": [
        "###  Предобработка данных"
      ]
    },
    {
      "cell_type": "markdown",
      "metadata": {
        "id": "6r834Sztx5RC"
      },
      "source": [
        "Значимые признаки:\n",
        "\n",
        "* VehicleType. Тип машины, сложность конструкции - влияет на цену.\n",
        "* Gearbox. Наличие автоматической коробки передач - влияет на цену.\n",
        "* Power. Мощность в лошадиных силах (далее л.с.) напрямую влияют на цену.\n",
        "* Kilometer. Обратно пропорциональная зависиммость: чем больше километров проехала машина, тем ниже цена.\n",
        "* FuelType. Тип топлива определяет конструкцию двигателя, а значит коррелирует с ценой.\n",
        "* Brand. Как правило показывает качество и надежность автомобиля.\n",
        "* Repaired. Если такое событие случалось, то машина подвергалась изменениям и ее надежность ниже.\n",
        "* RegistrationYear. Год регистрации. Чем больше возраст, тем меньше цена.\n",
        "* Model. Может влиять на популярность у покупателей.\n",
        "* DateCreated. Дата создания анкеты"
      ]
    },
    {
      "cell_type": "markdown",
      "metadata": {
        "id": "j2AfYfcJx5RD"
      },
      "source": [
        "#### Удалим неинформативные признаки\n",
        "\n",
        "На целевой признак (Price), не оказывают существенного влияния признаки:\n",
        "\n",
        "* PostalCode — почтовый индекс владельца анкеты (пользователя)\n",
        "* LastSeen — дата последней активности пользователя\n",
        "* NumberOfPictures — количество фотографий автомобиля\n",
        "* DateCrawled — дата скачивания анкеты из базы (у нас останется столбец DateCreated — дата создания анкеты)\n",
        "* RegistrationMonth — месяц регистрации автомобиля\n",
        "\n",
        "Удалим их, чтобы модели обучались корректней и быстрее."
      ]
    },
    {
      "cell_type": "code",
      "execution_count": null,
      "metadata": {
        "id": "7Xm9-UmNx5RD"
      },
      "outputs": [],
      "source": [
        "autos = autos.drop(['PostalCode', 'LastSeen', 'NumberOfPictures', 'DateCrawled', 'RegistrationMonth', 'DateCreated'], axis=1)"
      ]
    },
    {
      "cell_type": "markdown",
      "metadata": {
        "id": "U-qdNKPIx5RD"
      },
      "source": [
        "<div class=\"alert alert-success\">\n",
        "<h2> Комментарий ревьюера <a class=\"tocSkip\"> </h2>\n",
        "\n",
        "<b>Все отлично!👍:</b> Лишние признаки определены корректно."
      ]
    },
    {
      "cell_type": "markdown",
      "metadata": {
        "id": "RSjG2-R_x5RE"
      },
      "source": [
        "#### Оработка аномальных значений, замены"
      ]
    },
    {
      "cell_type": "markdown",
      "metadata": {
        "id": "Oy1sz-cCx5RE"
      },
      "source": [
        "* В столбце RegistrationYear - некорректные значения года регистрации.<br>\n",
        "* В столбце Power присутствуют некорректные значения мощностей.<br>\n",
        "* Пропуски есть в 5 категориальных столбцах: VehicleType (тип автомобильного кузова), Gearbox (тип коробки передач), Model (модель автомобиля), FuelType (тип топлива), Repaired (была машина в ремонте или нет)."
      ]
    },
    {
      "cell_type": "markdown",
      "metadata": {
        "id": "J52P0OEjx5RE"
      },
      "source": [
        "##### Коррекция годов регистрации"
      ]
    },
    {
      "cell_type": "code",
      "execution_count": null,
      "metadata": {
        "id": "9U_iz2j9x5RE",
        "outputId": "a1bd5db9-0b32-4091-931e-dfb8cd1b4b3d"
      },
      "outputs": [
        {
          "data": {
            "text/plain": [
              "354369"
            ]
          },
          "execution_count": 12,
          "metadata": {},
          "output_type": "execute_result"
        }
      ],
      "source": [
        "del_0 = autos.shape[0]\n",
        "del_0"
      ]
    },
    {
      "cell_type": "markdown",
      "metadata": {
        "id": "OwouFpwJx5RF"
      },
      "source": [
        "Дата регистрации авто не может быть позднее даты создания анкеты"
      ]
    },
    {
      "cell_type": "code",
      "execution_count": null,
      "metadata": {
        "id": "RsJvE6DZx5RF"
      },
      "outputs": [],
      "source": [
        "# Ограничим максимальную дату регистрации автомобиля - датой создания анкеты\n",
        "autos = autos[((autos['RegistrationYear'] > 1950) & (autos['RegistrationYear'] <= 2016))]"
      ]
    },
    {
      "cell_type": "markdown",
      "metadata": {
        "id": "z6DGlXNpx5RM"
      },
      "source": [
        "<div class=\"alert alert-success\">\n",
        "<h2> Комментарий ревьюера <a class=\"tocSkip\"> </h2>\n",
        "\n",
        "<b>Все отлично!👍:</b> По году регистрации фильтрация выполнена верно."
      ]
    },
    {
      "cell_type": "code",
      "execution_count": null,
      "metadata": {
        "id": "yhEfrSFzx5RN",
        "outputId": "88e1ffc9-9b27-4171-e9c0-bbf75591b934"
      },
      "outputs": [
        {
          "data": {
            "image/png": "[encoded data removed]",
            "text/plain": [
              "<Figure size 864x144 with 1 Axes>"
            ]
          },
          "metadata": {
            "needs_background": "light"
          },
          "output_type": "display_data"
        },
        {
          "data": {
            "text/plain": [
              "2000    24490\n",
              "1999    22728\n",
              "2005    22109\n",
              "2001    20124\n",
              "2006    19900\n",
              "2003    19763\n",
              "2004    19611\n",
              "2002    19092\n",
              "1998    17899\n",
              "2007    17183\n",
              "Name: RegistrationYear, dtype: int64"
            ]
          },
          "execution_count": 14,
          "metadata": {},
          "output_type": "execute_result"
        }
      ],
      "source": [
        "plt.title('Гистограмма распределения признака RegistrationYear')\n",
        "plt.xlabel('Год регистрации авто')\n",
        "plt.ylabel('Количество авто в группе')\n",
        "autos['RegistrationYear'].hist(bins=60, figsize=(12,2))\n",
        "plt.show()\n",
        "\n",
        "autos['RegistrationYear'].value_counts().head(10)"
      ]
    },
    {
      "cell_type": "markdown",
      "metadata": {
        "id": "umGTESXXx5RN"
      },
      "source": [
        "<div class=\"alert alert-info\">\n",
        "<h2> Комментарий студента 1 <a class=\"tocSkip\"> </h2>\n",
        "\n",
        "Подписал оси и добавил название\n",
        "</div>\n",
        "    "
      ]
    },
    {
      "cell_type": "markdown",
      "metadata": {
        "id": "tZISnlZQx5RN"
      },
      "source": [
        "<div class=\"alert alert-block alert-danger\">\n",
        "<h2> Комментарий ревьюера <a class=\"tocSkip\"></h2>\n",
        "\n",
        "    \n",
        "<b>На доработку❌:</b>\n",
        "\n",
        "При работе с графиками важно соблюдать следующие правила:\n",
        "1. Стоит подписать названия осей X и Y.\n",
        "2. Также стоит дать название графику.\n",
        "3. Технические комментарии типа `<AxesSubplot:xlabel='datetime'>` стоит убирать - это можно сделать, поставив точку с запятой в последней строке кода в блоке визуализации, либо сделать последней строкой кода этого блока метод `plt.show()`.\n",
        "4. Графики нужно сделать больше - графики дефолтного размера не очень удобны для чтения. Удобнее будет настроить параметр `plt.rcParams[\"figure.figsize\"] = (x,y)` сразу в ячейке импорта библиотек, и все графики проекта будут одного размера.\n",
        "        \n",
        "Несколько таких нехитрых приёмов очень повысят ценность твоей визуализации:)\n",
        "        \n",
        "Убедись, пожалуйста, что графики в твоём проекте соответствуют этим правилам.\n",
        "</div>"
      ]
    },
    {
      "cell_type": "markdown",
      "metadata": {
        "id": "405q1yj8x5RN"
      },
      "source": [
        "<div class=\"alert alert-success\">\n",
        "<h2> Комментарий ревьюера v.2 <a class=\"tocSkip\"> </h2>\n",
        "\n",
        "<b>Все отлично!👍:</b> Учтено."
      ]
    },
    {
      "cell_type": "code",
      "execution_count": null,
      "metadata": {
        "id": "Vf7nm1RCx5RO",
        "outputId": "3e685d6e-6a74-4036-eed6-d00071cd0d20"
      },
      "outputs": [
        {
          "data": {
            "text/plain": [
              "4.174744404843539"
            ]
          },
          "execution_count": 15,
          "metadata": {},
          "output_type": "execute_result"
        }
      ],
      "source": [
        "# Процент удалённых данных\n",
        "del_1 = autos.shape[0]\n",
        "(del_0 - del_1)*100 / del_0"
      ]
    },
    {
      "cell_type": "markdown",
      "metadata": {
        "id": "lgYq7BFDx5RO"
      },
      "source": [
        "##### Price — цена (евро). Удаление некорректных цен\n",
        "Удалим значения цен Price < 1% процентиля"
      ]
    },
    {
      "cell_type": "code",
      "execution_count": null,
      "metadata": {
        "id": "n09Id3Zdx5RO",
        "outputId": "4a199dab-d5fa-4919-af9b-f175032a7e78"
      },
      "outputs": [
        {
          "data": {
            "image/png": "[encoded data removed]",
            "text/plain": [
              "<Figure size 432x288 with 1 Axes>"
            ]
          },
          "metadata": {
            "needs_background": "light"
          },
          "output_type": "display_data"
        },
        {
          "data": {
            "text/plain": [
              "count    339575.000000\n",
              "mean       4471.410348\n",
              "std        4545.055774\n",
              "min           0.000000\n",
              "25%        1100.000000\n",
              "50%        2799.000000\n",
              "75%        6500.000000\n",
              "max       20000.000000\n",
              "Name: Price, dtype: float64"
            ]
          },
          "execution_count": 16,
          "metadata": {},
          "output_type": "execute_result"
        }
      ],
      "source": [
        "plt.title('Ящик с усами для целевого признака Price')\n",
        "plt.ylabel('Цена (евро)')\n",
        "autos.boxplot('Price')\n",
        "plt.show()\n",
        "autos['Price'].describe()"
      ]
    },
    {
      "cell_type": "markdown",
      "metadata": {
        "id": "JUld2i4Jx5RO"
      },
      "source": [
        "Данные смещены вправо. Среднее больше медианы, значит в данных много маленьких значений и есть выбросы больших значений.\n",
        "Максимальные цены доходят до 20000, что допустимо, а значит её нельзя назвать выбросами. А цены в районе нуля могут быть ошибкой. Возможно, кто-то таким образом решил избавиться от авто, но мы делаем модель предсказания цены, поэтому удалим нулевые значения."
      ]
    },
    {
      "cell_type": "code",
      "execution_count": null,
      "metadata": {
        "id": "IbJpGRSLx5RP",
        "outputId": "7f5ec786-7c7f-4e31-cd18-16d04846fcdc"
      },
      "outputs": [
        {
          "data": {
            "text/plain": [
              "6.983398660718065"
            ]
          },
          "execution_count": 17,
          "metadata": {},
          "output_type": "execute_result"
        }
      ],
      "source": [
        "autos = autos[autos['Price'] > 0]\n",
        "del_2 = autos.shape[0]\n",
        "(del_0 - del_2)*100 / del_0"
      ]
    },
    {
      "cell_type": "code",
      "execution_count": null,
      "metadata": {
        "id": "Qa3GuZpCx5RP",
        "outputId": "58137f14-6b76-40dc-b47e-8818ce97c5bc"
      },
      "outputs": [
        {
          "data": {
            "image/png": "[encoded data removed]",
            "text/plain": [
              "<Figure size 432x288 with 1 Axes>"
            ]
          },
          "metadata": {
            "needs_background": "light"
          },
          "output_type": "display_data"
        },
        {
          "data": {
            "text/plain": [
              "count    329622.000000\n",
              "mean       4606.425448\n",
              "std        4545.256118\n",
              "min           1.000000\n",
              "25%        1200.000000\n",
              "50%        2900.000000\n",
              "75%        6600.000000\n",
              "max       20000.000000\n",
              "Name: Price, dtype: float64"
            ]
          },
          "execution_count": 18,
          "metadata": {},
          "output_type": "execute_result"
        }
      ],
      "source": [
        "plt.title('Гистограмма распределения целевого признака Price')\n",
        "plt.xlabel('Цена (евро)')\n",
        "plt.ylabel('Количество')\n",
        "autos ['Price'].hist(bins=30)\n",
        "plt.show()\n",
        "autos['Price'].describe()"
      ]
    },
    {
      "cell_type": "markdown",
      "metadata": {
        "id": "X3b62t6lx5RP"
      },
      "source": [
        "<div class=\"alert alert-success\">\n",
        "<h2> Комментарий ревьюера <a class=\"tocSkip\"> </h2>\n",
        "\n",
        "<b>Все отлично!👍:</b> Удалены нулевые значения цен."
      ]
    },
    {
      "cell_type": "markdown",
      "metadata": {
        "id": "eMD_cekAx5RP"
      },
      "source": [
        "<div class=\"alert alert-warning\">\n",
        "    <h2> Комментарий ревьюера <a class=\"tocSkip\"> </h2>\n",
        "    \n",
        "<b>Некоторые замечания и рекомендации⚠️:</b>\n",
        "\n",
        "Может быть полезно также удалить неадекватно низкие значения цен: в пределах цен до 500-1000 евро вряд ли можно купить полноценный автомобиль."
      ]
    },
    {
      "cell_type": "markdown",
      "metadata": {
        "id": "95ZtrbSvx5RP"
      },
      "source": [
        "<div class=\"alert alert-info\">\n",
        "<h2> Комментарий студента 1 <a class=\"tocSkip\"> </h2>\n",
        "\n",
        "Были сомнения даже нулевые значения удалять, потому что вполне запросто могут быть машины с нулевой ценой, которые владельцы хотят утилизировать.\n",
        "</div>\n",
        "    "
      ]
    },
    {
      "cell_type": "markdown",
      "metadata": {
        "id": "aEgwrvZSx5RQ"
      },
      "source": [
        "##### Power — мощности (л. с.) - недостоверные значения\n",
        "Построим ящик с усами и выведем статистическую информацию для столбца Power."
      ]
    },
    {
      "cell_type": "code",
      "execution_count": null,
      "metadata": {
        "id": "6Gla44okx5RQ",
        "outputId": "5affa3f4-48c1-4d2a-8818-cd35593ddd73"
      },
      "outputs": [
        {
          "data": {
            "image/png": "[encoded data removed]",
            "text/plain": [
              "<Figure size 432x288 with 1 Axes>"
            ]
          },
          "metadata": {
            "needs_background": "light"
          },
          "output_type": "display_data"
        },
        {
          "data": {
            "text/plain": [
              "count    329622.000000\n",
              "mean        111.936415\n",
              "std         184.864964\n",
              "min           0.000000\n",
              "25%          71.000000\n",
              "50%         105.000000\n",
              "75%         143.000000\n",
              "max       20000.000000\n",
              "Name: Power, dtype: float64"
            ]
          },
          "execution_count": 19,
          "metadata": {},
          "output_type": "execute_result"
        }
      ],
      "source": [
        "plt.title('Ящик с усами для признака Power')\n",
        "plt.ylabel('Мощность (л. с.)')\n",
        "autos.boxplot('Power')\n",
        "plt.show()\n",
        "\n",
        "autos['Power'].describe()"
      ]
    },
    {
      "cell_type": "markdown",
      "metadata": {
        "id": "bsIqUCB7x5RQ"
      },
      "source": [
        "Атрибут Power содержит большую долю значений с мощностью двигателя выходящую за пределы известных значений: менее 0.75 л.с. и более 5000 л.с."
      ]
    },
    {
      "cell_type": "code",
      "execution_count": null,
      "metadata": {
        "id": "9RNPF7Qqx5RQ",
        "outputId": "8039b679-b5f2-44df-ddd0-485eb1db6a5a"
      },
      "outputs": [
        {
          "data": {
            "text/plain": [
              "16.25283249945678"
            ]
          },
          "execution_count": 20,
          "metadata": {},
          "output_type": "execute_result"
        }
      ],
      "source": [
        "# Оценим размер группы вне диапазона в %\n",
        "del_3 = autos[((autos['Power'] > 0.75) & (autos['Power'] <= 5000))].shape[0]\n",
        "(del_0 - del_3)*100 / del_0"
      ]
    },
    {
      "cell_type": "markdown",
      "metadata": {
        "id": "b7crmELjx5RR"
      },
      "source": [
        "Заменим пропущенные значения на достоверные данные, которые можно определить через имеющиеся в базе равные значения"
      ]
    },
    {
      "cell_type": "code",
      "execution_count": null,
      "metadata": {
        "id": "X_vpnrShx5RR",
        "outputId": "ac590244-5f42-41e3-af25-ead536d3b429"
      },
      "outputs": [
        {
          "data": {
            "text/html": [
              "<div>\n",
              "<style scoped>\n",
              "    .dataframe tbody tr th:only-of-type {\n",
              "        vertical-align: middle;\n",
              "    }\n",
              "\n",
              "    .dataframe tbody tr th {\n",
              "        vertical-align: top;\n",
              "    }\n",
              "\n",
              "    .dataframe thead th {\n",
              "        text-align: right;\n",
              "    }\n",
              "</style>\n",
              "<table border=\"1\" class=\"dataframe\">\n",
              "  <thead>\n",
              "    <tr style=\"text-align: right;\">\n",
              "      <th></th>\n",
              "      <th></th>\n",
              "      <th>Power</th>\n",
              "    </tr>\n",
              "    <tr>\n",
              "      <th>Brand</th>\n",
              "      <th>Model</th>\n",
              "      <th></th>\n",
              "    </tr>\n",
              "  </thead>\n",
              "  <tbody>\n",
              "    <tr>\n",
              "      <th rowspan=\"5\" valign=\"top\">alfa_romeo</th>\n",
              "      <th>145</th>\n",
              "      <td>103.0</td>\n",
              "    </tr>\n",
              "    <tr>\n",
              "      <th>147</th>\n",
              "      <td>120.0</td>\n",
              "    </tr>\n",
              "    <tr>\n",
              "      <th>156</th>\n",
              "      <td>150.0</td>\n",
              "    </tr>\n",
              "    <tr>\n",
              "      <th>159</th>\n",
              "      <td>165.0</td>\n",
              "    </tr>\n",
              "    <tr>\n",
              "      <th>other</th>\n",
              "      <td>150.0</td>\n",
              "    </tr>\n",
              "    <tr>\n",
              "      <th>...</th>\n",
              "      <th>...</th>\n",
              "      <td>...</td>\n",
              "    </tr>\n",
              "    <tr>\n",
              "      <th rowspan=\"5\" valign=\"top\">volvo</th>\n",
              "      <th>v40</th>\n",
              "      <td>116.0</td>\n",
              "    </tr>\n",
              "    <tr>\n",
              "      <th>v50</th>\n",
              "      <td>136.0</td>\n",
              "    </tr>\n",
              "    <tr>\n",
              "      <th>v60</th>\n",
              "      <td>163.0</td>\n",
              "    </tr>\n",
              "    <tr>\n",
              "      <th>v70</th>\n",
              "      <td>163.0</td>\n",
              "    </tr>\n",
              "    <tr>\n",
              "      <th>xc_reihe</th>\n",
              "      <td>185.0</td>\n",
              "    </tr>\n",
              "  </tbody>\n",
              "</table>\n",
              "<p>297 rows × 1 columns</p>\n",
              "</div>"
            ],
            "text/plain": [
              "                     Power\n",
              "Brand      Model          \n",
              "alfa_romeo 145       103.0\n",
              "           147       120.0\n",
              "           156       150.0\n",
              "           159       165.0\n",
              "           other     150.0\n",
              "...                    ...\n",
              "volvo      v40       116.0\n",
              "           v50       136.0\n",
              "           v60       163.0\n",
              "           v70       163.0\n",
              "           xc_reihe  185.0\n",
              "\n",
              "[297 rows x 1 columns]"
            ]
          },
          "execution_count": 21,
          "metadata": {},
          "output_type": "execute_result"
        }
      ],
      "source": [
        "# Создадим таблицу соответствия мощности в группах Brand & Model.\n",
        "power_model_median = autos.pivot_table(values='Power', index=['Brand', 'Model'], aggfunc='median')\n",
        "power_model_median"
      ]
    },
    {
      "cell_type": "code",
      "execution_count": null,
      "metadata": {
        "id": "F1PC8HZix5RR",
        "outputId": "98ec6964-bc2d-4262-e643-0d04e3604212"
      },
      "outputs": [
        {
          "name": "stdout",
          "output_type": "stream",
          "text": [
            "CPU times: user 11.1 s, sys: 15 ms, total: 11.1 s\n",
            "Wall time: 11.1 s\n"
          ]
        }
      ],
      "source": [
        "%%time\n",
        "# Заменим аномальные значения Power на значения в power_model_median\n",
        "for i in power_model_median.index:\n",
        "    autos['Power'] = np.where(\n",
        "        ((autos['Power'] < 0.75) | (autos['Power'] > 5000)) & ((autos['Brand'] == i[0]) & (autos['Model'] == i[1])),\n",
        "        power_model_median.loc[i], autos['Power']\n",
        "    )"
      ]
    },
    {
      "cell_type": "code",
      "execution_count": null,
      "metadata": {
        "id": "setoKEyKx5RS",
        "outputId": "0f2e64f1-0667-4589-8b85-ffab059e3666"
      },
      "outputs": [
        {
          "data": {
            "text/plain": [
              "1.3254576454241525"
            ]
          },
          "execution_count": 23,
          "metadata": {},
          "output_type": "execute_result"
        }
      ],
      "source": [
        "del_4 = autos[((autos['Power'] > 0.75) & (autos['Power'] <= 5000))].shape[0]\n",
        "(del_2 - del_4)*100 / del_2"
      ]
    },
    {
      "cell_type": "markdown",
      "metadata": {
        "id": "7Tcaa6GTx5RS"
      },
      "source": [
        "Не исправленных данных около 1.3%. Удалим их."
      ]
    },
    {
      "cell_type": "code",
      "execution_count": null,
      "metadata": {
        "id": "sJ2jYON8x5RS",
        "outputId": "ff713ca0-42aa-43b8-e8bb-563977781680"
      },
      "outputs": [
        {
          "data": {
            "text/plain": [
              "8.216294314683282"
            ]
          },
          "execution_count": 24,
          "metadata": {},
          "output_type": "execute_result"
        }
      ],
      "source": [
        "autos = autos[((autos['Power'] > 0.75) & (autos['Power'] <= 5000))]\n",
        "del_5 = autos.shape[0]\n",
        "(del_0 - del_5)*100 / del_0"
      ]
    },
    {
      "cell_type": "code",
      "execution_count": null,
      "metadata": {
        "id": "8irDQgFQx5RT",
        "outputId": "65903f0f-5a3c-4deb-905f-cb37ed0bc2b0"
      },
      "outputs": [
        {
          "data": {
            "image/png": "[encoded data removed]",
            "text/plain": [
              "<Figure size 432x288 with 1 Axes>"
            ]
          },
          "metadata": {
            "needs_background": "light"
          },
          "output_type": "display_data"
        },
        {
          "data": {
            "text/plain": [
              "count    325253.000000\n",
              "mean        120.310654\n",
              "std          67.575934\n",
              "min           1.000000\n",
              "25%          75.000000\n",
              "50%         110.000000\n",
              "75%         147.000000\n",
              "max        4700.000000\n",
              "Name: Power, dtype: float64"
            ]
          },
          "execution_count": 25,
          "metadata": {},
          "output_type": "execute_result"
        }
      ],
      "source": [
        "plt.title('Ящик с усами для признака Power')\n",
        "plt.ylabel('Мощность (л. с.)')\n",
        "autos.boxplot('Power')\n",
        "plt.show()\n",
        "\n",
        "autos['Power'].describe()"
      ]
    },
    {
      "cell_type": "markdown",
      "metadata": {
        "id": "7e1soBdxx5RT"
      },
      "source": [
        "<div class=\"alert alert-success\">\n",
        "<h2> Комментарий ревьюера <a class=\"tocSkip\"> </h2>\n",
        "\n",
        "<b>Все отлично!👍:</b> Аномалии в мощности обработаны."
      ]
    },
    {
      "cell_type": "markdown",
      "metadata": {
        "id": "ZH8vKZYZx5RT"
      },
      "source": [
        "<div class=\"alert alert-warning\">\n",
        "    <h2> Комментарий ревьюера <a class=\"tocSkip\"> </h2>\n",
        "    \n",
        "<b>Некоторые замечания и рекомендации⚠️:</b>\n",
        "\n",
        "Вместо замены одного значения признака в наблюдении, качество которого вызывает вопросы, лучше удалить всё наблюдение целиком - исправление одной некорректной точки в векторе не исправляет возможные ошибки в других точках вектора признаков.\n",
        "        \n",
        "Может быть полезно также удалить околонулевые значения мощности - некоторые значения этого признака в таблице напоминают, скорее, телегу с конём, чем автомобиль:)"
      ]
    },
    {
      "cell_type": "markdown",
      "metadata": {
        "id": "wnuGHbrNx5RT"
      },
      "source": [
        "<div class=\"alert alert-info\">\n",
        "<h2> Комментарий студента 1 <a class=\"tocSkip\"> </h2>\n",
        "\n",
        "Да, замена не работает. Я восстанавливал более половины пропусков, точность предсказания не менялась. Но, возможно я просто не смог правильно оценить. В данный момент повторять этот подвиг не буду.\n",
        "</div>\n",
        "    "
      ]
    },
    {
      "cell_type": "markdown",
      "metadata": {
        "id": "qM8F48H8x5RU"
      },
      "source": [
        "##### Kilometer — пробег (км)\n",
        "Выполним анализ столбца Kilometer. Построим гистограмму и выведем статистику."
      ]
    },
    {
      "cell_type": "code",
      "execution_count": null,
      "metadata": {
        "scrolled": false,
        "id": "REM16kW5x5RU",
        "outputId": "66285eb0-afc9-4b39-975f-7ce5ee26ce16"
      },
      "outputs": [
        {
          "data": {
            "image/png": "[encoded data removed]",
            "text/plain": [
              "<Figure size 432x288 with 1 Axes>"
            ]
          },
          "metadata": {
            "needs_background": "light"
          },
          "output_type": "display_data"
        },
        {
          "data": {
            "text/plain": [
              "count    325253.000000\n",
              "mean     128424.780094\n",
              "std       37159.200364\n",
              "min        5000.000000\n",
              "25%      125000.000000\n",
              "50%      150000.000000\n",
              "75%      150000.000000\n",
              "max      150000.000000\n",
              "Name: Kilometer, dtype: float64"
            ]
          },
          "execution_count": 26,
          "metadata": {},
          "output_type": "execute_result"
        }
      ],
      "source": [
        "plt.title('Гистограмма распределения признака Kilometer')\n",
        "plt.xlabel('Км')\n",
        "plt.ylabel('Количество')\n",
        "autos['Kilometer'].hist()\n",
        "plt.show()\n",
        "\n",
        "autos['Kilometer'].describe()"
      ]
    },
    {
      "cell_type": "markdown",
      "metadata": {
        "id": "oG-k5NqDx5RU"
      },
      "source": [
        "Значения адекватны"
      ]
    },
    {
      "cell_type": "markdown",
      "metadata": {
        "id": "cn6FR1jmx5RU"
      },
      "source": [
        "##### Объединение неявно совпадающих значений"
      ]
    },
    {
      "cell_type": "code",
      "execution_count": null,
      "metadata": {
        "id": "lNLp3EuQx5RV"
      },
      "outputs": [],
      "source": [
        "# Объединение неявно совпадающих значений признака \"Model\"\n",
        "autos.loc[autos['Model'] == 'rangerover', 'Model'] = 'range_rover'"
      ]
    },
    {
      "cell_type": "code",
      "execution_count": null,
      "metadata": {
        "id": "jPX3UT1Lx5RV"
      },
      "outputs": [],
      "source": [
        "# Объединение неявно совпадающих значений признака \"FuelType\" - petrol и gasoline\n",
        "autos.loc[autos['FuelType'] == 'gasoline', 'FuelType'] = 'petrol'"
      ]
    },
    {
      "cell_type": "markdown",
      "metadata": {
        "id": "KIFZeBn5x5RV"
      },
      "source": [
        "##### Обработка пропусков"
      ]
    },
    {
      "cell_type": "markdown",
      "metadata": {
        "id": "hdh0XHtkx5RV"
      },
      "source": [
        "Пропуски есть в 5 категориальных столбцах: VehicleType (тип автомобильного кузова), Gearbox (тип коробки передач), Model (модель автомобиля), FuelType (тип топлива), Repaired (была машина в ремонте или нет). Эти признаки оказывает существенное влияние на цену авто. Оценим их общее количество:"
      ]
    },
    {
      "cell_type": "code",
      "execution_count": null,
      "metadata": {
        "id": "NZYQdxvxx5RW",
        "outputId": "d7220825-dc85-4dc7-d4e0-0ee62787357e"
      },
      "outputs": [
        {
          "name": "stdout",
          "output_type": "stream",
          "text": [
            "Строки с пропускми: 82862\n",
            "Всего данных: 325253\n"
          ]
        }
      ],
      "source": [
        "print('Строки с пропускми:', autos[autos.isna().sum(axis=1) > 0].shape[0])\n",
        "print('Всего данных:', autos.shape[0])"
      ]
    },
    {
      "cell_type": "markdown",
      "metadata": {
        "id": "Ttvd7s29x5RW"
      },
      "source": [
        "Удалить строки с пропуками не получится - слишком много."
      ]
    },
    {
      "cell_type": "markdown",
      "metadata": {
        "id": "5bYW98vVx5RW"
      },
      "source": [
        "#### Оценка пропусков"
      ]
    },
    {
      "cell_type": "markdown",
      "metadata": {
        "id": "Ma7VGRbUx5RW"
      },
      "source": [
        "Можно не удалять строки с пропусками, а сделать оценку точности предсказания для разных сочетаний невведённых данных пользователем приложения. Например: \"Вы не указали модель автомобиля - ошибка в цене может достигать 500 Евро\". В данной работе эту оценку делать не будем. Оценим общее количество по категориям."
      ]
    },
    {
      "cell_type": "code",
      "execution_count": null,
      "metadata": {
        "id": "U4Sk9Iscx5RX",
        "outputId": "17887cf0-2cc3-45c7-b603-19716d90baf7"
      },
      "outputs": [
        {
          "name": "stdout",
          "output_type": "stream",
          "text": [
            "Строки с пропусками в категориях:\n",
            "1 пропуск(а,ов) в строках: 56757\n",
            "2 пропуск(а,ов) в строках: 17297\n",
            "3 пропуск(а,ов) в строках: 5319\n",
            "4 пропуск(а,ов) в строках: 3363\n",
            "5 пропуск(а,ов) в строках: 126\n"
          ]
        }
      ],
      "source": [
        "print('Строки с пропусками в категориях:')\n",
        "for omission in range(1, 6):\n",
        "    print(f'{omission} пропуск(а,ов) в строках: {autos[autos.isna().sum(axis=1) == omission].shape[0]}')"
      ]
    },
    {
      "cell_type": "code",
      "execution_count": null,
      "metadata": {
        "id": "FVjSe5qpx5RX",
        "outputId": "184eac21-a1b7-401c-ad4a-9ceb39fc06b8"
      },
      "outputs": [
        {
          "data": {
            "text/plain": [
              "Price                   0\n",
              "VehicleType         17806\n",
              "RegistrationYear        0\n",
              "Gearbox             13554\n",
              "Power                   0\n",
              "Model               11217\n",
              "Kilometer               0\n",
              "FuelType            21901\n",
              "Brand                   0\n",
              "Repaired            56912\n",
              "dtype: int64"
            ]
          },
          "execution_count": 31,
          "metadata": {},
          "output_type": "execute_result"
        }
      ],
      "source": [
        "autos.isna().sum()"
      ]
    },
    {
      "cell_type": "markdown",
      "metadata": {
        "id": "Vn7d6Qvmx5RX"
      },
      "source": [
        "#### Заменим пропуски на \"no_value\""
      ]
    },
    {
      "cell_type": "code",
      "execution_count": null,
      "metadata": {
        "id": "1Hd1WfjTx5RX",
        "outputId": "9274a3f9-ec00-410a-9272-c972443e2ec2"
      },
      "outputs": [
        {
          "data": {
            "text/plain": [
              "Price               0\n",
              "VehicleType         0\n",
              "RegistrationYear    0\n",
              "Gearbox             0\n",
              "Power               0\n",
              "Model               0\n",
              "Kilometer           0\n",
              "FuelType            0\n",
              "Brand               0\n",
              "Repaired            0\n",
              "dtype: int64"
            ]
          },
          "execution_count": 32,
          "metadata": {},
          "output_type": "execute_result"
        }
      ],
      "source": [
        "# Заменим пропуски на 'no_value'\n",
        "autos = autos.fillna('no_value')\n",
        "autos.isna().sum()"
      ]
    },
    {
      "cell_type": "markdown",
      "metadata": {
        "id": "Byf2tcggx5RY"
      },
      "source": [
        "<div class=\"alert alert-success\">\n",
        "<h2> Комментарий ревьюера <a class=\"tocSkip\"> </h2>\n",
        "\n",
        "<b>Все отлично!👍</b>\n",
        "    \n",
        "Отличное решение по обработке пропусков в категориальных признаках заглушкой - это позволит как сохранить наблюдения вместо их удаления, так и избавит нас от возможных ошибок при эмпирическом импутировании."
      ]
    },
    {
      "cell_type": "markdown",
      "metadata": {
        "id": "zdQf6Y0Ox5RY"
      },
      "source": [
        "#### Удалим дубликаты, которые появились после замены пропусков"
      ]
    },
    {
      "cell_type": "code",
      "execution_count": null,
      "metadata": {
        "id": "tYkA5y3mx5RY"
      },
      "outputs": [],
      "source": [
        "# autos.duplicated().sum()"
      ]
    },
    {
      "cell_type": "code",
      "execution_count": null,
      "metadata": {
        "id": "qFyx_TqWx5RY"
      },
      "outputs": [],
      "source": [
        "# a = autos.shape[0]"
      ]
    },
    {
      "cell_type": "code",
      "execution_count": null,
      "metadata": {
        "id": "4KijqOHyx5RZ"
      },
      "outputs": [],
      "source": [
        "# autos = autos.drop_duplicates(keep = 'first')\n",
        "# autos.duplicated().sum()"
      ]
    },
    {
      "cell_type": "code",
      "execution_count": null,
      "metadata": {
        "id": "5s8WDe93x5RZ"
      },
      "outputs": [],
      "source": [
        "# b = autos.shape[0]"
      ]
    },
    {
      "cell_type": "code",
      "execution_count": null,
      "metadata": {
        "id": "Q0vjWJOnx5RZ"
      },
      "outputs": [],
      "source": [
        "# a - b"
      ]
    },
    {
      "cell_type": "markdown",
      "metadata": {
        "id": "AcoK3VCkx5RZ"
      },
      "source": [
        "<div class=\"alert alert-info\">\n",
        "<h2> Комментарий студента 2 <a class=\"tocSkip\"> </h2>\n",
        "\n",
        "Удалим дубликаты, которые появились после замены пропусков\n",
        "</div>"
      ]
    },
    {
      "cell_type": "markdown",
      "metadata": {
        "id": "TlCj8hsOx5RZ"
      },
      "source": [
        "#### Удалим строки с тремя пропусками"
      ]
    },
    {
      "cell_type": "markdown",
      "metadata": {
        "id": "ESdek7kcx5RZ"
      },
      "source": [
        "Удалим строки, в которых есть 3 пропуска, а в приложении поставим ограничение на количество пропусков. Так мы потеряем ещё 8808 записей, что в целом немного. Это позволит давать более корректные прогнозы стоимости."
      ]
    },
    {
      "cell_type": "code",
      "execution_count": null,
      "metadata": {
        "id": "edXddyM8x5Ra",
        "outputId": "09ba166c-ef01-4b84-dfcb-9eef3ecf5409"
      },
      "outputs": [
        {
          "data": {
            "text/plain": [
              "(316445, 10)"
            ]
          },
          "execution_count": 38,
          "metadata": {},
          "output_type": "execute_result"
        }
      ],
      "source": [
        "autos = autos[autos.loc[:, :\"Repaired\"].eq('no_value').sum(axis=1) <= 2]\n",
        "autos.shape"
      ]
    },
    {
      "cell_type": "markdown",
      "metadata": {
        "id": "s6Te6R9kx5Ra"
      },
      "source": [
        "<div class=\"alert alert-success\">\n",
        "<h2> Комментарий ревьюера <a class=\"tocSkip\"> </h2>\n",
        "\n",
        "<b>Все отлично!👍</b>\n",
        "    \n",
        "В целом идея имеет мысль, но ради сохранения данных можно было бы аналогично использовать заглушку."
      ]
    },
    {
      "cell_type": "code",
      "execution_count": null,
      "metadata": {
        "id": "s_pNFuW1x5Ra",
        "outputId": "6852059f-469f-4c71-eedb-2fbd339e3712"
      },
      "outputs": [
        {
          "data": {
            "text/plain": [
              "0    242391\n",
              "1     56757\n",
              "2     17297\n",
              "dtype: int64"
            ]
          },
          "execution_count": 39,
          "metadata": {},
          "output_type": "execute_result"
        }
      ],
      "source": [
        "df = autos.loc[:, :\"Repaired\"].eq('no_value').sum(axis=1).value_counts()\n",
        "df"
      ]
    },
    {
      "cell_type": "code",
      "execution_count": null,
      "metadata": {
        "id": "t1qbXD4Bx5Ra",
        "outputId": "e52bc1af-35da-4215-b9e1-03324a5c59ac"
      },
      "outputs": [
        {
          "data": {
            "text/plain": [
              "Price                   0\n",
              "VehicleType         10598\n",
              "RegistrationYear        0\n",
              "Gearbox              8145\n",
              "Power                   0\n",
              "Model                9021\n",
              "Kilometer               0\n",
              "FuelType            14727\n",
              "Brand                   0\n",
              "Repaired            48860\n",
              "dtype: int64"
            ]
          },
          "execution_count": 40,
          "metadata": {},
          "output_type": "execute_result"
        }
      ],
      "source": [
        "autos.eq('no_value').sum()"
      ]
    },
    {
      "cell_type": "markdown",
      "metadata": {
        "id": "1xGwxWcIx5Ra"
      },
      "source": [
        "### Оценка корреляции"
      ]
    },
    {
      "cell_type": "code",
      "execution_count": null,
      "metadata": {
        "id": "_YCtmOJ0x5Rb"
      },
      "outputs": [],
      "source": [
        "# autos.phik_matrix()"
      ]
    },
    {
      "cell_type": "code",
      "execution_count": null,
      "metadata": {
        "id": "HYETIbjyx5Rb",
        "outputId": "12421db0-0572-4c6b-b9ed-713abc1551ed"
      },
      "outputs": [
        {
          "data": {
            "image/png": "[encoded data removed]",
            "text/plain": [
              "<Figure size 720x432 with 2 Axes>"
            ]
          },
          "metadata": {
            "needs_background": "light"
          },
          "output_type": "display_data"
        }
      ],
      "source": [
        "# корреляционный анализ всех признаков\n",
        "interval_cols = ['Price', 'Power']\n",
        "\n",
        "phik_overview = phik_matrix(autos, interval_cols=interval_cols)\n",
        "plot_correlation_matrix(\n",
        "    phik_overview.values,\n",
        "    x_labels=phik_overview.columns,\n",
        "    y_labels=phik_overview.index,\n",
        "    vmin=0, vmax=1, color_map='Greens',\n",
        "    title=r'correlation $\\phi_K$ autos',\n",
        "    fontsize_factor=1.0,\n",
        "    figsize=(10, 6)\n",
        ")"
      ]
    },
    {
      "cell_type": "markdown",
      "metadata": {
        "id": "5yB2IB4ux5Rb"
      },
      "source": [
        "<div class=\"alert alert-success\">\n",
        "<h2> Комментарий ревьюера <a class=\"tocSkip\"> </h2>\n",
        "\n",
        "<b>Все отлично!👍:</b> Есть анализ корреляции - молодец, что используешь `phik` для анализа и нелинейных зависимостей.\n",
        "    \n",
        "Для более эффективного анализа корреляций рекомендую использовать тепловые карты - например, `shs.heatmap()`. Также при использовании `sns.heatmap()` могу порекомендовать сочетание признаков `cmap='coolwarm', center=0, annot=True` - на мой взгляд, очень удачное сочетание цветов палитры, которая позволяет эффективно искать мультиколлинеарность."
      ]
    },
    {
      "cell_type": "markdown",
      "metadata": {
        "id": "F1iRwOllx5Rb"
      },
      "source": [
        "<div class=\"alert alert-info\">\n",
        "<h2> Комментарий студента 1 <a class=\"tocSkip\"> </h2>\n",
        "\n",
        "Настроил\n",
        "</div>\n",
        "    "
      ]
    },
    {
      "cell_type": "markdown",
      "metadata": {
        "id": "DgO1vHQ5x5Rb"
      },
      "source": [
        "<div class=\"alert alert-block alert-danger\">\n",
        "<h2> Комментарий ревьюера <a class=\"tocSkip\"></h2>\n",
        "\n",
        "    \n",
        "<b>На доработку❌:</b>\n",
        "При использовании `phik` крайне важно настроить параметр `interval_cols`, передав ему список с названиями непрерывных признаков: если этого не сделать, библиотека своими силами будет пытаться разнести признаки по типам, и она часто делает в этом ошибки - от этого в свою очередь мы получаем некорректную оценку корреляций, так как от типа признака зависит метод оценки корреляции."
      ]
    },
    {
      "cell_type": "markdown",
      "metadata": {
        "id": "NlVlCPcZx5Rc"
      },
      "source": [
        "<div class=\"alert alert-block alert-danger\">\n",
        "<h2> Комментарий ревьюера v.2 <a class=\"tocSkip\"></h2>\n",
        "\n",
        "    \n",
        "<b>На доработку❌:</b>\n",
        "    \n",
        "`Kilometer` и `RegistrationYear` - дискретные признаки, их не нужно передавать в `interval_cols`."
      ]
    },
    {
      "cell_type": "markdown",
      "metadata": {
        "id": "BNWFLvhsx5Rc"
      },
      "source": [
        "<div class=\"alert alert-info\">\n",
        "<h2> Комментарий студента 2 <a class=\"tocSkip\"> </h2>\n",
        "\n",
        "Удалил из списка interval_cols: Kilometer и RegistrationYear\n",
        "</div>\n",
        "    "
      ]
    },
    {
      "cell_type": "markdown",
      "metadata": {
        "id": "0n_R62xMx5Rc"
      },
      "source": [
        "<div class=\"alert alert-success\">\n",
        "<h2> Комментарий ревьюера v.3 <a class=\"tocSkip\"> </h2>\n",
        "\n",
        "<b>Все отлично!👍:</b> Учтено."
      ]
    },
    {
      "cell_type": "markdown",
      "metadata": {
        "id": "64cqE4iGx5Rc"
      },
      "source": [
        "* Корреляция аттрибутов между собой и с целевым признаком слабая. Наибольшей обратной корреляцией с целевым признаком обладают признаки RegistrationYear."
      ]
    },
    {
      "cell_type": "code",
      "execution_count": null,
      "metadata": {
        "id": "RUHlA5snx5Rd",
        "outputId": "a9132701-393e-44ac-ad85-426c11ea8e64"
      },
      "outputs": [
        {
          "name": "stdout",
          "output_type": "stream",
          "text": [
            "<class 'pandas.core.frame.DataFrame'>\n",
            "Int64Index: 316445 entries, 0 to 354368\n",
            "Data columns (total 10 columns):\n",
            " #   Column            Non-Null Count   Dtype  \n",
            "---  ------            --------------   -----  \n",
            " 0   Price             316445 non-null  int64  \n",
            " 1   VehicleType       316445 non-null  object \n",
            " 2   RegistrationYear  316445 non-null  int64  \n",
            " 3   Gearbox           316445 non-null  object \n",
            " 4   Power             316445 non-null  float64\n",
            " 5   Model             316445 non-null  object \n",
            " 6   Kilometer         316445 non-null  int64  \n",
            " 7   FuelType          316445 non-null  object \n",
            " 8   Brand             316445 non-null  object \n",
            " 9   Repaired          316445 non-null  object \n",
            "dtypes: float64(1), int64(3), object(6)\n",
            "memory usage: 26.6+ MB\n"
          ]
        }
      ],
      "source": [
        "autos.info()"
      ]
    },
    {
      "cell_type": "markdown",
      "metadata": {
        "id": "t6WwDq8fx5Rd"
      },
      "source": [
        "## Обучение моделей"
      ]
    },
    {
      "cell_type": "markdown",
      "metadata": {
        "id": "wbh_oNTCx5Rd"
      },
      "source": [
        "### Подготовка выборок для обучения моделей."
      ]
    },
    {
      "cell_type": "markdown",
      "metadata": {
        "id": "Moi2JRLrx5Rd"
      },
      "source": [
        "Будем обучать:\n",
        "* DecisionTreeRegressor - регрессии деревьев решений;\n",
        "* RandomForestRegressor - ансамбль деревьев, который усредняет ответы отдельных деревьев,\n",
        "* и бустинг с помощью библиотек LightGBM и CatBoost.\n",
        "Для всех моделей будем пробовать различные наборы гиперпараметров и выбирать наилучшие. Модели будем оценивать по времени обучения на обучающей выборке и RMSE и времени предсказания на валидационной выборке. Для моделей требуемого качества, будем замерять время.\n",
        "\n",
        "Для применения моделей DecisionTreeRegressor и RandomForestRegressor обработаем категориальные признаки техникой порядкового кодирования (Ordinal Encoding).\n",
        "\n",
        "Библиотеки LightGBM и CatBoost сами работают с категориальными признаками, но на их работе данное преобразование не скажется.\n",
        "\n",
        "Разобьем данные на признаки и целевой признак, а также на тренировочную и тестовую выборки в отношении 3:1. Закодируем категориальные признаки обучения порядковым кодированием."
      ]
    },
    {
      "cell_type": "markdown",
      "metadata": {
        "id": "9s-AIw-Sx5Rd"
      },
      "source": [
        "<b>Для оптимизации гиперпараметров и промежуточной оценки моделей будем выполнять кросс-валидацию.</b>"
      ]
    },
    {
      "cell_type": "code",
      "execution_count": null,
      "metadata": {
        "id": "y40kdGeZx5Re"
      },
      "outputs": [],
      "source": [
        "# categorial_features = ['VehicleType', 'Gearbox', 'Model', 'FuelType', 'Brand', 'Repaired']\n",
        "# ord = OrdinalEncoder()"
      ]
    },
    {
      "cell_type": "markdown",
      "metadata": {
        "id": "DDvkjQNZx5Re"
      },
      "source": [
        "<div class=\"alert alert-block alert-danger\">\n",
        "<h2> Комментарий ревьюера <a class=\"tocSkip\"></h2>\n",
        "\n",
        "    \n",
        "<b>На доработку❌:</b> `OrdinalEncoder` нужно настраивать на бесперебойную работу при появлении в новых данных ранее неизвестных значений признаков: по умолчанию в таких случаях `OrdinalEncoder` будет выбрасывать ошибку, однако для непрерывности процесса моделирования можно настроить параметры `handle_unknown='use_encoded_value'`, чтобы новые, ранее неизвестные значения кодировались константным значением, а в параметр `unknown_value` нужно передать само значение-константу."
      ]
    },
    {
      "cell_type": "markdown",
      "metadata": {
        "id": "uyx7E_z0x5Re"
      },
      "source": [
        "<div class=\"alert alert-info\">\n",
        "<h2> Комментарий студента 1 <a class=\"tocSkip\"> </h2>\n",
        "\n",
        "Настроил замену ранее неизвестных значений с помощью handle_unknown='use_encoded_value' и параметра замены unknown_value=1000\n",
        "</div>\n",
        "    "
      ]
    },
    {
      "cell_type": "markdown",
      "metadata": {
        "id": "31TVVS-Ex5Re"
      },
      "source": [
        "<div class=\"alert alert-success\">\n",
        "<h2> Комментарий ревьюера v.2 <a class=\"tocSkip\"> </h2>\n",
        "\n",
        "<b>Все отлично!👍</b>\n",
        "    \n",
        "Учтено."
      ]
    },
    {
      "cell_type": "code",
      "execution_count": null,
      "metadata": {
        "id": "Ecu_mNtdx5Rf"
      },
      "outputs": [],
      "source": [
        "# ord.fit(autos[categorial_features])\n",
        "# autos[categorial_features] = ord.transform(autos[categorial_features])"
      ]
    },
    {
      "cell_type": "markdown",
      "metadata": {
        "id": "m6JhnQG7x5Rf"
      },
      "source": [
        "<div class=\"alert alert-block alert-danger\">\n",
        "<h2> Комментарий ревьюера <a class=\"tocSkip\"></h2>\n",
        "\n",
        "    \n",
        "<b>На доработку❌:</b> Кодирование данных нужно осуществлять только после сплитования - так мы не допускаем утечку данных из тестовой части, а также можем контролировать появление в `test` новых значений категориальных признаков."
      ]
    },
    {
      "cell_type": "markdown",
      "metadata": {
        "id": "4CqogjHnx5Rf"
      },
      "source": [
        "<div class=\"alert alert-success\">\n",
        "<h2> Комментарий ревьюера v.2 <a class=\"tocSkip\"> </h2>\n",
        "\n",
        "<b>Все отлично!👍</b>\n",
        "    \n",
        "Учтено."
      ]
    },
    {
      "cell_type": "code",
      "execution_count": null,
      "metadata": {
        "scrolled": true,
        "id": "JWvyygijx5Rf",
        "outputId": "b605003e-db73-4a92-af56-85c3ce2170b9"
      },
      "outputs": [
        {
          "name": "stdout",
          "output_type": "stream",
          "text": [
            "Длины обучающей выборки: 237333, длина тестовой выборки: 79112\n"
          ]
        }
      ],
      "source": [
        "data_target = autos['Price']\n",
        "data_features = autos.drop('Price', axis=1)\n",
        "\n",
        "features_train, features_test, target_train, target_test = train_test_split(\n",
        "    data_features, data_target, test_size=1/4, random_state = 42)\n",
        "\n",
        "print(f'Длины обучающей выборки: {len(features_train)}, длина тестовой выборки: {len(features_test)}')"
      ]
    },
    {
      "cell_type": "markdown",
      "metadata": {
        "id": "z4wAbOJ-x5Rg"
      },
      "source": [
        "Закодируем категориальные признаки обучения порядковым кодированием."
      ]
    },
    {
      "cell_type": "code",
      "execution_count": null,
      "metadata": {
        "id": "hCCMdNiCx5Rg"
      },
      "outputs": [],
      "source": [
        "categorial_features = ['VehicleType', 'Gearbox', 'Model', 'FuelType', 'Brand', 'Repaired']\n",
        "ords = OrdinalEncoder(handle_unknown='use_encoded_value', unknown_value=1000)"
      ]
    },
    {
      "cell_type": "markdown",
      "metadata": {
        "id": "Ll1QWOygx5Rg"
      },
      "source": [
        "<div class=\"alert alert-block alert-danger\">\n",
        "<h2> Комментарий ревьюера v.2 <a class=\"tocSkip\"></h2>\n",
        "\n",
        "    \n",
        "<b>На доработку❌:</b> Не стоит называть переменные так же, как называются служебные инструменты в `Python` (об этом говодит зеленоватое выделение названия переменной) - таким образом мы их переопределяем, и до перезапуска ядра они не будут доступны для использования."
      ]
    },
    {
      "cell_type": "markdown",
      "metadata": {
        "id": "NnYAJC7Rx5Rh"
      },
      "source": [
        "<div class=\"alert alert-info\">\n",
        "<h2> Комментарий студента 2 <a class=\"tocSkip\"> </h2>\n",
        "Исправил ord на ords\n",
        "</div>\n",
        "    "
      ]
    },
    {
      "cell_type": "markdown",
      "metadata": {
        "id": "MxMt72Hzx5Rh"
      },
      "source": [
        "<div class=\"alert alert-success\">\n",
        "<h2> Комментарий ревьюера v.3 <a class=\"tocSkip\"> </h2>\n",
        "\n",
        "<b>Все отлично!👍:</b> Учтено."
      ]
    },
    {
      "cell_type": "markdown",
      "metadata": {
        "id": "vrxvA9xCx5Rh"
      },
      "source": [
        "<div class=\"alert alert-info\">\n",
        "<h2> Комментарий студента 1 <a class=\"tocSkip\"> </h2>\n",
        "\n",
        "Обработку данных выполнил после сплитования, чтобы не допустить утечку данных. Stratify, чтобы выровнять признаки - применить не удалось\n",
        "</div>\n",
        "    "
      ]
    },
    {
      "cell_type": "markdown",
      "metadata": {
        "id": "w7QhWfL9x5Rh"
      },
      "source": [
        "<div class=\"alert alert-success\">\n",
        "<h2> Комментарий ревьюера v.2 <a class=\"tocSkip\"> </h2>\n",
        "\n",
        "<b>Все отлично!👍</b>\n",
        "    \n",
        "Стратификация применима только к задачам классификации - в регрессии нечего выравнивать:)"
      ]
    },
    {
      "cell_type": "code",
      "execution_count": null,
      "metadata": {
        "id": "vfBY9El_x5Ri",
        "outputId": "3d809c7d-eae3-4eb5-e30e-b768c019d071"
      },
      "outputs": [
        {
          "data": {
            "text/plain": [
              "OrdinalEncoder(handle_unknown='use_encoded_value', unknown_value=1000)"
            ]
          },
          "execution_count": 48,
          "metadata": {},
          "output_type": "execute_result"
        }
      ],
      "source": [
        "ords.fit(features_train[categorial_features])"
      ]
    },
    {
      "cell_type": "code",
      "execution_count": null,
      "metadata": {
        "id": "Y2X-R5X6x5Ri",
        "outputId": "6df0c09b-204a-413f-9dfb-d32115e78731"
      },
      "outputs": [
        {
          "name": "stderr",
          "output_type": "stream",
          "text": [
            "/tmp/ipykernel_192/3150073907.py:1: SettingWithCopyWarning: \n",
            "A value is trying to be set on a copy of a slice from a DataFrame.\n",
            "Try using .loc[row_indexer,col_indexer] = value instead\n",
            "\n",
            "See the caveats in the documentation: https://pandas.pydata.org/pandas-docs/stable/user_guide/indexing.html#returning-a-view-versus-a-copy\n",
            "  features_train[categorial_features] = ords.transform(features_train[categorial_features])\n",
            "/opt/conda/lib/python3.9/site-packages/pandas/core/indexing.py:1738: SettingWithCopyWarning: \n",
            "A value is trying to be set on a copy of a slice from a DataFrame.\n",
            "Try using .loc[row_indexer,col_indexer] = value instead\n",
            "\n",
            "See the caveats in the documentation: https://pandas.pydata.org/pandas-docs/stable/user_guide/indexing.html#returning-a-view-versus-a-copy\n",
            "  self._setitem_single_column(loc, value[:, i].tolist(), pi)\n",
            "/tmp/ipykernel_192/3150073907.py:2: SettingWithCopyWarning: \n",
            "A value is trying to be set on a copy of a slice from a DataFrame.\n",
            "Try using .loc[row_indexer,col_indexer] = value instead\n",
            "\n",
            "See the caveats in the documentation: https://pandas.pydata.org/pandas-docs/stable/user_guide/indexing.html#returning-a-view-versus-a-copy\n",
            "  features_test[categorial_features] = ords.transform(features_test[categorial_features])\n",
            "/opt/conda/lib/python3.9/site-packages/pandas/core/indexing.py:1738: SettingWithCopyWarning: \n",
            "A value is trying to be set on a copy of a slice from a DataFrame.\n",
            "Try using .loc[row_indexer,col_indexer] = value instead\n",
            "\n",
            "See the caveats in the documentation: https://pandas.pydata.org/pandas-docs/stable/user_guide/indexing.html#returning-a-view-versus-a-copy\n",
            "  self._setitem_single_column(loc, value[:, i].tolist(), pi)\n"
          ]
        }
      ],
      "source": [
        "features_train[categorial_features] = ords.transform(features_train[categorial_features])\n",
        "features_test[categorial_features] = ords.transform(features_test[categorial_features])"
      ]
    },
    {
      "cell_type": "markdown",
      "metadata": {
        "id": "5EuvnDHhx5Ri"
      },
      "source": [
        "<div class=\"alert alert-success\">\n",
        "<h2> Комментарий ревьюера <a class=\"tocSkip\"> </h2>\n",
        "\n",
        "<b>Все отлично!👍:</b> Сплитование выполнено."
      ]
    },
    {
      "cell_type": "markdown",
      "metadata": {
        "id": "DOQmQUOlx5Rj"
      },
      "source": [
        "<div class=\"alert alert-block alert-danger\">\n",
        "<h2> Комментарий ревьюера <a class=\"tocSkip\"></h2>\n",
        "\n",
        "    \n",
        "<b>На доработку❌:</b> В проекте используется `GridSearchCV` с встроенной кросс-валидацией - нужно выбрать единый подход к промежуточной оценке моделей: кросс-валидация или валидационная выборка.\n",
        "    \n",
        "Два подхода одновременно использовать не принято: при выделении `valid` мы теряем часть наблюдений из `train`, далее, проводя кросс-валидацию, при делении на фолды часть наблюдений из `train` также отходит для формирования оценочного фолда, в результате чего модель может не совсем качественно обучиться."
      ]
    },
    {
      "cell_type": "markdown",
      "metadata": {
        "id": "NQMVI4yQx5Rj"
      },
      "source": [
        "<div class=\"alert alert-block alert-danger\">\n",
        "<h2> Комментарий ревьюера v.2 <a class=\"tocSkip\"></h2>\n",
        "\n",
        "    \n",
        "<b>На доработку❌:</b> Не учтено - нужно использовать что-то одно."
      ]
    },
    {
      "cell_type": "markdown",
      "metadata": {
        "id": "G--7bmNkx5Rj"
      },
      "source": [
        "<div class=\"alert alert-info\">\n",
        "<h2> Комментарий студента 2 <a class=\"tocSkip\"> </h2>\n",
        "Для оптимизации гиперпараметров и промежуточной оценки моделей будем выполнять кросс-валидацию.\n",
        "</div>\n",
        "    "
      ]
    },
    {
      "cell_type": "markdown",
      "metadata": {
        "id": "mdyBdVAax5Rj"
      },
      "source": [
        "<div class=\"alert alert-success\">\n",
        "<h2> Комментарий ревьюера v.3 <a class=\"tocSkip\"> </h2>\n",
        "\n",
        "<b>Все отлично!👍:</b> Учтено."
      ]
    },
    {
      "cell_type": "markdown",
      "metadata": {
        "id": "YN7DI4sSx5Rn"
      },
      "source": [
        "###  DecisionTreeRegressor\n",
        "\n",
        "Подберем параметры DecisionTreeRegressor с помощью кросс-валидации на тренировочной выборке, а затем оценим качество лучшей модели с помощью RMSE на валидационной выборке"
      ]
    },
    {
      "cell_type": "markdown",
      "metadata": {
        "id": "K_dOg7Zqx5Rn"
      },
      "source": [
        "Используем для настроек следующие параметры:\n",
        "max_depth — максимальная глубина дерева;\n",
        "min_samples_split — минимальное количество образцов, необходимых для разделения внутреннего узла."
      ]
    },
    {
      "cell_type": "markdown",
      "metadata": {
        "id": "_CBP6E0Vx5Ro"
      },
      "source": [
        "<div class=\"alert alert-block alert-danger\">\n",
        "<h2> Комментарий ревьюера <a class=\"tocSkip\"></h2>\n",
        "\n",
        "    \n",
        "<b>На доработку❌:</b>\n",
        "\n",
        "Довольно важным моментом является настройка параметра `scoring` - именно он отвечает за метрику, которая будет оценивать качество моделей в ходе кросс-валидации (в том числе при оптимизации гиперпараметров). Если не настроить его, оценка моделей на кросс-валидации будет выполнена по дефолтной метрике регрессионных моделей - `R2`."
      ]
    },
    {
      "cell_type": "markdown",
      "metadata": {
        "id": "SO2ofF9Sx5Ro"
      },
      "source": [
        "<div class=\"alert alert-info\">\n",
        "<h2> Комментарий студента 1 <a class=\"tocSkip\"> </h2>\n",
        "Для моделей DecisionTreeRegressor и RandomForestRegressor делаем выбор оптимальных параметров с помощью GridSearchCV (Добавил настройку скоринг). Потом проверяем найденные параметры для этих моделей на валидационной выборке.\n",
        "</div>"
      ]
    },
    {
      "cell_type": "markdown",
      "metadata": {
        "id": "44M1crY-x5Ro"
      },
      "source": [
        "<div class=\"alert alert-success\">\n",
        "<h2> Комментарий ревьюера v.2 <a class=\"tocSkip\"> </h2>\n",
        "\n",
        "<b>Все отлично!👍</b>\n",
        "    \n",
        "Учтено."
      ]
    },
    {
      "cell_type": "code",
      "execution_count": null,
      "metadata": {
        "id": "MbV6Rxwzx5Rp"
      },
      "outputs": [],
      "source": [
        "parameters = {\n",
        "    'max_depth': list(range(5, 30)),\n",
        "    'min_samples_split': list(np.arange(0.001, 0.005, 0.001)) # cгенерируем последовательность от 0.001 до 0.05 с шагом 0.01,\n",
        "# минимальное количество выборок для каждого разделения при этом будет: .ceil(min_samples_split * n_samples)\n",
        "}\n",
        "model = DecisionTreeRegressor(random_state = 42)"
      ]
    },
    {
      "cell_type": "markdown",
      "metadata": {
        "id": "9BFQmh4Cx5Rp"
      },
      "source": [
        "<div class=\"alert alert-block alert-danger\">\n",
        "<h2> Комментарий ревьюера v.2 <a class=\"tocSkip\"></h2>\n",
        "\n",
        "    \n",
        "<b>На доработку❌:</b>\n",
        "\n",
        "При использовании моделей (кроме линейной регрессии) важно настроить параметр `random_state`, чтобы результаты работы над проектом были воспроизводимы при его перезапуске."
      ]
    },
    {
      "cell_type": "markdown",
      "metadata": {
        "id": "2-YsZuN_x5Rp"
      },
      "source": [
        "<div class=\"alert alert-success\">\n",
        "<h2> Комментарий ревьюера v.3 <a class=\"tocSkip\"> </h2>\n",
        "\n",
        "<b>Все отлично!👍:</b> Учтено."
      ]
    },
    {
      "cell_type": "code",
      "execution_count": null,
      "metadata": {
        "id": "-XDSo1R9x5Rq"
      },
      "outputs": [],
      "source": [
        "def rmse(predict, actual):\n",
        "    predict = np.array(predict)\n",
        "    actual = np.array(actual)\n",
        "    distance = predict - actual\n",
        "    square_distance = distance ** 2\n",
        "    mean_square_distance = square_distance.mean()\n",
        "    score = np.sqrt(mean_square_distance)\n",
        "    return score\n",
        "\n",
        "rmse_score = make_scorer(rmse, greater_is_better=False)"
      ]
    },
    {
      "cell_type": "markdown",
      "metadata": {
        "id": "B7By_nURx5Rq"
      },
      "source": [
        "<div class=\"alert alert-block alert-danger\">\n",
        "<h2> Комментарий ревьюера v.2 <a class=\"tocSkip\"></h2>\n",
        "\n",
        "    \n",
        "<b>На доработку❌:</b>\n",
        "\n",
        "Пользовательский скорринг `make_scorer` настроен неверно: так как метрика `RMSE` применяется для задач регрессии, то она тем лучше, чем ниже - это нужно учитывать при создании скорринга для кросс-валидации, так как по умолчанию инструменты поиска оптимальных гиперпараметров и кросс-валидации вроде `cross_val_score` и `GridSearchCV` умеют только максимизировать метрику качества. Поэтому при создании скорринга с помощью `make_scorer` важно настроить параметр `greater_is_better=False`, чтобы оптимизируемая метрика минимизировалась, а не максимизировалась - таким образом задача максимизации будет решаться через задачу минимизации обратной функции.\n",
        "    \n",
        "Также при настройке этого параметра получаемая метрика будет отрицательной: это особеность работы `make_scorer` с настроенным параметром `greater_is_better=False`. Поэтому при выводе метрики на экран её стоит сделать положительной: взять по модулю, домножить на `-1` или просто указать `-` при выводе на экран, вроде `print(-a)`.\n",
        "        \n",
        "</div>"
      ]
    },
    {
      "cell_type": "markdown",
      "metadata": {
        "id": "YEWTFpJLx5Rq"
      },
      "source": [
        "<div class=\"alert alert-success\">\n",
        "<h2> Комментарий ревьюера v.3 <a class=\"tocSkip\"> </h2>\n",
        "\n",
        "<b>Все отлично!👍:</b> Учтено."
      ]
    },
    {
      "cell_type": "code",
      "execution_count": null,
      "metadata": {
        "id": "OtTCt2HFx5Rq",
        "outputId": "88806adc-4cdb-42c9-e9aa-1f4f97211ddb"
      },
      "outputs": [
        {
          "name": "stdout",
          "output_type": "stream",
          "text": [
            "Подобранные параметры DecisionTreeRegressor: DecisionTreeRegressor(max_depth=28, min_samples_split=0.001, random_state=42)\n",
            "RMSE DecisionTreeRegressor: 1888.042193958266\n"
          ]
        }
      ],
      "source": [
        "searcher = GridSearchCV(model, parameters, scoring=rmse_score)\n",
        "searcher.fit(features_train, target_train)\n",
        "best_tree = searcher.best_estimator_\n",
        "best_tree_rmse_grid = -(searcher.best_score_)\n",
        "print('Подобранные параметры DecisionTreeRegressor:', best_tree)\n",
        "print('RMSE DecisionTreeRegressor:', best_tree_rmse_grid)"
      ]
    },
    {
      "cell_type": "markdown",
      "metadata": {
        "id": "QfAdiaLEx5Rr"
      },
      "source": [
        "<div class=\"alert alert-info\">\n",
        "<h2> Вопрос студента 1 <a class=\"tocSkip\"> </h2>\n",
        "Не могу понять почему подобранные параметры: DecisionTreeRegressor(max_depth=5, min_samples_split=0.001), не равны тем, которые ниже на валидации. Параметры найдены ранее по дефолтной метрике регрессионных моделей - R2. Не стал исправлять, чтобы было видно, что GridSearchCV не нашел оптимальные параметры ...  ? Явно это связано с критическим замечанием выше, но переосмыслить не получается. Прошу помочь.\n",
        "</div>"
      ]
    },
    {
      "cell_type": "markdown",
      "metadata": {
        "id": "ak2fE2sSx5Rr"
      },
      "source": [
        "<div class=\"alert alert-success\">\n",
        "<h2> Комментарий ревьюера v.2 <a class=\"tocSkip\"> </h2>\n",
        "\n",
        "<b>Все отлично!👍</b>\n",
        "    \n",
        "Выше прокомментировал - ты нашёл, в сущности, самую плохую модель, а не самую хорошую."
      ]
    },
    {
      "cell_type": "markdown",
      "metadata": {
        "id": "6p3ZJg-hx5Rr"
      },
      "source": [
        "Качества DecisionTreeRegressor уже может оказаться достаточно, поэтому оценим также время обучения и время предсказания."
      ]
    },
    {
      "cell_type": "code",
      "execution_count": null,
      "metadata": {
        "id": "6WqzN3_Vx5Rr",
        "outputId": "6fdc9d33-01ef-443f-9e34-dabba0d42032"
      },
      "outputs": [
        {
          "name": "stdout",
          "output_type": "stream",
          "text": [
            "DecisionTreeRegressor\n",
            "Время обучения 0.5625870227813721\n",
            "Время предсказания 0.03921842575073242\n",
            "CPU times: user 596 ms, sys: 3.97 ms, total: 600 ms\n",
            "Wall time: 603 ms\n"
          ]
        }
      ],
      "source": [
        "%%time\n",
        "print(\"DecisionTreeRegressor\")\n",
        "\n",
        "best_tree = DecisionTreeRegressor(random_state = 42, max_depth = 28, min_samples_split = 0.001)\n",
        "start = time()\n",
        "best_tree.fit(features_train, target_train)\n",
        "end = time()\n",
        "best_tree_time_train = end - start\n",
        "print(\"Время обучения\", best_tree_time_train)\n",
        "\n",
        "start = time()\n",
        "best_tree_predictions_train = best_tree.predict(features_train)\n",
        "end = time()\n",
        "best_tree_time_pred = end - start\n",
        "print(\"Время предсказания\", best_tree_time_pred)"
      ]
    },
    {
      "cell_type": "markdown",
      "metadata": {
        "id": "ZGQvq2Wux5Rs"
      },
      "source": [
        "<div class=\"alert alert-block alert-danger\">\n",
        "<h2> Комментарий ревьюера v.3 <a class=\"tocSkip\"></h2>\n",
        "\n",
        "    \n",
        "<b>На доработку❌:</b> Время предсказания нужно замерять на `train`. Тут и далее."
      ]
    },
    {
      "cell_type": "markdown",
      "metadata": {
        "id": "996GEST-x5Rs"
      },
      "source": [
        "<div class=\"alert alert-success\">\n",
        "<h2> Комментарий ревьюера v.4 <a class=\"tocSkip\"> </h2>\n",
        "\n",
        "<b>Все отлично!👍:</b> Учтено."
      ]
    },
    {
      "cell_type": "code",
      "execution_count": null,
      "metadata": {
        "id": "a51WAOrwx5Rs"
      },
      "outputs": [],
      "source": [
        "# best_tree_rmse_test = mean_squared_error(target_test, best_tree_predictions_test, squared=False)\n",
        "# print('RMSE на тестовой выборке:', best_tree_rmse_test)"
      ]
    },
    {
      "cell_type": "markdown",
      "metadata": {
        "id": "LVtwx2rdx5Rt"
      },
      "source": [
        "<div class=\"alert alert-block alert-danger\">\n",
        "<h2> Комментарий ревьюера v.3 <a class=\"tocSkip\"></h2>\n",
        "\n",
        "    \n",
        "<b>На доработку❌:</b> См.п.1 замечания в конце работы - на `test` оцениваем только лучшую модель. Для сравнительной характеристики `RMSE` нужна с кросс-валадиации. Тут и далее."
      ]
    },
    {
      "cell_type": "markdown",
      "metadata": {
        "id": "6QFYH1CGx5Rt"
      },
      "source": [
        "<div class=\"alert alert-success\">\n",
        "<h2> Комментарий ревьюера v.4 <a class=\"tocSkip\"> </h2>\n",
        "\n",
        "<b>Все отлично!👍:</b> Учтено."
      ]
    },
    {
      "cell_type": "markdown",
      "metadata": {
        "id": "Y7pKtgbfx5Rt"
      },
      "source": [
        "### RandomForestRegressor\n",
        "\n",
        "Подберем параметры RandomForestRegressor с помощью кросс-валидации на тренировочной выборке, а затем оценим качество лучшей модели с помощью RMSE на валидационной выборке"
      ]
    },
    {
      "cell_type": "code",
      "execution_count": null,
      "metadata": {
        "id": "vS9yX3PUx5Rt"
      },
      "outputs": [],
      "source": [
        "parameters = {\n",
        "    'n_estimators': list(range(7, 9, 1)),\n",
        "    'max_depth': list(range(10, 13))\n",
        "}\n",
        "model = RandomForestRegressor(random_state = 42)"
      ]
    },
    {
      "cell_type": "markdown",
      "metadata": {
        "id": "vBT40xalx5Ru"
      },
      "source": [
        "<div class=\"alert alert-block alert-danger\">\n",
        "<h2> Комментарий ревьюера v.2 <a class=\"tocSkip\"></h2>\n",
        "\n",
        "    \n",
        "<b>На доработку❌:</b>\n",
        "\n",
        "В каждой модели делать новый скорринг не нужно - стоит переиспользовать ранее созданный."
      ]
    },
    {
      "cell_type": "markdown",
      "metadata": {
        "id": "tIEJDnbGx5Ru"
      },
      "source": [
        "<div class=\"alert alert-success\">\n",
        "<h2> Комментарий ревьюера v.3 <a class=\"tocSkip\"> </h2>\n",
        "\n",
        "<b>Все отлично!👍</b>\n",
        "    \n",
        "Учтено."
      ]
    },
    {
      "cell_type": "code",
      "execution_count": null,
      "metadata": {
        "id": "qjJhX_zMx5Ru",
        "outputId": "619a029e-0627-44c1-b705-0b25e84f3f5d"
      },
      "outputs": [
        {
          "name": "stdout",
          "output_type": "stream",
          "text": [
            "Подобранные параметры RandomForestRegressor: RandomForestRegressor(max_depth=12, n_estimators=8, random_state=42)\n",
            "RMSE RandomForestRegressor: 1785.3395633711218\n",
            "CPU times: user 58.9 s, sys: 27.8 ms, total: 59 s\n",
            "Wall time: 59 s\n"
          ]
        }
      ],
      "source": [
        "%%time\n",
        "searcher = GridSearchCV(model, parameters, scoring = rmse_score)\n",
        "searcher.fit(features_train, target_train)\n",
        "best_tree = searcher.best_estimator_\n",
        "best_forest_rmse_grid = -(searcher.best_score_)\n",
        "print('Подобранные параметры RandomForestRegressor:', best_tree)\n",
        "print('RMSE RandomForestRegressor:', best_forest_rmse_grid)"
      ]
    },
    {
      "cell_type": "markdown",
      "metadata": {
        "id": "48T9Go8-x5Ru"
      },
      "source": [
        "Качества RandomForestRegressor уже может оказаться достаточно, поэтому оценим также время обучения и время предсказания."
      ]
    },
    {
      "cell_type": "code",
      "execution_count": null,
      "metadata": {
        "id": "r7tOmmQDx5Rv",
        "outputId": "b180e796-cd2d-40ec-caf9-0e0e84b9030e"
      },
      "outputs": [
        {
          "name": "stdout",
          "output_type": "stream",
          "text": [
            "RandomForestRegressor\n",
            "Время обучения 2.774200439453125\n",
            "Время предсказания 0.2128465175628662\n",
            "CPU times: user 2.98 s, sys: 0 ns, total: 2.98 s\n",
            "Wall time: 2.99 s\n"
          ]
        }
      ],
      "source": [
        "%%time\n",
        "print(\"RandomForestRegressor\")\n",
        "\n",
        "best_forest = RandomForestRegressor(random_state = 42, max_depth = 12, n_estimators=8)\n",
        "start = time()\n",
        "best_forest.fit(features_train, target_train)\n",
        "end = time()\n",
        "best_forest_time_train = end - start\n",
        "print(\"Время обучения\", best_forest_time_train)\n",
        "\n",
        "start = time()\n",
        "best_forest_predictions_train = best_forest.predict(features_train)\n",
        "end = time()\n",
        "best_forest_time_pred = end - start\n",
        "print(\"Время предсказания\", best_forest_time_pred)\n",
        "\n",
        "# best_forest_rmse_test = mean_squared_error(target_test, best_forest_predictions_test, squared=False)\n",
        "# print('RMSE на валидационной выборке:', best_forest_rmse_test)"
      ]
    },
    {
      "cell_type": "markdown",
      "metadata": {
        "id": "BqmteBn6x5Rv"
      },
      "source": [
        "<div class=\"alert alert-info\">\n",
        "<h2> Комментарий студента 1 <a class=\"tocSkip\"> </h2>\n",
        "    Для моделей LightGBM и CatBoostRegressor делаем перебор параметров градиентного бустинга и потом выбираем модели с лучшими целевыми показателями из списка. Далее проверяем целевые показатели для этих моделей на тестовой выборке.\n",
        "</div>"
      ]
    },
    {
      "cell_type": "markdown",
      "metadata": {
        "id": "VLjbExcrx5Rw"
      },
      "source": [
        "### LightGBM"
      ]
    },
    {
      "cell_type": "code",
      "execution_count": null,
      "metadata": {
        "id": "hgadcpbvx5Rw"
      },
      "outputs": [],
      "source": [
        "parameters = {\n",
        "    'n_estimators': list(range(139, 140, 1)),\n",
        "    'max_depth': list(range(-1, 0, 1)) # -1 глубина дерева без ограничений\n",
        "}\n",
        "model = lgb.LGBMRegressor(random_state = 42)"
      ]
    },
    {
      "cell_type": "code",
      "execution_count": null,
      "metadata": {
        "id": "usbkL-Udx5Rw",
        "outputId": "8a72cc96-02d2-460e-d44d-f1cfd4f9f3ad"
      },
      "outputs": [
        {
          "name": "stdout",
          "output_type": "stream",
          "text": [
            "Подобранные параметры LightGBM: LGBMRegressor(n_estimators=139, random_state=42)\n",
            "RMSE LightGBM: 1679.5630949092392\n",
            "CPU times: user 37.4 s, sys: 330 ms, total: 37.8 s\n",
            "Wall time: 38.6 s\n"
          ]
        }
      ],
      "source": [
        "%%time\n",
        "searcher = GridSearchCV(model, parameters, scoring = rmse_score)\n",
        "searcher.fit(features_train, target_train)\n",
        "best_LightGBM = searcher.best_estimator_\n",
        "best_lgbm_rmse_grid = -(searcher.best_score_)\n",
        "print('Подобранные параметры LightGBM:', best_LightGBM)\n",
        "print('RMSE LightGBM:', best_lgbm_rmse_grid)"
      ]
    },
    {
      "cell_type": "code",
      "execution_count": null,
      "metadata": {
        "scrolled": true,
        "id": "osODKiR1x5Rw"
      },
      "outputs": [],
      "source": [
        "#%%time\n",
        "#compare = []\n",
        "#columns = ['model', 'rmse', 'time_pred', 'time_train']\n",
        "\n",
        "\n",
        "#for max_depth in [-1, ] + list(range(1, 2, 1)): # -1 глубина дерева без ограничений\n",
        "    #for n_estimators in range(139, 140, 1):\n",
        "        #model = lgb.LGBMRegressor(max_depth = max_depth, n_estimators = n_estimators, objective = 'root_mean_squared_error', random_state = 42)\n",
        "\n",
        "        #start = time()\n",
        "        #model.fit(features_train, target_train, categorical_feature=categorial_features)\n",
        "        #end = time()\n",
        "        #time_train = end - start\n",
        "\n",
        "        #start = time()\n",
        "        #y_pred = model.predict(features_test)\n",
        "        #end = time()\n",
        "        #time_pred = end-start\n",
        "\n",
        "        #rmse = mean_squared_error(target_test, y_pred, squared=False)\n",
        "\n",
        "        #compare.append([f'LIGHT, max_depth = {max_depth}, n_estimators = {n_estimators}', rmse, time_pred, time_train])\n",
        "        #print(compare[-1])"
      ]
    },
    {
      "cell_type": "markdown",
      "metadata": {
        "id": "p73igkHRx5Rx"
      },
      "source": [
        "<div class=\"alert alert-block alert-danger\">\n",
        "<h2> Комментарий ревьюера v.2 <a class=\"tocSkip\"></h2>\n",
        "\n",
        "    \n",
        "<b>На доработку❌:</b>\n",
        "\n",
        "См.ранее про единый подход - кросс-валидация или `valid` для всех моделей."
      ]
    },
    {
      "cell_type": "markdown",
      "metadata": {
        "id": "Th7Ex037x5Rx"
      },
      "source": [
        "<div class=\"alert alert-block alert-danger\">\n",
        "<h2> Комментарий ревьюера v.3 <a class=\"tocSkip\"></h2>\n",
        "\n",
        "    \n",
        "<b>На доработку❌:</b>\n",
        "\n",
        "Промежуточная оценка выполняется на `test` - нужна кросс-валидация. Тут и для `CatBoost`."
      ]
    },
    {
      "cell_type": "markdown",
      "metadata": {
        "id": "JCkaSWDXx5Ry"
      },
      "source": [
        "<div class=\"alert alert-info\">\n",
        "<h2> Комментарий студента 3 <a class=\"tocSkip\"> </h2>\n",
        "\n",
        "Заменил выбор лучшей параметров моделей через кросс-валидацию.\n",
        "</div>"
      ]
    },
    {
      "cell_type": "markdown",
      "metadata": {
        "id": "Yo4a8Of5x5Ry"
      },
      "source": [
        "<div class=\"alert alert-success\">\n",
        "<h2> Комментарий ревьюера v.4 <a class=\"tocSkip\"> </h2>\n",
        "\n",
        "<b>Все отлично!👍:</b> Учтено."
      ]
    },
    {
      "cell_type": "code",
      "execution_count": null,
      "metadata": {
        "id": "lkICDTlkx5Rz"
      },
      "outputs": [],
      "source": [
        "#compare = pd.DataFrame(data = compare, columns = columns)\n",
        "#compare.sort_values('rmse')"
      ]
    },
    {
      "cell_type": "code",
      "execution_count": null,
      "metadata": {
        "id": "EKUpZyi7x5Rz",
        "outputId": "67251d8b-0b2b-4936-f6d0-1ab589f26b42"
      },
      "outputs": [
        {
          "name": "stdout",
          "output_type": "stream",
          "text": [
            "LGBMRegressor(max_depth = -1, n_estimators = 139, objective = 'root_mean_squared_error', random_state = 42)\n",
            "Время обучения 6.599457502365112\n",
            "Время предсказания 2.4210288524627686\n",
            "CPU times: user 8.97 s, sys: 38.9 ms, total: 9.01 s\n",
            "Wall time: 9.02 s\n"
          ]
        }
      ],
      "source": [
        "%%time\n",
        "print(\"LGBMRegressor(max_depth = -1, n_estimators = 139, objective = 'root_mean_squared_error', random_state = 42)\")\n",
        "\n",
        "best_lgbm = lgb.LGBMRegressor(max_depth = -1, n_estimators = 139, objective = 'root_mean_squared_error', random_state = 42)\n",
        "\n",
        "start = time()\n",
        "best_lgbm.fit(features_train, target_train)\n",
        "end = time()\n",
        "best_lgbm_time_train = end - start\n",
        "print(\"Время обучения\", best_lgbm_time_train)\n",
        "\n",
        "start = time()\n",
        "best_lgbm_predictions_train = best_lgbm.predict(features_train)\n",
        "end = time()\n",
        "best_lgbm_time_pred = end - start\n",
        "print(\"Время предсказания\", best_lgbm_time_pred)\n",
        "\n",
        "#best_lgbm_rmse_test = mean_squared_error(target_test, best_lgbm_predictions_test, squared=False)\n",
        "#print('RMSE на валидационной выборке:', best_lgbm_rmse_test)"
      ]
    },
    {
      "cell_type": "markdown",
      "metadata": {
        "id": "aZNcSs-4x5R0"
      },
      "source": [
        "###  CatBoostRegressor"
      ]
    },
    {
      "cell_type": "code",
      "execution_count": null,
      "metadata": {
        "id": "zKn7F02Nx5R0"
      },
      "outputs": [],
      "source": [
        "parameters = {\n",
        "    'n_estimators': list(range(300, 301, 1)),\n",
        "    'max_depth': list(range(11, 12, 1))\n",
        "}\n",
        "model = CatBoostRegressor(random_state = 42)"
      ]
    },
    {
      "cell_type": "code",
      "execution_count": null,
      "metadata": {
        "id": "_EAoBThQx5R0",
        "outputId": "759f8588-b60b-4eb0-e568-ba23c1aa7e07"
      },
      "outputs": [
        {
          "name": "stdout",
          "output_type": "stream",
          "text": [
            "Learning rate set to 0.249617\n",
            "0:\tlearn: 3773.4184332\ttotal: 114ms\tremaining: 34.1s\n",
            "100:\tlearn: 1500.2556145\ttotal: 5.94s\tremaining: 11.7s\n",
            "200:\tlearn: 1398.5872462\ttotal: 11.8s\tremaining: 5.82s\n",
            "299:\tlearn: 1333.4352059\ttotal: 17.7s\tremaining: 0us\n",
            "Learning rate set to 0.249617\n",
            "0:\tlearn: 3786.4790716\ttotal: 55ms\tremaining: 16.5s\n",
            "100:\tlearn: 1497.4703885\ttotal: 5.88s\tremaining: 11.6s\n",
            "200:\tlearn: 1394.8779395\ttotal: 11.8s\tremaining: 5.83s\n",
            "299:\tlearn: 1332.8900135\ttotal: 17.7s\tremaining: 0us\n",
            "Learning rate set to 0.249617\n",
            "0:\tlearn: 3773.3313879\ttotal: 58.5ms\tremaining: 17.5s\n",
            "100:\tlearn: 1503.1842267\ttotal: 5.93s\tremaining: 11.7s\n",
            "200:\tlearn: 1392.0870785\ttotal: 11.8s\tremaining: 5.81s\n",
            "299:\tlearn: 1326.7989483\ttotal: 17.6s\tremaining: 0us\n",
            "Learning rate set to 0.249617\n",
            "0:\tlearn: 3772.8530411\ttotal: 58.6ms\tremaining: 17.5s\n",
            "100:\tlearn: 1500.0058975\ttotal: 5.88s\tremaining: 11.6s\n",
            "200:\tlearn: 1389.2307719\ttotal: 11.8s\tremaining: 5.79s\n",
            "299:\tlearn: 1324.7246618\ttotal: 17.6s\tremaining: 0us\n",
            "Learning rate set to 0.249617\n",
            "0:\tlearn: 3773.7532347\ttotal: 55.8ms\tremaining: 16.7s\n",
            "100:\tlearn: 1503.6521952\ttotal: 6.25s\tremaining: 12.3s\n",
            "200:\tlearn: 1396.8432716\ttotal: 12.3s\tremaining: 6.06s\n",
            "299:\tlearn: 1331.8139398\ttotal: 18.2s\tremaining: 0us\n",
            "Learning rate set to 0.258575\n",
            "0:\tlearn: 3734.6927937\ttotal: 66.9ms\tremaining: 20s\n",
            "100:\tlearn: 1506.5256146\ttotal: 7.01s\tremaining: 13.8s\n",
            "200:\tlearn: 1404.9978242\ttotal: 13.9s\tremaining: 6.87s\n",
            "299:\tlearn: 1346.4955990\ttotal: 20.8s\tremaining: 0us\n",
            "Подобранные параметры CatBoostRegressor: {'cv': None, 'error_score': nan, 'estimator__loss_function': 'RMSE', 'estimator__random_state': 42, 'estimator': <catboost.core.CatBoostRegressor object at 0x7f46e6cd3220>, 'n_jobs': None, 'param_grid': {'n_estimators': [300], 'max_depth': [11]}, 'pre_dispatch': '2*n_jobs', 'refit': True, 'return_train_score': False, 'scoring': make_scorer(rmse, greater_is_better=False), 'verbose': 0}\n",
            "RMSE CatBoostRegressor: 1564.0970396113123\n",
            "CPU times: user 1min 50s, sys: 460 ms, total: 1min 50s\n",
            "Wall time: 1min 56s\n"
          ]
        }
      ],
      "source": [
        "%%time\n",
        "searcher = GridSearchCV(model, parameters, scoring = rmse_score)\n",
        "searcher.fit(features_train, target_train, verbose = 100)\n",
        "best_CatBoostRegressor = searcher.get_params()\n",
        "best_cat_rmse_grid = -(searcher.best_score_)\n",
        "print('Подобранные параметры CatBoostRegressor:', best_CatBoostRegressor)\n",
        "print('RMSE CatBoostRegressor:', best_cat_rmse_grid)"
      ]
    },
    {
      "cell_type": "code",
      "execution_count": null,
      "metadata": {
        "scrolled": false,
        "id": "B7WrxZWwx5R0"
      },
      "outputs": [],
      "source": [
        "#compare = []\n",
        "#columns = ['model', 'rmse', 'time_pred', 'time_train']\n",
        "\n",
        "#features_train[categorial_features] = features_train[categorial_features].astype(int)\n",
        "#features_test[categorial_features] = features_test[categorial_features].astype(int)\n",
        "\n",
        "\n",
        "#for max_depth in [None, ] + list(range(11, 12, 1)): # Максимальное значение - 16\n",
        "    #for n_estimators in [None, ] + list(range(1, 3, 1)):  # максимальное количество деревьев\n",
        "        #model = CatBoostRegressor(loss_function = \"RMSE\", max_depth = max_depth, n_estimators = n_estimators, random_state = 42)\n",
        "\n",
        "        #start = time()\n",
        "        #model.fit(features_train, target_train, cat_features = categorial_features, verbose = 100)\n",
        "        #end = time()\n",
        "        #time_train = end-start\n",
        "\n",
        "        #start = time()\n",
        "        #y_pred = model.predict(features_test)\n",
        "        #end = time()\n",
        "        #time_pred = end-start\n",
        "\n",
        "        #rmse = mean_squared_error(target_test, y_pred) ** 0.5\n",
        "\n",
        "        #compare.append([f'CAT, max_depth = {max_depth}, n_estimators = {n_estimators}', rmse, time_pred, time_train])\n",
        "        #print(compare[-1])\n",
        "\n",
        "#compare = pd.DataFrame(data = compare, columns = columns)\n",
        "#compare.sort_values('rmse').head(30)"
      ]
    },
    {
      "cell_type": "code",
      "execution_count": null,
      "metadata": {
        "id": "AegOHPdXx5R1",
        "outputId": "b8038525-a0a8-4fe4-fb52-7aa7ed487a53"
      },
      "outputs": [
        {
          "name": "stdout",
          "output_type": "stream",
          "text": [
            "CatBoostRegressor(loss_function=\"RMSE\", max_depth = 11, n_estimators = None, random_state = 42)\n",
            "Learning rate set to 0.258575\n",
            "0:\tlearn: 3734.6927937\ttotal: 90.8ms\tremaining: 27.2s\n",
            "100:\tlearn: 1506.5256146\ttotal: 6.93s\tremaining: 13.6s\n",
            "200:\tlearn: 1404.9978242\ttotal: 13.9s\tremaining: 6.84s\n",
            "299:\tlearn: 1346.4955990\ttotal: 20.7s\tremaining: 0us\n",
            "Время обучения 21.62027072906494\n",
            "Время предсказания 0.2808091640472412\n"
          ]
        }
      ],
      "source": [
        "print('CatBoostRegressor(loss_function=\"RMSE\", max_depth = 11, n_estimators = None, random_state = 42)')\n",
        "\n",
        "best_cat = CatBoostRegressor(loss_function = \"RMSE\", max_depth = 11, n_estimators = 300, random_state = 42)\n",
        "\n",
        "start = time()\n",
        "best_cat.fit(features_train, target_train, verbose = 100)\n",
        "end = time()\n",
        "best_cat_time_train = end - start\n",
        "print(\"Время обучения\", best_cat_time_train)\n",
        "\n",
        "start = time()\n",
        "best_cat_predictions_train = best_cat.predict(features_train)\n",
        "end = time()\n",
        "best_cat_time_pred = end - start\n",
        "print(\"Время предсказания\", best_cat_time_pred)\n",
        "\n",
        "#best_cat_rmse_test = mean_squared_error(target_test, best_cat_predictions_test, squared=False)\n",
        "#print('RMSE на валидационной выборке:', best_cat_rmse_test)"
      ]
    },
    {
      "cell_type": "markdown",
      "metadata": {
        "id": "eBCvpIRix5R1"
      },
      "source": [
        "## Анализ моделей"
      ]
    },
    {
      "cell_type": "markdown",
      "metadata": {
        "id": "uJxt6mjpx5R1"
      },
      "source": [
        "Критерии, которые важны заказчику:\n",
        "* качество предсказания,\n",
        "* время обучения модели,\n",
        "* время предсказания модели.\n",
        "Опираясь на критерии заказчика, сравним лучшие модели по качеству, по времени обучения, RMSE, времени предсказания на валидационной выборке и выберем лучшую модель."
      ]
    },
    {
      "cell_type": "code",
      "execution_count": null,
      "metadata": {
        "id": "Tk69ZyGax5R2",
        "outputId": "4eb5b95c-9270-467b-a262-c13321b93b7f"
      },
      "outputs": [
        {
          "data": {
            "text/html": [
              "<div>\n",
              "<style scoped>\n",
              "    .dataframe tbody tr th:only-of-type {\n",
              "        vertical-align: middle;\n",
              "    }\n",
              "\n",
              "    .dataframe tbody tr th {\n",
              "        vertical-align: top;\n",
              "    }\n",
              "\n",
              "    .dataframe thead th {\n",
              "        text-align: right;\n",
              "    }\n",
              "</style>\n",
              "<table border=\"1\" class=\"dataframe\">\n",
              "  <thead>\n",
              "    <tr style=\"text-align: right;\">\n",
              "      <th></th>\n",
              "      <th>model</th>\n",
              "      <th>rmse_test</th>\n",
              "      <th>time_pred</th>\n",
              "      <th>time_train</th>\n",
              "    </tr>\n",
              "  </thead>\n",
              "  <tbody>\n",
              "    <tr>\n",
              "      <th>0</th>\n",
              "      <td>(DecisionTreeRegressor(max_depth=12, max_featu...</td>\n",
              "      <td>1888.042194</td>\n",
              "      <td>0.039218</td>\n",
              "      <td>0.562587</td>\n",
              "    </tr>\n",
              "    <tr>\n",
              "      <th>1</th>\n",
              "      <td>(DecisionTreeRegressor(max_depth=12, max_featu...</td>\n",
              "      <td>1785.339563</td>\n",
              "      <td>0.212847</td>\n",
              "      <td>2.774200</td>\n",
              "    </tr>\n",
              "    <tr>\n",
              "      <th>2</th>\n",
              "      <td>LGBMRegressor(n_estimators=139, objective='roo...</td>\n",
              "      <td>1679.563095</td>\n",
              "      <td>2.421029</td>\n",
              "      <td>6.599458</td>\n",
              "    </tr>\n",
              "    <tr>\n",
              "      <th>3</th>\n",
              "      <td>&lt;catboost.core.CatBoostRegressor object at 0x7...</td>\n",
              "      <td>1564.097040</td>\n",
              "      <td>0.280809</td>\n",
              "      <td>21.620271</td>\n",
              "    </tr>\n",
              "  </tbody>\n",
              "</table>\n",
              "</div>"
            ],
            "text/plain": [
              "                                               model    rmse_test  time_pred  \\\n",
              "0  (DecisionTreeRegressor(max_depth=12, max_featu...  1888.042194   0.039218   \n",
              "1  (DecisionTreeRegressor(max_depth=12, max_featu...  1785.339563   0.212847   \n",
              "2  LGBMRegressor(n_estimators=139, objective='roo...  1679.563095   2.421029   \n",
              "3  <catboost.core.CatBoostRegressor object at 0x7...  1564.097040   0.280809   \n",
              "\n",
              "   time_train  \n",
              "0    0.562587  \n",
              "1    2.774200  \n",
              "2    6.599458  \n",
              "3   21.620271  "
            ]
          },
          "execution_count": 67,
          "metadata": {},
          "output_type": "execute_result"
        }
      ],
      "source": [
        "columns = ['model', 'rmse_test', 'time_pred', 'time_train']\n",
        "parameter = [\n",
        "    [best_tree, best_tree_rmse_grid, best_tree_time_pred, best_tree_time_train],\n",
        "    [best_forest, best_forest_rmse_grid, best_forest_time_pred, best_forest_time_train],\n",
        "    [best_lgbm, best_lgbm_rmse_grid, best_lgbm_time_pred, best_lgbm_time_train],\n",
        "    [best_cat, best_cat_rmse_grid, best_cat_time_pred, best_cat_time_train]\n",
        "]\n",
        "\n",
        "parameter_table = pd.DataFrame(data = parameter, columns = columns)\n",
        "parameter_table"
      ]
    },
    {
      "cell_type": "markdown",
      "metadata": {
        "id": "X1P-Pye9x5R2"
      },
      "source": [
        "* <b> Хорошей моделью по скорости предсказания оказалась: DecisionTreeRegressor </b> с относительно неплохим показателем rmse, высокой скоростью обучения и предсказания. Её можно улучшать, уменьшая параметр 'min_samples_split' - влияет на размер выборок при разделении, можно улучшать вплоть до каждой уникальной комбинации признаков авто.\n",
        "\n",
        "<b>Точность на тестовых данных - rmse_test = 1888.042194 со скоростью предсказания time_pred = 0.039218</b>\n",
        "\n",
        "* <b>  Лучшей моделью по точности оказалась: CatBoostRegressor. </b>  Использованы следующие параметры:\n",
        "** Параметр max_depth определяет максимальную глубину деревьев в ансамбле. Оптимальное значение - max_depth = 11. Значение 'none' означает отсутствие ограничения на глубину деревьев, то есть деревья могут быть построены с максимальной глубиной.\n",
        "** Параметр n_estimators определяет количество базовых моделей (деревьев) в ансамбле. Значение 'none' указывает на то, что количество деревьев не ограничено и будет определяться автоматически на основе других параметров.\n",
        "\n",
        "<b>Точность на тестовых данных - rmse_test = 1564.097040 со скоростью предсказания time_pred = 0.280809</b>"
      ]
    },
    {
      "cell_type": "markdown",
      "metadata": {
        "id": "n2kY3DRbx5R2"
      },
      "source": [
        "<div class=\"alert alert-success\">\n",
        "<h2> Комментарий ревьюера <a class=\"tocSkip\"> </h2>\n",
        "\n",
        "<b>Все отлично!👍:</b> Выполнен анализ моделей, выбрана лучшая модель."
      ]
    },
    {
      "cell_type": "markdown",
      "metadata": {
        "id": "htJThgdVx5R3"
      },
      "source": [
        "<div class=\"alert alert-block alert-danger\">\n",
        "<h2> Комментарий ревьюера <a class=\"tocSkip\"></h2>\n",
        "\n",
        "    \n",
        "<b>На доработку❌:</b>\n",
        "Лучшая модель должна быть выбрана по двум критериям - метрика `RMSE` и время работы модели. Далее сценарий работы с моделями в этом блоке зависит от выбранной стратегии валидации и оптимизации гиперпараметров:\n",
        "- для оптимизации гиперпараметров и промежуточной оценки моделей была выделена валидационная выборка;\n",
        "- для оптимизации гиперпараметров и промежуточной оценки моделей проводится кросс-валидация.\n",
        "    \n",
        "В первом случае метрика промежуточной оценки модели - это метрика `RMSE` на валидационной выборке, полученная от использования на `valid` лучшей модели, а время - это время обучения модели с лучшими гиперпарметрами на `train` и время совершения ею предсказаний на `valid`.\n",
        "    \n",
        "Во втором случае метрика промежуточной оценким модели - это метрика `RMSE` с кросс-валидации: в случае использования `cross_val_score` - это среднее из массива метрик (длина соответствует количеству фолдов для кросс-валидации), который возвращает инструмент, в случае использования `GridSearchCV` или `RandomizedSearchCV` - это метрика из атрибута `best_score_`. Временем работы лучшей модели может быть время обучения на `train` и время предсказания на `train` выборке (только время, метрика `RMSE` на тренировочной выборке не нужна).\n",
        "    \n",
        "Тут часто студенты делают ошибку, принимая в качестве метрики времени время работы лучшей модели, а время оптимизации гиперпараметров в целом (то есть время выполнения всей ячейки кода цикла с `cross_val_score` или ячейки с `GridSearchCV`) - это некорректный подход: на практике модель не будет каждый раз переобучаться и выполнять оптимизацию гиперпараметров перед очередным предсказанием - сначала будет найдена лучшая модель, а она уже будет использоваться для обучения и предсказаний. Поэтому и в этом случае сначала определяется лучшая модель, а уже потом замеряется время её работы: кросс-валидации как альтернатива времени обучения и предсказания (потому что по сути кросс-валидация объединяет в себе обучение и предсказание) или время обучения и предсказания на `train`.\n",
        "    \n",
        "Независимо от выбранной стратегии кросс-валидации алгоритм работы выглядит как:\n",
        "- оптимизация гиперпараметров и поиск лучшей модели;\n",
        "- оценка метрики `RMSE`;\n",
        "- оценка времени работы лучшей модели: на валидационной выборке (если она выделялась) или на кросс-валидации/тренировочной выборке (если проводилась кросс-валидация).\n",
        "    \n",
        "Концепт для `valid`:\n",
        "    \n",
        "    for ... in ...:\n",
        "    \n",
        "        #код для поиска лучшей модели\n",
        "    \n",
        "    model = ... #код для инициализации лучшей модели с оптимальными гиперпараметрами\n",
        "    \n",
        "    model.fit(X_train, Y_train) #замеряем время обучения\n",
        "    \n",
        "    pred = model.predict(X_valid) #замеряем время предсказания\n",
        "    \n",
        "    RMSE = (Y_valid, pred) #замеряем RMSE на valid\n",
        "    \n",
        "Концепт для кросс-валидации:\n",
        "    \n",
        "    model = #инициализируем модель\n",
        "    gs = GridSearchCV(...) #настраиваем поиск по сетке\n",
        "    \n",
        "    gs.fit(...) #находим лучшую модель\n",
        "    \n",
        "    gs.best_score_ #замеряем RMSE на  кросс-валидации\n",
        "    \n",
        "    model = gs.best_estimator_ #получаем лучшую модель из best_estimator\n",
        "    model = #YourModel(random_state = 42, **gs.best_params) #альтернативный способ получения лучшей модели\n",
        "    \n",
        "    model.fit(X_train, Y_train) #замеряем время обучения\n",
        "    model.predict(X_train) #замеряем время предсказания\n",
        "    \n",
        "    \n",
        "По итогу нужно будет провести сравнительную характеристику моделей по критериям метрики `RMSE` и времени работы моделей и выбрать лучшую - именно эта лучшая модель должна будет оцениваться на тестовой выборке."
      ]
    },
    {
      "cell_type": "markdown",
      "metadata": {
        "id": "rJrxlt-rx5R3"
      },
      "source": [
        "<div class=\"alert alert-block alert-danger\">\n",
        "<h2> Комментарий ревьюера v.2 <a class=\"tocSkip\"></h2>\n",
        "\n",
        "    \n",
        "<b>На доработку❌:</b> Актуально в части п.2 - в зависимости от выбранного подхода у всех метрик единообразно нужно замерить метрики."
      ]
    },
    {
      "cell_type": "markdown",
      "metadata": {
        "id": "PTZd1vctx5R4"
      },
      "source": [
        "<div class=\"alert alert-block alert-danger\">\n",
        "<h2> Комментарий ревьюера v.3 <a class=\"tocSkip\"></h2>\n",
        "\n",
        "    \n",
        "<b>На доработку❌:</b> Актуально в части п.1 п.2 - точечные замечания оставил по ходу."
      ]
    },
    {
      "cell_type": "markdown",
      "metadata": {
        "id": "4pepZ5inx5R4"
      },
      "source": [
        "<div class=\"alert alert-success\">\n",
        "<h2> Комментарий ревьюера v.4 <a class=\"tocSkip\"> </h2>\n",
        "\n",
        "<b>Все отлично!👍:</b> Учтено."
      ]
    },
    {
      "cell_type": "markdown",
      "metadata": {
        "id": "YNbkYJA1x5R4"
      },
      "source": [
        "Оценим какие признаки различные модели сочли более или менее важными:"
      ]
    },
    {
      "cell_type": "code",
      "execution_count": null,
      "metadata": {
        "id": "kmaUaivix5R4",
        "outputId": "10214815-a08e-4dd1-e986-3d48f68ecb7c"
      },
      "outputs": [
        {
          "name": "stdout",
          "output_type": "stream",
          "text": [
            "RandomForestRegressor(max_depth=12, n_estimators=8, random_state=42)\n"
          ]
        },
        {
          "data": {
            "image/png": "[encoded data removed]",
            "text/plain": [
              "<Figure size 864x360 with 1 Axes>"
            ]
          },
          "metadata": {
            "needs_background": "light"
          },
          "output_type": "display_data"
        },
        {
          "name": "stdout",
          "output_type": "stream",
          "text": [
            "RandomForestRegressor(max_depth=12, n_estimators=8, random_state=42)\n"
          ]
        },
        {
          "data": {
            "image/png": "[encoded data removed]",
            "text/plain": [
              "<Figure size 864x360 with 1 Axes>"
            ]
          },
          "metadata": {
            "needs_background": "light"
          },
          "output_type": "display_data"
        },
        {
          "name": "stdout",
          "output_type": "stream",
          "text": [
            "LGBMRegressor(n_estimators=139, objective='root_mean_squared_error',\n",
            "              random_state=42)\n"
          ]
        },
        {
          "data": {
            "image/png": "[encoded data removed]",
            "text/plain": [
              "<Figure size 864x360 with 1 Axes>"
            ]
          },
          "metadata": {
            "needs_background": "light"
          },
          "output_type": "display_data"
        },
        {
          "name": "stdout",
          "output_type": "stream",
          "text": [
            "<catboost.core.CatBoostRegressor object at 0x7f46e321b430>\n"
          ]
        },
        {
          "data": {
            "image/png": "[encoded data removed]",
            "text/plain": [
              "<Figure size 864x360 with 1 Axes>"
            ]
          },
          "metadata": {
            "needs_background": "light"
          },
          "output_type": "display_data"
        }
      ],
      "source": [
        "def disaplay_features_importances(model, features):\n",
        "    features = features.columns\n",
        "    n = len(features)\n",
        "\n",
        "    importances = model.feature_importances_\n",
        "    indices = np.argsort(importances)\n",
        "\n",
        "    plt.figure(figsize=(12, 5))\n",
        "    plt.title('Важность признаков')\n",
        "    plt.barh(range(n), importances[indices])\n",
        "    plt.ylabel('Признаки')\n",
        "    plt.yticks(range(len(indices)), features[indices])\n",
        "    plt.xlabel('Относительная важность')\n",
        "    plt.show()\n",
        "\n",
        "for model_results in parameter:\n",
        "    print(model_results[0])\n",
        "    disaplay_features_importances(model_results[0], features_test)"
      ]
    },
    {
      "cell_type": "markdown",
      "metadata": {
        "id": "aF84-PXkx5R4"
      },
      "source": [
        "<div class=\"alert alert-block alert-danger\">\n",
        "<h2> Комментарий ревьюера v.2 <a class=\"tocSkip\"></h2>\n",
        "\n",
        "    \n",
        "<b>На доработку❌:</b> Не подписана ось Y."
      ]
    },
    {
      "cell_type": "markdown",
      "metadata": {
        "id": "eSEcTu4Bx5R5"
      },
      "source": [
        "<div class=\"alert alert-info\">\n",
        "<h2> Комментарий студента 2 <a class=\"tocSkip\"> </h2>\n",
        "\n",
        "Подписал оси Y\n",
        "</div>\n",
        "    "
      ]
    },
    {
      "cell_type": "markdown",
      "metadata": {
        "id": "TYXtdFSIx5R5"
      },
      "source": [
        "<div class=\"alert alert-success\">\n",
        "<h2> Комментарий ревьюера v.3 <a class=\"tocSkip\"> </h2>\n",
        "\n",
        "<b>Все отлично!👍:</b> Учтено."
      ]
    },
    {
      "cell_type": "markdown",
      "metadata": {
        "id": "Ei4v9Xpdx5R5"
      },
      "source": [
        "* Наиболее важные признаки - RegistrationYear и Power у всех моделей.\n",
        "* Также к важным у всех относится и Kilometers (пробег).\n",
        "* Сложные модели -- LGBMRegressor и CatBoostRegressor придают большее значение мощности автомобиля в образовании его цены, чем RandomForestRegressor и DecisionTreeRegressor."
      ]
    },
    {
      "cell_type": "markdown",
      "metadata": {
        "id": "aKO8KjyZx5R5"
      },
      "source": [
        "<div class=\"alert alert-success\">\n",
        "<h2> Комментарий ревьюера <a class=\"tocSkip\"> </h2>\n",
        "\n",
        "<b>Все отлично!👍:</b> Молодец, что анализируешь важность признаков. В целом её обычно смотрят только для лучшей модели, но более широкое исследование в принципе не повредит:)"
      ]
    },
    {
      "cell_type": "markdown",
      "metadata": {
        "id": "Jl8I0BWvx5R5"
      },
      "source": [
        "## Лучшая модель\n",
        "Проверим качество выбранной модели на тестовой выборке: rmse должна быть не больше 2500."
      ]
    },
    {
      "cell_type": "code",
      "execution_count": null,
      "metadata": {
        "id": "q2E7j8exx5R5",
        "outputId": "9c9282e1-651f-4870-e31a-e46327e3bda2"
      },
      "outputs": [
        {
          "name": "stdout",
          "output_type": "stream",
          "text": [
            "Время предсказания 0.12152433395385742\n",
            "RMSE на тестовой выборке: 1542.4835771169073\n"
          ]
        }
      ],
      "source": [
        "best_model = best_cat\n",
        "\n",
        "start = time()\n",
        "best_model_predictions_test = best_cat.predict(features_test)\n",
        "end = time()\n",
        "best_model_time_pred = end - start\n",
        "print(\"Время предсказания\", best_model_time_pred)\n",
        "\n",
        "best_model_rmse_test = mean_squared_error(target_test, best_model_predictions_test, squared=False)\n",
        "print('RMSE на тестовой выборке:', best_model_rmse_test)"
      ]
    },
    {
      "cell_type": "markdown",
      "metadata": {
        "id": "SbQtzGJlx5R6"
      },
      "source": [
        "Таким образом построена и обучена модель, удовлетворяющая требуемому качеству предсказаний.\n",
        "Выполнено сравнение различных моделей по качеству и времени обучения и предсказания."
      ]
    },
    {
      "cell_type": "markdown",
      "metadata": {
        "id": "UpHB1w3qx5R6"
      },
      "source": [
        "<div class=\"alert alert-success\">\n",
        "    \n",
        "<h2> Комментарий ревьюера <a class=\"tocSkip\"> </h2>\n",
        "\n",
        "<b>Все отлично!👍:</b> Лучшую модель оценили на `test` - отличный результат!"
      ]
    },
    {
      "cell_type": "markdown",
      "metadata": {
        "id": "7hn2YneXx5R6"
      },
      "source": [
        "<div class=\"alert alert-warning\">\n",
        "    <h2> Комментарий ревьюера <a class=\"tocSkip\"> </h2>\n",
        "    \n",
        "<b>Некоторые замечания и рекомендации⚠️:</b>\n",
        "Очень важно также проверить лучшую модель на адекватность, сравнив качество её предсказаний с качеством модели, которая предсказывала бы константу - вдруг окажется, что не было бы большого смысла заниматься созданием новых признаков, тюнингом и кросс-валидацией моделей, если можно было бы просто предсказывать среднее значение тренировочной выборки?\n",
        "    \n",
        "В качестве константной модели можно использовать `DummyRegressor` (https://scikit-learn.org/stable/modules/generated/sklearn.dummy.DummyRegressor.html) -  эта модель как раз создана для генерирования константных предсказаний.\n",
        "    \n",
        "Важно, чтобы результат тестирования нашей модели на тествой выборке был лучше, чем результат константной модели - в противном случае наша модель является бесполезной, так как все наши усилия над проектом не принесли результата, а можель, просто предсказывющая среднее на `train`, делает нашу работу лучше."
      ]
    },
    {
      "cell_type": "markdown",
      "metadata": {
        "id": "cfxCpDrBx5R7"
      },
      "source": [
        "<div class=\"alert alert-success\">\n",
        "    \n",
        "<h2> Комментарий ревьюера v.2 <a class=\"tocSkip\"> </h2>\n",
        "\n",
        "<b>Все отлично!👍:</b> Учтено."
      ]
    },
    {
      "cell_type": "markdown",
      "metadata": {
        "id": "5l65JhdZx5R7"
      },
      "source": [
        "Проверим модель на адекватность. Сравним качество предсказаний со сгенерированным константным предсказанием."
      ]
    },
    {
      "cell_type": "code",
      "execution_count": null,
      "metadata": {
        "id": "HWZII0Shx5R7"
      },
      "outputs": [],
      "source": [
        "# from sklearn.dummy import DummyRegressor"
      ]
    },
    {
      "cell_type": "markdown",
      "metadata": {
        "id": "hoWF1izEx5R7"
      },
      "source": [
        "<div class=\"alert alert-warning\">\n",
        "    <h2> Комментарий ревьюера v.2 <a class=\"tocSkip\"> </h2>\n",
        "    \n",
        "<b>Некоторые замечания и рекомендации⚠️:</b>\n",
        "Все библиотеки стоит импортировать в начале проекта - таким образом получатель твоего отчёта сможет узнать о проблемах с его окружением сразу перед работой с проектом, а не посреди или в конце проекта."
      ]
    },
    {
      "cell_type": "markdown",
      "metadata": {
        "id": "SG0DvPKxx5R7"
      },
      "source": [
        "<div class=\"alert alert-success\">\n",
        "<h2> Комментарий ревьюера v.3 <a class=\"tocSkip\"> </h2>\n",
        "\n",
        "<b>Все отлично!👍:</b> Учтено."
      ]
    },
    {
      "cell_type": "code",
      "execution_count": null,
      "metadata": {
        "id": "9fj8lBTvx5R8",
        "outputId": "ab4f2259-c9b5-49d0-e9b3-50d1dc5d0bdb"
      },
      "outputs": [
        {
          "data": {
            "text/plain": [
              "4562.5889661862975"
            ]
          },
          "execution_count": 71,
          "metadata": {},
          "output_type": "execute_result"
        }
      ],
      "source": [
        "dummy_regr = DummyRegressor(strategy=\"mean\")\n",
        "dummy_regr.fit(features_train, target_train)\n",
        "\n",
        "# Predict target values for new data\n",
        "y_pred = dummy_regr.predict(features_test)\n",
        "\n",
        "rmse_dummy_regr = mean_squared_error(target_test, y_pred, squared=False)\n",
        "rmse_dummy_regr"
      ]
    },
    {
      "cell_type": "markdown",
      "metadata": {
        "id": "bbol9hg_x5R8"
      },
      "source": [
        "<div style=\"border:solid Chocolate 2px; padding: 40px\">\n",
        "\n",
        "# Комментарий ревьюера: общий вывод по проекту.\n",
        "\n",
        "Андрей, проект получился на довольно хорошем уровне - отличная работа над проектом, молодец!\n",
        "\n",
        "Мне нравится твой аналитический подход к выполнению проекта, ты соблюдаешь структуру работы, выполняешь её последовательно - это очень хорошо! Шаги проекта выполнены по порядку согласно плану проекта, нет смысловых и структурных ям. Важно, что не забываешь про выводы.\n",
        "    \n",
        "Отмечу отличную предобработку данных - были найдены и корректно обработаны почти все аномалии и пропуски, также выполнено кодирование категориальных переменных.\n",
        "    \n",
        "Работа с моделями также выполнена неплохо: исследовано несколько алгоритмов, проведён подбор гиперпараметров, выполнена промежуточная оценка моделей - молодец!\n",
        "    \n",
        "Над проектом ещё стоит поработать - есть рекомендации по дополнению некоторых твоих шагов проекта. Такие рекомендации я отметил жёлтыми комментариями. Будет здорово, если ты учтёшь их - так проект станет структурно и содержательно более совершенным.\n",
        "    \n",
        "Также в работе есть критические замечания. К этим замечаниям я оставил пояснительные комментарии красного цвета, в которых перечислил возможные варианты дальнейших действий. Уверен, ты быстро с этим управишься:)\n",
        "    \n",
        "Если о том, что нужно сделать в рамках комментариев, будут возникать вопросы - оставь их, пожалуйста, в комментариях, и я отвечу на них во время следующего ревью.\n",
        "    \n",
        "Также буду рад ответить на любые твои вопросы по проекту или на какие-либо другие, если они у тебя имеются - оставь их в комментариях, и я постараюсь ответить:)\n",
        "    \n",
        "Жду твой проект на повторном ревью. До встречи:)"
      ]
    },
    {
      "cell_type": "markdown",
      "metadata": {
        "id": "o36WjHcOx5R8"
      },
      "source": [
        "<div style=\"border:solid Chocolate 2px; padding: 40px\">\n",
        "\n",
        "# Комментарий ревьюера: итоговый вывод по проекту.\n",
        "\n",
        "Андрей, все замечания учтены - проект принят!\n",
        "    \n",
        "Спасибо за хорошую работу над проектом, желаю успехов в дальнейшем обучении:)"
      ]
    }
  ],
  "metadata": {
    "ExecuteTimeLog": [
      {
        "duration": 384,
        "start_time": "2024-04-17T14:29:54.335Z"
      },
      {
        "duration": 65,
        "start_time": "2024-04-17T14:29:57.794Z"
      },
      {
        "duration": 2640,
        "start_time": "2024-04-17T14:31:37.641Z"
      },
      {
        "duration": 871,
        "start_time": "2024-04-17T14:31:54.543Z"
      },
      {
        "duration": 3,
        "start_time": "2024-04-17T14:32:57.883Z"
      },
      {
        "duration": 884,
        "start_time": "2024-04-17T14:33:00.844Z"
      },
      {
        "duration": 2,
        "start_time": "2024-04-17T14:33:10.432Z"
      },
      {
        "duration": 904,
        "start_time": "2024-04-17T14:33:13.492Z"
      },
      {
        "duration": 364,
        "start_time": "2024-04-18T07:46:25.020Z"
      },
      {
        "duration": 58,
        "start_time": "2024-04-18T07:46:51.356Z"
      },
      {
        "duration": 968,
        "start_time": "2024-04-18T07:47:23.883Z"
      },
      {
        "duration": 140,
        "start_time": "2024-04-18T07:47:27.123Z"
      },
      {
        "duration": 944,
        "start_time": "2024-04-18T07:50:23.163Z"
      },
      {
        "duration": 2,
        "start_time": "2024-04-18T07:52:23.624Z"
      },
      {
        "duration": 631,
        "start_time": "2024-04-18T07:52:27.476Z"
      },
      {
        "duration": 561,
        "start_time": "2024-04-18T07:52:59.023Z"
      },
      {
        "duration": 581,
        "start_time": "2024-04-18T07:53:12.983Z"
      },
      {
        "duration": 578,
        "start_time": "2024-04-18T07:53:29.503Z"
      },
      {
        "duration": 572,
        "start_time": "2024-04-18T07:53:40.235Z"
      },
      {
        "duration": 537,
        "start_time": "2024-04-18T07:56:25.143Z"
      },
      {
        "duration": 75,
        "start_time": "2024-04-18T07:57:00.783Z"
      },
      {
        "duration": 114,
        "start_time": "2024-04-18T08:28:10.404Z"
      },
      {
        "duration": 10,
        "start_time": "2024-04-18T08:28:18.764Z"
      },
      {
        "duration": 7,
        "start_time": "2024-04-18T08:32:28.637Z"
      },
      {
        "duration": 92,
        "start_time": "2024-04-18T08:32:36.606Z"
      },
      {
        "duration": 68,
        "start_time": "2024-04-18T08:32:52.298Z"
      },
      {
        "duration": 104,
        "start_time": "2024-04-18T08:33:00.875Z"
      },
      {
        "duration": 6,
        "start_time": "2024-04-18T08:33:56.208Z"
      },
      {
        "duration": 91,
        "start_time": "2024-04-18T08:34:02.427Z"
      },
      {
        "duration": 225,
        "start_time": "2024-04-18T08:37:45.395Z"
      },
      {
        "duration": 72,
        "start_time": "2024-04-18T08:45:46.648Z"
      },
      {
        "duration": 458,
        "start_time": "2024-04-18T08:47:03.947Z"
      },
      {
        "duration": 457,
        "start_time": "2024-04-18T08:48:32.696Z"
      },
      {
        "duration": 457,
        "start_time": "2024-04-18T08:50:05.205Z"
      },
      {
        "duration": 1312,
        "start_time": "2024-04-18T08:51:11.149Z"
      },
      {
        "duration": 453,
        "start_time": "2024-04-18T08:51:22.195Z"
      },
      {
        "duration": 827,
        "start_time": "2024-04-18T08:51:39.449Z"
      },
      {
        "duration": 609,
        "start_time": "2024-04-18T08:52:23.529Z"
      },
      {
        "duration": 962,
        "start_time": "2024-04-18T08:52:33.238Z"
      },
      {
        "duration": 654,
        "start_time": "2024-04-18T08:53:08.164Z"
      },
      {
        "duration": 19,
        "start_time": "2024-04-18T08:54:03.461Z"
      },
      {
        "duration": 547,
        "start_time": "2024-04-18T09:35:06.420Z"
      },
      {
        "duration": 711,
        "start_time": "2024-04-18T09:35:06.969Z"
      },
      {
        "duration": 109,
        "start_time": "2024-04-18T09:35:07.681Z"
      },
      {
        "duration": 16,
        "start_time": "2024-04-18T09:35:07.791Z"
      },
      {
        "duration": 102,
        "start_time": "2024-04-18T09:35:07.809Z"
      },
      {
        "duration": 696,
        "start_time": "2024-04-18T09:35:07.912Z"
      },
      {
        "duration": 114,
        "start_time": "2024-04-18T09:35:08.609Z"
      },
      {
        "duration": 269,
        "start_time": "2024-04-18T09:35:08.724Z"
      },
      {
        "duration": 21,
        "start_time": "2024-04-18T09:35:08.995Z"
      },
      {
        "duration": 1305,
        "start_time": "2024-04-18T10:05:11.902Z"
      },
      {
        "duration": 591,
        "start_time": "2024-04-18T10:05:24.762Z"
      },
      {
        "duration": 80,
        "start_time": "2024-04-18T10:06:12.721Z"
      },
      {
        "duration": 46,
        "start_time": "2024-04-18T10:06:31.902Z"
      },
      {
        "duration": 18,
        "start_time": "2024-04-18T10:06:37.970Z"
      },
      {
        "duration": 35,
        "start_time": "2024-04-18T10:08:06.769Z"
      },
      {
        "duration": 2,
        "start_time": "2024-04-18T10:11:18.769Z"
      },
      {
        "duration": 66,
        "start_time": "2024-04-18T10:11:40.240Z"
      },
      {
        "duration": 41,
        "start_time": "2024-04-18T11:20:30.022Z"
      },
      {
        "duration": 722,
        "start_time": "2024-04-18T11:20:41.172Z"
      },
      {
        "duration": 958,
        "start_time": "2024-04-18T11:20:41.896Z"
      },
      {
        "duration": 100,
        "start_time": "2024-04-18T11:20:42.855Z"
      },
      {
        "duration": 17,
        "start_time": "2024-04-18T11:20:42.956Z"
      },
      {
        "duration": 89,
        "start_time": "2024-04-18T11:20:42.975Z"
      },
      {
        "duration": 689,
        "start_time": "2024-04-18T11:20:43.065Z"
      },
      {
        "duration": 19,
        "start_time": "2024-04-18T11:20:43.756Z"
      },
      {
        "duration": 69,
        "start_time": "2024-04-18T11:20:43.784Z"
      },
      {
        "duration": 113,
        "start_time": "2024-04-18T11:20:43.854Z"
      },
      {
        "duration": 253,
        "start_time": "2024-04-18T11:20:43.968Z"
      },
      {
        "duration": 31,
        "start_time": "2024-04-18T11:20:44.222Z"
      },
      {
        "duration": 78,
        "start_time": "2024-04-18T11:20:44.254Z"
      },
      {
        "duration": 174,
        "start_time": "2024-04-18T11:20:56.052Z"
      },
      {
        "duration": 1297,
        "start_time": "2024-04-18T11:26:32.716Z"
      },
      {
        "duration": 577,
        "start_time": "2024-04-18T11:26:40.104Z"
      },
      {
        "duration": 703,
        "start_time": "2024-04-18T11:26:40.682Z"
      },
      {
        "duration": 117,
        "start_time": "2024-04-18T11:26:41.387Z"
      },
      {
        "duration": 21,
        "start_time": "2024-04-18T11:26:41.506Z"
      },
      {
        "duration": 114,
        "start_time": "2024-04-18T11:26:41.529Z"
      },
      {
        "duration": 715,
        "start_time": "2024-04-18T11:26:41.644Z"
      },
      {
        "duration": 131,
        "start_time": "2024-04-18T11:26:42.361Z"
      },
      {
        "duration": 0,
        "start_time": "2024-04-18T11:26:42.494Z"
      },
      {
        "duration": 0,
        "start_time": "2024-04-18T11:26:42.495Z"
      },
      {
        "duration": 0,
        "start_time": "2024-04-18T11:26:42.497Z"
      },
      {
        "duration": 0,
        "start_time": "2024-04-18T11:26:42.498Z"
      },
      {
        "duration": 0,
        "start_time": "2024-04-18T11:26:42.499Z"
      },
      {
        "duration": 0,
        "start_time": "2024-04-18T11:26:42.501Z"
      },
      {
        "duration": 9,
        "start_time": "2024-04-18T11:27:09.234Z"
      },
      {
        "duration": 8,
        "start_time": "2024-04-18T11:27:19.894Z"
      },
      {
        "duration": 11,
        "start_time": "2024-04-18T11:28:52.654Z"
      },
      {
        "duration": 8,
        "start_time": "2024-04-18T11:29:24.493Z"
      },
      {
        "duration": 516,
        "start_time": "2024-04-18T11:29:32.534Z"
      },
      {
        "duration": 716,
        "start_time": "2024-04-18T11:29:33.052Z"
      },
      {
        "duration": 107,
        "start_time": "2024-04-18T11:29:33.770Z"
      },
      {
        "duration": 13,
        "start_time": "2024-04-18T11:29:33.885Z"
      },
      {
        "duration": 87,
        "start_time": "2024-04-18T11:29:33.900Z"
      },
      {
        "duration": 717,
        "start_time": "2024-04-18T11:29:33.989Z"
      },
      {
        "duration": 94,
        "start_time": "2024-04-18T11:29:34.708Z"
      },
      {
        "duration": 26,
        "start_time": "2024-04-18T11:29:34.803Z"
      },
      {
        "duration": 78,
        "start_time": "2024-04-18T11:29:34.830Z"
      },
      {
        "duration": 112,
        "start_time": "2024-04-18T11:29:34.910Z"
      },
      {
        "duration": 214,
        "start_time": "2024-04-18T11:29:35.023Z"
      },
      {
        "duration": 29,
        "start_time": "2024-04-18T11:29:35.239Z"
      },
      {
        "duration": 78,
        "start_time": "2024-04-18T11:29:35.270Z"
      },
      {
        "duration": 623,
        "start_time": "2024-04-18T11:30:07.103Z"
      },
      {
        "duration": 697,
        "start_time": "2024-04-18T11:30:07.727Z"
      },
      {
        "duration": 99,
        "start_time": "2024-04-18T11:30:08.425Z"
      },
      {
        "duration": 13,
        "start_time": "2024-04-18T11:30:08.526Z"
      },
      {
        "duration": 100,
        "start_time": "2024-04-18T11:30:08.541Z"
      },
      {
        "duration": 694,
        "start_time": "2024-04-18T11:30:08.643Z"
      },
      {
        "duration": 94,
        "start_time": "2024-04-18T11:30:09.339Z"
      },
      {
        "duration": 2,
        "start_time": "2024-04-18T11:30:09.435Z"
      },
      {
        "duration": 72,
        "start_time": "2024-04-18T11:30:09.439Z"
      },
      {
        "duration": 190,
        "start_time": "2024-04-18T11:30:09.513Z"
      },
      {
        "duration": 245,
        "start_time": "2024-04-18T11:30:09.705Z"
      },
      {
        "duration": 53,
        "start_time": "2024-04-18T11:30:09.951Z"
      },
      {
        "duration": 80,
        "start_time": "2024-04-18T11:30:10.005Z"
      },
      {
        "duration": 13,
        "start_time": "2024-04-18T11:30:26.455Z"
      },
      {
        "duration": 17,
        "start_time": "2024-04-18T11:54:41.422Z"
      },
      {
        "duration": 16,
        "start_time": "2024-04-18T11:55:03.293Z"
      },
      {
        "duration": 15,
        "start_time": "2024-04-18T11:55:06.482Z"
      },
      {
        "duration": 16,
        "start_time": "2024-04-18T11:55:11.583Z"
      },
      {
        "duration": 79,
        "start_time": "2024-04-18T11:56:02.483Z"
      },
      {
        "duration": 28,
        "start_time": "2024-04-18T11:58:37.402Z"
      },
      {
        "duration": 526,
        "start_time": "2024-04-18T11:58:43.043Z"
      },
      {
        "duration": 700,
        "start_time": "2024-04-18T11:58:43.571Z"
      },
      {
        "duration": 102,
        "start_time": "2024-04-18T11:58:44.272Z"
      },
      {
        "duration": 15,
        "start_time": "2024-04-18T11:58:44.375Z"
      },
      {
        "duration": 84,
        "start_time": "2024-04-18T11:58:44.392Z"
      },
      {
        "duration": 676,
        "start_time": "2024-04-18T11:58:44.477Z"
      },
      {
        "duration": 89,
        "start_time": "2024-04-18T11:58:45.155Z"
      },
      {
        "duration": 28,
        "start_time": "2024-04-18T11:58:45.246Z"
      },
      {
        "duration": 127,
        "start_time": "2024-04-18T11:58:45.275Z"
      },
      {
        "duration": 213,
        "start_time": "2024-04-18T11:58:45.404Z"
      },
      {
        "duration": 38,
        "start_time": "2024-04-18T11:58:45.618Z"
      },
      {
        "duration": 73,
        "start_time": "2024-04-18T11:58:45.658Z"
      },
      {
        "duration": 175,
        "start_time": "2024-04-18T11:59:04.703Z"
      },
      {
        "duration": 174,
        "start_time": "2024-04-18T12:01:07.032Z"
      },
      {
        "duration": 23,
        "start_time": "2024-04-18T12:01:09.932Z"
      },
      {
        "duration": 180,
        "start_time": "2024-04-18T12:01:13.532Z"
      },
      {
        "duration": 3,
        "start_time": "2024-04-18T12:01:52.640Z"
      },
      {
        "duration": 3,
        "start_time": "2024-04-18T12:02:40.380Z"
      },
      {
        "duration": 62,
        "start_time": "2024-04-18T12:03:10.340Z"
      },
      {
        "duration": 5,
        "start_time": "2024-04-18T12:03:19.000Z"
      },
      {
        "duration": 3,
        "start_time": "2024-04-18T12:03:32.812Z"
      },
      {
        "duration": 529,
        "start_time": "2024-04-18T12:03:48.345Z"
      },
      {
        "duration": 690,
        "start_time": "2024-04-18T12:03:48.876Z"
      },
      {
        "duration": 106,
        "start_time": "2024-04-18T12:03:49.568Z"
      },
      {
        "duration": 22,
        "start_time": "2024-04-18T12:03:49.675Z"
      },
      {
        "duration": 92,
        "start_time": "2024-04-18T12:03:49.698Z"
      },
      {
        "duration": 710,
        "start_time": "2024-04-18T12:03:49.791Z"
      },
      {
        "duration": 87,
        "start_time": "2024-04-18T12:03:50.503Z"
      },
      {
        "duration": 25,
        "start_time": "2024-04-18T12:03:50.591Z"
      },
      {
        "duration": 126,
        "start_time": "2024-04-18T12:03:50.617Z"
      },
      {
        "duration": 233,
        "start_time": "2024-04-18T12:03:50.745Z"
      },
      {
        "duration": 6,
        "start_time": "2024-04-18T12:03:50.979Z"
      },
      {
        "duration": 49,
        "start_time": "2024-04-18T12:03:50.986Z"
      },
      {
        "duration": 191,
        "start_time": "2024-04-18T12:03:51.036Z"
      },
      {
        "duration": 4,
        "start_time": "2024-04-18T12:03:51.228Z"
      },
      {
        "duration": 82,
        "start_time": "2024-04-18T12:03:51.233Z"
      },
      {
        "duration": 4,
        "start_time": "2024-04-18T12:06:21.374Z"
      },
      {
        "duration": 3,
        "start_time": "2024-04-18T12:07:17.770Z"
      },
      {
        "duration": 68,
        "start_time": "2024-04-18T12:07:49.194Z"
      },
      {
        "duration": 3,
        "start_time": "2024-04-18T12:07:54.882Z"
      },
      {
        "duration": 3,
        "start_time": "2024-04-18T12:07:58.731Z"
      },
      {
        "duration": 602,
        "start_time": "2024-04-18T12:08:05.478Z"
      },
      {
        "duration": 707,
        "start_time": "2024-04-18T12:08:06.083Z"
      },
      {
        "duration": 111,
        "start_time": "2024-04-18T12:08:06.792Z"
      },
      {
        "duration": 25,
        "start_time": "2024-04-18T12:08:06.905Z"
      },
      {
        "duration": 109,
        "start_time": "2024-04-18T12:08:06.932Z"
      },
      {
        "duration": 710,
        "start_time": "2024-04-18T12:08:07.042Z"
      },
      {
        "duration": 88,
        "start_time": "2024-04-18T12:08:07.753Z"
      },
      {
        "duration": 29,
        "start_time": "2024-04-18T12:08:07.842Z"
      },
      {
        "duration": 131,
        "start_time": "2024-04-18T12:08:07.872Z"
      },
      {
        "duration": 224,
        "start_time": "2024-04-18T12:08:08.004Z"
      },
      {
        "duration": 3,
        "start_time": "2024-04-18T12:08:08.229Z"
      },
      {
        "duration": 57,
        "start_time": "2024-04-18T12:08:08.234Z"
      },
      {
        "duration": 180,
        "start_time": "2024-04-18T12:08:08.293Z"
      },
      {
        "duration": 9,
        "start_time": "2024-04-18T12:08:08.475Z"
      },
      {
        "duration": 78,
        "start_time": "2024-04-18T12:08:08.485Z"
      },
      {
        "duration": 512,
        "start_time": "2024-04-18T12:11:02.541Z"
      },
      {
        "duration": 668,
        "start_time": "2024-04-18T12:11:03.054Z"
      },
      {
        "duration": 120,
        "start_time": "2024-04-18T12:11:03.723Z"
      },
      {
        "duration": 13,
        "start_time": "2024-04-18T12:11:03.844Z"
      },
      {
        "duration": 92,
        "start_time": "2024-04-18T12:11:03.859Z"
      },
      {
        "duration": 675,
        "start_time": "2024-04-18T12:11:03.953Z"
      },
      {
        "duration": 84,
        "start_time": "2024-04-18T12:11:04.629Z"
      },
      {
        "duration": 24,
        "start_time": "2024-04-18T12:11:04.714Z"
      },
      {
        "duration": 113,
        "start_time": "2024-04-18T12:11:04.739Z"
      },
      {
        "duration": 216,
        "start_time": "2024-04-18T12:11:04.853Z"
      },
      {
        "duration": 3,
        "start_time": "2024-04-18T12:11:05.070Z"
      },
      {
        "duration": 50,
        "start_time": "2024-04-18T12:11:05.074Z"
      },
      {
        "duration": 178,
        "start_time": "2024-04-18T12:11:05.125Z"
      },
      {
        "duration": 5,
        "start_time": "2024-04-18T12:11:05.305Z"
      },
      {
        "duration": 87,
        "start_time": "2024-04-18T12:11:05.311Z"
      },
      {
        "duration": 49,
        "start_time": "2024-04-19T04:37:21.356Z"
      },
      {
        "duration": 789,
        "start_time": "2024-04-19T04:37:28.193Z"
      },
      {
        "duration": 1138,
        "start_time": "2024-04-19T04:37:28.985Z"
      },
      {
        "duration": 155,
        "start_time": "2024-04-19T04:37:30.124Z"
      },
      {
        "duration": 47,
        "start_time": "2024-04-19T04:37:30.281Z"
      },
      {
        "duration": 147,
        "start_time": "2024-04-19T04:37:30.330Z"
      },
      {
        "duration": 941,
        "start_time": "2024-04-19T04:37:30.478Z"
      },
      {
        "duration": 119,
        "start_time": "2024-04-19T04:37:31.421Z"
      },
      {
        "duration": 4,
        "start_time": "2024-04-19T04:37:31.542Z"
      },
      {
        "duration": 55,
        "start_time": "2024-04-19T04:37:31.548Z"
      },
      {
        "duration": 151,
        "start_time": "2024-04-19T04:37:31.604Z"
      },
      {
        "duration": 4,
        "start_time": "2024-04-19T04:37:31.757Z"
      },
      {
        "duration": 170,
        "start_time": "2024-04-19T04:37:31.762Z"
      },
      {
        "duration": 301,
        "start_time": "2024-04-19T04:37:31.934Z"
      },
      {
        "duration": 4,
        "start_time": "2024-04-19T04:37:32.237Z"
      },
      {
        "duration": 123,
        "start_time": "2024-04-19T04:37:32.242Z"
      },
      {
        "duration": 170,
        "start_time": "2024-04-19T04:39:26.484Z"
      },
      {
        "duration": 113,
        "start_time": "2024-04-19T04:39:40.604Z"
      },
      {
        "duration": 480,
        "start_time": "2024-04-19T04:39:52.543Z"
      },
      {
        "duration": 11,
        "start_time": "2024-04-19T04:50:36.943Z"
      },
      {
        "duration": 14,
        "start_time": "2024-04-19T04:50:49.504Z"
      },
      {
        "duration": 4,
        "start_time": "2024-04-19T04:51:55.714Z"
      },
      {
        "duration": 4,
        "start_time": "2024-04-19T04:52:31.643Z"
      },
      {
        "duration": 4,
        "start_time": "2024-04-19T04:53:03.204Z"
      },
      {
        "duration": 11,
        "start_time": "2024-04-19T04:56:03.023Z"
      },
      {
        "duration": 11,
        "start_time": "2024-04-19T04:56:20.592Z"
      },
      {
        "duration": 29,
        "start_time": "2024-04-19T04:56:36.463Z"
      },
      {
        "duration": 25,
        "start_time": "2024-04-19T04:57:16.424Z"
      },
      {
        "duration": 4,
        "start_time": "2024-04-19T04:57:55.625Z"
      },
      {
        "duration": 674,
        "start_time": "2024-04-19T04:58:02.844Z"
      },
      {
        "duration": 883,
        "start_time": "2024-04-19T04:58:03.520Z"
      },
      {
        "duration": 157,
        "start_time": "2024-04-19T04:58:04.405Z"
      },
      {
        "duration": 19,
        "start_time": "2024-04-19T04:58:04.564Z"
      },
      {
        "duration": 104,
        "start_time": "2024-04-19T04:58:04.585Z"
      },
      {
        "duration": 824,
        "start_time": "2024-04-19T04:58:04.691Z"
      },
      {
        "duration": 104,
        "start_time": "2024-04-19T04:58:05.517Z"
      },
      {
        "duration": 5,
        "start_time": "2024-04-19T04:58:05.622Z"
      },
      {
        "duration": 36,
        "start_time": "2024-04-19T04:58:05.628Z"
      },
      {
        "duration": 142,
        "start_time": "2024-04-19T04:58:05.670Z"
      },
      {
        "duration": 4,
        "start_time": "2024-04-19T04:58:05.814Z"
      },
      {
        "duration": 72,
        "start_time": "2024-04-19T04:58:05.820Z"
      },
      {
        "duration": 285,
        "start_time": "2024-04-19T04:58:05.894Z"
      },
      {
        "duration": 4,
        "start_time": "2024-04-19T04:58:06.182Z"
      },
      {
        "duration": 478,
        "start_time": "2024-04-19T04:58:06.187Z"
      },
      {
        "duration": 10,
        "start_time": "2024-04-19T04:58:06.670Z"
      },
      {
        "duration": 37,
        "start_time": "2024-04-19T04:58:06.682Z"
      },
      {
        "duration": 96,
        "start_time": "2024-04-19T04:58:06.721Z"
      },
      {
        "duration": 169,
        "start_time": "2024-04-19T04:58:45.502Z"
      },
      {
        "duration": 11,
        "start_time": "2024-04-19T05:00:45.822Z"
      },
      {
        "duration": 12,
        "start_time": "2024-04-19T05:01:13.701Z"
      },
      {
        "duration": 181,
        "start_time": "2024-04-19T05:01:59.643Z"
      },
      {
        "duration": 91,
        "start_time": "2024-04-19T05:03:34.582Z"
      },
      {
        "duration": 110,
        "start_time": "2024-04-19T05:19:16.721Z"
      },
      {
        "duration": 92,
        "start_time": "2024-04-19T05:22:17.059Z"
      },
      {
        "duration": 466,
        "start_time": "2024-04-19T05:33:22.876Z"
      },
      {
        "duration": 92,
        "start_time": "2024-04-19T05:36:43.456Z"
      },
      {
        "duration": 491,
        "start_time": "2024-04-19T05:37:11.707Z"
      },
      {
        "duration": 511,
        "start_time": "2024-04-19T05:38:02.034Z"
      },
      {
        "duration": 500,
        "start_time": "2024-04-19T05:38:36.604Z"
      },
      {
        "duration": 509,
        "start_time": "2024-04-19T05:38:55.303Z"
      },
      {
        "duration": 77,
        "start_time": "2024-04-19T05:44:22.474Z"
      },
      {
        "duration": 213,
        "start_time": "2024-04-19T05:44:47.235Z"
      },
      {
        "duration": 401,
        "start_time": "2024-04-19T05:45:03.962Z"
      },
      {
        "duration": 873,
        "start_time": "2024-04-19T05:46:21.578Z"
      },
      {
        "duration": 899,
        "start_time": "2024-04-19T05:46:22.453Z"
      },
      {
        "duration": 150,
        "start_time": "2024-04-19T05:46:23.353Z"
      },
      {
        "duration": 16,
        "start_time": "2024-04-19T05:46:23.505Z"
      },
      {
        "duration": 106,
        "start_time": "2024-04-19T05:46:23.523Z"
      },
      {
        "duration": 918,
        "start_time": "2024-04-19T05:46:23.630Z"
      },
      {
        "duration": 103,
        "start_time": "2024-04-19T05:46:24.550Z"
      },
      {
        "duration": 16,
        "start_time": "2024-04-19T05:46:24.655Z"
      },
      {
        "duration": 29,
        "start_time": "2024-04-19T05:46:24.673Z"
      },
      {
        "duration": 156,
        "start_time": "2024-04-19T05:46:24.704Z"
      },
      {
        "duration": 10,
        "start_time": "2024-04-19T05:46:24.861Z"
      },
      {
        "duration": 45,
        "start_time": "2024-04-19T05:46:24.873Z"
      },
      {
        "duration": 302,
        "start_time": "2024-04-19T05:46:24.920Z"
      },
      {
        "duration": 4,
        "start_time": "2024-04-19T05:46:25.225Z"
      },
      {
        "duration": 490,
        "start_time": "2024-04-19T05:46:25.231Z"
      },
      {
        "duration": 11,
        "start_time": "2024-04-19T05:46:25.722Z"
      },
      {
        "duration": 43,
        "start_time": "2024-04-19T05:46:25.734Z"
      },
      {
        "duration": 202,
        "start_time": "2024-04-19T05:46:25.779Z"
      },
      {
        "duration": 384,
        "start_time": "2024-04-19T05:46:25.982Z"
      },
      {
        "duration": 86,
        "start_time": "2024-04-19T05:46:26.369Z"
      },
      {
        "duration": 114,
        "start_time": "2024-04-19T05:46:26.457Z"
      },
      {
        "duration": 462,
        "start_time": "2024-04-19T05:46:26.573Z"
      },
      {
        "duration": 14,
        "start_time": "2024-04-19T05:49:08.898Z"
      },
      {
        "duration": 24,
        "start_time": "2024-04-19T05:50:56.778Z"
      },
      {
        "duration": 676,
        "start_time": "2024-04-19T06:27:21.259Z"
      },
      {
        "duration": 929,
        "start_time": "2024-04-19T06:27:21.937Z"
      },
      {
        "duration": 156,
        "start_time": "2024-04-19T06:27:22.868Z"
      },
      {
        "duration": 16,
        "start_time": "2024-04-19T06:27:23.025Z"
      },
      {
        "duration": 109,
        "start_time": "2024-04-19T06:27:23.043Z"
      },
      {
        "duration": 849,
        "start_time": "2024-04-19T06:27:23.154Z"
      },
      {
        "duration": 111,
        "start_time": "2024-04-19T06:27:24.005Z"
      },
      {
        "duration": 5,
        "start_time": "2024-04-19T06:27:24.117Z"
      },
      {
        "duration": 46,
        "start_time": "2024-04-19T06:27:24.123Z"
      },
      {
        "duration": 145,
        "start_time": "2024-04-19T06:27:24.171Z"
      },
      {
        "duration": 3,
        "start_time": "2024-04-19T06:27:24.318Z"
      },
      {
        "duration": 53,
        "start_time": "2024-04-19T06:27:24.323Z"
      },
      {
        "duration": 287,
        "start_time": "2024-04-19T06:27:24.378Z"
      },
      {
        "duration": 4,
        "start_time": "2024-04-19T06:27:24.670Z"
      },
      {
        "duration": 474,
        "start_time": "2024-04-19T06:27:24.675Z"
      },
      {
        "duration": 19,
        "start_time": "2024-04-19T06:27:25.151Z"
      },
      {
        "duration": 26,
        "start_time": "2024-04-19T06:27:25.171Z"
      },
      {
        "duration": 220,
        "start_time": "2024-04-19T06:27:25.198Z"
      },
      {
        "duration": 389,
        "start_time": "2024-04-19T06:27:25.420Z"
      },
      {
        "duration": 10,
        "start_time": "2024-04-19T06:27:25.811Z"
      },
      {
        "duration": 19,
        "start_time": "2024-04-19T06:27:25.823Z"
      },
      {
        "duration": 102,
        "start_time": "2024-04-19T06:27:25.844Z"
      },
      {
        "duration": 102,
        "start_time": "2024-04-19T06:27:25.947Z"
      },
      {
        "duration": 472,
        "start_time": "2024-04-19T06:27:26.051Z"
      },
      {
        "duration": 83,
        "start_time": "2024-04-19T06:34:36.729Z"
      },
      {
        "duration": 15,
        "start_time": "2024-04-19T06:35:10.777Z"
      },
      {
        "duration": 24,
        "start_time": "2024-04-19T06:35:27.429Z"
      },
      {
        "duration": 81,
        "start_time": "2024-04-19T06:35:59.677Z"
      },
      {
        "duration": 25,
        "start_time": "2024-04-19T06:36:03.876Z"
      },
      {
        "duration": 7,
        "start_time": "2024-04-19T06:41:19.257Z"
      },
      {
        "duration": 80,
        "start_time": "2024-04-19T06:41:33.495Z"
      },
      {
        "duration": 79,
        "start_time": "2024-04-19T06:43:38.456Z"
      },
      {
        "duration": 24,
        "start_time": "2024-04-19T06:44:57.564Z"
      },
      {
        "duration": 10,
        "start_time": "2024-04-19T06:51:14.620Z"
      },
      {
        "duration": 9,
        "start_time": "2024-04-19T06:52:11.880Z"
      },
      {
        "duration": 3,
        "start_time": "2024-04-19T06:52:17.300Z"
      },
      {
        "duration": 11,
        "start_time": "2024-04-19T06:52:27.752Z"
      },
      {
        "duration": 7446,
        "start_time": "2024-04-19T06:53:04.580Z"
      },
      {
        "duration": 7321,
        "start_time": "2024-04-19T06:59:35.774Z"
      },
      {
        "duration": 25,
        "start_time": "2024-04-19T07:01:30.815Z"
      },
      {
        "duration": 14027,
        "start_time": "2024-04-19T07:03:05.528Z"
      },
      {
        "duration": 25,
        "start_time": "2024-04-19T07:03:35.074Z"
      },
      {
        "duration": 26,
        "start_time": "2024-04-19T07:08:32.594Z"
      },
      {
        "duration": 26,
        "start_time": "2024-04-19T07:08:54.969Z"
      },
      {
        "duration": 479,
        "start_time": "2024-04-19T07:13:03.560Z"
      },
      {
        "duration": 426,
        "start_time": "2024-04-19T07:14:01.203Z"
      },
      {
        "duration": 124,
        "start_time": "2024-04-19T07:20:11.821Z"
      },
      {
        "duration": 32,
        "start_time": "2024-04-19T07:20:23.323Z"
      },
      {
        "duration": 128,
        "start_time": "2024-04-19T07:20:55.740Z"
      },
      {
        "duration": 164,
        "start_time": "2024-04-19T07:30:10.391Z"
      },
      {
        "duration": 187,
        "start_time": "2024-04-19T07:30:31.071Z"
      },
      {
        "duration": 27,
        "start_time": "2024-04-19T07:40:10.782Z"
      },
      {
        "duration": 611,
        "start_time": "2024-04-19T07:40:18.220Z"
      },
      {
        "duration": 901,
        "start_time": "2024-04-19T07:40:18.832Z"
      },
      {
        "duration": 160,
        "start_time": "2024-04-19T07:40:19.735Z"
      },
      {
        "duration": 16,
        "start_time": "2024-04-19T07:40:19.897Z"
      },
      {
        "duration": 116,
        "start_time": "2024-04-19T07:40:19.915Z"
      },
      {
        "duration": 904,
        "start_time": "2024-04-19T07:40:20.033Z"
      },
      {
        "duration": 120,
        "start_time": "2024-04-19T07:40:20.939Z"
      },
      {
        "duration": 10,
        "start_time": "2024-04-19T07:40:21.061Z"
      },
      {
        "duration": 38,
        "start_time": "2024-04-19T07:40:21.073Z"
      },
      {
        "duration": 147,
        "start_time": "2024-04-19T07:40:21.113Z"
      },
      {
        "duration": 9,
        "start_time": "2024-04-19T07:40:21.261Z"
      },
      {
        "duration": 52,
        "start_time": "2024-04-19T07:40:21.271Z"
      },
      {
        "duration": 303,
        "start_time": "2024-04-19T07:40:21.325Z"
      },
      {
        "duration": 4,
        "start_time": "2024-04-19T07:40:21.631Z"
      },
      {
        "duration": 524,
        "start_time": "2024-04-19T07:40:21.636Z"
      },
      {
        "duration": 34,
        "start_time": "2024-04-19T07:40:22.162Z"
      },
      {
        "duration": 222,
        "start_time": "2024-04-19T07:40:22.198Z"
      },
      {
        "duration": 388,
        "start_time": "2024-04-19T07:40:22.422Z"
      },
      {
        "duration": 24,
        "start_time": "2024-04-19T07:40:22.811Z"
      },
      {
        "duration": 101,
        "start_time": "2024-04-19T07:40:22.837Z"
      },
      {
        "duration": 12744,
        "start_time": "2024-04-19T07:40:22.940Z"
      },
      {
        "duration": 25,
        "start_time": "2024-04-19T07:40:35.685Z"
      },
      {
        "duration": 27,
        "start_time": "2024-04-19T07:40:35.711Z"
      },
      {
        "duration": 431,
        "start_time": "2024-04-19T07:40:35.739Z"
      },
      {
        "duration": 175,
        "start_time": "2024-04-19T07:40:36.172Z"
      },
      {
        "duration": 93,
        "start_time": "2024-04-19T07:40:36.348Z"
      },
      {
        "duration": 107,
        "start_time": "2024-04-19T07:40:36.443Z"
      },
      {
        "duration": 484,
        "start_time": "2024-04-19T07:40:36.551Z"
      },
      {
        "duration": 30,
        "start_time": "2024-04-19T07:42:51.330Z"
      },
      {
        "duration": 2,
        "start_time": "2024-04-19T07:49:07.349Z"
      },
      {
        "duration": 77,
        "start_time": "2024-04-19T08:48:33.077Z"
      },
      {
        "duration": 417,
        "start_time": "2024-04-19T08:49:00.365Z"
      },
      {
        "duration": 17,
        "start_time": "2024-04-19T08:50:09.697Z"
      },
      {
        "duration": 95,
        "start_time": "2024-04-19T09:00:36.376Z"
      },
      {
        "duration": 81,
        "start_time": "2024-04-19T09:00:57.176Z"
      },
      {
        "duration": 91,
        "start_time": "2024-04-19T09:01:43.348Z"
      },
      {
        "duration": 124,
        "start_time": "2024-04-19T09:02:02.277Z"
      },
      {
        "duration": 112,
        "start_time": "2024-04-19T09:05:15.579Z"
      },
      {
        "duration": 61,
        "start_time": "2024-04-19T09:08:16.396Z"
      },
      {
        "duration": 42,
        "start_time": "2024-04-19T09:11:42.956Z"
      },
      {
        "duration": 82,
        "start_time": "2024-04-19T09:13:18.316Z"
      },
      {
        "duration": 46,
        "start_time": "2024-04-19T09:14:07.947Z"
      },
      {
        "duration": 8,
        "start_time": "2024-04-19T09:14:22.216Z"
      },
      {
        "duration": 9,
        "start_time": "2024-04-19T09:14:59.456Z"
      },
      {
        "duration": 45,
        "start_time": "2024-04-19T09:15:06.127Z"
      },
      {
        "duration": 48,
        "start_time": "2024-04-19T09:15:27.204Z"
      },
      {
        "duration": 12932,
        "start_time": "2024-04-19T09:15:48.564Z"
      },
      {
        "duration": 17972,
        "start_time": "2024-04-19T09:16:13.596Z"
      },
      {
        "duration": 1429,
        "start_time": "2024-04-19T09:17:35.376Z"
      },
      {
        "duration": 102,
        "start_time": "2024-04-19T09:17:53.376Z"
      },
      {
        "duration": 1280,
        "start_time": "2024-04-19T09:18:43.976Z"
      },
      {
        "duration": 48,
        "start_time": "2024-04-19T11:14:26.888Z"
      },
      {
        "duration": 5,
        "start_time": "2024-04-19T11:14:44.106Z"
      },
      {
        "duration": 821,
        "start_time": "2024-04-19T11:15:34.767Z"
      },
      {
        "duration": 1173,
        "start_time": "2024-04-19T11:15:35.591Z"
      },
      {
        "duration": 149,
        "start_time": "2024-04-19T11:15:36.765Z"
      },
      {
        "duration": 16,
        "start_time": "2024-04-19T11:15:36.916Z"
      },
      {
        "duration": 105,
        "start_time": "2024-04-19T11:15:36.934Z"
      },
      {
        "duration": 893,
        "start_time": "2024-04-19T11:15:37.041Z"
      },
      {
        "duration": 100,
        "start_time": "2024-04-19T11:15:37.936Z"
      },
      {
        "duration": 5,
        "start_time": "2024-04-19T11:15:38.038Z"
      },
      {
        "duration": 38,
        "start_time": "2024-04-19T11:15:38.044Z"
      },
      {
        "duration": 151,
        "start_time": "2024-04-19T11:15:38.084Z"
      },
      {
        "duration": 4,
        "start_time": "2024-04-19T11:15:38.237Z"
      },
      {
        "duration": 61,
        "start_time": "2024-04-19T11:15:38.243Z"
      },
      {
        "duration": 243,
        "start_time": "2024-04-19T11:15:38.306Z"
      },
      {
        "duration": 4,
        "start_time": "2024-04-19T11:15:38.551Z"
      },
      {
        "duration": 450,
        "start_time": "2024-04-19T11:15:38.570Z"
      },
      {
        "duration": 30,
        "start_time": "2024-04-19T11:15:39.021Z"
      },
      {
        "duration": 207,
        "start_time": "2024-04-19T11:15:39.052Z"
      },
      {
        "duration": 376,
        "start_time": "2024-04-19T11:15:39.261Z"
      },
      {
        "duration": 32,
        "start_time": "2024-04-19T11:15:39.638Z"
      },
      {
        "duration": 79,
        "start_time": "2024-04-19T11:15:39.672Z"
      },
      {
        "duration": 11466,
        "start_time": "2024-04-19T11:15:39.753Z"
      },
      {
        "duration": 23,
        "start_time": "2024-04-19T11:15:51.220Z"
      },
      {
        "duration": 38,
        "start_time": "2024-04-19T11:15:51.245Z"
      },
      {
        "duration": 402,
        "start_time": "2024-04-19T11:15:51.284Z"
      },
      {
        "duration": 176,
        "start_time": "2024-04-19T11:15:51.688Z"
      },
      {
        "duration": 101,
        "start_time": "2024-04-19T11:15:51.870Z"
      },
      {
        "duration": 100,
        "start_time": "2024-04-19T11:15:51.972Z"
      },
      {
        "duration": 449,
        "start_time": "2024-04-19T11:15:52.073Z"
      },
      {
        "duration": 110,
        "start_time": "2024-04-19T11:15:52.523Z"
      },
      {
        "duration": 431,
        "start_time": "2024-04-19T11:16:00.914Z"
      },
      {
        "duration": 104,
        "start_time": "2024-04-19T11:16:25.946Z"
      },
      {
        "duration": 433,
        "start_time": "2024-04-19T11:16:28.127Z"
      },
      {
        "duration": 103,
        "start_time": "2024-04-19T11:17:26.626Z"
      },
      {
        "duration": 430,
        "start_time": "2024-04-19T11:17:29.266Z"
      },
      {
        "duration": 94,
        "start_time": "2024-04-19T11:17:58.406Z"
      },
      {
        "duration": 11,
        "start_time": "2024-04-19T11:18:00.586Z"
      },
      {
        "duration": 657,
        "start_time": "2024-04-19T11:18:08.978Z"
      },
      {
        "duration": 953,
        "start_time": "2024-04-19T11:18:09.637Z"
      },
      {
        "duration": 152,
        "start_time": "2024-04-19T11:18:10.592Z"
      },
      {
        "duration": 24,
        "start_time": "2024-04-19T11:18:10.746Z"
      },
      {
        "duration": 115,
        "start_time": "2024-04-19T11:18:10.772Z"
      },
      {
        "duration": 921,
        "start_time": "2024-04-19T11:18:10.888Z"
      },
      {
        "duration": 104,
        "start_time": "2024-04-19T11:18:11.810Z"
      },
      {
        "duration": 4,
        "start_time": "2024-04-19T11:18:11.916Z"
      },
      {
        "duration": 31,
        "start_time": "2024-04-19T11:18:11.922Z"
      },
      {
        "duration": 156,
        "start_time": "2024-04-19T11:18:11.955Z"
      },
      {
        "duration": 4,
        "start_time": "2024-04-19T11:18:12.113Z"
      },
      {
        "duration": 80,
        "start_time": "2024-04-19T11:18:12.119Z"
      },
      {
        "duration": 294,
        "start_time": "2024-04-19T11:18:12.201Z"
      },
      {
        "duration": 4,
        "start_time": "2024-04-19T11:18:12.496Z"
      },
      {
        "duration": 478,
        "start_time": "2024-04-19T11:18:12.502Z"
      },
      {
        "duration": 29,
        "start_time": "2024-04-19T11:18:12.982Z"
      },
      {
        "duration": 206,
        "start_time": "2024-04-19T11:18:13.013Z"
      },
      {
        "duration": 398,
        "start_time": "2024-04-19T11:18:13.221Z"
      },
      {
        "duration": 23,
        "start_time": "2024-04-19T11:18:13.621Z"
      },
      {
        "duration": 92,
        "start_time": "2024-04-19T11:18:13.646Z"
      },
      {
        "duration": 11657,
        "start_time": "2024-04-19T11:18:13.740Z"
      },
      {
        "duration": 24,
        "start_time": "2024-04-19T11:18:25.399Z"
      },
      {
        "duration": 26,
        "start_time": "2024-04-19T11:18:25.425Z"
      },
      {
        "duration": 462,
        "start_time": "2024-04-19T11:18:25.452Z"
      },
      {
        "duration": 176,
        "start_time": "2024-04-19T11:18:25.915Z"
      },
      {
        "duration": 102,
        "start_time": "2024-04-19T11:18:26.092Z"
      },
      {
        "duration": 102,
        "start_time": "2024-04-19T11:18:26.195Z"
      },
      {
        "duration": 456,
        "start_time": "2024-04-19T11:18:26.300Z"
      },
      {
        "duration": 126,
        "start_time": "2024-04-19T11:18:26.758Z"
      },
      {
        "duration": 22,
        "start_time": "2024-04-19T11:18:31.814Z"
      },
      {
        "duration": 642,
        "start_time": "2024-04-19T11:18:50.279Z"
      },
      {
        "duration": 899,
        "start_time": "2024-04-19T11:18:50.922Z"
      },
      {
        "duration": 151,
        "start_time": "2024-04-19T11:18:51.822Z"
      },
      {
        "duration": 37,
        "start_time": "2024-04-19T11:18:51.976Z"
      },
      {
        "duration": 105,
        "start_time": "2024-04-19T11:18:52.015Z"
      },
      {
        "duration": 838,
        "start_time": "2024-04-19T11:18:52.121Z"
      },
      {
        "duration": 96,
        "start_time": "2024-04-19T11:18:52.960Z"
      },
      {
        "duration": 14,
        "start_time": "2024-04-19T11:18:53.057Z"
      },
      {
        "duration": 43,
        "start_time": "2024-04-19T11:18:53.073Z"
      },
      {
        "duration": 138,
        "start_time": "2024-04-19T11:18:53.119Z"
      },
      {
        "duration": 12,
        "start_time": "2024-04-19T11:18:53.258Z"
      },
      {
        "duration": 53,
        "start_time": "2024-04-19T11:18:53.272Z"
      },
      {
        "duration": 298,
        "start_time": "2024-04-19T11:18:53.327Z"
      },
      {
        "duration": 4,
        "start_time": "2024-04-19T11:18:53.627Z"
      },
      {
        "duration": 488,
        "start_time": "2024-04-19T11:18:53.633Z"
      },
      {
        "duration": 27,
        "start_time": "2024-04-19T11:18:54.122Z"
      },
      {
        "duration": 224,
        "start_time": "2024-04-19T11:18:54.151Z"
      },
      {
        "duration": 405,
        "start_time": "2024-04-19T11:18:54.377Z"
      },
      {
        "duration": 24,
        "start_time": "2024-04-19T11:18:54.784Z"
      },
      {
        "duration": 100,
        "start_time": "2024-04-19T11:18:54.810Z"
      },
      {
        "duration": 11885,
        "start_time": "2024-04-19T11:18:54.912Z"
      },
      {
        "duration": 25,
        "start_time": "2024-04-19T11:19:06.798Z"
      },
      {
        "duration": 44,
        "start_time": "2024-04-19T11:19:06.824Z"
      },
      {
        "duration": 438,
        "start_time": "2024-04-19T11:19:06.870Z"
      },
      {
        "duration": 177,
        "start_time": "2024-04-19T11:19:07.309Z"
      },
      {
        "duration": 94,
        "start_time": "2024-04-19T11:19:07.488Z"
      },
      {
        "duration": 102,
        "start_time": "2024-04-19T11:19:07.583Z"
      },
      {
        "duration": 462,
        "start_time": "2024-04-19T11:19:07.688Z"
      },
      {
        "duration": 129,
        "start_time": "2024-04-19T11:19:08.152Z"
      },
      {
        "duration": 436,
        "start_time": "2024-04-19T11:19:11.207Z"
      },
      {
        "duration": 80,
        "start_time": "2024-04-19T11:28:25.635Z"
      },
      {
        "duration": 180,
        "start_time": "2024-04-19T11:28:58.567Z"
      },
      {
        "duration": 124,
        "start_time": "2024-04-19T11:34:25.014Z"
      },
      {
        "duration": 11,
        "start_time": "2024-04-19T11:45:53.005Z"
      },
      {
        "duration": 4034,
        "start_time": "2024-04-19T11:46:52.594Z"
      },
      {
        "duration": 6991,
        "start_time": "2024-04-19T11:47:11.396Z"
      },
      {
        "duration": 99,
        "start_time": "2024-04-19T11:48:38.746Z"
      },
      {
        "duration": 3,
        "start_time": "2024-04-19T11:58:52.787Z"
      },
      {
        "duration": 6542,
        "start_time": "2024-04-19T12:06:34.764Z"
      },
      {
        "duration": 69,
        "start_time": "2024-04-19T12:18:01.550Z"
      },
      {
        "duration": 90,
        "start_time": "2024-04-19T12:18:19.210Z"
      },
      {
        "duration": 3615,
        "start_time": "2024-04-19T12:31:11.978Z"
      },
      {
        "duration": 919,
        "start_time": "2024-04-19T12:31:15.595Z"
      },
      {
        "duration": 159,
        "start_time": "2024-04-19T12:31:16.515Z"
      },
      {
        "duration": 25,
        "start_time": "2024-04-19T12:31:16.676Z"
      },
      {
        "duration": 127,
        "start_time": "2024-04-19T12:31:16.707Z"
      },
      {
        "duration": 926,
        "start_time": "2024-04-19T12:31:16.836Z"
      },
      {
        "duration": 152,
        "start_time": "2024-04-19T12:31:17.763Z"
      },
      {
        "duration": 352,
        "start_time": "2024-04-19T12:31:17.916Z"
      },
      {
        "duration": 3946,
        "start_time": "2024-04-19T12:36:59.842Z"
      },
      {
        "duration": 892,
        "start_time": "2024-04-19T12:37:03.790Z"
      },
      {
        "duration": 152,
        "start_time": "2024-04-19T12:37:04.684Z"
      },
      {
        "duration": 17,
        "start_time": "2024-04-19T12:37:04.838Z"
      },
      {
        "duration": 103,
        "start_time": "2024-04-19T12:37:04.869Z"
      },
      {
        "duration": 901,
        "start_time": "2024-04-19T12:37:04.974Z"
      },
      {
        "duration": 151,
        "start_time": "2024-04-19T12:37:05.876Z"
      },
      {
        "duration": 374,
        "start_time": "2024-04-19T12:37:06.029Z"
      },
      {
        "duration": 3,
        "start_time": "2024-04-19T12:37:06.405Z"
      },
      {
        "duration": 112,
        "start_time": "2024-04-19T12:37:06.409Z"
      },
      {
        "duration": 5,
        "start_time": "2024-04-19T12:37:06.522Z"
      },
      {
        "duration": 40,
        "start_time": "2024-04-19T12:37:06.528Z"
      },
      {
        "duration": 28,
        "start_time": "2024-04-19T12:37:06.570Z"
      },
      {
        "duration": 69,
        "start_time": "2024-04-19T12:37:06.601Z"
      },
      {
        "duration": 242,
        "start_time": "2024-04-19T12:37:06.671Z"
      },
      {
        "duration": 4,
        "start_time": "2024-04-19T12:37:06.914Z"
      },
      {
        "duration": 520,
        "start_time": "2024-04-19T12:37:06.920Z"
      },
      {
        "duration": 45,
        "start_time": "2024-04-19T12:37:07.442Z"
      },
      {
        "duration": 213,
        "start_time": "2024-04-19T12:37:07.488Z"
      },
      {
        "duration": 485,
        "start_time": "2024-04-19T12:37:07.703Z"
      },
      {
        "duration": 24,
        "start_time": "2024-04-19T12:37:08.189Z"
      },
      {
        "duration": 100,
        "start_time": "2024-04-19T12:37:08.215Z"
      },
      {
        "duration": 12591,
        "start_time": "2024-04-19T12:37:08.317Z"
      },
      {
        "duration": 40,
        "start_time": "2024-04-19T12:37:20.910Z"
      },
      {
        "duration": 38,
        "start_time": "2024-04-19T12:37:20.953Z"
      },
      {
        "duration": 421,
        "start_time": "2024-04-19T12:37:20.993Z"
      },
      {
        "duration": 180,
        "start_time": "2024-04-19T12:37:21.416Z"
      },
      {
        "duration": 105,
        "start_time": "2024-04-19T12:37:21.598Z"
      },
      {
        "duration": 539,
        "start_time": "2024-04-19T12:37:21.706Z"
      },
      {
        "duration": 113,
        "start_time": "2024-04-19T12:37:22.247Z"
      },
      {
        "duration": 9,
        "start_time": "2024-04-19T12:37:22.362Z"
      },
      {
        "duration": 21,
        "start_time": "2024-04-19T12:37:22.372Z"
      },
      {
        "duration": 6756,
        "start_time": "2024-04-19T12:37:22.394Z"
      },
      {
        "duration": 96,
        "start_time": "2024-04-19T12:37:29.152Z"
      },
      {
        "duration": 97,
        "start_time": "2024-04-19T12:54:55.301Z"
      },
      {
        "duration": 285,
        "start_time": "2024-04-19T12:55:07.740Z"
      },
      {
        "duration": 103,
        "start_time": "2024-04-19T12:55:09.837Z"
      },
      {
        "duration": 3,
        "start_time": "2024-04-19T12:57:22.940Z"
      },
      {
        "duration": 92,
        "start_time": "2024-04-19T12:57:47.148Z"
      },
      {
        "duration": 79,
        "start_time": "2024-04-19T13:13:45.211Z"
      },
      {
        "duration": 97,
        "start_time": "2024-04-19T13:14:15.150Z"
      },
      {
        "duration": 103,
        "start_time": "2024-04-19T13:18:35.109Z"
      },
      {
        "duration": 64,
        "start_time": "2024-04-19T13:25:44.788Z"
      },
      {
        "duration": 60,
        "start_time": "2024-04-19T13:26:50.288Z"
      },
      {
        "duration": 80,
        "start_time": "2024-04-19T13:27:35.947Z"
      },
      {
        "duration": 56,
        "start_time": "2024-04-19T13:28:06.600Z"
      },
      {
        "duration": 1327,
        "start_time": "2024-04-19T13:29:47.164Z"
      },
      {
        "duration": 1207,
        "start_time": "2024-04-19T13:30:09.364Z"
      },
      {
        "duration": 1200,
        "start_time": "2024-04-19T13:30:16.984Z"
      },
      {
        "duration": 1164,
        "start_time": "2024-04-19T13:30:28.783Z"
      },
      {
        "duration": 1266,
        "start_time": "2024-04-19T13:30:34.043Z"
      },
      {
        "duration": 1205,
        "start_time": "2024-04-19T13:30:58.236Z"
      },
      {
        "duration": 1292,
        "start_time": "2024-04-19T13:33:17.643Z"
      },
      {
        "duration": 56045,
        "start_time": "2024-04-19T13:33:39.126Z"
      },
      {
        "duration": 20,
        "start_time": "2024-04-19T13:36:13.184Z"
      },
      {
        "duration": 18,
        "start_time": "2024-04-19T13:36:57.423Z"
      },
      {
        "duration": 10,
        "start_time": "2024-04-19T13:38:09.962Z"
      },
      {
        "duration": 1350,
        "start_time": "2024-04-19T13:38:31.462Z"
      },
      {
        "duration": 95,
        "start_time": "2024-04-19T13:40:46.282Z"
      },
      {
        "duration": 5,
        "start_time": "2024-04-19T13:41:00.783Z"
      },
      {
        "duration": 4,
        "start_time": "2024-04-19T13:41:24.442Z"
      },
      {
        "duration": 27,
        "start_time": "2024-04-19T13:42:00.270Z"
      },
      {
        "duration": 26,
        "start_time": "2024-04-19T13:43:01.343Z"
      },
      {
        "duration": 27,
        "start_time": "2024-04-19T13:44:10.870Z"
      },
      {
        "duration": 5,
        "start_time": "2024-04-19T13:45:54.843Z"
      },
      {
        "duration": 86,
        "start_time": "2024-04-19T13:47:19.624Z"
      },
      {
        "duration": 50633,
        "start_time": "2024-04-19T13:47:48.922Z"
      },
      {
        "duration": 17,
        "start_time": "2024-04-19T13:48:57.022Z"
      },
      {
        "duration": 16,
        "start_time": "2024-04-19T13:52:57.244Z"
      },
      {
        "duration": 11,
        "start_time": "2024-04-19T13:53:20.543Z"
      },
      {
        "duration": 183,
        "start_time": "2024-04-19T13:54:13.763Z"
      },
      {
        "duration": 52271,
        "start_time": "2024-04-19T13:54:27.975Z"
      },
      {
        "duration": 23,
        "start_time": "2024-04-19T13:55:41.404Z"
      },
      {
        "duration": 8,
        "start_time": "2024-04-19T13:55:57.284Z"
      },
      {
        "duration": 40,
        "start_time": "2024-04-19T13:56:04.992Z"
      },
      {
        "duration": 53296,
        "start_time": "2024-04-19T15:07:10.696Z"
      },
      {
        "duration": 40,
        "start_time": "2024-04-19T15:08:15.806Z"
      },
      {
        "duration": 3604,
        "start_time": "2024-04-19T15:08:30.669Z"
      },
      {
        "duration": 857,
        "start_time": "2024-04-19T15:08:34.276Z"
      },
      {
        "duration": 151,
        "start_time": "2024-04-19T15:08:35.134Z"
      },
      {
        "duration": 16,
        "start_time": "2024-04-19T15:08:35.286Z"
      },
      {
        "duration": 99,
        "start_time": "2024-04-19T15:08:35.304Z"
      },
      {
        "duration": 844,
        "start_time": "2024-04-19T15:08:35.404Z"
      },
      {
        "duration": 145,
        "start_time": "2024-04-19T15:08:36.249Z"
      },
      {
        "duration": 318,
        "start_time": "2024-04-19T15:08:36.396Z"
      },
      {
        "duration": 2,
        "start_time": "2024-04-19T15:08:36.716Z"
      },
      {
        "duration": 109,
        "start_time": "2024-04-19T15:08:36.720Z"
      },
      {
        "duration": 4,
        "start_time": "2024-04-19T15:08:36.831Z"
      },
      {
        "duration": 47,
        "start_time": "2024-04-19T15:08:36.836Z"
      },
      {
        "duration": 3,
        "start_time": "2024-04-19T15:08:36.885Z"
      },
      {
        "duration": 54,
        "start_time": "2024-04-19T15:08:36.891Z"
      },
      {
        "duration": 228,
        "start_time": "2024-04-19T15:08:36.947Z"
      },
      {
        "duration": 4,
        "start_time": "2024-04-19T15:08:37.177Z"
      },
      {
        "duration": 467,
        "start_time": "2024-04-19T15:08:37.183Z"
      },
      {
        "duration": 35,
        "start_time": "2024-04-19T15:08:37.652Z"
      },
      {
        "duration": 201,
        "start_time": "2024-04-19T15:08:37.689Z"
      },
      {
        "duration": 459,
        "start_time": "2024-04-19T15:08:37.891Z"
      },
      {
        "duration": 31,
        "start_time": "2024-04-19T15:08:38.351Z"
      },
      {
        "duration": 75,
        "start_time": "2024-04-19T15:08:38.383Z"
      },
      {
        "duration": 11325,
        "start_time": "2024-04-19T15:08:38.469Z"
      },
      {
        "duration": 25,
        "start_time": "2024-04-19T15:08:49.795Z"
      },
      {
        "duration": 25,
        "start_time": "2024-04-19T15:08:49.822Z"
      },
      {
        "duration": 425,
        "start_time": "2024-04-19T15:08:49.849Z"
      },
      {
        "duration": 176,
        "start_time": "2024-04-19T15:08:50.275Z"
      },
      {
        "duration": 104,
        "start_time": "2024-04-19T15:08:50.453Z"
      },
      {
        "duration": 452,
        "start_time": "2024-04-19T15:08:50.559Z"
      },
      {
        "duration": 115,
        "start_time": "2024-04-19T15:08:51.013Z"
      },
      {
        "duration": 107,
        "start_time": "2024-04-19T15:08:51.130Z"
      },
      {
        "duration": 4,
        "start_time": "2024-04-19T15:08:51.238Z"
      },
      {
        "duration": 53844,
        "start_time": "2024-04-19T15:08:51.243Z"
      },
      {
        "duration": 21,
        "start_time": "2024-04-19T15:09:45.088Z"
      },
      {
        "duration": 131,
        "start_time": "2024-04-19T15:09:45.110Z"
      },
      {
        "duration": 0,
        "start_time": "2024-04-19T15:09:45.242Z"
      },
      {
        "duration": 0,
        "start_time": "2024-04-19T15:09:45.244Z"
      },
      {
        "duration": 0,
        "start_time": "2024-04-19T15:09:45.245Z"
      },
      {
        "duration": 0,
        "start_time": "2024-04-19T15:09:45.246Z"
      },
      {
        "duration": 0,
        "start_time": "2024-04-19T15:09:45.248Z"
      },
      {
        "duration": 0,
        "start_time": "2024-04-19T15:09:45.249Z"
      },
      {
        "duration": 41,
        "start_time": "2024-04-19T15:10:02.567Z"
      },
      {
        "duration": 20,
        "start_time": "2024-04-19T15:10:52.633Z"
      },
      {
        "duration": 193,
        "start_time": "2024-04-19T15:11:36.025Z"
      },
      {
        "duration": 52883,
        "start_time": "2024-04-19T15:11:44.645Z"
      },
      {
        "duration": 43,
        "start_time": "2024-04-19T15:12:44.166Z"
      },
      {
        "duration": 2,
        "start_time": "2024-04-19T15:13:40.767Z"
      },
      {
        "duration": 112,
        "start_time": "2024-04-19T15:17:36.288Z"
      },
      {
        "duration": 75595,
        "start_time": "2024-04-19T15:17:58.246Z"
      },
      {
        "duration": 21,
        "start_time": "2024-04-19T15:19:21.806Z"
      },
      {
        "duration": 42,
        "start_time": "2024-04-19T15:19:25.906Z"
      },
      {
        "duration": 72970,
        "start_time": "2024-04-19T15:20:21.866Z"
      },
      {
        "duration": 39,
        "start_time": "2024-04-19T15:23:14.408Z"
      },
      {
        "duration": 3540,
        "start_time": "2024-04-19T15:23:23.334Z"
      },
      {
        "duration": 868,
        "start_time": "2024-04-19T15:23:26.876Z"
      },
      {
        "duration": 148,
        "start_time": "2024-04-19T15:23:27.745Z"
      },
      {
        "duration": 15,
        "start_time": "2024-04-19T15:23:27.894Z"
      },
      {
        "duration": 108,
        "start_time": "2024-04-19T15:23:27.911Z"
      },
      {
        "duration": 831,
        "start_time": "2024-04-19T15:23:28.021Z"
      },
      {
        "duration": 143,
        "start_time": "2024-04-19T15:23:28.853Z"
      },
      {
        "duration": 316,
        "start_time": "2024-04-19T15:23:28.997Z"
      },
      {
        "duration": 2,
        "start_time": "2024-04-19T15:23:29.315Z"
      },
      {
        "duration": 103,
        "start_time": "2024-04-19T15:23:29.319Z"
      },
      {
        "duration": 5,
        "start_time": "2024-04-19T15:23:29.423Z"
      },
      {
        "duration": 25,
        "start_time": "2024-04-19T15:23:29.429Z"
      },
      {
        "duration": 11,
        "start_time": "2024-04-19T15:23:29.470Z"
      },
      {
        "duration": 45,
        "start_time": "2024-04-19T15:23:29.485Z"
      },
      {
        "duration": 232,
        "start_time": "2024-04-19T15:23:29.532Z"
      },
      {
        "duration": 3,
        "start_time": "2024-04-19T15:23:29.769Z"
      },
      {
        "duration": 482,
        "start_time": "2024-04-19T15:23:29.774Z"
      },
      {
        "duration": 35,
        "start_time": "2024-04-19T15:23:30.258Z"
      },
      {
        "duration": 206,
        "start_time": "2024-04-19T15:23:30.294Z"
      },
      {
        "duration": 480,
        "start_time": "2024-04-19T15:23:30.502Z"
      },
      {
        "duration": 24,
        "start_time": "2024-04-19T15:23:30.983Z"
      },
      {
        "duration": 211,
        "start_time": "2024-04-19T15:23:31.008Z"
      },
      {
        "duration": 11142,
        "start_time": "2024-04-19T15:23:31.221Z"
      },
      {
        "duration": 23,
        "start_time": "2024-04-19T15:23:42.370Z"
      },
      {
        "duration": 27,
        "start_time": "2024-04-19T15:23:42.394Z"
      },
      {
        "duration": 398,
        "start_time": "2024-04-19T15:23:42.422Z"
      },
      {
        "duration": 175,
        "start_time": "2024-04-19T15:23:42.822Z"
      },
      {
        "duration": 107,
        "start_time": "2024-04-19T15:23:42.999Z"
      },
      {
        "duration": 439,
        "start_time": "2024-04-19T15:23:43.107Z"
      },
      {
        "duration": 106,
        "start_time": "2024-04-19T15:23:43.548Z"
      },
      {
        "duration": 179,
        "start_time": "2024-04-19T15:23:43.656Z"
      },
      {
        "duration": 133,
        "start_time": "2024-04-19T15:23:43.837Z"
      },
      {
        "duration": 77953,
        "start_time": "2024-04-19T15:23:43.972Z"
      },
      {
        "duration": 22,
        "start_time": "2024-04-19T15:25:01.929Z"
      },
      {
        "duration": 115,
        "start_time": "2024-04-19T15:25:01.953Z"
      },
      {
        "duration": 150,
        "start_time": "2024-04-19T15:25:02.070Z"
      },
      {
        "duration": 97,
        "start_time": "2024-04-19T15:25:02.222Z"
      },
      {
        "duration": 75756,
        "start_time": "2024-04-19T15:25:02.321Z"
      },
      {
        "duration": 39,
        "start_time": "2024-04-19T15:26:18.079Z"
      },
      {
        "duration": 16,
        "start_time": "2024-04-19T15:26:18.119Z"
      },
      {
        "duration": 6322,
        "start_time": "2024-04-19T15:26:18.138Z"
      },
      {
        "duration": 88,
        "start_time": "2024-04-19T15:26:24.462Z"
      },
      {
        "duration": 42,
        "start_time": "2024-04-19T15:33:34.688Z"
      },
      {
        "duration": 3705,
        "start_time": "2024-04-19T15:34:02.969Z"
      },
      {
        "duration": 905,
        "start_time": "2024-04-19T15:34:06.677Z"
      },
      {
        "duration": 156,
        "start_time": "2024-04-19T15:34:07.583Z"
      },
      {
        "duration": 34,
        "start_time": "2024-04-19T15:34:07.741Z"
      },
      {
        "duration": 115,
        "start_time": "2024-04-19T15:34:07.777Z"
      },
      {
        "duration": 869,
        "start_time": "2024-04-19T15:34:07.894Z"
      },
      {
        "duration": 133,
        "start_time": "2024-04-19T15:34:08.769Z"
      },
      {
        "duration": 299,
        "start_time": "2024-04-19T15:34:08.904Z"
      },
      {
        "duration": 2,
        "start_time": "2024-04-19T15:34:09.205Z"
      },
      {
        "duration": 117,
        "start_time": "2024-04-19T15:34:09.209Z"
      },
      {
        "duration": 4,
        "start_time": "2024-04-19T15:34:09.328Z"
      },
      {
        "duration": 43,
        "start_time": "2024-04-19T15:34:09.334Z"
      },
      {
        "duration": 4,
        "start_time": "2024-04-19T15:34:09.380Z"
      },
      {
        "duration": 47,
        "start_time": "2024-04-19T15:34:09.388Z"
      },
      {
        "duration": 237,
        "start_time": "2024-04-19T15:34:09.437Z"
      },
      {
        "duration": 4,
        "start_time": "2024-04-19T15:34:09.675Z"
      },
      {
        "duration": 465,
        "start_time": "2024-04-19T15:34:09.681Z"
      },
      {
        "duration": 34,
        "start_time": "2024-04-19T15:34:10.148Z"
      },
      {
        "duration": 199,
        "start_time": "2024-04-19T15:34:10.184Z"
      },
      {
        "duration": 432,
        "start_time": "2024-04-19T15:34:10.385Z"
      },
      {
        "duration": 22,
        "start_time": "2024-04-19T15:34:10.818Z"
      },
      {
        "duration": 91,
        "start_time": "2024-04-19T15:34:10.841Z"
      },
      {
        "duration": 11471,
        "start_time": "2024-04-19T15:34:10.934Z"
      },
      {
        "duration": 23,
        "start_time": "2024-04-19T15:34:22.407Z"
      },
      {
        "duration": 32,
        "start_time": "2024-04-19T15:34:22.431Z"
      },
      {
        "duration": 375,
        "start_time": "2024-04-19T15:34:22.470Z"
      },
      {
        "duration": 157,
        "start_time": "2024-04-19T15:34:22.846Z"
      },
      {
        "duration": 102,
        "start_time": "2024-04-19T15:34:23.004Z"
      },
      {
        "duration": 465,
        "start_time": "2024-04-19T15:34:23.107Z"
      },
      {
        "duration": 106,
        "start_time": "2024-04-19T15:34:23.573Z"
      },
      {
        "duration": 173,
        "start_time": "2024-04-19T15:34:23.681Z"
      },
      {
        "duration": 106,
        "start_time": "2024-04-19T15:34:23.856Z"
      },
      {
        "duration": 40,
        "start_time": "2024-04-19T15:34:23.963Z"
      },
      {
        "duration": 77599,
        "start_time": "2024-04-19T15:34:24.005Z"
      },
      {
        "duration": 42,
        "start_time": "2024-04-19T15:35:41.606Z"
      },
      {
        "duration": 53,
        "start_time": "2024-04-19T15:35:41.650Z"
      },
      {
        "duration": 76339,
        "start_time": "2024-04-19T15:35:41.705Z"
      },
      {
        "duration": 38,
        "start_time": "2024-04-19T15:36:58.046Z"
      },
      {
        "duration": 9,
        "start_time": "2024-04-19T15:36:58.086Z"
      },
      {
        "duration": 55,
        "start_time": "2024-04-19T15:36:58.096Z"
      },
      {
        "duration": 74833,
        "start_time": "2024-04-19T15:36:58.154Z"
      },
      {
        "duration": 2,
        "start_time": "2024-04-19T15:38:12.988Z"
      },
      {
        "duration": 6518,
        "start_time": "2024-04-19T15:38:12.991Z"
      },
      {
        "duration": 89,
        "start_time": "2024-04-19T15:38:19.511Z"
      },
      {
        "duration": 105,
        "start_time": "2024-04-19T15:43:56.707Z"
      },
      {
        "duration": 3731,
        "start_time": "2024-04-19T15:57:15.754Z"
      },
      {
        "duration": 914,
        "start_time": "2024-04-19T15:57:19.488Z"
      },
      {
        "duration": 174,
        "start_time": "2024-04-19T15:57:20.404Z"
      },
      {
        "duration": 20,
        "start_time": "2024-04-19T15:57:20.580Z"
      },
      {
        "duration": 95,
        "start_time": "2024-04-19T15:57:20.602Z"
      },
      {
        "duration": 891,
        "start_time": "2024-04-19T15:57:20.699Z"
      },
      {
        "duration": 147,
        "start_time": "2024-04-19T15:57:21.591Z"
      },
      {
        "duration": 348,
        "start_time": "2024-04-19T15:57:21.739Z"
      },
      {
        "duration": 2,
        "start_time": "2024-04-19T15:57:22.089Z"
      },
      {
        "duration": 123,
        "start_time": "2024-04-19T15:57:22.093Z"
      },
      {
        "duration": 6,
        "start_time": "2024-04-19T15:57:22.218Z"
      },
      {
        "duration": 59,
        "start_time": "2024-04-19T15:57:22.226Z"
      },
      {
        "duration": 4,
        "start_time": "2024-04-19T15:57:22.286Z"
      },
      {
        "duration": 57,
        "start_time": "2024-04-19T15:57:22.293Z"
      },
      {
        "duration": 231,
        "start_time": "2024-04-19T15:57:22.351Z"
      },
      {
        "duration": 5,
        "start_time": "2024-04-19T15:57:22.583Z"
      },
      {
        "duration": 463,
        "start_time": "2024-04-19T15:57:22.590Z"
      },
      {
        "duration": 37,
        "start_time": "2024-04-19T15:57:23.054Z"
      },
      {
        "duration": 209,
        "start_time": "2024-04-19T15:57:23.093Z"
      },
      {
        "duration": 466,
        "start_time": "2024-04-19T15:57:23.304Z"
      },
      {
        "duration": 22,
        "start_time": "2024-04-19T15:57:23.772Z"
      },
      {
        "duration": 90,
        "start_time": "2024-04-19T15:57:23.796Z"
      },
      {
        "duration": 11231,
        "start_time": "2024-04-19T15:57:23.888Z"
      },
      {
        "duration": 23,
        "start_time": "2024-04-19T15:57:35.121Z"
      },
      {
        "duration": 34,
        "start_time": "2024-04-19T15:57:35.145Z"
      },
      {
        "duration": 411,
        "start_time": "2024-04-19T15:57:35.180Z"
      },
      {
        "duration": 161,
        "start_time": "2024-04-19T15:57:35.593Z"
      },
      {
        "duration": 102,
        "start_time": "2024-04-19T15:57:35.756Z"
      },
      {
        "duration": 448,
        "start_time": "2024-04-19T15:57:35.860Z"
      },
      {
        "duration": 106,
        "start_time": "2024-04-19T15:57:36.309Z"
      },
      {
        "duration": 182,
        "start_time": "2024-04-19T15:57:36.417Z"
      },
      {
        "duration": 109,
        "start_time": "2024-04-19T15:57:36.601Z"
      },
      {
        "duration": 40,
        "start_time": "2024-04-19T15:57:36.712Z"
      },
      {
        "duration": 122,
        "start_time": "2024-04-19T15:57:36.754Z"
      },
      {
        "duration": 0,
        "start_time": "2024-04-19T15:57:36.877Z"
      },
      {
        "duration": 0,
        "start_time": "2024-04-19T15:57:36.879Z"
      },
      {
        "duration": 0,
        "start_time": "2024-04-19T15:57:36.880Z"
      },
      {
        "duration": 0,
        "start_time": "2024-04-19T15:57:36.882Z"
      },
      {
        "duration": 0,
        "start_time": "2024-04-19T15:57:36.883Z"
      },
      {
        "duration": 0,
        "start_time": "2024-04-19T15:57:36.884Z"
      },
      {
        "duration": 0,
        "start_time": "2024-04-19T15:57:36.885Z"
      },
      {
        "duration": 0,
        "start_time": "2024-04-19T15:57:36.886Z"
      },
      {
        "duration": 0,
        "start_time": "2024-04-19T15:57:36.887Z"
      },
      {
        "duration": 0,
        "start_time": "2024-04-19T15:57:36.888Z"
      },
      {
        "duration": 0,
        "start_time": "2024-04-19T15:57:36.889Z"
      },
      {
        "duration": 0,
        "start_time": "2024-04-19T15:57:36.890Z"
      },
      {
        "duration": 77934,
        "start_time": "2024-04-19T15:58:11.194Z"
      },
      {
        "duration": 41,
        "start_time": "2024-04-19T16:00:01.905Z"
      },
      {
        "duration": 39,
        "start_time": "2024-04-19T16:00:06.585Z"
      },
      {
        "duration": 9,
        "start_time": "2024-04-19T16:00:11.733Z"
      },
      {
        "duration": 77941,
        "start_time": "2024-04-19T16:00:18.045Z"
      },
      {
        "duration": 39,
        "start_time": "2024-04-19T16:01:38.845Z"
      },
      {
        "duration": 93,
        "start_time": "2024-04-19T16:01:48.505Z"
      },
      {
        "duration": 43,
        "start_time": "2024-04-19T16:02:01.085Z"
      },
      {
        "duration": 63,
        "start_time": "2024-04-19T16:04:18.325Z"
      },
      {
        "duration": 106323,
        "start_time": "2024-04-19T16:04:33.305Z"
      },
      {
        "duration": 39,
        "start_time": "2024-04-19T16:07:23.744Z"
      },
      {
        "duration": 76295,
        "start_time": "2024-04-19T16:07:44.844Z"
      },
      {
        "duration": 42,
        "start_time": "2024-04-19T16:09:21.636Z"
      },
      {
        "duration": 3436,
        "start_time": "2024-04-19T16:50:39.134Z"
      },
      {
        "duration": 873,
        "start_time": "2024-04-19T16:50:42.572Z"
      },
      {
        "duration": 154,
        "start_time": "2024-04-19T16:50:43.447Z"
      },
      {
        "duration": 15,
        "start_time": "2024-04-19T16:50:43.603Z"
      },
      {
        "duration": 104,
        "start_time": "2024-04-19T16:50:43.620Z"
      },
      {
        "duration": 848,
        "start_time": "2024-04-19T16:50:43.726Z"
      },
      {
        "duration": 135,
        "start_time": "2024-04-19T16:50:44.576Z"
      },
      {
        "duration": 301,
        "start_time": "2024-04-19T16:50:44.713Z"
      },
      {
        "duration": 2,
        "start_time": "2024-04-19T16:50:45.016Z"
      },
      {
        "duration": 147,
        "start_time": "2024-04-19T16:50:45.020Z"
      },
      {
        "duration": 4,
        "start_time": "2024-04-19T16:50:45.169Z"
      },
      {
        "duration": 59,
        "start_time": "2024-04-19T16:50:45.175Z"
      },
      {
        "duration": 24,
        "start_time": "2024-04-19T16:50:45.235Z"
      },
      {
        "duration": 142,
        "start_time": "2024-04-19T16:50:45.262Z"
      },
      {
        "duration": 305,
        "start_time": "2024-04-19T16:50:45.406Z"
      },
      {
        "duration": 3,
        "start_time": "2024-04-19T16:50:45.713Z"
      },
      {
        "duration": 477,
        "start_time": "2024-04-19T16:50:45.718Z"
      },
      {
        "duration": 31,
        "start_time": "2024-04-19T16:50:46.198Z"
      },
      {
        "duration": 213,
        "start_time": "2024-04-19T16:50:46.231Z"
      },
      {
        "duration": 460,
        "start_time": "2024-04-19T16:50:46.446Z"
      },
      {
        "duration": 22,
        "start_time": "2024-04-19T16:50:46.907Z"
      },
      {
        "duration": 90,
        "start_time": "2024-04-19T16:50:46.931Z"
      },
      {
        "duration": 11338,
        "start_time": "2024-04-19T16:50:47.023Z"
      },
      {
        "duration": 29,
        "start_time": "2024-04-19T16:50:58.362Z"
      },
      {
        "duration": 25,
        "start_time": "2024-04-19T16:50:58.392Z"
      },
      {
        "duration": 405,
        "start_time": "2024-04-19T16:50:58.419Z"
      },
      {
        "duration": 182,
        "start_time": "2024-04-19T16:50:58.826Z"
      },
      {
        "duration": 105,
        "start_time": "2024-04-19T16:50:59.010Z"
      },
      {
        "duration": 194,
        "start_time": "2024-04-19T16:50:59.117Z"
      },
      {
        "duration": 123,
        "start_time": "2024-04-19T16:50:59.313Z"
      },
      {
        "duration": 49,
        "start_time": "2024-04-19T16:50:59.438Z"
      },
      {
        "duration": 78728,
        "start_time": "2024-04-19T16:50:59.488Z"
      },
      {
        "duration": 40,
        "start_time": "2024-04-19T16:52:18.218Z"
      },
      {
        "duration": 37,
        "start_time": "2024-04-19T16:52:18.269Z"
      },
      {
        "duration": 78430,
        "start_time": "2024-04-19T16:52:18.307Z"
      },
      {
        "duration": 41,
        "start_time": "2024-04-19T16:53:36.739Z"
      },
      {
        "duration": 5,
        "start_time": "2024-04-19T16:53:36.781Z"
      },
      {
        "duration": 106,
        "start_time": "2024-04-19T16:53:36.788Z"
      },
      {
        "duration": 40,
        "start_time": "2024-04-19T16:53:36.895Z"
      },
      {
        "duration": 111670,
        "start_time": "2024-04-19T16:53:36.937Z"
      },
      {
        "duration": 40,
        "start_time": "2024-04-19T16:55:28.611Z"
      },
      {
        "duration": 52,
        "start_time": "2024-04-19T16:55:28.653Z"
      },
      {
        "duration": 18,
        "start_time": "2024-04-19T16:55:28.706Z"
      },
      {
        "duration": 409,
        "start_time": "2024-04-19T16:55:28.726Z"
      },
      {
        "duration": 106,
        "start_time": "2024-04-19T16:55:29.136Z"
      },
      {
        "duration": 6814,
        "start_time": "2024-04-19T16:55:29.244Z"
      },
      {
        "duration": 97,
        "start_time": "2024-04-19T16:55:36.060Z"
      },
      {
        "duration": 111095,
        "start_time": "2024-04-19T16:56:15.521Z"
      },
      {
        "duration": 41,
        "start_time": "2024-04-19T16:58:18.548Z"
      },
      {
        "duration": 122,
        "start_time": "2024-04-19T17:02:04.972Z"
      },
      {
        "duration": 40,
        "start_time": "2024-04-19T17:20:19.007Z"
      },
      {
        "duration": 41,
        "start_time": "2024-04-19T17:21:13.647Z"
      },
      {
        "duration": 42,
        "start_time": "2024-04-19T17:21:37.167Z"
      },
      {
        "duration": 93,
        "start_time": "2024-04-19T17:22:36.507Z"
      },
      {
        "duration": 4804,
        "start_time": "2024-04-20T06:39:15.571Z"
      },
      {
        "duration": 2895,
        "start_time": "2024-04-20T06:39:20.377Z"
      },
      {
        "duration": 149,
        "start_time": "2024-04-20T06:39:23.274Z"
      },
      {
        "duration": 15,
        "start_time": "2024-04-20T06:39:23.424Z"
      },
      {
        "duration": 104,
        "start_time": "2024-04-20T06:39:23.442Z"
      },
      {
        "duration": 854,
        "start_time": "2024-04-20T06:39:23.547Z"
      },
      {
        "duration": 139,
        "start_time": "2024-04-20T06:39:24.402Z"
      },
      {
        "duration": 290,
        "start_time": "2024-04-20T06:39:24.542Z"
      },
      {
        "duration": 3,
        "start_time": "2024-04-20T06:39:24.834Z"
      },
      {
        "duration": 102,
        "start_time": "2024-04-20T06:39:24.839Z"
      },
      {
        "duration": 6,
        "start_time": "2024-04-20T06:39:24.943Z"
      },
      {
        "duration": 33,
        "start_time": "2024-04-20T06:39:24.965Z"
      },
      {
        "duration": 5,
        "start_time": "2024-04-20T06:39:24.999Z"
      },
      {
        "duration": 60,
        "start_time": "2024-04-20T06:39:25.008Z"
      },
      {
        "duration": 245,
        "start_time": "2024-04-20T06:39:25.069Z"
      },
      {
        "duration": 3,
        "start_time": "2024-04-20T06:39:25.316Z"
      },
      {
        "duration": 440,
        "start_time": "2024-04-20T06:39:25.321Z"
      },
      {
        "duration": 33,
        "start_time": "2024-04-20T06:39:25.765Z"
      },
      {
        "duration": 273,
        "start_time": "2024-04-20T06:39:25.800Z"
      },
      {
        "duration": 369,
        "start_time": "2024-04-20T06:39:26.074Z"
      },
      {
        "duration": 24,
        "start_time": "2024-04-20T06:39:26.445Z"
      },
      {
        "duration": 98,
        "start_time": "2024-04-20T06:39:26.470Z"
      },
      {
        "duration": 10842,
        "start_time": "2024-04-20T06:39:26.570Z"
      },
      {
        "duration": 22,
        "start_time": "2024-04-20T06:39:37.413Z"
      },
      {
        "duration": 35,
        "start_time": "2024-04-20T06:39:37.437Z"
      },
      {
        "duration": 365,
        "start_time": "2024-04-20T06:39:37.474Z"
      },
      {
        "duration": 159,
        "start_time": "2024-04-20T06:39:37.840Z"
      },
      {
        "duration": 99,
        "start_time": "2024-04-20T06:39:38.000Z"
      },
      {
        "duration": 196,
        "start_time": "2024-04-20T06:39:38.101Z"
      },
      {
        "duration": 128,
        "start_time": "2024-04-20T06:39:38.299Z"
      },
      {
        "duration": 42,
        "start_time": "2024-04-20T06:39:38.429Z"
      },
      {
        "duration": 77817,
        "start_time": "2024-04-20T06:39:38.472Z"
      },
      {
        "duration": 39,
        "start_time": "2024-04-20T06:40:56.290Z"
      },
      {
        "duration": 47,
        "start_time": "2024-04-20T06:40:56.331Z"
      },
      {
        "duration": 76116,
        "start_time": "2024-04-20T06:40:56.379Z"
      },
      {
        "duration": 50,
        "start_time": "2024-04-20T06:42:12.497Z"
      },
      {
        "duration": 124,
        "start_time": "2024-04-20T06:42:12.549Z"
      },
      {
        "duration": 55,
        "start_time": "2024-04-20T06:42:12.675Z"
      },
      {
        "duration": 109850,
        "start_time": "2024-04-20T06:42:12.732Z"
      },
      {
        "duration": 39,
        "start_time": "2024-04-20T06:44:02.584Z"
      },
      {
        "duration": 110,
        "start_time": "2024-04-20T06:44:02.627Z"
      },
      {
        "duration": 110159,
        "start_time": "2024-04-20T06:44:02.739Z"
      },
      {
        "duration": 40,
        "start_time": "2024-04-20T06:45:52.900Z"
      },
      {
        "duration": 107,
        "start_time": "2024-04-20T06:45:52.941Z"
      },
      {
        "duration": 41,
        "start_time": "2024-04-20T06:45:53.049Z"
      },
      {
        "duration": 6,
        "start_time": "2024-04-20T06:45:53.091Z"
      },
      {
        "duration": 8,
        "start_time": "2024-04-20T06:45:53.098Z"
      },
      {
        "duration": 398,
        "start_time": "2024-04-20T06:45:53.107Z"
      },
      {
        "duration": 103,
        "start_time": "2024-04-20T06:45:53.506Z"
      },
      {
        "duration": 6402,
        "start_time": "2024-04-20T06:45:53.610Z"
      },
      {
        "duration": 88,
        "start_time": "2024-04-20T06:46:00.014Z"
      },
      {
        "duration": 122,
        "start_time": "2024-04-20T06:48:28.386Z"
      },
      {
        "duration": 394038,
        "start_time": "2024-04-20T06:49:57.410Z"
      },
      {
        "duration": 41,
        "start_time": "2024-04-20T06:57:16.378Z"
      },
      {
        "duration": 114,
        "start_time": "2024-04-20T07:01:17.414Z"
      },
      {
        "duration": 39,
        "start_time": "2024-04-20T07:01:31.706Z"
      },
      {
        "duration": 378470,
        "start_time": "2024-04-20T07:04:53.787Z"
      },
      {
        "duration": 38,
        "start_time": "2024-04-20T07:16:27.363Z"
      },
      {
        "duration": 379376,
        "start_time": "2024-04-20T07:17:11.003Z"
      },
      {
        "duration": 48,
        "start_time": "2024-04-20T07:23:44.802Z"
      },
      {
        "duration": 39,
        "start_time": "2024-04-20T07:24:43.903Z"
      },
      {
        "duration": 389398,
        "start_time": "2024-04-20T07:26:21.825Z"
      },
      {
        "duration": 41,
        "start_time": "2024-04-20T07:33:08.646Z"
      },
      {
        "duration": 29,
        "start_time": "2024-04-20T07:37:35.918Z"
      },
      {
        "duration": 70,
        "start_time": "2024-04-20T07:38:24.419Z"
      },
      {
        "duration": 12501,
        "start_time": "2024-04-20T07:38:31.218Z"
      },
      {
        "duration": 23,
        "start_time": "2024-04-20T07:38:50.798Z"
      },
      {
        "duration": 26,
        "start_time": "2024-04-20T07:39:07.290Z"
      },
      {
        "duration": 387,
        "start_time": "2024-04-20T07:39:15.210Z"
      },
      {
        "duration": 159,
        "start_time": "2024-04-20T07:43:38.158Z"
      },
      {
        "duration": 3492,
        "start_time": "2024-04-20T07:45:26.860Z"
      },
      {
        "duration": 877,
        "start_time": "2024-04-20T07:45:30.354Z"
      },
      {
        "duration": 142,
        "start_time": "2024-04-20T07:45:31.232Z"
      },
      {
        "duration": 24,
        "start_time": "2024-04-20T07:45:31.375Z"
      },
      {
        "duration": 97,
        "start_time": "2024-04-20T07:45:31.401Z"
      },
      {
        "duration": 780,
        "start_time": "2024-04-20T07:45:31.500Z"
      },
      {
        "duration": 134,
        "start_time": "2024-04-20T07:45:32.282Z"
      },
      {
        "duration": 300,
        "start_time": "2024-04-20T07:45:32.418Z"
      },
      {
        "duration": 2,
        "start_time": "2024-04-20T07:45:32.720Z"
      },
      {
        "duration": 98,
        "start_time": "2024-04-20T07:45:32.724Z"
      },
      {
        "duration": 5,
        "start_time": "2024-04-20T07:45:32.823Z"
      },
      {
        "duration": 55,
        "start_time": "2024-04-20T07:45:32.829Z"
      },
      {
        "duration": 3,
        "start_time": "2024-04-20T07:45:32.886Z"
      },
      {
        "duration": 42,
        "start_time": "2024-04-20T07:45:32.892Z"
      },
      {
        "duration": 217,
        "start_time": "2024-04-20T07:45:32.935Z"
      },
      {
        "duration": 3,
        "start_time": "2024-04-20T07:45:33.154Z"
      },
      {
        "duration": 415,
        "start_time": "2024-04-20T07:45:33.164Z"
      },
      {
        "duration": 28,
        "start_time": "2024-04-20T07:45:33.580Z"
      },
      {
        "duration": 205,
        "start_time": "2024-04-20T07:45:33.609Z"
      },
      {
        "duration": 436,
        "start_time": "2024-04-20T07:45:33.816Z"
      },
      {
        "duration": 28,
        "start_time": "2024-04-20T07:45:34.254Z"
      },
      {
        "duration": 88,
        "start_time": "2024-04-20T07:45:34.284Z"
      },
      {
        "duration": 10865,
        "start_time": "2024-04-20T07:45:34.374Z"
      },
      {
        "duration": 30,
        "start_time": "2024-04-20T07:45:45.241Z"
      },
      {
        "duration": 24,
        "start_time": "2024-04-20T07:45:45.272Z"
      },
      {
        "duration": 407,
        "start_time": "2024-04-20T07:45:45.297Z"
      },
      {
        "duration": 165,
        "start_time": "2024-04-20T07:45:45.705Z"
      },
      {
        "duration": 98,
        "start_time": "2024-04-20T07:45:45.871Z"
      },
      {
        "duration": 183,
        "start_time": "2024-04-20T07:45:45.971Z"
      },
      {
        "duration": 114,
        "start_time": "2024-04-20T07:45:46.155Z"
      },
      {
        "duration": 38,
        "start_time": "2024-04-20T07:45:46.271Z"
      },
      {
        "duration": 76290,
        "start_time": "2024-04-20T07:45:46.310Z"
      },
      {
        "duration": 43,
        "start_time": "2024-04-20T07:47:02.601Z"
      },
      {
        "duration": 80,
        "start_time": "2024-04-20T07:47:02.646Z"
      },
      {
        "duration": 75371,
        "start_time": "2024-04-20T07:47:02.728Z"
      },
      {
        "duration": 38,
        "start_time": "2024-04-20T07:48:18.101Z"
      },
      {
        "duration": 134,
        "start_time": "2024-04-20T07:48:18.141Z"
      },
      {
        "duration": 39,
        "start_time": "2024-04-20T07:48:18.277Z"
      },
      {
        "duration": 286398,
        "start_time": "2024-04-20T07:48:18.318Z"
      },
      {
        "duration": 40,
        "start_time": "2024-04-20T07:53:04.717Z"
      },
      {
        "duration": 52,
        "start_time": "2024-04-20T07:53:04.760Z"
      },
      {
        "duration": 298712,
        "start_time": "2024-04-20T07:53:04.814Z"
      },
      {
        "duration": 41,
        "start_time": "2024-04-20T07:58:03.528Z"
      },
      {
        "duration": 128,
        "start_time": "2024-04-20T07:58:03.570Z"
      },
      {
        "duration": 39,
        "start_time": "2024-04-20T07:58:03.699Z"
      },
      {
        "duration": 390180,
        "start_time": "2024-04-20T07:58:03.739Z"
      },
      {
        "duration": 47,
        "start_time": "2024-04-20T08:04:33.920Z"
      },
      {
        "duration": 54,
        "start_time": "2024-04-20T08:04:33.969Z"
      },
      {
        "duration": 405338,
        "start_time": "2024-04-20T08:04:34.024Z"
      },
      {
        "duration": 41,
        "start_time": "2024-04-20T08:11:19.364Z"
      },
      {
        "duration": 163,
        "start_time": "2024-04-20T08:11:19.406Z"
      },
      {
        "duration": 2,
        "start_time": "2024-04-20T08:11:19.571Z"
      },
      {
        "duration": 4,
        "start_time": "2024-04-20T08:11:19.575Z"
      },
      {
        "duration": 450,
        "start_time": "2024-04-20T08:11:19.581Z"
      },
      {
        "duration": 112,
        "start_time": "2024-04-20T08:11:20.033Z"
      },
      {
        "duration": 6364,
        "start_time": "2024-04-20T08:11:20.147Z"
      },
      {
        "duration": 87,
        "start_time": "2024-04-20T08:11:26.512Z"
      },
      {
        "duration": 45,
        "start_time": "2024-04-20T08:13:11.579Z"
      },
      {
        "duration": 703,
        "start_time": "2024-04-20T08:14:29.567Z"
      },
      {
        "duration": 57,
        "start_time": "2024-04-20T08:14:55.039Z"
      },
      {
        "duration": 406,
        "start_time": "2024-04-20T08:15:00.359Z"
      },
      {
        "duration": 59,
        "start_time": "2024-04-20T08:15:14.259Z"
      },
      {
        "duration": 89,
        "start_time": "2024-04-20T08:15:24.316Z"
      },
      {
        "duration": 10,
        "start_time": "2024-04-20T08:15:43.251Z"
      },
      {
        "duration": 416,
        "start_time": "2024-04-20T08:15:53.372Z"
      },
      {
        "duration": 117,
        "start_time": "2024-04-20T08:17:11.459Z"
      },
      {
        "duration": 38,
        "start_time": "2024-04-20T08:17:23.019Z"
      },
      {
        "duration": 39,
        "start_time": "2024-04-20T08:17:30.319Z"
      },
      {
        "duration": 140,
        "start_time": "2024-04-20T08:19:15.171Z"
      },
      {
        "duration": 41,
        "start_time": "2024-04-20T08:20:16.452Z"
      },
      {
        "duration": 3453,
        "start_time": "2024-04-20T08:22:23.920Z"
      },
      {
        "duration": 849,
        "start_time": "2024-04-20T08:22:27.375Z"
      },
      {
        "duration": 150,
        "start_time": "2024-04-20T08:22:28.226Z"
      },
      {
        "duration": 16,
        "start_time": "2024-04-20T08:22:28.377Z"
      },
      {
        "duration": 103,
        "start_time": "2024-04-20T08:22:28.395Z"
      },
      {
        "duration": 868,
        "start_time": "2024-04-20T08:22:28.500Z"
      },
      {
        "duration": 141,
        "start_time": "2024-04-20T08:22:29.370Z"
      },
      {
        "duration": 335,
        "start_time": "2024-04-20T08:22:29.512Z"
      },
      {
        "duration": 3,
        "start_time": "2024-04-20T08:22:29.849Z"
      },
      {
        "duration": 97,
        "start_time": "2024-04-20T08:22:29.854Z"
      },
      {
        "duration": 16,
        "start_time": "2024-04-20T08:22:29.952Z"
      },
      {
        "duration": 30,
        "start_time": "2024-04-20T08:22:29.969Z"
      },
      {
        "duration": 4,
        "start_time": "2024-04-20T08:22:30.001Z"
      },
      {
        "duration": 77,
        "start_time": "2024-04-20T08:22:30.008Z"
      },
      {
        "duration": 246,
        "start_time": "2024-04-20T08:22:30.086Z"
      },
      {
        "duration": 8,
        "start_time": "2024-04-20T08:22:30.334Z"
      },
      {
        "duration": 582,
        "start_time": "2024-04-20T08:22:30.343Z"
      },
      {
        "duration": 40,
        "start_time": "2024-04-20T08:22:30.926Z"
      },
      {
        "duration": 226,
        "start_time": "2024-04-20T08:22:30.968Z"
      },
      {
        "duration": 448,
        "start_time": "2024-04-20T08:22:31.196Z"
      },
      {
        "duration": 32,
        "start_time": "2024-04-20T08:22:31.646Z"
      },
      {
        "duration": 98,
        "start_time": "2024-04-20T08:22:31.680Z"
      },
      {
        "duration": 11004,
        "start_time": "2024-04-20T08:22:31.780Z"
      },
      {
        "duration": 23,
        "start_time": "2024-04-20T08:22:42.785Z"
      },
      {
        "duration": 23,
        "start_time": "2024-04-20T08:22:42.810Z"
      },
      {
        "duration": 387,
        "start_time": "2024-04-20T08:22:42.834Z"
      },
      {
        "duration": 164,
        "start_time": "2024-04-20T08:22:43.223Z"
      },
      {
        "duration": 96,
        "start_time": "2024-04-20T08:22:43.388Z"
      },
      {
        "duration": 184,
        "start_time": "2024-04-20T08:22:43.485Z"
      },
      {
        "duration": 118,
        "start_time": "2024-04-20T08:22:43.671Z"
      },
      {
        "duration": 40,
        "start_time": "2024-04-20T08:22:43.791Z"
      },
      {
        "duration": 78486,
        "start_time": "2024-04-20T08:22:43.833Z"
      },
      {
        "duration": 45,
        "start_time": "2024-04-20T08:24:02.321Z"
      },
      {
        "duration": 65,
        "start_time": "2024-04-20T08:24:02.367Z"
      },
      {
        "duration": 77219,
        "start_time": "2024-04-20T08:24:02.434Z"
      },
      {
        "duration": 42,
        "start_time": "2024-04-20T08:25:19.655Z"
      },
      {
        "duration": 148,
        "start_time": "2024-04-20T08:25:19.699Z"
      },
      {
        "duration": 53,
        "start_time": "2024-04-20T08:25:19.848Z"
      },
      {
        "duration": 290400,
        "start_time": "2024-04-20T08:25:19.903Z"
      },
      {
        "duration": 40,
        "start_time": "2024-04-20T08:30:10.305Z"
      },
      {
        "duration": 51,
        "start_time": "2024-04-20T08:30:10.349Z"
      },
      {
        "duration": 295045,
        "start_time": "2024-04-20T08:30:10.401Z"
      },
      {
        "duration": 43,
        "start_time": "2024-04-20T08:35:05.448Z"
      },
      {
        "duration": 137,
        "start_time": "2024-04-20T08:35:05.493Z"
      },
      {
        "duration": 41,
        "start_time": "2024-04-20T08:35:05.632Z"
      },
      {
        "duration": 386052,
        "start_time": "2024-04-20T08:35:05.674Z"
      },
      {
        "duration": 49,
        "start_time": "2024-04-20T08:41:31.727Z"
      },
      {
        "duration": 94,
        "start_time": "2024-04-20T08:41:31.778Z"
      },
      {
        "duration": 392407,
        "start_time": "2024-04-20T08:41:31.874Z"
      },
      {
        "duration": 43,
        "start_time": "2024-04-20T08:48:04.283Z"
      },
      {
        "duration": 165,
        "start_time": "2024-04-20T08:48:04.328Z"
      },
      {
        "duration": 42,
        "start_time": "2024-04-20T08:48:04.495Z"
      },
      {
        "duration": 636446,
        "start_time": "2024-04-20T08:48:04.539Z"
      },
      {
        "duration": 40,
        "start_time": "2024-04-20T08:58:40.987Z"
      },
      {
        "duration": 13,
        "start_time": "2024-04-20T08:58:41.029Z"
      },
      {
        "duration": 6,
        "start_time": "2024-04-20T08:58:41.044Z"
      },
      {
        "duration": 395,
        "start_time": "2024-04-20T08:58:41.051Z"
      },
      {
        "duration": 105,
        "start_time": "2024-04-20T08:58:41.448Z"
      },
      {
        "duration": 6451,
        "start_time": "2024-04-20T08:58:41.555Z"
      },
      {
        "duration": 93,
        "start_time": "2024-04-20T08:58:48.007Z"
      },
      {
        "duration": 63931,
        "start_time": "2024-04-20T08:59:59.800Z"
      },
      {
        "duration": 37,
        "start_time": "2024-04-20T09:01:42.200Z"
      },
      {
        "duration": 427,
        "start_time": "2024-04-20T09:07:23.661Z"
      },
      {
        "duration": 50,
        "start_time": "2024-04-20T09:08:21.928Z"
      },
      {
        "duration": 325,
        "start_time": "2024-04-20T09:10:24.840Z"
      },
      {
        "duration": 162,
        "start_time": "2024-04-20T09:31:46.956Z"
      },
      {
        "duration": 53,
        "start_time": "2024-04-20T09:33:47.545Z"
      },
      {
        "duration": 61,
        "start_time": "2024-04-20T09:34:07.085Z"
      },
      {
        "duration": 56,
        "start_time": "2024-04-20T09:34:22.245Z"
      },
      {
        "duration": 335,
        "start_time": "2024-04-20T09:38:39.484Z"
      },
      {
        "duration": 48,
        "start_time": "2024-04-20T09:46:45.243Z"
      },
      {
        "duration": 3549,
        "start_time": "2024-04-20T09:47:20.127Z"
      },
      {
        "duration": 2857,
        "start_time": "2024-04-20T09:47:23.678Z"
      },
      {
        "duration": 142,
        "start_time": "2024-04-20T09:47:26.537Z"
      },
      {
        "duration": 14,
        "start_time": "2024-04-20T09:47:26.681Z"
      },
      {
        "duration": 101,
        "start_time": "2024-04-20T09:47:26.697Z"
      },
      {
        "duration": 799,
        "start_time": "2024-04-20T09:47:26.800Z"
      },
      {
        "duration": 134,
        "start_time": "2024-04-20T09:47:27.601Z"
      },
      {
        "duration": 316,
        "start_time": "2024-04-20T09:47:27.737Z"
      },
      {
        "duration": 2,
        "start_time": "2024-04-20T09:47:28.065Z"
      },
      {
        "duration": 97,
        "start_time": "2024-04-20T09:47:28.069Z"
      },
      {
        "duration": 4,
        "start_time": "2024-04-20T09:47:28.167Z"
      },
      {
        "duration": 35,
        "start_time": "2024-04-20T09:47:28.173Z"
      },
      {
        "duration": 4,
        "start_time": "2024-04-20T09:47:28.209Z"
      },
      {
        "duration": 58,
        "start_time": "2024-04-20T09:47:28.217Z"
      },
      {
        "duration": 226,
        "start_time": "2024-04-20T09:47:28.277Z"
      },
      {
        "duration": 5,
        "start_time": "2024-04-20T09:47:28.505Z"
      },
      {
        "duration": 488,
        "start_time": "2024-04-20T09:47:28.511Z"
      },
      {
        "duration": 29,
        "start_time": "2024-04-20T09:47:29.000Z"
      },
      {
        "duration": 197,
        "start_time": "2024-04-20T09:47:29.030Z"
      },
      {
        "duration": 420,
        "start_time": "2024-04-20T09:47:29.228Z"
      },
      {
        "duration": 32,
        "start_time": "2024-04-20T09:47:29.650Z"
      },
      {
        "duration": 82,
        "start_time": "2024-04-20T09:47:29.684Z"
      },
      {
        "duration": 11034,
        "start_time": "2024-04-20T09:47:29.768Z"
      },
      {
        "duration": 24,
        "start_time": "2024-04-20T09:47:40.803Z"
      },
      {
        "duration": 37,
        "start_time": "2024-04-20T09:47:40.828Z"
      },
      {
        "duration": 371,
        "start_time": "2024-04-20T09:47:40.867Z"
      },
      {
        "duration": 162,
        "start_time": "2024-04-20T09:47:41.239Z"
      },
      {
        "duration": 94,
        "start_time": "2024-04-20T09:47:41.403Z"
      },
      {
        "duration": 459,
        "start_time": "2024-04-20T09:47:41.499Z"
      },
      {
        "duration": 7,
        "start_time": "2024-04-20T09:47:41.960Z"
      },
      {
        "duration": 197,
        "start_time": "2024-04-20T09:47:41.969Z"
      },
      {
        "duration": 130,
        "start_time": "2024-04-20T09:47:42.167Z"
      },
      {
        "duration": 42,
        "start_time": "2024-04-20T09:47:42.298Z"
      },
      {
        "duration": 77805,
        "start_time": "2024-04-20T09:47:42.342Z"
      },
      {
        "duration": 42,
        "start_time": "2024-04-20T09:49:00.148Z"
      },
      {
        "duration": 133,
        "start_time": "2024-04-20T09:49:00.192Z"
      },
      {
        "duration": 79281,
        "start_time": "2024-04-20T09:49:00.327Z"
      },
      {
        "duration": 40,
        "start_time": "2024-04-20T09:50:19.610Z"
      },
      {
        "duration": 147,
        "start_time": "2024-04-20T09:50:19.651Z"
      },
      {
        "duration": 49,
        "start_time": "2024-04-20T09:50:19.800Z"
      },
      {
        "duration": 290683,
        "start_time": "2024-04-20T09:50:19.853Z"
      },
      {
        "duration": 39,
        "start_time": "2024-04-20T09:55:10.538Z"
      },
      {
        "duration": 53,
        "start_time": "2024-04-20T09:55:10.578Z"
      },
      {
        "duration": 294454,
        "start_time": "2024-04-20T09:55:10.632Z"
      },
      {
        "duration": 39,
        "start_time": "2024-04-20T10:00:05.087Z"
      },
      {
        "duration": 161,
        "start_time": "2024-04-20T10:00:05.128Z"
      },
      {
        "duration": 40,
        "start_time": "2024-04-20T10:00:05.291Z"
      },
      {
        "duration": 379991,
        "start_time": "2024-04-20T10:00:05.333Z"
      },
      {
        "duration": 40,
        "start_time": "2024-04-20T10:06:25.326Z"
      },
      {
        "duration": 56,
        "start_time": "2024-04-20T10:06:25.368Z"
      },
      {
        "duration": 389445,
        "start_time": "2024-04-20T10:06:25.425Z"
      },
      {
        "duration": 41,
        "start_time": "2024-04-20T10:12:54.872Z"
      },
      {
        "duration": 155,
        "start_time": "2024-04-20T10:12:54.915Z"
      },
      {
        "duration": 39,
        "start_time": "2024-04-20T10:12:55.072Z"
      },
      {
        "duration": 633422,
        "start_time": "2024-04-20T10:12:55.112Z"
      },
      {
        "duration": 42,
        "start_time": "2024-04-20T10:23:28.536Z"
      },
      {
        "duration": 42,
        "start_time": "2024-04-20T10:23:28.579Z"
      },
      {
        "duration": 7,
        "start_time": "2024-04-20T10:23:28.622Z"
      },
      {
        "duration": 3,
        "start_time": "2024-04-20T10:23:28.631Z"
      },
      {
        "duration": 136,
        "start_time": "2024-04-20T10:23:28.636Z"
      },
      {
        "duration": 6477,
        "start_time": "2024-04-20T10:23:28.773Z"
      },
      {
        "duration": 100,
        "start_time": "2024-04-20T10:23:35.251Z"
      },
      {
        "duration": 4,
        "start_time": "2024-04-20T10:24:02.266Z"
      },
      {
        "duration": 117,
        "start_time": "2024-04-20T10:24:15.038Z"
      },
      {
        "duration": 113,
        "start_time": "2024-04-20T10:34:16.926Z"
      },
      {
        "duration": 109,
        "start_time": "2024-04-20T10:35:08.926Z"
      },
      {
        "duration": 140,
        "start_time": "2024-04-20T10:40:46.166Z"
      },
      {
        "duration": 302,
        "start_time": "2024-04-20T10:52:27.106Z"
      },
      {
        "duration": 880,
        "start_time": "2024-04-20T10:56:56.866Z"
      },
      {
        "duration": 102,
        "start_time": "2024-04-20T11:00:33.054Z"
      },
      {
        "duration": 46,
        "start_time": "2024-04-20T11:01:10.487Z"
      },
      {
        "duration": 21,
        "start_time": "2024-04-20T11:01:29.086Z"
      },
      {
        "duration": 2343,
        "start_time": "2024-04-20T11:02:13.946Z"
      },
      {
        "duration": 49,
        "start_time": "2024-04-20T11:02:22.906Z"
      },
      {
        "duration": 379017,
        "start_time": "2024-04-20T11:03:44.206Z"
      },
      {
        "duration": 780,
        "start_time": "2024-04-20T11:39:21.206Z"
      },
      {
        "duration": 34,
        "start_time": "2024-04-20T11:39:26.826Z"
      },
      {
        "duration": 4191,
        "start_time": "2024-04-20T11:39:39.257Z"
      },
      {
        "duration": 861,
        "start_time": "2024-04-20T11:39:43.451Z"
      },
      {
        "duration": 36,
        "start_time": "2024-04-20T11:39:44.313Z"
      },
      {
        "duration": 25,
        "start_time": "2024-04-20T11:39:44.351Z"
      },
      {
        "duration": 33,
        "start_time": "2024-04-20T11:39:44.378Z"
      },
      {
        "duration": 767,
        "start_time": "2024-04-20T11:39:44.413Z"
      },
      {
        "duration": 31,
        "start_time": "2024-04-20T11:39:45.182Z"
      },
      {
        "duration": 70,
        "start_time": "2024-04-20T11:39:45.215Z"
      },
      {
        "duration": 3,
        "start_time": "2024-04-20T11:39:45.286Z"
      },
      {
        "duration": 95,
        "start_time": "2024-04-20T11:39:45.290Z"
      },
      {
        "duration": 18,
        "start_time": "2024-04-20T11:39:45.386Z"
      },
      {
        "duration": 4,
        "start_time": "2024-04-20T11:39:45.405Z"
      },
      {
        "duration": 19,
        "start_time": "2024-04-20T11:39:45.410Z"
      },
      {
        "duration": 6,
        "start_time": "2024-04-20T11:39:45.432Z"
      },
      {
        "duration": 36,
        "start_time": "2024-04-20T11:39:45.439Z"
      },
      {
        "duration": 243,
        "start_time": "2024-04-20T11:39:45.476Z"
      },
      {
        "duration": 4,
        "start_time": "2024-04-20T11:39:45.720Z"
      },
      {
        "duration": 179,
        "start_time": "2024-04-20T11:39:45.726Z"
      },
      {
        "duration": 7,
        "start_time": "2024-04-20T11:39:45.907Z"
      },
      {
        "duration": 286,
        "start_time": "2024-04-20T11:39:45.916Z"
      },
      {
        "duration": 148,
        "start_time": "2024-04-20T11:39:46.203Z"
      },
      {
        "duration": 17,
        "start_time": "2024-04-20T11:39:46.353Z"
      },
      {
        "duration": 45,
        "start_time": "2024-04-20T11:39:46.372Z"
      },
      {
        "duration": 1310,
        "start_time": "2024-04-20T11:39:46.419Z"
      },
      {
        "duration": 9,
        "start_time": "2024-04-20T11:39:47.731Z"
      },
      {
        "duration": 8,
        "start_time": "2024-04-20T11:39:47.741Z"
      },
      {
        "duration": 146,
        "start_time": "2024-04-20T11:39:47.766Z"
      },
      {
        "duration": 160,
        "start_time": "2024-04-20T11:39:47.913Z"
      },
      {
        "duration": 15,
        "start_time": "2024-04-20T11:39:48.075Z"
      },
      {
        "duration": 56,
        "start_time": "2024-04-20T11:39:48.091Z"
      },
      {
        "duration": 14,
        "start_time": "2024-04-20T11:39:48.165Z"
      },
      {
        "duration": 3,
        "start_time": "2024-04-20T11:39:48.180Z"
      },
      {
        "duration": 31,
        "start_time": "2024-04-20T11:39:48.184Z"
      },
      {
        "duration": 29,
        "start_time": "2024-04-20T11:39:48.216Z"
      },
      {
        "duration": 22,
        "start_time": "2024-04-20T11:39:48.246Z"
      },
      {
        "duration": 6922,
        "start_time": "2024-04-20T11:39:48.269Z"
      },
      {
        "duration": 8,
        "start_time": "2024-04-20T11:39:55.193Z"
      },
      {
        "duration": 65,
        "start_time": "2024-04-20T11:39:55.202Z"
      },
      {
        "duration": 6406,
        "start_time": "2024-04-20T11:39:55.268Z"
      },
      {
        "duration": 8,
        "start_time": "2024-04-20T11:40:01.675Z"
      },
      {
        "duration": 87,
        "start_time": "2024-04-20T11:40:01.686Z"
      },
      {
        "duration": 30,
        "start_time": "2024-04-20T11:40:01.775Z"
      },
      {
        "duration": 16363,
        "start_time": "2024-04-20T11:40:01.806Z"
      },
      {
        "duration": 8,
        "start_time": "2024-04-20T11:40:18.171Z"
      },
      {
        "duration": 15,
        "start_time": "2024-04-20T11:40:18.181Z"
      },
      {
        "duration": 16705,
        "start_time": "2024-04-20T11:40:18.197Z"
      },
      {
        "duration": 7,
        "start_time": "2024-04-20T11:40:34.903Z"
      },
      {
        "duration": 38,
        "start_time": "2024-04-20T11:40:34.912Z"
      },
      {
        "duration": 7,
        "start_time": "2024-04-20T11:40:34.951Z"
      },
      {
        "duration": 20300,
        "start_time": "2024-04-20T11:40:34.965Z"
      },
      {
        "duration": 8,
        "start_time": "2024-04-20T11:40:55.266Z"
      },
      {
        "duration": 37,
        "start_time": "2024-04-20T11:40:55.275Z"
      },
      {
        "duration": 20720,
        "start_time": "2024-04-20T11:40:55.313Z"
      },
      {
        "duration": 8,
        "start_time": "2024-04-20T11:41:16.035Z"
      },
      {
        "duration": 46,
        "start_time": "2024-04-20T11:41:16.044Z"
      },
      {
        "duration": 8,
        "start_time": "2024-04-20T11:41:16.092Z"
      },
      {
        "duration": 25538,
        "start_time": "2024-04-20T11:41:16.101Z"
      },
      {
        "duration": 8,
        "start_time": "2024-04-20T11:41:41.640Z"
      },
      {
        "duration": 33,
        "start_time": "2024-04-20T11:41:41.650Z"
      },
      {
        "duration": 15,
        "start_time": "2024-04-20T11:41:41.685Z"
      },
      {
        "duration": 72,
        "start_time": "2024-04-20T11:41:41.702Z"
      },
      {
        "duration": 10893,
        "start_time": "2024-04-20T11:41:41.775Z"
      },
      {
        "duration": 1679,
        "start_time": "2024-04-20T11:41:52.669Z"
      },
      {
        "duration": 24,
        "start_time": "2024-04-20T11:41:54.349Z"
      },
      {
        "duration": 39,
        "start_time": "2024-04-20T11:46:52.268Z"
      },
      {
        "duration": 42,
        "start_time": "2024-04-20T11:47:24.068Z"
      },
      {
        "duration": 42,
        "start_time": "2024-04-20T11:48:36.288Z"
      },
      {
        "duration": 35,
        "start_time": "2024-04-20T11:55:27.768Z"
      },
      {
        "duration": 19,
        "start_time": "2024-04-20T11:55:40.167Z"
      },
      {
        "duration": 25,
        "start_time": "2024-04-20T11:57:33.767Z"
      },
      {
        "duration": 3,
        "start_time": "2024-04-20T12:01:19.659Z"
      },
      {
        "duration": 4717,
        "start_time": "2024-04-21T15:00:15.228Z"
      },
      {
        "duration": 1131,
        "start_time": "2024-04-21T15:00:19.947Z"
      },
      {
        "duration": 36,
        "start_time": "2024-04-21T15:00:21.080Z"
      },
      {
        "duration": 67,
        "start_time": "2024-04-21T15:00:21.117Z"
      },
      {
        "duration": 35,
        "start_time": "2024-04-21T15:00:21.186Z"
      },
      {
        "duration": 815,
        "start_time": "2024-04-21T15:00:21.223Z"
      },
      {
        "duration": 36,
        "start_time": "2024-04-21T15:00:22.039Z"
      },
      {
        "duration": 54,
        "start_time": "2024-04-21T15:00:22.076Z"
      },
      {
        "duration": 2,
        "start_time": "2024-04-21T15:00:22.132Z"
      },
      {
        "duration": 79,
        "start_time": "2024-04-21T15:00:22.136Z"
      },
      {
        "duration": 18,
        "start_time": "2024-04-21T15:00:22.216Z"
      },
      {
        "duration": 4,
        "start_time": "2024-04-21T15:00:22.236Z"
      },
      {
        "duration": 19,
        "start_time": "2024-04-21T15:00:22.241Z"
      },
      {
        "duration": 12,
        "start_time": "2024-04-21T15:00:22.263Z"
      },
      {
        "duration": 7,
        "start_time": "2024-04-21T15:00:22.276Z"
      },
      {
        "duration": 228,
        "start_time": "2024-04-21T15:00:22.284Z"
      },
      {
        "duration": 4,
        "start_time": "2024-04-21T15:00:22.513Z"
      },
      {
        "duration": 161,
        "start_time": "2024-04-21T15:00:22.518Z"
      },
      {
        "duration": 7,
        "start_time": "2024-04-21T15:00:22.680Z"
      },
      {
        "duration": 250,
        "start_time": "2024-04-21T15:00:22.688Z"
      },
      {
        "duration": 149,
        "start_time": "2024-04-21T15:00:22.939Z"
      },
      {
        "duration": 8,
        "start_time": "2024-04-21T15:00:23.089Z"
      },
      {
        "duration": 37,
        "start_time": "2024-04-21T15:00:23.098Z"
      },
      {
        "duration": 1371,
        "start_time": "2024-04-21T15:00:23.137Z"
      },
      {
        "duration": 7,
        "start_time": "2024-04-21T15:00:24.509Z"
      },
      {
        "duration": 8,
        "start_time": "2024-04-21T15:00:24.517Z"
      },
      {
        "duration": 136,
        "start_time": "2024-04-21T15:00:24.526Z"
      },
      {
        "duration": 142,
        "start_time": "2024-04-21T15:00:24.663Z"
      },
      {
        "duration": 13,
        "start_time": "2024-04-21T15:00:24.807Z"
      },
      {
        "duration": 64,
        "start_time": "2024-04-21T15:00:24.822Z"
      },
      {
        "duration": 12,
        "start_time": "2024-04-21T15:00:24.888Z"
      },
      {
        "duration": 34,
        "start_time": "2024-04-21T15:00:24.902Z"
      },
      {
        "duration": 26,
        "start_time": "2024-04-21T15:00:24.937Z"
      },
      {
        "duration": 8,
        "start_time": "2024-04-21T15:00:24.974Z"
      },
      {
        "duration": 6014,
        "start_time": "2024-04-21T15:00:24.983Z"
      },
      {
        "duration": 7,
        "start_time": "2024-04-21T15:00:30.999Z"
      },
      {
        "duration": 105,
        "start_time": "2024-04-21T15:00:31.007Z"
      },
      {
        "duration": 6026,
        "start_time": "2024-04-21T15:00:31.113Z"
      },
      {
        "duration": 7,
        "start_time": "2024-04-21T15:00:37.140Z"
      },
      {
        "duration": 39,
        "start_time": "2024-04-21T15:00:37.148Z"
      },
      {
        "duration": 7,
        "start_time": "2024-04-21T15:00:37.191Z"
      },
      {
        "duration": 15916,
        "start_time": "2024-04-21T15:00:37.199Z"
      },
      {
        "duration": 7,
        "start_time": "2024-04-21T15:00:53.117Z"
      },
      {
        "duration": 18,
        "start_time": "2024-04-21T15:00:53.125Z"
      },
      {
        "duration": 16035,
        "start_time": "2024-04-21T15:00:53.145Z"
      },
      {
        "duration": 8,
        "start_time": "2024-04-21T15:01:09.181Z"
      },
      {
        "duration": 38,
        "start_time": "2024-04-21T15:01:09.190Z"
      },
      {
        "duration": 8,
        "start_time": "2024-04-21T15:01:09.229Z"
      },
      {
        "duration": 19374,
        "start_time": "2024-04-21T15:01:09.238Z"
      },
      {
        "duration": 7,
        "start_time": "2024-04-21T15:01:28.613Z"
      },
      {
        "duration": 9,
        "start_time": "2024-04-21T15:01:28.622Z"
      },
      {
        "duration": 19737,
        "start_time": "2024-04-21T15:01:28.632Z"
      },
      {
        "duration": 8,
        "start_time": "2024-04-21T15:01:48.370Z"
      },
      {
        "duration": 39,
        "start_time": "2024-04-21T15:01:48.380Z"
      },
      {
        "duration": 7,
        "start_time": "2024-04-21T15:01:48.420Z"
      },
      {
        "duration": 25228,
        "start_time": "2024-04-21T15:01:48.429Z"
      },
      {
        "duration": 8,
        "start_time": "2024-04-21T15:02:13.659Z"
      },
      {
        "duration": 45,
        "start_time": "2024-04-21T15:02:13.668Z"
      },
      {
        "duration": 27,
        "start_time": "2024-04-21T15:02:13.715Z"
      },
      {
        "duration": 26,
        "start_time": "2024-04-21T15:02:13.744Z"
      },
      {
        "duration": 1671,
        "start_time": "2024-04-21T15:02:13.771Z"
      },
      {
        "duration": 17,
        "start_time": "2024-04-21T15:02:15.443Z"
      },
      {
        "duration": 95,
        "start_time": "2024-04-21T15:03:36.502Z"
      },
      {
        "duration": 2467,
        "start_time": "2024-04-21T15:04:24.409Z"
      },
      {
        "duration": 108,
        "start_time": "2024-04-21T15:04:35.509Z"
      },
      {
        "duration": 18,
        "start_time": "2024-04-21T15:09:36.506Z"
      },
      {
        "duration": 2424,
        "start_time": "2024-04-21T15:10:43.143Z"
      },
      {
        "duration": 516,
        "start_time": "2024-04-21T15:10:56.270Z"
      },
      {
        "duration": 5,
        "start_time": "2024-04-21T15:12:09.090Z"
      },
      {
        "duration": 20,
        "start_time": "2024-04-21T15:12:16.410Z"
      },
      {
        "duration": 15,
        "start_time": "2024-04-21T15:17:56.952Z"
      },
      {
        "duration": 26,
        "start_time": "2024-04-21T15:18:03.731Z"
      },
      {
        "duration": 445,
        "start_time": "2024-04-21T15:18:43.842Z"
      },
      {
        "duration": 3863,
        "start_time": "2024-04-21T15:19:11.659Z"
      },
      {
        "duration": 861,
        "start_time": "2024-04-21T15:19:15.524Z"
      },
      {
        "duration": 35,
        "start_time": "2024-04-21T15:19:16.386Z"
      },
      {
        "duration": 16,
        "start_time": "2024-04-21T15:19:16.423Z"
      },
      {
        "duration": 47,
        "start_time": "2024-04-21T15:19:16.442Z"
      },
      {
        "duration": 818,
        "start_time": "2024-04-21T15:19:16.491Z"
      },
      {
        "duration": 29,
        "start_time": "2024-04-21T15:19:17.311Z"
      },
      {
        "duration": 66,
        "start_time": "2024-04-21T15:19:17.342Z"
      },
      {
        "duration": 3,
        "start_time": "2024-04-21T15:19:17.410Z"
      },
      {
        "duration": 67,
        "start_time": "2024-04-21T15:19:17.415Z"
      },
      {
        "duration": 34,
        "start_time": "2024-04-21T15:19:17.484Z"
      },
      {
        "duration": 4,
        "start_time": "2024-04-21T15:19:17.520Z"
      },
      {
        "duration": 8,
        "start_time": "2024-04-21T15:19:17.526Z"
      },
      {
        "duration": 3,
        "start_time": "2024-04-21T15:19:17.538Z"
      },
      {
        "duration": 37,
        "start_time": "2024-04-21T15:19:17.542Z"
      },
      {
        "duration": 206,
        "start_time": "2024-04-21T15:19:17.580Z"
      },
      {
        "duration": 4,
        "start_time": "2024-04-21T15:19:17.788Z"
      },
      {
        "duration": 153,
        "start_time": "2024-04-21T15:19:17.793Z"
      },
      {
        "duration": 7,
        "start_time": "2024-04-21T15:19:17.947Z"
      },
      {
        "duration": 184,
        "start_time": "2024-04-21T15:19:17.955Z"
      },
      {
        "duration": 153,
        "start_time": "2024-04-21T15:19:18.140Z"
      },
      {
        "duration": 7,
        "start_time": "2024-04-21T15:19:18.295Z"
      },
      {
        "duration": 23,
        "start_time": "2024-04-21T15:19:18.303Z"
      },
      {
        "duration": 1290,
        "start_time": "2024-04-21T15:19:18.328Z"
      },
      {
        "duration": 6,
        "start_time": "2024-04-21T15:19:19.620Z"
      },
      {
        "duration": 6,
        "start_time": "2024-04-21T15:19:19.628Z"
      },
      {
        "duration": 141,
        "start_time": "2024-04-21T15:19:19.636Z"
      },
      {
        "duration": 140,
        "start_time": "2024-04-21T15:19:19.779Z"
      },
      {
        "duration": 14,
        "start_time": "2024-04-21T15:19:19.920Z"
      },
      {
        "duration": 67,
        "start_time": "2024-04-21T15:19:19.936Z"
      },
      {
        "duration": 15,
        "start_time": "2024-04-21T15:19:20.005Z"
      },
      {
        "duration": 42,
        "start_time": "2024-04-21T15:19:20.021Z"
      },
      {
        "duration": 35,
        "start_time": "2024-04-21T15:19:20.065Z"
      },
      {
        "duration": 8,
        "start_time": "2024-04-21T15:19:20.102Z"
      },
      {
        "duration": 6060,
        "start_time": "2024-04-21T15:19:20.111Z"
      },
      {
        "duration": 7,
        "start_time": "2024-04-21T15:19:26.173Z"
      },
      {
        "duration": 23,
        "start_time": "2024-04-21T15:19:26.181Z"
      },
      {
        "duration": 5962,
        "start_time": "2024-04-21T15:19:26.206Z"
      },
      {
        "duration": 7,
        "start_time": "2024-04-21T15:19:32.169Z"
      },
      {
        "duration": 32,
        "start_time": "2024-04-21T15:19:32.178Z"
      },
      {
        "duration": 7,
        "start_time": "2024-04-21T15:19:32.213Z"
      },
      {
        "duration": 15474,
        "start_time": "2024-04-21T15:19:32.221Z"
      },
      {
        "duration": 7,
        "start_time": "2024-04-21T15:19:47.696Z"
      },
      {
        "duration": 15,
        "start_time": "2024-04-21T15:19:47.704Z"
      },
      {
        "duration": 15810,
        "start_time": "2024-04-21T15:19:47.720Z"
      },
      {
        "duration": 7,
        "start_time": "2024-04-21T15:20:03.531Z"
      },
      {
        "duration": 42,
        "start_time": "2024-04-21T15:20:03.540Z"
      },
      {
        "duration": 7,
        "start_time": "2024-04-21T15:20:03.583Z"
      },
      {
        "duration": 19170,
        "start_time": "2024-04-21T15:20:03.592Z"
      },
      {
        "duration": 7,
        "start_time": "2024-04-21T15:20:22.764Z"
      },
      {
        "duration": 12,
        "start_time": "2024-04-21T15:20:22.773Z"
      },
      {
        "duration": 19499,
        "start_time": "2024-04-21T15:20:22.786Z"
      },
      {
        "duration": 7,
        "start_time": "2024-04-21T15:20:42.286Z"
      },
      {
        "duration": 44,
        "start_time": "2024-04-21T15:20:42.295Z"
      },
      {
        "duration": 6,
        "start_time": "2024-04-21T15:20:42.341Z"
      },
      {
        "duration": 24298,
        "start_time": "2024-04-21T15:20:42.348Z"
      },
      {
        "duration": 7,
        "start_time": "2024-04-21T15:21:06.648Z"
      },
      {
        "duration": 34,
        "start_time": "2024-04-21T15:21:06.656Z"
      },
      {
        "duration": 14,
        "start_time": "2024-04-21T15:21:06.692Z"
      },
      {
        "duration": 32,
        "start_time": "2024-04-21T15:21:06.708Z"
      },
      {
        "duration": 1564,
        "start_time": "2024-04-21T15:21:06.741Z"
      },
      {
        "duration": 16,
        "start_time": "2024-04-21T15:21:08.307Z"
      },
      {
        "duration": 106,
        "start_time": "2024-04-21T15:21:08.325Z"
      },
      {
        "duration": 18,
        "start_time": "2024-04-21T15:21:08.433Z"
      },
      {
        "duration": 1535,
        "start_time": "2024-04-21T15:21:08.452Z"
      },
      {
        "duration": 5300,
        "start_time": "2024-04-22T08:44:42.912Z"
      },
      {
        "duration": 1233,
        "start_time": "2024-04-22T08:44:48.214Z"
      },
      {
        "duration": 155,
        "start_time": "2024-04-22T08:44:49.448Z"
      },
      {
        "duration": 18,
        "start_time": "2024-04-22T08:44:49.605Z"
      },
      {
        "duration": 118,
        "start_time": "2024-04-22T08:44:49.625Z"
      },
      {
        "duration": 975,
        "start_time": "2024-04-22T08:44:49.745Z"
      },
      {
        "duration": 154,
        "start_time": "2024-04-22T08:44:50.722Z"
      },
      {
        "duration": 351,
        "start_time": "2024-04-22T08:44:50.878Z"
      },
      {
        "duration": 3,
        "start_time": "2024-04-22T08:44:51.230Z"
      },
      {
        "duration": 472,
        "start_time": "2024-04-22T08:44:51.235Z"
      },
      {
        "duration": 155,
        "start_time": "2024-04-22T08:44:51.708Z"
      },
      {
        "duration": 5,
        "start_time": "2024-04-22T08:44:51.864Z"
      },
      {
        "duration": 64,
        "start_time": "2024-04-22T08:44:51.870Z"
      },
      {
        "duration": 3,
        "start_time": "2024-04-22T08:44:51.937Z"
      },
      {
        "duration": 78,
        "start_time": "2024-04-22T08:44:51.942Z"
      },
      {
        "duration": 297,
        "start_time": "2024-04-22T08:44:52.022Z"
      },
      {
        "duration": 4,
        "start_time": "2024-04-22T08:44:52.321Z"
      },
      {
        "duration": 493,
        "start_time": "2024-04-22T08:44:52.326Z"
      },
      {
        "duration": 40,
        "start_time": "2024-04-22T08:44:52.821Z"
      },
      {
        "duration": 216,
        "start_time": "2024-04-22T08:44:52.862Z"
      },
      {
        "duration": 423,
        "start_time": "2024-04-22T08:44:53.080Z"
      },
      {
        "duration": 25,
        "start_time": "2024-04-22T08:44:53.505Z"
      },
      {
        "duration": 99,
        "start_time": "2024-04-22T08:44:53.531Z"
      },
      {
        "duration": 12380,
        "start_time": "2024-04-22T08:44:53.632Z"
      },
      {
        "duration": 25,
        "start_time": "2024-04-22T08:45:06.013Z"
      },
      {
        "duration": 41,
        "start_time": "2024-04-22T08:45:06.040Z"
      },
      {
        "duration": 424,
        "start_time": "2024-04-22T08:45:06.083Z"
      },
      {
        "duration": 180,
        "start_time": "2024-04-22T08:45:06.508Z"
      },
      {
        "duration": 100,
        "start_time": "2024-04-22T08:45:06.689Z"
      },
      {
        "duration": 468,
        "start_time": "2024-04-22T08:45:06.791Z"
      },
      {
        "duration": 99,
        "start_time": "2024-04-22T08:45:07.261Z"
      },
      {
        "duration": 202,
        "start_time": "2024-04-22T08:45:07.362Z"
      },
      {
        "duration": 128,
        "start_time": "2024-04-22T08:45:07.565Z"
      },
      {
        "duration": 61,
        "start_time": "2024-04-22T08:45:07.695Z"
      },
      {
        "duration": 86895,
        "start_time": "2024-04-22T08:45:07.757Z"
      },
      {
        "duration": 54,
        "start_time": "2024-04-22T08:46:34.654Z"
      },
      {
        "duration": 62,
        "start_time": "2024-04-22T08:46:34.710Z"
      },
      {
        "duration": 84926,
        "start_time": "2024-04-22T08:46:34.774Z"
      },
      {
        "duration": 54,
        "start_time": "2024-04-22T08:47:59.701Z"
      },
      {
        "duration": 136,
        "start_time": "2024-04-22T08:47:59.757Z"
      },
      {
        "duration": 58,
        "start_time": "2024-04-22T08:47:59.897Z"
      },
      {
        "duration": 325701,
        "start_time": "2024-04-22T08:47:59.957Z"
      },
      {
        "duration": 53,
        "start_time": "2024-04-22T08:53:25.659Z"
      },
      {
        "duration": 65,
        "start_time": "2024-04-22T08:53:25.713Z"
      },
      {
        "duration": 331699,
        "start_time": "2024-04-22T08:53:25.780Z"
      },
      {
        "duration": 53,
        "start_time": "2024-04-22T08:58:57.481Z"
      },
      {
        "duration": 145,
        "start_time": "2024-04-22T08:58:57.535Z"
      },
      {
        "duration": 51,
        "start_time": "2024-04-22T08:58:57.682Z"
      },
      {
        "duration": 421475,
        "start_time": "2024-04-22T08:58:57.735Z"
      },
      {
        "duration": 56,
        "start_time": "2024-04-22T09:05:59.212Z"
      },
      {
        "duration": 57,
        "start_time": "2024-04-22T09:05:59.270Z"
      },
      {
        "duration": 433085,
        "start_time": "2024-04-22T09:05:59.329Z"
      },
      {
        "duration": 53,
        "start_time": "2024-04-22T09:13:12.416Z"
      },
      {
        "duration": 173,
        "start_time": "2024-04-22T09:13:12.471Z"
      },
      {
        "duration": 51,
        "start_time": "2024-04-22T09:13:12.646Z"
      },
      {
        "duration": 617080,
        "start_time": "2024-04-22T09:13:12.699Z"
      },
      {
        "duration": 51,
        "start_time": "2024-04-22T09:23:29.781Z"
      },
      {
        "duration": 159,
        "start_time": "2024-04-22T09:23:29.834Z"
      },
      {
        "duration": 128,
        "start_time": "2024-04-22T09:23:29.995Z"
      },
      {
        "duration": 219,
        "start_time": "2024-04-22T09:23:30.125Z"
      },
      {
        "duration": 6489,
        "start_time": "2024-04-22T09:23:30.345Z"
      },
      {
        "duration": 147,
        "start_time": "2024-04-22T09:23:36.836Z"
      },
      {
        "duration": 1184,
        "start_time": "2024-04-22T09:23:36.986Z"
      },
      {
        "duration": 21,
        "start_time": "2024-04-22T09:23:38.172Z"
      },
      {
        "duration": 14055,
        "start_time": "2024-04-22T09:23:38.195Z"
      },
      {
        "duration": 4112,
        "start_time": "2024-04-22T09:32:07.757Z"
      },
      {
        "duration": 941,
        "start_time": "2024-04-22T09:32:11.871Z"
      },
      {
        "duration": 163,
        "start_time": "2024-04-22T09:32:12.814Z"
      },
      {
        "duration": 18,
        "start_time": "2024-04-22T09:32:12.978Z"
      },
      {
        "duration": 116,
        "start_time": "2024-04-22T09:32:12.998Z"
      },
      {
        "duration": 996,
        "start_time": "2024-04-22T09:32:13.116Z"
      },
      {
        "duration": 153,
        "start_time": "2024-04-22T09:32:14.114Z"
      },
      {
        "duration": 361,
        "start_time": "2024-04-22T09:32:14.269Z"
      },
      {
        "duration": 3,
        "start_time": "2024-04-22T09:32:14.632Z"
      },
      {
        "duration": 500,
        "start_time": "2024-04-22T09:32:14.636Z"
      },
      {
        "duration": 128,
        "start_time": "2024-04-22T09:32:15.138Z"
      },
      {
        "duration": 4,
        "start_time": "2024-04-22T09:32:15.268Z"
      },
      {
        "duration": 75,
        "start_time": "2024-04-22T09:32:15.273Z"
      },
      {
        "duration": 4,
        "start_time": "2024-04-22T09:32:15.351Z"
      },
      {
        "duration": 106,
        "start_time": "2024-04-22T09:32:15.356Z"
      },
      {
        "duration": 274,
        "start_time": "2024-04-22T09:32:15.464Z"
      },
      {
        "duration": 4,
        "start_time": "2024-04-22T09:32:15.740Z"
      },
      {
        "duration": 503,
        "start_time": "2024-04-22T09:32:15.745Z"
      },
      {
        "duration": 35,
        "start_time": "2024-04-22T09:32:16.250Z"
      },
      {
        "duration": 215,
        "start_time": "2024-04-22T09:32:16.286Z"
      },
      {
        "duration": 387,
        "start_time": "2024-04-22T09:32:16.503Z"
      },
      {
        "duration": 23,
        "start_time": "2024-04-22T09:32:16.892Z"
      },
      {
        "duration": 98,
        "start_time": "2024-04-22T09:32:16.916Z"
      },
      {
        "duration": 13120,
        "start_time": "2024-04-22T09:32:17.016Z"
      },
      {
        "duration": 29,
        "start_time": "2024-04-22T09:32:30.138Z"
      },
      {
        "duration": 57,
        "start_time": "2024-04-22T09:32:30.169Z"
      },
      {
        "duration": 438,
        "start_time": "2024-04-22T09:32:30.228Z"
      },
      {
        "duration": 175,
        "start_time": "2024-04-22T09:32:30.667Z"
      },
      {
        "duration": 102,
        "start_time": "2024-04-22T09:32:30.843Z"
      },
      {
        "duration": 521,
        "start_time": "2024-04-22T09:32:30.956Z"
      },
      {
        "duration": 100,
        "start_time": "2024-04-22T09:32:31.479Z"
      },
      {
        "duration": 266,
        "start_time": "2024-04-22T09:32:31.580Z"
      },
      {
        "duration": 2,
        "start_time": "2024-04-22T09:32:31.848Z"
      },
      {
        "duration": 56,
        "start_time": "2024-04-22T09:32:31.856Z"
      },
      {
        "duration": 84,
        "start_time": "2024-04-22T09:32:31.914Z"
      },
      {
        "duration": 101,
        "start_time": "2024-04-22T09:32:32.000Z"
      },
      {
        "duration": 62,
        "start_time": "2024-04-22T09:32:32.103Z"
      },
      {
        "duration": 49,
        "start_time": "2024-04-22T09:32:32.167Z"
      },
      {
        "duration": 51,
        "start_time": "2024-04-22T09:32:32.218Z"
      },
      {
        "duration": 36,
        "start_time": "2024-04-22T09:32:32.271Z"
      },
      {
        "duration": 14,
        "start_time": "2024-04-22T09:32:32.312Z"
      },
      {
        "duration": 37,
        "start_time": "2024-04-22T09:32:32.328Z"
      },
      {
        "duration": 27,
        "start_time": "2024-04-22T09:32:32.367Z"
      },
      {
        "duration": 9,
        "start_time": "2024-04-22T09:32:32.396Z"
      },
      {
        "duration": 27,
        "start_time": "2024-04-22T09:32:32.407Z"
      },
      {
        "duration": 13,
        "start_time": "2024-04-22T09:32:32.436Z"
      },
      {
        "duration": 30,
        "start_time": "2024-04-22T09:32:32.451Z"
      },
      {
        "duration": 28,
        "start_time": "2024-04-22T09:32:32.483Z"
      },
      {
        "duration": 9,
        "start_time": "2024-04-22T09:32:32.513Z"
      },
      {
        "duration": 19,
        "start_time": "2024-04-22T09:32:32.523Z"
      },
      {
        "duration": 27,
        "start_time": "2024-04-22T09:32:32.543Z"
      },
      {
        "duration": 18,
        "start_time": "2024-04-22T09:32:32.571Z"
      },
      {
        "duration": 65,
        "start_time": "2024-04-22T09:32:32.591Z"
      },
      {
        "duration": 16,
        "start_time": "2024-04-22T09:32:32.658Z"
      },
      {
        "duration": 20,
        "start_time": "2024-04-22T09:32:32.676Z"
      },
      {
        "duration": 10,
        "start_time": "2024-04-22T09:32:32.698Z"
      },
      {
        "duration": 24,
        "start_time": "2024-04-22T09:32:32.710Z"
      },
      {
        "duration": 143,
        "start_time": "2024-04-22T09:32:32.736Z"
      },
      {
        "duration": 122,
        "start_time": "2024-04-22T09:32:32.881Z"
      },
      {
        "duration": 193,
        "start_time": "2024-04-22T09:32:33.005Z"
      },
      {
        "duration": 5929,
        "start_time": "2024-04-22T09:32:33.200Z"
      },
      {
        "duration": 113,
        "start_time": "2024-04-22T09:32:39.131Z"
      },
      {
        "duration": 1073,
        "start_time": "2024-04-22T09:32:39.246Z"
      },
      {
        "duration": 20,
        "start_time": "2024-04-22T09:32:40.320Z"
      },
      {
        "duration": 13100,
        "start_time": "2024-04-22T09:32:40.342Z"
      },
      {
        "duration": 2015289,
        "start_time": "2024-04-22T09:35:06.257Z"
      },
      {
        "duration": 88,
        "start_time": "2024-04-22T11:21:36.961Z"
      },
      {
        "duration": 35,
        "start_time": "2024-04-22T11:22:05.268Z"
      },
      {
        "duration": 132,
        "start_time": "2024-04-22T11:22:18.377Z"
      },
      {
        "duration": 2679,
        "start_time": "2024-04-22T11:22:26.637Z"
      },
      {
        "duration": 23480,
        "start_time": "2024-04-22T11:22:34.018Z"
      },
      {
        "duration": 35391,
        "start_time": "2024-04-22T11:23:42.297Z"
      },
      {
        "duration": 201630,
        "start_time": "2024-04-22T12:13:12.245Z"
      },
      {
        "duration": 15,
        "start_time": "2024-04-22T12:16:42.685Z"
      },
      {
        "duration": 14454,
        "start_time": "2024-04-22T12:21:55.813Z"
      },
      {
        "duration": 1612,
        "start_time": "2024-04-22T12:23:00.647Z"
      },
      {
        "duration": 6710,
        "start_time": "2024-04-22T12:25:02.547Z"
      },
      {
        "duration": 1430993,
        "start_time": "2024-04-22T12:26:43.187Z"
      },
      {
        "duration": 7383,
        "start_time": "2024-04-22T13:09:40.861Z"
      },
      {
        "duration": 50,
        "start_time": "2024-04-22T13:11:48.702Z"
      },
      {
        "duration": 500,
        "start_time": "2024-04-22T13:14:40.404Z"
      },
      {
        "duration": 6102,
        "start_time": "2024-04-22T13:17:13.562Z"
      },
      {
        "duration": 62,
        "start_time": "2024-04-22T13:49:11.232Z"
      },
      {
        "duration": 4168,
        "start_time": "2024-04-22T13:58:46.800Z"
      },
      {
        "duration": 980,
        "start_time": "2024-04-22T13:58:50.970Z"
      },
      {
        "duration": 160,
        "start_time": "2024-04-22T13:58:51.951Z"
      },
      {
        "duration": 19,
        "start_time": "2024-04-22T13:58:52.113Z"
      },
      {
        "duration": 112,
        "start_time": "2024-04-22T13:58:52.135Z"
      },
      {
        "duration": 1002,
        "start_time": "2024-04-22T13:58:52.249Z"
      },
      {
        "duration": 155,
        "start_time": "2024-04-22T13:58:53.255Z"
      },
      {
        "duration": 330,
        "start_time": "2024-04-22T13:58:53.411Z"
      },
      {
        "duration": 12,
        "start_time": "2024-04-22T13:58:53.743Z"
      },
      {
        "duration": 491,
        "start_time": "2024-04-22T13:58:53.757Z"
      },
      {
        "duration": 175,
        "start_time": "2024-04-22T13:58:54.250Z"
      },
      {
        "duration": 5,
        "start_time": "2024-04-22T13:58:54.427Z"
      },
      {
        "duration": 58,
        "start_time": "2024-04-22T13:58:54.434Z"
      },
      {
        "duration": 4,
        "start_time": "2024-04-22T13:58:54.495Z"
      },
      {
        "duration": 44,
        "start_time": "2024-04-22T13:58:54.500Z"
      },
      {
        "duration": 249,
        "start_time": "2024-04-22T13:58:54.546Z"
      },
      {
        "duration": 4,
        "start_time": "2024-04-22T13:58:54.796Z"
      },
      {
        "duration": 533,
        "start_time": "2024-04-22T13:58:54.802Z"
      },
      {
        "duration": 40,
        "start_time": "2024-04-22T13:58:55.337Z"
      },
      {
        "duration": 217,
        "start_time": "2024-04-22T13:58:55.379Z"
      },
      {
        "duration": 392,
        "start_time": "2024-04-22T13:58:55.597Z"
      },
      {
        "duration": 22,
        "start_time": "2024-04-22T13:58:55.990Z"
      },
      {
        "duration": 96,
        "start_time": "2024-04-22T13:58:56.014Z"
      },
      {
        "duration": 13253,
        "start_time": "2024-04-22T13:58:56.112Z"
      },
      {
        "duration": 25,
        "start_time": "2024-04-22T13:59:09.367Z"
      },
      {
        "duration": 28,
        "start_time": "2024-04-22T13:59:09.394Z"
      },
      {
        "duration": 436,
        "start_time": "2024-04-22T13:59:09.423Z"
      },
      {
        "duration": 171,
        "start_time": "2024-04-22T13:59:09.860Z"
      },
      {
        "duration": 105,
        "start_time": "2024-04-22T13:59:10.033Z"
      },
      {
        "duration": 480,
        "start_time": "2024-04-22T13:59:10.140Z"
      },
      {
        "duration": 98,
        "start_time": "2024-04-22T13:59:10.621Z"
      },
      {
        "duration": 198,
        "start_time": "2024-04-22T13:59:10.720Z"
      },
      {
        "duration": 80,
        "start_time": "2024-04-22T13:59:10.919Z"
      },
      {
        "duration": 0,
        "start_time": "2024-04-22T13:59:11.001Z"
      },
      {
        "duration": 0,
        "start_time": "2024-04-22T13:59:11.002Z"
      },
      {
        "duration": 0,
        "start_time": "2024-04-22T13:59:11.003Z"
      },
      {
        "duration": 0,
        "start_time": "2024-04-22T13:59:11.004Z"
      },
      {
        "duration": 0,
        "start_time": "2024-04-22T13:59:11.005Z"
      },
      {
        "duration": 0,
        "start_time": "2024-04-22T13:59:11.006Z"
      },
      {
        "duration": 0,
        "start_time": "2024-04-22T13:59:11.007Z"
      },
      {
        "duration": 0,
        "start_time": "2024-04-22T13:59:11.008Z"
      },
      {
        "duration": 0,
        "start_time": "2024-04-22T13:59:11.009Z"
      },
      {
        "duration": 0,
        "start_time": "2024-04-22T13:59:11.010Z"
      },
      {
        "duration": 0,
        "start_time": "2024-04-22T13:59:11.011Z"
      },
      {
        "duration": 0,
        "start_time": "2024-04-22T13:59:11.012Z"
      },
      {
        "duration": 0,
        "start_time": "2024-04-22T13:59:11.013Z"
      },
      {
        "duration": 0,
        "start_time": "2024-04-22T13:59:11.014Z"
      },
      {
        "duration": 0,
        "start_time": "2024-04-22T13:59:11.014Z"
      },
      {
        "duration": 0,
        "start_time": "2024-04-22T13:59:11.015Z"
      },
      {
        "duration": 0,
        "start_time": "2024-04-22T13:59:11.017Z"
      },
      {
        "duration": 0,
        "start_time": "2024-04-22T13:59:11.017Z"
      },
      {
        "duration": 0,
        "start_time": "2024-04-22T13:59:11.018Z"
      },
      {
        "duration": 0,
        "start_time": "2024-04-22T13:59:11.019Z"
      },
      {
        "duration": 0,
        "start_time": "2024-04-22T13:59:11.020Z"
      },
      {
        "duration": 0,
        "start_time": "2024-04-22T13:59:11.021Z"
      },
      {
        "duration": 0,
        "start_time": "2024-04-22T13:59:11.022Z"
      },
      {
        "duration": 0,
        "start_time": "2024-04-22T13:59:11.023Z"
      },
      {
        "duration": 0,
        "start_time": "2024-04-22T13:59:11.024Z"
      },
      {
        "duration": 0,
        "start_time": "2024-04-22T13:59:11.025Z"
      },
      {
        "duration": 0,
        "start_time": "2024-04-22T13:59:11.026Z"
      },
      {
        "duration": 0,
        "start_time": "2024-04-22T13:59:11.027Z"
      },
      {
        "duration": 0,
        "start_time": "2024-04-22T13:59:11.028Z"
      },
      {
        "duration": 0,
        "start_time": "2024-04-22T13:59:11.028Z"
      },
      {
        "duration": 0,
        "start_time": "2024-04-22T13:59:11.029Z"
      },
      {
        "duration": 0,
        "start_time": "2024-04-22T13:59:11.030Z"
      },
      {
        "duration": 0,
        "start_time": "2024-04-22T13:59:11.031Z"
      },
      {
        "duration": 0,
        "start_time": "2024-04-22T13:59:11.032Z"
      },
      {
        "duration": 0,
        "start_time": "2024-04-22T13:59:11.033Z"
      },
      {
        "duration": 0,
        "start_time": "2024-04-22T13:59:11.034Z"
      },
      {
        "duration": 0,
        "start_time": "2024-04-22T13:59:11.035Z"
      },
      {
        "duration": 0,
        "start_time": "2024-04-22T13:59:11.035Z"
      },
      {
        "duration": 0,
        "start_time": "2024-04-22T13:59:11.036Z"
      },
      {
        "duration": 0,
        "start_time": "2024-04-22T13:59:11.037Z"
      },
      {
        "duration": 0,
        "start_time": "2024-04-22T13:59:11.056Z"
      },
      {
        "duration": 0,
        "start_time": "2024-04-22T13:59:11.057Z"
      },
      {
        "duration": 4187,
        "start_time": "2024-04-22T13:59:40.853Z"
      },
      {
        "duration": 936,
        "start_time": "2024-04-22T13:59:45.042Z"
      },
      {
        "duration": 151,
        "start_time": "2024-04-22T13:59:45.980Z"
      },
      {
        "duration": 25,
        "start_time": "2024-04-22T13:59:46.133Z"
      },
      {
        "duration": 108,
        "start_time": "2024-04-22T13:59:46.160Z"
      },
      {
        "duration": 962,
        "start_time": "2024-04-22T13:59:46.270Z"
      },
      {
        "duration": 152,
        "start_time": "2024-04-22T13:59:47.233Z"
      },
      {
        "duration": 333,
        "start_time": "2024-04-22T13:59:47.386Z"
      },
      {
        "duration": 3,
        "start_time": "2024-04-22T13:59:47.721Z"
      },
      {
        "duration": 471,
        "start_time": "2024-04-22T13:59:47.726Z"
      },
      {
        "duration": 119,
        "start_time": "2024-04-22T13:59:48.199Z"
      },
      {
        "duration": 5,
        "start_time": "2024-04-22T13:59:48.319Z"
      },
      {
        "duration": 58,
        "start_time": "2024-04-22T13:59:48.325Z"
      },
      {
        "duration": 4,
        "start_time": "2024-04-22T13:59:48.386Z"
      },
      {
        "duration": 37,
        "start_time": "2024-04-22T13:59:48.392Z"
      },
      {
        "duration": 251,
        "start_time": "2024-04-22T13:59:48.431Z"
      },
      {
        "duration": 3,
        "start_time": "2024-04-22T13:59:48.684Z"
      },
      {
        "duration": 496,
        "start_time": "2024-04-22T13:59:48.689Z"
      },
      {
        "duration": 30,
        "start_time": "2024-04-22T13:59:49.187Z"
      },
      {
        "duration": 226,
        "start_time": "2024-04-22T13:59:49.219Z"
      },
      {
        "duration": 440,
        "start_time": "2024-04-22T13:59:49.447Z"
      },
      {
        "duration": 22,
        "start_time": "2024-04-22T13:59:49.888Z"
      },
      {
        "duration": 103,
        "start_time": "2024-04-22T13:59:49.912Z"
      },
      {
        "duration": 13045,
        "start_time": "2024-04-22T13:59:50.017Z"
      },
      {
        "duration": 25,
        "start_time": "2024-04-22T14:00:03.064Z"
      },
      {
        "duration": 139,
        "start_time": "2024-04-22T14:00:03.090Z"
      },
      {
        "duration": 453,
        "start_time": "2024-04-22T14:00:03.230Z"
      },
      {
        "duration": 178,
        "start_time": "2024-04-22T14:00:03.685Z"
      },
      {
        "duration": 111,
        "start_time": "2024-04-22T14:00:03.865Z"
      },
      {
        "duration": 512,
        "start_time": "2024-04-22T14:00:03.977Z"
      },
      {
        "duration": 100,
        "start_time": "2024-04-22T14:00:04.491Z"
      },
      {
        "duration": 234,
        "start_time": "2024-04-22T14:00:04.592Z"
      },
      {
        "duration": 128,
        "start_time": "2024-04-22T14:00:04.828Z"
      },
      {
        "duration": 2,
        "start_time": "2024-04-22T14:00:04.958Z"
      },
      {
        "duration": 6,
        "start_time": "2024-04-22T14:00:04.962Z"
      },
      {
        "duration": 8,
        "start_time": "2024-04-22T14:00:04.970Z"
      },
      {
        "duration": 55,
        "start_time": "2024-04-22T14:00:04.980Z"
      },
      {
        "duration": 85,
        "start_time": "2024-04-22T14:00:05.036Z"
      },
      {
        "duration": 0,
        "start_time": "2024-04-22T14:00:05.124Z"
      },
      {
        "duration": 0,
        "start_time": "2024-04-22T14:00:05.125Z"
      },
      {
        "duration": 0,
        "start_time": "2024-04-22T14:00:05.126Z"
      },
      {
        "duration": 0,
        "start_time": "2024-04-22T14:00:05.127Z"
      },
      {
        "duration": 0,
        "start_time": "2024-04-22T14:00:05.128Z"
      },
      {
        "duration": 0,
        "start_time": "2024-04-22T14:00:05.129Z"
      },
      {
        "duration": 0,
        "start_time": "2024-04-22T14:00:05.130Z"
      },
      {
        "duration": 0,
        "start_time": "2024-04-22T14:00:05.131Z"
      },
      {
        "duration": 0,
        "start_time": "2024-04-22T14:00:05.132Z"
      },
      {
        "duration": 0,
        "start_time": "2024-04-22T14:00:05.134Z"
      },
      {
        "duration": 0,
        "start_time": "2024-04-22T14:00:05.135Z"
      },
      {
        "duration": 0,
        "start_time": "2024-04-22T14:00:05.136Z"
      },
      {
        "duration": 0,
        "start_time": "2024-04-22T14:00:05.136Z"
      },
      {
        "duration": 0,
        "start_time": "2024-04-22T14:00:05.138Z"
      },
      {
        "duration": 0,
        "start_time": "2024-04-22T14:00:05.139Z"
      },
      {
        "duration": 0,
        "start_time": "2024-04-22T14:00:05.139Z"
      },
      {
        "duration": 0,
        "start_time": "2024-04-22T14:00:05.141Z"
      },
      {
        "duration": 0,
        "start_time": "2024-04-22T14:00:05.142Z"
      },
      {
        "duration": 0,
        "start_time": "2024-04-22T14:00:05.143Z"
      },
      {
        "duration": 0,
        "start_time": "2024-04-22T14:00:05.145Z"
      },
      {
        "duration": 0,
        "start_time": "2024-04-22T14:00:05.146Z"
      },
      {
        "duration": 0,
        "start_time": "2024-04-22T14:00:05.148Z"
      },
      {
        "duration": 0,
        "start_time": "2024-04-22T14:00:05.149Z"
      },
      {
        "duration": 0,
        "start_time": "2024-04-22T14:00:05.150Z"
      },
      {
        "duration": 0,
        "start_time": "2024-04-22T14:00:05.152Z"
      },
      {
        "duration": 0,
        "start_time": "2024-04-22T14:00:05.154Z"
      },
      {
        "duration": 0,
        "start_time": "2024-04-22T14:00:05.155Z"
      },
      {
        "duration": 0,
        "start_time": "2024-04-22T14:00:05.156Z"
      },
      {
        "duration": 0,
        "start_time": "2024-04-22T14:00:05.158Z"
      },
      {
        "duration": 0,
        "start_time": "2024-04-22T14:00:05.159Z"
      },
      {
        "duration": 0,
        "start_time": "2024-04-22T14:00:05.161Z"
      },
      {
        "duration": 0,
        "start_time": "2024-04-22T14:00:05.164Z"
      },
      {
        "duration": 0,
        "start_time": "2024-04-22T14:00:05.165Z"
      },
      {
        "duration": 0,
        "start_time": "2024-04-22T14:00:05.167Z"
      },
      {
        "duration": 0,
        "start_time": "2024-04-22T14:00:05.168Z"
      },
      {
        "duration": 0,
        "start_time": "2024-04-22T14:00:05.170Z"
      },
      {
        "duration": 0,
        "start_time": "2024-04-22T14:00:05.171Z"
      },
      {
        "duration": 4159,
        "start_time": "2024-04-22T14:01:11.810Z"
      },
      {
        "duration": 909,
        "start_time": "2024-04-22T14:01:15.971Z"
      },
      {
        "duration": 155,
        "start_time": "2024-04-22T14:01:16.882Z"
      },
      {
        "duration": 21,
        "start_time": "2024-04-22T14:01:17.039Z"
      },
      {
        "duration": 96,
        "start_time": "2024-04-22T14:01:17.062Z"
      },
      {
        "duration": 960,
        "start_time": "2024-04-22T14:01:17.160Z"
      },
      {
        "duration": 158,
        "start_time": "2024-04-22T14:01:18.122Z"
      },
      {
        "duration": 333,
        "start_time": "2024-04-22T14:01:18.282Z"
      },
      {
        "duration": 3,
        "start_time": "2024-04-22T14:01:18.617Z"
      },
      {
        "duration": 506,
        "start_time": "2024-04-22T14:01:18.622Z"
      },
      {
        "duration": 176,
        "start_time": "2024-04-22T14:01:19.130Z"
      },
      {
        "duration": 5,
        "start_time": "2024-04-22T14:01:19.308Z"
      },
      {
        "duration": 59,
        "start_time": "2024-04-22T14:01:19.315Z"
      },
      {
        "duration": 4,
        "start_time": "2024-04-22T14:01:19.378Z"
      },
      {
        "duration": 46,
        "start_time": "2024-04-22T14:01:19.383Z"
      },
      {
        "duration": 266,
        "start_time": "2024-04-22T14:01:19.430Z"
      },
      {
        "duration": 3,
        "start_time": "2024-04-22T14:01:19.698Z"
      },
      {
        "duration": 504,
        "start_time": "2024-04-22T14:01:19.703Z"
      },
      {
        "duration": 31,
        "start_time": "2024-04-22T14:01:20.208Z"
      },
      {
        "duration": 221,
        "start_time": "2024-04-22T14:01:20.240Z"
      },
      {
        "duration": 400,
        "start_time": "2024-04-22T14:01:20.463Z"
      },
      {
        "duration": 22,
        "start_time": "2024-04-22T14:01:20.865Z"
      },
      {
        "duration": 99,
        "start_time": "2024-04-22T14:01:20.888Z"
      },
      {
        "duration": 12211,
        "start_time": "2024-04-22T14:01:20.988Z"
      },
      {
        "duration": 25,
        "start_time": "2024-04-22T14:01:33.201Z"
      },
      {
        "duration": 48,
        "start_time": "2024-04-22T14:01:33.228Z"
      },
      {
        "duration": 435,
        "start_time": "2024-04-22T14:01:33.278Z"
      },
      {
        "duration": 201,
        "start_time": "2024-04-22T14:01:33.715Z"
      },
      {
        "duration": 109,
        "start_time": "2024-04-22T14:01:33.918Z"
      },
      {
        "duration": 535,
        "start_time": "2024-04-22T14:01:34.029Z"
      },
      {
        "duration": 112,
        "start_time": "2024-04-22T14:01:34.567Z"
      },
      {
        "duration": 202,
        "start_time": "2024-04-22T14:01:34.681Z"
      },
      {
        "duration": 125,
        "start_time": "2024-04-22T14:01:34.885Z"
      },
      {
        "duration": 2,
        "start_time": "2024-04-22T14:01:35.012Z"
      },
      {
        "duration": 12,
        "start_time": "2024-04-22T14:01:35.016Z"
      },
      {
        "duration": 24,
        "start_time": "2024-04-22T14:01:35.030Z"
      },
      {
        "duration": 69,
        "start_time": "2024-04-22T14:01:35.056Z"
      },
      {
        "duration": 85508,
        "start_time": "2024-04-22T14:01:35.126Z"
      },
      {
        "duration": 43,
        "start_time": "2024-04-22T14:03:00.636Z"
      },
      {
        "duration": 217,
        "start_time": "2024-04-22T14:03:00.681Z"
      },
      {
        "duration": 3,
        "start_time": "2024-04-22T14:03:00.902Z"
      },
      {
        "duration": 48,
        "start_time": "2024-04-22T14:03:00.906Z"
      },
      {
        "duration": 65,
        "start_time": "2024-04-22T14:03:00.956Z"
      },
      {
        "duration": 148,
        "start_time": "2024-04-22T14:03:01.022Z"
      },
      {
        "duration": 319440,
        "start_time": "2024-04-22T14:03:01.171Z"
      },
      {
        "duration": 45,
        "start_time": "2024-04-22T14:08:20.613Z"
      },
      {
        "duration": 167,
        "start_time": "2024-04-22T14:08:20.660Z"
      },
      {
        "duration": 3,
        "start_time": "2024-04-22T14:08:20.828Z"
      },
      {
        "duration": 12,
        "start_time": "2024-04-22T14:08:20.832Z"
      },
      {
        "duration": 24,
        "start_time": "2024-04-22T14:08:20.846Z"
      },
      {
        "duration": 56,
        "start_time": "2024-04-22T14:08:20.871Z"
      },
      {
        "duration": 417017,
        "start_time": "2024-04-22T14:08:20.929Z"
      },
      {
        "duration": 46,
        "start_time": "2024-04-22T14:15:17.948Z"
      },
      {
        "duration": 177,
        "start_time": "2024-04-22T14:15:17.996Z"
      },
      {
        "duration": 2,
        "start_time": "2024-04-22T14:15:18.175Z"
      },
      {
        "duration": 692228,
        "start_time": "2024-04-22T14:15:18.179Z"
      },
      {
        "duration": 49,
        "start_time": "2024-04-22T14:26:50.409Z"
      },
      {
        "duration": 152,
        "start_time": "2024-04-22T14:26:50.460Z"
      },
      {
        "duration": 145,
        "start_time": "2024-04-22T14:26:50.613Z"
      },
      {
        "duration": 159,
        "start_time": "2024-04-22T14:26:50.759Z"
      },
      {
        "duration": 6074,
        "start_time": "2024-04-22T14:26:50.920Z"
      },
      {
        "duration": 102,
        "start_time": "2024-04-22T14:26:56.996Z"
      },
      {
        "duration": 1161,
        "start_time": "2024-04-22T14:26:57.100Z"
      },
      {
        "duration": 21,
        "start_time": "2024-04-22T14:26:58.263Z"
      },
      {
        "duration": 13092,
        "start_time": "2024-04-22T14:26:58.286Z"
      },
      {
        "duration": 4494,
        "start_time": "2024-04-22T14:38:42.073Z"
      },
      {
        "duration": 975,
        "start_time": "2024-04-22T14:38:46.570Z"
      },
      {
        "duration": 171,
        "start_time": "2024-04-22T14:38:47.546Z"
      },
      {
        "duration": 17,
        "start_time": "2024-04-22T14:38:47.718Z"
      },
      {
        "duration": 114,
        "start_time": "2024-04-22T14:38:47.737Z"
      },
      {
        "duration": 998,
        "start_time": "2024-04-22T14:38:47.853Z"
      },
      {
        "duration": 151,
        "start_time": "2024-04-22T14:38:48.853Z"
      },
      {
        "duration": 357,
        "start_time": "2024-04-22T14:38:49.005Z"
      },
      {
        "duration": 3,
        "start_time": "2024-04-22T14:38:49.363Z"
      },
      {
        "duration": 485,
        "start_time": "2024-04-22T14:38:49.367Z"
      },
      {
        "duration": 123,
        "start_time": "2024-04-22T14:38:49.853Z"
      },
      {
        "duration": 5,
        "start_time": "2024-04-22T14:38:49.978Z"
      },
      {
        "duration": 43,
        "start_time": "2024-04-22T14:38:49.985Z"
      },
      {
        "duration": 25,
        "start_time": "2024-04-22T14:38:50.032Z"
      },
      {
        "duration": 66,
        "start_time": "2024-04-22T14:38:50.059Z"
      },
      {
        "duration": 240,
        "start_time": "2024-04-22T14:38:50.127Z"
      },
      {
        "duration": 4,
        "start_time": "2024-04-22T14:38:50.369Z"
      },
      {
        "duration": 508,
        "start_time": "2024-04-22T14:38:50.375Z"
      },
      {
        "duration": 39,
        "start_time": "2024-04-22T14:38:50.885Z"
      },
      {
        "duration": 244,
        "start_time": "2024-04-22T14:38:50.926Z"
      },
      {
        "duration": 406,
        "start_time": "2024-04-22T14:38:51.172Z"
      },
      {
        "duration": 23,
        "start_time": "2024-04-22T14:38:51.580Z"
      },
      {
        "duration": 122,
        "start_time": "2024-04-22T14:38:51.604Z"
      },
      {
        "duration": 13386,
        "start_time": "2024-04-22T14:38:51.728Z"
      },
      {
        "duration": 26,
        "start_time": "2024-04-22T14:39:05.115Z"
      },
      {
        "duration": 36,
        "start_time": "2024-04-22T14:39:05.143Z"
      },
      {
        "duration": 470,
        "start_time": "2024-04-22T14:39:05.180Z"
      },
      {
        "duration": 181,
        "start_time": "2024-04-22T14:39:05.651Z"
      },
      {
        "duration": 133,
        "start_time": "2024-04-22T14:39:05.834Z"
      },
      {
        "duration": 496,
        "start_time": "2024-04-22T14:39:05.968Z"
      },
      {
        "duration": 98,
        "start_time": "2024-04-22T14:39:06.465Z"
      },
      {
        "duration": 205,
        "start_time": "2024-04-22T14:39:06.565Z"
      },
      {
        "duration": 139,
        "start_time": "2024-04-22T14:39:06.772Z"
      },
      {
        "duration": 2,
        "start_time": "2024-04-22T14:39:06.912Z"
      },
      {
        "duration": 20,
        "start_time": "2024-04-22T14:39:06.916Z"
      },
      {
        "duration": 11,
        "start_time": "2024-04-22T14:39:06.937Z"
      },
      {
        "duration": 51,
        "start_time": "2024-04-22T14:39:06.950Z"
      },
      {
        "duration": 87351,
        "start_time": "2024-04-22T14:39:07.003Z"
      },
      {
        "duration": 61,
        "start_time": "2024-04-22T14:40:34.356Z"
      },
      {
        "duration": 151,
        "start_time": "2024-04-22T14:40:34.418Z"
      },
      {
        "duration": 3,
        "start_time": "2024-04-22T14:40:34.573Z"
      },
      {
        "duration": 6,
        "start_time": "2024-04-22T14:40:34.577Z"
      },
      {
        "duration": 11,
        "start_time": "2024-04-22T14:40:34.584Z"
      },
      {
        "duration": 46,
        "start_time": "2024-04-22T14:40:34.597Z"
      },
      {
        "duration": 350304,
        "start_time": "2024-04-22T14:40:34.644Z"
      },
      {
        "duration": 53,
        "start_time": "2024-04-22T14:46:24.950Z"
      },
      {
        "duration": 165,
        "start_time": "2024-04-22T14:46:25.005Z"
      },
      {
        "duration": 2,
        "start_time": "2024-04-22T14:46:25.172Z"
      },
      {
        "duration": 17,
        "start_time": "2024-04-22T14:46:25.175Z"
      },
      {
        "duration": 54,
        "start_time": "2024-04-22T14:46:25.194Z"
      },
      {
        "duration": 70,
        "start_time": "2024-04-22T14:46:25.250Z"
      },
      {
        "duration": 467308,
        "start_time": "2024-04-22T14:46:25.322Z"
      },
      {
        "duration": 59,
        "start_time": "2024-04-22T14:54:12.633Z"
      },
      {
        "duration": 179,
        "start_time": "2024-04-22T14:54:12.694Z"
      },
      {
        "duration": 3,
        "start_time": "2024-04-22T14:54:12.874Z"
      },
      {
        "duration": 763786,
        "start_time": "2024-04-22T14:54:12.878Z"
      },
      {
        "duration": 187,
        "start_time": "2024-04-22T15:06:56.722Z"
      },
      {
        "duration": 130,
        "start_time": "2024-04-22T15:06:56.911Z"
      },
      {
        "duration": 186,
        "start_time": "2024-04-22T15:06:57.042Z"
      },
      {
        "duration": 6612,
        "start_time": "2024-04-22T15:06:57.229Z"
      },
      {
        "duration": 124,
        "start_time": "2024-04-22T15:07:03.843Z"
      },
      {
        "duration": 1236,
        "start_time": "2024-04-22T15:07:03.969Z"
      },
      {
        "duration": 21,
        "start_time": "2024-04-22T15:07:05.207Z"
      },
      {
        "duration": 14662,
        "start_time": "2024-04-22T15:07:05.230Z"
      },
      {
        "duration": 2070570,
        "start_time": "2024-04-22T15:07:19.894Z"
      },
      {
        "duration": 36349,
        "start_time": "2024-04-22T15:41:50.466Z"
      },
      {
        "duration": 5221,
        "start_time": "2024-04-23T04:48:29.182Z"
      },
      {
        "duration": 1151,
        "start_time": "2024-04-23T04:48:34.405Z"
      },
      {
        "duration": 150,
        "start_time": "2024-04-23T04:48:35.557Z"
      },
      {
        "duration": 15,
        "start_time": "2024-04-23T04:48:35.709Z"
      },
      {
        "duration": 103,
        "start_time": "2024-04-23T04:48:35.726Z"
      },
      {
        "duration": 902,
        "start_time": "2024-04-23T04:48:35.831Z"
      },
      {
        "duration": 144,
        "start_time": "2024-04-23T04:48:36.735Z"
      },
      {
        "duration": 313,
        "start_time": "2024-04-23T04:48:36.881Z"
      },
      {
        "duration": 2,
        "start_time": "2024-04-23T04:48:37.195Z"
      },
      {
        "duration": 435,
        "start_time": "2024-04-23T04:48:37.199Z"
      },
      {
        "duration": 140,
        "start_time": "2024-04-23T04:48:37.636Z"
      },
      {
        "duration": 4,
        "start_time": "2024-04-23T04:48:37.779Z"
      },
      {
        "duration": 43,
        "start_time": "2024-04-23T04:48:37.785Z"
      },
      {
        "duration": 3,
        "start_time": "2024-04-23T04:48:37.831Z"
      },
      {
        "duration": 58,
        "start_time": "2024-04-23T04:48:37.835Z"
      },
      {
        "duration": 231,
        "start_time": "2024-04-23T04:48:37.894Z"
      },
      {
        "duration": 4,
        "start_time": "2024-04-23T04:48:38.126Z"
      },
      {
        "duration": 470,
        "start_time": "2024-04-23T04:48:38.131Z"
      },
      {
        "duration": 27,
        "start_time": "2024-04-23T04:48:38.602Z"
      },
      {
        "duration": 191,
        "start_time": "2024-04-23T04:48:38.631Z"
      },
      {
        "duration": 354,
        "start_time": "2024-04-23T04:48:38.823Z"
      },
      {
        "duration": 24,
        "start_time": "2024-04-23T04:48:39.179Z"
      },
      {
        "duration": 99,
        "start_time": "2024-04-23T04:48:39.204Z"
      },
      {
        "duration": 11461,
        "start_time": "2024-04-23T04:48:39.305Z"
      },
      {
        "duration": 29,
        "start_time": "2024-04-23T04:48:50.767Z"
      },
      {
        "duration": 21,
        "start_time": "2024-04-23T04:48:50.798Z"
      },
      {
        "duration": 398,
        "start_time": "2024-04-23T04:48:50.820Z"
      },
      {
        "duration": 173,
        "start_time": "2024-04-23T04:48:51.220Z"
      },
      {
        "duration": 95,
        "start_time": "2024-04-23T04:48:51.394Z"
      },
      {
        "duration": 444,
        "start_time": "2024-04-23T04:48:51.491Z"
      },
      {
        "duration": 93,
        "start_time": "2024-04-23T04:48:51.937Z"
      },
      {
        "duration": 203,
        "start_time": "2024-04-23T04:48:52.031Z"
      },
      {
        "duration": 142,
        "start_time": "2024-04-23T04:48:52.236Z"
      },
      {
        "duration": 112,
        "start_time": "2024-04-23T04:48:52.383Z"
      },
      {
        "duration": 165,
        "start_time": "2024-04-23T04:48:52.497Z"
      },
      {
        "duration": 5576,
        "start_time": "2024-04-23T04:48:52.663Z"
      },
      {
        "duration": 99,
        "start_time": "2024-04-23T04:48:58.241Z"
      },
      {
        "duration": 1055,
        "start_time": "2024-04-23T04:48:58.342Z"
      },
      {
        "duration": 12740,
        "start_time": "2024-04-23T04:48:59.399Z"
      },
      {
        "duration": 3796,
        "start_time": "2024-04-23T05:16:21.377Z"
      },
      {
        "duration": 826,
        "start_time": "2024-04-23T05:16:25.175Z"
      },
      {
        "duration": 145,
        "start_time": "2024-04-23T05:16:26.002Z"
      },
      {
        "duration": 15,
        "start_time": "2024-04-23T05:16:26.149Z"
      },
      {
        "duration": 86,
        "start_time": "2024-04-23T05:16:26.174Z"
      },
      {
        "duration": 862,
        "start_time": "2024-04-23T05:16:26.261Z"
      },
      {
        "duration": 133,
        "start_time": "2024-04-23T05:16:27.125Z"
      },
      {
        "duration": 273,
        "start_time": "2024-04-23T05:16:27.260Z"
      },
      {
        "duration": 2,
        "start_time": "2024-04-23T05:16:27.535Z"
      },
      {
        "duration": 414,
        "start_time": "2024-04-23T05:16:27.540Z"
      },
      {
        "duration": 103,
        "start_time": "2024-04-23T05:16:27.955Z"
      },
      {
        "duration": 15,
        "start_time": "2024-04-23T05:16:28.059Z"
      },
      {
        "duration": 41,
        "start_time": "2024-04-23T05:16:28.076Z"
      },
      {
        "duration": 3,
        "start_time": "2024-04-23T05:16:28.118Z"
      },
      {
        "duration": 52,
        "start_time": "2024-04-23T05:16:28.122Z"
      },
      {
        "duration": 215,
        "start_time": "2024-04-23T05:16:28.176Z"
      },
      {
        "duration": 4,
        "start_time": "2024-04-23T05:16:28.392Z"
      },
      {
        "duration": 423,
        "start_time": "2024-04-23T05:16:28.397Z"
      },
      {
        "duration": 27,
        "start_time": "2024-04-23T05:16:28.822Z"
      },
      {
        "duration": 187,
        "start_time": "2024-04-23T05:16:28.850Z"
      },
      {
        "duration": 341,
        "start_time": "2024-04-23T05:16:29.038Z"
      },
      {
        "duration": 21,
        "start_time": "2024-04-23T05:16:29.380Z"
      },
      {
        "duration": 84,
        "start_time": "2024-04-23T05:16:29.402Z"
      },
      {
        "duration": 10487,
        "start_time": "2024-04-23T05:16:29.487Z"
      },
      {
        "duration": 23,
        "start_time": "2024-04-23T05:16:39.975Z"
      },
      {
        "duration": 26,
        "start_time": "2024-04-23T05:16:39.999Z"
      },
      {
        "duration": 382,
        "start_time": "2024-04-23T05:16:40.027Z"
      },
      {
        "duration": 162,
        "start_time": "2024-04-23T05:16:40.412Z"
      },
      {
        "duration": 85,
        "start_time": "2024-04-23T05:16:40.576Z"
      },
      {
        "duration": 438,
        "start_time": "2024-04-23T05:16:40.662Z"
      },
      {
        "duration": 87,
        "start_time": "2024-04-23T05:16:41.102Z"
      },
      {
        "duration": 177,
        "start_time": "2024-04-23T05:16:41.190Z"
      },
      {
        "duration": 129,
        "start_time": "2024-04-23T05:16:41.368Z"
      },
      {
        "duration": 106,
        "start_time": "2024-04-23T05:16:41.498Z"
      },
      {
        "duration": 166,
        "start_time": "2024-04-23T05:16:41.605Z"
      },
      {
        "duration": 5060,
        "start_time": "2024-04-23T05:16:41.773Z"
      },
      {
        "duration": 84,
        "start_time": "2024-04-23T05:16:46.835Z"
      },
      {
        "duration": 960,
        "start_time": "2024-04-23T05:16:46.921Z"
      },
      {
        "duration": 11447,
        "start_time": "2024-04-23T05:16:47.882Z"
      },
      {
        "duration": 1721697,
        "start_time": "2024-04-23T05:16:59.330Z"
      },
      {
        "duration": 30000,
        "start_time": "2024-04-23T05:45:41.028Z"
      },
      {
        "duration": 162454,
        "start_time": "2024-04-23T05:46:11.029Z"
      },
      {
        "duration": 13,
        "start_time": "2024-04-23T05:48:53.485Z"
      },
      {
        "duration": 7280,
        "start_time": "2024-04-23T05:48:53.499Z"
      },
      {
        "duration": 1279297,
        "start_time": "2024-04-23T05:49:00.781Z"
      },
      {
        "duration": 6337,
        "start_time": "2024-04-23T06:10:20.080Z"
      },
      {
        "duration": 44,
        "start_time": "2024-04-23T06:10:26.419Z"
      },
      {
        "duration": 443,
        "start_time": "2024-04-23T06:10:26.464Z"
      },
      {
        "duration": 4798,
        "start_time": "2024-04-23T06:10:26.908Z"
      },
      {
        "duration": 3,
        "start_time": "2024-04-23T06:39:08.678Z"
      },
      {
        "duration": 21,
        "start_time": "2024-04-23T06:39:58.098Z"
      },
      {
        "duration": 36,
        "start_time": "2024-04-23T06:46:10.938Z"
      },
      {
        "duration": 43,
        "start_time": "2024-04-23T06:46:23.106Z"
      },
      {
        "duration": 43,
        "start_time": "2024-04-23T06:46:42.157Z"
      },
      {
        "duration": 35,
        "start_time": "2024-04-23T06:46:44.158Z"
      },
      {
        "duration": 23,
        "start_time": "2024-04-23T06:46:49.529Z"
      },
      {
        "duration": 740,
        "start_time": "2024-04-23T06:47:32.898Z"
      },
      {
        "duration": 144,
        "start_time": "2024-04-23T06:47:33.957Z"
      },
      {
        "duration": 12,
        "start_time": "2024-04-23T06:47:34.418Z"
      },
      {
        "duration": 80,
        "start_time": "2024-04-23T06:47:34.637Z"
      },
      {
        "duration": 771,
        "start_time": "2024-04-23T06:47:35.517Z"
      },
      {
        "duration": 132,
        "start_time": "2024-04-23T06:47:36.290Z"
      },
      {
        "duration": 265,
        "start_time": "2024-04-23T06:47:37.317Z"
      },
      {
        "duration": 2,
        "start_time": "2024-04-23T06:47:38.378Z"
      },
      {
        "duration": 346,
        "start_time": "2024-04-23T06:47:39.197Z"
      },
      {
        "duration": 99,
        "start_time": "2024-04-23T06:47:43.377Z"
      },
      {
        "duration": 4,
        "start_time": "2024-04-23T06:47:44.317Z"
      },
      {
        "duration": 43,
        "start_time": "2024-04-23T06:48:10.337Z"
      },
      {
        "duration": 4,
        "start_time": "2024-04-23T06:48:14.198Z"
      },
      {
        "duration": 19,
        "start_time": "2024-04-23T06:51:08.968Z"
      },
      {
        "duration": 6,
        "start_time": "2024-04-23T06:51:11.665Z"
      },
      {
        "duration": 747,
        "start_time": "2024-04-23T06:51:35.827Z"
      },
      {
        "duration": 132,
        "start_time": "2024-04-23T06:51:38.660Z"
      },
      {
        "duration": 11,
        "start_time": "2024-04-23T06:51:40.369Z"
      },
      {
        "duration": 81,
        "start_time": "2024-04-23T06:51:41.808Z"
      },
      {
        "duration": 842,
        "start_time": "2024-04-23T06:51:42.987Z"
      },
      {
        "duration": 136,
        "start_time": "2024-04-23T06:51:43.948Z"
      },
      {
        "duration": 262,
        "start_time": "2024-04-23T06:51:44.808Z"
      },
      {
        "duration": 3,
        "start_time": "2024-04-23T06:51:46.128Z"
      },
      {
        "duration": 358,
        "start_time": "2024-04-23T06:51:47.188Z"
      },
      {
        "duration": 67,
        "start_time": "2024-04-23T06:51:51.868Z"
      },
      {
        "duration": 4,
        "start_time": "2024-04-23T06:51:52.828Z"
      },
      {
        "duration": 14,
        "start_time": "2024-04-23T06:53:20.408Z"
      },
      {
        "duration": 132,
        "start_time": "2024-04-23T06:53:42.368Z"
      },
      {
        "duration": 3771,
        "start_time": "2024-04-23T06:54:01.930Z"
      },
      {
        "duration": 852,
        "start_time": "2024-04-23T06:54:05.703Z"
      },
      {
        "duration": 143,
        "start_time": "2024-04-23T06:54:06.557Z"
      },
      {
        "duration": 17,
        "start_time": "2024-04-23T06:54:06.702Z"
      },
      {
        "duration": 104,
        "start_time": "2024-04-23T06:54:06.722Z"
      },
      {
        "duration": 892,
        "start_time": "2024-04-23T06:54:06.828Z"
      },
      {
        "duration": 137,
        "start_time": "2024-04-23T06:54:07.721Z"
      },
      {
        "duration": 295,
        "start_time": "2024-04-23T06:54:07.859Z"
      },
      {
        "duration": 20,
        "start_time": "2024-04-23T06:54:08.156Z"
      },
      {
        "duration": 413,
        "start_time": "2024-04-23T06:54:08.177Z"
      },
      {
        "duration": 186,
        "start_time": "2024-04-23T06:54:08.591Z"
      },
      {
        "duration": 4,
        "start_time": "2024-04-23T06:54:08.779Z"
      },
      {
        "duration": 25,
        "start_time": "2024-04-23T06:54:08.784Z"
      },
      {
        "duration": 5,
        "start_time": "2024-04-23T06:54:08.812Z"
      },
      {
        "duration": 86,
        "start_time": "2024-04-23T06:54:08.818Z"
      },
      {
        "duration": 484,
        "start_time": "2024-04-23T06:54:08.905Z"
      },
      {
        "duration": 4,
        "start_time": "2024-04-23T06:54:09.390Z"
      },
      {
        "duration": 742,
        "start_time": "2024-04-23T06:54:09.395Z"
      },
      {
        "duration": 40,
        "start_time": "2024-04-23T06:54:10.139Z"
      },
      {
        "duration": 184,
        "start_time": "2024-04-23T06:54:10.180Z"
      },
      {
        "duration": 349,
        "start_time": "2024-04-23T06:54:10.366Z"
      },
      {
        "duration": 22,
        "start_time": "2024-04-23T06:54:10.717Z"
      },
      {
        "duration": 92,
        "start_time": "2024-04-23T06:54:10.740Z"
      },
      {
        "duration": 10767,
        "start_time": "2024-04-23T06:54:10.834Z"
      },
      {
        "duration": 22,
        "start_time": "2024-04-23T06:54:21.602Z"
      },
      {
        "duration": 27,
        "start_time": "2024-04-23T06:54:21.625Z"
      },
      {
        "duration": 406,
        "start_time": "2024-04-23T06:54:21.653Z"
      },
      {
        "duration": 159,
        "start_time": "2024-04-23T06:54:22.060Z"
      },
      {
        "duration": 21,
        "start_time": "2024-04-23T06:54:22.220Z"
      },
      {
        "duration": 97,
        "start_time": "2024-04-23T06:54:22.242Z"
      },
      {
        "duration": 403,
        "start_time": "2024-04-23T06:54:22.340Z"
      },
      {
        "duration": 79,
        "start_time": "2024-04-23T06:54:22.744Z"
      },
      {
        "duration": 177,
        "start_time": "2024-04-23T06:54:22.825Z"
      },
      {
        "duration": 1630,
        "start_time": "2024-04-23T06:54:23.004Z"
      },
      {
        "duration": 0,
        "start_time": "2024-04-23T06:54:24.635Z"
      },
      {
        "duration": 0,
        "start_time": "2024-04-23T06:54:24.637Z"
      },
      {
        "duration": 0,
        "start_time": "2024-04-23T06:54:24.638Z"
      },
      {
        "duration": 0,
        "start_time": "2024-04-23T06:54:24.639Z"
      },
      {
        "duration": 0,
        "start_time": "2024-04-23T06:54:24.640Z"
      },
      {
        "duration": 0,
        "start_time": "2024-04-23T06:54:24.641Z"
      },
      {
        "duration": 0,
        "start_time": "2024-04-23T06:54:24.642Z"
      },
      {
        "duration": 0,
        "start_time": "2024-04-23T06:54:24.643Z"
      },
      {
        "duration": 0,
        "start_time": "2024-04-23T06:54:24.644Z"
      },
      {
        "duration": 0,
        "start_time": "2024-04-23T06:54:24.645Z"
      },
      {
        "duration": 0,
        "start_time": "2024-04-23T06:54:24.646Z"
      },
      {
        "duration": 0,
        "start_time": "2024-04-23T06:54:24.647Z"
      },
      {
        "duration": 0,
        "start_time": "2024-04-23T06:54:24.648Z"
      },
      {
        "duration": 0,
        "start_time": "2024-04-23T06:54:24.649Z"
      },
      {
        "duration": 0,
        "start_time": "2024-04-23T06:54:24.649Z"
      },
      {
        "duration": 0,
        "start_time": "2024-04-23T06:54:24.650Z"
      },
      {
        "duration": 19,
        "start_time": "2024-04-23T06:54:58.540Z"
      },
      {
        "duration": 154,
        "start_time": "2024-04-23T06:55:18.128Z"
      },
      {
        "duration": 132,
        "start_time": "2024-04-23T06:55:26.668Z"
      },
      {
        "duration": 1491,
        "start_time": "2024-04-23T06:55:27.863Z"
      },
      {
        "duration": 112,
        "start_time": "2024-04-23T06:55:39.056Z"
      },
      {
        "duration": 97,
        "start_time": "2024-04-23T06:55:58.727Z"
      },
      {
        "duration": 4417,
        "start_time": "2024-04-23T06:56:06.448Z"
      },
      {
        "duration": 90,
        "start_time": "2024-04-23T06:56:19.440Z"
      },
      {
        "duration": 976,
        "start_time": "2024-04-23T06:56:23.628Z"
      },
      {
        "duration": 18,
        "start_time": "2024-04-23T06:57:35.400Z"
      },
      {
        "duration": 1482,
        "start_time": "2024-04-23T06:58:28.700Z"
      },
      {
        "duration": 799,
        "start_time": "2024-04-23T06:58:44.288Z"
      },
      {
        "duration": 72,
        "start_time": "2024-04-23T06:58:52.980Z"
      },
      {
        "duration": 5426,
        "start_time": "2024-04-23T16:08:01.428Z"
      },
      {
        "duration": 1121,
        "start_time": "2024-04-23T16:08:10.168Z"
      },
      {
        "duration": 157,
        "start_time": "2024-04-23T16:08:13.272Z"
      },
      {
        "duration": 15,
        "start_time": "2024-04-23T16:08:14.848Z"
      },
      {
        "duration": 88,
        "start_time": "2024-04-23T16:08:15.679Z"
      },
      {
        "duration": 855,
        "start_time": "2024-04-23T16:08:16.279Z"
      },
      {
        "duration": 139,
        "start_time": "2024-04-23T16:08:18.008Z"
      },
      {
        "duration": 300,
        "start_time": "2024-04-23T16:08:18.600Z"
      },
      {
        "duration": 3,
        "start_time": "2024-04-23T16:08:20.639Z"
      },
      {
        "duration": 435,
        "start_time": "2024-04-23T16:08:21.602Z"
      },
      {
        "duration": 15,
        "start_time": "2024-04-23T16:08:25.920Z"
      },
      {
        "duration": 2243,
        "start_time": "2024-04-23T16:08:29.067Z"
      },
      {
        "duration": 0,
        "start_time": "2024-04-23T16:08:31.311Z"
      },
      {
        "duration": 4,
        "start_time": "2024-04-23T16:09:16.948Z"
      },
      {
        "duration": 27,
        "start_time": "2024-04-23T16:09:18.880Z"
      },
      {
        "duration": 31,
        "start_time": "2024-04-23T16:09:25.788Z"
      },
      {
        "duration": 212,
        "start_time": "2024-04-23T16:09:27.200Z"
      },
      {
        "duration": 4,
        "start_time": "2024-04-23T16:09:28.688Z"
      },
      {
        "duration": 430,
        "start_time": "2024-04-23T16:09:31.160Z"
      },
      {
        "duration": 22,
        "start_time": "2024-04-23T16:09:34.080Z"
      },
      {
        "duration": 181,
        "start_time": "2024-04-23T16:09:35.520Z"
      },
      {
        "duration": 332,
        "start_time": "2024-04-23T16:09:37.600Z"
      },
      {
        "duration": 24,
        "start_time": "2024-04-23T16:09:44.200Z"
      },
      {
        "duration": 76,
        "start_time": "2024-04-23T16:09:46.120Z"
      },
      {
        "duration": 10675,
        "start_time": "2024-04-23T16:09:47.048Z"
      },
      {
        "duration": 23,
        "start_time": "2024-04-23T16:09:57.725Z"
      },
      {
        "duration": 23,
        "start_time": "2024-04-23T16:10:01.060Z"
      },
      {
        "duration": 390,
        "start_time": "2024-04-23T16:10:02.167Z"
      },
      {
        "duration": 147,
        "start_time": "2024-04-23T16:10:04.360Z"
      },
      {
        "duration": 22,
        "start_time": "2024-04-23T16:10:06.820Z"
      },
      {
        "duration": 85,
        "start_time": "2024-04-23T16:10:09.263Z"
      },
      {
        "duration": 431,
        "start_time": "2024-04-23T16:10:12.068Z"
      },
      {
        "duration": 81,
        "start_time": "2024-04-23T16:10:13.520Z"
      },
      {
        "duration": 171,
        "start_time": "2024-04-23T16:10:15.180Z"
      },
      {
        "duration": 151,
        "start_time": "2024-04-23T16:10:17.731Z"
      },
      {
        "duration": 112,
        "start_time": "2024-04-23T16:10:18.887Z"
      },
      {
        "duration": 101,
        "start_time": "2024-04-23T16:10:19.849Z"
      },
      {
        "duration": 4540,
        "start_time": "2024-04-23T16:10:21.722Z"
      },
      {
        "duration": 80,
        "start_time": "2024-04-23T16:10:35.839Z"
      },
      {
        "duration": 99,
        "start_time": "2024-04-23T16:16:58.420Z"
      },
      {
        "duration": 100,
        "start_time": "2024-04-23T16:18:07.920Z"
      },
      {
        "duration": 1033,
        "start_time": "2024-04-23T16:18:26.468Z"
      },
      {
        "duration": 12473,
        "start_time": "2024-04-23T16:18:43.220Z"
      },
      {
        "duration": 37593,
        "start_time": "2024-04-23T16:19:23.400Z"
      },
      {
        "duration": 50712,
        "start_time": "2024-04-23T16:20:42.168Z"
      },
      {
        "duration": 96364,
        "start_time": "2024-04-23T16:25:26.425Z"
      },
      {
        "duration": 37160,
        "start_time": "2024-04-23T16:28:48.070Z"
      },
      {
        "duration": 50094,
        "start_time": "2024-04-23T16:29:59.609Z"
      },
      {
        "duration": 59134,
        "start_time": "2024-04-23T16:35:05.070Z"
      },
      {
        "duration": 109782,
        "start_time": "2024-04-23T16:36:25.349Z"
      },
      {
        "duration": 4671,
        "start_time": "2024-04-24T05:29:48.725Z"
      },
      {
        "duration": 2835,
        "start_time": "2024-04-24T05:29:57.177Z"
      },
      {
        "duration": 138,
        "start_time": "2024-04-24T05:30:03.106Z"
      },
      {
        "duration": 15,
        "start_time": "2024-04-24T05:30:04.306Z"
      },
      {
        "duration": 89,
        "start_time": "2024-04-24T05:30:05.226Z"
      },
      {
        "duration": 823,
        "start_time": "2024-04-24T05:30:05.877Z"
      },
      {
        "duration": 134,
        "start_time": "2024-04-24T05:30:09.221Z"
      },
      {
        "duration": 271,
        "start_time": "2024-04-24T05:30:10.025Z"
      },
      {
        "duration": 2,
        "start_time": "2024-04-24T05:30:12.005Z"
      },
      {
        "duration": 373,
        "start_time": "2024-04-24T05:30:12.702Z"
      },
      {
        "duration": 14,
        "start_time": "2024-04-24T05:30:18.057Z"
      },
      {
        "duration": 4,
        "start_time": "2024-04-24T05:30:20.885Z"
      },
      {
        "duration": 29,
        "start_time": "2024-04-24T05:30:23.118Z"
      },
      {
        "duration": 232,
        "start_time": "2024-04-24T05:30:24.017Z"
      },
      {
        "duration": 3,
        "start_time": "2024-04-24T05:30:24.997Z"
      },
      {
        "duration": 429,
        "start_time": "2024-04-24T05:30:26.638Z"
      },
      {
        "duration": 26,
        "start_time": "2024-04-24T05:30:28.448Z"
      },
      {
        "duration": 172,
        "start_time": "2024-04-24T05:30:29.677Z"
      },
      {
        "duration": 339,
        "start_time": "2024-04-24T05:30:30.989Z"
      },
      {
        "duration": 20,
        "start_time": "2024-04-24T05:30:33.277Z"
      },
      {
        "duration": 79,
        "start_time": "2024-04-24T05:30:34.958Z"
      },
      {
        "duration": 10464,
        "start_time": "2024-04-24T05:30:35.898Z"
      },
      {
        "duration": 21,
        "start_time": "2024-04-24T05:30:46.364Z"
      },
      {
        "duration": 23,
        "start_time": "2024-04-24T05:32:04.657Z"
      },
      {
        "duration": 23,
        "start_time": "2024-04-24T05:32:49.605Z"
      },
      {
        "duration": 10452,
        "start_time": "2024-04-24T05:33:38.897Z"
      },
      {
        "duration": 345,
        "start_time": "2024-04-24T05:33:59.777Z"
      },
      {
        "duration": 153,
        "start_time": "2024-04-24T05:34:01.938Z"
      },
      {
        "duration": 21,
        "start_time": "2024-04-24T05:34:05.017Z"
      },
      {
        "duration": 86,
        "start_time": "2024-04-24T05:34:09.757Z"
      },
      {
        "duration": 405,
        "start_time": "2024-04-24T05:34:14.225Z"
      },
      {
        "duration": 77,
        "start_time": "2024-04-24T05:34:15.715Z"
      },
      {
        "duration": 172,
        "start_time": "2024-04-24T05:34:17.717Z"
      },
      {
        "duration": 148,
        "start_time": "2024-04-24T05:34:19.925Z"
      },
      {
        "duration": 110,
        "start_time": "2024-04-24T05:34:20.777Z"
      },
      {
        "duration": 98,
        "start_time": "2024-04-24T05:34:22.709Z"
      },
      {
        "duration": 4466,
        "start_time": "2024-04-24T05:34:24.849Z"
      },
      {
        "duration": 81,
        "start_time": "2024-04-24T05:34:31.748Z"
      },
      {
        "duration": 110,
        "start_time": "2024-04-24T05:39:01.536Z"
      },
      {
        "duration": 947,
        "start_time": "2024-04-24T05:39:22.786Z"
      },
      {
        "duration": 104403,
        "start_time": "2024-04-24T05:39:31.058Z"
      },
      {
        "duration": 325,
        "start_time": "2024-04-24T05:41:25.434Z"
      },
      {
        "duration": 110552,
        "start_time": "2024-04-24T06:05:24.245Z"
      },
      {
        "duration": 144718,
        "start_time": "2024-04-24T06:15:36.018Z"
      },
      {
        "duration": 418,
        "start_time": "2024-04-24T06:20:41.672Z"
      },
      {
        "duration": 1626156,
        "start_time": "2024-04-24T06:21:52.441Z"
      },
      {
        "duration": 85219,
        "start_time": "2024-04-24T06:57:19.463Z"
      },
      {
        "duration": 179593,
        "start_time": "2024-04-24T06:59:10.303Z"
      },
      {
        "duration": 3920,
        "start_time": "2024-04-24T07:38:03.828Z"
      },
      {
        "duration": 1075,
        "start_time": "2024-04-24T07:38:07.750Z"
      },
      {
        "duration": 31,
        "start_time": "2024-04-24T07:38:08.826Z"
      },
      {
        "duration": 29,
        "start_time": "2024-04-24T07:38:08.858Z"
      },
      {
        "duration": 30,
        "start_time": "2024-04-24T07:38:08.890Z"
      },
      {
        "duration": 834,
        "start_time": "2024-04-24T07:38:08.922Z"
      },
      {
        "duration": 25,
        "start_time": "2024-04-24T07:38:09.757Z"
      },
      {
        "duration": 230,
        "start_time": "2024-04-24T07:38:09.784Z"
      },
      {
        "duration": 77,
        "start_time": "2024-04-24T07:38:10.015Z"
      },
      {
        "duration": 75,
        "start_time": "2024-04-24T07:38:10.094Z"
      },
      {
        "duration": 8,
        "start_time": "2024-04-24T07:38:10.171Z"
      },
      {
        "duration": 33,
        "start_time": "2024-04-24T07:38:10.181Z"
      },
      {
        "duration": 43,
        "start_time": "2024-04-24T07:38:10.216Z"
      },
      {
        "duration": 253,
        "start_time": "2024-04-24T07:38:10.263Z"
      },
      {
        "duration": 4,
        "start_time": "2024-04-24T07:38:10.517Z"
      },
      {
        "duration": 159,
        "start_time": "2024-04-24T07:38:10.523Z"
      },
      {
        "duration": 7,
        "start_time": "2024-04-24T07:38:10.683Z"
      },
      {
        "duration": 206,
        "start_time": "2024-04-24T07:38:10.691Z"
      },
      {
        "duration": 135,
        "start_time": "2024-04-24T07:38:10.899Z"
      },
      {
        "duration": 14,
        "start_time": "2024-04-24T07:38:11.036Z"
      },
      {
        "duration": 52,
        "start_time": "2024-04-24T07:38:11.051Z"
      },
      {
        "duration": 776,
        "start_time": "2024-04-24T07:38:11.104Z"
      },
      {
        "duration": 6,
        "start_time": "2024-04-24T07:38:11.882Z"
      },
      {
        "duration": 14,
        "start_time": "2024-04-24T07:38:11.889Z"
      },
      {
        "duration": 131,
        "start_time": "2024-04-24T07:38:11.905Z"
      },
      {
        "duration": 142,
        "start_time": "2024-04-24T07:38:12.038Z"
      },
      {
        "duration": 4,
        "start_time": "2024-04-24T07:38:12.181Z"
      },
      {
        "duration": 11,
        "start_time": "2024-04-24T07:38:12.186Z"
      },
      {
        "duration": 50,
        "start_time": "2024-04-24T07:38:12.198Z"
      },
      {
        "duration": 9,
        "start_time": "2024-04-24T07:38:12.249Z"
      },
      {
        "duration": 22,
        "start_time": "2024-04-24T07:38:12.260Z"
      },
      {
        "duration": 16,
        "start_time": "2024-04-24T07:38:12.283Z"
      },
      {
        "duration": 12,
        "start_time": "2024-04-24T07:38:12.300Z"
      },
      {
        "duration": 35,
        "start_time": "2024-04-24T07:38:12.314Z"
      },
      {
        "duration": 1339,
        "start_time": "2024-04-24T07:38:12.351Z"
      },
      {
        "duration": 14,
        "start_time": "2024-04-24T07:38:13.691Z"
      },
      {
        "duration": 84,
        "start_time": "2024-04-24T07:38:13.707Z"
      },
      {
        "duration": 9927,
        "start_time": "2024-04-24T07:38:13.793Z"
      },
      {
        "duration": 40,
        "start_time": "2024-04-24T07:38:23.722Z"
      },
      {
        "duration": 20799,
        "start_time": "2024-04-24T07:38:23.764Z"
      },
      {
        "duration": 1614,
        "start_time": "2024-04-24T07:38:44.566Z"
      },
      {
        "duration": 3964,
        "start_time": "2024-04-24T07:47:08.215Z"
      },
      {
        "duration": 782,
        "start_time": "2024-04-24T07:47:12.181Z"
      },
      {
        "duration": 37,
        "start_time": "2024-04-24T07:47:12.965Z"
      },
      {
        "duration": 19,
        "start_time": "2024-04-24T07:47:13.004Z"
      },
      {
        "duration": 49,
        "start_time": "2024-04-24T07:47:13.025Z"
      },
      {
        "duration": 791,
        "start_time": "2024-04-24T07:47:13.076Z"
      },
      {
        "duration": 24,
        "start_time": "2024-04-24T07:47:13.869Z"
      },
      {
        "duration": 68,
        "start_time": "2024-04-24T07:47:13.895Z"
      },
      {
        "duration": 3,
        "start_time": "2024-04-24T07:47:13.965Z"
      },
      {
        "duration": 48,
        "start_time": "2024-04-24T07:47:13.970Z"
      },
      {
        "duration": 6,
        "start_time": "2024-04-24T07:47:14.020Z"
      },
      {
        "duration": 7,
        "start_time": "2024-04-24T07:47:14.027Z"
      },
      {
        "duration": 5,
        "start_time": "2024-04-24T07:47:14.045Z"
      },
      {
        "duration": 201,
        "start_time": "2024-04-24T07:47:14.052Z"
      },
      {
        "duration": 4,
        "start_time": "2024-04-24T07:47:14.255Z"
      },
      {
        "duration": 157,
        "start_time": "2024-04-24T07:47:14.261Z"
      },
      {
        "duration": 6,
        "start_time": "2024-04-24T07:47:14.419Z"
      },
      {
        "duration": 164,
        "start_time": "2024-04-24T07:47:14.426Z"
      },
      {
        "duration": 123,
        "start_time": "2024-04-24T07:47:14.592Z"
      },
      {
        "duration": 5,
        "start_time": "2024-04-24T07:47:14.717Z"
      },
      {
        "duration": 37,
        "start_time": "2024-04-24T07:47:14.723Z"
      },
      {
        "duration": 755,
        "start_time": "2024-04-24T07:47:14.762Z"
      },
      {
        "duration": 6,
        "start_time": "2024-04-24T07:47:15.519Z"
      },
      {
        "duration": 19,
        "start_time": "2024-04-24T07:47:15.526Z"
      },
      {
        "duration": 125,
        "start_time": "2024-04-24T07:47:15.547Z"
      },
      {
        "duration": 159,
        "start_time": "2024-04-24T07:47:15.673Z"
      },
      {
        "duration": 4,
        "start_time": "2024-04-24T07:47:15.833Z"
      },
      {
        "duration": 9,
        "start_time": "2024-04-24T07:47:15.844Z"
      },
      {
        "duration": 27,
        "start_time": "2024-04-24T07:47:15.855Z"
      },
      {
        "duration": 9,
        "start_time": "2024-04-24T07:47:15.884Z"
      },
      {
        "duration": 19,
        "start_time": "2024-04-24T07:47:15.894Z"
      },
      {
        "duration": 35,
        "start_time": "2024-04-24T07:47:15.915Z"
      },
      {
        "duration": 11,
        "start_time": "2024-04-24T07:47:15.951Z"
      },
      {
        "duration": 11,
        "start_time": "2024-04-24T07:47:15.963Z"
      },
      {
        "duration": 1296,
        "start_time": "2024-04-24T07:47:15.976Z"
      },
      {
        "duration": 12,
        "start_time": "2024-04-24T07:47:17.274Z"
      },
      {
        "duration": 62,
        "start_time": "2024-04-24T07:47:17.287Z"
      },
      {
        "duration": 10525,
        "start_time": "2024-04-24T07:47:17.351Z"
      },
      {
        "duration": 34,
        "start_time": "2024-04-24T07:47:27.878Z"
      },
      {
        "duration": 80817,
        "start_time": "2024-04-24T07:47:27.914Z"
      },
      {
        "duration": 1630,
        "start_time": "2024-04-24T07:48:48.735Z"
      },
      {
        "duration": 6364,
        "start_time": "2024-04-24T10:06:46.079Z"
      },
      {
        "duration": 1302,
        "start_time": "2024-04-24T10:06:58.137Z"
      },
      {
        "duration": 32,
        "start_time": "2024-04-24T10:07:06.077Z"
      },
      {
        "duration": 30,
        "start_time": "2024-04-24T10:07:07.757Z"
      },
      {
        "duration": 34,
        "start_time": "2024-04-24T10:07:08.457Z"
      },
      {
        "duration": 959,
        "start_time": "2024-04-24T10:07:08.997Z"
      },
      {
        "duration": 26,
        "start_time": "2024-04-24T10:07:10.837Z"
      },
      {
        "duration": 45,
        "start_time": "2024-04-24T10:07:11.397Z"
      },
      {
        "duration": 2,
        "start_time": "2024-04-24T10:07:12.077Z"
      },
      {
        "duration": 43,
        "start_time": "2024-04-24T10:07:12.757Z"
      },
      {
        "duration": 8,
        "start_time": "2024-04-24T10:07:16.158Z"
      },
      {
        "duration": 4,
        "start_time": "2024-04-24T10:07:17.697Z"
      },
      {
        "duration": 7,
        "start_time": "2024-04-24T10:07:18.138Z"
      },
      {
        "duration": 237,
        "start_time": "2024-04-24T10:07:18.405Z"
      },
      {
        "duration": 4,
        "start_time": "2024-04-24T10:07:18.644Z"
      },
      {
        "duration": 148,
        "start_time": "2024-04-24T10:07:20.437Z"
      },
      {
        "duration": 9,
        "start_time": "2024-04-24T10:07:21.817Z"
      },
      {
        "duration": 200,
        "start_time": "2024-04-24T10:07:22.597Z"
      },
      {
        "duration": 142,
        "start_time": "2024-04-24T10:07:24.558Z"
      },
      {
        "duration": 8,
        "start_time": "2024-04-24T10:07:26.453Z"
      },
      {
        "duration": 25,
        "start_time": "2024-04-24T10:07:28.017Z"
      },
      {
        "duration": 909,
        "start_time": "2024-04-24T10:07:28.778Z"
      },
      {
        "duration": 10,
        "start_time": "2024-04-24T10:07:29.690Z"
      },
      {
        "duration": 11,
        "start_time": "2024-04-24T10:07:35.109Z"
      },
      {
        "duration": 160,
        "start_time": "2024-04-24T10:07:35.957Z"
      },
      {
        "duration": 174,
        "start_time": "2024-04-24T10:08:29.598Z"
      },
      {
        "duration": 5,
        "start_time": "2024-04-24T10:08:32.177Z"
      },
      {
        "duration": 12,
        "start_time": "2024-04-24T10:08:34.189Z"
      },
      {
        "duration": 35,
        "start_time": "2024-04-24T10:08:36.597Z"
      },
      {
        "duration": 11,
        "start_time": "2024-04-24T10:08:37.378Z"
      },
      {
        "duration": 25,
        "start_time": "2024-04-24T10:08:38.477Z"
      },
      {
        "duration": 17,
        "start_time": "2024-04-24T10:08:40.277Z"
      },
      {
        "duration": 15,
        "start_time": "2024-04-24T10:08:40.997Z"
      },
      {
        "duration": 13,
        "start_time": "2024-04-24T10:08:41.715Z"
      },
      {
        "duration": 1589,
        "start_time": "2024-04-24T10:08:43.506Z"
      },
      {
        "duration": 16,
        "start_time": "2024-04-24T10:08:45.193Z"
      },
      {
        "duration": 61,
        "start_time": "2024-04-24T10:09:41.817Z"
      },
      {
        "duration": 11829,
        "start_time": "2024-04-24T10:09:47.077Z"
      },
      {
        "duration": 28307,
        "start_time": "2024-04-24T10:13:01.438Z"
      },
      {
        "duration": 3272,
        "start_time": "2024-04-24T10:14:00.769Z"
      },
      {
        "duration": 49211,
        "start_time": "2024-04-24T10:14:38.338Z"
      },
      {
        "duration": 3274,
        "start_time": "2024-04-24T10:15:56.820Z"
      },
      {
        "duration": 139,
        "start_time": "2024-04-24T10:16:50.342Z"
      },
      {
        "duration": 285437,
        "start_time": "2024-04-24T10:18:44.242Z"
      },
      {
        "duration": 11,
        "start_time": "2024-04-24T10:27:43.800Z"
      },
      {
        "duration": 158664,
        "start_time": "2024-04-24T10:28:47.110Z"
      },
      {
        "duration": 191213,
        "start_time": "2024-04-24T10:33:16.207Z"
      },
      {
        "duration": 88036,
        "start_time": "2024-04-24T10:38:04.517Z"
      },
      {
        "duration": 3063,
        "start_time": "2024-04-24T10:40:26.900Z"
      },
      {
        "duration": 124,
        "start_time": "2024-04-24T10:42:54.458Z"
      },
      {
        "duration": 15,
        "start_time": "2024-04-24T10:43:09.086Z"
      },
      {
        "duration": 4,
        "start_time": "2024-04-24T10:43:53.367Z"
      },
      {
        "duration": 10,
        "start_time": "2024-04-24T10:44:31.653Z"
      },
      {
        "duration": 16,
        "start_time": "2024-04-24T10:45:46.911Z"
      },
      {
        "duration": 10,
        "start_time": "2024-04-24T10:47:24.204Z"
      },
      {
        "duration": 39,
        "start_time": "2024-04-24T10:47:42.845Z"
      },
      {
        "duration": 16,
        "start_time": "2024-04-24T10:47:56.477Z"
      },
      {
        "duration": 50,
        "start_time": "2024-04-24T10:49:51.220Z"
      },
      {
        "duration": 11893,
        "start_time": "2024-04-24T10:49:54.882Z"
      },
      {
        "duration": 25,
        "start_time": "2024-04-24T10:50:18.698Z"
      },
      {
        "duration": 11829,
        "start_time": "2024-04-24T10:52:18.310Z"
      },
      {
        "duration": 11921,
        "start_time": "2024-04-24T10:52:59.958Z"
      },
      {
        "duration": 39,
        "start_time": "2024-04-24T10:53:59.642Z"
      },
      {
        "duration": 3310,
        "start_time": "2024-04-24T10:54:12.332Z"
      },
      {
        "duration": 141,
        "start_time": "2024-04-24T10:54:18.750Z"
      },
      {
        "duration": 17,
        "start_time": "2024-04-24T10:54:28.465Z"
      },
      {
        "duration": 591123,
        "start_time": "2024-04-24T10:55:27.860Z"
      },
      {
        "duration": 39,
        "start_time": "2024-04-24T11:07:32.732Z"
      },
      {
        "duration": 46,
        "start_time": "2024-04-24T11:08:03.333Z"
      },
      {
        "duration": 3288,
        "start_time": "2024-04-24T11:08:24.502Z"
      },
      {
        "duration": 154,
        "start_time": "2024-04-24T11:08:30.656Z"
      },
      {
        "duration": 22,
        "start_time": "2024-04-24T11:08:41.452Z"
      },
      {
        "duration": 5,
        "start_time": "2024-04-24T11:09:32.781Z"
      },
      {
        "duration": 16,
        "start_time": "2024-04-24T11:09:54.194Z"
      },
      {
        "duration": 5,
        "start_time": "2024-04-24T11:10:24.620Z"
      },
      {
        "duration": 22,
        "start_time": "2024-04-24T11:10:47.714Z"
      },
      {
        "duration": 26,
        "start_time": "2024-04-24T11:10:52.734Z"
      },
      {
        "duration": 24,
        "start_time": "2024-04-24T11:12:22.841Z"
      },
      {
        "duration": 17,
        "start_time": "2024-04-24T11:12:41.013Z"
      },
      {
        "duration": 6,
        "start_time": "2024-04-24T11:12:57.712Z"
      },
      {
        "duration": 4,
        "start_time": "2024-04-24T11:13:05.808Z"
      },
      {
        "duration": 4,
        "start_time": "2024-04-24T11:13:12.817Z"
      },
      {
        "duration": 31,
        "start_time": "2024-04-24T11:13:42.164Z"
      },
      {
        "duration": 633093,
        "start_time": "2024-04-24T11:14:49.102Z"
      },
      {
        "duration": 4299,
        "start_time": "2024-04-24T11:31:11.379Z"
      },
      {
        "duration": 1024,
        "start_time": "2024-04-24T11:31:15.680Z"
      },
      {
        "duration": 20,
        "start_time": "2024-04-24T11:31:16.706Z"
      },
      {
        "duration": 26,
        "start_time": "2024-04-24T11:31:16.729Z"
      },
      {
        "duration": 43,
        "start_time": "2024-04-24T11:31:16.757Z"
      },
      {
        "duration": 1053,
        "start_time": "2024-04-24T11:31:16.802Z"
      },
      {
        "duration": 30,
        "start_time": "2024-04-24T11:31:17.857Z"
      },
      {
        "duration": 24,
        "start_time": "2024-04-24T11:31:17.889Z"
      },
      {
        "duration": 2,
        "start_time": "2024-04-24T11:31:17.915Z"
      },
      {
        "duration": 59,
        "start_time": "2024-04-24T11:31:17.920Z"
      },
      {
        "duration": 8,
        "start_time": "2024-04-24T11:31:17.981Z"
      },
      {
        "duration": 19,
        "start_time": "2024-04-24T11:31:17.991Z"
      },
      {
        "duration": 20,
        "start_time": "2024-04-24T11:31:18.012Z"
      },
      {
        "duration": 284,
        "start_time": "2024-04-24T11:31:18.033Z"
      },
      {
        "duration": 4,
        "start_time": "2024-04-24T11:31:18.319Z"
      },
      {
        "duration": 202,
        "start_time": "2024-04-24T11:31:18.325Z"
      },
      {
        "duration": 6,
        "start_time": "2024-04-24T11:31:18.529Z"
      },
      {
        "duration": 220,
        "start_time": "2024-04-24T11:31:18.536Z"
      },
      {
        "duration": 140,
        "start_time": "2024-04-24T11:31:18.758Z"
      },
      {
        "duration": 6,
        "start_time": "2024-04-24T11:31:18.899Z"
      },
      {
        "duration": 38,
        "start_time": "2024-04-24T11:31:18.907Z"
      },
      {
        "duration": 410,
        "start_time": "2024-04-24T11:31:18.947Z"
      },
      {
        "duration": 7,
        "start_time": "2024-04-24T11:31:19.358Z"
      },
      {
        "duration": 14,
        "start_time": "2024-04-24T11:31:19.374Z"
      },
      {
        "duration": 133,
        "start_time": "2024-04-24T11:31:19.390Z"
      },
      {
        "duration": 166,
        "start_time": "2024-04-24T11:31:19.525Z"
      },
      {
        "duration": 4,
        "start_time": "2024-04-24T11:31:19.693Z"
      },
      {
        "duration": 14,
        "start_time": "2024-04-24T11:31:19.702Z"
      },
      {
        "duration": 42,
        "start_time": "2024-04-24T11:31:19.718Z"
      },
      {
        "duration": 10,
        "start_time": "2024-04-24T11:31:19.762Z"
      },
      {
        "duration": 43,
        "start_time": "2024-04-24T11:31:19.774Z"
      },
      {
        "duration": 14,
        "start_time": "2024-04-24T11:31:19.819Z"
      },
      {
        "duration": 34,
        "start_time": "2024-04-24T11:31:19.835Z"
      },
      {
        "duration": 10,
        "start_time": "2024-04-24T11:31:19.871Z"
      },
      {
        "duration": 1156,
        "start_time": "2024-04-24T11:31:19.883Z"
      },
      {
        "duration": 12,
        "start_time": "2024-04-24T11:31:21.041Z"
      },
      {
        "duration": 43,
        "start_time": "2024-04-24T11:31:21.055Z"
      },
      {
        "duration": 200,
        "start_time": "2024-04-24T11:31:21.100Z"
      },
      {
        "duration": 18,
        "start_time": "2024-04-24T11:31:21.302Z"
      },
      {
        "duration": 1138,
        "start_time": "2024-04-24T11:31:21.322Z"
      },
      {
        "duration": 54,
        "start_time": "2024-04-24T11:31:22.462Z"
      },
      {
        "duration": 127259,
        "start_time": "2024-04-24T11:31:22.518Z"
      },
      {
        "duration": 11,
        "start_time": "2024-04-24T11:33:29.779Z"
      },
      {
        "duration": 88785,
        "start_time": "2024-04-24T11:33:29.791Z"
      },
      {
        "duration": 57491,
        "start_time": "2024-04-24T11:34:58.578Z"
      },
      {
        "duration": 3506,
        "start_time": "2024-04-24T11:35:56.071Z"
      },
      {
        "duration": 16,
        "start_time": "2024-04-24T11:35:59.579Z"
      },
      {
        "duration": 26,
        "start_time": "2024-04-24T11:35:59.597Z"
      },
      {
        "duration": 0,
        "start_time": "2024-04-24T11:35:59.625Z"
      },
      {
        "duration": 4,
        "start_time": "2024-04-24T11:37:52.989Z"
      },
      {
        "duration": 5,
        "start_time": "2024-04-24T11:38:17.860Z"
      },
      {
        "duration": 4,
        "start_time": "2024-04-24T11:38:42.611Z"
      },
      {
        "duration": 4,
        "start_time": "2024-04-24T11:38:53.889Z"
      },
      {
        "duration": 5,
        "start_time": "2024-04-24T11:39:04.637Z"
      },
      {
        "duration": 4796,
        "start_time": "2024-04-24T11:40:54.861Z"
      },
      {
        "duration": 4417,
        "start_time": "2024-04-24T11:41:24.440Z"
      },
      {
        "duration": 965,
        "start_time": "2024-04-24T11:41:28.859Z"
      },
      {
        "duration": 24,
        "start_time": "2024-04-24T11:41:29.826Z"
      },
      {
        "duration": 33,
        "start_time": "2024-04-24T11:41:29.852Z"
      },
      {
        "duration": 31,
        "start_time": "2024-04-24T11:41:29.887Z"
      },
      {
        "duration": 1085,
        "start_time": "2024-04-24T11:41:29.919Z"
      },
      {
        "duration": 15,
        "start_time": "2024-04-24T11:41:31.006Z"
      },
      {
        "duration": 160,
        "start_time": "2024-04-24T11:41:31.023Z"
      },
      {
        "duration": 166,
        "start_time": "2024-04-24T11:41:31.185Z"
      },
      {
        "duration": 87,
        "start_time": "2024-04-24T11:41:31.355Z"
      },
      {
        "duration": 58,
        "start_time": "2024-04-24T11:41:31.443Z"
      },
      {
        "duration": 49,
        "start_time": "2024-04-24T11:41:31.503Z"
      },
      {
        "duration": 59,
        "start_time": "2024-04-24T11:41:31.554Z"
      },
      {
        "duration": 283,
        "start_time": "2024-04-24T11:41:31.614Z"
      },
      {
        "duration": 5,
        "start_time": "2024-04-24T11:41:31.899Z"
      },
      {
        "duration": 202,
        "start_time": "2024-04-24T11:41:31.906Z"
      },
      {
        "duration": 6,
        "start_time": "2024-04-24T11:41:32.110Z"
      },
      {
        "duration": 216,
        "start_time": "2024-04-24T11:41:32.118Z"
      },
      {
        "duration": 130,
        "start_time": "2024-04-24T11:41:32.335Z"
      },
      {
        "duration": 11,
        "start_time": "2024-04-24T11:41:32.467Z"
      },
      {
        "duration": 31,
        "start_time": "2024-04-24T11:41:32.480Z"
      },
      {
        "duration": 399,
        "start_time": "2024-04-24T11:41:32.512Z"
      },
      {
        "duration": 5,
        "start_time": "2024-04-24T11:41:32.913Z"
      },
      {
        "duration": 13,
        "start_time": "2024-04-24T11:41:32.920Z"
      },
      {
        "duration": 148,
        "start_time": "2024-04-24T11:41:32.934Z"
      },
      {
        "duration": 177,
        "start_time": "2024-04-24T11:41:33.083Z"
      },
      {
        "duration": 13,
        "start_time": "2024-04-24T11:41:33.262Z"
      },
      {
        "duration": 27,
        "start_time": "2024-04-24T11:41:33.280Z"
      },
      {
        "duration": 42,
        "start_time": "2024-04-24T11:41:33.308Z"
      },
      {
        "duration": 9,
        "start_time": "2024-04-24T11:41:33.352Z"
      },
      {
        "duration": 14,
        "start_time": "2024-04-24T11:41:33.363Z"
      },
      {
        "duration": 11,
        "start_time": "2024-04-24T11:41:33.379Z"
      },
      {
        "duration": 9,
        "start_time": "2024-04-24T11:41:33.392Z"
      },
      {
        "duration": 91,
        "start_time": "2024-04-24T11:41:33.403Z"
      },
      {
        "duration": 1182,
        "start_time": "2024-04-24T11:41:33.496Z"
      },
      {
        "duration": 11,
        "start_time": "2024-04-24T11:41:34.680Z"
      },
      {
        "duration": 32,
        "start_time": "2024-04-24T11:41:34.693Z"
      },
      {
        "duration": 5913,
        "start_time": "2024-04-24T11:41:34.727Z"
      },
      {
        "duration": 33,
        "start_time": "2024-04-24T11:41:40.641Z"
      },
      {
        "duration": 1100,
        "start_time": "2024-04-24T11:41:40.675Z"
      },
      {
        "duration": 50,
        "start_time": "2024-04-24T11:41:41.777Z"
      },
      {
        "duration": 137149,
        "start_time": "2024-04-24T11:41:41.829Z"
      },
      {
        "duration": 11,
        "start_time": "2024-04-24T11:43:58.979Z"
      },
      {
        "duration": 82080,
        "start_time": "2024-04-24T11:43:58.993Z"
      },
      {
        "duration": 57716,
        "start_time": "2024-04-24T11:45:21.075Z"
      },
      {
        "duration": 2284,
        "start_time": "2024-04-24T11:46:18.793Z"
      },
      {
        "duration": 16,
        "start_time": "2024-04-24T11:46:21.079Z"
      },
      {
        "duration": 9,
        "start_time": "2024-04-24T11:46:21.097Z"
      },
      {
        "duration": 142,
        "start_time": "2024-04-24T11:46:21.108Z"
      },
      {
        "duration": 0,
        "start_time": "2024-04-24T11:46:21.252Z"
      },
      {
        "duration": 0,
        "start_time": "2024-04-24T11:46:21.253Z"
      },
      {
        "duration": 5,
        "start_time": "2024-04-24T11:54:25.890Z"
      },
      {
        "duration": 17,
        "start_time": "2024-04-24T11:54:56.783Z"
      },
      {
        "duration": 6,
        "start_time": "2024-04-24T11:55:44.773Z"
      },
      {
        "duration": 17,
        "start_time": "2024-04-24T11:56:16.679Z"
      },
      {
        "duration": 5,
        "start_time": "2024-04-24T11:56:34.479Z"
      },
      {
        "duration": 19,
        "start_time": "2024-04-24T11:56:42.585Z"
      },
      {
        "duration": 16,
        "start_time": "2024-04-24T11:57:18.448Z"
      },
      {
        "duration": 4937,
        "start_time": "2024-04-24T11:59:39.868Z"
      },
      {
        "duration": 25,
        "start_time": "2024-04-24T11:59:53.031Z"
      },
      {
        "duration": 1107,
        "start_time": "2024-04-24T12:01:29.262Z"
      },
      {
        "duration": 47,
        "start_time": "2024-04-24T12:01:35.822Z"
      },
      {
        "duration": 5182,
        "start_time": "2024-04-24T12:04:38.705Z"
      },
      {
        "duration": 18,
        "start_time": "2024-04-24T12:04:49.588Z"
      },
      {
        "duration": 1140,
        "start_time": "2024-04-24T12:04:53.262Z"
      },
      {
        "duration": 56,
        "start_time": "2024-04-24T12:04:59.034Z"
      },
      {
        "duration": 23,
        "start_time": "2024-04-24T12:05:07.737Z"
      },
      {
        "duration": 17,
        "start_time": "2024-04-24T12:05:29.399Z"
      },
      {
        "duration": 4871,
        "start_time": "2024-04-24T12:06:57.525Z"
      },
      {
        "duration": 1102,
        "start_time": "2024-04-24T12:07:34.223Z"
      },
      {
        "duration": 51,
        "start_time": "2024-04-24T12:07:48.362Z"
      },
      {
        "duration": 18,
        "start_time": "2024-04-24T12:08:02.093Z"
      },
      {
        "duration": 24,
        "start_time": "2024-04-24T12:08:06.120Z"
      },
      {
        "duration": 4890,
        "start_time": "2024-04-24T12:09:33.323Z"
      },
      {
        "duration": 19,
        "start_time": "2024-04-24T12:09:42.270Z"
      },
      {
        "duration": 23,
        "start_time": "2024-04-24T12:10:08.158Z"
      },
      {
        "duration": 25,
        "start_time": "2024-04-24T12:13:07.021Z"
      },
      {
        "duration": 19,
        "start_time": "2024-04-24T12:13:17.074Z"
      },
      {
        "duration": 4292,
        "start_time": "2024-04-24T12:15:58.953Z"
      },
      {
        "duration": 1008,
        "start_time": "2024-04-24T12:16:03.247Z"
      },
      {
        "duration": 25,
        "start_time": "2024-04-24T12:16:04.256Z"
      },
      {
        "duration": 17,
        "start_time": "2024-04-24T12:16:04.283Z"
      },
      {
        "duration": 55,
        "start_time": "2024-04-24T12:16:04.302Z"
      },
      {
        "duration": 1056,
        "start_time": "2024-04-24T12:16:04.359Z"
      },
      {
        "duration": 16,
        "start_time": "2024-04-24T12:16:05.418Z"
      },
      {
        "duration": 44,
        "start_time": "2024-04-24T12:16:05.436Z"
      },
      {
        "duration": 19,
        "start_time": "2024-04-24T12:16:05.482Z"
      },
      {
        "duration": 40,
        "start_time": "2024-04-24T12:16:05.505Z"
      },
      {
        "duration": 6,
        "start_time": "2024-04-24T12:16:05.547Z"
      },
      {
        "duration": 26,
        "start_time": "2024-04-24T12:16:05.555Z"
      },
      {
        "duration": 26,
        "start_time": "2024-04-24T12:16:05.584Z"
      },
      {
        "duration": 272,
        "start_time": "2024-04-24T12:16:05.612Z"
      },
      {
        "duration": 4,
        "start_time": "2024-04-24T12:16:05.885Z"
      },
      {
        "duration": 155,
        "start_time": "2024-04-24T12:16:05.891Z"
      },
      {
        "duration": 5,
        "start_time": "2024-04-24T12:16:06.048Z"
      },
      {
        "duration": 219,
        "start_time": "2024-04-24T12:16:06.055Z"
      },
      {
        "duration": 131,
        "start_time": "2024-04-24T12:16:06.275Z"
      },
      {
        "duration": 6,
        "start_time": "2024-04-24T12:16:06.408Z"
      },
      {
        "duration": 38,
        "start_time": "2024-04-24T12:16:06.415Z"
      },
      {
        "duration": 408,
        "start_time": "2024-04-24T12:16:06.455Z"
      },
      {
        "duration": 7,
        "start_time": "2024-04-24T12:16:06.873Z"
      },
      {
        "duration": 19,
        "start_time": "2024-04-24T12:16:06.882Z"
      },
      {
        "duration": 149,
        "start_time": "2024-04-24T12:16:06.903Z"
      },
      {
        "duration": 169,
        "start_time": "2024-04-24T12:16:07.054Z"
      },
      {
        "duration": 4,
        "start_time": "2024-04-24T12:16:07.224Z"
      },
      {
        "duration": 20,
        "start_time": "2024-04-24T12:16:07.232Z"
      },
      {
        "duration": 28,
        "start_time": "2024-04-24T12:16:07.253Z"
      },
      {
        "duration": 7,
        "start_time": "2024-04-24T12:16:07.282Z"
      },
      {
        "duration": 43,
        "start_time": "2024-04-24T12:16:07.290Z"
      },
      {
        "duration": 23,
        "start_time": "2024-04-24T12:16:07.334Z"
      },
      {
        "duration": 53,
        "start_time": "2024-04-24T12:16:07.358Z"
      },
      {
        "duration": 11,
        "start_time": "2024-04-24T12:16:07.412Z"
      },
      {
        "duration": 1157,
        "start_time": "2024-04-24T12:16:07.424Z"
      },
      {
        "duration": 12,
        "start_time": "2024-04-24T12:16:08.583Z"
      },
      {
        "duration": 28,
        "start_time": "2024-04-24T12:16:08.596Z"
      },
      {
        "duration": 5289,
        "start_time": "2024-04-24T12:16:08.625Z"
      },
      {
        "duration": 73,
        "start_time": "2024-04-24T12:16:13.916Z"
      },
      {
        "duration": 1542,
        "start_time": "2024-04-24T12:16:13.992Z"
      },
      {
        "duration": 61,
        "start_time": "2024-04-24T12:16:15.536Z"
      },
      {
        "duration": 76593,
        "start_time": "2024-04-24T12:16:15.599Z"
      },
      {
        "duration": 86,
        "start_time": "2024-04-24T12:17:32.195Z"
      },
      {
        "duration": 66394,
        "start_time": "2024-04-24T12:17:32.282Z"
      },
      {
        "duration": 57804,
        "start_time": "2024-04-24T12:18:38.678Z"
      },
      {
        "duration": 2238,
        "start_time": "2024-04-24T12:19:36.484Z"
      },
      {
        "duration": 17,
        "start_time": "2024-04-24T12:19:38.724Z"
      },
      {
        "duration": 142,
        "start_time": "2024-04-24T12:19:38.743Z"
      },
      {
        "duration": 0,
        "start_time": "2024-04-24T12:19:38.887Z"
      },
      {
        "duration": 60403,
        "start_time": "2024-04-24T12:21:11.263Z"
      },
      {
        "duration": 57393,
        "start_time": "2024-04-24T12:22:37.954Z"
      },
      {
        "duration": 72324,
        "start_time": "2024-04-24T12:24:20.450Z"
      },
      {
        "duration": 12,
        "start_time": "2024-04-24T12:26:39.973Z"
      },
      {
        "duration": 21,
        "start_time": "2024-04-24T12:26:59.222Z"
      },
      {
        "duration": 16,
        "start_time": "2024-04-24T12:29:51.035Z"
      },
      {
        "duration": 754,
        "start_time": "2024-04-24T12:29:56.750Z"
      },
      {
        "duration": 16,
        "start_time": "2024-04-24T12:31:37.637Z"
      },
      {
        "duration": 15,
        "start_time": "2024-04-24T12:31:42.243Z"
      },
      {
        "duration": 18,
        "start_time": "2024-04-24T12:32:45.644Z"
      },
      {
        "duration": 75,
        "start_time": "2024-04-24T12:33:10.306Z"
      },
      {
        "duration": 15,
        "start_time": "2024-04-24T12:33:16.852Z"
      },
      {
        "duration": 17,
        "start_time": "2024-04-24T12:34:40.143Z"
      },
      {
        "duration": 674,
        "start_time": "2024-04-24T12:35:01.762Z"
      },
      {
        "duration": 16,
        "start_time": "2024-04-24T12:35:45.836Z"
      },
      {
        "duration": 683,
        "start_time": "2024-04-24T12:35:48.023Z"
      },
      {
        "duration": 17,
        "start_time": "2024-04-24T12:35:56.614Z"
      },
      {
        "duration": 784,
        "start_time": "2024-04-24T12:36:00.503Z"
      },
      {
        "duration": 112919,
        "start_time": "2024-04-24T12:36:11.668Z"
      },
      {
        "duration": 2701,
        "start_time": "2024-04-24T12:39:09.410Z"
      },
      {
        "duration": 4421,
        "start_time": "2024-04-24T12:41:05.929Z"
      },
      {
        "duration": 963,
        "start_time": "2024-04-24T12:41:10.353Z"
      },
      {
        "duration": 184,
        "start_time": "2024-04-24T12:41:11.318Z"
      },
      {
        "duration": 18,
        "start_time": "2024-04-24T12:41:11.504Z"
      },
      {
        "duration": 123,
        "start_time": "2024-04-24T12:41:11.523Z"
      },
      {
        "duration": 1039,
        "start_time": "2024-04-24T12:41:11.648Z"
      },
      {
        "duration": 165,
        "start_time": "2024-04-24T12:41:12.689Z"
      },
      {
        "duration": 351,
        "start_time": "2024-04-24T12:41:12.856Z"
      },
      {
        "duration": 2,
        "start_time": "2024-04-24T12:41:13.209Z"
      },
      {
        "duration": 544,
        "start_time": "2024-04-24T12:41:13.214Z"
      },
      {
        "duration": 20,
        "start_time": "2024-04-24T12:41:13.760Z"
      },
      {
        "duration": 4,
        "start_time": "2024-04-24T12:41:13.783Z"
      },
      {
        "duration": 74,
        "start_time": "2024-04-24T12:41:13.789Z"
      },
      {
        "duration": 326,
        "start_time": "2024-04-24T12:41:13.865Z"
      },
      {
        "duration": 4,
        "start_time": "2024-04-24T12:41:14.194Z"
      },
      {
        "duration": 554,
        "start_time": "2024-04-24T12:41:14.200Z"
      },
      {
        "duration": 43,
        "start_time": "2024-04-24T12:41:14.755Z"
      },
      {
        "duration": 249,
        "start_time": "2024-04-24T12:41:14.800Z"
      },
      {
        "duration": 447,
        "start_time": "2024-04-24T12:41:15.050Z"
      },
      {
        "duration": 28,
        "start_time": "2024-04-24T12:41:15.499Z"
      },
      {
        "duration": 143,
        "start_time": "2024-04-24T12:41:15.531Z"
      },
      {
        "duration": 12814,
        "start_time": "2024-04-24T12:41:15.676Z"
      },
      {
        "duration": 24,
        "start_time": "2024-04-24T12:41:28.492Z"
      },
      {
        "duration": 24,
        "start_time": "2024-04-24T12:41:28.518Z"
      },
      {
        "duration": 504,
        "start_time": "2024-04-24T12:41:28.543Z"
      },
      {
        "duration": 190,
        "start_time": "2024-04-24T12:41:29.049Z"
      },
      {
        "duration": 34,
        "start_time": "2024-04-24T12:41:29.240Z"
      },
      {
        "duration": 113,
        "start_time": "2024-04-24T12:41:29.278Z"
      },
      {
        "duration": 488,
        "start_time": "2024-04-24T12:41:29.393Z"
      },
      {
        "duration": 104,
        "start_time": "2024-04-24T12:41:29.882Z"
      },
      {
        "duration": 268,
        "start_time": "2024-04-24T12:41:29.988Z"
      },
      {
        "duration": 218,
        "start_time": "2024-04-24T12:41:30.258Z"
      },
      {
        "duration": 159,
        "start_time": "2024-04-24T12:41:30.479Z"
      },
      {
        "duration": 123,
        "start_time": "2024-04-24T12:41:30.640Z"
      },
      {
        "duration": 5484,
        "start_time": "2024-04-24T12:41:30.765Z"
      },
      {
        "duration": 106,
        "start_time": "2024-04-24T12:41:36.251Z"
      },
      {
        "duration": 1181,
        "start_time": "2024-04-24T12:41:36.359Z"
      },
      {
        "duration": 175349,
        "start_time": "2024-04-24T12:41:37.542Z"
      },
      {
        "duration": 517,
        "start_time": "2024-04-24T12:44:32.893Z"
      },
      {
        "duration": 53685,
        "start_time": "2024-04-24T12:44:33.412Z"
      },
      {
        "duration": 2369,
        "start_time": "2024-04-24T12:45:27.099Z"
      },
      {
        "duration": 489713,
        "start_time": "2024-04-24T12:45:29.472Z"
      },
      {
        "duration": 15,
        "start_time": "2024-04-24T12:53:39.187Z"
      },
      {
        "duration": 447471,
        "start_time": "2024-04-24T12:53:39.204Z"
      },
      {
        "duration": 808978,
        "start_time": "2024-04-24T13:01:06.677Z"
      },
      {
        "duration": 6962,
        "start_time": "2024-04-24T13:14:35.657Z"
      },
      {
        "duration": 16,
        "start_time": "2024-04-24T13:14:42.621Z"
      },
      {
        "duration": 905,
        "start_time": "2024-04-24T13:14:42.639Z"
      },
      {
        "duration": 284056,
        "start_time": "2024-04-24T13:14:43.545Z"
      },
      {
        "duration": 23,
        "start_time": "2024-04-24T13:29:21.471Z"
      },
      {
        "duration": 5,
        "start_time": "2024-04-24T13:45:16.867Z"
      },
      {
        "duration": 68317,
        "start_time": "2024-04-24T14:00:29.662Z"
      },
      {
        "duration": 5313,
        "start_time": "2024-04-24T14:02:19.362Z"
      },
      {
        "duration": 3197,
        "start_time": "2024-04-24T14:02:55.721Z"
      },
      {
        "duration": 4041,
        "start_time": "2024-04-24T14:03:11.862Z"
      },
      {
        "duration": 209841,
        "start_time": "2024-04-24T14:07:29.110Z"
      },
      {
        "duration": 797969,
        "start_time": "2024-04-24T14:14:38.481Z"
      },
      {
        "duration": 69363,
        "start_time": "2024-04-24T14:28:42.360Z"
      },
      {
        "duration": 68104,
        "start_time": "2024-04-24T14:30:52.487Z"
      },
      {
        "duration": 17,
        "start_time": "2024-04-24T14:32:30.587Z"
      },
      {
        "duration": 28034,
        "start_time": "2024-04-24T14:34:33.918Z"
      },
      {
        "duration": 17,
        "start_time": "2024-04-24T14:35:26.229Z"
      },
      {
        "duration": 7326,
        "start_time": "2024-04-24T14:48:11.614Z"
      },
      {
        "duration": 27795,
        "start_time": "2024-04-24T14:51:06.713Z"
      },
      {
        "duration": 27734,
        "start_time": "2024-04-24T14:51:54.293Z"
      },
      {
        "duration": 4200,
        "start_time": "2024-04-24T14:53:47.991Z"
      },
      {
        "duration": 932,
        "start_time": "2024-04-24T14:53:52.194Z"
      },
      {
        "duration": 182,
        "start_time": "2024-04-24T14:53:53.127Z"
      },
      {
        "duration": 16,
        "start_time": "2024-04-24T14:53:53.311Z"
      },
      {
        "duration": 111,
        "start_time": "2024-04-24T14:53:53.328Z"
      },
      {
        "duration": 1004,
        "start_time": "2024-04-24T14:53:53.441Z"
      },
      {
        "duration": 167,
        "start_time": "2024-04-24T14:53:54.446Z"
      },
      {
        "duration": 322,
        "start_time": "2024-04-24T14:53:54.615Z"
      },
      {
        "duration": 3,
        "start_time": "2024-04-24T14:53:54.938Z"
      },
      {
        "duration": 457,
        "start_time": "2024-04-24T14:53:54.943Z"
      },
      {
        "duration": 27,
        "start_time": "2024-04-24T14:53:55.401Z"
      },
      {
        "duration": 23,
        "start_time": "2024-04-24T14:53:55.430Z"
      },
      {
        "duration": 42,
        "start_time": "2024-04-24T14:53:55.455Z"
      },
      {
        "duration": 250,
        "start_time": "2024-04-24T14:53:55.499Z"
      },
      {
        "duration": 6,
        "start_time": "2024-04-24T14:53:55.751Z"
      },
      {
        "duration": 521,
        "start_time": "2024-04-24T14:53:55.759Z"
      },
      {
        "duration": 30,
        "start_time": "2024-04-24T14:53:56.281Z"
      },
      {
        "duration": 214,
        "start_time": "2024-04-24T14:53:56.313Z"
      },
      {
        "duration": 395,
        "start_time": "2024-04-24T14:53:56.529Z"
      },
      {
        "duration": 24,
        "start_time": "2024-04-24T14:53:56.926Z"
      },
      {
        "duration": 122,
        "start_time": "2024-04-24T14:53:56.952Z"
      },
      {
        "duration": 12525,
        "start_time": "2024-04-24T14:53:57.075Z"
      },
      {
        "duration": 24,
        "start_time": "2024-04-24T14:54:09.602Z"
      },
      {
        "duration": 25,
        "start_time": "2024-04-24T14:54:09.627Z"
      },
      {
        "duration": 442,
        "start_time": "2024-04-24T14:54:09.653Z"
      },
      {
        "duration": 190,
        "start_time": "2024-04-24T14:54:10.097Z"
      },
      {
        "duration": 33,
        "start_time": "2024-04-24T14:54:10.289Z"
      },
      {
        "duration": 154,
        "start_time": "2024-04-24T14:54:10.327Z"
      },
      {
        "duration": 480,
        "start_time": "2024-04-24T14:54:10.482Z"
      },
      {
        "duration": 96,
        "start_time": "2024-04-24T14:54:10.963Z"
      },
      {
        "duration": 207,
        "start_time": "2024-04-24T14:54:11.061Z"
      },
      {
        "duration": 173,
        "start_time": "2024-04-24T14:54:11.270Z"
      },
      {
        "duration": 141,
        "start_time": "2024-04-24T14:54:11.445Z"
      },
      {
        "duration": 121,
        "start_time": "2024-04-24T14:54:11.587Z"
      },
      {
        "duration": 5245,
        "start_time": "2024-04-24T14:54:11.709Z"
      },
      {
        "duration": 119,
        "start_time": "2024-04-24T14:54:16.955Z"
      },
      {
        "duration": 1115,
        "start_time": "2024-04-24T14:54:17.076Z"
      },
      {
        "duration": 168227,
        "start_time": "2024-04-24T14:54:18.193Z"
      },
      {
        "duration": 519,
        "start_time": "2024-04-24T14:57:06.422Z"
      },
      {
        "duration": 52307,
        "start_time": "2024-04-24T14:57:06.943Z"
      },
      {
        "duration": 2379,
        "start_time": "2024-04-24T14:57:59.251Z"
      },
      {
        "duration": 13245,
        "start_time": "2024-04-24T14:58:01.632Z"
      },
      {
        "duration": 9,
        "start_time": "2024-04-24T14:58:14.879Z"
      },
      {
        "duration": 9097,
        "start_time": "2024-04-24T14:58:14.890Z"
      },
      {
        "duration": 825136,
        "start_time": "2024-04-24T14:58:23.990Z"
      },
      {
        "duration": 28937,
        "start_time": "2024-04-24T15:12:09.127Z"
      },
      {
        "duration": 27,
        "start_time": "2024-04-24T15:12:38.066Z"
      },
      {
        "duration": 776,
        "start_time": "2024-04-24T15:12:38.095Z"
      },
      {
        "duration": 30350,
        "start_time": "2024-04-24T15:12:38.875Z"
      },
      {
        "duration": 4926,
        "start_time": "2024-04-25T11:11:48.551Z"
      },
      {
        "duration": 1168,
        "start_time": "2024-04-25T11:14:12.811Z"
      },
      {
        "duration": 18,
        "start_time": "2024-04-25T11:17:06.924Z"
      },
      {
        "duration": 17,
        "start_time": "2024-04-25T11:17:11.291Z"
      },
      {
        "duration": 29,
        "start_time": "2024-04-25T11:17:14.171Z"
      },
      {
        "duration": 914,
        "start_time": "2024-04-25T11:17:16.723Z"
      },
      {
        "duration": 14,
        "start_time": "2024-04-25T11:17:22.803Z"
      },
      {
        "duration": 21,
        "start_time": "2024-04-25T11:17:30.844Z"
      },
      {
        "duration": 17,
        "start_time": "2024-04-25T11:17:34.903Z"
      },
      {
        "duration": 431,
        "start_time": "2024-04-25T11:19:41.203Z"
      },
      {
        "duration": 106,
        "start_time": "2024-04-25T11:21:42.552Z"
      },
      {
        "duration": 126,
        "start_time": "2024-04-25T11:21:50.571Z"
      },
      {
        "duration": 4,
        "start_time": "2024-04-25T11:22:03.619Z"
      },
      {
        "duration": 9,
        "start_time": "2024-04-25T11:22:05.023Z"
      },
      {
        "duration": 213,
        "start_time": "2024-04-25T11:22:06.671Z"
      },
      {
        "duration": 4,
        "start_time": "2024-04-25T11:22:18.552Z"
      },
      {
        "duration": 5,
        "start_time": "2024-04-25T11:22:20.180Z"
      },
      {
        "duration": 206,
        "start_time": "2024-04-25T11:22:21.451Z"
      },
      {
        "duration": 4,
        "start_time": "2024-04-25T11:24:23.431Z"
      },
      {
        "duration": 120,
        "start_time": "2024-04-25T11:24:29.740Z"
      },
      {
        "duration": 123,
        "start_time": "2024-04-25T11:24:42.092Z"
      },
      {
        "duration": 6,
        "start_time": "2024-04-25T11:24:45.786Z"
      },
      {
        "duration": 176,
        "start_time": "2024-04-25T11:24:46.491Z"
      },
      {
        "duration": 225,
        "start_time": "2024-04-25T11:25:48.631Z"
      },
      {
        "duration": 9,
        "start_time": "2024-04-25T11:25:53.071Z"
      },
      {
        "duration": 21,
        "start_time": "2024-04-25T11:26:02.960Z"
      },
      {
        "duration": 346,
        "start_time": "2024-04-25T11:26:13.131Z"
      },
      {
        "duration": 7,
        "start_time": "2024-04-25T11:26:17.101Z"
      },
      {
        "duration": 6,
        "start_time": "2024-04-25T11:26:23.403Z"
      },
      {
        "duration": 108,
        "start_time": "2024-04-25T11:26:24.739Z"
      },
      {
        "duration": 139,
        "start_time": "2024-04-25T11:27:37.451Z"
      },
      {
        "duration": 4,
        "start_time": "2024-04-25T11:27:42.660Z"
      },
      {
        "duration": 4,
        "start_time": "2024-04-25T11:29:21.752Z"
      },
      {
        "duration": 235,
        "start_time": "2024-04-25T11:30:32.391Z"
      },
      {
        "duration": 279,
        "start_time": "2024-04-25T11:30:58.692Z"
      },
      {
        "duration": 181,
        "start_time": "2024-04-25T11:32:23.163Z"
      },
      {
        "duration": 149,
        "start_time": "2024-04-25T11:33:32.411Z"
      },
      {
        "duration": 144,
        "start_time": "2024-04-25T11:33:41.171Z"
      },
      {
        "duration": 183,
        "start_time": "2024-04-25T11:34:19.232Z"
      },
      {
        "duration": 295,
        "start_time": "2024-04-25T11:34:46.991Z"
      },
      {
        "duration": 186,
        "start_time": "2024-04-25T11:35:20.191Z"
      },
      {
        "duration": 178,
        "start_time": "2024-04-25T11:35:28.348Z"
      },
      {
        "duration": 200,
        "start_time": "2024-04-25T11:36:49.092Z"
      },
      {
        "duration": 4,
        "start_time": "2024-04-25T11:37:32.051Z"
      },
      {
        "duration": 4,
        "start_time": "2024-04-25T11:37:35.091Z"
      },
      {
        "duration": 8,
        "start_time": "2024-04-25T11:37:37.143Z"
      },
      {
        "duration": 26,
        "start_time": "2024-04-25T11:37:39.511Z"
      },
      {
        "duration": 9,
        "start_time": "2024-04-25T11:37:40.230Z"
      },
      {
        "duration": 14,
        "start_time": "2024-04-25T11:37:41.658Z"
      },
      {
        "duration": 12,
        "start_time": "2024-04-25T11:37:44.679Z"
      },
      {
        "duration": 13,
        "start_time": "2024-04-25T11:37:48.151Z"
      },
      {
        "duration": 9,
        "start_time": "2024-04-25T11:37:49.831Z"
      },
      {
        "duration": 776754,
        "start_time": "2024-04-25T11:37:51.131Z"
      },
      {
        "duration": 14,
        "start_time": "2024-04-25T12:19:51.248Z"
      },
      {
        "duration": 2489,
        "start_time": "2024-04-25T12:21:01.753Z"
      },
      {
        "duration": 3,
        "start_time": "2024-04-25T12:21:09.692Z"
      },
      {
        "duration": 861,
        "start_time": "2024-04-25T12:21:10.902Z"
      },
      {
        "duration": 18,
        "start_time": "2024-04-25T12:21:14.134Z"
      },
      {
        "duration": 14,
        "start_time": "2024-04-25T12:21:15.582Z"
      },
      {
        "duration": 29,
        "start_time": "2024-04-25T12:21:16.392Z"
      },
      {
        "duration": 864,
        "start_time": "2024-04-25T12:21:17.302Z"
      },
      {
        "duration": 13,
        "start_time": "2024-04-25T12:21:18.889Z"
      },
      {
        "duration": 22,
        "start_time": "2024-04-25T12:21:19.448Z"
      },
      {
        "duration": 18,
        "start_time": "2024-04-25T12:21:20.492Z"
      },
      {
        "duration": 6,
        "start_time": "2024-04-25T12:21:25.064Z"
      },
      {
        "duration": 4,
        "start_time": "2024-04-25T12:21:27.590Z"
      },
      {
        "duration": 6,
        "start_time": "2024-04-25T12:21:29.321Z"
      },
      {
        "duration": 315,
        "start_time": "2024-04-25T12:21:30.184Z"
      },
      {
        "duration": 4,
        "start_time": "2024-04-25T12:21:31.702Z"
      },
      {
        "duration": 123,
        "start_time": "2024-04-25T12:21:32.872Z"
      },
      {
        "duration": 5,
        "start_time": "2024-04-25T12:21:34.072Z"
      },
      {
        "duration": 173,
        "start_time": "2024-04-25T12:21:34.684Z"
      },
      {
        "duration": 114,
        "start_time": "2024-04-25T12:21:37.150Z"
      },
      {
        "duration": 5,
        "start_time": "2024-04-25T12:21:38.580Z"
      },
      {
        "duration": 20,
        "start_time": "2024-04-25T12:21:39.772Z"
      },
      {
        "duration": 374,
        "start_time": "2024-04-25T12:21:40.352Z"
      },
      {
        "duration": 6,
        "start_time": "2024-04-25T12:21:40.920Z"
      },
      {
        "duration": 6,
        "start_time": "2024-04-25T12:21:42.482Z"
      },
      {
        "duration": 111,
        "start_time": "2024-04-25T12:21:43.292Z"
      },
      {
        "duration": 142,
        "start_time": "2024-04-25T12:21:45.893Z"
      },
      {
        "duration": 3,
        "start_time": "2024-04-25T12:21:47.871Z"
      },
      {
        "duration": 4,
        "start_time": "2024-04-25T12:21:48.531Z"
      },
      {
        "duration": 7,
        "start_time": "2024-04-25T12:21:50.680Z"
      },
      {
        "duration": 14,
        "start_time": "2024-04-25T12:21:53.023Z"
      },
      {
        "duration": 7,
        "start_time": "2024-04-25T12:21:53.730Z"
      },
      {
        "duration": 11,
        "start_time": "2024-04-25T12:21:55.450Z"
      },
      {
        "duration": 10,
        "start_time": "2024-04-25T12:21:58.082Z"
      },
      {
        "duration": 8,
        "start_time": "2024-04-25T12:22:00.632Z"
      },
      {
        "duration": 7,
        "start_time": "2024-04-25T12:22:01.362Z"
      },
      {
        "duration": 1120,
        "start_time": "2024-04-25T12:22:18.430Z"
      },
      {
        "duration": 13,
        "start_time": "2024-04-25T12:22:33.892Z"
      },
      {
        "duration": 2267,
        "start_time": "2024-04-25T12:22:46.173Z"
      },
      {
        "duration": 3,
        "start_time": "2024-04-25T12:23:18.270Z"
      },
      {
        "duration": 1995,
        "start_time": "2024-04-25T12:23:57.772Z"
      },
      {
        "duration": 12,
        "start_time": "2024-04-25T12:24:17.711Z"
      },
      {
        "duration": 3,
        "start_time": "2024-04-25T12:34:00.922Z"
      },
      {
        "duration": 9,
        "start_time": "2024-04-25T12:34:04.769Z"
      },
      {
        "duration": 16,
        "start_time": "2024-04-25T12:34:14.013Z"
      },
      {
        "duration": 17,
        "start_time": "2024-04-25T12:34:34.402Z"
      },
      {
        "duration": 14,
        "start_time": "2024-04-25T12:35:21.294Z"
      },
      {
        "duration": 10,
        "start_time": "2024-04-25T12:36:10.517Z"
      },
      {
        "duration": 10,
        "start_time": "2024-04-25T12:36:43.671Z"
      },
      {
        "duration": 7,
        "start_time": "2024-04-25T12:41:00.954Z"
      },
      {
        "duration": 108,
        "start_time": "2024-04-25T12:41:18.432Z"
      },
      {
        "duration": 13,
        "start_time": "2024-04-25T12:41:41.872Z"
      },
      {
        "duration": 20,
        "start_time": "2024-04-25T12:42:24.543Z"
      },
      {
        "duration": 18,
        "start_time": "2024-04-25T12:43:52.931Z"
      },
      {
        "duration": 19,
        "start_time": "2024-04-25T12:43:58.981Z"
      },
      {
        "duration": 10,
        "start_time": "2024-04-25T12:44:45.281Z"
      },
      {
        "duration": 8,
        "start_time": "2024-04-25T12:44:49.251Z"
      },
      {
        "duration": 13,
        "start_time": "2024-04-25T12:44:51.262Z"
      },
      {
        "duration": 16,
        "start_time": "2024-04-25T12:45:55.431Z"
      },
      {
        "duration": 11,
        "start_time": "2024-04-25T12:45:59.802Z"
      },
      {
        "duration": 24,
        "start_time": "2024-04-25T12:46:02.562Z"
      },
      {
        "duration": 12,
        "start_time": "2024-04-25T12:50:12.233Z"
      },
      {
        "duration": 3,
        "start_time": "2024-04-25T12:51:27.371Z"
      },
      {
        "duration": 8,
        "start_time": "2024-04-25T12:51:31.031Z"
      },
      {
        "duration": 36,
        "start_time": "2024-04-25T12:51:35.552Z"
      },
      {
        "duration": 57,
        "start_time": "2024-04-25T12:57:35.172Z"
      },
      {
        "duration": 9,
        "start_time": "2024-04-25T12:58:34.772Z"
      },
      {
        "duration": 14,
        "start_time": "2024-04-25T12:58:53.500Z"
      },
      {
        "duration": 14,
        "start_time": "2024-04-25T12:59:36.732Z"
      },
      {
        "duration": 12,
        "start_time": "2024-04-25T12:59:44.101Z"
      },
      {
        "duration": 16,
        "start_time": "2024-04-25T13:00:04.464Z"
      },
      {
        "duration": 36,
        "start_time": "2024-04-25T13:00:10.352Z"
      },
      {
        "duration": 23,
        "start_time": "2024-04-25T13:00:13.132Z"
      },
      {
        "duration": 15,
        "start_time": "2024-04-25T13:00:38.412Z"
      },
      {
        "duration": 8,
        "start_time": "2024-04-25T13:00:43.712Z"
      },
      {
        "duration": 3,
        "start_time": "2024-04-25T13:00:45.707Z"
      },
      {
        "duration": 8,
        "start_time": "2024-04-25T13:00:49.512Z"
      },
      {
        "duration": 26,
        "start_time": "2024-04-25T13:00:53.382Z"
      },
      {
        "duration": 22,
        "start_time": "2024-04-25T13:00:56.781Z"
      },
      {
        "duration": 20,
        "start_time": "2024-04-25T13:01:13.352Z"
      },
      {
        "duration": 18,
        "start_time": "2024-04-25T13:01:51.263Z"
      },
      {
        "duration": 3932,
        "start_time": "2024-04-25T13:02:18.813Z"
      },
      {
        "duration": 3,
        "start_time": "2024-04-25T13:02:22.747Z"
      },
      {
        "duration": 907,
        "start_time": "2024-04-25T13:02:22.751Z"
      },
      {
        "duration": 18,
        "start_time": "2024-04-25T13:02:23.660Z"
      },
      {
        "duration": 26,
        "start_time": "2024-04-25T13:02:23.681Z"
      },
      {
        "duration": 43,
        "start_time": "2024-04-25T13:02:23.709Z"
      },
      {
        "duration": 964,
        "start_time": "2024-04-25T13:02:23.754Z"
      },
      {
        "duration": 13,
        "start_time": "2024-04-25T13:02:24.720Z"
      },
      {
        "duration": 41,
        "start_time": "2024-04-25T13:02:24.735Z"
      },
      {
        "duration": 15,
        "start_time": "2024-04-25T13:02:24.777Z"
      },
      {
        "duration": 25,
        "start_time": "2024-04-25T13:02:24.793Z"
      },
      {
        "duration": 13,
        "start_time": "2024-04-25T13:02:24.820Z"
      },
      {
        "duration": 13,
        "start_time": "2024-04-25T13:02:24.834Z"
      },
      {
        "duration": 251,
        "start_time": "2024-04-25T13:02:24.850Z"
      },
      {
        "duration": 13,
        "start_time": "2024-04-25T13:02:25.102Z"
      },
      {
        "duration": 126,
        "start_time": "2024-04-25T13:02:25.117Z"
      },
      {
        "duration": 5,
        "start_time": "2024-04-25T13:02:25.245Z"
      },
      {
        "duration": 190,
        "start_time": "2024-04-25T13:02:25.251Z"
      },
      {
        "duration": 137,
        "start_time": "2024-04-25T13:02:25.443Z"
      },
      {
        "duration": 6,
        "start_time": "2024-04-25T13:02:25.581Z"
      },
      {
        "duration": 33,
        "start_time": "2024-04-25T13:02:25.588Z"
      },
      {
        "duration": 374,
        "start_time": "2024-04-25T13:02:25.623Z"
      },
      {
        "duration": 5,
        "start_time": "2024-04-25T13:02:25.999Z"
      },
      {
        "duration": 15,
        "start_time": "2024-04-25T13:02:26.005Z"
      },
      {
        "duration": 121,
        "start_time": "2024-04-25T13:02:26.021Z"
      },
      {
        "duration": 164,
        "start_time": "2024-04-25T13:02:26.144Z"
      },
      {
        "duration": 4,
        "start_time": "2024-04-25T13:02:26.315Z"
      },
      {
        "duration": 13,
        "start_time": "2024-04-25T13:02:26.321Z"
      },
      {
        "duration": 28,
        "start_time": "2024-04-25T13:02:26.336Z"
      },
      {
        "duration": 17,
        "start_time": "2024-04-25T13:02:26.365Z"
      },
      {
        "duration": 6,
        "start_time": "2024-04-25T13:02:26.384Z"
      },
      {
        "duration": 12,
        "start_time": "2024-04-25T13:02:26.392Z"
      },
      {
        "duration": 14,
        "start_time": "2024-04-25T13:02:26.405Z"
      },
      {
        "duration": 8,
        "start_time": "2024-04-25T13:02:26.420Z"
      },
      {
        "duration": 15,
        "start_time": "2024-04-25T13:02:26.430Z"
      },
      {
        "duration": 7,
        "start_time": "2024-04-25T13:02:26.447Z"
      },
      {
        "duration": 2365,
        "start_time": "2024-04-25T13:02:26.456Z"
      },
      {
        "duration": 13,
        "start_time": "2024-04-25T13:02:28.823Z"
      },
      {
        "duration": 19,
        "start_time": "2024-04-25T13:02:28.838Z"
      },
      {
        "duration": 15,
        "start_time": "2024-04-25T13:02:28.858Z"
      },
      {
        "duration": 15,
        "start_time": "2024-04-25T13:02:28.878Z"
      },
      {
        "duration": 28,
        "start_time": "2024-04-25T13:02:28.895Z"
      },
      {
        "duration": 15,
        "start_time": "2024-04-25T13:02:28.925Z"
      },
      {
        "duration": 48,
        "start_time": "2024-04-25T13:02:28.942Z"
      },
      {
        "duration": 5,
        "start_time": "2024-04-25T13:02:28.992Z"
      },
      {
        "duration": 4539,
        "start_time": "2024-04-25T13:02:28.998Z"
      },
      {
        "duration": 0,
        "start_time": "2024-04-25T13:02:33.539Z"
      },
      {
        "duration": 0,
        "start_time": "2024-04-25T13:02:33.541Z"
      },
      {
        "duration": 0,
        "start_time": "2024-04-25T13:02:33.542Z"
      },
      {
        "duration": 0,
        "start_time": "2024-04-25T13:02:33.544Z"
      },
      {
        "duration": 0,
        "start_time": "2024-04-25T13:02:33.545Z"
      },
      {
        "duration": 0,
        "start_time": "2024-04-25T13:02:33.546Z"
      },
      {
        "duration": 0,
        "start_time": "2024-04-25T13:02:33.548Z"
      },
      {
        "duration": 0,
        "start_time": "2024-04-25T13:02:33.549Z"
      },
      {
        "duration": 0,
        "start_time": "2024-04-25T13:02:33.551Z"
      },
      {
        "duration": 0,
        "start_time": "2024-04-25T13:02:33.553Z"
      },
      {
        "duration": 0,
        "start_time": "2024-04-25T13:02:33.554Z"
      },
      {
        "duration": 3,
        "start_time": "2024-04-25T13:06:37.934Z"
      },
      {
        "duration": 13,
        "start_time": "2024-04-25T13:06:41.063Z"
      },
      {
        "duration": 13,
        "start_time": "2024-04-25T13:06:41.924Z"
      },
      {
        "duration": 3950,
        "start_time": "2024-04-25T13:06:48.264Z"
      },
      {
        "duration": 3,
        "start_time": "2024-04-25T13:06:52.216Z"
      },
      {
        "duration": 913,
        "start_time": "2024-04-25T13:06:52.221Z"
      },
      {
        "duration": 20,
        "start_time": "2024-04-25T13:06:53.135Z"
      },
      {
        "duration": 17,
        "start_time": "2024-04-25T13:06:53.156Z"
      },
      {
        "duration": 49,
        "start_time": "2024-04-25T13:06:53.174Z"
      },
      {
        "duration": 1003,
        "start_time": "2024-04-25T13:06:53.224Z"
      },
      {
        "duration": 13,
        "start_time": "2024-04-25T13:06:54.229Z"
      },
      {
        "duration": 36,
        "start_time": "2024-04-25T13:06:54.243Z"
      },
      {
        "duration": 16,
        "start_time": "2024-04-25T13:06:54.280Z"
      },
      {
        "duration": 18,
        "start_time": "2024-04-25T13:06:54.297Z"
      },
      {
        "duration": 21,
        "start_time": "2024-04-25T13:06:54.316Z"
      },
      {
        "duration": 17,
        "start_time": "2024-04-25T13:06:54.339Z"
      },
      {
        "duration": 196,
        "start_time": "2024-04-25T13:06:54.359Z"
      },
      {
        "duration": 4,
        "start_time": "2024-04-25T13:06:54.557Z"
      },
      {
        "duration": 153,
        "start_time": "2024-04-25T13:06:54.562Z"
      },
      {
        "duration": 5,
        "start_time": "2024-04-25T13:06:54.717Z"
      },
      {
        "duration": 199,
        "start_time": "2024-04-25T13:06:54.724Z"
      },
      {
        "duration": 145,
        "start_time": "2024-04-25T13:06:54.924Z"
      },
      {
        "duration": 7,
        "start_time": "2024-04-25T13:06:55.070Z"
      },
      {
        "duration": 37,
        "start_time": "2024-04-25T13:06:55.078Z"
      },
      {
        "duration": 358,
        "start_time": "2024-04-25T13:06:55.116Z"
      },
      {
        "duration": 5,
        "start_time": "2024-04-25T13:06:55.476Z"
      },
      {
        "duration": 6,
        "start_time": "2024-04-25T13:06:55.482Z"
      },
      {
        "duration": 128,
        "start_time": "2024-04-25T13:06:55.489Z"
      },
      {
        "duration": 155,
        "start_time": "2024-04-25T13:06:55.618Z"
      },
      {
        "duration": 4,
        "start_time": "2024-04-25T13:06:55.774Z"
      },
      {
        "duration": 23,
        "start_time": "2024-04-25T13:06:55.780Z"
      },
      {
        "duration": 9,
        "start_time": "2024-04-25T13:06:55.805Z"
      },
      {
        "duration": 15,
        "start_time": "2024-04-25T13:06:55.816Z"
      },
      {
        "duration": 6,
        "start_time": "2024-04-25T13:06:55.833Z"
      },
      {
        "duration": 10,
        "start_time": "2024-04-25T13:06:55.841Z"
      },
      {
        "duration": 17,
        "start_time": "2024-04-25T13:06:55.852Z"
      },
      {
        "duration": 8,
        "start_time": "2024-04-25T13:06:55.871Z"
      },
      {
        "duration": 35,
        "start_time": "2024-04-25T13:06:55.881Z"
      },
      {
        "duration": 3,
        "start_time": "2024-04-25T13:06:55.918Z"
      },
      {
        "duration": 2358,
        "start_time": "2024-04-25T13:06:55.923Z"
      },
      {
        "duration": 12,
        "start_time": "2024-04-25T13:06:58.283Z"
      },
      {
        "duration": 14,
        "start_time": "2024-04-25T13:06:58.296Z"
      },
      {
        "duration": 5,
        "start_time": "2024-04-25T13:06:58.312Z"
      },
      {
        "duration": 8,
        "start_time": "2024-04-25T13:06:58.321Z"
      },
      {
        "duration": 3,
        "start_time": "2024-04-25T13:06:58.330Z"
      },
      {
        "duration": 131,
        "start_time": "2024-04-25T13:06:58.334Z"
      },
      {
        "duration": 0,
        "start_time": "2024-04-25T13:06:58.467Z"
      },
      {
        "duration": 0,
        "start_time": "2024-04-25T13:06:58.468Z"
      },
      {
        "duration": 0,
        "start_time": "2024-04-25T13:06:58.469Z"
      },
      {
        "duration": 0,
        "start_time": "2024-04-25T13:06:58.470Z"
      },
      {
        "duration": 0,
        "start_time": "2024-04-25T13:06:58.471Z"
      },
      {
        "duration": 1,
        "start_time": "2024-04-25T13:06:58.472Z"
      },
      {
        "duration": 0,
        "start_time": "2024-04-25T13:06:58.474Z"
      },
      {
        "duration": 0,
        "start_time": "2024-04-25T13:06:58.476Z"
      },
      {
        "duration": 0,
        "start_time": "2024-04-25T13:06:58.477Z"
      },
      {
        "duration": 0,
        "start_time": "2024-04-25T13:06:58.478Z"
      },
      {
        "duration": 0,
        "start_time": "2024-04-25T13:06:58.479Z"
      },
      {
        "duration": 0,
        "start_time": "2024-04-25T13:06:58.480Z"
      },
      {
        "duration": 0,
        "start_time": "2024-04-25T13:06:58.481Z"
      },
      {
        "duration": 0,
        "start_time": "2024-04-25T13:06:58.483Z"
      },
      {
        "duration": 3,
        "start_time": "2024-04-25T13:07:31.955Z"
      },
      {
        "duration": 11,
        "start_time": "2024-04-25T13:07:35.704Z"
      },
      {
        "duration": 2,
        "start_time": "2024-04-25T13:07:50.714Z"
      },
      {
        "duration": 8,
        "start_time": "2024-04-25T13:07:53.625Z"
      },
      {
        "duration": 26,
        "start_time": "2024-04-25T13:07:56.246Z"
      },
      {
        "duration": 3980,
        "start_time": "2024-04-25T13:08:03.712Z"
      },
      {
        "duration": 3,
        "start_time": "2024-04-25T13:08:07.694Z"
      },
      {
        "duration": 890,
        "start_time": "2024-04-25T13:08:07.698Z"
      },
      {
        "duration": 18,
        "start_time": "2024-04-25T13:08:08.589Z"
      },
      {
        "duration": 30,
        "start_time": "2024-04-25T13:08:08.616Z"
      },
      {
        "duration": 39,
        "start_time": "2024-04-25T13:08:08.647Z"
      },
      {
        "duration": 1010,
        "start_time": "2024-04-25T13:08:08.688Z"
      },
      {
        "duration": 21,
        "start_time": "2024-04-25T13:08:09.699Z"
      },
      {
        "duration": 63,
        "start_time": "2024-04-25T13:08:09.721Z"
      },
      {
        "duration": 28,
        "start_time": "2024-04-25T13:08:09.785Z"
      },
      {
        "duration": 40,
        "start_time": "2024-04-25T13:08:09.815Z"
      },
      {
        "duration": 49,
        "start_time": "2024-04-25T13:08:09.857Z"
      },
      {
        "duration": 51,
        "start_time": "2024-04-25T13:08:09.908Z"
      },
      {
        "duration": 225,
        "start_time": "2024-04-25T13:08:09.962Z"
      },
      {
        "duration": 4,
        "start_time": "2024-04-25T13:08:10.189Z"
      },
      {
        "duration": 161,
        "start_time": "2024-04-25T13:08:10.194Z"
      },
      {
        "duration": 5,
        "start_time": "2024-04-25T13:08:10.356Z"
      },
      {
        "duration": 216,
        "start_time": "2024-04-25T13:08:10.363Z"
      },
      {
        "duration": 126,
        "start_time": "2024-04-25T13:08:10.580Z"
      },
      {
        "duration": 6,
        "start_time": "2024-04-25T13:08:10.715Z"
      },
      {
        "duration": 103,
        "start_time": "2024-04-25T13:08:10.723Z"
      },
      {
        "duration": 397,
        "start_time": "2024-04-25T13:08:10.828Z"
      },
      {
        "duration": 5,
        "start_time": "2024-04-25T13:08:11.227Z"
      },
      {
        "duration": 34,
        "start_time": "2024-04-25T13:08:11.234Z"
      },
      {
        "duration": 139,
        "start_time": "2024-04-25T13:08:11.270Z"
      },
      {
        "duration": 153,
        "start_time": "2024-04-25T13:08:11.415Z"
      },
      {
        "duration": 3,
        "start_time": "2024-04-25T13:08:11.570Z"
      },
      {
        "duration": 32,
        "start_time": "2024-04-25T13:08:11.575Z"
      },
      {
        "duration": 39,
        "start_time": "2024-04-25T13:08:11.608Z"
      },
      {
        "duration": 39,
        "start_time": "2024-04-25T13:08:11.648Z"
      },
      {
        "duration": 34,
        "start_time": "2024-04-25T13:08:11.689Z"
      },
      {
        "duration": 31,
        "start_time": "2024-04-25T13:08:11.725Z"
      },
      {
        "duration": 38,
        "start_time": "2024-04-25T13:08:11.758Z"
      },
      {
        "duration": 29,
        "start_time": "2024-04-25T13:08:11.798Z"
      },
      {
        "duration": 32,
        "start_time": "2024-04-25T13:08:11.828Z"
      },
      {
        "duration": 30,
        "start_time": "2024-04-25T13:08:11.862Z"
      },
      {
        "duration": 2403,
        "start_time": "2024-04-25T13:08:11.894Z"
      },
      {
        "duration": 13,
        "start_time": "2024-04-25T13:08:14.299Z"
      },
      {
        "duration": 26,
        "start_time": "2024-04-25T13:08:14.314Z"
      },
      {
        "duration": 24,
        "start_time": "2024-04-25T13:08:14.341Z"
      },
      {
        "duration": 19,
        "start_time": "2024-04-25T13:08:14.369Z"
      },
      {
        "duration": 29,
        "start_time": "2024-04-25T13:08:14.390Z"
      },
      {
        "duration": 24,
        "start_time": "2024-04-25T13:08:14.421Z"
      },
      {
        "duration": 25,
        "start_time": "2024-04-25T13:08:14.447Z"
      },
      {
        "duration": 4,
        "start_time": "2024-04-25T13:08:14.474Z"
      },
      {
        "duration": 4430,
        "start_time": "2024-04-25T13:08:14.479Z"
      },
      {
        "duration": 16,
        "start_time": "2024-04-25T13:08:18.914Z"
      },
      {
        "duration": 995,
        "start_time": "2024-04-25T13:08:18.932Z"
      },
      {
        "duration": 43,
        "start_time": "2024-04-25T13:08:19.929Z"
      },
      {
        "duration": 1663,
        "start_time": "2024-04-25T13:08:19.974Z"
      },
      {
        "duration": 84,
        "start_time": "2024-04-25T13:08:21.639Z"
      },
      {
        "duration": 8309,
        "start_time": "2024-04-25T13:08:21.725Z"
      },
      {
        "duration": 53422,
        "start_time": "2024-04-25T13:08:30.036Z"
      },
      {
        "duration": 1632,
        "start_time": "2024-04-25T13:09:23.459Z"
      },
      {
        "duration": 16,
        "start_time": "2024-04-25T13:09:25.093Z"
      },
      {
        "duration": 623,
        "start_time": "2024-04-25T13:09:25.110Z"
      },
      {
        "duration": 1603,
        "start_time": "2024-04-25T13:09:25.734Z"
      },
      {
        "duration": 5,
        "start_time": "2024-04-25T13:21:49.785Z"
      },
      {
        "duration": 118,
        "start_time": "2024-04-25T13:21:55.186Z"
      },
      {
        "duration": 5,
        "start_time": "2024-04-25T13:25:43.055Z"
      },
      {
        "duration": 13,
        "start_time": "2024-04-25T13:25:45.705Z"
      },
      {
        "duration": 5,
        "start_time": "2024-04-25T13:26:08.157Z"
      },
      {
        "duration": 15,
        "start_time": "2024-04-25T13:26:10.515Z"
      },
      {
        "duration": 5,
        "start_time": "2024-04-25T13:26:29.025Z"
      },
      {
        "duration": 13,
        "start_time": "2024-04-25T13:26:32.318Z"
      },
      {
        "duration": 4,
        "start_time": "2024-04-25T13:28:55.714Z"
      },
      {
        "duration": 4423,
        "start_time": "2024-04-25T13:28:57.765Z"
      },
      {
        "duration": 4,
        "start_time": "2024-04-25T13:45:35.704Z"
      },
      {
        "duration": 11,
        "start_time": "2024-04-25T13:45:38.133Z"
      },
      {
        "duration": 4167,
        "start_time": "2024-04-25T13:46:39.343Z"
      },
      {
        "duration": 4096,
        "start_time": "2024-04-25T13:49:50.423Z"
      },
      {
        "duration": 16,
        "start_time": "2024-04-25T13:57:33.411Z"
      },
      {
        "duration": 3906,
        "start_time": "2024-04-25T13:58:48.923Z"
      },
      {
        "duration": 3,
        "start_time": "2024-04-25T13:58:52.831Z"
      },
      {
        "duration": 949,
        "start_time": "2024-04-25T13:58:52.836Z"
      },
      {
        "duration": 18,
        "start_time": "2024-04-25T13:58:53.787Z"
      },
      {
        "duration": 16,
        "start_time": "2024-04-25T13:58:53.814Z"
      },
      {
        "duration": 28,
        "start_time": "2024-04-25T13:58:53.832Z"
      },
      {
        "duration": 995,
        "start_time": "2024-04-25T13:58:53.861Z"
      },
      {
        "duration": 14,
        "start_time": "2024-04-25T13:58:54.858Z"
      },
      {
        "duration": 41,
        "start_time": "2024-04-25T13:58:54.874Z"
      },
      {
        "duration": 17,
        "start_time": "2024-04-25T13:58:54.918Z"
      },
      {
        "duration": 6,
        "start_time": "2024-04-25T13:58:54.937Z"
      },
      {
        "duration": 5,
        "start_time": "2024-04-25T13:58:54.945Z"
      },
      {
        "duration": 6,
        "start_time": "2024-04-25T13:58:54.951Z"
      },
      {
        "duration": 233,
        "start_time": "2024-04-25T13:58:54.958Z"
      },
      {
        "duration": 5,
        "start_time": "2024-04-25T13:58:55.193Z"
      },
      {
        "duration": 133,
        "start_time": "2024-04-25T13:58:55.200Z"
      },
      {
        "duration": 6,
        "start_time": "2024-04-25T13:58:55.335Z"
      },
      {
        "duration": 195,
        "start_time": "2024-04-25T13:58:55.342Z"
      },
      {
        "duration": 132,
        "start_time": "2024-04-25T13:58:55.539Z"
      },
      {
        "duration": 7,
        "start_time": "2024-04-25T13:58:55.672Z"
      },
      {
        "duration": 36,
        "start_time": "2024-04-25T13:58:55.680Z"
      },
      {
        "duration": 368,
        "start_time": "2024-04-25T13:58:55.718Z"
      },
      {
        "duration": 6,
        "start_time": "2024-04-25T13:58:56.087Z"
      },
      {
        "duration": 7,
        "start_time": "2024-04-25T13:58:56.094Z"
      },
      {
        "duration": 128,
        "start_time": "2024-04-25T13:58:56.103Z"
      },
      {
        "duration": 163,
        "start_time": "2024-04-25T13:58:56.232Z"
      },
      {
        "duration": 4,
        "start_time": "2024-04-25T13:58:56.397Z"
      },
      {
        "duration": 4,
        "start_time": "2024-04-25T13:58:56.416Z"
      },
      {
        "duration": 8,
        "start_time": "2024-04-25T13:58:56.421Z"
      },
      {
        "duration": 15,
        "start_time": "2024-04-25T13:58:56.431Z"
      },
      {
        "duration": 6,
        "start_time": "2024-04-25T13:58:56.448Z"
      },
      {
        "duration": 9,
        "start_time": "2024-04-25T13:58:56.456Z"
      },
      {
        "duration": 8,
        "start_time": "2024-04-25T13:58:56.466Z"
      },
      {
        "duration": 43,
        "start_time": "2024-04-25T13:58:56.476Z"
      },
      {
        "duration": 7,
        "start_time": "2024-04-25T13:58:56.521Z"
      },
      {
        "duration": 5,
        "start_time": "2024-04-25T13:58:56.529Z"
      },
      {
        "duration": 2445,
        "start_time": "2024-04-25T13:58:56.535Z"
      },
      {
        "duration": 11,
        "start_time": "2024-04-25T13:58:58.982Z"
      },
      {
        "duration": 14,
        "start_time": "2024-04-25T13:58:58.995Z"
      },
      {
        "duration": 4,
        "start_time": "2024-04-25T13:58:59.010Z"
      },
      {
        "duration": 10,
        "start_time": "2024-04-25T13:58:59.016Z"
      },
      {
        "duration": 4,
        "start_time": "2024-04-25T13:58:59.028Z"
      },
      {
        "duration": 13,
        "start_time": "2024-04-25T13:58:59.033Z"
      },
      {
        "duration": 31,
        "start_time": "2024-04-25T13:58:59.047Z"
      },
      {
        "duration": 4,
        "start_time": "2024-04-25T13:58:59.080Z"
      },
      {
        "duration": 4288,
        "start_time": "2024-04-25T13:58:59.086Z"
      },
      {
        "duration": 17,
        "start_time": "2024-04-25T13:59:03.375Z"
      },
      {
        "duration": 1012,
        "start_time": "2024-04-25T13:59:03.394Z"
      },
      {
        "duration": 58,
        "start_time": "2024-04-25T13:59:04.408Z"
      },
      {
        "duration": 1950,
        "start_time": "2024-04-25T13:59:04.468Z"
      },
      {
        "duration": 10,
        "start_time": "2024-04-25T13:59:06.420Z"
      },
      {
        "duration": 1495,
        "start_time": "2024-04-25T13:59:06.432Z"
      },
      {
        "duration": 54031,
        "start_time": "2024-04-25T13:59:07.928Z"
      },
      {
        "duration": 1822,
        "start_time": "2024-04-25T14:00:01.960Z"
      },
      {
        "duration": 15,
        "start_time": "2024-04-25T14:00:03.784Z"
      },
      {
        "duration": 690,
        "start_time": "2024-04-25T14:00:03.800Z"
      },
      {
        "duration": 1635,
        "start_time": "2024-04-25T14:00:04.492Z"
      },
      {
        "duration": 5,
        "start_time": "2024-04-25T15:09:22.947Z"
      },
      {
        "duration": 968,
        "start_time": "2024-04-25T15:09:29.348Z"
      },
      {
        "duration": 45,
        "start_time": "2024-04-25T15:09:47.780Z"
      },
      {
        "duration": 3894,
        "start_time": "2024-04-25T15:13:54.261Z"
      },
      {
        "duration": 3,
        "start_time": "2024-04-25T15:13:58.157Z"
      },
      {
        "duration": 948,
        "start_time": "2024-04-25T15:13:58.161Z"
      },
      {
        "duration": 19,
        "start_time": "2024-04-25T15:13:59.110Z"
      },
      {
        "duration": 15,
        "start_time": "2024-04-25T15:13:59.131Z"
      },
      {
        "duration": 28,
        "start_time": "2024-04-25T15:13:59.148Z"
      },
      {
        "duration": 976,
        "start_time": "2024-04-25T15:13:59.178Z"
      },
      {
        "duration": 14,
        "start_time": "2024-04-25T15:14:00.156Z"
      },
      {
        "duration": 58,
        "start_time": "2024-04-25T15:14:00.171Z"
      },
      {
        "duration": 58,
        "start_time": "2024-04-25T15:14:00.231Z"
      },
      {
        "duration": 55,
        "start_time": "2024-04-25T15:14:00.290Z"
      },
      {
        "duration": 80,
        "start_time": "2024-04-25T15:14:00.347Z"
      },
      {
        "duration": 50,
        "start_time": "2024-04-25T15:14:00.428Z"
      },
      {
        "duration": 245,
        "start_time": "2024-04-25T15:14:00.481Z"
      },
      {
        "duration": 4,
        "start_time": "2024-04-25T15:14:00.727Z"
      },
      {
        "duration": 189,
        "start_time": "2024-04-25T15:14:00.733Z"
      },
      {
        "duration": 6,
        "start_time": "2024-04-25T15:14:00.923Z"
      },
      {
        "duration": 240,
        "start_time": "2024-04-25T15:14:00.930Z"
      },
      {
        "duration": 120,
        "start_time": "2024-04-25T15:14:01.171Z"
      },
      {
        "duration": 6,
        "start_time": "2024-04-25T15:14:01.292Z"
      },
      {
        "duration": 60,
        "start_time": "2024-04-25T15:14:01.300Z"
      },
      {
        "duration": 395,
        "start_time": "2024-04-25T15:14:01.362Z"
      },
      {
        "duration": 6,
        "start_time": "2024-04-25T15:14:01.758Z"
      },
      {
        "duration": 38,
        "start_time": "2024-04-25T15:14:01.766Z"
      },
      {
        "duration": 163,
        "start_time": "2024-04-25T15:14:01.806Z"
      },
      {
        "duration": 160,
        "start_time": "2024-04-25T15:14:01.971Z"
      },
      {
        "duration": 3,
        "start_time": "2024-04-25T15:14:02.133Z"
      },
      {
        "duration": 66,
        "start_time": "2024-04-25T15:14:02.138Z"
      },
      {
        "duration": 26,
        "start_time": "2024-04-25T15:14:02.206Z"
      },
      {
        "duration": 39,
        "start_time": "2024-04-25T15:14:02.233Z"
      },
      {
        "duration": 36,
        "start_time": "2024-04-25T15:14:02.273Z"
      },
      {
        "duration": 34,
        "start_time": "2024-04-25T15:14:02.311Z"
      },
      {
        "duration": 50,
        "start_time": "2024-04-25T15:14:02.346Z"
      },
      {
        "duration": 101,
        "start_time": "2024-04-25T15:14:02.398Z"
      },
      {
        "duration": 30,
        "start_time": "2024-04-25T15:14:02.500Z"
      },
      {
        "duration": 16,
        "start_time": "2024-04-25T15:14:02.532Z"
      },
      {
        "duration": 2324,
        "start_time": "2024-04-25T15:14:02.549Z"
      },
      {
        "duration": 13,
        "start_time": "2024-04-25T15:14:04.874Z"
      },
      {
        "duration": 11,
        "start_time": "2024-04-25T15:14:04.888Z"
      },
      {
        "duration": 5,
        "start_time": "2024-04-25T15:14:04.901Z"
      },
      {
        "duration": 14,
        "start_time": "2024-04-25T15:14:04.910Z"
      },
      {
        "duration": 3,
        "start_time": "2024-04-25T15:14:04.925Z"
      },
      {
        "duration": 20,
        "start_time": "2024-04-25T15:14:04.929Z"
      },
      {
        "duration": 51,
        "start_time": "2024-04-25T15:14:04.951Z"
      },
      {
        "duration": 3,
        "start_time": "2024-04-25T15:14:05.004Z"
      },
      {
        "duration": 4018,
        "start_time": "2024-04-25T15:14:05.008Z"
      },
      {
        "duration": 16,
        "start_time": "2024-04-25T15:14:09.027Z"
      },
      {
        "duration": 3,
        "start_time": "2024-04-25T15:14:09.045Z"
      },
      {
        "duration": 960,
        "start_time": "2024-04-25T15:14:09.050Z"
      },
      {
        "duration": 45,
        "start_time": "2024-04-25T15:14:10.015Z"
      },
      {
        "duration": 1759,
        "start_time": "2024-04-25T15:14:10.061Z"
      },
      {
        "duration": 9,
        "start_time": "2024-04-25T15:14:11.822Z"
      },
      {
        "duration": 1492,
        "start_time": "2024-04-25T15:14:11.832Z"
      },
      {
        "duration": 52472,
        "start_time": "2024-04-25T15:14:13.325Z"
      },
      {
        "duration": 1513,
        "start_time": "2024-04-25T15:15:05.799Z"
      },
      {
        "duration": 18,
        "start_time": "2024-04-25T15:15:07.314Z"
      },
      {
        "duration": 600,
        "start_time": "2024-04-25T15:15:07.333Z"
      },
      {
        "duration": 1516,
        "start_time": "2024-04-25T15:15:07.934Z"
      },
      {
        "duration": 63,
        "start_time": "2024-04-25T15:22:28.132Z"
      },
      {
        "duration": 16,
        "start_time": "2024-04-25T16:08:40.686Z"
      },
      {
        "duration": 5,
        "start_time": "2024-04-25T16:10:05.406Z"
      },
      {
        "duration": 5,
        "start_time": "2024-04-25T16:10:18.025Z"
      },
      {
        "duration": 6,
        "start_time": "2024-04-25T16:10:27.175Z"
      },
      {
        "duration": 9,
        "start_time": "2024-04-25T16:12:43.224Z"
      },
      {
        "duration": 4036,
        "start_time": "2024-04-25T16:15:03.693Z"
      },
      {
        "duration": 3,
        "start_time": "2024-04-25T16:15:07.731Z"
      },
      {
        "duration": 925,
        "start_time": "2024-04-25T16:15:07.735Z"
      },
      {
        "duration": 158,
        "start_time": "2024-04-25T16:15:08.662Z"
      },
      {
        "duration": 23,
        "start_time": "2024-04-25T16:15:08.823Z"
      },
      {
        "duration": 114,
        "start_time": "2024-04-25T16:15:08.848Z"
      },
      {
        "duration": 926,
        "start_time": "2024-04-25T16:15:08.964Z"
      },
      {
        "duration": 147,
        "start_time": "2024-04-25T16:15:09.892Z"
      },
      {
        "duration": 315,
        "start_time": "2024-04-25T16:15:10.041Z"
      },
      {
        "duration": 450,
        "start_time": "2024-04-25T16:15:10.358Z"
      },
      {
        "duration": 26,
        "start_time": "2024-04-25T16:15:10.814Z"
      },
      {
        "duration": 8,
        "start_time": "2024-04-25T16:15:10.842Z"
      },
      {
        "duration": 45,
        "start_time": "2024-04-25T16:15:10.851Z"
      },
      {
        "duration": 220,
        "start_time": "2024-04-25T16:15:10.914Z"
      },
      {
        "duration": 3,
        "start_time": "2024-04-25T16:15:11.136Z"
      },
      {
        "duration": 448,
        "start_time": "2024-04-25T16:15:11.140Z"
      },
      {
        "duration": 32,
        "start_time": "2024-04-25T16:15:11.590Z"
      },
      {
        "duration": 201,
        "start_time": "2024-04-25T16:15:11.624Z"
      },
      {
        "duration": 371,
        "start_time": "2024-04-25T16:15:11.826Z"
      },
      {
        "duration": 25,
        "start_time": "2024-04-25T16:15:12.199Z"
      },
      {
        "duration": 77,
        "start_time": "2024-04-25T16:15:12.225Z"
      },
      {
        "duration": 11377,
        "start_time": "2024-04-25T16:15:12.315Z"
      },
      {
        "duration": 33,
        "start_time": "2024-04-25T16:15:23.693Z"
      },
      {
        "duration": 24,
        "start_time": "2024-04-25T16:15:23.728Z"
      },
      {
        "duration": 415,
        "start_time": "2024-04-25T16:15:23.754Z"
      },
      {
        "duration": 178,
        "start_time": "2024-04-25T16:15:24.171Z"
      },
      {
        "duration": 24,
        "start_time": "2024-04-25T16:15:24.351Z"
      },
      {
        "duration": 39,
        "start_time": "2024-04-25T16:15:24.376Z"
      },
      {
        "duration": 103,
        "start_time": "2024-04-25T16:15:24.417Z"
      },
      {
        "duration": 461,
        "start_time": "2024-04-25T16:15:24.522Z"
      },
      {
        "duration": 134,
        "start_time": "2024-04-25T16:15:24.986Z"
      },
      {
        "duration": 192,
        "start_time": "2024-04-25T16:15:25.122Z"
      },
      {
        "duration": 157,
        "start_time": "2024-04-25T16:15:25.315Z"
      },
      {
        "duration": 125,
        "start_time": "2024-04-25T16:15:25.473Z"
      },
      {
        "duration": 117,
        "start_time": "2024-04-25T16:15:25.599Z"
      },
      {
        "duration": 3,
        "start_time": "2024-04-25T16:15:25.717Z"
      },
      {
        "duration": 6355,
        "start_time": "2024-04-25T16:15:25.722Z"
      },
      {
        "duration": 100,
        "start_time": "2024-04-25T16:15:32.078Z"
      },
      {
        "duration": 3,
        "start_time": "2024-04-25T16:15:32.179Z"
      },
      {
        "duration": 32,
        "start_time": "2024-04-25T16:15:32.183Z"
      },
      {
        "duration": 107,
        "start_time": "2024-04-25T16:15:32.219Z"
      },
      {
        "duration": 3,
        "start_time": "2024-04-25T16:15:32.328Z"
      },
      {
        "duration": 83,
        "start_time": "2024-04-25T16:15:32.332Z"
      },
      {
        "duration": 867,
        "start_time": "2024-04-25T16:15:32.416Z"
      },
      {
        "duration": 3,
        "start_time": "2024-04-25T16:15:33.285Z"
      },
      {
        "duration": 152611,
        "start_time": "2024-04-25T16:15:33.290Z"
      },
      {
        "duration": 472,
        "start_time": "2024-04-25T16:18:05.903Z"
      },
      {
        "duration": 3,
        "start_time": "2024-04-25T16:18:06.377Z"
      },
      {
        "duration": 47137,
        "start_time": "2024-04-25T16:18:06.381Z"
      },
      {
        "duration": 2111,
        "start_time": "2024-04-25T16:18:53.520Z"
      },
      {
        "duration": 9687,
        "start_time": "2024-04-25T16:18:55.633Z"
      },
      {
        "duration": 9,
        "start_time": "2024-04-25T16:19:05.323Z"
      },
      {
        "duration": 7294,
        "start_time": "2024-04-25T16:19:05.334Z"
      },
      {
        "duration": 739472,
        "start_time": "2024-04-25T16:19:12.630Z"
      },
      {
        "duration": 25137,
        "start_time": "2024-04-25T16:31:32.103Z"
      },
      {
        "duration": 18,
        "start_time": "2024-04-25T16:31:57.242Z"
      },
      {
        "duration": 629,
        "start_time": "2024-04-25T16:31:57.261Z"
      },
      {
        "duration": 25188,
        "start_time": "2024-04-25T16:31:57.891Z"
      },
      {
        "duration": 7,
        "start_time": "2024-04-25T16:32:23.083Z"
      },
      {
        "duration": 6138,
        "start_time": "2024-04-26T06:33:45.657Z"
      },
      {
        "duration": 2,
        "start_time": "2024-04-26T06:33:53.527Z"
      },
      {
        "duration": 1153,
        "start_time": "2024-04-26T06:33:54.457Z"
      },
      {
        "duration": 155,
        "start_time": "2024-04-26T06:33:58.797Z"
      },
      {
        "duration": 18,
        "start_time": "2024-04-26T06:34:00.637Z"
      },
      {
        "duration": 93,
        "start_time": "2024-04-26T06:34:01.576Z"
      },
      {
        "duration": 899,
        "start_time": "2024-04-26T06:34:02.297Z"
      },
      {
        "duration": 148,
        "start_time": "2024-04-26T06:34:03.197Z"
      },
      {
        "duration": 297,
        "start_time": "2024-04-26T06:34:03.826Z"
      },
      {
        "duration": 425,
        "start_time": "2024-04-26T06:34:04.393Z"
      },
      {
        "duration": 24,
        "start_time": "2024-04-26T06:34:10.537Z"
      },
      {
        "duration": 3,
        "start_time": "2024-04-26T06:34:13.433Z"
      },
      {
        "duration": 35,
        "start_time": "2024-04-26T06:34:14.198Z"
      },
      {
        "duration": 203,
        "start_time": "2024-04-26T06:34:15.257Z"
      },
      {
        "duration": 4,
        "start_time": "2024-04-26T06:34:17.089Z"
      },
      {
        "duration": 437,
        "start_time": "2024-04-26T06:34:18.348Z"
      },
      {
        "duration": 28,
        "start_time": "2024-04-26T06:34:19.548Z"
      },
      {
        "duration": 198,
        "start_time": "2024-04-26T06:34:20.139Z"
      },
      {
        "duration": 347,
        "start_time": "2024-04-26T06:34:22.076Z"
      },
      {
        "duration": 22,
        "start_time": "2024-04-26T06:34:22.636Z"
      },
      {
        "duration": 77,
        "start_time": "2024-04-26T06:34:23.211Z"
      },
      {
        "duration": 11146,
        "start_time": "2024-04-26T06:34:23.483Z"
      },
      {
        "duration": 24,
        "start_time": "2024-04-26T06:34:34.631Z"
      },
      {
        "duration": 23,
        "start_time": "2024-04-26T06:34:34.657Z"
      },
      {
        "duration": 427,
        "start_time": "2024-04-26T06:34:34.682Z"
      },
      {
        "duration": 166,
        "start_time": "2024-04-26T06:34:35.111Z"
      },
      {
        "duration": 23,
        "start_time": "2024-04-26T06:34:35.278Z"
      },
      {
        "duration": 26,
        "start_time": "2024-04-26T06:34:35.314Z"
      },
      {
        "duration": 101,
        "start_time": "2024-04-26T06:34:35.341Z"
      },
      {
        "duration": 444,
        "start_time": "2024-04-26T06:34:35.443Z"
      },
      {
        "duration": 86,
        "start_time": "2024-04-26T06:34:35.890Z"
      },
      {
        "duration": 189,
        "start_time": "2024-04-26T06:34:35.977Z"
      },
      {
        "duration": 179,
        "start_time": "2024-04-26T06:34:39.024Z"
      },
      {
        "duration": 118,
        "start_time": "2024-04-26T06:34:40.356Z"
      },
      {
        "duration": 102,
        "start_time": "2024-04-26T06:34:41.145Z"
      },
      {
        "duration": 2,
        "start_time": "2024-04-26T06:34:44.337Z"
      },
      {
        "duration": 5811,
        "start_time": "2024-04-26T06:34:45.137Z"
      },
      {
        "duration": 86,
        "start_time": "2024-04-26T06:34:55.934Z"
      },
      {
        "duration": 2,
        "start_time": "2024-04-26T06:35:07.844Z"
      },
      {
        "duration": 1,
        "start_time": "2024-04-26T06:35:10.237Z"
      },
      {
        "duration": 108,
        "start_time": "2024-04-26T06:35:11.806Z"
      },
      {
        "duration": 3,
        "start_time": "2024-04-26T06:35:15.237Z"
      },
      {
        "duration": 69,
        "start_time": "2024-04-26T06:35:28.266Z"
      },
      {
        "duration": 983,
        "start_time": "2024-04-26T06:35:30.904Z"
      },
      {
        "duration": 3,
        "start_time": "2024-04-26T06:36:16.896Z"
      },
      {
        "duration": 150935,
        "start_time": "2024-04-26T06:36:19.532Z"
      },
      {
        "duration": 3,
        "start_time": "2024-04-26T06:48:08.234Z"
      },
      {
        "duration": 3,
        "start_time": "2024-04-26T06:48:15.163Z"
      },
      {
        "duration": 46003,
        "start_time": "2024-04-26T06:48:18.050Z"
      },
      {
        "duration": 2171,
        "start_time": "2024-04-26T06:49:08.684Z"
      },
      {
        "duration": 48402,
        "start_time": "2024-04-26T06:49:20.333Z"
      },
      {
        "duration": 11,
        "start_time": "2024-04-26T06:50:17.517Z"
      },
      {
        "duration": 6248,
        "start_time": "2024-04-26T06:50:18.794Z"
      },
      {
        "duration": 738716,
        "start_time": "2024-04-26T06:50:39.725Z"
      },
      {
        "duration": 26164,
        "start_time": "2024-04-26T07:05:04.173Z"
      },
      {
        "duration": 110,
        "start_time": "2024-04-26T07:05:55.204Z"
      },
      {
        "duration": 440,
        "start_time": "2024-04-26T07:07:21.922Z"
      },
      {
        "duration": 15,
        "start_time": "2024-04-26T07:07:42.184Z"
      },
      {
        "duration": 4019,
        "start_time": "2024-04-26T07:07:57.803Z"
      },
      {
        "duration": 2,
        "start_time": "2024-04-26T07:08:01.824Z"
      },
      {
        "duration": 932,
        "start_time": "2024-04-26T07:08:01.828Z"
      },
      {
        "duration": 158,
        "start_time": "2024-04-26T07:08:02.762Z"
      },
      {
        "duration": 46,
        "start_time": "2024-04-26T07:08:02.922Z"
      },
      {
        "duration": 92,
        "start_time": "2024-04-26T07:08:02.970Z"
      },
      {
        "duration": 937,
        "start_time": "2024-04-26T07:08:03.064Z"
      },
      {
        "duration": 152,
        "start_time": "2024-04-26T07:08:04.003Z"
      },
      {
        "duration": 303,
        "start_time": "2024-04-26T07:08:04.156Z"
      },
      {
        "duration": 460,
        "start_time": "2024-04-26T07:08:04.461Z"
      },
      {
        "duration": 26,
        "start_time": "2024-04-26T07:08:04.923Z"
      },
      {
        "duration": 15,
        "start_time": "2024-04-26T07:08:04.951Z"
      },
      {
        "duration": 58,
        "start_time": "2024-04-26T07:08:04.968Z"
      },
      {
        "duration": 213,
        "start_time": "2024-04-26T07:08:05.029Z"
      },
      {
        "duration": 3,
        "start_time": "2024-04-26T07:08:05.244Z"
      },
      {
        "duration": 467,
        "start_time": "2024-04-26T07:08:05.248Z"
      },
      {
        "duration": 27,
        "start_time": "2024-04-26T07:08:05.717Z"
      },
      {
        "duration": 210,
        "start_time": "2024-04-26T07:08:05.745Z"
      },
      {
        "duration": 369,
        "start_time": "2024-04-26T07:08:05.957Z"
      },
      {
        "duration": 21,
        "start_time": "2024-04-26T07:08:06.327Z"
      },
      {
        "duration": 92,
        "start_time": "2024-04-26T07:08:06.350Z"
      },
      {
        "duration": 11133,
        "start_time": "2024-04-26T07:08:06.443Z"
      },
      {
        "duration": 23,
        "start_time": "2024-04-26T07:08:17.577Z"
      },
      {
        "duration": 35,
        "start_time": "2024-04-26T07:08:17.601Z"
      },
      {
        "duration": 415,
        "start_time": "2024-04-26T07:08:17.639Z"
      },
      {
        "duration": 176,
        "start_time": "2024-04-26T07:08:18.056Z"
      },
      {
        "duration": 22,
        "start_time": "2024-04-26T07:08:18.234Z"
      },
      {
        "duration": 36,
        "start_time": "2024-04-26T07:08:18.257Z"
      },
      {
        "duration": 94,
        "start_time": "2024-04-26T07:08:18.294Z"
      },
      {
        "duration": 455,
        "start_time": "2024-04-26T07:08:18.390Z"
      },
      {
        "duration": 98,
        "start_time": "2024-04-26T07:08:18.847Z"
      },
      {
        "duration": 199,
        "start_time": "2024-04-26T07:08:18.947Z"
      },
      {
        "duration": 161,
        "start_time": "2024-04-26T07:08:19.148Z"
      },
      {
        "duration": 123,
        "start_time": "2024-04-26T07:08:19.310Z"
      },
      {
        "duration": 107,
        "start_time": "2024-04-26T07:08:19.435Z"
      },
      {
        "duration": 7,
        "start_time": "2024-04-26T07:08:19.544Z"
      },
      {
        "duration": 5832,
        "start_time": "2024-04-26T07:08:19.552Z"
      },
      {
        "duration": 84,
        "start_time": "2024-04-26T07:08:25.386Z"
      },
      {
        "duration": 2,
        "start_time": "2024-04-26T07:08:25.472Z"
      },
      {
        "duration": 4,
        "start_time": "2024-04-26T07:08:25.476Z"
      },
      {
        "duration": 108,
        "start_time": "2024-04-26T07:08:25.484Z"
      },
      {
        "duration": 3,
        "start_time": "2024-04-26T07:08:25.594Z"
      },
      {
        "duration": 75,
        "start_time": "2024-04-26T07:08:25.598Z"
      },
      {
        "duration": 847,
        "start_time": "2024-04-26T07:08:25.674Z"
      },
      {
        "duration": 3,
        "start_time": "2024-04-26T07:08:26.522Z"
      },
      {
        "duration": 147511,
        "start_time": "2024-04-26T07:08:26.527Z"
      },
      {
        "duration": 479,
        "start_time": "2024-04-26T07:10:54.039Z"
      },
      {
        "duration": 3,
        "start_time": "2024-04-26T07:10:54.520Z"
      },
      {
        "duration": 46340,
        "start_time": "2024-04-26T07:10:54.524Z"
      },
      {
        "duration": 2018,
        "start_time": "2024-04-26T07:11:40.866Z"
      },
      {
        "duration": 9842,
        "start_time": "2024-04-26T07:11:42.885Z"
      },
      {
        "duration": 9,
        "start_time": "2024-04-26T07:11:52.728Z"
      },
      {
        "duration": 6585,
        "start_time": "2024-04-26T07:11:52.738Z"
      },
      {
        "duration": 733047,
        "start_time": "2024-04-26T07:11:59.325Z"
      },
      {
        "duration": 25410,
        "start_time": "2024-04-26T07:24:12.374Z"
      },
      {
        "duration": 17,
        "start_time": "2024-04-26T07:24:37.786Z"
      },
      {
        "duration": 620,
        "start_time": "2024-04-26T07:24:37.805Z"
      },
      {
        "duration": 25205,
        "start_time": "2024-04-26T07:24:38.427Z"
      },
      {
        "duration": 5,
        "start_time": "2024-04-26T07:25:03.634Z"
      },
      {
        "duration": 5307,
        "start_time": "2024-04-27T09:53:59.772Z"
      },
      {
        "duration": 2,
        "start_time": "2024-04-27T09:54:10.852Z"
      },
      {
        "duration": 1201,
        "start_time": "2024-04-27T09:54:11.156Z"
      },
      {
        "duration": 142,
        "start_time": "2024-04-27T09:54:13.931Z"
      },
      {
        "duration": 16,
        "start_time": "2024-04-27T09:54:15.603Z"
      },
      {
        "duration": 95,
        "start_time": "2024-04-27T09:54:16.497Z"
      },
      {
        "duration": 956,
        "start_time": "2024-04-27T09:54:17.203Z"
      },
      {
        "duration": 147,
        "start_time": "2024-04-27T09:54:18.161Z"
      },
      {
        "duration": 297,
        "start_time": "2024-04-27T09:54:19.000Z"
      },
      {
        "duration": 467,
        "start_time": "2024-04-27T09:54:19.641Z"
      },
      {
        "duration": 26,
        "start_time": "2024-04-27T09:54:25.789Z"
      },
      {
        "duration": 4,
        "start_time": "2024-04-27T09:54:28.081Z"
      },
      {
        "duration": 37,
        "start_time": "2024-04-27T09:54:28.857Z"
      },
      {
        "duration": 221,
        "start_time": "2024-04-27T09:54:29.493Z"
      },
      {
        "duration": 3,
        "start_time": "2024-04-27T09:54:30.932Z"
      },
      {
        "duration": 448,
        "start_time": "2024-04-27T09:54:32.461Z"
      },
      {
        "duration": 22,
        "start_time": "2024-04-27T09:54:33.540Z"
      },
      {
        "duration": 201,
        "start_time": "2024-04-27T09:54:34.119Z"
      },
      {
        "duration": 386,
        "start_time": "2024-04-27T09:54:36.540Z"
      },
      {
        "duration": 22,
        "start_time": "2024-04-27T09:54:37.837Z"
      },
      {
        "duration": 81,
        "start_time": "2024-04-27T09:54:40.181Z"
      },
      {
        "duration": 11497,
        "start_time": "2024-04-27T09:54:40.831Z"
      },
      {
        "duration": 25,
        "start_time": "2024-04-27T09:54:52.330Z"
      },
      {
        "duration": 34,
        "start_time": "2024-04-27T09:54:52.357Z"
      },
      {
        "duration": 401,
        "start_time": "2024-04-27T09:54:52.393Z"
      },
      {
        "duration": 157,
        "start_time": "2024-04-27T09:54:57.948Z"
      },
      {
        "duration": 21,
        "start_time": "2024-04-27T09:55:00.174Z"
      },
      {
        "duration": 26,
        "start_time": "2024-04-27T09:55:00.918Z"
      },
      {
        "duration": 98,
        "start_time": "2024-04-27T09:55:02.698Z"
      },
      {
        "duration": 445,
        "start_time": "2024-04-27T09:55:05.712Z"
      },
      {
        "duration": 85,
        "start_time": "2024-04-27T09:55:06.311Z"
      },
      {
        "duration": 175,
        "start_time": "2024-04-27T09:55:07.478Z"
      },
      {
        "duration": 170,
        "start_time": "2024-04-27T09:55:10.191Z"
      },
      {
        "duration": 124,
        "start_time": "2024-04-27T09:55:11.831Z"
      },
      {
        "duration": 111,
        "start_time": "2024-04-27T09:55:12.863Z"
      },
      {
        "duration": 2,
        "start_time": "2024-04-27T09:55:14.532Z"
      },
      {
        "duration": 6213,
        "start_time": "2024-04-27T09:55:16.512Z"
      },
      {
        "duration": 4,
        "start_time": "2024-04-27T09:55:24.261Z"
      },
      {
        "duration": 18,
        "start_time": "2024-04-27T09:56:30.462Z"
      },
      {
        "duration": 6248,
        "start_time": "2024-04-27T09:56:52.871Z"
      },
      {
        "duration": 92,
        "start_time": "2024-04-27T09:59:20.692Z"
      },
      {
        "duration": 2,
        "start_time": "2024-04-27T09:59:23.809Z"
      },
      {
        "duration": 3,
        "start_time": "2024-04-27T09:59:32.461Z"
      },
      {
        "duration": 114,
        "start_time": "2024-04-27T09:59:37.012Z"
      },
      {
        "duration": 3,
        "start_time": "2024-04-27T09:59:39.380Z"
      },
      {
        "duration": 115,
        "start_time": "2024-04-27T09:59:44.819Z"
      },
      {
        "duration": 72,
        "start_time": "2024-04-27T09:59:51.371Z"
      },
      {
        "duration": 872,
        "start_time": "2024-04-27T09:59:57.612Z"
      },
      {
        "duration": 4,
        "start_time": "2024-04-27T10:04:08.020Z"
      },
      {
        "duration": 4,
        "start_time": "2024-04-27T10:04:14.597Z"
      },
      {
        "duration": 4,
        "start_time": "2024-04-27T10:08:28.462Z"
      },
      {
        "duration": 152167,
        "start_time": "2024-04-27T10:08:48.273Z"
      },
      {
        "duration": 156376,
        "start_time": "2024-04-27T10:14:18.803Z"
      },
      {
        "duration": 29234,
        "start_time": "2024-04-27T10:23:29.062Z"
      },
      {
        "duration": 172546,
        "start_time": "2024-04-27T11:20:32.911Z"
      },
      {
        "duration": 78,
        "start_time": "2024-04-27T11:40:35.490Z"
      },
      {
        "duration": 80,
        "start_time": "2024-04-27T11:41:07.042Z"
      },
      {
        "duration": 904,
        "start_time": "2024-04-27T11:41:12.721Z"
      },
      {
        "duration": 3,
        "start_time": "2024-04-27T11:41:22.902Z"
      },
      {
        "duration": 3,
        "start_time": "2024-04-27T11:41:27.561Z"
      },
      {
        "duration": 195111,
        "start_time": "2024-04-27T11:41:41.991Z"
      },
      {
        "duration": 609,
        "start_time": "2024-04-27T11:48:42.614Z"
      },
      {
        "duration": 559,
        "start_time": "2024-04-27T11:49:22.403Z"
      },
      {
        "duration": 195990,
        "start_time": "2024-04-27T11:49:52.774Z"
      },
      {
        "duration": 40290,
        "start_time": "2024-04-27T11:54:20.335Z"
      },
      {
        "duration": 13997,
        "start_time": "2024-04-27T11:57:25.193Z"
      },
      {
        "duration": 10,
        "start_time": "2024-04-27T11:57:49.992Z"
      },
      {
        "duration": 8388,
        "start_time": "2024-04-27T11:59:06.292Z"
      },
      {
        "duration": 945596,
        "start_time": "2024-04-27T12:00:22.502Z"
      },
      {
        "duration": 33449,
        "start_time": "2024-04-27T12:18:53.462Z"
      },
      {
        "duration": 15,
        "start_time": "2024-04-27T12:20:05.372Z"
      },
      {
        "duration": 32183,
        "start_time": "2024-04-27T12:21:02.692Z"
      },
      {
        "duration": 70,
        "start_time": "2024-04-27T12:21:42.502Z"
      },
      {
        "duration": 75636,
        "start_time": "2024-04-27T12:24:00.773Z"
      },
      {
        "duration": 68,
        "start_time": "2024-04-27T12:25:21.661Z"
      },
      {
        "duration": 68,
        "start_time": "2024-04-27T12:26:58.752Z"
      },
      {
        "duration": 154,
        "start_time": "2024-04-27T12:35:42.723Z"
      },
      {
        "duration": 9,
        "start_time": "2024-04-27T12:42:24.732Z"
      },
      {
        "duration": 3,
        "start_time": "2024-04-27T12:42:28.405Z"
      },
      {
        "duration": 130,
        "start_time": "2024-04-27T12:43:26.242Z"
      },
      {
        "duration": 144,
        "start_time": "2024-04-27T12:43:35.302Z"
      },
      {
        "duration": 275,
        "start_time": "2024-04-27T12:44:57.382Z"
      },
      {
        "duration": 5,
        "start_time": "2024-04-27T12:44:59.752Z"
      },
      {
        "duration": 128,
        "start_time": "2024-04-27T12:45:39.908Z"
      },
      {
        "duration": 257,
        "start_time": "2024-04-27T12:45:42.535Z"
      },
      {
        "duration": 642,
        "start_time": "2024-04-27T12:46:48.165Z"
      },
      {
        "duration": 79370,
        "start_time": "2024-04-27T12:51:13.281Z"
      },
      {
        "duration": 3968,
        "start_time": "2024-04-27T12:56:30.602Z"
      },
      {
        "duration": 3,
        "start_time": "2024-04-27T12:56:34.572Z"
      },
      {
        "duration": 960,
        "start_time": "2024-04-27T12:56:34.576Z"
      },
      {
        "duration": 154,
        "start_time": "2024-04-27T12:56:35.537Z"
      },
      {
        "duration": 16,
        "start_time": "2024-04-27T12:56:35.693Z"
      },
      {
        "duration": 142,
        "start_time": "2024-04-27T12:56:35.711Z"
      },
      {
        "duration": 988,
        "start_time": "2024-04-27T12:56:35.855Z"
      },
      {
        "duration": 147,
        "start_time": "2024-04-27T12:56:36.845Z"
      },
      {
        "duration": 307,
        "start_time": "2024-04-27T12:56:36.994Z"
      },
      {
        "duration": 456,
        "start_time": "2024-04-27T12:56:37.302Z"
      },
      {
        "duration": 17,
        "start_time": "2024-04-27T12:56:37.760Z"
      },
      {
        "duration": 6,
        "start_time": "2024-04-27T12:56:37.778Z"
      },
      {
        "duration": 33,
        "start_time": "2024-04-27T12:56:37.785Z"
      },
      {
        "duration": 230,
        "start_time": "2024-04-27T12:56:37.821Z"
      },
      {
        "duration": 4,
        "start_time": "2024-04-27T12:56:38.053Z"
      },
      {
        "duration": 475,
        "start_time": "2024-04-27T12:56:38.058Z"
      },
      {
        "duration": 40,
        "start_time": "2024-04-27T12:56:38.535Z"
      },
      {
        "duration": 201,
        "start_time": "2024-04-27T12:56:38.576Z"
      },
      {
        "duration": 404,
        "start_time": "2024-04-27T12:56:38.779Z"
      },
      {
        "duration": 23,
        "start_time": "2024-04-27T12:56:39.184Z"
      },
      {
        "duration": 100,
        "start_time": "2024-04-27T12:56:39.209Z"
      },
      {
        "duration": 11674,
        "start_time": "2024-04-27T12:56:39.310Z"
      },
      {
        "duration": 25,
        "start_time": "2024-04-27T12:56:50.986Z"
      },
      {
        "duration": 38,
        "start_time": "2024-04-27T12:56:51.013Z"
      },
      {
        "duration": 473,
        "start_time": "2024-04-27T12:56:51.053Z"
      },
      {
        "duration": 175,
        "start_time": "2024-04-27T12:56:51.528Z"
      },
      {
        "duration": 23,
        "start_time": "2024-04-27T12:56:51.705Z"
      },
      {
        "duration": 63,
        "start_time": "2024-04-27T12:56:51.730Z"
      },
      {
        "duration": 122,
        "start_time": "2024-04-27T12:56:51.795Z"
      },
      {
        "duration": 472,
        "start_time": "2024-04-27T12:56:51.919Z"
      },
      {
        "duration": 95,
        "start_time": "2024-04-27T12:56:52.393Z"
      },
      {
        "duration": 210,
        "start_time": "2024-04-27T12:56:52.490Z"
      },
      {
        "duration": 149,
        "start_time": "2024-04-27T12:56:52.702Z"
      },
      {
        "duration": 313,
        "start_time": "2024-04-27T12:56:52.853Z"
      },
      {
        "duration": 143,
        "start_time": "2024-04-27T12:56:53.169Z"
      },
      {
        "duration": 137,
        "start_time": "2024-04-27T12:56:53.314Z"
      },
      {
        "duration": 102,
        "start_time": "2024-04-27T12:56:53.453Z"
      },
      {
        "duration": 3,
        "start_time": "2024-04-27T12:56:53.556Z"
      },
      {
        "duration": 5900,
        "start_time": "2024-04-27T12:56:53.569Z"
      },
      {
        "duration": 75,
        "start_time": "2024-04-27T12:56:59.470Z"
      },
      {
        "duration": 6,
        "start_time": "2024-04-27T12:56:59.549Z"
      },
      {
        "duration": 17,
        "start_time": "2024-04-27T12:56:59.557Z"
      },
      {
        "duration": 73,
        "start_time": "2024-04-27T12:56:59.576Z"
      },
      {
        "duration": 3,
        "start_time": "2024-04-27T12:56:59.650Z"
      },
      {
        "duration": 86,
        "start_time": "2024-04-27T12:56:59.655Z"
      },
      {
        "duration": 826,
        "start_time": "2024-04-27T12:56:59.743Z"
      },
      {
        "duration": 3,
        "start_time": "2024-04-27T12:57:00.571Z"
      },
      {
        "duration": 127,
        "start_time": "2024-04-27T12:57:00.576Z"
      },
      {
        "duration": 169511,
        "start_time": "2024-04-27T12:57:00.705Z"
      },
      {
        "duration": 591,
        "start_time": "2024-04-27T12:59:50.218Z"
      },
      {
        "duration": 3,
        "start_time": "2024-04-27T12:59:50.811Z"
      },
      {
        "duration": 46,
        "start_time": "2024-04-27T12:59:50.815Z"
      },
      {
        "duration": 56937,
        "start_time": "2024-04-27T12:59:50.863Z"
      },
      {
        "duration": 33393,
        "start_time": "2024-04-27T13:00:47.801Z"
      },
      {
        "duration": 11879,
        "start_time": "2024-04-27T13:01:21.195Z"
      },
      {
        "duration": 10,
        "start_time": "2024-04-27T13:01:33.075Z"
      },
      {
        "duration": 8193,
        "start_time": "2024-04-27T13:01:33.087Z"
      },
      {
        "duration": 849049,
        "start_time": "2024-04-27T13:01:41.281Z"
      },
      {
        "duration": 72754,
        "start_time": "2024-04-27T13:15:50.331Z"
      },
      {
        "duration": 87,
        "start_time": "2024-04-27T13:17:03.087Z"
      },
      {
        "duration": 250,
        "start_time": "2024-04-27T13:17:03.180Z"
      },
      {
        "duration": 0,
        "start_time": "2024-04-27T13:17:03.431Z"
      },
      {
        "duration": 0,
        "start_time": "2024-04-27T13:17:03.432Z"
      },
      {
        "duration": 0,
        "start_time": "2024-04-27T13:17:03.433Z"
      },
      {
        "duration": 751,
        "start_time": "2024-04-27T13:19:05.211Z"
      },
      {
        "duration": 4086,
        "start_time": "2024-04-27T13:20:29.611Z"
      },
      {
        "duration": 2,
        "start_time": "2024-04-27T13:20:33.699Z"
      },
      {
        "duration": 978,
        "start_time": "2024-04-27T13:20:33.703Z"
      },
      {
        "duration": 153,
        "start_time": "2024-04-27T13:20:34.683Z"
      },
      {
        "duration": 17,
        "start_time": "2024-04-27T13:20:34.838Z"
      },
      {
        "duration": 111,
        "start_time": "2024-04-27T13:20:34.870Z"
      },
      {
        "duration": 992,
        "start_time": "2024-04-27T13:20:34.983Z"
      },
      {
        "duration": 166,
        "start_time": "2024-04-27T13:20:35.977Z"
      },
      {
        "duration": 334,
        "start_time": "2024-04-27T13:20:36.145Z"
      },
      {
        "duration": 465,
        "start_time": "2024-04-27T13:20:36.481Z"
      },
      {
        "duration": 33,
        "start_time": "2024-04-27T13:20:36.947Z"
      },
      {
        "duration": 51,
        "start_time": "2024-04-27T13:20:36.981Z"
      },
      {
        "duration": 42,
        "start_time": "2024-04-27T13:20:37.034Z"
      },
      {
        "duration": 234,
        "start_time": "2024-04-27T13:20:37.080Z"
      },
      {
        "duration": 4,
        "start_time": "2024-04-27T13:20:37.316Z"
      },
      {
        "duration": 492,
        "start_time": "2024-04-27T13:20:37.321Z"
      },
      {
        "duration": 21,
        "start_time": "2024-04-27T13:20:37.815Z"
      },
      {
        "duration": 233,
        "start_time": "2024-04-27T13:20:37.838Z"
      },
      {
        "duration": 377,
        "start_time": "2024-04-27T13:20:38.072Z"
      },
      {
        "duration": 30,
        "start_time": "2024-04-27T13:20:38.451Z"
      },
      {
        "duration": 93,
        "start_time": "2024-04-27T13:20:38.483Z"
      },
      {
        "duration": 12221,
        "start_time": "2024-04-27T13:20:38.578Z"
      },
      {
        "duration": 25,
        "start_time": "2024-04-27T13:20:50.800Z"
      },
      {
        "duration": 60,
        "start_time": "2024-04-27T13:20:50.827Z"
      },
      {
        "duration": 470,
        "start_time": "2024-04-27T13:20:50.889Z"
      },
      {
        "duration": 182,
        "start_time": "2024-04-27T13:20:51.365Z"
      },
      {
        "duration": 34,
        "start_time": "2024-04-27T13:20:51.549Z"
      },
      {
        "duration": 62,
        "start_time": "2024-04-27T13:20:51.585Z"
      },
      {
        "duration": 138,
        "start_time": "2024-04-27T13:20:51.649Z"
      },
      {
        "duration": 474,
        "start_time": "2024-04-27T13:20:51.788Z"
      },
      {
        "duration": 114,
        "start_time": "2024-04-27T13:20:52.270Z"
      },
      {
        "duration": 226,
        "start_time": "2024-04-27T13:20:52.386Z"
      },
      {
        "duration": 175,
        "start_time": "2024-04-27T13:20:52.614Z"
      },
      {
        "duration": 306,
        "start_time": "2024-04-27T13:20:52.791Z"
      },
      {
        "duration": 138,
        "start_time": "2024-04-27T13:20:53.099Z"
      },
      {
        "duration": 112,
        "start_time": "2024-04-27T13:20:53.239Z"
      },
      {
        "duration": 95,
        "start_time": "2024-04-27T13:20:53.353Z"
      },
      {
        "duration": 22,
        "start_time": "2024-04-27T13:20:53.449Z"
      },
      {
        "duration": 6321,
        "start_time": "2024-04-27T13:20:53.472Z"
      },
      {
        "duration": 84,
        "start_time": "2024-04-27T13:20:59.794Z"
      },
      {
        "duration": 2,
        "start_time": "2024-04-27T13:20:59.882Z"
      },
      {
        "duration": 45,
        "start_time": "2024-04-27T13:20:59.886Z"
      },
      {
        "duration": 102,
        "start_time": "2024-04-27T13:20:59.933Z"
      },
      {
        "duration": 3,
        "start_time": "2024-04-27T13:21:00.038Z"
      },
      {
        "duration": 135,
        "start_time": "2024-04-27T13:21:00.042Z"
      },
      {
        "duration": 912,
        "start_time": "2024-04-27T13:21:00.178Z"
      },
      {
        "duration": 4,
        "start_time": "2024-04-27T13:21:01.091Z"
      },
      {
        "duration": 353,
        "start_time": "2024-04-27T13:21:01.096Z"
      },
      {
        "duration": 168540,
        "start_time": "2024-04-27T13:21:01.451Z"
      },
      {
        "duration": 572,
        "start_time": "2024-04-27T13:23:49.993Z"
      },
      {
        "duration": 3,
        "start_time": "2024-04-27T13:23:50.569Z"
      },
      {
        "duration": 21,
        "start_time": "2024-04-27T13:23:50.574Z"
      },
      {
        "duration": 53643,
        "start_time": "2024-04-27T13:23:50.596Z"
      },
      {
        "duration": 2666,
        "start_time": "2024-04-27T13:24:44.241Z"
      },
      {
        "duration": 15665,
        "start_time": "2024-04-27T13:24:46.909Z"
      },
      {
        "duration": 10,
        "start_time": "2024-04-27T13:25:02.576Z"
      },
      {
        "duration": 38201,
        "start_time": "2024-04-27T13:25:02.588Z"
      },
      {
        "duration": 847003,
        "start_time": "2024-04-27T13:25:40.791Z"
      },
      {
        "duration": 72844,
        "start_time": "2024-04-27T13:39:47.796Z"
      },
      {
        "duration": 19,
        "start_time": "2024-04-27T13:41:00.642Z"
      },
      {
        "duration": 805,
        "start_time": "2024-04-27T13:41:00.662Z"
      },
      {
        "duration": 72377,
        "start_time": "2024-04-27T13:41:01.469Z"
      },
      {
        "duration": 3,
        "start_time": "2024-04-27T13:42:13.847Z"
      },
      {
        "duration": 138,
        "start_time": "2024-04-27T13:42:13.851Z"
      },
      {
        "duration": 4,
        "start_time": "2024-04-27T13:46:08.741Z"
      },
      {
        "duration": 8,
        "start_time": "2024-04-27T13:46:23.230Z"
      },
      {
        "duration": 9,
        "start_time": "2024-04-27T13:46:58.200Z"
      },
      {
        "duration": 4,
        "start_time": "2024-04-27T13:47:34.941Z"
      },
      {
        "duration": 9,
        "start_time": "2024-04-27T13:47:42.558Z"
      },
      {
        "duration": 247,
        "start_time": "2024-04-27T13:47:47.101Z"
      },
      {
        "duration": 5,
        "start_time": "2024-04-27T13:48:00.480Z"
      },
      {
        "duration": 116,
        "start_time": "2024-04-27T13:48:04.240Z"
      },
      {
        "duration": 9,
        "start_time": "2024-04-27T13:48:32.340Z"
      },
      {
        "duration": 3,
        "start_time": "2024-04-27T13:48:35.429Z"
      },
      {
        "duration": 9,
        "start_time": "2024-04-27T13:48:37.218Z"
      },
      {
        "duration": 3,
        "start_time": "2024-04-27T13:48:42.659Z"
      },
      {
        "duration": 4,
        "start_time": "2024-04-27T13:48:44.922Z"
      },
      {
        "duration": 861,
        "start_time": "2024-04-27T13:48:56.630Z"
      },
      {
        "duration": 405,
        "start_time": "2024-04-27T13:49:05.081Z"
      },
      {
        "duration": 312,
        "start_time": "2024-04-27T13:49:15.783Z"
      },
      {
        "duration": 439,
        "start_time": "2024-04-27T13:49:20.389Z"
      },
      {
        "duration": 3,
        "start_time": "2024-04-27T13:49:39.536Z"
      },
      {
        "duration": 871,
        "start_time": "2024-04-27T13:49:40.154Z"
      },
      {
        "duration": 142,
        "start_time": "2024-04-27T13:49:42.729Z"
      },
      {
        "duration": 15,
        "start_time": "2024-04-27T13:49:43.329Z"
      },
      {
        "duration": 83,
        "start_time": "2024-04-27T13:49:43.610Z"
      },
      {
        "duration": 858,
        "start_time": "2024-04-27T13:49:43.866Z"
      },
      {
        "duration": 144,
        "start_time": "2024-04-27T13:49:44.726Z"
      },
      {
        "duration": 314,
        "start_time": "2024-04-27T13:49:44.872Z"
      },
      {
        "duration": 435,
        "start_time": "2024-04-27T13:49:45.188Z"
      },
      {
        "duration": 17,
        "start_time": "2024-04-27T13:49:47.069Z"
      },
      {
        "duration": 4,
        "start_time": "2024-04-27T13:49:48.288Z"
      },
      {
        "duration": 25,
        "start_time": "2024-04-27T13:49:48.770Z"
      },
      {
        "duration": 223,
        "start_time": "2024-04-27T13:49:49.197Z"
      },
      {
        "duration": 6,
        "start_time": "2024-04-27T13:49:50.130Z"
      },
      {
        "duration": 521,
        "start_time": "2024-04-27T13:49:50.830Z"
      },
      {
        "duration": 33,
        "start_time": "2024-04-27T13:49:51.353Z"
      },
      {
        "duration": 307,
        "start_time": "2024-04-27T13:49:51.510Z"
      },
      {
        "duration": 378,
        "start_time": "2024-04-27T13:49:52.709Z"
      },
      {
        "duration": 24,
        "start_time": "2024-04-27T13:49:53.240Z"
      },
      {
        "duration": 83,
        "start_time": "2024-04-27T13:49:53.714Z"
      },
      {
        "duration": 11738,
        "start_time": "2024-04-27T13:49:53.929Z"
      },
      {
        "duration": 26,
        "start_time": "2024-04-27T13:50:05.670Z"
      },
      {
        "duration": 30,
        "start_time": "2024-04-27T13:50:05.698Z"
      },
      {
        "duration": 486,
        "start_time": "2024-04-27T13:50:05.731Z"
      },
      {
        "duration": 180,
        "start_time": "2024-04-27T13:50:06.219Z"
      },
      {
        "duration": 24,
        "start_time": "2024-04-27T13:50:06.401Z"
      },
      {
        "duration": 43,
        "start_time": "2024-04-27T13:50:06.427Z"
      },
      {
        "duration": 132,
        "start_time": "2024-04-27T13:50:06.471Z"
      },
      {
        "duration": 433,
        "start_time": "2024-04-27T13:50:06.605Z"
      },
      {
        "duration": 92,
        "start_time": "2024-04-27T13:50:07.040Z"
      },
      {
        "duration": 226,
        "start_time": "2024-04-27T13:50:07.134Z"
      },
      {
        "duration": 145,
        "start_time": "2024-04-27T13:50:07.361Z"
      },
      {
        "duration": 3,
        "start_time": "2024-04-27T13:50:07.507Z"
      },
      {
        "duration": 288,
        "start_time": "2024-04-27T13:50:07.512Z"
      },
      {
        "duration": 2,
        "start_time": "2024-04-27T13:50:07.802Z"
      },
      {
        "duration": 48,
        "start_time": "2024-04-27T13:50:07.806Z"
      },
      {
        "duration": 117,
        "start_time": "2024-04-27T13:51:52.282Z"
      },
      {
        "duration": 2441,
        "start_time": "2024-04-27T13:52:29.779Z"
      },
      {
        "duration": 3,
        "start_time": "2024-04-27T13:52:32.223Z"
      },
      {
        "duration": 854,
        "start_time": "2024-04-27T13:52:32.228Z"
      },
      {
        "duration": 155,
        "start_time": "2024-04-27T13:52:33.084Z"
      },
      {
        "duration": 14,
        "start_time": "2024-04-27T13:52:33.460Z"
      },
      {
        "duration": 82,
        "start_time": "2024-04-27T13:52:33.698Z"
      },
      {
        "duration": 853,
        "start_time": "2024-04-27T13:52:33.930Z"
      },
      {
        "duration": 142,
        "start_time": "2024-04-27T13:52:34.785Z"
      },
      {
        "duration": 315,
        "start_time": "2024-04-27T13:52:34.929Z"
      },
      {
        "duration": 421,
        "start_time": "2024-04-27T13:52:35.246Z"
      },
      {
        "duration": 16,
        "start_time": "2024-04-27T13:52:37.119Z"
      },
      {
        "duration": 3,
        "start_time": "2024-04-27T13:52:38.270Z"
      },
      {
        "duration": 23,
        "start_time": "2024-04-27T13:52:38.740Z"
      },
      {
        "duration": 237,
        "start_time": "2024-04-27T13:52:39.202Z"
      },
      {
        "duration": 5,
        "start_time": "2024-04-27T13:52:40.131Z"
      },
      {
        "duration": 634,
        "start_time": "2024-04-27T13:52:40.588Z"
      },
      {
        "duration": 22,
        "start_time": "2024-04-27T13:52:41.224Z"
      },
      {
        "duration": 228,
        "start_time": "2024-04-27T13:52:41.252Z"
      },
      {
        "duration": 355,
        "start_time": "2024-04-27T13:52:42.439Z"
      },
      {
        "duration": 22,
        "start_time": "2024-04-27T13:52:42.928Z"
      },
      {
        "duration": 78,
        "start_time": "2024-04-27T13:52:43.370Z"
      },
      {
        "duration": 11398,
        "start_time": "2024-04-27T13:52:43.610Z"
      },
      {
        "duration": 24,
        "start_time": "2024-04-27T13:52:55.010Z"
      },
      {
        "duration": 43,
        "start_time": "2024-04-27T13:52:55.036Z"
      },
      {
        "duration": 441,
        "start_time": "2024-04-27T13:52:55.081Z"
      },
      {
        "duration": 177,
        "start_time": "2024-04-27T13:52:55.524Z"
      },
      {
        "duration": 26,
        "start_time": "2024-04-27T13:52:55.703Z"
      },
      {
        "duration": 53,
        "start_time": "2024-04-27T13:52:55.731Z"
      },
      {
        "duration": 104,
        "start_time": "2024-04-27T13:52:55.786Z"
      },
      {
        "duration": 487,
        "start_time": "2024-04-27T13:52:55.892Z"
      },
      {
        "duration": 94,
        "start_time": "2024-04-27T13:52:56.381Z"
      },
      {
        "duration": 182,
        "start_time": "2024-04-27T13:52:56.477Z"
      },
      {
        "duration": 134,
        "start_time": "2024-04-27T13:52:56.660Z"
      },
      {
        "duration": 3,
        "start_time": "2024-04-27T13:52:56.795Z"
      },
      {
        "duration": 305,
        "start_time": "2024-04-27T13:52:56.799Z"
      },
      {
        "duration": 3,
        "start_time": "2024-04-27T13:53:12.098Z"
      },
      {
        "duration": 4,
        "start_time": "2024-04-27T13:53:13.000Z"
      },
      {
        "duration": 5968,
        "start_time": "2024-04-27T13:58:16.399Z"
      },
      {
        "duration": 2,
        "start_time": "2024-04-27T13:58:22.369Z"
      },
      {
        "duration": 901,
        "start_time": "2024-04-27T13:58:22.373Z"
      },
      {
        "duration": 139,
        "start_time": "2024-04-27T13:58:23.276Z"
      },
      {
        "duration": 14,
        "start_time": "2024-04-27T13:58:23.417Z"
      },
      {
        "duration": 148,
        "start_time": "2024-04-27T13:58:23.433Z"
      },
      {
        "duration": 924,
        "start_time": "2024-04-27T13:58:23.582Z"
      },
      {
        "duration": 141,
        "start_time": "2024-04-27T13:58:24.508Z"
      },
      {
        "duration": 310,
        "start_time": "2024-04-27T13:58:24.651Z"
      },
      {
        "duration": 485,
        "start_time": "2024-04-27T13:58:24.969Z"
      },
      {
        "duration": 24,
        "start_time": "2024-04-27T13:58:25.456Z"
      },
      {
        "duration": 8,
        "start_time": "2024-04-27T13:58:25.482Z"
      },
      {
        "duration": 51,
        "start_time": "2024-04-27T13:58:25.491Z"
      },
      {
        "duration": 206,
        "start_time": "2024-04-27T13:58:25.545Z"
      },
      {
        "duration": 4,
        "start_time": "2024-04-27T13:58:25.753Z"
      },
      {
        "duration": 441,
        "start_time": "2024-04-27T13:58:25.758Z"
      },
      {
        "duration": 32,
        "start_time": "2024-04-27T13:58:26.200Z"
      },
      {
        "duration": 199,
        "start_time": "2024-04-27T13:58:26.234Z"
      },
      {
        "duration": 378,
        "start_time": "2024-04-27T13:58:26.434Z"
      },
      {
        "duration": 34,
        "start_time": "2024-04-27T13:58:26.814Z"
      },
      {
        "duration": 92,
        "start_time": "2024-04-27T13:58:26.850Z"
      },
      {
        "duration": 11436,
        "start_time": "2024-04-27T13:58:26.944Z"
      },
      {
        "duration": 24,
        "start_time": "2024-04-27T13:58:38.382Z"
      },
      {
        "duration": 24,
        "start_time": "2024-04-27T13:58:38.408Z"
      },
      {
        "duration": 438,
        "start_time": "2024-04-27T13:58:38.434Z"
      },
      {
        "duration": 172,
        "start_time": "2024-04-27T13:58:38.874Z"
      },
      {
        "duration": 27,
        "start_time": "2024-04-27T13:58:39.047Z"
      },
      {
        "duration": 43,
        "start_time": "2024-04-27T13:58:39.076Z"
      },
      {
        "duration": 90,
        "start_time": "2024-04-27T13:58:39.121Z"
      },
      {
        "duration": 473,
        "start_time": "2024-04-27T13:58:39.213Z"
      },
      {
        "duration": 89,
        "start_time": "2024-04-27T13:58:39.688Z"
      },
      {
        "duration": 217,
        "start_time": "2024-04-27T13:58:39.779Z"
      },
      {
        "duration": 2,
        "start_time": "2024-04-27T13:58:39.998Z"
      },
      {
        "duration": 28,
        "start_time": "2024-04-27T13:58:40.001Z"
      },
      {
        "duration": 16,
        "start_time": "2024-04-27T13:58:40.030Z"
      },
      {
        "duration": 8,
        "start_time": "2024-04-27T13:58:40.048Z"
      },
      {
        "duration": 19,
        "start_time": "2024-04-27T13:58:40.058Z"
      },
      {
        "duration": 197,
        "start_time": "2024-04-27T13:58:40.079Z"
      },
      {
        "duration": 126,
        "start_time": "2024-04-27T13:58:40.277Z"
      },
      {
        "duration": 135,
        "start_time": "2024-04-27T13:58:40.405Z"
      },
      {
        "duration": 3,
        "start_time": "2024-04-27T13:58:40.544Z"
      },
      {
        "duration": 6489,
        "start_time": "2024-04-27T13:58:40.548Z"
      },
      {
        "duration": 88,
        "start_time": "2024-04-27T13:58:47.038Z"
      },
      {
        "duration": 6,
        "start_time": "2024-04-27T13:58:47.128Z"
      },
      {
        "duration": 4,
        "start_time": "2024-04-27T13:58:47.135Z"
      },
      {
        "duration": 98,
        "start_time": "2024-04-27T13:58:47.141Z"
      },
      {
        "duration": 3,
        "start_time": "2024-04-27T13:58:47.240Z"
      },
      {
        "duration": 96,
        "start_time": "2024-04-27T13:58:47.245Z"
      },
      {
        "duration": 980,
        "start_time": "2024-04-27T13:58:47.343Z"
      },
      {
        "duration": 3,
        "start_time": "2024-04-27T13:58:48.325Z"
      },
      {
        "duration": 11,
        "start_time": "2024-04-27T13:58:48.330Z"
      },
      {
        "duration": 194988,
        "start_time": "2024-04-27T13:58:48.342Z"
      },
      {
        "duration": 591,
        "start_time": "2024-04-27T14:02:03.332Z"
      },
      {
        "duration": 3,
        "start_time": "2024-04-27T14:02:03.925Z"
      },
      {
        "duration": 8,
        "start_time": "2024-04-27T14:02:03.929Z"
      },
      {
        "duration": 60710,
        "start_time": "2024-04-27T14:02:03.938Z"
      },
      {
        "duration": 2881,
        "start_time": "2024-04-27T14:03:04.650Z"
      },
      {
        "duration": 297747,
        "start_time": "2024-04-27T14:03:07.533Z"
      },
      {
        "duration": 10,
        "start_time": "2024-04-27T14:08:05.282Z"
      },
      {
        "duration": 179085,
        "start_time": "2024-04-27T14:08:05.293Z"
      },
      {
        "duration": 981505,
        "start_time": "2024-04-27T14:11:04.380Z"
      },
      {
        "duration": 79284,
        "start_time": "2024-04-27T14:27:25.887Z"
      },
      {
        "duration": 25,
        "start_time": "2024-04-27T14:28:45.173Z"
      },
      {
        "duration": 683,
        "start_time": "2024-04-27T14:28:45.200Z"
      },
      {
        "duration": 79723,
        "start_time": "2024-04-27T14:28:45.885Z"
      },
      {
        "duration": 3,
        "start_time": "2024-04-27T14:30:05.609Z"
      },
      {
        "duration": 29,
        "start_time": "2024-04-27T14:30:05.613Z"
      },
      {
        "duration": 133,
        "start_time": "2024-04-28T13:28:55.070Z"
      },
      {
        "duration": 5065,
        "start_time": "2024-04-28T13:29:07.179Z"
      },
      {
        "duration": 3,
        "start_time": "2024-04-28T13:29:16.751Z"
      },
      {
        "duration": 1164,
        "start_time": "2024-04-28T13:29:17.259Z"
      },
      {
        "duration": 150,
        "start_time": "2024-04-28T13:29:18.730Z"
      },
      {
        "duration": 15,
        "start_time": "2024-04-28T13:29:19.231Z"
      },
      {
        "duration": 91,
        "start_time": "2024-04-28T13:29:19.530Z"
      },
      {
        "duration": 884,
        "start_time": "2024-04-28T13:29:19.780Z"
      },
      {
        "duration": 137,
        "start_time": "2024-04-28T13:29:20.666Z"
      },
      {
        "duration": 328,
        "start_time": "2024-04-28T13:29:20.805Z"
      },
      {
        "duration": 431,
        "start_time": "2024-04-28T13:29:21.135Z"
      },
      {
        "duration": 25,
        "start_time": "2024-04-28T13:29:22.809Z"
      },
      {
        "duration": 5,
        "start_time": "2024-04-28T13:29:23.939Z"
      },
      {
        "duration": 41,
        "start_time": "2024-04-28T13:29:24.419Z"
      },
      {
        "duration": 199,
        "start_time": "2024-04-28T13:29:24.869Z"
      },
      {
        "duration": 4,
        "start_time": "2024-04-28T13:29:25.775Z"
      },
      {
        "duration": 420,
        "start_time": "2024-04-28T13:29:26.259Z"
      },
      {
        "duration": 23,
        "start_time": "2024-04-28T13:29:26.709Z"
      },
      {
        "duration": 179,
        "start_time": "2024-04-28T13:29:26.959Z"
      },
      {
        "duration": 356,
        "start_time": "2024-04-28T13:29:28.139Z"
      },
      {
        "duration": 21,
        "start_time": "2024-04-28T13:29:28.600Z"
      },
      {
        "duration": 74,
        "start_time": "2024-04-28T13:29:29.139Z"
      },
      {
        "duration": 10958,
        "start_time": "2024-04-28T13:29:29.349Z"
      },
      {
        "duration": 24,
        "start_time": "2024-04-28T13:29:40.309Z"
      },
      {
        "duration": 22,
        "start_time": "2024-04-28T13:29:40.335Z"
      },
      {
        "duration": 397,
        "start_time": "2024-04-28T13:29:40.359Z"
      },
      {
        "duration": 154,
        "start_time": "2024-04-28T13:29:40.758Z"
      },
      {
        "duration": 21,
        "start_time": "2024-04-28T13:29:40.914Z"
      },
      {
        "duration": 38,
        "start_time": "2024-04-28T13:29:40.936Z"
      },
      {
        "duration": 86,
        "start_time": "2024-04-28T13:29:40.976Z"
      },
      {
        "duration": 436,
        "start_time": "2024-04-28T13:29:41.064Z"
      },
      {
        "duration": 92,
        "start_time": "2024-04-28T13:29:41.502Z"
      },
      {
        "duration": 182,
        "start_time": "2024-04-28T13:29:41.595Z"
      },
      {
        "duration": 2,
        "start_time": "2024-04-28T13:29:41.778Z"
      },
      {
        "duration": 49,
        "start_time": "2024-04-28T13:29:41.782Z"
      },
      {
        "duration": 20,
        "start_time": "2024-04-28T13:29:41.833Z"
      },
      {
        "duration": 21,
        "start_time": "2024-04-28T13:29:41.855Z"
      },
      {
        "duration": 8,
        "start_time": "2024-04-28T13:29:41.878Z"
      },
      {
        "duration": 164,
        "start_time": "2024-04-28T13:29:41.888Z"
      },
      {
        "duration": 129,
        "start_time": "2024-04-28T13:29:42.054Z"
      },
      {
        "duration": 103,
        "start_time": "2024-04-28T13:29:42.185Z"
      },
      {
        "duration": 27,
        "start_time": "2024-04-28T13:29:42.290Z"
      },
      {
        "duration": 6088,
        "start_time": "2024-04-28T13:29:42.319Z"
      },
      {
        "duration": 83,
        "start_time": "2024-04-28T13:29:48.409Z"
      },
      {
        "duration": 2,
        "start_time": "2024-04-28T13:29:48.494Z"
      },
      {
        "duration": 2,
        "start_time": "2024-04-28T13:29:51.299Z"
      },
      {
        "duration": 87,
        "start_time": "2024-04-28T13:29:53.050Z"
      },
      {
        "duration": 3,
        "start_time": "2024-04-28T13:29:54.537Z"
      },
      {
        "duration": 78,
        "start_time": "2024-04-28T13:29:58.967Z"
      },
      {
        "duration": 862,
        "start_time": "2024-04-28T13:29:59.941Z"
      },
      {
        "duration": 4,
        "start_time": "2024-04-28T13:30:17.039Z"
      },
      {
        "duration": 4,
        "start_time": "2024-04-28T13:30:23.481Z"
      },
      {
        "duration": 185452,
        "start_time": "2024-04-28T13:30:25.629Z"
      },
      {
        "duration": 704,
        "start_time": "2024-04-28T13:33:45.460Z"
      },
      {
        "duration": 2,
        "start_time": "2024-04-28T13:34:15.761Z"
      },
      {
        "duration": 7,
        "start_time": "2024-04-28T13:34:46.780Z"
      },
      {
        "duration": 61805,
        "start_time": "2024-04-28T13:34:55.349Z"
      },
      {
        "duration": 3042,
        "start_time": "2024-04-28T13:36:26.082Z"
      },
      {
        "duration": 10525,
        "start_time": "2024-04-28T13:44:08.260Z"
      },
      {
        "duration": 4,
        "start_time": "2024-04-28T13:57:01.732Z"
      },
      {
        "duration": 2233719,
        "start_time": "2024-04-28T13:57:06.671Z"
      },
      {
        "duration": 3,
        "start_time": "2024-04-28T14:37:50.263Z"
      },
      {
        "duration": 2,
        "start_time": "2024-04-28T14:38:22.623Z"
      },
      {
        "duration": 350153,
        "start_time": "2024-04-28T14:39:22.851Z"
      },
      {
        "duration": 67,
        "start_time": "2024-04-28T14:54:28.862Z"
      },
      {
        "duration": 3,
        "start_time": "2024-04-28T14:56:20.405Z"
      },
      {
        "duration": 3,
        "start_time": "2024-04-28T14:56:25.624Z"
      },
      {
        "duration": 156,
        "start_time": "2024-04-28T14:56:37.622Z"
      },
      {
        "duration": 67,
        "start_time": "2024-04-28T14:57:04.721Z"
      },
      {
        "duration": 4,
        "start_time": "2024-04-28T14:57:17.812Z"
      },
      {
        "duration": 39316,
        "start_time": "2024-04-28T14:57:21.272Z"
      },
      {
        "duration": 3,
        "start_time": "2024-04-28T15:01:01.512Z"
      },
      {
        "duration": 38811,
        "start_time": "2024-04-28T15:01:18.822Z"
      },
      {
        "duration": 3,
        "start_time": "2024-04-28T15:03:00.083Z"
      },
      {
        "duration": 69,
        "start_time": "2024-04-28T15:03:17.551Z"
      },
      {
        "duration": 76,
        "start_time": "2024-04-28T15:03:35.873Z"
      },
      {
        "duration": 86,
        "start_time": "2024-04-28T15:03:41.783Z"
      },
      {
        "duration": 71,
        "start_time": "2024-04-28T15:04:48.932Z"
      },
      {
        "duration": 3,
        "start_time": "2024-04-28T15:07:03.072Z"
      },
      {
        "duration": 1215,
        "start_time": "2024-04-28T15:07:16.342Z"
      },
      {
        "duration": 68,
        "start_time": "2024-04-28T15:08:47.146Z"
      },
      {
        "duration": 1479,
        "start_time": "2024-04-28T15:10:14.302Z"
      },
      {
        "duration": 1649,
        "start_time": "2024-04-28T15:11:33.742Z"
      },
      {
        "duration": 40337,
        "start_time": "2024-04-28T15:12:55.560Z"
      },
      {
        "duration": 10,
        "start_time": "2024-04-28T15:14:30.102Z"
      },
      {
        "duration": 15,
        "start_time": "2024-04-28T15:14:52.271Z"
      },
      {
        "duration": 3,
        "start_time": "2024-04-28T15:15:18.931Z"
      },
      {
        "duration": 8175,
        "start_time": "2024-04-28T15:15:37.271Z"
      },
      {
        "duration": 354857,
        "start_time": "2024-04-28T15:15:56.742Z"
      },
      {
        "duration": 4,
        "start_time": "2024-04-28T15:28:29.902Z"
      },
      {
        "duration": 47338,
        "start_time": "2024-04-28T15:28:34.382Z"
      },
      {
        "duration": 7427,
        "start_time": "2024-04-28T15:29:49.672Z"
      },
      {
        "duration": 4,
        "start_time": "2024-04-28T15:30:57.813Z"
      },
      {
        "duration": 61852,
        "start_time": "2024-04-28T15:31:00.713Z"
      },
      {
        "duration": 2,
        "start_time": "2024-04-28T15:33:58.122Z"
      },
      {
        "duration": 86,
        "start_time": "2024-04-28T15:39:12.609Z"
      },
      {
        "duration": 65,
        "start_time": "2024-04-28T15:39:22.063Z"
      },
      {
        "duration": 72,
        "start_time": "2024-04-28T15:39:30.843Z"
      },
      {
        "duration": 11,
        "start_time": "2024-04-28T15:40:12.305Z"
      },
      {
        "duration": 9,
        "start_time": "2024-04-28T15:40:28.875Z"
      },
      {
        "duration": 8,
        "start_time": "2024-04-28T15:41:31.942Z"
      },
      {
        "duration": 62623,
        "start_time": "2024-04-28T15:42:04.753Z"
      },
      {
        "duration": 62846,
        "start_time": "2024-04-28T15:44:47.043Z"
      },
      {
        "duration": 62220,
        "start_time": "2024-04-28T15:46:37.609Z"
      },
      {
        "duration": 61790,
        "start_time": "2024-04-28T15:47:49.763Z"
      },
      {
        "duration": 62504,
        "start_time": "2024-04-28T15:50:26.253Z"
      },
      {
        "duration": 5,
        "start_time": "2024-04-28T15:54:01.143Z"
      },
      {
        "duration": 5,
        "start_time": "2024-04-28T15:54:15.009Z"
      },
      {
        "duration": 3,
        "start_time": "2024-04-28T15:54:56.791Z"
      },
      {
        "duration": 121870,
        "start_time": "2024-04-28T15:55:00.075Z"
      },
      {
        "duration": 23215,
        "start_time": "2024-04-28T15:58:33.442Z"
      },
      {
        "duration": 11,
        "start_time": "2024-04-28T15:59:04.281Z"
      },
      {
        "duration": 2375,
        "start_time": "2024-04-28T16:08:59.142Z"
      },
      {
        "duration": 3,
        "start_time": "2024-04-28T16:09:04.643Z"
      },
      {
        "duration": 814,
        "start_time": "2024-04-28T16:09:04.923Z"
      },
      {
        "duration": 144,
        "start_time": "2024-04-28T16:09:06.243Z"
      },
      {
        "duration": 14,
        "start_time": "2024-04-28T16:09:06.741Z"
      },
      {
        "duration": 83,
        "start_time": "2024-04-28T16:09:06.943Z"
      },
      {
        "duration": 796,
        "start_time": "2024-04-28T16:09:07.193Z"
      },
      {
        "duration": 140,
        "start_time": "2024-04-28T16:09:07.991Z"
      },
      {
        "duration": 316,
        "start_time": "2024-04-28T16:09:08.133Z"
      },
      {
        "duration": 393,
        "start_time": "2024-04-28T16:09:08.451Z"
      },
      {
        "duration": 15,
        "start_time": "2024-04-28T16:09:10.023Z"
      },
      {
        "duration": 4,
        "start_time": "2024-04-28T16:09:11.572Z"
      },
      {
        "duration": 22,
        "start_time": "2024-04-28T16:09:12.043Z"
      },
      {
        "duration": 204,
        "start_time": "2024-04-28T16:09:12.510Z"
      },
      {
        "duration": 3,
        "start_time": "2024-04-28T16:09:13.383Z"
      },
      {
        "duration": 499,
        "start_time": "2024-04-28T16:09:13.833Z"
      },
      {
        "duration": 22,
        "start_time": "2024-04-28T16:09:14.334Z"
      },
      {
        "duration": 186,
        "start_time": "2024-04-28T16:09:14.532Z"
      },
      {
        "duration": 349,
        "start_time": "2024-04-28T16:09:15.783Z"
      },
      {
        "duration": 21,
        "start_time": "2024-04-28T16:09:17.521Z"
      },
      {
        "duration": 79,
        "start_time": "2024-04-28T16:09:18.053Z"
      },
      {
        "duration": 11215,
        "start_time": "2024-04-28T16:09:18.303Z"
      },
      {
        "duration": 23,
        "start_time": "2024-04-28T16:09:29.520Z"
      },
      {
        "duration": 35,
        "start_time": "2024-04-28T16:09:29.545Z"
      },
      {
        "duration": 404,
        "start_time": "2024-04-28T16:09:29.582Z"
      },
      {
        "duration": 178,
        "start_time": "2024-04-28T16:09:29.987Z"
      },
      {
        "duration": 27,
        "start_time": "2024-04-28T16:09:30.166Z"
      },
      {
        "duration": 133,
        "start_time": "2024-04-28T16:09:30.195Z"
      },
      {
        "duration": 151,
        "start_time": "2024-04-28T16:09:30.329Z"
      },
      {
        "duration": 592,
        "start_time": "2024-04-28T16:09:30.482Z"
      },
      {
        "duration": 85,
        "start_time": "2024-04-28T16:09:31.077Z"
      },
      {
        "duration": 258,
        "start_time": "2024-04-28T16:09:31.163Z"
      },
      {
        "duration": 2,
        "start_time": "2024-04-28T16:09:31.422Z"
      },
      {
        "duration": 42,
        "start_time": "2024-04-28T16:09:31.425Z"
      },
      {
        "duration": 59,
        "start_time": "2024-04-28T16:09:31.468Z"
      },
      {
        "duration": 66,
        "start_time": "2024-04-28T16:09:31.529Z"
      },
      {
        "duration": 75,
        "start_time": "2024-04-28T16:09:31.596Z"
      },
      {
        "duration": 209,
        "start_time": "2024-04-28T16:09:31.673Z"
      },
      {
        "duration": 133,
        "start_time": "2024-04-28T16:09:31.883Z"
      },
      {
        "duration": 104,
        "start_time": "2024-04-28T16:09:32.019Z"
      },
      {
        "duration": 16,
        "start_time": "2024-04-28T16:09:32.124Z"
      },
      {
        "duration": 6079,
        "start_time": "2024-04-28T16:09:32.142Z"
      },
      {
        "duration": 90,
        "start_time": "2024-04-28T16:09:47.612Z"
      },
      {
        "duration": 3,
        "start_time": "2024-04-28T16:09:51.171Z"
      },
      {
        "duration": 3,
        "start_time": "2024-04-28T16:09:52.972Z"
      },
      {
        "duration": 76,
        "start_time": "2024-04-28T16:09:54.077Z"
      },
      {
        "duration": 4,
        "start_time": "2024-04-28T16:09:55.032Z"
      },
      {
        "duration": 72,
        "start_time": "2024-04-28T16:09:57.913Z"
      },
      {
        "duration": 851,
        "start_time": "2024-04-28T16:09:58.250Z"
      },
      {
        "duration": 3,
        "start_time": "2024-04-28T16:10:07.701Z"
      },
      {
        "duration": 4,
        "start_time": "2024-04-28T16:10:10.106Z"
      },
      {
        "duration": 190863,
        "start_time": "2024-04-28T16:10:12.163Z"
      },
      {
        "duration": 676,
        "start_time": "2024-04-28T16:13:23.029Z"
      },
      {
        "duration": 2,
        "start_time": "2024-04-28T16:13:23.707Z"
      },
      {
        "duration": 3,
        "start_time": "2024-04-28T16:15:31.793Z"
      },
      {
        "duration": 64621,
        "start_time": "2024-04-28T16:15:34.182Z"
      },
      {
        "duration": 3240,
        "start_time": "2024-04-28T16:16:38.804Z"
      },
      {
        "duration": 4,
        "start_time": "2024-04-28T16:17:07.303Z"
      },
      {
        "duration": 4,
        "start_time": "2024-04-28T16:17:37.291Z"
      },
      {
        "duration": 1284763,
        "start_time": "2024-04-28T16:17:43.222Z"
      },
      {
        "duration": 3,
        "start_time": "2024-04-28T16:39:07.987Z"
      },
      {
        "duration": 8,
        "start_time": "2024-04-28T16:39:08.074Z"
      },
      {
        "duration": 8702,
        "start_time": "2024-04-28T16:39:08.084Z"
      },
      {
        "duration": 3792,
        "start_time": "2024-04-28T17:08:38.918Z"
      },
      {
        "duration": 2,
        "start_time": "2024-04-28T17:08:42.712Z"
      },
      {
        "duration": 908,
        "start_time": "2024-04-28T17:08:42.716Z"
      },
      {
        "duration": 17,
        "start_time": "2024-04-28T17:08:43.626Z"
      },
      {
        "duration": 15,
        "start_time": "2024-04-28T17:08:43.645Z"
      },
      {
        "duration": 27,
        "start_time": "2024-04-28T17:08:43.674Z"
      },
      {
        "duration": 954,
        "start_time": "2024-04-28T17:08:43.702Z"
      },
      {
        "duration": 17,
        "start_time": "2024-04-28T17:08:44.658Z"
      },
      {
        "duration": 23,
        "start_time": "2024-04-28T17:08:44.677Z"
      },
      {
        "duration": 15,
        "start_time": "2024-04-28T17:08:44.702Z"
      },
      {
        "duration": 5,
        "start_time": "2024-04-28T17:08:44.719Z"
      },
      {
        "duration": 10,
        "start_time": "2024-04-28T17:08:44.726Z"
      },
      {
        "duration": 13,
        "start_time": "2024-04-28T17:08:44.737Z"
      },
      {
        "duration": 215,
        "start_time": "2024-04-28T17:08:44.753Z"
      },
      {
        "duration": 4,
        "start_time": "2024-04-28T17:08:44.973Z"
      },
      {
        "duration": 126,
        "start_time": "2024-04-28T17:08:44.979Z"
      },
      {
        "duration": 5,
        "start_time": "2024-04-28T17:08:45.106Z"
      },
      {
        "duration": 199,
        "start_time": "2024-04-28T17:08:45.113Z"
      },
      {
        "duration": 110,
        "start_time": "2024-04-28T17:08:45.313Z"
      },
      {
        "duration": 5,
        "start_time": "2024-04-28T17:08:45.425Z"
      },
      {
        "duration": 20,
        "start_time": "2024-04-28T17:08:45.431Z"
      },
      {
        "duration": 374,
        "start_time": "2024-04-28T17:08:45.452Z"
      },
      {
        "duration": 5,
        "start_time": "2024-04-28T17:08:45.828Z"
      },
      {
        "duration": 40,
        "start_time": "2024-04-28T17:08:45.835Z"
      },
      {
        "duration": 199,
        "start_time": "2024-04-28T17:08:45.876Z"
      },
      {
        "duration": 144,
        "start_time": "2024-04-28T17:08:46.076Z"
      },
      {
        "duration": 3,
        "start_time": "2024-04-28T17:08:46.221Z"
      },
      {
        "duration": 14,
        "start_time": "2024-04-28T17:08:46.226Z"
      },
      {
        "duration": 16,
        "start_time": "2024-04-28T17:08:46.242Z"
      },
      {
        "duration": 27,
        "start_time": "2024-04-28T17:08:46.259Z"
      },
      {
        "duration": 6,
        "start_time": "2024-04-28T17:08:46.287Z"
      },
      {
        "duration": 11,
        "start_time": "2024-04-28T17:08:46.295Z"
      },
      {
        "duration": 12,
        "start_time": "2024-04-28T17:08:46.308Z"
      },
      {
        "duration": 7,
        "start_time": "2024-04-28T17:08:46.322Z"
      },
      {
        "duration": 3,
        "start_time": "2024-04-28T17:08:46.374Z"
      },
      {
        "duration": 6,
        "start_time": "2024-04-28T17:08:46.378Z"
      },
      {
        "duration": 65,
        "start_time": "2024-04-28T17:08:46.386Z"
      },
      {
        "duration": 9,
        "start_time": "2024-04-28T17:08:46.474Z"
      },
      {
        "duration": 78,
        "start_time": "2024-04-28T17:08:46.485Z"
      },
      {
        "duration": 7,
        "start_time": "2024-04-28T17:08:46.564Z"
      },
      {
        "duration": 2,
        "start_time": "2024-04-28T17:08:46.575Z"
      },
      {
        "duration": 2837,
        "start_time": "2024-04-28T17:08:46.578Z"
      },
      {
        "duration": 12,
        "start_time": "2024-04-28T17:08:49.416Z"
      },
      {
        "duration": 10,
        "start_time": "2024-04-28T17:08:49.430Z"
      },
      {
        "duration": 4,
        "start_time": "2024-04-28T17:08:49.441Z"
      },
      {
        "duration": 12,
        "start_time": "2024-04-28T17:08:49.447Z"
      },
      {
        "duration": 4,
        "start_time": "2024-04-28T17:08:49.461Z"
      },
      {
        "duration": 9,
        "start_time": "2024-04-28T17:08:49.466Z"
      },
      {
        "duration": 20,
        "start_time": "2024-04-28T17:08:49.476Z"
      },
      {
        "duration": 3,
        "start_time": "2024-04-28T17:08:49.497Z"
      },
      {
        "duration": 14,
        "start_time": "2024-04-28T17:08:49.501Z"
      },
      {
        "duration": 5061,
        "start_time": "2024-04-28T17:08:49.516Z"
      },
      {
        "duration": 17,
        "start_time": "2024-04-28T17:08:54.578Z"
      },
      {
        "duration": 3,
        "start_time": "2024-04-28T17:08:54.596Z"
      },
      {
        "duration": 6,
        "start_time": "2024-04-28T17:08:54.600Z"
      },
      {
        "duration": 1123,
        "start_time": "2024-04-28T17:08:54.607Z"
      },
      {
        "duration": 50,
        "start_time": "2024-04-28T17:08:55.732Z"
      },
      {
        "duration": 3,
        "start_time": "2024-04-28T17:08:55.784Z"
      },
      {
        "duration": 7294,
        "start_time": "2024-04-28T17:08:55.788Z"
      },
      {
        "duration": 3,
        "start_time": "2024-04-28T17:09:03.084Z"
      },
      {
        "duration": 31,
        "start_time": "2024-04-28T17:09:03.088Z"
      },
      {
        "duration": 1360,
        "start_time": "2024-04-28T17:09:03.120Z"
      },
      {
        "duration": 3,
        "start_time": "2024-04-28T17:09:04.482Z"
      },
      {
        "duration": 21856,
        "start_time": "2024-04-28T17:09:04.486Z"
      },
      {
        "duration": 3,
        "start_time": "2024-04-28T17:09:26.343Z"
      },
      {
        "duration": 3907,
        "start_time": "2024-04-28T17:09:26.348Z"
      },
      {
        "duration": 108,
        "start_time": "2024-04-28T17:09:30.256Z"
      },
      {
        "duration": 0,
        "start_time": "2024-04-28T17:09:30.365Z"
      },
      {
        "duration": 0,
        "start_time": "2024-04-28T17:09:30.366Z"
      },
      {
        "duration": 0,
        "start_time": "2024-04-28T17:09:30.367Z"
      },
      {
        "duration": 0,
        "start_time": "2024-04-28T17:09:30.368Z"
      },
      {
        "duration": 11,
        "start_time": "2024-04-28T17:10:24.600Z"
      },
      {
        "duration": 21,
        "start_time": "2024-04-28T17:10:59.988Z"
      },
      {
        "duration": 575,
        "start_time": "2024-04-28T17:14:10.108Z"
      },
      {
        "duration": 3839,
        "start_time": "2024-04-28T17:14:36.978Z"
      },
      {
        "duration": 7,
        "start_time": "2024-04-28T17:17:16.440Z"
      },
      {
        "duration": 3842,
        "start_time": "2024-04-28T17:17:32.429Z"
      },
      {
        "duration": 2,
        "start_time": "2024-04-28T17:17:36.273Z"
      },
      {
        "duration": 884,
        "start_time": "2024-04-28T17:17:36.277Z"
      },
      {
        "duration": 18,
        "start_time": "2024-04-28T17:17:37.163Z"
      },
      {
        "duration": 16,
        "start_time": "2024-04-28T17:17:37.182Z"
      },
      {
        "duration": 26,
        "start_time": "2024-04-28T17:17:37.199Z"
      },
      {
        "duration": 970,
        "start_time": "2024-04-28T17:17:37.227Z"
      },
      {
        "duration": 12,
        "start_time": "2024-04-28T17:17:38.198Z"
      },
      {
        "duration": 24,
        "start_time": "2024-04-28T17:17:38.212Z"
      },
      {
        "duration": 13,
        "start_time": "2024-04-28T17:17:38.238Z"
      },
      {
        "duration": 25,
        "start_time": "2024-04-28T17:17:38.253Z"
      },
      {
        "duration": 11,
        "start_time": "2024-04-28T17:17:38.279Z"
      },
      {
        "duration": 7,
        "start_time": "2024-04-28T17:17:38.291Z"
      },
      {
        "duration": 182,
        "start_time": "2024-04-28T17:17:38.300Z"
      },
      {
        "duration": 4,
        "start_time": "2024-04-28T17:17:38.483Z"
      },
      {
        "duration": 128,
        "start_time": "2024-04-28T17:17:38.488Z"
      },
      {
        "duration": 5,
        "start_time": "2024-04-28T17:17:38.618Z"
      },
      {
        "duration": 184,
        "start_time": "2024-04-28T17:17:38.625Z"
      },
      {
        "duration": 114,
        "start_time": "2024-04-28T17:17:38.811Z"
      },
      {
        "duration": 6,
        "start_time": "2024-04-28T17:17:38.926Z"
      },
      {
        "duration": 22,
        "start_time": "2024-04-28T17:17:38.933Z"
      },
      {
        "duration": 370,
        "start_time": "2024-04-28T17:17:38.957Z"
      },
      {
        "duration": 5,
        "start_time": "2024-04-28T17:17:39.329Z"
      },
      {
        "duration": 35,
        "start_time": "2024-04-28T17:17:39.336Z"
      },
      {
        "duration": 138,
        "start_time": "2024-04-28T17:17:39.373Z"
      },
      {
        "duration": 146,
        "start_time": "2024-04-28T17:17:39.512Z"
      },
      {
        "duration": 4,
        "start_time": "2024-04-28T17:17:39.659Z"
      },
      {
        "duration": 8,
        "start_time": "2024-04-28T17:17:39.674Z"
      },
      {
        "duration": 11,
        "start_time": "2024-04-28T17:17:39.683Z"
      },
      {
        "duration": 16,
        "start_time": "2024-04-28T17:17:39.695Z"
      },
      {
        "duration": 7,
        "start_time": "2024-04-28T17:17:39.712Z"
      },
      {
        "duration": 11,
        "start_time": "2024-04-28T17:17:39.720Z"
      },
      {
        "duration": 16,
        "start_time": "2024-04-28T17:17:39.732Z"
      },
      {
        "duration": 17,
        "start_time": "2024-04-28T17:17:39.750Z"
      },
      {
        "duration": 11,
        "start_time": "2024-04-28T17:17:39.768Z"
      },
      {
        "duration": 4,
        "start_time": "2024-04-28T17:17:39.780Z"
      },
      {
        "duration": 4,
        "start_time": "2024-04-28T17:17:39.786Z"
      },
      {
        "duration": 11,
        "start_time": "2024-04-28T17:17:39.792Z"
      },
      {
        "duration": 8,
        "start_time": "2024-04-28T17:17:39.804Z"
      },
      {
        "duration": 8,
        "start_time": "2024-04-28T17:17:39.813Z"
      },
      {
        "duration": 3,
        "start_time": "2024-04-28T17:17:39.824Z"
      },
      {
        "duration": 2718,
        "start_time": "2024-04-28T17:17:39.829Z"
      },
      {
        "duration": 12,
        "start_time": "2024-04-28T17:17:42.549Z"
      },
      {
        "duration": 11,
        "start_time": "2024-04-28T17:17:42.563Z"
      },
      {
        "duration": 8,
        "start_time": "2024-04-28T17:17:42.575Z"
      },
      {
        "duration": 9,
        "start_time": "2024-04-28T17:17:42.584Z"
      },
      {
        "duration": 5,
        "start_time": "2024-04-28T17:17:42.594Z"
      },
      {
        "duration": 17,
        "start_time": "2024-04-28T17:17:42.601Z"
      },
      {
        "duration": 23,
        "start_time": "2024-04-28T17:17:42.619Z"
      },
      {
        "duration": 3,
        "start_time": "2024-04-28T17:17:42.644Z"
      },
      {
        "duration": 11,
        "start_time": "2024-04-28T17:17:42.649Z"
      },
      {
        "duration": 4266,
        "start_time": "2024-04-28T17:17:42.662Z"
      },
      {
        "duration": 16,
        "start_time": "2024-04-28T17:17:46.930Z"
      },
      {
        "duration": 16,
        "start_time": "2024-04-28T17:17:46.947Z"
      },
      {
        "duration": 28,
        "start_time": "2024-04-28T17:17:46.964Z"
      },
      {
        "duration": 1091,
        "start_time": "2024-04-28T17:17:46.994Z"
      },
      {
        "duration": 50,
        "start_time": "2024-04-28T17:17:48.087Z"
      },
      {
        "duration": 4,
        "start_time": "2024-04-28T17:17:48.141Z"
      },
      {
        "duration": 7730,
        "start_time": "2024-04-28T17:17:48.146Z"
      },
      {
        "duration": 2,
        "start_time": "2024-04-28T17:17:55.878Z"
      },
      {
        "duration": 38,
        "start_time": "2024-04-28T17:17:55.881Z"
      },
      {
        "duration": 1173,
        "start_time": "2024-04-28T17:17:55.920Z"
      },
      {
        "duration": 81,
        "start_time": "2024-04-28T17:17:57.094Z"
      },
      {
        "duration": 23024,
        "start_time": "2024-04-28T17:17:57.176Z"
      },
      {
        "duration": 3,
        "start_time": "2024-04-28T17:18:20.202Z"
      },
      {
        "duration": 3825,
        "start_time": "2024-04-28T17:18:20.206Z"
      },
      {
        "duration": 18,
        "start_time": "2024-04-28T17:18:24.033Z"
      },
      {
        "duration": 586,
        "start_time": "2024-04-28T17:18:24.052Z"
      },
      {
        "duration": 7,
        "start_time": "2024-04-28T17:18:24.640Z"
      },
      {
        "duration": 28,
        "start_time": "2024-04-28T17:18:24.649Z"
      },
      {
        "duration": 27,
        "start_time": "2024-04-28T17:18:24.679Z"
      },
      {
        "duration": 3853,
        "start_time": "2024-04-28T17:19:59.045Z"
      },
      {
        "duration": 5,
        "start_time": "2024-04-28T17:20:02.900Z"
      },
      {
        "duration": 944,
        "start_time": "2024-04-28T17:20:02.906Z"
      },
      {
        "duration": 147,
        "start_time": "2024-04-28T17:20:03.852Z"
      },
      {
        "duration": 31,
        "start_time": "2024-04-28T17:20:04.001Z"
      },
      {
        "duration": 100,
        "start_time": "2024-04-28T17:20:04.033Z"
      },
      {
        "duration": 890,
        "start_time": "2024-04-28T17:20:04.135Z"
      },
      {
        "duration": 136,
        "start_time": "2024-04-28T17:20:05.026Z"
      },
      {
        "duration": 302,
        "start_time": "2024-04-28T17:20:05.164Z"
      },
      {
        "duration": 458,
        "start_time": "2024-04-28T17:20:05.474Z"
      },
      {
        "duration": 23,
        "start_time": "2024-04-28T17:20:05.934Z"
      },
      {
        "duration": 17,
        "start_time": "2024-04-28T17:20:05.959Z"
      },
      {
        "duration": 36,
        "start_time": "2024-04-28T17:20:05.978Z"
      },
      {
        "duration": 223,
        "start_time": "2024-04-28T17:20:06.015Z"
      },
      {
        "duration": 3,
        "start_time": "2024-04-28T17:20:06.240Z"
      },
      {
        "duration": 446,
        "start_time": "2024-04-28T17:20:06.245Z"
      },
      {
        "duration": 31,
        "start_time": "2024-04-28T17:20:06.692Z"
      },
      {
        "duration": 204,
        "start_time": "2024-04-28T17:20:06.725Z"
      },
      {
        "duration": 357,
        "start_time": "2024-04-28T17:20:06.930Z"
      },
      {
        "duration": 30,
        "start_time": "2024-04-28T17:20:07.289Z"
      },
      {
        "duration": 88,
        "start_time": "2024-04-28T17:20:07.320Z"
      },
      {
        "duration": 11083,
        "start_time": "2024-04-28T17:20:07.409Z"
      },
      {
        "duration": 23,
        "start_time": "2024-04-28T17:20:18.493Z"
      },
      {
        "duration": 24,
        "start_time": "2024-04-28T17:20:18.517Z"
      },
      {
        "duration": 399,
        "start_time": "2024-04-28T17:20:18.543Z"
      },
      {
        "duration": 170,
        "start_time": "2024-04-28T17:20:18.944Z"
      },
      {
        "duration": 23,
        "start_time": "2024-04-28T17:20:19.116Z"
      },
      {
        "duration": 51,
        "start_time": "2024-04-28T17:20:19.144Z"
      },
      {
        "duration": 97,
        "start_time": "2024-04-28T17:20:19.197Z"
      },
      {
        "duration": 431,
        "start_time": "2024-04-28T17:20:19.296Z"
      },
      {
        "duration": 87,
        "start_time": "2024-04-28T17:20:19.728Z"
      },
      {
        "duration": 185,
        "start_time": "2024-04-28T17:20:19.816Z"
      },
      {
        "duration": 3,
        "start_time": "2024-04-28T17:20:20.003Z"
      },
      {
        "duration": 39,
        "start_time": "2024-04-28T17:20:20.007Z"
      },
      {
        "duration": 46,
        "start_time": "2024-04-28T17:20:20.048Z"
      },
      {
        "duration": 34,
        "start_time": "2024-04-28T17:20:20.096Z"
      },
      {
        "duration": 35,
        "start_time": "2024-04-28T17:20:20.132Z"
      },
      {
        "duration": 195,
        "start_time": "2024-04-28T17:20:20.169Z"
      },
      {
        "duration": 116,
        "start_time": "2024-04-28T17:20:20.366Z"
      },
      {
        "duration": 108,
        "start_time": "2024-04-28T17:20:20.483Z"
      },
      {
        "duration": 22,
        "start_time": "2024-04-28T17:20:20.593Z"
      },
      {
        "duration": 6114,
        "start_time": "2024-04-28T17:20:20.617Z"
      },
      {
        "duration": 84,
        "start_time": "2024-04-28T17:20:26.732Z"
      },
      {
        "duration": 1,
        "start_time": "2024-04-28T17:20:26.818Z"
      },
      {
        "duration": 9,
        "start_time": "2024-04-28T17:20:26.821Z"
      },
      {
        "duration": 92,
        "start_time": "2024-04-28T17:20:26.832Z"
      },
      {
        "duration": 4,
        "start_time": "2024-04-28T17:20:26.925Z"
      },
      {
        "duration": 90,
        "start_time": "2024-04-28T17:20:26.930Z"
      },
      {
        "duration": 867,
        "start_time": "2024-04-28T17:20:27.021Z"
      },
      {
        "duration": 3,
        "start_time": "2024-04-28T17:20:27.890Z"
      },
      {
        "duration": 22,
        "start_time": "2024-04-28T17:20:27.895Z"
      },
      {
        "duration": 188572,
        "start_time": "2024-04-28T17:20:27.919Z"
      },
      {
        "duration": 607,
        "start_time": "2024-04-28T17:23:36.493Z"
      },
      {
        "duration": 2,
        "start_time": "2024-04-28T17:23:37.101Z"
      },
      {
        "duration": 30,
        "start_time": "2024-04-28T17:23:37.105Z"
      },
      {
        "duration": 58976,
        "start_time": "2024-04-28T17:23:37.137Z"
      },
      {
        "duration": 2992,
        "start_time": "2024-04-28T17:24:36.115Z"
      },
      {
        "duration": 3,
        "start_time": "2024-04-28T17:24:39.108Z"
      },
      {
        "duration": 38670,
        "start_time": "2024-04-28T17:24:39.113Z"
      },
      {
        "duration": 3,
        "start_time": "2024-04-28T17:25:17.784Z"
      },
      {
        "duration": 59,
        "start_time": "2024-04-28T17:25:17.788Z"
      },
      {
        "duration": 9059,
        "start_time": "2024-04-28T17:25:17.848Z"
      },
      {
        "duration": 3,
        "start_time": "2024-04-28T17:25:26.974Z"
      },
      {
        "duration": 116405,
        "start_time": "2024-04-28T17:25:26.978Z"
      },
      {
        "duration": 2,
        "start_time": "2024-04-28T17:27:23.385Z"
      },
      {
        "duration": 21941,
        "start_time": "2024-04-28T17:27:23.388Z"
      },
      {
        "duration": 18,
        "start_time": "2024-04-28T17:27:45.330Z"
      },
      {
        "duration": 611,
        "start_time": "2024-04-28T17:27:45.349Z"
      },
      {
        "duration": 126,
        "start_time": "2024-04-28T17:27:45.962Z"
      },
      {
        "duration": 2,
        "start_time": "2024-04-28T17:27:46.090Z"
      },
      {
        "duration": 13,
        "start_time": "2024-04-28T17:27:46.093Z"
      }
    ],
    "kernelspec": {
      "display_name": "Python 3 (ipykernel)",
      "language": "python",
      "name": "python3"
    },
    "language_info": {
      "codemirror_mode": {
        "name": "ipython",
        "version": 3
      },
      "file_extension": ".py",
      "mimetype": "text/x-python",
      "name": "python",
      "nbconvert_exporter": "python",
      "pygments_lexer": "ipython3",
      "version": "3.9.5"
    },
    "toc": {
      "base_numbering": 1,
      "nav_menu": {},
      "number_sections": true,
      "sideBar": true,
      "skip_h1_title": true,
      "title_cell": "Table of Contents",
      "title_sidebar": "Contents",
      "toc_cell": false,
      "toc_position": {
        "height": "calc(100% - 180px)",
        "left": "10px",
        "top": "150px",
        "width": "341px"
      },
      "toc_section_display": true,
      "toc_window_display": true
    },
    "colab": {
      "provenance": []
    }
  },
  "nbformat": 4,
  "nbformat_minor": 0
}