{
 "cells": [
  {
   "cell_type": "code",
   "execution_count": null,
   "id": "d18bded7-d45d-4ed9-8286-f3886ae9c964",
   "metadata": {},
   "outputs": [],
   "source": []
  }
 ],
 "metadata": {
  "kernelspec": {
   "display_name": "Python 3 (ipykernel)",
   "language": "python",
   "name": "python3"
  },
  "language_info": {
   "name": ""
  }
 },
 "nbformat": 4,
 "nbformat_minor": 5
}
