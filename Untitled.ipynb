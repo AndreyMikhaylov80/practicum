{
 "cells": [
  {
   "cell_type": "code",
   "execution_count": null,
   "id": "d18bded7-d45d-4ed9-8286-f3886ae9c964",
   "metadata": {},
   "outputs": [],
   "source": [
    "from io import BytesIO\n",
    "import requests\n",
    "spreadsheet_id = '<1inZ0yk7SVS-H7UdhTWnXCbzQj8fxrap9hMz0Hd1nHKs>'\n",
    "file_name = 'https://docs.google.com/spreadsheets/d/{}/export?format=csv'.format(spreadsheet_id)\n",
    "r = requests.get(file_name)\n",
    "df = pd.read_csv(BytesIO(r.content))\n",
    "df "
   ]
  },
  {
   "cell_type": "code",
   "execution_count": null,
   "id": "778a7112-e681-4d88-b81b-bb6ddea53676",
   "metadata": {},
   "outputs": [],
   "source": []
  }
 ],
 "metadata": {
  "kernelspec": {
   "display_name": "Python 3 (ipykernel)",
   "language": "python",
   "name": "python3"
  },
  "language_info": {
   "name": ""
  }
 },
 "nbformat": 4,
 "nbformat_minor": 5
}
