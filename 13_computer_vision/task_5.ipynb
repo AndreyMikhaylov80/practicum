{
  "nbformat": 4,
  "nbformat_minor": 0,
  "metadata": {
    "colab": {
      "provenance": []
    },
    "kernelspec": {
      "name": "python3",
      "display_name": "Python 3"
    },
    "language_info": {
      "name": "python"
    }
  },
  "cells": [
    {
      "cell_type": "code",
      "execution_count": null,
      "metadata": {
        "id": "jQIj_NdLmn2M"
      },
      "outputs": [],
      "source": [
        "import numpy as np\n",
        "from tensorflow.keras.preprocessing.image import ImageDataGenerator\n",
        "from tensorflow.keras.layers import Dense, GlobalMaxPooling2D, GlobalAveragePooling2D\n",
        "from tensorflow.keras.models import Sequential\n",
        "from tensorflow.keras.optimizers import Adam\n",
        "from tensorflow.keras.applications.resnet import ResNet50\n",
        "import pandas as pd"
      ]
    },
    {
      "cell_type": "code",
      "source": [
        "optimizer = Adam(lr=0.0001)"
      ],
      "metadata": {
        "id": "l_RTR12PyHBI"
      },
      "execution_count": null,
      "outputs": []
    },
    {
      "cell_type": "code",
      "source": [
        "def load_train(path):\n",
        "      df = pd.read_csv(path + 'labels.csv')\n",
        "      train_datagen = ImageDataGenerator(rescale=1./255,\n",
        "                                         horizontal_flip=True,\n",
        "                                         width_shift_range=0.2, height_shift_range=0.2,\n",
        "                                         validation_split=0.25\n",
        "                                         )\n",
        "      train_datagen_flow = train_datagen.flow_from_dataframe(\n",
        "              dataframe = df,\n",
        "              directory = path + 'final_files',\n",
        "              x_col = 'file_name',\n",
        "              y_col = 'real_age',\n",
        "              class_mode = 'raw',\n",
        "              target_size = (150,150),\n",
        "              batch_size = 32,\n",
        "              subset='training',\n",
        "              seed=12345\n",
        "              )\n",
        "      return train_datagen_flow"
      ],
      "metadata": {
        "id": "RZXfIwLMmuiy"
      },
      "execution_count": null,
      "outputs": []
    },
    {
      "cell_type": "code",
      "source": [
        "def load_test(path):\n",
        "      df = pd.read_csv(path + 'labels.csv')\n",
        "      test_datagen = ImageDataGenerator(rescale=1./255,\n",
        "                                        validation_split=0.25\n",
        "                                        )\n",
        "      test_datagen_flow = test_datagen.flow_from_dataframe(\n",
        "              dataframe = df,\n",
        "              directory = path + 'final_files',\n",
        "              x_col = 'file_name',\n",
        "              y_col = 'real_age',\n",
        "              class_mode = 'raw',\n",
        "              target_size = (150,150),\n",
        "              batch_size = 32,\n",
        "              subset='validation',\n",
        "              seed=12345\n",
        "              )\n",
        "      return test_datagen_flow"
      ],
      "metadata": {
        "id": "4EnS6DTu3hJB"
      },
      "execution_count": null,
      "outputs": []
    },
    {
      "cell_type": "code",
      "source": [
        "def create_model(input_shape):\n",
        "    backbone = ResNet50(input_shape=input_shape,\n",
        "                        weights='/datasets/keras_models/resnet50_weights_tf_dim_ordering_tf_kernels_notop.h5',\n",
        "                        include_top=False)\n",
        "\n",
        "    model = Sequential()\n",
        "    optimizer = Adam(lr=0.0001)\n",
        "\n",
        "    model.add(backbone)\n",
        "    model.add(GlobalAveragePooling2D())\n",
        "    model.add(Dense(32, activation='relu'))\n",
        "    #model.add(Dense(12, activation='relu'))\n",
        "    model.add(Dense(1, activation='relu'))\n",
        "    model.compile(optimizer=optimizer, loss='mean_squared_error',\n",
        "                  metrics=['mae']) #'sparse_categorical_crossentropy'\n",
        "    return model"
      ],
      "metadata": {
        "id": "84Wp-x4A4EYE"
      },
      "execution_count": null,
      "outputs": []
    },
    {
      "cell_type": "code",
      "source": [
        "def train_model(model, train_data, test_data, batch_size=32, epochs=20,\n",
        "                steps_per_epoch=None, validation_steps=None):\n",
        "\n",
        "    model.fit(train_data,\n",
        "              validation_data=test_data,\n",
        "              epochs=epochs,\n",
        "              steps_per_epoch=steps_per_epoch,\n",
        "              validation_steps=validation_steps,\n",
        "              verbose=2, shuffle=True)\n",
        "\n",
        "    return model"
      ],
      "metadata": {
        "id": "dFH1vgJ74Ot0"
      },
      "execution_count": null,
      "outputs": []
    }
  ]
}