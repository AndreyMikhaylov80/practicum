{
  "nbformat": 4,
  "nbformat_minor": 0,
  "metadata": {
    "colab": {
      "provenance": []
    },
    "kernelspec": {
      "name": "python3",
      "display_name": "Python 3"
    },
    "language_info": {
      "name": "python"
    }
  },
  "cells": [
    {
      "cell_type": "code",
      "execution_count": null,
      "metadata": {
        "id": "jQIj_NdLmn2M"
      },
      "outputs": [],
      "source": [
        "from tensorflow.keras import Sequential\n",
        "from tensorflow.keras.layers import Conv2D, Flatten, Dense, AvgPool2D\n",
        "from tensorflow.keras.optimizers import Adam\n",
        "import matplotlib.pyplot as plt\n",
        "import numpy as np"
      ]
    },
    {
      "cell_type": "code",
      "source": [
        "def load_train(path):\n",
        "    features_train = np.load(path + 'train_features.npy')\n",
        "    target_train = np.load(path + 'train_target.npy')\n",
        "    features_train = features_train.reshape(-1, 28, 28, 1) / 255.0\n",
        "    return features_train, target_train"
      ],
      "metadata": {
        "id": "RZXfIwLMmuiy"
      },
      "execution_count": null,
      "outputs": []
    },
    {
      "cell_type": "code",
      "source": [
        "def create_model(input_shape):\n",
        "    model = Sequential()\n",
        "\n",
        "    model.add(Conv2D(filters=6, kernel_size=(5, 5), padding='same',\n",
        "                 activation='tanh', input_shape=(28, 28, 1)))\n",
        "    model.add(AvgPool2D(pool_size=(2, 2)))\n",
        "\n",
        "    model.add(Conv2D(filters=16, kernel_size=(5, 5),\n",
        "                 activation='tanh', input_shape=(28, 28, 1)))\n",
        "    model.add(AvgPool2D(pool_size=(2, 2)))\n",
        "\n",
        "    model.add(Flatten())\n",
        "    model.add(Dense(units=120, activation='tanh'))\n",
        "    model.add(Dense(units=84, activation='tanh'))\n",
        "    model.add(Dense(units=10, activation='softmax'))\n",
        "\n",
        "    model.compile(loss='sparse_categorical_crossentropy', optimizer='sgd', metrics=['acc'])\n",
        "    model.summary()\n",
        "\n",
        "    return model"
      ],
      "metadata": {
        "id": "FQH9FzaJmx6E"
      },
      "execution_count": null,
      "outputs": []
    },
    {
      "cell_type": "code",
      "source": [
        "def train_model(model, train_data, test_data, batch_size=48, epochs=50,\n",
        "               steps_per_epoch=None, validation_steps=None):\n",
        "    optimizer = Adam(lr=0.001)\n",
        "    model.compile(optimizer=optimizer, loss='sparse_categorical_crossentropy',\n",
        "              metrics=['acc'])\n",
        "    features_train, target_train = train_data\n",
        "    features_test, target_test = test_data\n",
        "    model.fit(features_train, target_train,\n",
        "              validation_data=(features_test, target_test),\n",
        "              batch_size=batch_size, epochs=epochs,\n",
        "              steps_per_epoch=steps_per_epoch,\n",
        "              validation_steps=validation_steps,\n",
        "              verbose=2, shuffle=True)\n",
        "\n",
        "    return model"
      ],
      "metadata": {
        "id": "ORFt9lAcm1yD"
      },
      "execution_count": null,
      "outputs": []
    }
  ]
}