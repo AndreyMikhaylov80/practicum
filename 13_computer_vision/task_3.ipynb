{
  "nbformat": 4,
  "nbformat_minor": 0,
  "metadata": {
    "colab": {
      "provenance": []
    },
    "kernelspec": {
      "name": "python3",
      "display_name": "Python 3"
    },
    "language_info": {
      "name": "python"
    }
  },
  "cells": [
    {
      "cell_type": "code",
      "execution_count": null,
      "metadata": {
        "id": "jQIj_NdLmn2M"
      },
      "outputs": [],
      "source": [
        "from tensorflow.keras.datasets import fashion_mnist\n",
        "from tensorflow.keras.layers import Conv2D, Flatten, Dense, AvgPool2D\n",
        "from tensorflow.keras.models import Sequential\n",
        "from tensorflow.keras.optimizers import Adam\n",
        "from tensorflow.keras.preprocessing.image import ImageDataGenerator\n",
        "import matplotlib.pyplot as plt\n",
        "import numpy as np\n",
        "from sklearn.metrics import accuracy_score"
      ]
    },
    {
      "cell_type": "code",
      "source": [
        "def load_train(path):\n",
        "    train_datagen = ImageDataGenerator(\n",
        "    rescale=1./255,horizontal_flip=True, vertical_flip=True,\n",
        "                                        width_shift_range=0.2, height_shift_range=0.2)\n",
        "\n",
        "    train_datagen_flow = train_datagen.flow_from_directory(\n",
        "        path,\n",
        "        target_size=(150, 150),\n",
        "        batch_size=16,\n",
        "        class_mode='sparse',\n",
        "        subset='training',\n",
        "        seed=12345)\n",
        "\n",
        "    return train_datagen_flow"
      ],
      "metadata": {
        "id": "RZXfIwLMmuiy"
      },
      "execution_count": null,
      "outputs": []
    },
    {
      "cell_type": "code",
      "source": [
        "def create_model(input_shape):\n",
        "    model = Sequential()\n",
        "    optimizer = Adam(lr=0.001)\n",
        "\n",
        "\n",
        "    model.add(Conv2D(6, (5, 5), padding='same', activation='relu',\n",
        "                 input_shape=input_shape))\n",
        "    model.add(AvgPool2D(pool_size=(2, 2)))\n",
        "    model.add(Conv2D(16, (5, 5), padding='same', activation='relu'))\n",
        "    model.add(AvgPool2D(pool_size=(2, 2)))\n",
        "    model.add(Conv2D(26, (5, 5), padding='same', activation='relu'))\n",
        "    model.add(AvgPool2D(pool_size=(2, 2)))\n",
        "    model.add(Conv2D(36, (5, 5), padding='same', activation='relu'))\n",
        "    model.add(AvgPool2D(pool_size=(2, 2)))\n",
        "    model.add(Conv2D(46, (5, 5), padding='same', activation='relu'))\n",
        "    model.add(AvgPool2D(pool_size=(2, 2)))\n",
        "    model.add(Flatten())\n",
        "    model.add(Dense(units=46, activation='relu'))\n",
        "    model.add(Dense(units=24, activation='relu'))\n",
        "    model.add(Dense(units=12, activation='softmax'))\n",
        "\n",
        "\n",
        "    model.compile(optimizer=optimizer, loss='sparse_categorical_crossentropy',\n",
        "                  metrics=['acc'])\n",
        "    return model"
      ],
      "metadata": {
        "id": "FQH9FzaJmx6E"
      },
      "execution_count": null,
      "outputs": []
    },
    {
      "cell_type": "code",
      "source": [
        "def train_model(model, train_data, test_data, batch_size=None, epochs=10,\n",
        "                steps_per_epoch=None, validation_steps=None):\n",
        "    model.fit(train_data,\n",
        "              validation_data=test_data,\n",
        "              batch_size=batch_size, epochs=epochs,\n",
        "              steps_per_epoch=steps_per_epoch,\n",
        "              validation_steps=validation_steps,\n",
        "              verbose=2)\n",
        "    return model"
      ],
      "metadata": {
        "id": "ORFt9lAcm1yD"
      },
      "execution_count": null,
      "outputs": []
    }
  ]
}