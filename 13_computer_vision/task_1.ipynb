{
  "nbformat": 4,
  "nbformat_minor": 0,
  "metadata": {
    "colab": {
      "provenance": []
    },
    "kernelspec": {
      "name": "python3",
      "display_name": "Python 3"
    },
    "language_info": {
      "name": "python"
    }
  },
  "cells": [
    {
      "cell_type": "code",
      "execution_count": null,
      "metadata": {
        "id": "jQIj_NdLmn2M"
      },
      "outputs": [],
      "source": [
        "from tensorflow.keras.datasets import fashion_mnist\n",
        "from tensorflow.keras.optimizers import Adam\n",
        "from tensorflow.keras.layers import Dense\n",
        "from tensorflow.keras.models import Sequential\n",
        "import numpy as np"
      ]
    },
    {
      "cell_type": "code",
      "source": [
        "def load_train(path):\n",
        "    features_train = np.load(path + 'train_features.npy')\n",
        "    target_train = np.load(path + 'train_target.npy')\n",
        "    features_train = features_train.reshape(features_train.shape[0], 28 * 28) / 255.\n",
        "    return features_train, target_train"
      ],
      "metadata": {
        "id": "RZXfIwLMmuiy"
      },
      "execution_count": null,
      "outputs": []
    },
    {
      "cell_type": "code",
      "source": [
        "def create_model(input_shape):\n",
        "    model = Sequential()\n",
        "\n",
        "    model.add(Dense(units=500, input_shape=input_shape, activation=\"relu\"))\n",
        "    model.add(Dense(units=300, activation=\"relu\"))\n",
        "    model.add(Dense(units=10, activation='softmax'))\n",
        "    return model"
      ],
      "metadata": {
        "id": "FQH9FzaJmx6E"
      },
      "execution_count": null,
      "outputs": []
    },
    {
      "cell_type": "code",
      "source": [
        "def train_model(model, train_data, test_data, batch_size=48, epochs=50,\n",
        "               steps_per_epoch=None, validation_steps=None):\n",
        "    opt = Adam(lr=0.01) # set the learning rate to 0.01\n",
        "    model.compile(optimizer=opt, loss='sparse_categorical_crossentropy',\n",
        "              metrics=['acc'])\n",
        "    features_train, target_train = train_data\n",
        "    features_test, target_test = test_data\n",
        "    model.fit(features_train, target_train,\n",
        "              validation_data=(features_test, target_test),\n",
        "              batch_size=batch_size, epochs=epochs,\n",
        "              steps_per_epoch=steps_per_epoch,\n",
        "              validation_steps=validation_steps,\n",
        "              verbose=2, shuffle=True)\n",
        "\n",
        "    return model"
      ],
      "metadata": {
        "id": "ORFt9lAcm1yD"
      },
      "execution_count": null,
      "outputs": []
    }
  ]
}