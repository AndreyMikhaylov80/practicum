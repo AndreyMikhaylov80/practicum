{
  "cells": [
    {
      "cell_type": "markdown",
      "metadata": {
        "toc": true,
        "id": "h4-ze64pCalB"
      },
      "source": [
        "<h1>Содержание<span class=\"tocSkip\"></span></h1>\n",
        "<div class=\"toc\"><ul class=\"toc-item\"><li><span><a href=\"#Проект-для-«Викишоп»\" data-toc-modified-id=\"Проект-для-«Викишоп»-1\"><span class=\"toc-item-num\">1&nbsp;&nbsp;</span>Проект для «Викишоп»</a></span></li><li><span><a href=\"#Подготовка\" data-toc-modified-id=\"Подготовка-2\"><span class=\"toc-item-num\">2&nbsp;&nbsp;</span>Подготовка</a></span><ul class=\"toc-item\"><li><span><a href=\"#Лемматизация-текста\" data-toc-modified-id=\"Лемматизация-текста-2.1\"><span class=\"toc-item-num\">2.1&nbsp;&nbsp;</span>Лемматизация текста</a></span><ul class=\"toc-item\"><li><span><a href=\"#Многопоточная-лемматизация\" data-toc-modified-id=\"Многопоточная-лемматизация-2.1.1\"><span class=\"toc-item-num\">2.1.1&nbsp;&nbsp;</span>Многопоточная лемматизация</a></span></li></ul></li><li><span><a href=\"#Частотный-анализ-текста\" data-toc-modified-id=\"Частотный-анализ-текста-2.2\"><span class=\"toc-item-num\">2.2&nbsp;&nbsp;</span>Частотный анализ текста</a></span></li><li><span><a href=\"#Проверка-пустых-строк-и-дубликатов\" data-toc-modified-id=\"Проверка-пустых-строк-и-дубликатов-2.3\"><span class=\"toc-item-num\">2.3&nbsp;&nbsp;</span>Проверка пустых строк и дубликатов</a></span></li><li><span><a href=\"#Разбиение-выборок\" data-toc-modified-id=\"Разбиение-выборок-2.4\"><span class=\"toc-item-num\">2.4&nbsp;&nbsp;</span>Разбиение выборок</a></span></li><li><span><a href=\"#Удаление-стоп-слов-и-рассчёт-TF-IDF\" data-toc-modified-id=\"Удаление-стоп-слов-и-рассчёт-TF-IDF-2.5\"><span class=\"toc-item-num\">2.5&nbsp;&nbsp;</span>Удаление стоп-слов и рассчёт TF-IDF</a></span></li><li><span><a href=\"#Балансировка-классов\" data-toc-modified-id=\"Балансировка-классов-2.6\"><span class=\"toc-item-num\">2.6&nbsp;&nbsp;</span>Балансировка классов</a></span><ul class=\"toc-item\"><li><span><a href=\"#Определим-F1-на-кросвалидации-без-балансировки-классов\" data-toc-modified-id=\"Определим-F1-на-кросвалидации-без-балансировки-классов-2.6.1\"><span class=\"toc-item-num\">2.6.1&nbsp;&nbsp;</span>Определим F1 на кросвалидации без балансировки классов</a></span></li><li><span><a href=\"#Неявная-балансировка-class_weight='balanced'\" data-toc-modified-id=\"Неявная-балансировка-class_weight='balanced'-2.6.2\"><span class=\"toc-item-num\">2.6.2&nbsp;&nbsp;</span>Неявная балансировка class_weight='balanced'</a></span></li><li><span><a href=\"#Явная-балансировка-классов\" data-toc-modified-id=\"Явная-балансировка-классов-2.6.3\"><span class=\"toc-item-num\">2.6.3&nbsp;&nbsp;</span>Явная балансировка классов</a></span></li></ul></li><li><span><a href=\"#Вывод-по-подготовке-данных\" data-toc-modified-id=\"Вывод-по-подготовке-данных-2.7\"><span class=\"toc-item-num\">2.7&nbsp;&nbsp;</span>Вывод по подготовке данных</a></span></li></ul></li><li><span><a href=\"#Обучение\" data-toc-modified-id=\"Обучение-3\"><span class=\"toc-item-num\">3&nbsp;&nbsp;</span>Обучение</a></span><ul class=\"toc-item\"><li><span><a href=\"#LogisticRegression\" data-toc-modified-id=\"LogisticRegression-3.1\"><span class=\"toc-item-num\">3.1&nbsp;&nbsp;</span>LogisticRegression</a></span></li><li><span><a href=\"#DecisionTreeClassifier\" data-toc-modified-id=\"DecisionTreeClassifier-3.2\"><span class=\"toc-item-num\">3.2&nbsp;&nbsp;</span>DecisionTreeClassifier</a></span></li><li><span><a href=\"#SGDClassifier\" data-toc-modified-id=\"SGDClassifier-3.3\"><span class=\"toc-item-num\">3.3&nbsp;&nbsp;</span>SGDClassifier</a></span></li><li><span><a href=\"#Вывод-по-обучению\" data-toc-modified-id=\"Вывод-по-обучению-3.4\"><span class=\"toc-item-num\">3.4&nbsp;&nbsp;</span>Вывод по обучению</a></span></li><li><span><a href=\"#Финальное-тестирование:\" data-toc-modified-id=\"Финальное-тестирование:-3.5\"><span class=\"toc-item-num\">3.5&nbsp;&nbsp;</span>Финальное тестирование:</a></span></li></ul></li><li><span><a href=\"#Выводы\" data-toc-modified-id=\"Выводы-4\"><span class=\"toc-item-num\">4&nbsp;&nbsp;</span>Выводы</a></span></li><li><span><a href=\"#Чек-лист-проверки\" data-toc-modified-id=\"Чек-лист-проверки-5\"><span class=\"toc-item-num\">5&nbsp;&nbsp;</span>Чек-лист проверки</a></span></li></ul></div>"
      ]
    },
    {
      "cell_type": "markdown",
      "metadata": {
        "id": "g3bjRvukCalK"
      },
      "source": [
        "<div class=\"alert alert-info\">\n",
        "<font size=\"5\"><b>Комментарий ревьюера</b></font>\n",
        "\n",
        "Привет Андрей! Меня зовут Марат, и я буду твоим ревьюером. Спешу сообщить что все ключевые этапы в работе выполнены,  с задачей тебе удалось справиться. По поводу обращения - в IT сфере принято общаться на «ты» :) Но, если привычней на «вы», дай знать. Как ревьюера моя задача помочь тебе в развитии, дав хорошие советы. Я внимательно посмотрю твой код, ознакомлюсь с твоими выводами и оставлю комментарии. Где то могу предложить небольшие исправление в коде, но ненавязчиво. Где потребуются уточнения, я оставлю много наводящих вопросов. Они помогут тебя с поиском верного решения.\n",
        "\n",
        "Все мои комментарии размечены по цветам, для лучшего восприятия.\n",
        "    \n",
        "<div class=\"alert alert-success\">Зеленым цветом и словом «Успех» отмечены особо удачные и элегантные решения, которыми ты можешь гордиться. </div>\n",
        "        \n",
        "<div class=\"alert alert-warning\">Желтым и значком словом «Совет», помечены решения у которых есть альтернативные решения, более оптимальные. Ты можешь найти их сразу и доработать проект, или отложить это на потом, для будущих проектах. Проект будет принят и без их доработки. </div>\n",
        "        \n",
        "<div class=\"alert alert-danger\"> Красным цветом и значком словом «Ошибка» помечу твои решения, на которые стоит обратить внимание прежде всего. После их доработки проект будет принят. </div>\n",
        "        \n",
        "Залог успеха - работа сообща, взаимное уважение и работа в диалоге. Поэтому, помечай свои ответные комментарии на мои реплики заметным цветом или курсивом, так мне будет легче их отслеживать. Пожалуйста, не изменяй и не удаляй мои комментарии. Все это поможет выполнить повторную проверку быстрей.\n",
        "\n",
        "</div>"
      ]
    },
    {
      "cell_type": "markdown",
      "metadata": {
        "id": "Y2s2fIGQCalL"
      },
      "source": [
        "<div class=\"alert alert-info\">\n",
        "<font size=\"5\"><b>Комментарий студента 1</b></font>\n",
        "\n",
        "Привет Марат!\n"
      ]
    },
    {
      "cell_type": "markdown",
      "metadata": {
        "id": "AViVZ1PLCalM"
      },
      "source": [
        "<div class=\"alert alert-success\">\n",
        "<font size=\"5\"><b>Комментарий ревьюераV2</b></font>\n",
        "\n",
        "\n",
        "\n",
        "Успех 👍:\n",
        "\n",
        "\n",
        "\n",
        "Добрый день Михаил!\n",
        "\n",
        "\n",
        ""
      ]
    },
    {
      "cell_type": "markdown",
      "metadata": {
        "id": "n9JwjOuBCalM"
      },
      "source": [
        "## Проект для «Викишоп»"
      ]
    },
    {
      "cell_type": "markdown",
      "metadata": {
        "id": "R4GgEH3kCalN"
      },
      "source": [
        "Интернет-магазин «Викишоп» запускает новый сервис. Теперь пользователи могут редактировать и дополнять описания товаров, как в вики-сообществах. То есть клиенты предлагают свои правки и комментируют изменения других. Магазину нужен инструмент, который будет искать токсичные комментарии и отправлять их на модерацию.\n",
        "\n",
        "Обучите модель классифицировать комментарии на позитивные и негативные. В вашем распоряжении набор данных с разметкой о токсичности правок.\n",
        "\n",
        "Постройте модель со значением метрики качества *F1* не меньше 0.75.\n",
        "\n",
        "**Инструкция по выполнению проекта**\n",
        "\n",
        "1. Загрузите и подготовьте данные.\n",
        "2. Обучите разные модели.\n",
        "3. Сделайте выводы.\n",
        "\n",
        "Для выполнения проекта применять *BERT* необязательно, но вы можете попробовать.\n",
        "\n",
        "**Описание данных**\n",
        "\n",
        "Данные находятся в файле `toxic_comments.csv`. Столбец *text* в нём содержит текст комментария, а *toxic* — целевой признак."
      ]
    },
    {
      "cell_type": "code",
      "execution_count": null,
      "metadata": {
        "id": "lj7NIL8tCalO",
        "outputId": "110d9a9e-7e8b-4880-fa8c-8c19fcec1336"
      },
      "outputs": [
        {
          "name": "stdout",
          "output_type": "stream",
          "text": [
            "Requirement already satisfied: pandarallel in /opt/conda/lib/python3.9/site-packages (1.6.5)\n",
            "Requirement already satisfied: pandas>=1 in /opt/conda/lib/python3.9/site-packages (from pandarallel) (1.2.4)\n",
            "Requirement already satisfied: dill>=0.3.1 in /opt/conda/lib/python3.9/site-packages (from pandarallel) (0.3.8)\n",
            "Requirement already satisfied: psutil in /opt/conda/lib/python3.9/site-packages (from pandarallel) (5.9.8)\n",
            "Requirement already satisfied: python-dateutil>=2.7.3 in /opt/conda/lib/python3.9/site-packages (from pandas>=1->pandarallel) (2.8.1)\n",
            "Requirement already satisfied: pytz>=2017.3 in /opt/conda/lib/python3.9/site-packages (from pandas>=1->pandarallel) (2021.1)\n",
            "Requirement already satisfied: numpy>=1.16.5 in /opt/conda/lib/python3.9/site-packages (from pandas>=1->pandarallel) (1.21.1)\n",
            "Requirement already satisfied: six>=1.5 in /opt/conda/lib/python3.9/site-packages (from python-dateutil>=2.7.3->pandas>=1->pandarallel) (1.16.0)\n"
          ]
        }
      ],
      "source": [
        "!pip install pandarallel"
      ]
    },
    {
      "cell_type": "code",
      "execution_count": null,
      "metadata": {
        "id": "_hgEhRqpCalQ",
        "outputId": "2ac5a5fe-bbf4-411e-b748-e2caf7b4c806"
      },
      "outputs": [
        {
          "name": "stdout",
          "output_type": "stream",
          "text": [
            "Requirement already satisfied: wordcloud==1.8.2.2 in /opt/conda/lib/python3.9/site-packages (1.8.2.2)\n",
            "Requirement already satisfied: matplotlib in /opt/conda/lib/python3.9/site-packages (from wordcloud==1.8.2.2) (3.3.4)\n",
            "Requirement already satisfied: pillow in /opt/conda/lib/python3.9/site-packages (from wordcloud==1.8.2.2) (8.4.0)\n",
            "Requirement already satisfied: numpy>=1.6.1 in /opt/conda/lib/python3.9/site-packages (from wordcloud==1.8.2.2) (1.21.1)\n",
            "Requirement already satisfied: cycler>=0.10 in /opt/conda/lib/python3.9/site-packages (from matplotlib->wordcloud==1.8.2.2) (0.11.0)\n",
            "Requirement already satisfied: pyparsing!=2.0.4,!=2.1.2,!=2.1.6,>=2.0.3 in /opt/conda/lib/python3.9/site-packages (from matplotlib->wordcloud==1.8.2.2) (2.4.7)\n",
            "Requirement already satisfied: kiwisolver>=1.0.1 in /opt/conda/lib/python3.9/site-packages (from matplotlib->wordcloud==1.8.2.2) (1.4.4)\n",
            "Requirement already satisfied: python-dateutil>=2.1 in /opt/conda/lib/python3.9/site-packages (from matplotlib->wordcloud==1.8.2.2) (2.8.1)\n",
            "Requirement already satisfied: six>=1.5 in /opt/conda/lib/python3.9/site-packages (from python-dateutil>=2.1->matplotlib->wordcloud==1.8.2.2) (1.16.0)\n"
          ]
        }
      ],
      "source": [
        "!/opt/conda/bin/python -m pip install wordcloud==1.8.2.2"
      ]
    },
    {
      "cell_type": "code",
      "execution_count": null,
      "metadata": {
        "id": "LTZoGsYECalR",
        "outputId": "049ec04a-981a-4444-f7c1-130d73e43951"
      },
      "outputs": [
        {
          "name": "stderr",
          "output_type": "stream",
          "text": [
            "[nltk_data] Downloading package averaged_perceptron_tagger to\n",
            "[nltk_data]     /home/jovyan/nltk_data...\n",
            "[nltk_data]   Package averaged_perceptron_tagger is already up-to-\n",
            "[nltk_data]       date!\n"
          ]
        }
      ],
      "source": [
        "import pandas as pd\n",
        "import numpy as np\n",
        "\n",
        "from wordcloud import WordCloud\n",
        "\n",
        "import time\n",
        "import re\n",
        "import transformers\n",
        "import torch\n",
        "\n",
        "import nltk\n",
        "nltk.download('averaged_perceptron_tagger')\n",
        "from nltk.stem import WordNetLemmatizer\n",
        "from nltk.corpus import wordnet\n",
        "from nltk.corpus import stopwords\n",
        "\n",
        "from nltk.tokenize import word_tokenize\n",
        "from nltk.corpus import stopwords as nltk_stopwords\n",
        "from nltk.probability import FreqDist\n",
        "\n",
        "import matplotlib.pyplot as plt\n",
        "%matplotlib inline\n",
        "\n",
        "from sklearn.feature_extraction.text import CountVectorizer, TfidfVectorizer\n",
        "from sklearn.linear_model import LogisticRegression, SGDClassifier\n",
        "from sklearn.ensemble import RandomForestClassifier\n",
        "from sklearn.tree import DecisionTreeClassifier\n",
        "from sklearn.pipeline import Pipeline\n",
        "from sklearn.metrics import f1_score, precision_score, recall_score, accuracy_score, roc_auc_score, roc_curve\n",
        "from sklearn.utils import shuffle\n",
        "from sklearn.model_selection import train_test_split, cross_val_score, GridSearchCV\n",
        "\n",
        "from catboost import CatBoostClassifier\n",
        "\n",
        "from ipywidgets import IntProgress\n",
        "from IPython.display import display\n",
        "\n",
        "from tqdm import tqdm\n",
        "from tqdm import notebook\n",
        "from tqdm.notebook import tqdm\n",
        "from pandarallel import pandarallel\n",
        "tqdm.pandas(desc=\"progress\")\n",
        "\n",
        "import warnings\n",
        "warnings.filterwarnings('ignore')"
      ]
    },
    {
      "cell_type": "markdown",
      "metadata": {
        "id": "tZJeUr4wCalS"
      },
      "source": [
        "<div class=\"alert alert-warning\">\n",
        "<font size=\"5\"><b>Комментарий ревьюераV2</b></font>\n",
        "\n",
        "\n",
        "\n",
        "Совет 🤔:\n",
        "\n",
        "Смотри что  можно сделать согласно PEP-8.  В=идишь у тебя есть pip install. Допустим:\n",
        "    \n",
        "    \n",
        "    # pip install nltk # доустанавливаем необходимые библиотеки\n",
        "    # pip install pywsd\n",
        "    # pip install transformers  \n",
        "    \n",
        "    \n",
        "    \n",
        "Это значит что у нас сторонние библиотеки и значит    \n",
        "\n",
        "    \n",
        "    \n",
        "    import transformers\n",
        "    \n",
        "итд\n",
        "    \n",
        "ставим в самый конец    \n",
        "    \n",
        "По аналогии можешь исправить  \n",
        "\n",
        "\n",
        "\n",
        "Если интересно можешь почитать [тут](https://pythonworld.ru/osnovy/pep-8-rukovodstvo-po-napisaniyu-koda-na-python.html)  подробнее  "
      ]
    },
    {
      "cell_type": "markdown",
      "metadata": {
        "id": "AyG0gyIyCalS"
      },
      "source": [
        "## Подготовка"
      ]
    },
    {
      "cell_type": "code",
      "execution_count": null,
      "metadata": {
        "id": "f7Npdz2jCalT"
      },
      "outputs": [],
      "source": [
        "# Загрузка данных\n",
        "try:\n",
        "    data = pd.read_csv('/datasets/toxic_comments.csv', index_col=0)\n",
        "    # data = data.iloc()[::10]\n",
        "except:\n",
        "    try:\n",
        "        data = pd.read_csv('toxic_comments.csv', index_col=0)\n",
        "    except:\n",
        "        print(\"Unable to load data\")"
      ]
    },
    {
      "cell_type": "markdown",
      "metadata": {
        "id": "8bmQ0xqPCalT"
      },
      "source": [
        "<div class=\"alert alert-warning\">\n",
        "<font size=\"5\"><b>Комментарий ревьюера</b></font>\n",
        "\n",
        "Совет:\n",
        "\n",
        "\n",
        "Если не знаешь - чтобы не было столбца  `Unnamed: 0` при чтении файла можно так:\n",
        "\n",
        "\n",
        "    pd.read_csv(..., index_col=0)\n",
        "\n",
        "    \n",
        "(`Unnamed: 0` появляется при не совсем корректном сохранении файла)    \n",
        "\n",
        "\n",
        "Unnamed: 0 это \"след\" старых индексов. Если ты уберёшь первые 10 примеров и своего датасета, сохранишь его, а потом откроешь,  то появится столбец Unnamed: 0 начиная с цифры 9, и появится новый индексы начиная с нуля\n",
        "\n",
        "\n",
        "Но это мелочь,  даже не нужно ничего исправлять. Просто знай, чтобы увидев такое в чужом коде не удивляться что бы это могло означать"
      ]
    },
    {
      "cell_type": "markdown",
      "metadata": {
        "id": "44mWHHnZCalU"
      },
      "source": [
        "<div class=\"alert alert-info\">\n",
        "<font size=\"5\"><b>Комментарий студента 1</b></font>\n",
        "\n",
        "Исправил"
      ]
    },
    {
      "cell_type": "code",
      "execution_count": null,
      "metadata": {
        "id": "IpQTOoFsCalU",
        "outputId": "6dc7aa8f-a46c-44ab-89a0-2c92647022ba"
      },
      "outputs": [
        {
          "data": {
            "text/html": [
              "<div>\n",
              "<style scoped>\n",
              "    .dataframe tbody tr th:only-of-type {\n",
              "        vertical-align: middle;\n",
              "    }\n",
              "\n",
              "    .dataframe tbody tr th {\n",
              "        vertical-align: top;\n",
              "    }\n",
              "\n",
              "    .dataframe thead th {\n",
              "        text-align: right;\n",
              "    }\n",
              "</style>\n",
              "<table border=\"1\" class=\"dataframe\">\n",
              "  <thead>\n",
              "    <tr style=\"text-align: right;\">\n",
              "      <th></th>\n",
              "      <th>text</th>\n",
              "      <th>toxic</th>\n",
              "    </tr>\n",
              "  </thead>\n",
              "  <tbody>\n",
              "    <tr>\n",
              "      <th>78813</th>\n",
              "      <td>Thank you;). I hope now it is okay for everyone.</td>\n",
              "      <td>0</td>\n",
              "    </tr>\n",
              "    <tr>\n",
              "      <th>79498</th>\n",
              "      <td>Nayef vs. Naif \\n\\nNayef and Naif are used int...</td>\n",
              "      <td>0</td>\n",
              "    </tr>\n",
              "    <tr>\n",
              "      <th>13095</th>\n",
              "      <td>To Dayewalker – can you WP:PROVE it's original...</td>\n",
              "      <td>0</td>\n",
              "    </tr>\n",
              "    <tr>\n",
              "      <th>108005</th>\n",
              "      <td>\"\\n\\nSpeedy deletion of Misael medel\\n A tag h...</td>\n",
              "      <td>0</td>\n",
              "    </tr>\n",
              "    <tr>\n",
              "      <th>51029</th>\n",
              "      <td>\"\\n\\n Point #1 \\n\\nPlease see the article for ...</td>\n",
              "      <td>0</td>\n",
              "    </tr>\n",
              "    <tr>\n",
              "      <th>141811</th>\n",
              "      <td>My Thoughts \\n\\nYou're a jackass.\\n\\nDoes this...</td>\n",
              "      <td>1</td>\n",
              "    </tr>\n",
              "    <tr>\n",
              "      <th>150669</th>\n",
              "      <td>This is your last warning. \\n\\nThis is your la...</td>\n",
              "      <td>0</td>\n",
              "    </tr>\n",
              "    <tr>\n",
              "      <th>109436</th>\n",
              "      <td>Support technically next year is the 25th anni...</td>\n",
              "      <td>0</td>\n",
              "    </tr>\n",
              "    <tr>\n",
              "      <th>153805</th>\n",
              "      <td>Thank you very much for the clarification. If ...</td>\n",
              "      <td>0</td>\n",
              "    </tr>\n",
              "    <tr>\n",
              "      <th>146140</th>\n",
              "      <td>First, I have made the change of Namboodiri to...</td>\n",
              "      <td>0</td>\n",
              "    </tr>\n",
              "  </tbody>\n",
              "</table>\n",
              "</div>"
            ],
            "text/plain": [
              "                                                     text  toxic\n",
              "78813    Thank you;). I hope now it is okay for everyone.      0\n",
              "79498   Nayef vs. Naif \\n\\nNayef and Naif are used int...      0\n",
              "13095   To Dayewalker – can you WP:PROVE it's original...      0\n",
              "108005  \"\\n\\nSpeedy deletion of Misael medel\\n A tag h...      0\n",
              "51029   \"\\n\\n Point #1 \\n\\nPlease see the article for ...      0\n",
              "141811  My Thoughts \\n\\nYou're a jackass.\\n\\nDoes this...      1\n",
              "150669  This is your last warning. \\n\\nThis is your la...      0\n",
              "109436  Support technically next year is the 25th anni...      0\n",
              "153805  Thank you very much for the clarification. If ...      0\n",
              "146140  First, I have made the change of Namboodiri to...      0"
            ]
          },
          "execution_count": 5,
          "metadata": {},
          "output_type": "execute_result"
        }
      ],
      "source": [
        "data.sample(10)"
      ]
    },
    {
      "cell_type": "code",
      "execution_count": null,
      "metadata": {
        "id": "zSSDSijBCalV",
        "outputId": "51205a29-32a7-4973-f25b-a3845d09a745"
      },
      "outputs": [
        {
          "name": "stdout",
          "output_type": "stream",
          "text": [
            "<class 'pandas.core.frame.DataFrame'>\n",
            "Int64Index: 159292 entries, 0 to 159450\n",
            "Data columns (total 2 columns):\n",
            " #   Column  Non-Null Count   Dtype \n",
            "---  ------  --------------   ----- \n",
            " 0   text    159292 non-null  object\n",
            " 1   toxic   159292 non-null  int64 \n",
            "dtypes: int64(1), object(1)\n",
            "memory usage: 3.6+ MB\n"
          ]
        }
      ],
      "source": [
        "data.info()"
      ]
    },
    {
      "cell_type": "markdown",
      "metadata": {
        "id": "3o5rGJZvCalV"
      },
      "source": [
        "Посчитаем процент \"0\" классов, чтобы определить дисбаланс классов:"
      ]
    },
    {
      "cell_type": "code",
      "execution_count": null,
      "metadata": {
        "id": "rBSNmDOmCalV",
        "outputId": "6e2f5cbd-a8a8-495a-e81f-a1d7c229ebc4"
      },
      "outputs": [
        {
          "data": {
            "text/plain": [
              "89.84"
            ]
          },
          "execution_count": 7,
          "metadata": {},
          "output_type": "execute_result"
        }
      ],
      "source": [
        "round((data['toxic'] == 0).sum()/len(data)*100, 2)"
      ]
    },
    {
      "cell_type": "code",
      "execution_count": null,
      "metadata": {
        "id": "Lv-0WapqCalV",
        "outputId": "b9fdb7ce-c72b-4eb0-bd69-eeb18ed41349"
      },
      "outputs": [
        {
          "data": {
            "image/png": "[encoded data removed]",
            "text/plain": [
              "<Figure size 432x288 with 1 Axes>"
            ]
          },
          "metadata": {
            "needs_background": "light"
          },
          "output_type": "display_data"
        }
      ],
      "source": [
        "data['toxic'].value_counts(normalize = (0,1)).plot(kind = 'bar', grid = True)\n",
        "plt.show()"
      ]
    },
    {
      "cell_type": "markdown",
      "metadata": {
        "id": "e7K3wvxICalW"
      },
      "source": [
        "Оценим максимальную длину комментария  в 10000 случайных комментариев"
      ]
    },
    {
      "cell_type": "code",
      "execution_count": null,
      "metadata": {
        "id": "u_Bzbt1kCalW",
        "outputId": "6e23e90d-5b7e-4034-a9aa-12b170c4ae66"
      },
      "outputs": [
        {
          "name": "stderr",
          "output_type": "stream",
          "text": [
            "Token indices sequence length is longer than the specified maximum sequence length for this model (1423 > 512). Running this sequence through the model will result in indexing errors\n"
          ]
        },
        {
          "name": "stdout",
          "output_type": "stream",
          "text": [
            "(10000, 2831)\n"
          ]
        }
      ],
      "source": [
        "df_tweets = data.sample(10000)\n",
        "\n",
        "tokenizer = transformers.BertTokenizer.from_pretrained('bert-base-uncased')\n",
        "\n",
        "tokenized = df_tweets['text'].apply(\n",
        "    lambda x: tokenizer.encode(x, add_special_tokens=True))\n",
        "\n",
        "max_len = 0\n",
        "for i in tokenized.values:\n",
        "    if len(i) > max_len:\n",
        "        max_len = len(i)\n",
        "\n",
        "padded = np.array([i + [0]*(max_len - len(i)) for i in tokenized.values])\n",
        "\n",
        "attention_mask = np.where(padded != 0, 1, 0)\n",
        "\n",
        "print(attention_mask.shape)"
      ]
    },
    {
      "cell_type": "markdown",
      "metadata": {
        "id": "VtGtQA-iCalW"
      },
      "source": [
        "<div class=\"alert alert-warning\">\n",
        "<font size=\"5\"><b>Комментарий ревьюераV2</b></font>\n",
        "\n",
        "\n",
        "\n",
        "Совет 🤔:\n",
        "\n",
        "Это можно было убрать, так как продолжение это не получило\n",
        ""
      ]
    },
    {
      "cell_type": "markdown",
      "metadata": {
        "id": "bepxlSV4CalX"
      },
      "source": [
        "<div class=\"alert alert-success\">\n",
        "<font size=\"5\"><b>Комментарий ревьюера</b></font>\n",
        "\n",
        "Успех:\n",
        "\n",
        "Данные изучены\n",
        "\n",
        "Плюс за\n",
        "\n",
        "    \n",
        "\n",
        "-  проверку на сбалансированность\n",
        "\n",
        "\n",
        "\n",
        "\n",
        "<div class=\"alert alert-warning\">\n",
        "\n",
        "Совет:\n",
        "\n",
        "\n",
        "\n",
        "\n",
        "- нет никакого промежуточного вывода в конце раздела, и никак он не выделен    \n",
        "\n",
        "    \n",
        "\n",
        "    \n",
        "- .sample() вместо .head(), ведь если данные каким то образом упорядоченны, то шансы увидеть что то разнообразное через .sample чуть выше чем через .head (или .tail)     \n",
        "   "
      ]
    },
    {
      "cell_type": "markdown",
      "metadata": {
        "id": "63qPeQOQCalX"
      },
      "source": [
        "<div class=\"alert alert-info\">\n",
        "<font size=\"5\"><b>Комментарий студента 1</b></font>\n",
        "\n",
        "Исправил"
      ]
    },
    {
      "cell_type": "markdown",
      "metadata": {
        "id": "jG2QxgeBCalX"
      },
      "source": [
        "* Данные загружены.\n",
        "* В таблице 159292 комментария.\n",
        "* Максимальная длина комментариев среди случайных 10000 - (1998, 4645, 1666 символов)\n",
        "* Данные несбалансированы по классам."
      ]
    },
    {
      "cell_type": "markdown",
      "metadata": {
        "id": "e8tR0Y96CalX"
      },
      "source": [
        "### Лемматизация текста"
      ]
    },
    {
      "cell_type": "markdown",
      "metadata": {
        "id": "mvd98GM0CalX"
      },
      "source": [
        "Напишем функцию clear(text) для обработки текстов:\n",
        "\n",
        "* Функция clean - оставляет в текстах только латинские символы и пробелы с помощью регулярных выражений, а также приводит все символы к нижнему регистру - .lower().\n",
        "* Функция re.sub находит в тексте все совпадения по шаблону и заменяет их заданной строкой.\n",
        "* Пробелы устраняются комбинацией функций join() и split().\n",
        "*\n",
        "* Функция nltk.word_tokenize разбивает строки на список слов.\n",
        "* Лемматизируем полученные списки, для этого создадим экземпляр WordNetLemmatizer() и вызовем функцию lemmatize() для одного слова.\n",
        "* WordNetLemmatizer()  это модуль в библиотеке NLTK, который используется для лемматизации слов. Он построен на базе Wordnet — популярной лексической базы данных английского языка.\n"
      ]
    },
    {
      "cell_type": "code",
      "execution_count": null,
      "metadata": {
        "id": "oKLFm9JBCalX"
      },
      "outputs": [],
      "source": [
        "#lemm = WordNetLemmatizer() # c использованием WordNetLemmatizer\n",
        "\n",
        "#def clean_text(text):\n",
        "#    clean = \" \".join(re.sub(r'[^a-zA-z]', ' ', text).lower().split()) # очистка\n",
        "#    word_list = nltk.word_tokenize(clean) # формирование списков слов\n",
        "#    return ' '.join([lemm.lemmatize(w) for w in word_list]) # лемматизация слов\n",
        "\n",
        "#data['lemmatize'] = data['text'].apply(clean_text) # запись нового столбца обработанных текстов"
      ]
    },
    {
      "cell_type": "code",
      "execution_count": null,
      "metadata": {
        "id": "tk7by00hCalY"
      },
      "outputs": [],
      "source": [
        "# функция очистки текстов комментариев:\n",
        "def clear_text(text):\n",
        "    clean = \" \".join(re.sub(r'[^a-zA-z]', ' ', text).lower().split()) # очистка\n",
        "    return clean\n",
        "\n",
        "# очищаем тексты:\n",
        "data['text'] = data['text'].apply(clear_text)"
      ]
    },
    {
      "cell_type": "code",
      "execution_count": null,
      "metadata": {
        "id": "vDCcBj8ECalY"
      },
      "outputs": [],
      "source": [
        "# функция РОS-тэгирования слов:\n",
        "def get_wordnet_pos(word):\n",
        "    tag = nltk.pos_tag([word])[0][1][0].upper()\n",
        "    tag_dict = {\"J\": wordnet.ADJ,               #прилагательное\n",
        "                \"N\": wordnet.NOUN,              #существительное\n",
        "                \"V\": wordnet.VERB,              #глагол\n",
        "                \"R\": wordnet.ADV                #наречие\n",
        "               }\n",
        "    return tag_dict.get(tag, wordnet.NOUN)\n",
        "\n",
        "lemm = WordNetLemmatizer()\n",
        "\n",
        "#ввожу функцию леммализации тектов постов:\n",
        "def lemm_text(text):\n",
        "    text = [lemm.lemmatize(w, get_wordnet_pos(w)) for w in nltk.word_tokenize(text)]\n",
        "    return ' '.join(text)"
      ]
    },
    {
      "cell_type": "code",
      "execution_count": null,
      "metadata": {
        "id": "aB1e3dZxCalY",
        "outputId": "76f91c95-914f-426a-b130-c52c69f9f4d8",
        "colab": {
          "referenced_widgets": [
            "8a988f413e414f288d854139494f3079"
          ]
        }
      },
      "outputs": [
        {
          "data": {
            "application/vnd.jupyter.widget-view+json": {
              "model_id": "8a988f413e414f288d854139494f3079",
              "version_major": 2,
              "version_minor": 0
            },
            "text/plain": [
              "progress:   0%|          | 0/159292 [00:00<?, ?it/s]"
            ]
          },
          "metadata": {},
          "output_type": "display_data"
        },
        {
          "name": "stdout",
          "output_type": "stream",
          "text": [
            "CPU times: user 15min 3s, sys: 1min 20s, total: 16min 24s\n",
            "Wall time: 16min 41s\n"
          ]
        }
      ],
      "source": [
        "%%time\n",
        "# леммализируем тексты комментариев:\n",
        "data['lemmatize'] = data['text'].progress_apply(lemm_text)"
      ]
    },
    {
      "cell_type": "markdown",
      "metadata": {
        "id": "3mFG0eOqCalY"
      },
      "source": [
        "<div class=\"alert alert-info\">\n",
        "<font size=\"5\"><b>Комментарий студента 1</b></font>\n",
        "\n",
        "Добавил get_wordnet_pos"
      ]
    },
    {
      "cell_type": "markdown",
      "metadata": {
        "id": "qpgbC5EzCalZ"
      },
      "source": [
        "<div class=\"alert alert-success\">\n",
        "<font size=\"5\"><b>Комментарий ревьюераV2</b></font>\n",
        "\n",
        "\n",
        "\n",
        "Успех 👍:\n",
        "\n",
        "\n",
        "\n",
        "Так можно\n",
        "\n",
        "\n",
        ""
      ]
    },
    {
      "cell_type": "markdown",
      "metadata": {
        "id": "MthYmQmjCalZ"
      },
      "source": [
        "<div class=\"alert alert-danger\">\n",
        "<font size=\"5\"><b>Комментарий ревьюера</b></font>\n",
        "\n",
        "Ошибка:\n",
        "\n",
        "\n",
        "\n",
        "- WordNetLemmatizer  рабочий вариант, но у него есть особенности, для корректной работы ему нужно передавать не просто слово, но и POS-тег (Part of Speech, части речи). Набираемся ума-разума [тут](https://webdevblog.ru/podhody-lemmatizacii-s-primerami-v-python/) )  Обрати внимание на функцию `get_wordnet_pos`. Сразу хочу предупредить, что если делать Лемматизацию правильно, сучетом постегов, то время может занять полчаса-час. Так что не удивляйся (вообще советую сохранить результаты Лематизации в каком-то файлике, чтобы каждый раз не тратить на это много времени)\n",
        "\n",
        "\n",
        "\n",
        "\n",
        "<div class=\"alert alert-warning\">\n",
        "\n",
        "\n",
        "Совет:\n",
        "\n",
        "\n",
        "\n",
        "\n",
        "- лемматизацию можно было сделать с помощью SpaCy лемматизатором и прямо скажем как инструмент он более удобен и универсален, не нужно заморачиваться с токенизацией и учётом пос тегов\n",
        "\n",
        "\n",
        "\n",
        "\n",
        "- Чтобы сэкономить время, и убедиться что всё отработало нормально, берёшь парочку предложений, создаёшь dataframe\n",
        "    \n",
        "    \n",
        "    sentence1 = \"The striped bats are hanging on their feet for best\"\n",
        "    sentence2 = \"you should be ashamed of yourself went worked\"\n",
        "    df_my = pd.DataFrame([sentence1, sentence2], columns = ['text'])\n",
        "    print(df_my)\n",
        "\n",
        "\n",
        "    print(df_my['text'].apply(func))\n",
        "    \n",
        "    \n",
        "    \n",
        "И тестируешь не нем, должно получиться\n",
        "    \n",
        "    \n",
        "    \n",
        "    striped  ------> strip, went -------> go  \n",
        "\n",
        "\n",
        "\n",
        "Если всё получилось, то можно использовать на всём датасете"
      ]
    },
    {
      "cell_type": "markdown",
      "metadata": {
        "id": "0vyld2qgCalZ"
      },
      "source": [
        "#### Многопоточная лемматизация"
      ]
    },
    {
      "cell_type": "code",
      "execution_count": null,
      "metadata": {
        "id": "BTAUs9eKCalZ"
      },
      "outputs": [],
      "source": [
        "# %%time\n",
        "#леммализируем тексты комментариев параллельными потоками:\n",
        "\n",
        "# pandarallel.initialize(progress_bar = True, nb_workers = 10, use_memory_fs = False)\n",
        "\n",
        "# data['lemmatize'] = data['text'].parallel_apply(lemm_text)"
      ]
    },
    {
      "cell_type": "markdown",
      "metadata": {
        "id": "BtQg7x99CalZ"
      },
      "source": [
        "<div class=\"alert alert-success\">\n",
        "<font size=\"5\"><b>Комментарий ревьюера</b></font>\n",
        "\n",
        "Успех:\n",
        "\n",
        "\n",
        "\n",
        "- Плюс за использование apply, неэффективные циклы нам ни к чему.\n",
        "\n",
        "\n",
        "- Да, всегда лучше проверить что получилось  в итоге, так всегда будет возможность поправить ошибку\n",
        "\n",
        "<div class=\"alert alert-warning\">\n",
        "\n",
        "\n",
        "Совет:\n",
        "\n",
        "\n",
        "    \n",
        "- попробуй .progress_apply, делает что .apply, но еще и показывает на какой итерации находится процесс.  \n",
        "\n",
        "Для некоторых версий, чтобы заработал .progress_apply предварительно нужно сделать:\n",
        "    \n",
        "    \n",
        "    from tqdm.notebook import tqdm\n",
        "    tqdm.pandas()\n",
        "    \n",
        "\n",
        "И cудя по всему импорты нужно засунуть внутрь функции\n",
        "\n",
        "То же самое делает .swifter.apply  Предварительно\n",
        "\n",
        "\n",
        "    !pip install swifter\n",
        "    import swifter\n",
        "\n",
        "\n",
        "\n",
        "- если  процесс лемматизации затягивается, можно попробовать [.parallel_apply](https://pypi.org/project/pandarallel/), для WordNetLemmatizer это работает точно (для spacy у меня не получлось, но там есть своя, встроенная схема парализации расчётов через pipline). Кому-то это помогает уменьшить время прогона кода раз в 5-7 (Хотя студенты начинают жаловаться что получается даже медленнее). А у большинства он вообще не запускается ) Предварительно:\n",
        "\n",
        "    \n",
        "    from pandarallel import pandarallel   \n",
        "    tqdm.pandas(desc=\"progress\")\n",
        "    pandarallel.initialize(progress_bar = True)\n",
        "\n",
        "\n",
        "\n",
        "\n",
        "\n",
        "- после очистки и лемматизации (и убрав стопслова) можно провести частотный анализ текста/[облако слов](https://habr.com/ru/post/517410/) - чтобы получить общее представление о тематике и о наиболее часто встречаемых словах в токсичных и нетоксичных твитах Кроме того графики, рисунки делают проект визуально интересней\n",
        "    \n",
        "В тренажере облако импортируем так\n",
        "\n",
        "    !/opt/conda/bin/python -m pip install wordcloud\n",
        "\n",
        "\n",
        "или\n",
        "\n",
        "    !/opt/conda/bin/python -m pip install wordcloud==1.8.2.2  \n",
        "\n",
        "\n",
        "И возможно дополнительно надо будет сделать\n",
        "\n",
        "\n",
        "\n",
        "    !pip install --upgrade Pillow  (попробуй версию 9.5.0)\n",
        "\n",
        "\n",
        "    "
      ]
    },
    {
      "cell_type": "markdown",
      "metadata": {
        "id": "9tmHAxe3Cala"
      },
      "source": [
        "### Частотный анализ текста"
      ]
    },
    {
      "cell_type": "code",
      "execution_count": null,
      "metadata": {
        "id": "bDG1ugPgCala",
        "outputId": "0e6410f1-cda8-4f7e-ad38-a0a8bd7357c5"
      },
      "outputs": [
        {
          "name": "stderr",
          "output_type": "stream",
          "text": [
            "[nltk_data] Downloading package stopwords to /home/jovyan/nltk_data...\n",
            "[nltk_data]   Package stopwords is already up-to-date!\n"
          ]
        },
        {
          "data": {
            "image/png": "[encoded data removed]",
            "text/plain": [
              "<Figure size 576x576 with 1 Axes>"
            ]
          },
          "metadata": {
            "needs_background": "light"
          },
          "output_type": "display_data"
        }
      ],
      "source": [
        "nltk.download('stopwords')\n",
        "stopwords = set(nltk_stopwords.words('english')) # Вызовем функцию stopwords.words(), передадим ей аргумент 'english',\n",
        "                                               # то есть англоязычные стоп-слова\n",
        "\n",
        "comment_words = ''\n",
        "stopwords = set(stopwords)\n",
        "\n",
        "# iterate through the csv file\n",
        "for val in data['text']:\n",
        "\n",
        "    # typecaste each val to string\n",
        "    val = str(val)\n",
        "\n",
        "    # split the value\n",
        "    tokens = val.split()\n",
        "\n",
        "    # Converts each token into lowercase\n",
        "    for i in range(len(tokens)):\n",
        "        tokens[i] = tokens[i].lower()\n",
        "\n",
        "    comment_words += \" \".join(tokens)+\" \"\n",
        "\n",
        "wordcloud = WordCloud(width = 800, height = 800,\n",
        "                background_color ='white',\n",
        "                stopwords = stopwords,\n",
        "                min_font_size = 10).generate(comment_words)\n",
        "\n",
        "# plot the WordCloud image\n",
        "plt.figure(figsize = (8, 8), facecolor = None)\n",
        "plt.imshow(wordcloud)\n",
        "plt.axis(\"off\")\n",
        "plt.tight_layout(pad = 0)\n",
        "\n",
        "plt.show()"
      ]
    },
    {
      "cell_type": "code",
      "execution_count": null,
      "metadata": {
        "id": "skILFXPXCalh",
        "outputId": "4bad1864-94f9-476f-a878-be8cb4ddf936"
      },
      "outputs": [
        {
          "data": {
            "image/png": "[encoded data removed]",
            "text/plain": [
              "<Figure size 432x288 with 1 Axes>"
            ]
          },
          "metadata": {
            "needs_background": "light"
          },
          "output_type": "display_data"
        },
        {
          "data": {
            "text/plain": [
              "<AxesSubplot:xlabel='Samples', ylabel='Counts'>"
            ]
          },
          "execution_count": 16,
          "metadata": {},
          "output_type": "execute_result"
        }
      ],
      "source": [
        "tokens = nltk.word_tokenize(comment_words)\n",
        "fdist = FreqDist(tokens)\n",
        "fdist.plot(30,cumulative=False)"
      ]
    },
    {
      "cell_type": "markdown",
      "metadata": {
        "id": "UrV6MqikCalh"
      },
      "source": [
        "<div class=\"alert alert-warning\">\n",
        "<font size=\"5\"><b>Комментарий ревьюера</b></font>\n",
        "\n",
        "Совет 🤔:\n",
        "\n",
        "    \n",
        "    \n",
        "- Красивое облако,  и правильные частоты (хотя стоило убрать все эти частички) ,  но насколько информативнее было построить отдельно облако для токсичных и нетоксичных комментариев   \n",
        "    \n",
        "\n",
        "- Если хочешь убрать AxesSubplot:xlabel..  то ставь в конце `;` или пропиши plt.show()\n",
        "\n",
        ""
      ]
    },
    {
      "cell_type": "code",
      "execution_count": null,
      "metadata": {
        "id": "yncQxgNtCali",
        "outputId": "d2b75cf6-19ab-4e93-8c09-bfe58d40f904"
      },
      "outputs": [
        {
          "data": {
            "text/plain": [
              "[('the', 495718),\n",
              " ('to', 296640),\n",
              " ('i', 239980),\n",
              " ('of', 224029),\n",
              " ('and', 223445),\n",
              " ('you', 218155),\n",
              " ('a', 216847),\n",
              " ('is', 175946),\n",
              " ('that', 160440),\n",
              " ('it', 148275)]"
            ]
          },
          "execution_count": 17,
          "metadata": {},
          "output_type": "execute_result"
        }
      ],
      "source": [
        "fdist.most_common(10)"
      ]
    },
    {
      "cell_type": "markdown",
      "metadata": {
        "id": "9NWCWiaNCali"
      },
      "source": [
        "###  Проверка пустых строк и дубликатов"
      ]
    },
    {
      "cell_type": "code",
      "execution_count": null,
      "metadata": {
        "id": "IchoOLDICali",
        "outputId": "abd12fe0-19b6-4711-e93d-94cccb1bbcc9"
      },
      "outputs": [
        {
          "name": "stdout",
          "output_type": "stream",
          "text": [
            "text         0\n",
            "toxic        0\n",
            "lemmatize    0\n",
            "dtype: int64\n",
            "                                                     text  toxic  \\\n",
            "1564                                             july utc      0   \n",
            "2020                                             july utc      0   \n",
            "2828                                             july utc      0   \n",
            "3872    please stop adding nonsense to wikipedia it is...      0   \n",
            "4898    please stop if you continue to vandalize wikip...      0   \n",
            "...                                                   ...    ...   \n",
            "158910  december please stop if you continue to vandal...      0   \n",
            "159090  please do not add nonsense to wikipedia it is ...      0   \n",
            "159097  thank you for experimenting with the page dece...      0   \n",
            "159347                                      talk contribs      0   \n",
            "159438  please stop removing content from wikipedia it...      0   \n",
            "\n",
            "                                                lemmatize  \n",
            "1564                                             july utc  \n",
            "2020                                             july utc  \n",
            "2828                                             july utc  \n",
            "3872    please stop add nonsense to wikipedia it be co...  \n",
            "4898    please stop if you continue to vandalize wikip...  \n",
            "...                                                   ...  \n",
            "158910  december please stop if you continue to vandal...  \n",
            "159090  please do not add nonsense to wikipedia it be ...  \n",
            "159097  thank you for experiment with the page decembe...  \n",
            "159347                                      talk contribs  \n",
            "159438  please stop remove content from wikipedia it b...  \n",
            "\n",
            "[1264 rows x 3 columns]\n"
          ]
        }
      ],
      "source": [
        "print(data.isnull().sum())\n",
        "print(data[data.duplicated()])"
      ]
    },
    {
      "cell_type": "markdown",
      "metadata": {
        "id": "TbatBUaoCali"
      },
      "source": [
        "Пустых строк нет. Дубликаты есть"
      ]
    },
    {
      "cell_type": "markdown",
      "metadata": {
        "id": "ZnAPVDRRCalj"
      },
      "source": [
        "### Разбиение выборок\n",
        "Разобьем выборку в соотношении 70/30."
      ]
    },
    {
      "cell_type": "code",
      "execution_count": null,
      "metadata": {
        "id": "4TM5IVAECalj"
      },
      "outputs": [],
      "source": [
        "# Разделим данные\n",
        "# RANDOM_STATE = 42\n",
        "\n",
        "#features = data.drop(['toxic', 'text'], axis = 1) # признаки\n",
        "#target = data['toxic'] # таргет\n",
        "\n",
        "# Получение пропорции 70:30:\n",
        "\n",
        "#features_train, features_30, target_train, target_30 = train_test_split(\n",
        "#    features, target, test_size = 0.3, random_state = RANDOM_STATE, stratify=target)\n",
        "\n",
        "# Разделение оставшихся 30% на две части:\n",
        "\n",
        "#features_valid, features_test, target_valid, target_test = train_test_split(\n",
        "#    features_30, target_30, test_size = 0.5, random_state = RANDOM_STATE, stratify=target_30)\n",
        "\n",
        "#print(features_train.shape)\n",
        "#print(target_train.shape)\n",
        "#print()\n",
        "\n",
        "#print(features_valid.shape)\n",
        "#print(target_valid.shape)\n",
        "#print()\n",
        "\n",
        "#print(features_test.shape)\n",
        "#print(target_test.shape)"
      ]
    },
    {
      "cell_type": "code",
      "execution_count": null,
      "metadata": {
        "id": "PLllP7UOCalk",
        "outputId": "4762321c-ee5d-4dca-aa56-6becd8f7b7ed"
      },
      "outputs": [
        {
          "name": "stdout",
          "output_type": "stream",
          "text": [
            "(111504,)\n",
            "(111504,)\n",
            "\n",
            "(47788,)\n",
            "(47788,)\n"
          ]
        }
      ],
      "source": [
        "# Разделим данные\n",
        "RANDOM_STATE = 42\n",
        "\n",
        "features = data.drop(['toxic', 'text'], axis = 1) # признаки\n",
        "features = features.lemmatize\n",
        "target = data.toxic # таргет\n",
        "\n",
        "# Получение пропорции 70:30:\n",
        "\n",
        "features_train, features_test, target_train, target_test = train_test_split(\n",
        "    features, target, test_size = 0.3, random_state = RANDOM_STATE, stratify=target)\n",
        "\n",
        "print(features_train.shape)\n",
        "print(target_train.shape)\n",
        "print()\n",
        "\n",
        "print(features_test.shape)\n",
        "print(target_test.shape)"
      ]
    },
    {
      "cell_type": "markdown",
      "metadata": {
        "id": "DPSOEAMuCalk"
      },
      "source": [
        "<div class=\"alert alert-success\">\n",
        "<font size=\"5\"><b>Комментарий ревьюера</b></font>\n",
        "\n",
        "Успех:\n",
        "\n",
        "\n",
        "\n",
        "- здорово что используешь stratify    \n",
        "\n",
        "\n",
        "\n",
        "    \n",
        "- плюс за  проверку\n",
        "    \n",
        "    \n",
        "\n",
        "\n",
        "\n",
        "<div class=\"alert alert-warning\">\n",
        "\n",
        "\n",
        "\n",
        "Совет:\n",
        "\n",
        "\n",
        "- ниже ты используешь GridSearchCV/cross_val_score, вопрос - зачем тебе валидационная выборка?   GS/cross_val_score разобьет на нужные выборки сам. Нам нужно только тренировочная и тестовая. На три датасета мы разбиваем когда вручную прописываем циклы\n",
        "\n",
        "    \n",
        "\n",
        "\n",
        "\n",
        "\n"
      ]
    },
    {
      "cell_type": "markdown",
      "metadata": {
        "id": "uyc697B_Calk"
      },
      "source": [
        "### Удаление стоп-слов и рассчёт TF-IDF"
      ]
    },
    {
      "cell_type": "code",
      "execution_count": null,
      "metadata": {
        "id": "pTf20aW5Call"
      },
      "outputs": [],
      "source": [
        "from nltk.corpus import stopwords\n",
        "from nltk.tokenize import word_tokenize\n",
        "import spacy\n",
        "from gensim.parsing.preprocessing import remove_stopwords"
      ]
    },
    {
      "cell_type": "code",
      "execution_count": null,
      "metadata": {
        "id": "cg2jGQlACall",
        "outputId": "d77cc380-d3d3-48d5-db27-d21f765b24d9"
      },
      "outputs": [
        {
          "name": "stderr",
          "output_type": "stream",
          "text": [
            "[nltk_data] Downloading package stopwords to /home/jovyan/nltk_data...\n",
            "[nltk_data]   Package stopwords is already up-to-date!\n"
          ]
        },
        {
          "name": "stdout",
          "output_type": "stream",
          "text": [
            "(111504, 125052)\n",
            "(47788, 125052)\n"
          ]
        }
      ],
      "source": [
        "nltk.download('stopwords')\n",
        "STOP_WORDS = set(stopwords.words('english')) # Вызовем функцию stopwords.words(), передадим ей аргумент 'english',\n",
        "                                                 # то есть англоязычные стоп-слова:\n",
        "\n",
        "count_tf_idf = TfidfVectorizer(stop_words=list(STOP_WORDS))  # при создании счётчика величин TF-IDF передадим список стоп-слов\n",
        "                                                      # в счётчик векторов с учётом стоп-слов\n",
        "\n",
        "# Чтобы посчитать TF-IDF для корпуса текстов, вызовем функцию fit_transform():\n",
        "features_train = count_tf_idf.fit_transform(features_train)\n",
        "#features_valid = count_tf_idf.transform(features_valid['lemmatize'])\n",
        "features_test = count_tf_idf.transform(features_test)\n",
        "\n",
        "print(features_train.shape)\n",
        "#print(features_valid.shape)\n",
        "print(features_test.shape)"
      ]
    },
    {
      "cell_type": "markdown",
      "metadata": {
        "id": "ZTZygeWMCall"
      },
      "source": [
        "<div class=\"alert alert-danger\">\n",
        "<font size=\"5\"><b>Комментарий ревьюера</b></font>\n",
        "\n",
        "Ошибка:\n",
        "\n",
        "\n",
        "\n",
        "Да, в тренажере был текст на кирилице, там перевод в unicode оправдан. В нашем случае (латиница) это лишь  увеличит количество потребляемой памяти и это в лучшем случаи, в худшем он обрушает ядро.\n",
        "\n",
        "\n",
        " <div class=\"alert alert-warning\">\n",
        "\n",
        "Совет:\n",
        "\n",
        "\n",
        "- .fit_transform на train датасете, .transform на test/valid. Вроде все верно, но после ты подаешь tf_idf_train в GridSearchCV или cross_val_score и он внутри себя разбивая его на тренировочный и валидационный датасет, получается подглядывание в будущее (утечка данных). Решение в использовании pipeline, ниже распишу\n",
        "\n",
        "\n",
        "\n",
        "\n"
      ]
    },
    {
      "cell_type": "markdown",
      "metadata": {
        "id": "raNlZYGaCall"
      },
      "source": [
        "<div class=\"alert alert-info\">\n",
        "<font size=\"5\"><b>Комментарий студента 1</b></font>\n",
        "\n",
        "Удалил unicode"
      ]
    },
    {
      "cell_type": "markdown",
      "metadata": {
        "id": "q-cJSnXQCalm"
      },
      "source": [
        "### Балансировка классов"
      ]
    },
    {
      "cell_type": "markdown",
      "metadata": {
        "id": "Hlfk_RcGCalm"
      },
      "source": [
        "#### Определим F1 на кросвалидации без балансировки классов"
      ]
    },
    {
      "cell_type": "markdown",
      "metadata": {
        "id": "AJvBxu0PCalm"
      },
      "source": [
        "F1-score — это совместная метрика для оценки качества алгоритма классификации, которая учитывает обе метрики Precision (точность) и Recall (полнота). F1-score особенно полезна в случаях, когда классы в данных несбалансированы или когда ошибки первого и второго рода имеют схожую важность.\n",
        "\n",
        "F1-score принимает значения в диапазоне от 0 до 1 (или от 0% до 100%). Чем ближе значение F1-score к 1 (или 100%), тем лучше модель справляется с задачей классификации. Если F1-score равен 0, это означает, что модель полностью не справляется с задачей классификации."
      ]
    },
    {
      "cell_type": "code",
      "execution_count": null,
      "metadata": {
        "scrolled": true,
        "id": "G4YxD3yGCalm",
        "outputId": "1d018de9-a2f4-4323-c39c-7251878f7a39"
      },
      "outputs": [
        {
          "name": "stdout",
          "output_type": "stream",
          "text": [
            "F1 на кроссвалидации 0.7009154598095716\n"
          ]
        }
      ],
      "source": [
        "# Для сетки значений Cs (которая по умолчанию равна десяти значениям в логарифмическом масштабе от 1e-4 до 1e4)\n",
        "# лучший гиперпараметр выбирается перекрестным валидатором StratifiedKFold, но его можно изменить с помощью\n",
        "# параметра cv.\n",
        "cv_counts = 3 # Уменьшим количество кроссвалидаций до 3 из-за размера выборки.\n",
        "\n",
        "cl1 = LogisticRegression()\n",
        "train_f1 = cross_val_score(cl1,\n",
        "                      features_train,\n",
        "                      target_train,\n",
        "                      cv=cv_counts,\n",
        "                      scoring='f1').mean()\n",
        "print('F1 на кроссвалидации', train_f1)"
      ]
    },
    {
      "cell_type": "markdown",
      "metadata": {
        "id": "Ls4DZWghCaln"
      },
      "source": [
        "#### Неявная балансировка class_weight='balanced'"
      ]
    },
    {
      "cell_type": "markdown",
      "metadata": {
        "id": "KMwfq-jBCaln"
      },
      "source": [
        "Добавим параметр class_weight='balanced', что по сути означает репликацию меньшего класса до тех пор, пока у нас не будет столько же образцов, сколько и в большем, но неявным образом."
      ]
    },
    {
      "cell_type": "code",
      "execution_count": null,
      "metadata": {
        "id": "NY97BW4BCaln",
        "outputId": "ef13f512-033c-4295-a2bf-80102ac9df62"
      },
      "outputs": [
        {
          "name": "stdout",
          "output_type": "stream",
          "text": [
            "F1 на кроссвалидации с балансированными классами 0.7396046808446006\n",
            "CPU times: user 9.44 s, sys: 12.3 s, total: 21.8 s\n",
            "Wall time: 21.9 s\n"
          ]
        }
      ],
      "source": [
        "%%time\n",
        "cl2 = LogisticRegression(class_weight='balanced')\n",
        "train_f1_balanced = cross_val_score(cl2,\n",
        "                                    features_train,\n",
        "                                    target_train,\n",
        "                                    cv=cv_counts,\n",
        "                                    scoring='f1').mean()\n",
        "print('F1 на кроссвалидации с балансированными классами', train_f1_balanced)"
      ]
    },
    {
      "cell_type": "markdown",
      "metadata": {
        "id": "4n_UZBlpCalo"
      },
      "source": [
        "#### Явная балансировка классов\n",
        "\n",
        "Определим баланс классов"
      ]
    },
    {
      "cell_type": "code",
      "execution_count": null,
      "metadata": {
        "id": "yOARSN2fCalo",
        "outputId": "5edb2aa0-94a4-414d-f58f-4bb8272cb0fb"
      },
      "outputs": [
        {
          "name": "stdout",
          "output_type": "stream",
          "text": [
            "8.8415\n"
          ]
        }
      ],
      "source": [
        "class_0 = (target_train == 0).sum()/len(data)*100\n",
        "class_1 = (target_train == 1).sum()/len(data)*100\n",
        "balance = round (class_0 / class_1, 4)\n",
        "print(balance)\n",
        "dict_classes={0:1, 1:balance}"
      ]
    },
    {
      "cell_type": "markdown",
      "metadata": {
        "id": "8NVa-Td5Calo"
      },
      "source": [
        "Сбалансируем явным способом. «Сбалансированный» режим использует значения y для автоматической корректировки весов, обратно пропорциональных частотам классов во входных данных как .n_samples / (n_classes * np.bincount(y))"
      ]
    },
    {
      "cell_type": "code",
      "execution_count": null,
      "metadata": {
        "id": "ihOV3KJyCalo",
        "outputId": "d3445ffb-4511-4ea1-a3e0-9b8974e1fc35"
      },
      "outputs": [
        {
          "name": "stdout",
          "output_type": "stream",
          "text": [
            "F1 на кроссвалидации с балансированными классами 0.7484330647215459\n",
            "CPU times: user 11.2 s, sys: 15 s, total: 26.2 s\n",
            "Wall time: 26.2 s\n"
          ]
        }
      ],
      "source": [
        "%%time\n",
        "cl3 = LogisticRegression(class_weight=dict_classes)\n",
        "train_f1_dict = cross_val_score(cl3,\n",
        "                                features_train,\n",
        "                                target_train,\n",
        "                                cv=cv_counts,\n",
        "                                scoring='f1').mean()\n",
        "print('F1 на кроссвалидации с балансированными классами', train_f1_dict)"
      ]
    },
    {
      "cell_type": "markdown",
      "metadata": {
        "id": "ftEcBGijCalp"
      },
      "source": [
        "<div class=\"alert alert-success\">\n",
        "<font size=\"5\"><b>Комментарий ревьюера</b></font>\n",
        "\n",
        "\n",
        "\n",
        "Успех 👍:\n",
        "\n",
        "\n",
        "\n",
        "Будем считать что провёл некоторые эксперименты по учету дисбаланса в данных\n",
        "\n",
        ""
      ]
    },
    {
      "cell_type": "markdown",
      "metadata": {
        "id": "YpgNxjjoCalp"
      },
      "source": [
        "### Вывод по подготовке данных\n",
        "\n",
        "Построим таблицу результатов баллансирования"
      ]
    },
    {
      "cell_type": "code",
      "execution_count": null,
      "metadata": {
        "id": "wYafbHajCalp",
        "outputId": "7deebe65-64b1-40f3-a33c-aa829ba92027"
      },
      "outputs": [
        {
          "data": {
            "text/html": [
              "<div>\n",
              "<style scoped>\n",
              "    .dataframe tbody tr th:only-of-type {\n",
              "        vertical-align: middle;\n",
              "    }\n",
              "\n",
              "    .dataframe tbody tr th {\n",
              "        vertical-align: top;\n",
              "    }\n",
              "\n",
              "    .dataframe thead th {\n",
              "        text-align: right;\n",
              "    }\n",
              "</style>\n",
              "<table border=\"1\" class=\"dataframe\">\n",
              "  <thead>\n",
              "    <tr style=\"text-align: right;\">\n",
              "      <th></th>\n",
              "      <th>F1 на кроссвалидации</th>\n",
              "    </tr>\n",
              "  </thead>\n",
              "  <tbody>\n",
              "    <tr>\n",
              "      <th>LR без балансировки классов</th>\n",
              "      <td>0.700915</td>\n",
              "    </tr>\n",
              "    <tr>\n",
              "      <th>LR неявная балансировка</th>\n",
              "      <td>0.739605</td>\n",
              "    </tr>\n",
              "    <tr>\n",
              "      <th>LR явная балансировка</th>\n",
              "      <td>0.748433</td>\n",
              "    </tr>\n",
              "  </tbody>\n",
              "</table>\n",
              "</div>"
            ],
            "text/plain": [
              "                             F1 на кроссвалидации\n",
              "LR без балансировки классов              0.700915\n",
              "LR неявная балансировка                  0.739605\n",
              "LR явная балансировка                    0.748433"
            ]
          },
          "execution_count": 27,
          "metadata": {},
          "output_type": "execute_result"
        }
      ],
      "source": [
        "index = ['LR без балансировки классов',\n",
        "         'LR неявная балансировка',\n",
        "         'LR явная балансировка']\n",
        "dataset = {'F1 на кроссвалидации':[train_f1, train_f1_balanced, train_f1_dict]}\n",
        "\n",
        "scores_data = pd.DataFrame(data=dataset, index=index)\n",
        "scores_data"
      ]
    },
    {
      "cell_type": "markdown",
      "metadata": {
        "id": "16UVrvlKCalp"
      },
      "source": [
        "* В ходе подготовки данных были очищены тексты, выполнена лемматизация\n",
        "* Найдены частоты употребления слов в комментариях\n",
        "* Определено наличие дисбаланса классов и определён оптимальный метод его выравнивания\n"
      ]
    },
    {
      "cell_type": "markdown",
      "metadata": {
        "id": "6yTJE5fLCalp"
      },
      "source": [
        "## Обучение"
      ]
    },
    {
      "cell_type": "markdown",
      "metadata": {
        "id": "uY-mKmdECalq"
      },
      "source": [
        "Для обучения выберем следующие модели:\n",
        "\n",
        "* LogisticRegression\n",
        "* DecisionTreeClassifier\n",
        "* SGDClassifier"
      ]
    },
    {
      "cell_type": "markdown",
      "metadata": {
        "id": "e_wNm74TCalq"
      },
      "source": [
        "### LogisticRegression"
      ]
    },
    {
      "cell_type": "code",
      "execution_count": null,
      "metadata": {
        "scrolled": true,
        "id": "QGvPPbzmCalq"
      },
      "outputs": [],
      "source": [
        "#%%time\n",
        "\n",
        "#classificator = LogisticRegression(random_state = RANDOM_STATE) # инициализация\n",
        "#hyperparams = [{'solver':['newton-cg', 'lbfgs', 'liblinear'], # Решатели «newton-cg», «sag» и «lbfgs» поддерживают только\n",
        "                                                              # регуляризацию L2\n",
        "#                'C':[0.1, 1, 10], # инверсия силы регуляризации\n",
        "#                'class_weight':[dict_classes]}] # явная балансировка классов\n",
        "\n",
        "# Поиск лучших гиперпараметров'\n",
        "#clf = GridSearchCV(classificator, hyperparams, scoring='f1', cv=cv_counts)\n",
        "#clf.fit(features_train, target_train)"
      ]
    },
    {
      "cell_type": "code",
      "execution_count": null,
      "metadata": {
        "id": "WvPB50InCalq"
      },
      "outputs": [],
      "source": [
        "# Лучший набор параметров\n",
        "#LR_best_params = clf.best_params_\n",
        "#LR_best_params"
      ]
    },
    {
      "cell_type": "code",
      "execution_count": null,
      "metadata": {
        "scrolled": true,
        "id": "g6NB2qiFCalq"
      },
      "outputs": [],
      "source": [
        "# результаты для всех комбинаций\n",
        "#means = clf.cv_results_['mean_test_score'] # Возвращаемый mean_test_score результат sklearn — это среднее значение,\n",
        "                                           # рассчитанное для всех выборок, где каждая выборка имеет одинаковый вес.\n",
        "#for mean, params in zip(means, clf.cv_results_['params']):\n",
        "#    print(\"%0.3f for %r\"% (mean, params))\n",
        "#print()\n",
        "\n",
        "#cv_f1_LR = max(means)"
      ]
    },
    {
      "cell_type": "markdown",
      "metadata": {
        "id": "gbU_0I5MCalr"
      },
      "source": [
        "Оценим модель на валидационных данных"
      ]
    },
    {
      "cell_type": "code",
      "execution_count": null,
      "metadata": {
        "id": "Q5O5e-EnCalr"
      },
      "outputs": [],
      "source": [
        "#classificator = LogisticRegression()\n",
        "#classificator.set_params(**LR_best_params)\n",
        "#classificator.fit(features_train, target_train)\n",
        "#target_predict = classificator.predict(features_valid)\n",
        "#valid_f1_LR = f1_score(target_valid, target_predict)\n",
        "#print('F1 на cv', cv_f1_LR)\n",
        "#print('F1 на валидации', valid_f1_LR)"
      ]
    },
    {
      "cell_type": "markdown",
      "metadata": {
        "id": "ahA00lGZCalr"
      },
      "source": [
        "<div class=\"alert alert-danger\">\n",
        "<font size=\"5\"><b>Комментарий ревьюера</b></font>\n",
        "\n",
        "Ошибка:\n",
        "\n",
        "\n",
        "Не забываем при инициализации модели о random_state, иначе после каждого запуска кода у нас может быть разный результат\n",
        "\n",
        "\n",
        "</div>\n"
      ]
    },
    {
      "cell_type": "markdown",
      "metadata": {
        "id": "2hrn30EYCalr"
      },
      "source": [
        "<div class=\"alert alert-success\">\n",
        "<font size=\"5\"><b>Комментарий ревьюера</b></font>\n",
        "\n",
        "Успех:\n",
        "\n",
        "\n",
        "\n",
        "\n",
        "\n",
        "\n",
        "Корректно использован GridSearch. Есть и другие варианты, тюнинга гиперпараметров, можешь [ознакомиться](https://www.freecodecamp.org/news/hyperparameter-optimization-techniques-machine-learning/). Выделю оptuna, очень много плюсов, причем изучение можно начать с [**OptunaSearchCV**](https://optuna.readthedocs.io/en/stable/reference/generated/optuna.integration.OptunaSearchCV.html). Интерфейс практически такой же, как у GridSearchCV, поэтому очень легко начать пользоваться\n",
        "\n",
        "\n",
        "    \n",
        "\n",
        "<div class=\"alert alert-warning\">\n",
        "\n",
        "\n",
        "\n",
        "\n",
        "\n",
        "Совет:\n",
        "\n",
        "\n",
        "\n",
        "\n",
        "Молодец что используешь GridSearch, но еще лучше использовать связку GridSearchCV + pipeline.\n",
        "\n",
        "\n",
        "О pipeline:\n",
        "\n",
        "[Pipeline](https://scikit-learn.org/stable/modules/generated/sklearn.pipeline.Pipeline.html), это тема которая сразу затрагивает кроссвалидацию, тюнинг \"векторайз\", подбор гиперпараметров модели и о том что код стоит делать компактным.\n",
        "    \n",
        "    \n",
        "- в TfidfVectorizer(stop_words=stopwords) у тебя по умолчанию ngram_range=(1, 1), тут можно подбирать разное число n- грамм (и другие параметры), максимизируя метрику, но как объединить перебор по ngram_range с обучением моделей, чтобы не делать это по отдельности или с использованием цикла?! pipeline! Готовый [пример для работы с текстами](https://medium.com/@yoni.levine/how-to-grid-search-with-a-pipeline-93147835d916). Всё что нужно там есть, хотя очень лаконично. Можешь погуглить по:\n",
        "\n",
        "\n",
        "    \n",
        "    pipeline nlp gridsearchcv\n",
        "\n",
        "\n",
        "\n",
        "- как избежать ошибки подглядывания в будущее, когда мы предварительно работаем с данными (шкалирование, нормализация, TfidfVectorizer итп итд)? pipeline! особенно это важно, когда мы используем кроссвалидацию. Для TfidfVectorizer делаем .fit (обучаемся) на train, а transform на test, но точно также нужно сделать для валидационной выборки. Но GS делает валидационные внутри себя, спрашивается как добраться до нее и избежать подглядывания в будущее? Казалось бы никак, но нет! Pipeline! )\n",
        "    \n",
        "    \n",
        "- pipeline позволяет делать наш код компактней и читабельней, это большой плюс, когда код будет раздуваться     \n",
        "    \n",
        "    \n",
        "\n",
        "\n",
        "В общем если сделать GS+pipeline будет вообще хорошо )  \n",
        "    \n",
        "<div>   "
      ]
    },
    {
      "cell_type": "code",
      "execution_count": null,
      "metadata": {
        "id": "evTXC1ZXCals",
        "outputId": "2d3c3324-ada3-4357-9fb4-275b52e902bb"
      },
      "outputs": [
        {
          "name": "stdout",
          "output_type": "stream",
          "text": [
            "(111504,)\n",
            "(111504,)\n",
            "\n",
            "(47788,)\n",
            "(47788,)\n"
          ]
        }
      ],
      "source": [
        "# Разделим данные\n",
        "RANDOM_STATE = 42\n",
        "\n",
        "features = data.drop(['toxic', 'text'], axis = 1) # признаки\n",
        "features = features.lemmatize\n",
        "target = data.toxic # таргет\n",
        "\n",
        "# Получение пропорции 70:30:\n",
        "\n",
        "features_train, features_test, target_train, target_test = train_test_split(\n",
        "    features, target, test_size = 0.3, random_state = RANDOM_STATE, stratify=target)\n",
        "\n",
        "print(features_train.shape)\n",
        "print(target_train.shape)\n",
        "print()\n",
        "\n",
        "print(features_test.shape)\n",
        "print(target_test.shape)"
      ]
    },
    {
      "cell_type": "markdown",
      "metadata": {
        "id": "qyctPq0DCals"
      },
      "source": [
        "<div class=\"alert alert-warning\">\n",
        "<font size=\"5\"><b>Комментарий ревьюераV2</b></font>\n",
        "\n",
        "\n",
        "\n",
        "Совет 🤔:\n",
        "\n",
        "А вот это мы оставляем сразу после импортов\n",
        "    \n",
        "    \n",
        "    # Разделим данные\n",
        "    RANDOM_STATE = 42"
      ]
    },
    {
      "cell_type": "code",
      "execution_count": null,
      "metadata": {
        "id": "j8f9Seh0Cals",
        "outputId": "5d073109-fc16-4f21-9ea5-6ab340c6ff62"
      },
      "outputs": [
        {
          "name": "stdout",
          "output_type": "stream",
          "text": [
            "8.8415\n"
          ]
        }
      ],
      "source": [
        "class_0 = (target_train == 0).sum()/len(data)*100\n",
        "class_1 = (target_train == 1).sum()/len(data)*100\n",
        "balance = round (class_0 / class_1, 4)\n",
        "print(balance)\n",
        "dict_classes={0:1, 1:balance}"
      ]
    },
    {
      "cell_type": "code",
      "execution_count": null,
      "metadata": {
        "id": "rRGIzF9VCals",
        "outputId": "863d54e2-71cc-48b8-a3fe-ebe4f8130cec"
      },
      "outputs": [
        {
          "name": "stdout",
          "output_type": "stream",
          "text": [
            "F1 логистической регрессии = 0.76\n",
            "при параметрах {'lr__C': 10, 'lr__class_weight': {0: 1, 1: 8.8415}, 'lr__max_iter': 200, 'lr__random_state': 42, 'lr__solver': 'lbfgs'}\n",
            "\n",
            "CPU times: user 3min 12s, sys: 1min 53s, total: 5min 6s\n",
            "Wall time: 5min 6s\n"
          ]
        }
      ],
      "source": [
        "%%time\n",
        "#обучение:\n",
        "pipeline = Pipeline([(\"vect\", TfidfVectorizer(stop_words='english', sublinear_tf=True)),\n",
        "                     (\"lr\", LogisticRegression())])\n",
        "\n",
        "parameters = {'lr__solver': ('newton-cg', 'lbfgs', 'liblinear'),\n",
        "              'lr__C': (0.1, 1, 10),\n",
        "              'lr__random_state': ([42]),\n",
        "              'lr__max_iter': ([200]),\n",
        "              'lr__class_weight': ([dict_classes])}\n",
        "\n",
        "\n",
        "lr = GridSearchCV(pipeline, parameters, scoring='f1', cv=3, n_jobs=-1)\n",
        "\n",
        "lr.fit(features_train, target_train)\n",
        "\n",
        "mts_lr = lr.cv_results_['mean_test_score']\n",
        "lr_train_f1 = max(mts_lr)\n",
        "\n",
        "print('F1 логистической регрессии =', round(lr_train_f1,2))\n",
        "print('при параметрах', lr.best_params_)\n",
        "print()"
      ]
    },
    {
      "cell_type": "markdown",
      "metadata": {
        "id": "2OR06r_ZCalt"
      },
      "source": [
        "<div class=\"alert alert-success\">\n",
        "<font size=\"5\"><b>Комментарий ревьюераV2</b></font>\n",
        "\n",
        "\n",
        "\n",
        "Успех 👍:\n",
        "\n",
        "\n",
        "    \n",
        "Прекрасно\n",
        "    \n",
        "\n",
        "    \n",
        "<div class=\"alert alert-warning\">\n",
        "\n",
        "\n",
        "Совет:  \n",
        "\n",
        "\n",
        "\n",
        "На будущее    \n",
        "    \n",
        "    \n",
        "- Совет 0\n",
        "    \n",
        "\n",
        "Раз у нас в данных дисбаланс, и в pipeline можно было ещё засунуть интеллектуальный перебалансировщик данных SMOTE (альтернатива class_weight):\n",
        "\n",
        "    \n",
        "    from imblearn.pipeline import Pipeline\n",
        "    \n",
        "    pipe = Pipeline(steps = [\n",
        "         ('vectorizer', TfidfVectorizer()),\n",
        "         ('sampling', SMOTE(random_state=13)),\n",
        "         ('classifier', LogisticRegression(random_state=13))])    \n",
        "    \n",
        "   \n",
        "(Хотя надо сказать что для этого проекта добавление SMOTE занижает метрику)\n",
        "\n",
        "\n",
        "- Совет 1, развития темы использования pipeline\n",
        "    \n",
        "    \n",
        "Как создавать собственные функции в pipeline (мы пользовались стандартными из sklearn - Scaler, MinMax, или как в этом проекте TFIDF итп)    \n",
        "\n",
        "\n",
        "Можешь взять за основу [Ссылка 1](https://dzen.ru/media/id/5ee6f73b7cadb75a66e4c7e3/sozdanie-polzovatelskih-preobrazovatelei-dannyh-62b2a9a80e49941961ffc7a2),\n",
        "[Ссылка 2](https://towardsdatascience.com/pipelines-custom-transformers-in-scikit-learn-the-step-by-step-guide-with-python-code-4a7d9b068156)\n",
        "\n",
        "    \n",
        "    \n",
        "    \n",
        "    \n",
        "- Совет 2  Можешь попробовать  feature_engenering (это когда мы создаём собственные признаки. Во многих случаях это более эффективный способ повысить нашу метрику. Опять же для данного проекта это особо не работает,  но можно было попрактиковаться. Например посчитать количество слов  (Как будто бы в токсичных твитах слов меньше) итд итп или получить сентиментальную оценку текста с помощью\n",
        "    \n",
        "    \n",
        "    \n",
        "    from nltk.sentiment.vader import SentimentIntensityAnalyzer    "
      ]
    },
    {
      "cell_type": "markdown",
      "metadata": {
        "id": "GiLW4aygCalt"
      },
      "source": [
        "\n",
        "\n",
        "\n",
        "<div class=\"alert alert-warning\">\n",
        "<font size=\"5\"><b>Комментарий ревьюера</b></font>\n",
        "    \n",
        "    \n",
        "Совет:\n",
        "\n",
        "\n",
        "\n",
        "    \n",
        "\n",
        "\n",
        "Не надо воспринимать  GS как способ получить .best_params_, чтобы подставить их в модель и обучить на них. GS это сделал уже и модельку положил тут: .best_estimator_\n",
        "    \n",
        "  \n",
        "То есть вот это не нужно    \n",
        "    \n",
        "    classificator = LogisticRegression()\n",
        "    classificator.set_params(**LR_best_params)\n",
        "    classificator.fit(features_train, target_train)\n",
        "\n",
        "\n",
        "\n",
        "\n",
        "Кроме того как я писал выше, нет необходимости создавать валидационную выборку при использовании GS,  ты можешь обучить на train+valid,  а лучше модель для финального тестирования выбрать по .best_score_  "
      ]
    },
    {
      "cell_type": "markdown",
      "metadata": {
        "id": "u17E11fVCalt"
      },
      "source": [
        "### DecisionTreeClassifier"
      ]
    },
    {
      "cell_type": "code",
      "execution_count": null,
      "metadata": {
        "id": "OaqvXDiaCalt"
      },
      "outputs": [],
      "source": [
        "#%%time\n",
        "\n",
        "#classificator = DecisionTreeClassifier() # инициализация\n",
        "#hyperparams = [{'max_depth':[x for x in range(80, 92, 4)],\n",
        "#                'random_state':[42],\n",
        "#                'class_weight':[dict_classes]}]\n",
        "\n",
        "# Поиск лучших гиперпараметров'\n",
        "#clf = GridSearchCV(classificator, hyperparams, scoring='f1', cv=cv_counts)\n",
        "#clf.fit(features_train, target_train)"
      ]
    },
    {
      "cell_type": "code",
      "execution_count": null,
      "metadata": {
        "id": "RKCN_kR7Calt"
      },
      "outputs": [],
      "source": [
        "# Лучший набор параметров\n",
        "#DTC_best_params = clf.best_params_\n",
        "#DTC_best_params"
      ]
    },
    {
      "cell_type": "code",
      "execution_count": null,
      "metadata": {
        "id": "oXOVQiiTCalu"
      },
      "outputs": [],
      "source": [
        "# результаты для всех комбинаций\n",
        "#means = clf.cv_results_['mean_test_score']\n",
        "#for mean, params in zip(means, clf.cv_results_['params']):\n",
        "#    print(\"%0.6f for %r\"% (mean, params))\n",
        "#print()\n",
        "#\n",
        "#cv_f1_DTC = max(means)"
      ]
    },
    {
      "cell_type": "markdown",
      "metadata": {
        "id": "F8rhV-EsCalu"
      },
      "source": [
        "Оценим модель на валидационных данных"
      ]
    },
    {
      "cell_type": "code",
      "execution_count": null,
      "metadata": {
        "id": "8GSozfXGCalu"
      },
      "outputs": [],
      "source": [
        "#classificator = DecisionTreeClassifier()\n",
        "#classificator.set_params(**DTC_best_params)\n",
        "#classificator.fit(features_train, target_train)\n",
        "#target_predict = classificator.predict(features_valid)\n",
        "#valid_f1_DTC = f1_score(target_valid, target_predict)\n",
        "#print('F1 на cv', cv_f1_DTC)\n",
        "#print('F1 на валидации', valid_f1_DTC)"
      ]
    },
    {
      "cell_type": "code",
      "execution_count": null,
      "metadata": {
        "id": "UUVZzcmWCalu",
        "outputId": "1c1cf0ca-a229-4641-eeac-0204037f2149"
      },
      "outputs": [
        {
          "name": "stdout",
          "output_type": "stream",
          "text": [
            "F1 дерева решений = 0.63\n",
            "при параметрах {'dtc__class_weight': {0: 1, 1: 8.8415}, 'dtc__max_depth': 24, 'dtc__random_state': 42}\n",
            "CPU times: user 9min 42s, sys: 2.18 s, total: 9min 44s\n",
            "Wall time: 9min 45s\n"
          ]
        }
      ],
      "source": [
        "%%time\n",
        "\n",
        "#обучение:\n",
        "pipeline = Pipeline([(\"vect\", TfidfVectorizer(stop_words='english')),\n",
        "                     (\"dtc\", DecisionTreeClassifier())])\n",
        "\n",
        "parameters = {'dtc__max_depth': ([x for x in range(1, 25)]),\n",
        "              'dtc__random_state': ([42]),\n",
        "              'dtc__class_weight': ([dict_classes])}\n",
        "\n",
        "dtc = GridSearchCV(pipeline, parameters, scoring='f1', cv=3, n_jobs=-1)\n",
        "\n",
        "dtc.fit(features_train, target_train)\n",
        "\n",
        "mts_dtc = dtc.cv_results_['mean_test_score']\n",
        "dtc_train_f1 = max(mts_dtc)\n",
        "\n",
        "print('F1 дерева решений =', round(dtc_train_f1,2))\n",
        "print('при параметрах', dtc.best_params_)"
      ]
    },
    {
      "cell_type": "markdown",
      "metadata": {
        "id": "dYJbqbCNCalu"
      },
      "source": [
        "### SGDClassifier"
      ]
    },
    {
      "cell_type": "code",
      "execution_count": null,
      "metadata": {
        "id": "qUq6p5Z0Calv"
      },
      "outputs": [],
      "source": [
        "#%%time\n",
        "\n",
        "#classificator = SGDClassifier() # инициализация модели\n",
        "#hyperparams = [{'loss':['hinge', 'log', 'modified_huber'], # функции потерь:\n",
        "                                                           # loss=\"hinge\" — (soft-margin) линейная машина опорных векторов.\n",
        "                                                           # loss=\"modified_huber\" — сглаженная потеря петель.\n",
        "                                                           # loss=\"log\" — логистическая регрессия.\n",
        "#                'learning_rate': ['optimal', 'invscaling', 'adaptive'], # скорость обучения\n",
        "#                'eta0': [0.1, 0.2, 0.4],\n",
        "# начальная скорость обучения для «постоянного», «инвариантного» или «адаптивного» расписаний. Значение по умолчанию — 0,0,\n",
        "# поскольку eta0 не используется в «оптимальном» расписании по умолчанию. Значения должны находиться в диапазоне (0.0, inf).\n",
        "# Default Value 0\n",
        "#                'random_state': [42],\n",
        "#                'class_weight': [dict_classes]}]\n",
        "\n",
        "# Поиск лучших гиперпараметров'\n",
        "#clf = GridSearchCV(classificator, hyperparams, scoring='f1',cv=cv_counts)\n",
        "#clf.fit(features_train, target_train)"
      ]
    },
    {
      "cell_type": "code",
      "execution_count": null,
      "metadata": {
        "id": "Ck6um3ksCalv"
      },
      "outputs": [],
      "source": [
        "# Лучший набор параметров\n",
        "#SGDC_best_params = clf.best_params_\n",
        "#SGDC_best_params"
      ]
    },
    {
      "cell_type": "code",
      "execution_count": null,
      "metadata": {
        "id": "luPq6txlCalv"
      },
      "outputs": [],
      "source": [
        "# результаты для всех комбинаций\n",
        "#means = clf.cv_results_['mean_test_score']\n",
        "#for mean, params in zip(means, clf.cv_results_['params']):\n",
        "#    print(\"%0.3f for %r\"% (mean, params))\n",
        "\n",
        "#cv_f1_SGDC = max(means)"
      ]
    },
    {
      "cell_type": "markdown",
      "metadata": {
        "id": "4NcAAaCxCalv"
      },
      "source": [
        "Оценим модель на валидационных данных"
      ]
    },
    {
      "cell_type": "code",
      "execution_count": null,
      "metadata": {
        "id": "BoUVRntqCalv"
      },
      "outputs": [],
      "source": [
        "#classificator = SGDClassifier()\n",
        "#classificator.set_params(**SGDC_best_params)\n",
        "#classificator.fit(features_train, target_train)\n",
        "#target_predict = classificator.predict(features_valid)\n",
        "#valid_f1_SGDC = f1_score(target_valid, target_predict)\n",
        "#print('F1 на cv', cv_f1_SGDC)\n",
        "#print('F1 на валидации', valid_f1_SGDC)"
      ]
    },
    {
      "cell_type": "code",
      "execution_count": null,
      "metadata": {
        "id": "LapPmcyoCalv"
      },
      "outputs": [],
      "source": [
        "%%time\n",
        "\n",
        "#обучение:\n",
        "pipeline = Pipeline([(\"vect\", TfidfVectorizer(stop_words='english')),\n",
        "                     (\"clf\", SGDClassifier())])\n",
        "\n",
        "parameters = {'clf__loss': ('hinge', 'log', 'modified_huber'),\n",
        "              'clf__learning_rate': ('constant', 'optimal', 'invscaling', 'adaptive'),\n",
        "              'clf__eta0': (.01, .05, .1, .5),\n",
        "              'clf__random_state': ([42]),\n",
        "              'clf__class_weight': ([dict_classes])}\n",
        "\n",
        "sgdc = GridSearchCV(pipeline, parameters, scoring='f1', cv=3, n_jobs=-1)\n",
        "\n",
        "sgdc.fit(features_train, target_train)\n",
        "\n",
        "mts_sgdc = sgdc.cv_results_['mean_test_score']\n",
        "sgdc_train_f1 = max(mts_sgdc)\n",
        "\n",
        "print('F1 SGDClassifier =', round(sgdc_train_f1,2))\n",
        "print('при параметрах', sgdc.best_params_)"
      ]
    },
    {
      "cell_type": "markdown",
      "metadata": {
        "id": "9jeaKzvUCalw"
      },
      "source": [
        "### Вывод по обучению"
      ]
    },
    {
      "cell_type": "code",
      "execution_count": null,
      "metadata": {
        "id": "kANijpqeCalw"
      },
      "outputs": [],
      "source": [
        "#создаю сводную таблицу по показателям F1, времени обучения модели и времени предсказания модели:\n",
        "index = ['LogisticRegression',\n",
        "         'DecisionTreeClassifier',\n",
        "         'SGDClassifier'\n",
        "        ]\n",
        "\n",
        "data = {'F1 на обучающей выборке': [lr_train_f1,\n",
        "                                    dtc_train_f1,\n",
        "                                    sgdc_train_f1],\n",
        "        }\n",
        "\n",
        "f1_data = pd.DataFrame(data=data, index=index)\n",
        "\n",
        "f1_data.sort_values(by='F1 на обучающей выборке', ascending=False)"
      ]
    },
    {
      "cell_type": "markdown",
      "metadata": {
        "id": "FWyL_JC4Calw"
      },
      "source": [
        "Модели соответствующие условию задачи: LogisticRegression и SGDClassifier"
      ]
    },
    {
      "cell_type": "markdown",
      "metadata": {
        "id": "yLXh-cG7Calw"
      },
      "source": [
        "### Финальное тестирование:"
      ]
    },
    {
      "cell_type": "code",
      "execution_count": null,
      "metadata": {
        "id": "R-9EeDPVCalw"
      },
      "outputs": [],
      "source": [
        "# Финальное тестирование:\n",
        "predictions_test = lr.predict(features_test)\n",
        "lr_test_f1 = f1_score(target_test, predictions_test)\n",
        "print('F1 SGDClassifier на тестовых данных =', round(lr_test_f1,3))"
      ]
    },
    {
      "cell_type": "markdown",
      "metadata": {
        "id": "5b1N2S2ICalw"
      },
      "source": [
        "<div class=\"alert alert-warning\">\n",
        "<font size=\"5\"><b>Комментарий ревьюераV2</b></font>\n",
        "\n",
        "\n",
        "\n",
        "Совет 🤔:\n",
        "\n",
        "\n",
        "Только Логистическая регрессия а не SGDClassifier"
      ]
    },
    {
      "cell_type": "code",
      "execution_count": null,
      "metadata": {
        "id": "-IE-ZrLnCalx"
      },
      "outputs": [],
      "source": [
        "# Финальное тестирование:\n",
        "predictions_test = sgdc.predict(features_test)\n",
        "sgdc_test_f1 = f1_score(target_test, predictions_test)\n",
        "print('F1 SGDClassifier на тестовых данных =', round(sgdc_test_f1,3))"
      ]
    },
    {
      "cell_type": "markdown",
      "metadata": {
        "id": "DTC01BOGCalx"
      },
      "source": [
        "\n",
        "<div class=\"alert alert-danger\">\n",
        "<font size=\"5\"><b>Комментарий ревьюера</b></font>\n",
        "\n",
        "\n",
        "\n",
        "Ошибка ❌:\n",
        "\n",
        "\n",
        "\n",
        "А После выбора лучшие модели на валидации, пробудем ее финальное тестирование\n",
        "\n",
        "\n",
        "<div class=\"alert alert-warning\">\n",
        "\n",
        "\n",
        "\n",
        "Совет:\n",
        "\n",
        "\n",
        "Что может помочь добиться лучшего результата (от простого)?\n",
        "\n",
        "\n",
        "\n",
        "- можно поиграться [порогом](https://machinelearningmastery.com/threshold-moving-for-imbalanced-classification/). Таким образом можно поднять метрику на процент - полтора\n",
        "   \n",
        "\n",
        "    \n",
        " - полезно настраивать векторайзеры  (тут пригодится pipeline). Это конечно потребует вычислительных мощностей, ведь если даже использовать биграммы число признаков резко увеличится\n",
        "\n",
        "\n",
        "     \n",
        "\n",
        "- сгенерировать новые фичи, например  например посчитать число слов в тексте, длину слов итп итд. Или с помощью [тематического моделирования](https://pythobyte.com/python-for-nlp-topic-modeling-8fb3d689/)\n",
        "    \n",
        "    \n",
        "\n",
        "\n",
        "\n",
        "    \n",
        "- попробовать другие модели. проект своеобразный выбор между вычислительными ограничениями (много примеров, расчеты могут затянуться) и задачей получить хорошую метрику. С этой точки зрения  интересная [моделька](https://medium.com/geekculture/passive-aggressive-algorithm-for-big-data-models-8cd535ceb2e6) (открывается с помощью VPN) [или](https://datafinder.ru/products/passivno-agressivnyy-klassifikator-v-mashinnom-obuchenii). Она считается очень шустрой     \n",
        "    \n",
        "\n",
        "\n",
        "- использование предбученной модели Берта, выбрав соответствующую модель и используя полученные эмбединги, даже на небольшом тренировочном датасете можно обучить модель, которая на test покажет хорошую метрику. В этом случаи можно сразу получить метрику > 0.95 (при правильно выбранной модели)\n",
        "\n",
        "\n",
        "\n",
        "\n",
        ""
      ]
    },
    {
      "cell_type": "markdown",
      "metadata": {
        "id": "fb4nUL9YCalx"
      },
      "source": [
        "\n",
        "\n",
        "<div class=\"alert alert-warning\">\n",
        "<font size=\"5\"><b>Комментарий ревьюера</b></font>\n",
        "\n",
        "\n",
        "Совет:\n",
        "\n",
        "\n",
        "   \n",
        "\n",
        "\n",
        "Можно оценить важность признаков, это можно сделать с помощью [.feature_importance](https://inria.github.io/scikit-learn-mooc/python_scripts/dev_features_importance.html), [Permutation Importance](https://scikit-learn.org/stable/modules/permutation_importance.html), shap\n",
        "    \n",
        "    \n",
        "    \n",
        "Полезно чтобы модель не выглядела чёрным ящиком   "
      ]
    },
    {
      "cell_type": "markdown",
      "metadata": {
        "id": "1xF0glnNCalx"
      },
      "source": [
        "<div class=\"alert alert-info\">\n",
        "<font size=\"5\"><b>Комментарий студента 1 ?</b></font>\n",
        "\n",
        "Не смог найти .feature_importance в виде слов. Не понятно, как вывести соответствие слов признакам, в которых после преобразования TfidfVectorizer только цифры?"
      ]
    },
    {
      "cell_type": "markdown",
      "metadata": {
        "id": "50ZLHKmVCalx"
      },
      "source": [
        "\n",
        "\n",
        "<div class=\"alert alert-warning\">\n",
        "<font size=\"5\"><b>Комментарий ревьюера</b></font>\n",
        "\n",
        "\n",
        "Совет:\n",
        "\n",
        "А в проекте обучения с учителем вы это всё прекрасно делали. Получаем список слов    \n",
        "    \n",
        "    \n",
        "    \n",
        "    .get_feature_names_out().tolist()\n",
        "    \n",
        "    \n",
        "    \n",
        "Получаем коэффициенты важности (для логистической регрессии)    \n",
        "    \n",
        "    .coef_.tolist()[0]\n",
        "\n",
        "\n",
        "\n",
        "\n",
        "\n",
        "\n",
        "\n",
        "(Так как у тебя pipeline разбиваем его на части)    \n",
        "    \n",
        "    \n",
        "    \n",
        "    words = Твоя модель.best_estimator_.named_steps['Имя векторизатора'].get_feature_names_out()\n",
        "\n",
        "    \n",
        "    \n",
        "    \n",
        "Получаем коэффициенты важности (для логистической регрессии)    \n",
        "    \n",
        "    weights = Твоя модель.best_estimator_.named_steps['имя модели'].coef_[0]\n",
        "\n",
        "\n",
        "(подробно как можно вытаскивать имена [тут](https://medium.com/mlearning-ai/get-column-name-after-fitting-the-machine-learning-pipeline-145a2a8051cc))\n"
      ]
    },
    {
      "cell_type": "code",
      "execution_count": null,
      "metadata": {
        "id": "MLF-1xUyCaly"
      },
      "outputs": [],
      "source": [
        "!pip install -U scikit-learn"
      ]
    },
    {
      "cell_type": "markdown",
      "metadata": {
        "id": "5alKpLPqCaly"
      },
      "source": [
        "<div class=\"alert alert-info\">\n",
        "<font size=\"5\"><b>Комментарий студента 2</b></font>\n",
        "\n",
        "Нашёл самый важный признак для выражения активной коммуникации англоязычной аудитории :) Ура! Спасибо за рекоммендации"
      ]
    },
    {
      "cell_type": "markdown",
      "metadata": {
        "id": "787TwwF1Caly"
      },
      "source": [
        "<div class=\"alert alert-success\">\n",
        "<font size=\"5\"><b>Комментарий ревьюераV3</b></font>\n",
        "\n",
        "\n",
        "\n",
        "Успех 👍:\n",
        "\n",
        "\n",
        "\n",
        "👍\n",
        "\n",
        "\n",
        ""
      ]
    },
    {
      "cell_type": "code",
      "execution_count": null,
      "metadata": {
        "id": "LBoxv2eCCaly"
      },
      "outputs": [],
      "source": [
        "model = lr.best_estimator_.named_steps['lr']\n",
        "model"
      ]
    },
    {
      "cell_type": "code",
      "execution_count": null,
      "metadata": {
        "id": "xiuh7ig1Calz"
      },
      "outputs": [],
      "source": [
        "words = lr.best_estimator_.named_steps['vect'].get_feature_names_out()\n",
        "words"
      ]
    },
    {
      "cell_type": "code",
      "execution_count": null,
      "metadata": {
        "id": "py6YE-nFCalz"
      },
      "outputs": [],
      "source": [
        "weights = lr.best_estimator_.named_steps['lr'].coef_[0]\n",
        "weights.shape"
      ]
    },
    {
      "cell_type": "code",
      "execution_count": null,
      "metadata": {
        "id": "H9AVIRqZCalz"
      },
      "outputs": [],
      "source": [
        "percentile_list = pd.DataFrame(\n",
        "    {'words': words,\n",
        "     'weights': weights\n",
        "    })\n",
        "percentile_list.sort_values(by=['weights'], ascending=False)"
      ]
    },
    {
      "cell_type": "markdown",
      "metadata": {
        "id": "NO-NRc0sCalz"
      },
      "source": [
        "## Выводы"
      ]
    },
    {
      "cell_type": "markdown",
      "metadata": {
        "id": "z4L4XsBQCalz"
      },
      "source": [
        "В ходе работы над проектом было сделано:\n",
        "\n",
        "* В ходе преподготовки были получены признаки для обучения - для этого тексты были очищены и лемматизированы, потом\n",
        "  посчитаны TF-IDF для корпуса текстов.\n",
        "* Выборка разбита в соотношении 70/30. Количество кроссвалидаций уменьшено до 3 из-за размера выборок.\n",
        "* В выборках наблюдается дисбаланс классов. Определён лучший метод балансировки классов. Им оказалась явная балансировка.\n",
        "* Для обучения были выбраны следующие модели: * LogisticRegression, * DecisionTreeClassifier, * SGDClassifier\n",
        "* Проходящие по условию точности на валидационной выборке оказались: LogisticRegression и SGDClassifier"
      ]
    },
    {
      "cell_type": "markdown",
      "metadata": {
        "id": "RKKoOh_mCalz"
      },
      "source": [
        "\n",
        "<div class=\"alert alert-info\">\n",
        "<font size=\"5\"><b>Комментарий ревьюера</b></font>\n",
        "\n",
        "\n",
        "\n",
        "Андрей, у тебя старательно выполненная работа, все четко, осмысленно.\n",
        "\n",
        "\n",
        "\n",
        "Нет проблем с комментированием кода - всё что ты делаешь понятно\n",
        "\n",
        "\n",
        "Очистка проведена корректно (но есть вопросы к лемматизации)\n",
        "\n",
        "\n",
        "\n",
        "GS использован корректно\n",
        "    \n",
        "    \n",
        "    \n",
        "\n",
        "\n",
        "\n",
        "Так как число ошибок небольшое, можешь усложнить проект:\n",
        "\n",
        "\n",
        "\n",
        "\n",
        "\n",
        "- попробуй использовать связку GS+pipeline\n",
        "\n",
        "\n",
        "\n",
        "\n",
        "- попробуй очень современный и модный сейчас подход с использованием  Берта. Есть несколько вариантов, самый эффективный - это использовать эмбединги (как замена TFIDF) для этого есть уже готовый код в тренажёре (в этом случае разрешается сильно порезать датасет, а если еще и использовать GPU в Colab код можно прогнать за полчаса).\n",
        "\n",
        "\n",
        "\n",
        "- для красивой  визуализации можешь построить облако для токсичных и нетоксичных комментариев\n",
        "\n",
        "\n",
        "\n",
        "- чтобы заглянуть внутрь модели, можешь посмотреть какой из признаков является наиболее важный для логистической регресси (должно получиться слово fuck)   \n",
        "\n",
        "\n",
        "\n",
        "\n",
        "\n",
        "Обязательное к исправлению:\n",
        "\n",
        "\n",
        "\n",
        "\n",
        "\n",
        "\n",
        "- WordNetLemmatizer используем с POS - тег\n",
        "\n",
        "    \n",
        "    \n",
        "\n",
        "- .astype('U') лишнее, стоит экономить ресурсы, иначе может даже ядро обрушиться\n",
        "\n",
        "\n",
        "    \n",
        "\n",
        "- при инициализации модели не забываем random_state (можно один раз вначале просто прописать random.seed(42), чтобы не прописывать каждый раз везде random_state. Кстати знаешь откуда 42?)\n",
        "\n",
        "\n",
        "- не забываем в конце провести финальное тестирование лучшей модели.  Именно по этой метрике мы должны получить больше .75\n",
        "\n",
        "\n",
        "Жду исправлений, для принятия проекта. Если какие то вопросы, то сразу спрашивай )\n",
        "\n",
        "\n",
        "<font color='green'><b>Полезные (и просто интересные) материалы:</b> \\\n",
        "Для работы с текстами используют и другие подходы. Например, сейчас активно используются RNN (LSTM) и трансформеры (BERT и другие с улицы Сезам, например, ELMO). НО! Они не являются панацеей, не всегда они нужны, так как и TF-IDF или Word2Vec + модели из классического ML тоже могут справляться. \\\n",
        "BERT тяжелый, существует много его вариаций для разных задач, есть готовые модели, есть надстройки над библиотекой transformers. Если, обучать BERT на GPU (можно в Google Colab или Kaggle), то должно быть побыстрее.\\\n",
        "https://huggingface.co/transformers/model_doc/bert.html \\\n",
        "https://t.me/renat_alimbekov \\\n",
        "https://colah.github.io/posts/2015-08-Understanding-LSTMs/ - Про LSTM \\\n",
        "https://web.stanford.edu/~jurafsky/slp3/10.pdf - про энкодер-декодер модели, этеншены\\\n",
        "https://pytorch.org/tutorials/beginner/transformer_tutorial.html - официальный гайд\n",
        "по трансформеру от создателей pytorch\\\n",
        "https://transformer.huggingface.co/ - поболтать с трансформером \\\n",
        "Библиотеки: allennlp, fairseq, transformers, tensorflow-text — множествореализованных\n",
        "методов для трансформеров методов NLP \\\n",
        "Word2Vec https://radimrehurek.com/gensim/models/word2vec.html\n",
        "\n",
        "\n",
        "Если понравилась работа с текстами, то можешь посмотреть очень интересный (но очень-очень сложный) курс лекций: https://github.com/yandexdataschool/nlp_course .\n",
        "\n",
        "Если нравится смотреть и слушать то есть целый курс на Ютубе https://www.youtube.com/watch?v=qDMwIQRQt-M&list=PLEwK9wdS5g0qksxWxtE5c2KuFkIfUXe3i&index=1\n"
      ]
    },
    {
      "cell_type": "markdown",
      "metadata": {
        "id": "kmIrQk0tCal0"
      },
      "source": [
        "\n",
        "<div class=\"alert alert-info\">\n",
        "<font size=\"5\"><b>Комментарий ревьюераV2</b></font>\n",
        "\n",
        "Спасибо за работу!    \n",
        "\n",
        "    \n",
        "Красная исправлена.  На всякий случай отправлю на третью итерацию если остались какие-то вопросы    "
      ]
    },
    {
      "cell_type": "markdown",
      "metadata": {
        "id": "2g5zhAX-Cal0"
      },
      "source": [
        "\n",
        "<div class=\"alert alert-info\">\n",
        "<font size=\"5\"><b>Комментарий ревьюераV3</b></font>\n",
        "\n",
        "\n",
        "\n",
        "\n",
        "Красного нет, вопросов нет, значит все, пора принимать) Надеюсь мои советы и вопросики были полезны и в копилочку знаний упало что то новое, а проект стал лучше, и симпатичней.\n",
        "\n",
        "  \n",
        "Отличная работа Андрей. Желаю успехов в дальнейшей учебе!\n",
        "\n",
        "\n",
        "<div class=\"alert alert-warning\">\n",
        "\n",
        "Совет:\n",
        "    \n",
        "    \n",
        "Если думаешь и дальше заниматься NLP, то впереди очень современный и модный сейчас подход с использованием эмбедингов от Берт. Вообще именно в НЛП сейчас самые большие прорывы в машинном обучении,  может в курсе про [chatGPT](https://www.youtube.com/watch?v=IMP1zZ9K4Wc&t=3038s), GPT - это братик Берта )\n",
        "\n",
        "   "
      ]
    },
    {
      "cell_type": "markdown",
      "metadata": {
        "id": "P7fNE_UmCal0"
      },
      "source": [
        "## Чек-лист проверки"
      ]
    },
    {
      "cell_type": "markdown",
      "metadata": {
        "id": "SOLxwFVjCal0"
      },
      "source": [
        "- [x]  Jupyter Notebook открыт\n",
        "- [ ]  Весь код выполняется без ошибок\n",
        "- [ ]  Ячейки с кодом расположены в порядке исполнения\n",
        "- [ ]  Данные загружены и подготовлены\n",
        "- [ ]  Модели обучены\n",
        "- [ ]  Значение метрики *F1* не меньше 0.75\n",
        "- [ ]  Выводы написаны"
      ]
    }
  ],
  "metadata": {
    "ExecuteTimeLog": [
      {
        "duration": 340,
        "start_time": "2024-05-07T14:53:35.242Z"
      },
      {
        "duration": 54,
        "start_time": "2024-05-07T14:56:02.998Z"
      },
      {
        "duration": 67,
        "start_time": "2024-05-07T14:56:05.823Z"
      },
      {
        "duration": 52,
        "start_time": "2024-05-07T14:56:53.642Z"
      },
      {
        "duration": 5,
        "start_time": "2024-05-07T14:56:56.515Z"
      },
      {
        "duration": 2249,
        "start_time": "2024-05-07T14:57:38.203Z"
      },
      {
        "duration": 14,
        "start_time": "2024-05-07T14:57:44.131Z"
      },
      {
        "duration": 8,
        "start_time": "2024-05-07T15:36:26.548Z"
      },
      {
        "duration": 6,
        "start_time": "2024-05-07T15:42:42.400Z"
      },
      {
        "duration": 58,
        "start_time": "2024-05-08T06:09:53.289Z"
      },
      {
        "duration": 2006,
        "start_time": "2024-05-08T06:10:16.349Z"
      },
      {
        "duration": 11,
        "start_time": "2024-05-08T06:11:51.148Z"
      },
      {
        "duration": 4,
        "start_time": "2024-05-08T06:12:00.209Z"
      },
      {
        "duration": 90,
        "start_time": "2024-05-08T06:12:07.569Z"
      },
      {
        "duration": 7,
        "start_time": "2024-05-08T06:12:24.748Z"
      },
      {
        "duration": 15,
        "start_time": "2024-05-08T06:12:28.529Z"
      },
      {
        "duration": 47,
        "start_time": "2024-05-08T06:12:57.288Z"
      },
      {
        "duration": 19,
        "start_time": "2024-05-08T06:13:00.189Z"
      },
      {
        "duration": 9,
        "start_time": "2024-05-08T06:13:23.289Z"
      },
      {
        "duration": 12,
        "start_time": "2024-05-08T06:13:27.709Z"
      },
      {
        "duration": 2495,
        "start_time": "2024-05-08T06:13:31.569Z"
      },
      {
        "duration": 15,
        "start_time": "2024-05-08T06:13:37.009Z"
      },
      {
        "duration": 12,
        "start_time": "2024-05-08T06:13:39.148Z"
      },
      {
        "duration": 21,
        "start_time": "2024-05-08T06:13:41.529Z"
      },
      {
        "duration": 4,
        "start_time": "2024-05-08T06:14:22.528Z"
      },
      {
        "duration": 14,
        "start_time": "2024-05-08T06:14:25.309Z"
      },
      {
        "duration": 1413,
        "start_time": "2024-05-08T06:17:00.089Z"
      },
      {
        "duration": 1031,
        "start_time": "2024-05-08T06:17:01.505Z"
      },
      {
        "duration": 17,
        "start_time": "2024-05-08T06:17:02.537Z"
      },
      {
        "duration": 354,
        "start_time": "2024-05-08T06:17:02.556Z"
      },
      {
        "duration": 444,
        "start_time": "2024-05-08T06:17:02.912Z"
      },
      {
        "duration": 479,
        "start_time": "2024-05-08T06:17:03.358Z"
      },
      {
        "duration": 311,
        "start_time": "2024-05-08T06:17:03.839Z"
      },
      {
        "duration": 301,
        "start_time": "2024-05-08T06:17:49.937Z"
      },
      {
        "duration": 15,
        "start_time": "2024-05-08T06:17:54.389Z"
      },
      {
        "duration": 1592,
        "start_time": "2024-05-08T06:18:04.337Z"
      },
      {
        "duration": 1003,
        "start_time": "2024-05-08T06:18:05.931Z"
      },
      {
        "duration": 15,
        "start_time": "2024-05-08T06:18:06.935Z"
      },
      {
        "duration": 23,
        "start_time": "2024-05-08T06:18:06.952Z"
      },
      {
        "duration": 19,
        "start_time": "2024-05-08T06:18:06.978Z"
      },
      {
        "duration": 8,
        "start_time": "2024-05-08T06:18:06.999Z"
      },
      {
        "duration": 151,
        "start_time": "2024-05-08T06:18:07.030Z"
      },
      {
        "duration": 26,
        "start_time": "2024-05-08T06:20:15.589Z"
      },
      {
        "duration": 15,
        "start_time": "2024-05-08T06:21:49.949Z"
      },
      {
        "duration": 23,
        "start_time": "2024-05-08T06:21:53.509Z"
      },
      {
        "duration": 45,
        "start_time": "2024-05-08T06:22:57.269Z"
      },
      {
        "duration": 22,
        "start_time": "2024-05-08T06:22:59.768Z"
      },
      {
        "duration": 14,
        "start_time": "2024-05-08T06:23:11.071Z"
      },
      {
        "duration": 30,
        "start_time": "2024-05-08T06:28:34.890Z"
      },
      {
        "duration": 23,
        "start_time": "2024-05-08T06:28:49.049Z"
      },
      {
        "duration": 2157,
        "start_time": "2024-05-08T06:31:25.089Z"
      },
      {
        "duration": 14,
        "start_time": "2024-05-08T06:32:01.269Z"
      },
      {
        "duration": 23,
        "start_time": "2024-05-08T06:35:12.249Z"
      },
      {
        "duration": 16,
        "start_time": "2024-05-08T06:35:29.829Z"
      },
      {
        "duration": 6,
        "start_time": "2024-05-08T06:37:00.109Z"
      },
      {
        "duration": 680,
        "start_time": "2024-05-08T06:37:26.038Z"
      },
      {
        "duration": 465,
        "start_time": "2024-05-08T06:37:46.530Z"
      },
      {
        "duration": 9,
        "start_time": "2024-05-08T06:39:50.622Z"
      },
      {
        "duration": 5,
        "start_time": "2024-05-08T06:40:06.738Z"
      },
      {
        "duration": 3,
        "start_time": "2024-05-08T06:40:37.382Z"
      },
      {
        "duration": 4,
        "start_time": "2024-05-08T06:40:45.509Z"
      },
      {
        "duration": 5,
        "start_time": "2024-05-08T06:40:51.189Z"
      },
      {
        "duration": 5,
        "start_time": "2024-05-08T06:41:12.050Z"
      },
      {
        "duration": 5,
        "start_time": "2024-05-08T06:41:16.189Z"
      },
      {
        "duration": 14,
        "start_time": "2024-05-08T06:43:29.517Z"
      },
      {
        "duration": 14,
        "start_time": "2024-05-08T06:43:36.049Z"
      },
      {
        "duration": 5,
        "start_time": "2024-05-08T06:44:26.389Z"
      },
      {
        "duration": 542,
        "start_time": "2024-05-08T06:44:51.858Z"
      },
      {
        "duration": 5,
        "start_time": "2024-05-08T06:45:47.409Z"
      },
      {
        "duration": 1612,
        "start_time": "2024-05-08T06:45:53.570Z"
      },
      {
        "duration": 943,
        "start_time": "2024-05-08T06:45:55.184Z"
      },
      {
        "duration": 89,
        "start_time": "2024-05-08T06:45:56.128Z"
      },
      {
        "duration": 13,
        "start_time": "2024-05-08T06:45:56.228Z"
      },
      {
        "duration": 2191,
        "start_time": "2024-05-08T06:45:56.243Z"
      },
      {
        "duration": 13,
        "start_time": "2024-05-08T06:45:58.436Z"
      },
      {
        "duration": 21,
        "start_time": "2024-05-08T06:45:58.450Z"
      },
      {
        "duration": 13,
        "start_time": "2024-05-08T06:45:58.473Z"
      },
      {
        "duration": 8,
        "start_time": "2024-05-08T06:45:58.488Z"
      },
      {
        "duration": 134,
        "start_time": "2024-05-08T06:45:58.498Z"
      },
      {
        "duration": 145,
        "start_time": "2024-05-08T06:45:58.634Z"
      },
      {
        "duration": 5,
        "start_time": "2024-05-08T06:47:09.470Z"
      },
      {
        "duration": 1713,
        "start_time": "2024-05-08T06:47:14.568Z"
      },
      {
        "duration": 933,
        "start_time": "2024-05-08T06:47:16.283Z"
      },
      {
        "duration": 102,
        "start_time": "2024-05-08T06:47:17.218Z"
      },
      {
        "duration": 19,
        "start_time": "2024-05-08T06:47:17.331Z"
      },
      {
        "duration": 2201,
        "start_time": "2024-05-08T06:47:17.352Z"
      },
      {
        "duration": 14,
        "start_time": "2024-05-08T06:47:19.555Z"
      },
      {
        "duration": 48,
        "start_time": "2024-05-08T06:47:19.570Z"
      },
      {
        "duration": 11,
        "start_time": "2024-05-08T06:47:19.620Z"
      },
      {
        "duration": 13,
        "start_time": "2024-05-08T06:47:19.632Z"
      },
      {
        "duration": 109,
        "start_time": "2024-05-08T06:47:19.647Z"
      },
      {
        "duration": 152,
        "start_time": "2024-05-08T06:47:19.758Z"
      },
      {
        "duration": 35,
        "start_time": "2024-05-08T06:57:57.666Z"
      },
      {
        "duration": 4,
        "start_time": "2024-05-08T06:58:39.113Z"
      },
      {
        "duration": 1736,
        "start_time": "2024-05-08T06:58:45.208Z"
      },
      {
        "duration": 943,
        "start_time": "2024-05-08T06:58:46.946Z"
      },
      {
        "duration": 88,
        "start_time": "2024-05-08T06:58:47.891Z"
      },
      {
        "duration": 13,
        "start_time": "2024-05-08T06:58:47.980Z"
      },
      {
        "duration": 2192,
        "start_time": "2024-05-08T06:58:47.995Z"
      },
      {
        "duration": 15,
        "start_time": "2024-05-08T06:58:50.189Z"
      },
      {
        "duration": 40,
        "start_time": "2024-05-08T06:58:50.206Z"
      },
      {
        "duration": 16,
        "start_time": "2024-05-08T06:58:50.248Z"
      },
      {
        "duration": 21,
        "start_time": "2024-05-08T06:58:50.266Z"
      },
      {
        "duration": 117,
        "start_time": "2024-05-08T06:58:50.289Z"
      },
      {
        "duration": 163,
        "start_time": "2024-05-08T06:58:50.408Z"
      },
      {
        "duration": 0,
        "start_time": "2024-05-08T06:58:50.573Z"
      },
      {
        "duration": 7,
        "start_time": "2024-05-08T06:59:59.827Z"
      },
      {
        "duration": 139,
        "start_time": "2024-05-08T07:00:04.602Z"
      },
      {
        "duration": 11,
        "start_time": "2024-05-08T07:02:24.170Z"
      },
      {
        "duration": 6,
        "start_time": "2024-05-08T07:03:02.570Z"
      },
      {
        "duration": 2253,
        "start_time": "2024-05-08T07:03:34.951Z"
      },
      {
        "duration": 2075,
        "start_time": "2024-05-08T07:04:45.943Z"
      },
      {
        "duration": 273,
        "start_time": "2024-05-08T07:05:01.291Z"
      },
      {
        "duration": 2081,
        "start_time": "2024-05-08T07:05:16.963Z"
      },
      {
        "duration": 2151,
        "start_time": "2024-05-08T07:05:54.410Z"
      },
      {
        "duration": 17,
        "start_time": "2024-05-08T07:06:22.970Z"
      },
      {
        "duration": 1674,
        "start_time": "2024-05-08T07:09:51.970Z"
      },
      {
        "duration": 965,
        "start_time": "2024-05-08T07:09:53.646Z"
      },
      {
        "duration": 90,
        "start_time": "2024-05-08T07:09:54.613Z"
      },
      {
        "duration": 25,
        "start_time": "2024-05-08T07:09:54.704Z"
      },
      {
        "duration": 2239,
        "start_time": "2024-05-08T07:09:54.731Z"
      },
      {
        "duration": 13,
        "start_time": "2024-05-08T07:09:56.972Z"
      },
      {
        "duration": 22,
        "start_time": "2024-05-08T07:09:56.986Z"
      },
      {
        "duration": 31,
        "start_time": "2024-05-08T07:09:57.010Z"
      },
      {
        "duration": 21,
        "start_time": "2024-05-08T07:09:57.044Z"
      },
      {
        "duration": 149,
        "start_time": "2024-05-08T07:09:57.067Z"
      },
      {
        "duration": 144,
        "start_time": "2024-05-08T07:09:57.217Z"
      },
      {
        "duration": 2160,
        "start_time": "2024-05-08T07:09:57.363Z"
      },
      {
        "duration": 15,
        "start_time": "2024-05-08T07:09:59.525Z"
      },
      {
        "duration": 1583,
        "start_time": "2024-05-08T07:10:53.351Z"
      },
      {
        "duration": 952,
        "start_time": "2024-05-08T07:10:54.936Z"
      },
      {
        "duration": 90,
        "start_time": "2024-05-08T07:10:55.890Z"
      },
      {
        "duration": 28,
        "start_time": "2024-05-08T07:10:55.982Z"
      },
      {
        "duration": 10618,
        "start_time": "2024-05-08T07:10:56.014Z"
      },
      {
        "duration": 15,
        "start_time": "2024-05-08T07:11:06.634Z"
      },
      {
        "duration": 79,
        "start_time": "2024-05-08T07:11:06.651Z"
      },
      {
        "duration": 19,
        "start_time": "2024-05-08T07:11:06.732Z"
      },
      {
        "duration": 6,
        "start_time": "2024-05-08T07:11:06.753Z"
      },
      {
        "duration": 136,
        "start_time": "2024-05-08T07:11:06.760Z"
      },
      {
        "duration": 1321,
        "start_time": "2024-05-08T07:11:06.898Z"
      },
      {
        "duration": 234708,
        "start_time": "2024-05-08T07:11:08.221Z"
      },
      {
        "duration": 104,
        "start_time": "2024-05-08T07:15:02.933Z"
      },
      {
        "duration": 11,
        "start_time": "2024-05-08T07:15:44.729Z"
      },
      {
        "duration": 150,
        "start_time": "2024-05-08T07:19:28.029Z"
      },
      {
        "duration": 5,
        "start_time": "2024-05-08T07:21:01.409Z"
      },
      {
        "duration": 14,
        "start_time": "2024-05-08T07:21:10.968Z"
      },
      {
        "duration": 103,
        "start_time": "2024-05-08T07:21:46.981Z"
      },
      {
        "duration": 104,
        "start_time": "2024-05-08T07:23:13.189Z"
      },
      {
        "duration": 112,
        "start_time": "2024-05-08T07:23:27.089Z"
      },
      {
        "duration": 13,
        "start_time": "2024-05-08T07:23:37.449Z"
      },
      {
        "duration": 128,
        "start_time": "2024-05-08T07:23:39.189Z"
      },
      {
        "duration": 19,
        "start_time": "2024-05-08T07:23:45.489Z"
      },
      {
        "duration": 97,
        "start_time": "2024-05-08T07:23:47.261Z"
      },
      {
        "duration": 15,
        "start_time": "2024-05-08T07:23:52.429Z"
      },
      {
        "duration": 103,
        "start_time": "2024-05-08T07:23:53.909Z"
      },
      {
        "duration": 14,
        "start_time": "2024-05-08T07:24:00.309Z"
      },
      {
        "duration": 120,
        "start_time": "2024-05-08T07:24:02.230Z"
      },
      {
        "duration": 14,
        "start_time": "2024-05-08T07:24:12.229Z"
      },
      {
        "duration": 110,
        "start_time": "2024-05-08T07:24:13.761Z"
      },
      {
        "duration": 13,
        "start_time": "2024-05-08T07:24:18.349Z"
      },
      {
        "duration": 266,
        "start_time": "2024-05-08T07:24:20.110Z"
      },
      {
        "duration": 14,
        "start_time": "2024-05-08T07:29:20.209Z"
      },
      {
        "duration": 109,
        "start_time": "2024-05-08T07:29:23.248Z"
      },
      {
        "duration": 359,
        "start_time": "2024-05-08T07:32:27.089Z"
      },
      {
        "duration": 1262,
        "start_time": "2024-05-08T07:32:33.809Z"
      },
      {
        "duration": 1255,
        "start_time": "2024-05-08T07:32:42.829Z"
      },
      {
        "duration": 3,
        "start_time": "2024-05-08T07:33:42.229Z"
      },
      {
        "duration": 4,
        "start_time": "2024-05-08T07:33:57.608Z"
      },
      {
        "duration": 4,
        "start_time": "2024-05-08T07:35:35.609Z"
      },
      {
        "duration": 4,
        "start_time": "2024-05-08T07:36:04.088Z"
      },
      {
        "duration": 16,
        "start_time": "2024-05-08T07:36:39.668Z"
      },
      {
        "duration": 106,
        "start_time": "2024-05-08T07:36:42.428Z"
      },
      {
        "duration": 15,
        "start_time": "2024-05-08T07:36:51.169Z"
      },
      {
        "duration": 110,
        "start_time": "2024-05-08T07:36:52.608Z"
      },
      {
        "duration": 333,
        "start_time": "2024-05-08T07:38:32.971Z"
      },
      {
        "duration": 16,
        "start_time": "2024-05-08T07:38:46.769Z"
      },
      {
        "duration": 19,
        "start_time": "2024-05-08T07:41:41.449Z"
      },
      {
        "duration": 108,
        "start_time": "2024-05-08T07:41:43.980Z"
      },
      {
        "duration": 5,
        "start_time": "2024-05-08T07:41:49.609Z"
      },
      {
        "duration": 4,
        "start_time": "2024-05-08T07:41:51.820Z"
      },
      {
        "duration": 1291,
        "start_time": "2024-05-08T07:41:54.089Z"
      },
      {
        "duration": 272521,
        "start_time": "2024-05-08T07:42:06.808Z"
      },
      {
        "duration": 82521,
        "start_time": "2024-05-08T07:48:41.109Z"
      },
      {
        "duration": 11,
        "start_time": "2024-05-08T07:57:45.749Z"
      },
      {
        "duration": 5,
        "start_time": "2024-05-08T07:59:24.528Z"
      },
      {
        "duration": 13,
        "start_time": "2024-05-08T07:59:42.529Z"
      },
      {
        "duration": 24,
        "start_time": "2024-05-08T08:00:16.181Z"
      },
      {
        "duration": 840,
        "start_time": "2024-05-08T08:04:37.848Z"
      },
      {
        "duration": 1303,
        "start_time": "2024-05-08T08:05:09.168Z"
      },
      {
        "duration": 8949,
        "start_time": "2024-05-08T08:05:17.388Z"
      },
      {
        "duration": 17,
        "start_time": "2024-05-08T08:06:09.761Z"
      },
      {
        "duration": 16,
        "start_time": "2024-05-08T08:07:04.388Z"
      },
      {
        "duration": 1648,
        "start_time": "2024-05-08T08:07:16.969Z"
      },
      {
        "duration": 982,
        "start_time": "2024-05-08T08:07:18.619Z"
      },
      {
        "duration": 92,
        "start_time": "2024-05-08T08:07:19.603Z"
      },
      {
        "duration": 15,
        "start_time": "2024-05-08T08:07:19.697Z"
      },
      {
        "duration": 10470,
        "start_time": "2024-05-08T08:07:19.713Z"
      },
      {
        "duration": 14,
        "start_time": "2024-05-08T08:07:30.185Z"
      },
      {
        "duration": 154,
        "start_time": "2024-05-08T08:07:30.200Z"
      },
      {
        "duration": 53,
        "start_time": "2024-05-08T08:07:30.356Z"
      },
      {
        "duration": 1681,
        "start_time": "2024-05-08T08:07:30.410Z"
      },
      {
        "duration": 17336,
        "start_time": "2024-05-08T08:07:32.095Z"
      },
      {
        "duration": 99,
        "start_time": "2024-05-08T08:07:49.433Z"
      },
      {
        "duration": 125,
        "start_time": "2024-05-08T08:07:49.534Z"
      },
      {
        "duration": 151,
        "start_time": "2024-05-08T08:07:49.661Z"
      },
      {
        "duration": 0,
        "start_time": "2024-05-08T08:07:49.814Z"
      },
      {
        "duration": 0,
        "start_time": "2024-05-08T08:07:49.815Z"
      },
      {
        "duration": 0,
        "start_time": "2024-05-08T08:07:49.816Z"
      },
      {
        "duration": 1,
        "start_time": "2024-05-08T08:07:49.817Z"
      },
      {
        "duration": 0,
        "start_time": "2024-05-08T08:07:49.818Z"
      },
      {
        "duration": 0,
        "start_time": "2024-05-08T08:07:49.829Z"
      },
      {
        "duration": 1723,
        "start_time": "2024-05-08T08:09:29.428Z"
      },
      {
        "duration": 939,
        "start_time": "2024-05-08T08:09:31.153Z"
      },
      {
        "duration": 90,
        "start_time": "2024-05-08T08:09:32.094Z"
      },
      {
        "duration": 42,
        "start_time": "2024-05-08T08:09:32.187Z"
      },
      {
        "duration": 10334,
        "start_time": "2024-05-08T08:09:32.231Z"
      },
      {
        "duration": 15,
        "start_time": "2024-05-08T08:09:42.566Z"
      },
      {
        "duration": 84,
        "start_time": "2024-05-08T08:09:42.582Z"
      },
      {
        "duration": 21,
        "start_time": "2024-05-08T08:09:42.668Z"
      },
      {
        "duration": 1392,
        "start_time": "2024-05-08T08:09:42.691Z"
      },
      {
        "duration": 5944,
        "start_time": "2024-05-08T08:09:44.086Z"
      },
      {
        "duration": 6,
        "start_time": "2024-05-08T08:09:50.032Z"
      },
      {
        "duration": 135,
        "start_time": "2024-05-08T08:09:50.040Z"
      },
      {
        "duration": 144,
        "start_time": "2024-05-08T08:09:50.176Z"
      },
      {
        "duration": 0,
        "start_time": "2024-05-08T08:09:50.321Z"
      },
      {
        "duration": 0,
        "start_time": "2024-05-08T08:09:50.322Z"
      },
      {
        "duration": 0,
        "start_time": "2024-05-08T08:09:50.329Z"
      },
      {
        "duration": 0,
        "start_time": "2024-05-08T08:09:50.330Z"
      },
      {
        "duration": 0,
        "start_time": "2024-05-08T08:09:50.331Z"
      },
      {
        "duration": 0,
        "start_time": "2024-05-08T08:09:50.332Z"
      },
      {
        "duration": 1647,
        "start_time": "2024-05-08T08:14:36.440Z"
      },
      {
        "duration": 939,
        "start_time": "2024-05-08T08:14:38.089Z"
      },
      {
        "duration": 87,
        "start_time": "2024-05-08T08:14:39.030Z"
      },
      {
        "duration": 51,
        "start_time": "2024-05-08T08:14:39.119Z"
      },
      {
        "duration": 93659,
        "start_time": "2024-05-08T08:14:39.172Z"
      },
      {
        "duration": 13,
        "start_time": "2024-05-08T08:16:12.833Z"
      },
      {
        "duration": 514,
        "start_time": "2024-05-08T08:16:12.847Z"
      },
      {
        "duration": 171,
        "start_time": "2024-05-08T08:16:13.362Z"
      },
      {
        "duration": 12648,
        "start_time": "2024-05-08T08:16:13.535Z"
      },
      {
        "duration": 49644,
        "start_time": "2024-05-08T08:16:26.185Z"
      },
      {
        "duration": 6,
        "start_time": "2024-05-08T08:17:15.831Z"
      },
      {
        "duration": 130,
        "start_time": "2024-05-08T08:17:15.839Z"
      },
      {
        "duration": 160,
        "start_time": "2024-05-08T08:17:15.971Z"
      },
      {
        "duration": 0,
        "start_time": "2024-05-08T08:17:16.133Z"
      },
      {
        "duration": 0,
        "start_time": "2024-05-08T08:17:16.134Z"
      },
      {
        "duration": 0,
        "start_time": "2024-05-08T08:17:16.135Z"
      },
      {
        "duration": 0,
        "start_time": "2024-05-08T08:17:16.136Z"
      },
      {
        "duration": 0,
        "start_time": "2024-05-08T08:17:16.138Z"
      },
      {
        "duration": 1,
        "start_time": "2024-05-08T08:17:16.138Z"
      },
      {
        "duration": 2043,
        "start_time": "2024-05-13T07:52:09.450Z"
      },
      {
        "duration": 3382,
        "start_time": "2024-05-13T07:52:11.495Z"
      },
      {
        "duration": 12,
        "start_time": "2024-05-13T07:52:14.878Z"
      },
      {
        "duration": 46,
        "start_time": "2024-05-13T07:52:14.892Z"
      },
      {
        "duration": 92392,
        "start_time": "2024-05-13T07:52:14.940Z"
      },
      {
        "duration": 19,
        "start_time": "2024-05-13T07:53:47.334Z"
      },
      {
        "duration": 504,
        "start_time": "2024-05-13T07:53:47.354Z"
      },
      {
        "duration": 125,
        "start_time": "2024-05-13T07:53:47.860Z"
      },
      {
        "duration": 12819,
        "start_time": "2024-05-13T07:53:47.986Z"
      },
      {
        "duration": 48870,
        "start_time": "2024-05-13T07:54:00.807Z"
      },
      {
        "duration": 7,
        "start_time": "2024-05-13T07:54:49.679Z"
      },
      {
        "duration": 279,
        "start_time": "2024-05-13T07:54:49.688Z"
      },
      {
        "duration": 173,
        "start_time": "2024-05-13T07:54:49.968Z"
      },
      {
        "duration": 0,
        "start_time": "2024-05-13T07:54:50.143Z"
      },
      {
        "duration": 0,
        "start_time": "2024-05-13T07:54:50.145Z"
      },
      {
        "duration": 0,
        "start_time": "2024-05-13T07:54:50.146Z"
      },
      {
        "duration": 0,
        "start_time": "2024-05-13T07:54:50.148Z"
      },
      {
        "duration": 0,
        "start_time": "2024-05-13T07:54:50.149Z"
      },
      {
        "duration": 0,
        "start_time": "2024-05-13T07:54:50.150Z"
      },
      {
        "duration": 6,
        "start_time": "2024-05-13T08:01:24.982Z"
      },
      {
        "duration": 5,
        "start_time": "2024-05-13T08:01:41.481Z"
      },
      {
        "duration": 5,
        "start_time": "2024-05-13T08:02:34.080Z"
      },
      {
        "duration": 164212,
        "start_time": "2024-05-13T08:13:58.870Z"
      },
      {
        "duration": 46418,
        "start_time": "2024-05-13T08:17:43.057Z"
      },
      {
        "duration": 5,
        "start_time": "2024-05-13T08:29:24.631Z"
      },
      {
        "duration": 101,
        "start_time": "2024-05-13T08:29:42.591Z"
      },
      {
        "duration": 6,
        "start_time": "2024-05-13T08:30:08.400Z"
      },
      {
        "duration": 5,
        "start_time": "2024-05-13T08:30:35.403Z"
      },
      {
        "duration": 6,
        "start_time": "2024-05-13T08:30:46.551Z"
      },
      {
        "duration": 5,
        "start_time": "2024-05-13T08:31:00.651Z"
      },
      {
        "duration": 6,
        "start_time": "2024-05-13T08:31:06.043Z"
      },
      {
        "duration": 5,
        "start_time": "2024-05-13T08:31:34.159Z"
      },
      {
        "duration": 4,
        "start_time": "2024-05-13T08:32:57.672Z"
      },
      {
        "duration": 5,
        "start_time": "2024-05-13T08:33:06.492Z"
      },
      {
        "duration": 6,
        "start_time": "2024-05-13T08:33:20.531Z"
      },
      {
        "duration": 6,
        "start_time": "2024-05-13T08:33:55.791Z"
      },
      {
        "duration": 28272,
        "start_time": "2024-05-13T08:56:21.099Z"
      },
      {
        "duration": 80,
        "start_time": "2024-05-13T08:58:36.783Z"
      },
      {
        "duration": 11,
        "start_time": "2024-05-13T08:59:45.751Z"
      },
      {
        "duration": 11,
        "start_time": "2024-05-13T09:00:49.071Z"
      },
      {
        "duration": 33079,
        "start_time": "2024-05-13T09:00:53.511Z"
      },
      {
        "duration": 159,
        "start_time": "2024-05-13T09:06:08.951Z"
      },
      {
        "duration": 123,
        "start_time": "2024-05-13T09:07:27.990Z"
      },
      {
        "duration": 12511,
        "start_time": "2024-05-13T09:07:40.510Z"
      },
      {
        "duration": 96776,
        "start_time": "2024-05-13T09:08:11.511Z"
      },
      {
        "duration": 7,
        "start_time": "2024-05-13T09:10:10.722Z"
      },
      {
        "duration": 98250,
        "start_time": "2024-05-13T09:10:17.531Z"
      },
      {
        "duration": 11,
        "start_time": "2024-05-13T09:12:34.611Z"
      },
      {
        "duration": 109977,
        "start_time": "2024-05-13T09:12:37.111Z"
      },
      {
        "duration": 5,
        "start_time": "2024-05-13T09:15:36.920Z"
      },
      {
        "duration": 6,
        "start_time": "2024-05-13T09:15:47.572Z"
      },
      {
        "duration": 6,
        "start_time": "2024-05-13T09:16:20.891Z"
      },
      {
        "duration": 1619,
        "start_time": "2024-05-13T09:20:47.022Z"
      },
      {
        "duration": 936,
        "start_time": "2024-05-13T09:20:48.642Z"
      },
      {
        "duration": 91,
        "start_time": "2024-05-13T09:20:49.580Z"
      },
      {
        "duration": 33,
        "start_time": "2024-05-13T09:20:49.672Z"
      },
      {
        "duration": 6,
        "start_time": "2024-05-13T09:20:49.707Z"
      },
      {
        "duration": 124,
        "start_time": "2024-05-13T09:20:49.714Z"
      },
      {
        "duration": 89052,
        "start_time": "2024-05-13T09:20:49.840Z"
      },
      {
        "duration": 12,
        "start_time": "2024-05-13T09:22:18.894Z"
      },
      {
        "duration": 499,
        "start_time": "2024-05-13T09:22:18.908Z"
      },
      {
        "duration": 114,
        "start_time": "2024-05-13T09:22:19.409Z"
      },
      {
        "duration": 12083,
        "start_time": "2024-05-13T09:22:19.524Z"
      },
      {
        "duration": 95262,
        "start_time": "2024-05-13T09:22:31.609Z"
      },
      {
        "duration": 7,
        "start_time": "2024-05-13T09:24:06.873Z"
      },
      {
        "duration": 96594,
        "start_time": "2024-05-13T09:24:06.882Z"
      },
      {
        "duration": 118705,
        "start_time": "2024-05-13T09:25:43.478Z"
      },
      {
        "duration": 4,
        "start_time": "2024-05-13T09:27:42.269Z"
      },
      {
        "duration": 15,
        "start_time": "2024-05-13T09:27:42.275Z"
      },
      {
        "duration": 167,
        "start_time": "2024-05-13T09:27:42.292Z"
      },
      {
        "duration": 0,
        "start_time": "2024-05-13T09:27:42.461Z"
      },
      {
        "duration": 0,
        "start_time": "2024-05-13T09:27:42.462Z"
      },
      {
        "duration": 0,
        "start_time": "2024-05-13T09:27:42.463Z"
      },
      {
        "duration": 0,
        "start_time": "2024-05-13T09:27:42.464Z"
      },
      {
        "duration": 0,
        "start_time": "2024-05-13T09:27:42.469Z"
      },
      {
        "duration": 0,
        "start_time": "2024-05-13T09:27:42.470Z"
      },
      {
        "duration": 0,
        "start_time": "2024-05-13T09:27:42.471Z"
      },
      {
        "duration": 39752,
        "start_time": "2024-05-13T09:35:12.575Z"
      },
      {
        "duration": 4,
        "start_time": "2024-05-13T09:37:58.321Z"
      },
      {
        "duration": 129701,
        "start_time": "2024-05-13T09:38:08.975Z"
      },
      {
        "duration": 130375,
        "start_time": "2024-05-13T09:42:18.936Z"
      },
      {
        "duration": 130771,
        "start_time": "2024-05-13T09:45:26.801Z"
      },
      {
        "duration": 11,
        "start_time": "2024-05-13T09:49:35.711Z"
      },
      {
        "duration": 98494,
        "start_time": "2024-05-13T09:50:42.891Z"
      },
      {
        "duration": 1514,
        "start_time": "2024-05-13T09:54:06.020Z"
      },
      {
        "duration": 898,
        "start_time": "2024-05-13T09:54:07.536Z"
      },
      {
        "duration": 81,
        "start_time": "2024-05-13T09:54:08.435Z"
      },
      {
        "duration": 48,
        "start_time": "2024-05-13T09:54:08.518Z"
      },
      {
        "duration": 15,
        "start_time": "2024-05-13T09:54:08.569Z"
      },
      {
        "duration": 124,
        "start_time": "2024-05-13T09:54:08.586Z"
      },
      {
        "duration": 88651,
        "start_time": "2024-05-13T09:54:08.711Z"
      },
      {
        "duration": 14,
        "start_time": "2024-05-13T09:55:37.364Z"
      },
      {
        "duration": 470,
        "start_time": "2024-05-13T09:55:37.379Z"
      },
      {
        "duration": 106,
        "start_time": "2024-05-13T09:55:37.851Z"
      },
      {
        "duration": 12102,
        "start_time": "2024-05-13T09:55:37.958Z"
      },
      {
        "duration": 96613,
        "start_time": "2024-05-13T09:55:50.062Z"
      },
      {
        "duration": 5,
        "start_time": "2024-05-13T09:57:26.677Z"
      },
      {
        "duration": 95926,
        "start_time": "2024-05-13T09:57:26.685Z"
      },
      {
        "duration": 0,
        "start_time": "2024-05-13T09:59:02.612Z"
      },
      {
        "duration": 0,
        "start_time": "2024-05-13T09:59:02.614Z"
      },
      {
        "duration": 0,
        "start_time": "2024-05-13T09:59:02.614Z"
      },
      {
        "duration": 95294,
        "start_time": "2024-05-13T10:01:45.580Z"
      },
      {
        "duration": 122552,
        "start_time": "2024-05-13T10:04:00.020Z"
      },
      {
        "duration": 12,
        "start_time": "2024-05-13T10:06:26.040Z"
      },
      {
        "duration": 133546,
        "start_time": "2024-05-13T10:06:40.816Z"
      },
      {
        "duration": 26,
        "start_time": "2024-05-13T10:10:43.621Z"
      },
      {
        "duration": 127425,
        "start_time": "2024-05-13T11:13:23.159Z"
      },
      {
        "duration": 132564,
        "start_time": "2024-05-13T11:15:30.587Z"
      },
      {
        "duration": 16,
        "start_time": "2024-05-13T11:17:43.153Z"
      },
      {
        "duration": 1207749,
        "start_time": "2024-05-13T11:41:48.024Z"
      },
      {
        "duration": 1546,
        "start_time": "2024-05-13T12:07:22.006Z"
      },
      {
        "duration": 915,
        "start_time": "2024-05-13T12:07:23.554Z"
      },
      {
        "duration": 78,
        "start_time": "2024-05-13T12:07:24.471Z"
      },
      {
        "duration": 26,
        "start_time": "2024-05-13T12:07:24.551Z"
      },
      {
        "duration": 14,
        "start_time": "2024-05-13T12:07:24.580Z"
      },
      {
        "duration": 108,
        "start_time": "2024-05-13T12:07:24.596Z"
      },
      {
        "duration": 9896,
        "start_time": "2024-05-13T12:07:24.706Z"
      },
      {
        "duration": 13,
        "start_time": "2024-05-13T12:07:34.604Z"
      },
      {
        "duration": 113,
        "start_time": "2024-05-13T12:07:34.618Z"
      },
      {
        "duration": 19,
        "start_time": "2024-05-13T12:07:34.732Z"
      },
      {
        "duration": 1441,
        "start_time": "2024-05-13T12:07:34.752Z"
      },
      {
        "duration": 11384,
        "start_time": "2024-05-13T12:07:36.194Z"
      },
      {
        "duration": 10,
        "start_time": "2024-05-13T12:07:47.670Z"
      },
      {
        "duration": 8687,
        "start_time": "2024-05-13T12:07:47.684Z"
      },
      {
        "duration": 11001,
        "start_time": "2024-05-13T12:07:56.373Z"
      },
      {
        "duration": 11156,
        "start_time": "2024-05-13T12:08:07.469Z"
      },
      {
        "duration": 141,
        "start_time": "2024-05-13T12:08:18.626Z"
      },
      {
        "duration": 0,
        "start_time": "2024-05-13T12:08:18.770Z"
      },
      {
        "duration": 0,
        "start_time": "2024-05-13T12:08:18.771Z"
      },
      {
        "duration": 15,
        "start_time": "2024-05-13T12:09:19.945Z"
      },
      {
        "duration": 53043,
        "start_time": "2024-05-13T12:09:25.933Z"
      },
      {
        "duration": 75492,
        "start_time": "2024-05-13T12:11:42.484Z"
      },
      {
        "duration": 4,
        "start_time": "2024-05-13T12:19:37.922Z"
      },
      {
        "duration": 81056,
        "start_time": "2024-05-13T12:20:46.918Z"
      },
      {
        "duration": 4,
        "start_time": "2024-05-13T12:22:19.522Z"
      },
      {
        "duration": 5,
        "start_time": "2024-05-13T12:22:27.262Z"
      },
      {
        "duration": 3,
        "start_time": "2024-05-13T12:23:42.042Z"
      },
      {
        "duration": 4,
        "start_time": "2024-05-13T12:23:47.183Z"
      },
      {
        "duration": 3,
        "start_time": "2024-05-13T12:24:47.303Z"
      },
      {
        "duration": 4,
        "start_time": "2024-05-13T12:24:51.894Z"
      },
      {
        "duration": 5,
        "start_time": "2024-05-13T12:26:27.683Z"
      },
      {
        "duration": 11,
        "start_time": "2024-05-13T12:26:47.262Z"
      },
      {
        "duration": 5,
        "start_time": "2024-05-13T12:26:56.462Z"
      },
      {
        "duration": 5,
        "start_time": "2024-05-13T12:27:58.362Z"
      },
      {
        "duration": 6,
        "start_time": "2024-05-13T12:28:22.102Z"
      },
      {
        "duration": 5,
        "start_time": "2024-05-13T12:28:30.618Z"
      },
      {
        "duration": 5,
        "start_time": "2024-05-13T12:28:38.274Z"
      },
      {
        "duration": 5,
        "start_time": "2024-05-13T12:34:27.436Z"
      },
      {
        "duration": 80,
        "start_time": "2024-05-13T12:34:51.909Z"
      },
      {
        "duration": 5,
        "start_time": "2024-05-13T12:34:57.141Z"
      },
      {
        "duration": 11,
        "start_time": "2024-05-13T12:35:13.728Z"
      },
      {
        "duration": 4,
        "start_time": "2024-05-13T12:35:20.928Z"
      },
      {
        "duration": 11,
        "start_time": "2024-05-13T12:35:24.870Z"
      },
      {
        "duration": 5,
        "start_time": "2024-05-13T12:35:29.004Z"
      },
      {
        "duration": 1107,
        "start_time": "2024-05-13T12:37:01.069Z"
      },
      {
        "duration": 103,
        "start_time": "2024-05-13T12:41:54.307Z"
      },
      {
        "duration": 5,
        "start_time": "2024-05-13T12:42:35.944Z"
      },
      {
        "duration": 4,
        "start_time": "2024-05-13T12:42:40.973Z"
      },
      {
        "duration": 57240,
        "start_time": "2024-05-13T12:42:50.840Z"
      },
      {
        "duration": 3,
        "start_time": "2024-05-13T12:43:55.548Z"
      },
      {
        "duration": 58710,
        "start_time": "2024-05-13T12:44:13.113Z"
      },
      {
        "duration": 6,
        "start_time": "2024-05-13T12:46:52.768Z"
      },
      {
        "duration": 5,
        "start_time": "2024-05-13T12:47:08.905Z"
      },
      {
        "duration": 630,
        "start_time": "2024-05-13T12:48:20.144Z"
      },
      {
        "duration": 72,
        "start_time": "2024-05-13T13:07:37.989Z"
      },
      {
        "duration": 5,
        "start_time": "2024-05-13T13:08:27.829Z"
      },
      {
        "duration": 24465,
        "start_time": "2024-05-13T13:08:36.356Z"
      },
      {
        "duration": 5,
        "start_time": "2024-05-13T13:09:32.948Z"
      },
      {
        "duration": 6,
        "start_time": "2024-05-13T13:10:21.409Z"
      },
      {
        "duration": 8,
        "start_time": "2024-05-13T13:10:31.968Z"
      },
      {
        "duration": 7,
        "start_time": "2024-05-13T13:10:42.090Z"
      },
      {
        "duration": 8,
        "start_time": "2024-05-13T13:11:04.789Z"
      },
      {
        "duration": 257,
        "start_time": "2024-05-13T13:13:13.148Z"
      },
      {
        "duration": 10,
        "start_time": "2024-05-13T13:14:42.609Z"
      },
      {
        "duration": 8,
        "start_time": "2024-05-13T13:15:17.128Z"
      },
      {
        "duration": 9,
        "start_time": "2024-05-13T13:15:23.908Z"
      },
      {
        "duration": 1553,
        "start_time": "2024-05-13T13:15:41.809Z"
      },
      {
        "duration": 919,
        "start_time": "2024-05-13T13:15:43.364Z"
      },
      {
        "duration": 80,
        "start_time": "2024-05-13T13:15:44.285Z"
      },
      {
        "duration": 39,
        "start_time": "2024-05-13T13:15:44.369Z"
      },
      {
        "duration": 6,
        "start_time": "2024-05-13T13:15:44.410Z"
      },
      {
        "duration": 117,
        "start_time": "2024-05-13T13:15:44.417Z"
      },
      {
        "duration": 9964,
        "start_time": "2024-05-13T13:15:44.535Z"
      },
      {
        "duration": 13,
        "start_time": "2024-05-13T13:15:54.501Z"
      },
      {
        "duration": 93,
        "start_time": "2024-05-13T13:15:54.516Z"
      },
      {
        "duration": 18,
        "start_time": "2024-05-13T13:15:54.610Z"
      },
      {
        "duration": 1438,
        "start_time": "2024-05-13T13:15:54.630Z"
      },
      {
        "duration": 24001,
        "start_time": "2024-05-13T13:15:56.069Z"
      },
      {
        "duration": 6,
        "start_time": "2024-05-13T13:16:20.072Z"
      },
      {
        "duration": 11991,
        "start_time": "2024-05-13T13:16:20.080Z"
      },
      {
        "duration": 13097,
        "start_time": "2024-05-13T13:16:32.073Z"
      },
      {
        "duration": 13058,
        "start_time": "2024-05-13T13:16:45.172Z"
      },
      {
        "duration": 11,
        "start_time": "2024-05-13T13:16:58.232Z"
      },
      {
        "duration": 86833,
        "start_time": "2024-05-13T13:16:58.244Z"
      },
      {
        "duration": 90,
        "start_time": "2024-05-13T13:18:25.081Z"
      },
      {
        "duration": 21,
        "start_time": "2024-05-13T13:18:25.173Z"
      },
      {
        "duration": 978,
        "start_time": "2024-05-13T13:18:25.195Z"
      },
      {
        "duration": 58332,
        "start_time": "2024-05-13T13:18:26.175Z"
      },
      {
        "duration": 4,
        "start_time": "2024-05-13T13:19:24.509Z"
      },
      {
        "duration": 137,
        "start_time": "2024-05-13T13:19:24.514Z"
      },
      {
        "duration": 0,
        "start_time": "2024-05-13T13:19:24.653Z"
      },
      {
        "duration": 0,
        "start_time": "2024-05-13T13:19:24.654Z"
      },
      {
        "duration": 0,
        "start_time": "2024-05-13T13:19:24.655Z"
      },
      {
        "duration": 0,
        "start_time": "2024-05-13T13:19:24.656Z"
      },
      {
        "duration": 0,
        "start_time": "2024-05-13T13:19:24.657Z"
      },
      {
        "duration": 0,
        "start_time": "2024-05-13T13:19:24.658Z"
      },
      {
        "duration": 11,
        "start_time": "2024-05-13T13:19:52.628Z"
      },
      {
        "duration": 6,
        "start_time": "2024-05-13T13:20:04.564Z"
      },
      {
        "duration": 663,
        "start_time": "2024-05-13T13:20:11.807Z"
      },
      {
        "duration": 24554,
        "start_time": "2024-05-13T13:20:17.868Z"
      },
      {
        "duration": 4,
        "start_time": "2024-05-13T13:20:55.319Z"
      },
      {
        "duration": 7,
        "start_time": "2024-05-13T13:20:57.347Z"
      },
      {
        "duration": 193,
        "start_time": "2024-05-13T13:21:17.927Z"
      },
      {
        "duration": 15,
        "start_time": "2024-05-13T13:21:20.735Z"
      },
      {
        "duration": 1180,
        "start_time": "2024-05-13T13:23:07.648Z"
      },
      {
        "duration": 12,
        "start_time": "2024-05-13T13:23:20.091Z"
      },
      {
        "duration": 11,
        "start_time": "2024-05-13T13:37:58.528Z"
      },
      {
        "duration": 5,
        "start_time": "2024-05-13T13:38:19.900Z"
      },
      {
        "duration": 11,
        "start_time": "2024-05-13T13:39:11.308Z"
      },
      {
        "duration": 1657,
        "start_time": "2024-05-13T13:39:30.757Z"
      },
      {
        "duration": 932,
        "start_time": "2024-05-13T13:39:32.417Z"
      },
      {
        "duration": 85,
        "start_time": "2024-05-13T13:39:33.351Z"
      },
      {
        "duration": 22,
        "start_time": "2024-05-13T13:39:33.438Z"
      },
      {
        "duration": 11,
        "start_time": "2024-05-13T13:39:33.463Z"
      },
      {
        "duration": 132,
        "start_time": "2024-05-13T13:39:33.476Z"
      },
      {
        "duration": 2230,
        "start_time": "2024-05-13T13:39:33.610Z"
      },
      {
        "duration": 15,
        "start_time": "2024-05-13T13:39:35.841Z"
      },
      {
        "duration": 75,
        "start_time": "2024-05-13T13:39:35.858Z"
      },
      {
        "duration": 33,
        "start_time": "2024-05-13T13:39:35.934Z"
      },
      {
        "duration": 303,
        "start_time": "2024-05-13T13:39:35.969Z"
      },
      {
        "duration": 103,
        "start_time": "2024-05-13T13:39:36.273Z"
      },
      {
        "duration": 5,
        "start_time": "2024-05-13T13:39:36.377Z"
      },
      {
        "duration": 140,
        "start_time": "2024-05-13T13:39:36.385Z"
      },
      {
        "duration": 122,
        "start_time": "2024-05-13T13:39:36.528Z"
      },
      {
        "duration": 330,
        "start_time": "2024-05-13T13:39:36.652Z"
      },
      {
        "duration": 10,
        "start_time": "2024-05-13T13:39:36.983Z"
      },
      {
        "duration": 820,
        "start_time": "2024-05-13T13:39:36.994Z"
      },
      {
        "duration": 4,
        "start_time": "2024-05-13T13:39:37.815Z"
      },
      {
        "duration": 9,
        "start_time": "2024-05-13T13:39:37.821Z"
      },
      {
        "duration": 29,
        "start_time": "2024-05-13T13:39:37.832Z"
      },
      {
        "duration": 2660,
        "start_time": "2024-05-13T13:39:37.862Z"
      },
      {
        "duration": 4,
        "start_time": "2024-05-13T13:39:40.524Z"
      },
      {
        "duration": 12,
        "start_time": "2024-05-13T13:39:40.529Z"
      },
      {
        "duration": 55,
        "start_time": "2024-05-13T13:39:40.542Z"
      },
      {
        "duration": 1150,
        "start_time": "2024-05-13T13:39:40.599Z"
      },
      {
        "duration": 4,
        "start_time": "2024-05-13T13:39:41.752Z"
      },
      {
        "duration": 9,
        "start_time": "2024-05-13T13:39:41.770Z"
      },
      {
        "duration": 26,
        "start_time": "2024-05-13T13:39:41.781Z"
      },
      {
        "duration": 10,
        "start_time": "2024-05-13T13:39:41.809Z"
      },
      {
        "duration": 4,
        "start_time": "2024-05-13T13:40:33.559Z"
      },
      {
        "duration": 1570,
        "start_time": "2024-05-13T13:41:16.518Z"
      },
      {
        "duration": 946,
        "start_time": "2024-05-13T13:41:18.090Z"
      },
      {
        "duration": 85,
        "start_time": "2024-05-13T13:41:19.038Z"
      },
      {
        "duration": 22,
        "start_time": "2024-05-13T13:41:19.125Z"
      },
      {
        "duration": 21,
        "start_time": "2024-05-13T13:41:19.149Z"
      },
      {
        "duration": 121,
        "start_time": "2024-05-13T13:41:19.171Z"
      },
      {
        "duration": 2279,
        "start_time": "2024-05-13T13:41:19.294Z"
      },
      {
        "duration": 19,
        "start_time": "2024-05-13T13:41:21.574Z"
      },
      {
        "duration": 16,
        "start_time": "2024-05-13T13:41:21.595Z"
      },
      {
        "duration": 14,
        "start_time": "2024-05-13T13:41:21.612Z"
      },
      {
        "duration": 312,
        "start_time": "2024-05-13T13:41:21.628Z"
      },
      {
        "duration": 109,
        "start_time": "2024-05-13T13:41:21.941Z"
      },
      {
        "duration": 6,
        "start_time": "2024-05-13T13:41:22.053Z"
      },
      {
        "duration": 134,
        "start_time": "2024-05-13T13:41:22.072Z"
      },
      {
        "duration": 128,
        "start_time": "2024-05-13T13:41:22.207Z"
      },
      {
        "duration": 330,
        "start_time": "2024-05-13T13:41:22.337Z"
      },
      {
        "duration": 10,
        "start_time": "2024-05-13T13:41:22.669Z"
      },
      {
        "duration": 826,
        "start_time": "2024-05-13T13:41:22.681Z"
      },
      {
        "duration": 5,
        "start_time": "2024-05-13T13:41:23.509Z"
      },
      {
        "duration": 7,
        "start_time": "2024-05-13T13:41:23.516Z"
      },
      {
        "duration": 13,
        "start_time": "2024-05-13T13:41:23.525Z"
      },
      {
        "duration": 2751,
        "start_time": "2024-05-13T13:41:23.539Z"
      },
      {
        "duration": 4,
        "start_time": "2024-05-13T13:41:26.292Z"
      },
      {
        "duration": 68,
        "start_time": "2024-05-13T13:41:26.298Z"
      },
      {
        "duration": 58,
        "start_time": "2024-05-13T13:41:26.368Z"
      },
      {
        "duration": 1137,
        "start_time": "2024-05-13T13:41:26.428Z"
      },
      {
        "duration": 6,
        "start_time": "2024-05-13T13:41:27.566Z"
      },
      {
        "duration": 14,
        "start_time": "2024-05-13T13:41:27.573Z"
      },
      {
        "duration": 48,
        "start_time": "2024-05-13T13:41:27.589Z"
      },
      {
        "duration": 11,
        "start_time": "2024-05-13T13:41:27.638Z"
      },
      {
        "duration": 13,
        "start_time": "2024-05-13T13:41:44.628Z"
      },
      {
        "duration": 1539,
        "start_time": "2024-05-13T13:54:23.600Z"
      },
      {
        "duration": 888,
        "start_time": "2024-05-13T13:54:25.141Z"
      },
      {
        "duration": 86,
        "start_time": "2024-05-13T13:54:26.031Z"
      },
      {
        "duration": 31,
        "start_time": "2024-05-13T13:54:26.119Z"
      },
      {
        "duration": 17,
        "start_time": "2024-05-13T13:54:26.153Z"
      },
      {
        "duration": 118,
        "start_time": "2024-05-13T13:54:26.172Z"
      },
      {
        "duration": 91927,
        "start_time": "2024-05-13T13:54:26.291Z"
      },
      {
        "duration": 13,
        "start_time": "2024-05-13T13:55:58.219Z"
      },
      {
        "duration": 505,
        "start_time": "2024-05-13T13:55:58.234Z"
      },
      {
        "duration": 111,
        "start_time": "2024-05-13T13:55:58.741Z"
      },
      {
        "duration": 12564,
        "start_time": "2024-05-13T13:55:58.854Z"
      },
      {
        "duration": 97657,
        "start_time": "2024-05-13T13:56:11.421Z"
      },
      {
        "duration": 96808,
        "start_time": "2024-05-13T13:57:49.080Z"
      },
      {
        "duration": 5,
        "start_time": "2024-05-13T13:59:25.891Z"
      },
      {
        "duration": 122314,
        "start_time": "2024-05-13T13:59:25.971Z"
      },
      {
        "duration": 133672,
        "start_time": "2024-05-13T14:01:28.287Z"
      },
      {
        "duration": 10,
        "start_time": "2024-05-13T14:03:41.969Z"
      },
      {
        "duration": 640393,
        "start_time": "2024-05-13T14:03:41.981Z"
      },
      {
        "duration": 6,
        "start_time": "2024-05-13T14:14:22.376Z"
      },
      {
        "duration": 95,
        "start_time": "2024-05-13T14:14:22.384Z"
      },
      {
        "duration": 49006,
        "start_time": "2024-05-13T14:14:22.481Z"
      },
      {
        "duration": 1943,
        "start_time": "2024-05-14T12:54:14.576Z"
      },
      {
        "duration": 2256,
        "start_time": "2024-05-14T12:54:20.096Z"
      },
      {
        "duration": 15,
        "start_time": "2024-05-14T12:54:24.723Z"
      },
      {
        "duration": 33,
        "start_time": "2024-05-14T12:54:26.175Z"
      },
      {
        "duration": 22,
        "start_time": "2024-05-14T12:54:29.167Z"
      },
      {
        "duration": 95,
        "start_time": "2024-05-14T12:54:30.055Z"
      },
      {
        "duration": 81931,
        "start_time": "2024-05-14T12:54:37.916Z"
      },
      {
        "duration": 81093,
        "start_time": "2024-05-14T12:57:41.155Z"
      },
      {
        "duration": 17,
        "start_time": "2024-05-14T12:59:02.251Z"
      },
      {
        "duration": 7,
        "start_time": "2024-05-14T12:59:37.956Z"
      },
      {
        "duration": 444,
        "start_time": "2024-05-14T13:00:22.184Z"
      },
      {
        "duration": 92,
        "start_time": "2024-05-14T13:02:38.014Z"
      },
      {
        "duration": 11631,
        "start_time": "2024-05-14T13:09:24.864Z"
      },
      {
        "duration": 119,
        "start_time": "2024-05-14T13:11:52.874Z"
      },
      {
        "duration": 4,
        "start_time": "2024-05-14T13:12:00.355Z"
      },
      {
        "duration": 3,
        "start_time": "2024-05-14T13:12:19.316Z"
      },
      {
        "duration": 10,
        "start_time": "2024-05-14T13:12:34.647Z"
      },
      {
        "duration": 4,
        "start_time": "2024-05-14T13:14:06.263Z"
      },
      {
        "duration": 4,
        "start_time": "2024-05-14T13:15:18.228Z"
      },
      {
        "duration": 5,
        "start_time": "2024-05-14T13:15:23.762Z"
      },
      {
        "duration": 3,
        "start_time": "2024-05-14T13:15:28.464Z"
      },
      {
        "duration": 4,
        "start_time": "2024-05-14T13:15:33.023Z"
      },
      {
        "duration": 3,
        "start_time": "2024-05-14T13:15:36.416Z"
      },
      {
        "duration": 3,
        "start_time": "2024-05-14T13:15:40.116Z"
      },
      {
        "duration": 5,
        "start_time": "2024-05-14T13:15:47.335Z"
      },
      {
        "duration": 4,
        "start_time": "2024-05-14T13:15:52.256Z"
      },
      {
        "duration": 4,
        "start_time": "2024-05-14T13:15:56.215Z"
      },
      {
        "duration": 4,
        "start_time": "2024-05-14T13:16:20.155Z"
      },
      {
        "duration": 5,
        "start_time": "2024-05-14T13:16:24.375Z"
      },
      {
        "duration": 4,
        "start_time": "2024-05-14T13:16:28.404Z"
      },
      {
        "duration": 4,
        "start_time": "2024-05-14T13:16:31.923Z"
      },
      {
        "duration": 4,
        "start_time": "2024-05-14T13:16:35.136Z"
      },
      {
        "duration": 4,
        "start_time": "2024-05-14T13:16:38.543Z"
      },
      {
        "duration": 97752,
        "start_time": "2024-05-14T13:21:29.477Z"
      },
      {
        "duration": 4,
        "start_time": "2024-05-14T13:24:53.108Z"
      },
      {
        "duration": 5,
        "start_time": "2024-05-14T13:27:01.739Z"
      },
      {
        "duration": 95800,
        "start_time": "2024-05-14T13:29:45.123Z"
      },
      {
        "duration": 832,
        "start_time": "2024-05-14T13:32:27.776Z"
      },
      {
        "duration": 6,
        "start_time": "2024-05-14T13:32:29.496Z"
      },
      {
        "duration": 13,
        "start_time": "2024-05-14T13:32:30.696Z"
      },
      {
        "duration": 5,
        "start_time": "2024-05-14T13:32:32.055Z"
      },
      {
        "duration": 89,
        "start_time": "2024-05-14T13:32:32.776Z"
      },
      {
        "duration": 3972,
        "start_time": "2024-05-14T13:32:34.796Z"
      },
      {
        "duration": 8,
        "start_time": "2024-05-14T13:32:39.595Z"
      },
      {
        "duration": 41,
        "start_time": "2024-05-14T13:32:41.076Z"
      },
      {
        "duration": 30,
        "start_time": "2024-05-14T13:32:43.396Z"
      },
      {
        "duration": 575,
        "start_time": "2024-05-14T13:32:45.115Z"
      },
      {
        "duration": 8863,
        "start_time": "2024-05-14T13:32:48.256Z"
      },
      {
        "duration": 12,
        "start_time": "2024-05-14T13:33:16.196Z"
      },
      {
        "duration": 11,
        "start_time": "2024-05-14T13:33:55.697Z"
      },
      {
        "duration": 5506,
        "start_time": "2024-05-14T13:34:20.015Z"
      },
      {
        "duration": 5,
        "start_time": "2024-05-14T13:34:40.624Z"
      },
      {
        "duration": 5283,
        "start_time": "2024-05-14T13:34:44.036Z"
      },
      {
        "duration": 8785,
        "start_time": "2024-05-14T13:35:29.585Z"
      },
      {
        "duration": 7146,
        "start_time": "2024-05-14T13:36:08.645Z"
      },
      {
        "duration": 10181,
        "start_time": "2024-05-14T13:36:36.757Z"
      },
      {
        "duration": 8258,
        "start_time": "2024-05-14T13:37:47.304Z"
      },
      {
        "duration": 7712,
        "start_time": "2024-05-14T13:38:19.564Z"
      },
      {
        "duration": 8009,
        "start_time": "2024-05-14T13:39:00.260Z"
      },
      {
        "duration": 9957,
        "start_time": "2024-05-14T13:39:18.912Z"
      },
      {
        "duration": 7986,
        "start_time": "2024-05-14T13:39:51.743Z"
      },
      {
        "duration": 15613,
        "start_time": "2024-05-14T13:40:37.364Z"
      },
      {
        "duration": 14463,
        "start_time": "2024-05-14T13:41:49.044Z"
      },
      {
        "duration": 14288,
        "start_time": "2024-05-14T13:42:20.985Z"
      },
      {
        "duration": 13941,
        "start_time": "2024-05-14T13:42:55.043Z"
      },
      {
        "duration": 4234,
        "start_time": "2024-05-14T13:43:48.192Z"
      },
      {
        "duration": 12144,
        "start_time": "2024-05-14T13:44:16.724Z"
      },
      {
        "duration": 8556,
        "start_time": "2024-05-14T13:48:47.603Z"
      },
      {
        "duration": 10697,
        "start_time": "2024-05-14T13:51:58.272Z"
      },
      {
        "duration": 11,
        "start_time": "2024-05-14T13:56:08.315Z"
      },
      {
        "duration": 7858,
        "start_time": "2024-05-14T13:56:11.064Z"
      },
      {
        "duration": 3940,
        "start_time": "2024-05-14T13:56:21.083Z"
      },
      {
        "duration": 5609,
        "start_time": "2024-05-14T13:56:46.583Z"
      },
      {
        "duration": 5371,
        "start_time": "2024-05-14T13:58:04.856Z"
      },
      {
        "duration": 5454,
        "start_time": "2024-05-14T13:58:17.324Z"
      },
      {
        "duration": 2723,
        "start_time": "2024-05-14T14:04:58.896Z"
      },
      {
        "duration": 5087,
        "start_time": "2024-05-14T14:07:01.577Z"
      },
      {
        "duration": 7401,
        "start_time": "2024-05-14T14:09:30.616Z"
      },
      {
        "duration": 2037,
        "start_time": "2024-05-14T14:09:41.388Z"
      },
      {
        "duration": 4917,
        "start_time": "2024-05-14T14:10:46.310Z"
      },
      {
        "duration": 3382,
        "start_time": "2024-05-14T14:11:20.836Z"
      },
      {
        "duration": 2588,
        "start_time": "2024-05-14T14:12:19.676Z"
      },
      {
        "duration": 5425,
        "start_time": "2024-05-14T14:15:50.096Z"
      },
      {
        "duration": 2623,
        "start_time": "2024-05-14T14:16:35.196Z"
      },
      {
        "duration": 178,
        "start_time": "2024-05-14T14:17:42.116Z"
      },
      {
        "duration": 168,
        "start_time": "2024-05-14T14:18:22.696Z"
      },
      {
        "duration": 190,
        "start_time": "2024-05-14T14:19:10.196Z"
      },
      {
        "duration": 208,
        "start_time": "2024-05-14T14:19:41.896Z"
      },
      {
        "duration": 194,
        "start_time": "2024-05-14T14:20:00.496Z"
      },
      {
        "duration": 204,
        "start_time": "2024-05-14T14:20:25.835Z"
      },
      {
        "duration": 10,
        "start_time": "2024-05-14T14:23:28.244Z"
      },
      {
        "duration": 10,
        "start_time": "2024-05-14T14:23:56.995Z"
      },
      {
        "duration": 9,
        "start_time": "2024-05-14T14:24:17.516Z"
      },
      {
        "duration": 65760,
        "start_time": "2024-05-14T14:26:39.868Z"
      },
      {
        "duration": 4,
        "start_time": "2024-05-14T14:28:07.536Z"
      },
      {
        "duration": 3,
        "start_time": "2024-05-14T14:34:27.201Z"
      },
      {
        "duration": 6,
        "start_time": "2024-05-14T14:34:39.480Z"
      },
      {
        "duration": 1420,
        "start_time": "2024-05-14T14:35:20.102Z"
      },
      {
        "duration": 1230,
        "start_time": "2024-05-14T14:35:38.401Z"
      },
      {
        "duration": 18129,
        "start_time": "2024-05-14T14:36:02.433Z"
      },
      {
        "duration": 4,
        "start_time": "2024-05-14T14:37:10.313Z"
      },
      {
        "duration": 6233,
        "start_time": "2024-05-14T14:37:26.102Z"
      },
      {
        "duration": 3,
        "start_time": "2024-05-14T14:37:36.101Z"
      },
      {
        "duration": 3697,
        "start_time": "2024-05-14T14:38:03.721Z"
      },
      {
        "duration": 3,
        "start_time": "2024-05-14T14:38:13.841Z"
      },
      {
        "duration": 4,
        "start_time": "2024-05-14T14:38:19.853Z"
      },
      {
        "duration": 477,
        "start_time": "2024-05-14T14:38:47.742Z"
      },
      {
        "duration": 17620,
        "start_time": "2024-05-14T14:39:31.282Z"
      },
      {
        "duration": 4,
        "start_time": "2024-05-14T14:39:56.373Z"
      },
      {
        "duration": 13989,
        "start_time": "2024-05-14T14:41:17.402Z"
      },
      {
        "duration": 4,
        "start_time": "2024-05-14T14:41:38.852Z"
      },
      {
        "duration": 277,
        "start_time": "2024-05-14T14:42:01.741Z"
      },
      {
        "duration": 6,
        "start_time": "2024-05-14T14:43:33.321Z"
      },
      {
        "duration": 43,
        "start_time": "2024-05-14T14:44:46.601Z"
      },
      {
        "duration": 9,
        "start_time": "2024-05-14T14:46:28.729Z"
      },
      {
        "duration": 9,
        "start_time": "2024-05-14T14:46:53.102Z"
      },
      {
        "duration": 10,
        "start_time": "2024-05-14T14:47:25.273Z"
      },
      {
        "duration": 9,
        "start_time": "2024-05-14T14:47:35.281Z"
      },
      {
        "duration": 6,
        "start_time": "2024-05-14T14:47:45.301Z"
      },
      {
        "duration": 6,
        "start_time": "2024-05-14T14:48:01.569Z"
      },
      {
        "duration": 5,
        "start_time": "2024-05-14T14:48:25.533Z"
      },
      {
        "duration": 5,
        "start_time": "2024-05-14T14:48:32.840Z"
      },
      {
        "duration": 5,
        "start_time": "2024-05-14T14:48:46.729Z"
      },
      {
        "duration": 5,
        "start_time": "2024-05-14T14:50:41.293Z"
      },
      {
        "duration": 6,
        "start_time": "2024-05-14T14:52:39.873Z"
      },
      {
        "duration": 5,
        "start_time": "2024-05-14T14:52:44.862Z"
      },
      {
        "duration": 3,
        "start_time": "2024-05-14T14:52:54.393Z"
      },
      {
        "duration": 7,
        "start_time": "2024-05-14T14:52:57.523Z"
      },
      {
        "duration": 44,
        "start_time": "2024-05-14T14:53:09.101Z"
      },
      {
        "duration": 6,
        "start_time": "2024-05-14T14:53:26.230Z"
      },
      {
        "duration": 4,
        "start_time": "2024-05-14T14:54:03.773Z"
      },
      {
        "duration": 5,
        "start_time": "2024-05-14T14:54:50.321Z"
      },
      {
        "duration": 5,
        "start_time": "2024-05-14T14:55:05.935Z"
      },
      {
        "duration": 4,
        "start_time": "2024-05-14T14:55:09.921Z"
      },
      {
        "duration": 5,
        "start_time": "2024-05-14T14:55:28.894Z"
      },
      {
        "duration": 7,
        "start_time": "2024-05-14T14:55:42.741Z"
      },
      {
        "duration": 5,
        "start_time": "2024-05-14T14:56:07.468Z"
      },
      {
        "duration": 6,
        "start_time": "2024-05-14T14:56:12.393Z"
      },
      {
        "duration": 5,
        "start_time": "2024-05-14T14:56:17.161Z"
      },
      {
        "duration": 6,
        "start_time": "2024-05-14T14:56:25.182Z"
      },
      {
        "duration": 14002,
        "start_time": "2024-05-14T14:56:33.701Z"
      },
      {
        "duration": 4,
        "start_time": "2024-05-14T14:56:56.681Z"
      },
      {
        "duration": 5797,
        "start_time": "2024-05-14T14:57:27.121Z"
      },
      {
        "duration": 4,
        "start_time": "2024-05-14T14:57:43.301Z"
      },
      {
        "duration": 13,
        "start_time": "2024-05-14T14:58:01.161Z"
      },
      {
        "duration": 5,
        "start_time": "2024-05-14T14:58:08.989Z"
      },
      {
        "duration": 4697,
        "start_time": "2024-05-14T14:58:18.221Z"
      },
      {
        "duration": 7,
        "start_time": "2024-05-14T14:58:30.121Z"
      },
      {
        "duration": 14017,
        "start_time": "2024-05-14T14:59:18.981Z"
      },
      {
        "duration": 4,
        "start_time": "2024-05-14T14:59:34.640Z"
      },
      {
        "duration": 7,
        "start_time": "2024-05-14T14:59:39.220Z"
      },
      {
        "duration": 255,
        "start_time": "2024-05-14T15:00:05.289Z"
      },
      {
        "duration": 10,
        "start_time": "2024-05-14T15:00:10.662Z"
      },
      {
        "duration": 5,
        "start_time": "2024-05-14T15:04:34.201Z"
      },
      {
        "duration": 5,
        "start_time": "2024-05-14T15:04:59.673Z"
      },
      {
        "duration": 1455,
        "start_time": "2024-05-14T15:05:31.669Z"
      },
      {
        "duration": 854,
        "start_time": "2024-05-14T15:05:33.126Z"
      },
      {
        "duration": 81,
        "start_time": "2024-05-14T15:05:33.982Z"
      },
      {
        "duration": 46,
        "start_time": "2024-05-14T15:05:34.064Z"
      },
      {
        "duration": 6,
        "start_time": "2024-05-14T15:05:34.112Z"
      },
      {
        "duration": 99,
        "start_time": "2024-05-14T15:05:34.119Z"
      },
      {
        "duration": 83393,
        "start_time": "2024-05-14T15:05:34.219Z"
      },
      {
        "duration": 27,
        "start_time": "2024-05-14T15:06:57.613Z"
      },
      {
        "duration": 483,
        "start_time": "2024-05-14T15:06:57.642Z"
      },
      {
        "duration": 122,
        "start_time": "2024-05-14T15:06:58.127Z"
      },
      {
        "duration": 11586,
        "start_time": "2024-05-14T15:06:58.251Z"
      },
      {
        "duration": 97291,
        "start_time": "2024-05-14T15:07:09.838Z"
      },
      {
        "duration": 38990,
        "start_time": "2024-05-14T15:08:47.130Z"
      },
      {
        "duration": 97704,
        "start_time": "2024-05-14T15:09:26.123Z"
      },
      {
        "duration": 42411,
        "start_time": "2024-05-14T15:11:03.829Z"
      },
      {
        "duration": 6,
        "start_time": "2024-05-14T15:11:46.241Z"
      },
      {
        "duration": 113871,
        "start_time": "2024-05-14T15:11:46.248Z"
      },
      {
        "duration": 46507,
        "start_time": "2024-05-14T15:13:40.121Z"
      },
      {
        "duration": 232,
        "start_time": "2024-05-14T15:14:26.631Z"
      },
      {
        "duration": 9,
        "start_time": "2024-05-14T15:14:26.865Z"
      },
      {
        "duration": 633361,
        "start_time": "2024-05-14T15:14:26.876Z"
      },
      {
        "duration": 95,
        "start_time": "2024-05-14T15:25:00.324Z"
      },
      {
        "duration": 53,
        "start_time": "2024-05-14T15:25:00.421Z"
      },
      {
        "duration": 46757,
        "start_time": "2024-05-14T15:25:00.475Z"
      },
      {
        "duration": 404282,
        "start_time": "2024-05-14T15:25:47.318Z"
      },
      {
        "duration": 4,
        "start_time": "2024-05-14T15:32:31.601Z"
      },
      {
        "duration": 42,
        "start_time": "2024-05-14T15:32:31.618Z"
      },
      {
        "duration": 54774,
        "start_time": "2024-05-14T15:32:31.661Z"
      },
      {
        "duration": 79110,
        "start_time": "2024-05-14T15:33:26.437Z"
      },
      {
        "duration": 4,
        "start_time": "2024-05-14T15:34:45.549Z"
      },
      {
        "duration": 22,
        "start_time": "2024-05-14T15:34:45.554Z"
      },
      {
        "duration": 1653,
        "start_time": "2024-05-14T15:34:45.577Z"
      },
      {
        "duration": 10,
        "start_time": "2024-05-14T15:34:47.231Z"
      },
      {
        "duration": 1810,
        "start_time": "2024-05-15T06:16:05.180Z"
      },
      {
        "duration": 2259,
        "start_time": "2024-05-15T06:17:10.640Z"
      },
      {
        "duration": 13,
        "start_time": "2024-05-15T06:17:16.587Z"
      },
      {
        "duration": 14,
        "start_time": "2024-05-15T06:20:57.419Z"
      },
      {
        "duration": 5,
        "start_time": "2024-05-15T06:28:17.499Z"
      },
      {
        "duration": 5,
        "start_time": "2024-05-15T06:28:27.354Z"
      },
      {
        "duration": 7,
        "start_time": "2024-05-15T06:30:56.243Z"
      },
      {
        "duration": 4,
        "start_time": "2024-05-15T06:31:29.883Z"
      },
      {
        "duration": 4,
        "start_time": "2024-05-15T06:31:41.863Z"
      },
      {
        "duration": 1027,
        "start_time": "2024-05-15T06:32:37.779Z"
      },
      {
        "duration": 14761,
        "start_time": "2024-05-15T06:33:41.418Z"
      },
      {
        "duration": 4722,
        "start_time": "2024-05-15T06:36:33.297Z"
      },
      {
        "duration": 5,
        "start_time": "2024-05-15T06:40:06.436Z"
      },
      {
        "duration": 3554,
        "start_time": "2024-05-15T06:41:11.841Z"
      },
      {
        "duration": 4211,
        "start_time": "2024-05-15T06:42:01.700Z"
      },
      {
        "duration": 17876,
        "start_time": "2024-05-15T06:42:24.359Z"
      },
      {
        "duration": 50,
        "start_time": "2024-05-15T06:52:17.698Z"
      },
      {
        "duration": 2549,
        "start_time": "2024-05-15T06:52:26.180Z"
      },
      {
        "duration": 2207,
        "start_time": "2024-05-15T06:52:39.848Z"
      },
      {
        "duration": 10,
        "start_time": "2024-05-15T06:52:45.717Z"
      },
      {
        "duration": 13,
        "start_time": "2024-05-15T06:53:06.484Z"
      },
      {
        "duration": 7,
        "start_time": "2024-05-15T06:53:27.416Z"
      },
      {
        "duration": 102,
        "start_time": "2024-05-15T06:53:30.157Z"
      },
      {
        "duration": 889,
        "start_time": "2024-05-15T06:53:43.035Z"
      },
      {
        "duration": 5,
        "start_time": "2024-05-15T06:53:50.956Z"
      },
      {
        "duration": 13,
        "start_time": "2024-05-15T06:53:53.436Z"
      },
      {
        "duration": 20320,
        "start_time": "2024-05-15T06:53:57.458Z"
      },
      {
        "duration": 276,
        "start_time": "2024-05-15T06:57:41.616Z"
      },
      {
        "duration": 9561,
        "start_time": "2024-05-15T06:58:52.575Z"
      },
      {
        "duration": 4,
        "start_time": "2024-05-15T07:06:51.640Z"
      },
      {
        "duration": 21,
        "start_time": "2024-05-15T07:07:00.997Z"
      },
      {
        "duration": 414,
        "start_time": "2024-05-15T07:07:44.757Z"
      },
      {
        "duration": 8,
        "start_time": "2024-05-15T07:07:51.817Z"
      },
      {
        "duration": 228,
        "start_time": "2024-05-15T07:08:51.117Z"
      },
      {
        "duration": 15,
        "start_time": "2024-05-15T07:11:38.587Z"
      },
      {
        "duration": 4,
        "start_time": "2024-05-15T07:12:19.760Z"
      },
      {
        "duration": 230,
        "start_time": "2024-05-15T07:12:29.199Z"
      },
      {
        "duration": 5,
        "start_time": "2024-05-15T07:12:38.800Z"
      },
      {
        "duration": 886,
        "start_time": "2024-05-15T07:12:40.160Z"
      },
      {
        "duration": 8,
        "start_time": "2024-05-15T07:12:42.600Z"
      },
      {
        "duration": 13,
        "start_time": "2024-05-15T07:12:43.760Z"
      },
      {
        "duration": 5,
        "start_time": "2024-05-15T07:12:45.090Z"
      },
      {
        "duration": 88,
        "start_time": "2024-05-15T07:12:45.800Z"
      },
      {
        "duration": 18187,
        "start_time": "2024-05-15T07:12:46.996Z"
      },
      {
        "duration": 438,
        "start_time": "2024-05-15T07:13:13.280Z"
      },
      {
        "duration": 5,
        "start_time": "2024-05-15T07:13:15.540Z"
      },
      {
        "duration": 221,
        "start_time": "2024-05-15T07:13:16.880Z"
      },
      {
        "duration": 463,
        "start_time": "2024-05-15T07:13:36.201Z"
      },
      {
        "duration": 110330,
        "start_time": "2024-05-15T07:13:48.481Z"
      },
      {
        "duration": 7,
        "start_time": "2024-05-15T07:16:16.056Z"
      },
      {
        "duration": 9,
        "start_time": "2024-05-15T07:16:24.984Z"
      },
      {
        "duration": 8,
        "start_time": "2024-05-15T07:16:38.844Z"
      },
      {
        "duration": 33,
        "start_time": "2024-05-15T07:56:21.022Z"
      },
      {
        "duration": 116072,
        "start_time": "2024-05-15T07:58:17.202Z"
      },
      {
        "duration": 20,
        "start_time": "2024-05-15T08:01:34.630Z"
      },
      {
        "duration": 187,
        "start_time": "2024-05-15T08:03:51.453Z"
      },
      {
        "duration": 60,
        "start_time": "2024-05-15T08:04:27.895Z"
      },
      {
        "duration": 75,
        "start_time": "2024-05-15T08:04:43.053Z"
      },
      {
        "duration": 180,
        "start_time": "2024-05-15T08:04:51.614Z"
      },
      {
        "duration": 19,
        "start_time": "2024-05-15T08:04:58.754Z"
      },
      {
        "duration": 1789,
        "start_time": "2024-05-15T08:06:02.854Z"
      },
      {
        "duration": 1366,
        "start_time": "2024-05-15T08:06:36.398Z"
      },
      {
        "duration": 70,
        "start_time": "2024-05-15T08:06:49.274Z"
      },
      {
        "duration": 284,
        "start_time": "2024-05-15T08:07:00.132Z"
      },
      {
        "duration": 1258,
        "start_time": "2024-05-15T08:07:35.554Z"
      },
      {
        "duration": 14,
        "start_time": "2024-05-15T08:07:41.082Z"
      },
      {
        "duration": 939,
        "start_time": "2024-05-15T08:07:46.713Z"
      },
      {
        "duration": 9,
        "start_time": "2024-05-15T08:07:48.774Z"
      },
      {
        "duration": 19,
        "start_time": "2024-05-15T08:07:49.634Z"
      },
      {
        "duration": 6,
        "start_time": "2024-05-15T08:07:51.033Z"
      },
      {
        "duration": 100,
        "start_time": "2024-05-15T08:07:51.693Z"
      },
      {
        "duration": 18297,
        "start_time": "2024-05-15T08:07:52.594Z"
      },
      {
        "duration": 441,
        "start_time": "2024-05-15T08:08:18.814Z"
      },
      {
        "duration": 4,
        "start_time": "2024-05-15T08:08:20.254Z"
      },
      {
        "duration": 177,
        "start_time": "2024-05-15T08:08:21.233Z"
      },
      {
        "duration": 66,
        "start_time": "2024-05-15T08:08:38.854Z"
      },
      {
        "duration": 29,
        "start_time": "2024-05-15T08:08:43.694Z"
      },
      {
        "duration": 272,
        "start_time": "2024-05-15T08:09:19.966Z"
      },
      {
        "duration": 18,
        "start_time": "2024-05-15T08:09:40.389Z"
      },
      {
        "duration": 231,
        "start_time": "2024-05-15T08:10:20.585Z"
      },
      {
        "duration": 75,
        "start_time": "2024-05-15T08:10:40.850Z"
      },
      {
        "duration": 73,
        "start_time": "2024-05-15T08:11:41.593Z"
      },
      {
        "duration": 18,
        "start_time": "2024-05-15T08:11:48.753Z"
      },
      {
        "duration": 1460,
        "start_time": "2024-05-15T08:12:06.668Z"
      },
      {
        "duration": 1268,
        "start_time": "2024-05-15T08:12:43.795Z"
      },
      {
        "duration": 538,
        "start_time": "2024-05-15T08:13:09.893Z"
      },
      {
        "duration": 9,
        "start_time": "2024-05-15T08:13:34.633Z"
      },
      {
        "duration": 8,
        "start_time": "2024-05-15T08:14:11.933Z"
      },
      {
        "duration": 9,
        "start_time": "2024-05-15T08:14:17.633Z"
      },
      {
        "duration": 2203,
        "start_time": "2024-05-15T08:14:32.813Z"
      },
      {
        "duration": 895,
        "start_time": "2024-05-15T08:14:36.745Z"
      },
      {
        "duration": 12,
        "start_time": "2024-05-15T08:14:39.753Z"
      },
      {
        "duration": 18,
        "start_time": "2024-05-15T08:14:40.573Z"
      },
      {
        "duration": 6,
        "start_time": "2024-05-15T08:14:43.612Z"
      },
      {
        "duration": 101,
        "start_time": "2024-05-15T08:14:44.513Z"
      },
      {
        "duration": 21509,
        "start_time": "2024-05-15T08:14:45.893Z"
      },
      {
        "duration": 395,
        "start_time": "2024-05-15T08:15:20.094Z"
      },
      {
        "duration": 5,
        "start_time": "2024-05-15T08:15:22.193Z"
      },
      {
        "duration": 119822,
        "start_time": "2024-05-15T08:15:29.653Z"
      },
      {
        "duration": 10,
        "start_time": "2024-05-15T08:19:32.404Z"
      },
      {
        "duration": 4232,
        "start_time": "2024-05-15T08:19:40.873Z"
      },
      {
        "duration": 36,
        "start_time": "2024-05-15T08:20:29.985Z"
      },
      {
        "duration": 169467,
        "start_time": "2024-05-15T08:21:07.181Z"
      },
      {
        "duration": 5,
        "start_time": "2024-05-15T08:25:40.513Z"
      },
      {
        "duration": 144756,
        "start_time": "2024-05-15T08:25:43.533Z"
      },
      {
        "duration": 180738,
        "start_time": "2024-05-15T08:29:02.313Z"
      },
      {
        "duration": 119228,
        "start_time": "2024-05-15T08:32:18.072Z"
      },
      {
        "duration": 181547,
        "start_time": "2024-05-15T08:34:30.304Z"
      },
      {
        "duration": 206266,
        "start_time": "2024-05-15T08:37:40.813Z"
      },
      {
        "duration": 13,
        "start_time": "2024-05-15T09:00:09.217Z"
      },
      {
        "duration": 9,
        "start_time": "2024-05-15T09:03:40.147Z"
      },
      {
        "duration": 3199,
        "start_time": "2024-05-15T09:44:49.965Z"
      },
      {
        "duration": 281,
        "start_time": "2024-05-15T09:48:41.946Z"
      },
      {
        "duration": 15,
        "start_time": "2024-05-15T09:50:33.312Z"
      },
      {
        "duration": 4,
        "start_time": "2024-05-15T09:51:01.888Z"
      },
      {
        "duration": 17,
        "start_time": "2024-05-15T09:52:11.659Z"
      },
      {
        "duration": 4,
        "start_time": "2024-05-15T09:52:21.459Z"
      },
      {
        "duration": 6,
        "start_time": "2024-05-15T09:52:37.323Z"
      },
      {
        "duration": 32,
        "start_time": "2024-05-15T09:53:04.975Z"
      },
      {
        "duration": 10,
        "start_time": "2024-05-15T10:02:52.042Z"
      },
      {
        "duration": 813,
        "start_time": "2024-05-15T10:07:21.417Z"
      },
      {
        "duration": 21,
        "start_time": "2024-05-15T10:07:48.285Z"
      },
      {
        "duration": 24,
        "start_time": "2024-05-15T10:08:09.418Z"
      },
      {
        "duration": 25,
        "start_time": "2024-05-15T10:08:25.658Z"
      },
      {
        "duration": 15,
        "start_time": "2024-05-15T10:09:26.318Z"
      },
      {
        "duration": 37,
        "start_time": "2024-05-15T10:10:01.438Z"
      },
      {
        "duration": 18,
        "start_time": "2024-05-15T10:11:39.218Z"
      },
      {
        "duration": 63,
        "start_time": "2024-05-15T10:18:01.331Z"
      },
      {
        "duration": 24,
        "start_time": "2024-05-15T10:18:19.420Z"
      },
      {
        "duration": 24,
        "start_time": "2024-05-15T10:19:25.850Z"
      },
      {
        "duration": 66,
        "start_time": "2024-05-15T10:22:47.447Z"
      },
      {
        "duration": 63,
        "start_time": "2024-05-15T10:23:28.004Z"
      },
      {
        "duration": 27,
        "start_time": "2024-05-15T10:23:43.190Z"
      },
      {
        "duration": 12,
        "start_time": "2024-05-15T10:23:49.851Z"
      },
      {
        "duration": 26,
        "start_time": "2024-05-15T10:24:00.191Z"
      },
      {
        "duration": 10,
        "start_time": "2024-05-15T10:24:13.541Z"
      },
      {
        "duration": 19,
        "start_time": "2024-05-15T10:27:08.787Z"
      },
      {
        "duration": 21,
        "start_time": "2024-05-15T10:28:02.187Z"
      },
      {
        "duration": 27,
        "start_time": "2024-05-15T10:28:12.369Z"
      },
      {
        "duration": 573,
        "start_time": "2024-05-15T10:28:33.208Z"
      },
      {
        "duration": 5002,
        "start_time": "2024-05-15T10:29:08.528Z"
      },
      {
        "duration": 25,
        "start_time": "2024-05-15T10:31:24.887Z"
      },
      {
        "duration": 20,
        "start_time": "2024-05-15T10:32:36.579Z"
      },
      {
        "duration": 3,
        "start_time": "2024-05-15T10:33:05.007Z"
      },
      {
        "duration": 21,
        "start_time": "2024-05-15T10:33:22.319Z"
      },
      {
        "duration": 12,
        "start_time": "2024-05-15T10:33:47.187Z"
      },
      {
        "duration": 2284,
        "start_time": "2024-05-15T10:33:48.755Z"
      },
      {
        "duration": 2319,
        "start_time": "2024-05-15T10:33:51.707Z"
      },
      {
        "duration": 846,
        "start_time": "2024-05-15T10:33:54.655Z"
      },
      {
        "duration": 9,
        "start_time": "2024-05-15T10:33:56.307Z"
      },
      {
        "duration": 14,
        "start_time": "2024-05-15T10:33:57.687Z"
      },
      {
        "duration": 5,
        "start_time": "2024-05-15T10:34:05.008Z"
      },
      {
        "duration": 89,
        "start_time": "2024-05-15T10:34:06.187Z"
      },
      {
        "duration": 18241,
        "start_time": "2024-05-15T10:34:07.987Z"
      },
      {
        "duration": 3,
        "start_time": "2024-05-15T10:34:37.699Z"
      },
      {
        "duration": 411,
        "start_time": "2024-05-15T10:34:38.987Z"
      },
      {
        "duration": 5,
        "start_time": "2024-05-15T10:34:40.666Z"
      },
      {
        "duration": 4,
        "start_time": "2024-05-15T10:35:02.647Z"
      },
      {
        "duration": 4614,
        "start_time": "2024-05-15T10:35:05.008Z"
      },
      {
        "duration": 114131,
        "start_time": "2024-05-15T10:36:37.867Z"
      },
      {
        "duration": 131,
        "start_time": "2024-05-15T10:38:31.999Z"
      },
      {
        "duration": 2474,
        "start_time": "2024-05-15T10:39:25.567Z"
      },
      {
        "duration": 4,
        "start_time": "2024-05-15T10:40:36.334Z"
      },
      {
        "duration": 30,
        "start_time": "2024-05-15T10:40:49.127Z"
      },
      {
        "duration": 2335,
        "start_time": "2024-05-15T10:40:52.627Z"
      },
      {
        "duration": 2384,
        "start_time": "2024-05-15T10:40:58.807Z"
      },
      {
        "duration": 2384,
        "start_time": "2024-05-15T10:41:13.387Z"
      },
      {
        "duration": 121,
        "start_time": "2024-05-15T10:41:39.687Z"
      },
      {
        "duration": 2419,
        "start_time": "2024-05-15T10:42:36.367Z"
      },
      {
        "duration": 2666,
        "start_time": "2024-05-15T10:43:14.379Z"
      },
      {
        "duration": 23,
        "start_time": "2024-05-15T10:46:47.867Z"
      },
      {
        "duration": 21,
        "start_time": "2024-05-15T10:52:11.268Z"
      },
      {
        "duration": 16,
        "start_time": "2024-05-15T10:53:44.047Z"
      },
      {
        "duration": 17,
        "start_time": "2024-05-15T10:54:04.787Z"
      },
      {
        "duration": 2698,
        "start_time": "2024-05-15T10:56:28.967Z"
      },
      {
        "duration": 80,
        "start_time": "2024-05-15T11:01:18.239Z"
      },
      {
        "duration": 4054,
        "start_time": "2024-05-15T11:01:25.947Z"
      },
      {
        "duration": 15,
        "start_time": "2024-05-15T11:01:53.527Z"
      },
      {
        "duration": 4264,
        "start_time": "2024-05-15T11:03:16.187Z"
      },
      {
        "duration": 4299,
        "start_time": "2024-05-15T11:04:07.827Z"
      },
      {
        "duration": 13,
        "start_time": "2024-05-15T11:04:22.587Z"
      },
      {
        "duration": 34,
        "start_time": "2024-05-15T11:04:34.387Z"
      },
      {
        "duration": 16,
        "start_time": "2024-05-15T11:07:19.626Z"
      },
      {
        "duration": 1383,
        "start_time": "2024-05-15T11:07:23.126Z"
      },
      {
        "duration": 8,
        "start_time": "2024-05-15T11:07:56.745Z"
      },
      {
        "duration": 11,
        "start_time": "2024-05-15T11:08:51.246Z"
      },
      {
        "duration": 22,
        "start_time": "2024-05-15T11:09:18.044Z"
      },
      {
        "duration": 17,
        "start_time": "2024-05-15T11:09:56.916Z"
      },
      {
        "duration": 17,
        "start_time": "2024-05-15T11:10:13.044Z"
      },
      {
        "duration": 7,
        "start_time": "2024-05-15T11:10:26.442Z"
      },
      {
        "duration": 9,
        "start_time": "2024-05-15T11:11:03.683Z"
      },
      {
        "duration": 31,
        "start_time": "2024-05-15T11:12:28.783Z"
      },
      {
        "duration": 21,
        "start_time": "2024-05-15T11:13:31.800Z"
      },
      {
        "duration": 22,
        "start_time": "2024-05-15T11:13:59.783Z"
      },
      {
        "duration": 3,
        "start_time": "2024-05-15T11:14:04.863Z"
      },
      {
        "duration": 9,
        "start_time": "2024-05-15T11:14:28.403Z"
      },
      {
        "duration": 198795,
        "start_time": "2024-05-15T11:17:02.761Z"
      },
      {
        "duration": 54,
        "start_time": "2024-05-15T11:20:27.509Z"
      },
      {
        "duration": 4618,
        "start_time": "2024-05-15T11:20:43.481Z"
      },
      {
        "duration": 4201,
        "start_time": "2024-05-15T11:20:55.822Z"
      },
      {
        "duration": 16,
        "start_time": "2024-05-15T11:21:05.281Z"
      },
      {
        "duration": 68,
        "start_time": "2024-05-15T11:21:08.909Z"
      },
      {
        "duration": 10,
        "start_time": "2024-05-15T11:21:27.873Z"
      },
      {
        "duration": 20,
        "start_time": "2024-05-15T11:21:31.026Z"
      },
      {
        "duration": 9,
        "start_time": "2024-05-15T11:21:34.241Z"
      },
      {
        "duration": 1206,
        "start_time": "2024-05-15T11:21:50.961Z"
      },
      {
        "duration": 19,
        "start_time": "2024-05-15T11:30:12.679Z"
      },
      {
        "duration": 1250,
        "start_time": "2024-05-15T11:30:16.299Z"
      },
      {
        "duration": 37,
        "start_time": "2024-05-15T11:36:36.915Z"
      },
      {
        "duration": 20,
        "start_time": "2024-05-15T11:36:50.878Z"
      },
      {
        "duration": 30,
        "start_time": "2024-05-15T11:37:12.299Z"
      },
      {
        "duration": 21,
        "start_time": "2024-05-15T11:37:31.858Z"
      },
      {
        "duration": 716,
        "start_time": "2024-05-15T11:37:34.819Z"
      },
      {
        "duration": 61,
        "start_time": "2024-05-15T11:40:26.277Z"
      },
      {
        "duration": 7,
        "start_time": "2024-05-15T11:40:49.058Z"
      },
      {
        "duration": 80,
        "start_time": "2024-05-15T11:40:55.948Z"
      },
      {
        "duration": 19969,
        "start_time": "2024-05-15T11:41:33.077Z"
      },
      {
        "duration": 82115,
        "start_time": "2024-05-15T11:42:15.836Z"
      },
      {
        "duration": 252,
        "start_time": "2024-05-15T11:49:10.953Z"
      },
      {
        "duration": 18,
        "start_time": "2024-05-15T11:53:06.092Z"
      },
      {
        "duration": 212,
        "start_time": "2024-05-15T11:58:01.210Z"
      },
      {
        "duration": 5,
        "start_time": "2024-05-15T11:58:35.606Z"
      },
      {
        "duration": 7,
        "start_time": "2024-05-15T11:58:52.410Z"
      },
      {
        "duration": 25,
        "start_time": "2024-05-15T12:03:58.201Z"
      },
      {
        "duration": 292,
        "start_time": "2024-05-15T12:04:02.057Z"
      },
      {
        "duration": 6,
        "start_time": "2024-05-15T12:05:02.121Z"
      },
      {
        "duration": 8,
        "start_time": "2024-05-15T12:06:50.519Z"
      },
      {
        "duration": 274,
        "start_time": "2024-05-15T12:07:18.560Z"
      },
      {
        "duration": 6,
        "start_time": "2024-05-15T12:15:25.204Z"
      },
      {
        "duration": 271,
        "start_time": "2024-05-15T12:15:40.964Z"
      },
      {
        "duration": 41,
        "start_time": "2024-05-15T12:19:22.449Z"
      },
      {
        "duration": 30,
        "start_time": "2024-05-15T12:19:49.209Z"
      },
      {
        "duration": 42,
        "start_time": "2024-05-15T12:20:41.364Z"
      },
      {
        "duration": 30,
        "start_time": "2024-05-15T12:21:45.411Z"
      },
      {
        "duration": 39,
        "start_time": "2024-05-15T12:23:50.829Z"
      },
      {
        "duration": 31,
        "start_time": "2024-05-15T12:25:16.333Z"
      },
      {
        "duration": 288,
        "start_time": "2024-05-15T12:25:58.073Z"
      },
      {
        "duration": 19,
        "start_time": "2024-05-15T12:29:14.995Z"
      },
      {
        "duration": 6,
        "start_time": "2024-05-15T12:29:39.815Z"
      },
      {
        "duration": 7,
        "start_time": "2024-05-15T12:30:14.075Z"
      },
      {
        "duration": 3,
        "start_time": "2024-05-15T12:32:10.356Z"
      },
      {
        "duration": 18,
        "start_time": "2024-05-15T12:32:35.936Z"
      },
      {
        "duration": 19,
        "start_time": "2024-05-15T12:33:17.616Z"
      },
      {
        "duration": 4,
        "start_time": "2024-05-15T12:33:27.856Z"
      },
      {
        "duration": 4,
        "start_time": "2024-05-15T12:33:51.716Z"
      },
      {
        "duration": 4,
        "start_time": "2024-05-15T12:33:53.576Z"
      },
      {
        "duration": 17,
        "start_time": "2024-05-15T12:34:27.596Z"
      },
      {
        "duration": 22,
        "start_time": "2024-05-15T12:34:38.648Z"
      },
      {
        "duration": 10611,
        "start_time": "2024-05-15T12:34:54.876Z"
      },
      {
        "duration": 3,
        "start_time": "2024-05-15T12:37:16.457Z"
      },
      {
        "duration": 3,
        "start_time": "2024-05-15T12:37:18.977Z"
      },
      {
        "duration": 8181,
        "start_time": "2024-05-15T12:37:21.216Z"
      },
      {
        "duration": 5,
        "start_time": "2024-05-15T12:38:03.312Z"
      },
      {
        "duration": 5,
        "start_time": "2024-05-15T12:38:05.832Z"
      },
      {
        "duration": 11847,
        "start_time": "2024-05-15T12:38:08.091Z"
      },
      {
        "duration": 7,
        "start_time": "2024-05-15T12:39:33.732Z"
      },
      {
        "duration": 3,
        "start_time": "2024-05-15T12:39:36.552Z"
      },
      {
        "duration": 3,
        "start_time": "2024-05-15T12:39:38.780Z"
      },
      {
        "duration": 12998,
        "start_time": "2024-05-15T12:39:40.791Z"
      },
      {
        "duration": 23,
        "start_time": "2024-05-15T12:42:59.989Z"
      },
      {
        "duration": 5,
        "start_time": "2024-05-15T12:43:18.860Z"
      },
      {
        "duration": 3,
        "start_time": "2024-05-15T12:44:02.689Z"
      },
      {
        "duration": 13176,
        "start_time": "2024-05-15T12:44:11.569Z"
      },
      {
        "duration": 6,
        "start_time": "2024-05-15T12:44:38.070Z"
      },
      {
        "duration": 4,
        "start_time": "2024-05-15T12:45:03.028Z"
      },
      {
        "duration": 12885,
        "start_time": "2024-05-15T12:45:07.610Z"
      },
      {
        "duration": 20,
        "start_time": "2024-05-15T12:45:43.015Z"
      },
      {
        "duration": 3,
        "start_time": "2024-05-15T12:45:46.394Z"
      },
      {
        "duration": 6,
        "start_time": "2024-05-15T12:45:47.955Z"
      },
      {
        "duration": 4,
        "start_time": "2024-05-15T12:45:48.374Z"
      },
      {
        "duration": 4,
        "start_time": "2024-05-15T12:45:49.170Z"
      },
      {
        "duration": 13086,
        "start_time": "2024-05-15T12:45:49.835Z"
      },
      {
        "duration": 80,
        "start_time": "2024-05-15T12:47:23.715Z"
      },
      {
        "duration": 17,
        "start_time": "2024-05-15T12:47:28.455Z"
      },
      {
        "duration": 19,
        "start_time": "2024-05-15T12:48:00.015Z"
      },
      {
        "duration": 26,
        "start_time": "2024-05-15T12:48:06.955Z"
      },
      {
        "duration": 859,
        "start_time": "2024-05-15T12:48:36.334Z"
      },
      {
        "duration": 58,
        "start_time": "2024-05-15T12:49:04.674Z"
      },
      {
        "duration": 11,
        "start_time": "2024-05-15T12:49:07.945Z"
      },
      {
        "duration": 4,
        "start_time": "2024-05-15T12:49:09.158Z"
      },
      {
        "duration": 4,
        "start_time": "2024-05-15T12:49:09.706Z"
      },
      {
        "duration": 9805,
        "start_time": "2024-05-15T12:49:10.394Z"
      },
      {
        "duration": 7,
        "start_time": "2024-05-15T12:50:25.022Z"
      },
      {
        "duration": 9,
        "start_time": "2024-05-15T12:50:42.832Z"
      },
      {
        "duration": 33,
        "start_time": "2024-05-15T12:50:50.371Z"
      },
      {
        "duration": 5,
        "start_time": "2024-05-15T12:50:51.951Z"
      },
      {
        "duration": 111,
        "start_time": "2024-05-15T12:50:52.892Z"
      },
      {
        "duration": 88,
        "start_time": "2024-05-15T12:51:23.091Z"
      },
      {
        "duration": 4275,
        "start_time": "2024-05-15T12:51:33.187Z"
      },
      {
        "duration": 4,
        "start_time": "2024-05-15T12:51:40.392Z"
      },
      {
        "duration": 1173337,
        "start_time": "2024-05-15T12:52:01.471Z"
      },
      {
        "duration": 6070,
        "start_time": "2024-05-15T13:14:17.507Z"
      },
      {
        "duration": 6491,
        "start_time": "2024-05-15T13:17:24.523Z"
      },
      {
        "duration": 6418,
        "start_time": "2024-05-15T13:35:06.797Z"
      },
      {
        "duration": 71,
        "start_time": "2024-05-15T13:40:20.484Z"
      },
      {
        "duration": 71,
        "start_time": "2024-05-15T13:41:14.703Z"
      },
      {
        "duration": 7517,
        "start_time": "2024-05-15T13:41:55.304Z"
      },
      {
        "duration": 7810,
        "start_time": "2024-05-15T13:43:25.484Z"
      },
      {
        "duration": 6196,
        "start_time": "2024-05-15T13:47:20.764Z"
      },
      {
        "duration": 210,
        "start_time": "2024-05-15T13:48:29.396Z"
      },
      {
        "duration": 6156,
        "start_time": "2024-05-15T13:48:37.344Z"
      },
      {
        "duration": 6446,
        "start_time": "2024-05-15T13:48:45.884Z"
      },
      {
        "duration": 6374,
        "start_time": "2024-05-15T13:51:03.492Z"
      },
      {
        "duration": 6266,
        "start_time": "2024-05-15T13:51:11.984Z"
      },
      {
        "duration": 15,
        "start_time": "2024-05-15T13:52:19.804Z"
      },
      {
        "duration": 2046,
        "start_time": "2024-05-15T13:52:47.843Z"
      },
      {
        "duration": 103,
        "start_time": "2024-05-15T14:02:11.180Z"
      },
      {
        "duration": 8,
        "start_time": "2024-05-15T14:02:13.830Z"
      },
      {
        "duration": 10,
        "start_time": "2024-05-15T14:02:18.423Z"
      },
      {
        "duration": 4,
        "start_time": "2024-05-15T14:02:19.682Z"
      },
      {
        "duration": 4,
        "start_time": "2024-05-15T14:02:20.322Z"
      },
      {
        "duration": 32666,
        "start_time": "2024-05-15T14:02:21.542Z"
      },
      {
        "duration": 87,
        "start_time": "2024-05-15T14:06:13.467Z"
      },
      {
        "duration": 6,
        "start_time": "2024-05-15T14:06:28.374Z"
      },
      {
        "duration": 2,
        "start_time": "2024-05-15T14:07:07.855Z"
      },
      {
        "duration": 7,
        "start_time": "2024-05-15T14:07:11.946Z"
      },
      {
        "duration": 4,
        "start_time": "2024-05-15T14:07:12.597Z"
      },
      {
        "duration": 3,
        "start_time": "2024-05-15T14:07:13.255Z"
      },
      {
        "duration": 2759,
        "start_time": "2024-05-15T14:10:26.655Z"
      },
      {
        "duration": 2459,
        "start_time": "2024-05-15T14:10:35.695Z"
      },
      {
        "duration": 2330,
        "start_time": "2024-05-15T14:10:40.846Z"
      },
      {
        "duration": 2198,
        "start_time": "2024-05-15T14:10:43.866Z"
      },
      {
        "duration": 12,
        "start_time": "2024-05-15T14:11:54.974Z"
      },
      {
        "duration": 18,
        "start_time": "2024-05-15T14:11:56.374Z"
      },
      {
        "duration": 6,
        "start_time": "2024-05-15T14:12:02.833Z"
      },
      {
        "duration": 104,
        "start_time": "2024-05-15T14:12:04.054Z"
      },
      {
        "duration": 19776,
        "start_time": "2024-05-15T14:12:06.074Z"
      },
      {
        "duration": 2,
        "start_time": "2024-05-15T14:12:31.147Z"
      },
      {
        "duration": 392,
        "start_time": "2024-05-15T14:12:32.153Z"
      },
      {
        "duration": 4,
        "start_time": "2024-05-15T14:12:33.643Z"
      },
      {
        "duration": 116750,
        "start_time": "2024-05-15T14:12:34.614Z"
      },
      {
        "duration": 2275,
        "start_time": "2024-05-15T14:14:33.854Z"
      },
      {
        "duration": 25,
        "start_time": "2024-05-15T14:14:46.081Z"
      },
      {
        "duration": 57,
        "start_time": "2024-05-15T14:15:15.414Z"
      },
      {
        "duration": 17,
        "start_time": "2024-05-15T14:16:13.193Z"
      },
      {
        "duration": 3,
        "start_time": "2024-05-15T14:16:40.054Z"
      },
      {
        "duration": 8,
        "start_time": "2024-05-15T14:16:48.555Z"
      },
      {
        "duration": 3,
        "start_time": "2024-05-15T14:16:52.202Z"
      },
      {
        "duration": 103113,
        "start_time": "2024-05-15T14:17:40.754Z"
      },
      {
        "duration": 108386,
        "start_time": "2024-05-15T14:19:50.866Z"
      },
      {
        "duration": 15,
        "start_time": "2024-05-15T14:24:47.613Z"
      },
      {
        "duration": 3,
        "start_time": "2024-05-15T14:24:59.774Z"
      },
      {
        "duration": 13,
        "start_time": "2024-05-15T14:25:28.894Z"
      },
      {
        "duration": 10,
        "start_time": "2024-05-15T14:25:41.514Z"
      },
      {
        "duration": 3,
        "start_time": "2024-05-15T14:25:42.643Z"
      },
      {
        "duration": 19,
        "start_time": "2024-05-15T14:25:43.754Z"
      },
      {
        "duration": 18,
        "start_time": "2024-05-15T14:26:32.014Z"
      },
      {
        "duration": 4,
        "start_time": "2024-05-15T14:27:15.361Z"
      },
      {
        "duration": 16,
        "start_time": "2024-05-15T14:27:46.573Z"
      },
      {
        "duration": 98163,
        "start_time": "2024-05-15T14:28:06.983Z"
      },
      {
        "duration": 205,
        "start_time": "2024-05-15T14:29:51.941Z"
      },
      {
        "duration": 188,
        "start_time": "2024-05-15T14:30:06.270Z"
      },
      {
        "duration": 16,
        "start_time": "2024-05-15T14:31:10.134Z"
      },
      {
        "duration": 5,
        "start_time": "2024-05-15T14:33:45.975Z"
      },
      {
        "duration": 123011,
        "start_time": "2024-05-15T14:33:49.535Z"
      },
      {
        "duration": 192,
        "start_time": "2024-05-15T14:36:01.475Z"
      },
      {
        "duration": 2,
        "start_time": "2024-05-15T14:36:46.916Z"
      },
      {
        "duration": 2,
        "start_time": "2024-05-15T14:37:01.036Z"
      },
      {
        "duration": 2,
        "start_time": "2024-05-15T14:37:12.075Z"
      },
      {
        "duration": 117,
        "start_time": "2024-05-15T14:44:33.337Z"
      },
      {
        "duration": 3,
        "start_time": "2024-05-15T14:44:43.145Z"
      },
      {
        "duration": 3,
        "start_time": "2024-05-15T14:44:49.937Z"
      },
      {
        "duration": 2,
        "start_time": "2024-05-15T14:44:55.677Z"
      },
      {
        "duration": 3,
        "start_time": "2024-05-15T14:45:08.305Z"
      },
      {
        "duration": 68,
        "start_time": "2024-05-15T14:46:42.764Z"
      },
      {
        "duration": 51036,
        "start_time": "2024-05-15T14:46:54.529Z"
      },
      {
        "duration": 181,
        "start_time": "2024-05-15T14:48:12.138Z"
      },
      {
        "duration": 4,
        "start_time": "2024-05-15T14:49:29.565Z"
      },
      {
        "duration": 2,
        "start_time": "2024-05-15T14:49:33.613Z"
      },
      {
        "duration": 2,
        "start_time": "2024-05-15T14:49:41.171Z"
      },
      {
        "duration": 3,
        "start_time": "2024-05-15T14:49:50.379Z"
      },
      {
        "duration": 66,
        "start_time": "2024-05-15T14:51:08.338Z"
      },
      {
        "duration": 94828,
        "start_time": "2024-05-15T14:51:18.718Z"
      },
      {
        "duration": 173,
        "start_time": "2024-05-15T14:54:11.218Z"
      },
      {
        "duration": 12,
        "start_time": "2024-05-15T14:56:27.159Z"
      },
      {
        "duration": 45,
        "start_time": "2024-05-15T15:05:29.506Z"
      },
      {
        "duration": 30,
        "start_time": "2024-05-15T15:06:31.496Z"
      },
      {
        "duration": 456,
        "start_time": "2024-05-15T15:06:52.078Z"
      },
      {
        "duration": 482,
        "start_time": "2024-05-15T15:07:04.395Z"
      },
      {
        "duration": 19,
        "start_time": "2024-05-15T15:10:14.853Z"
      },
      {
        "duration": 98283,
        "start_time": "2024-05-15T15:14:40.270Z"
      },
      {
        "duration": 195,
        "start_time": "2024-05-15T15:16:45.531Z"
      },
      {
        "duration": 56194,
        "start_time": "2024-05-15T15:17:15.429Z"
      },
      {
        "duration": 97033,
        "start_time": "2024-05-15T15:18:21.514Z"
      },
      {
        "duration": 108,
        "start_time": "2024-05-15T15:19:58.550Z"
      },
      {
        "duration": 204,
        "start_time": "2024-05-15T15:20:03.770Z"
      },
      {
        "duration": 198,
        "start_time": "2024-05-15T15:20:12.102Z"
      },
      {
        "duration": 183,
        "start_time": "2024-05-15T15:20:16.590Z"
      },
      {
        "duration": 11,
        "start_time": "2024-05-15T15:20:19.850Z"
      },
      {
        "duration": 224,
        "start_time": "2024-05-15T15:21:14.189Z"
      },
      {
        "duration": 10,
        "start_time": "2024-05-15T15:21:36.768Z"
      },
      {
        "duration": 84067,
        "start_time": "2024-05-15T15:23:17.988Z"
      },
      {
        "duration": 217,
        "start_time": "2024-05-15T15:24:47.256Z"
      },
      {
        "duration": 53872,
        "start_time": "2024-05-15T15:24:54.436Z"
      },
      {
        "duration": 186,
        "start_time": "2024-05-15T15:25:53.292Z"
      },
      {
        "duration": 98203,
        "start_time": "2024-05-15T15:25:59.248Z"
      },
      {
        "duration": 201,
        "start_time": "2024-05-15T15:27:41.627Z"
      },
      {
        "duration": 10,
        "start_time": "2024-05-15T15:28:00.488Z"
      },
      {
        "duration": 2,
        "start_time": "2024-05-15T15:28:48.419Z"
      },
      {
        "duration": 37,
        "start_time": "2024-05-15T15:28:51.247Z"
      },
      {
        "duration": 32,
        "start_time": "2024-05-15T15:32:14.167Z"
      },
      {
        "duration": 33,
        "start_time": "2024-05-15T15:33:41.207Z"
      },
      {
        "duration": 34,
        "start_time": "2024-05-15T15:33:46.606Z"
      },
      {
        "duration": 18,
        "start_time": "2024-05-15T15:36:04.806Z"
      },
      {
        "duration": 17,
        "start_time": "2024-05-15T15:37:04.986Z"
      },
      {
        "duration": 17,
        "start_time": "2024-05-15T15:37:43.466Z"
      },
      {
        "duration": 74,
        "start_time": "2024-05-15T15:41:20.270Z"
      },
      {
        "duration": 18,
        "start_time": "2024-05-15T15:41:30.638Z"
      },
      {
        "duration": 17,
        "start_time": "2024-05-15T15:42:08.971Z"
      },
      {
        "duration": 32,
        "start_time": "2024-05-15T15:42:30.330Z"
      },
      {
        "duration": 35,
        "start_time": "2024-05-15T15:42:46.892Z"
      },
      {
        "duration": 19,
        "start_time": "2024-05-15T15:47:19.494Z"
      },
      {
        "duration": 17,
        "start_time": "2024-05-15T15:48:23.330Z"
      },
      {
        "duration": 3,
        "start_time": "2024-05-15T15:48:48.855Z"
      },
      {
        "duration": 4,
        "start_time": "2024-05-15T15:48:57.915Z"
      },
      {
        "duration": 47,
        "start_time": "2024-05-15T15:49:28.096Z"
      },
      {
        "duration": 5,
        "start_time": "2024-05-15T15:49:40.731Z"
      },
      {
        "duration": 42,
        "start_time": "2024-05-15T15:49:42.327Z"
      },
      {
        "duration": 227,
        "start_time": "2024-05-15T15:51:51.777Z"
      },
      {
        "duration": 23,
        "start_time": "2024-05-15T15:52:21.736Z"
      },
      {
        "duration": 9,
        "start_time": "2024-05-15T15:52:41.537Z"
      },
      {
        "duration": 199,
        "start_time": "2024-05-15T15:54:12.117Z"
      },
      {
        "duration": 4,
        "start_time": "2024-05-15T15:55:09.746Z"
      },
      {
        "duration": 17,
        "start_time": "2024-05-15T15:59:21.638Z"
      },
      {
        "duration": 7,
        "start_time": "2024-05-15T15:59:33.359Z"
      },
      {
        "duration": 86,
        "start_time": "2024-05-15T15:59:35.398Z"
      },
      {
        "duration": 17,
        "start_time": "2024-05-15T15:59:49.758Z"
      },
      {
        "duration": 211,
        "start_time": "2024-05-15T16:01:41.839Z"
      },
      {
        "duration": 2427,
        "start_time": "2024-05-15T16:01:53.186Z"
      },
      {
        "duration": 2522,
        "start_time": "2024-05-15T16:02:03.958Z"
      },
      {
        "duration": 951,
        "start_time": "2024-05-15T16:02:07.778Z"
      },
      {
        "duration": 2836,
        "start_time": "2024-05-15T16:02:21.441Z"
      },
      {
        "duration": 2537,
        "start_time": "2024-05-15T16:02:24.279Z"
      },
      {
        "duration": 2573,
        "start_time": "2024-05-15T16:02:26.817Z"
      },
      {
        "duration": 901,
        "start_time": "2024-05-15T16:02:29.393Z"
      },
      {
        "duration": 16,
        "start_time": "2024-05-15T16:02:30.296Z"
      },
      {
        "duration": 48,
        "start_time": "2024-05-15T16:02:30.314Z"
      },
      {
        "duration": 38,
        "start_time": "2024-05-15T16:02:30.363Z"
      },
      {
        "duration": 155,
        "start_time": "2024-05-15T16:02:30.402Z"
      },
      {
        "duration": 21319,
        "start_time": "2024-05-15T16:02:30.559Z"
      },
      {
        "duration": 3,
        "start_time": "2024-05-15T16:02:51.880Z"
      },
      {
        "duration": 3983,
        "start_time": "2024-05-15T16:02:51.885Z"
      },
      {
        "duration": 4,
        "start_time": "2024-05-15T16:02:55.872Z"
      },
      {
        "duration": 1187792,
        "start_time": "2024-05-15T16:02:55.878Z"
      },
      {
        "duration": 2426,
        "start_time": "2024-05-15T16:22:43.673Z"
      },
      {
        "duration": 5963,
        "start_time": "2024-05-15T16:22:46.100Z"
      },
      {
        "duration": 32,
        "start_time": "2024-05-15T16:22:52.064Z"
      },
      {
        "duration": 1989994,
        "start_time": "2024-05-15T16:22:52.097Z"
      },
      {
        "duration": 14,
        "start_time": "2024-05-15T16:56:02.094Z"
      },
      {
        "duration": 31089,
        "start_time": "2024-05-15T16:56:02.109Z"
      },
      {
        "duration": 43855,
        "start_time": "2024-05-15T16:56:33.200Z"
      },
      {
        "duration": 352,
        "start_time": "2024-05-15T16:57:17.057Z"
      },
      {
        "duration": 0,
        "start_time": "2024-05-15T16:57:17.411Z"
      },
      {
        "duration": 0,
        "start_time": "2024-05-15T16:57:17.413Z"
      },
      {
        "duration": 0,
        "start_time": "2024-05-15T16:57:17.414Z"
      },
      {
        "duration": 0,
        "start_time": "2024-05-15T16:57:17.414Z"
      },
      {
        "duration": 0,
        "start_time": "2024-05-15T16:57:17.415Z"
      },
      {
        "duration": 0,
        "start_time": "2024-05-15T16:57:17.416Z"
      },
      {
        "duration": 0,
        "start_time": "2024-05-15T16:57:17.417Z"
      },
      {
        "duration": 0,
        "start_time": "2024-05-15T16:57:17.418Z"
      },
      {
        "duration": 0,
        "start_time": "2024-05-15T16:57:17.419Z"
      },
      {
        "duration": 0,
        "start_time": "2024-05-15T16:57:17.420Z"
      },
      {
        "duration": 0,
        "start_time": "2024-05-15T16:57:17.421Z"
      },
      {
        "duration": 0,
        "start_time": "2024-05-15T16:57:17.445Z"
      },
      {
        "duration": 0,
        "start_time": "2024-05-15T16:57:17.446Z"
      },
      {
        "duration": 0,
        "start_time": "2024-05-15T16:57:17.447Z"
      },
      {
        "duration": 0,
        "start_time": "2024-05-15T16:57:17.448Z"
      },
      {
        "duration": 0,
        "start_time": "2024-05-15T16:57:17.449Z"
      },
      {
        "duration": 0,
        "start_time": "2024-05-15T16:57:17.450Z"
      },
      {
        "duration": 0,
        "start_time": "2024-05-15T16:57:17.451Z"
      },
      {
        "duration": 0,
        "start_time": "2024-05-15T16:57:17.452Z"
      },
      {
        "duration": 0,
        "start_time": "2024-05-15T16:57:17.453Z"
      },
      {
        "duration": 0,
        "start_time": "2024-05-15T16:57:17.454Z"
      },
      {
        "duration": 0,
        "start_time": "2024-05-15T16:57:17.455Z"
      },
      {
        "duration": 0,
        "start_time": "2024-05-15T16:57:17.456Z"
      },
      {
        "duration": 0,
        "start_time": "2024-05-15T16:57:17.457Z"
      },
      {
        "duration": 0,
        "start_time": "2024-05-15T16:57:17.458Z"
      },
      {
        "duration": 0,
        "start_time": "2024-05-15T16:57:17.459Z"
      },
      {
        "duration": 0,
        "start_time": "2024-05-15T16:57:17.460Z"
      },
      {
        "duration": 0,
        "start_time": "2024-05-15T16:57:17.461Z"
      },
      {
        "duration": 0,
        "start_time": "2024-05-15T16:57:17.462Z"
      },
      {
        "duration": 0,
        "start_time": "2024-05-15T16:57:17.463Z"
      },
      {
        "duration": 0,
        "start_time": "2024-05-15T16:57:17.464Z"
      },
      {
        "duration": 0,
        "start_time": "2024-05-15T16:57:17.465Z"
      },
      {
        "duration": 0,
        "start_time": "2024-05-15T16:57:17.466Z"
      },
      {
        "duration": 44,
        "start_time": "2024-05-15T17:06:21.421Z"
      },
      {
        "duration": 383,
        "start_time": "2024-05-15T17:06:37.713Z"
      },
      {
        "duration": 65,
        "start_time": "2024-05-15T17:09:26.722Z"
      },
      {
        "duration": 970,
        "start_time": "2024-05-15T17:09:46.790Z"
      },
      {
        "duration": 6821,
        "start_time": "2024-05-15T17:10:03.441Z"
      },
      {
        "duration": 99964,
        "start_time": "2024-05-15T17:10:47.903Z"
      },
      {
        "duration": 106804,
        "start_time": "2024-05-15T17:13:18.943Z"
      },
      {
        "duration": 7,
        "start_time": "2024-05-15T17:19:38.163Z"
      },
      {
        "duration": 117328,
        "start_time": "2024-05-15T17:19:41.623Z"
      },
      {
        "duration": 23,
        "start_time": "2024-05-15T17:22:59.715Z"
      },
      {
        "duration": 28,
        "start_time": "2024-05-15T17:24:05.123Z"
      },
      {
        "duration": 43383,
        "start_time": "2024-05-15T17:24:34.863Z"
      },
      {
        "duration": 16,
        "start_time": "2024-05-15T17:26:34.675Z"
      },
      {
        "duration": 15,
        "start_time": "2024-05-15T17:26:44.443Z"
      },
      {
        "duration": 17,
        "start_time": "2024-05-15T17:28:44.803Z"
      },
      {
        "duration": 3,
        "start_time": "2024-05-15T17:34:12.892Z"
      },
      {
        "duration": 4,
        "start_time": "2024-05-15T17:34:19.163Z"
      },
      {
        "duration": 11,
        "start_time": "2024-05-15T17:36:14.411Z"
      },
      {
        "duration": 3,
        "start_time": "2024-05-15T17:36:54.491Z"
      },
      {
        "duration": 18,
        "start_time": "2024-05-15T17:37:00.211Z"
      },
      {
        "duration": 16,
        "start_time": "2024-05-15T17:37:30.451Z"
      },
      {
        "duration": 16,
        "start_time": "2024-05-15T17:37:40.503Z"
      },
      {
        "duration": 73,
        "start_time": "2024-05-15T17:39:15.672Z"
      },
      {
        "duration": 5,
        "start_time": "2024-05-15T17:39:21.650Z"
      },
      {
        "duration": 834952,
        "start_time": "2024-05-15T17:39:25.531Z"
      },
      {
        "duration": 826947,
        "start_time": "2024-05-15T17:55:02.912Z"
      },
      {
        "duration": 604690,
        "start_time": "2024-05-15T18:14:13.158Z"
      },
      {
        "duration": 759787,
        "start_time": "2024-05-15T18:27:13.663Z"
      },
      {
        "duration": 36,
        "start_time": "2024-05-15T18:40:30.810Z"
      },
      {
        "duration": 1850,
        "start_time": "2024-05-15T18:40:44.210Z"
      },
      {
        "duration": 1863,
        "start_time": "2024-05-15T18:40:48.730Z"
      },
      {
        "duration": 1912,
        "start_time": "2024-05-15T18:40:59.710Z"
      },
      {
        "duration": 1841,
        "start_time": "2024-05-15T18:41:03.530Z"
      },
      {
        "duration": 444,
        "start_time": "2024-05-16T03:15:19.375Z"
      },
      {
        "duration": 0,
        "start_time": "2024-05-16T03:15:19.821Z"
      },
      {
        "duration": 0,
        "start_time": "2024-05-16T03:15:19.822Z"
      },
      {
        "duration": 0,
        "start_time": "2024-05-16T03:15:19.823Z"
      },
      {
        "duration": 0,
        "start_time": "2024-05-16T03:15:19.823Z"
      },
      {
        "duration": 0,
        "start_time": "2024-05-16T03:15:19.824Z"
      },
      {
        "duration": 0,
        "start_time": "2024-05-16T03:15:19.825Z"
      },
      {
        "duration": 0,
        "start_time": "2024-05-16T03:15:19.826Z"
      },
      {
        "duration": 0,
        "start_time": "2024-05-16T03:15:19.827Z"
      },
      {
        "duration": 0,
        "start_time": "2024-05-16T03:15:19.828Z"
      },
      {
        "duration": 0,
        "start_time": "2024-05-16T03:15:19.829Z"
      },
      {
        "duration": 0,
        "start_time": "2024-05-16T03:15:19.830Z"
      },
      {
        "duration": 0,
        "start_time": "2024-05-16T03:15:19.830Z"
      },
      {
        "duration": 0,
        "start_time": "2024-05-16T03:15:19.832Z"
      },
      {
        "duration": 0,
        "start_time": "2024-05-16T03:15:19.832Z"
      },
      {
        "duration": 0,
        "start_time": "2024-05-16T03:15:19.833Z"
      },
      {
        "duration": 0,
        "start_time": "2024-05-16T03:15:19.834Z"
      },
      {
        "duration": 0,
        "start_time": "2024-05-16T03:15:19.834Z"
      },
      {
        "duration": 0,
        "start_time": "2024-05-16T03:15:19.836Z"
      },
      {
        "duration": 0,
        "start_time": "2024-05-16T03:15:19.837Z"
      },
      {
        "duration": 0,
        "start_time": "2024-05-16T03:15:19.838Z"
      },
      {
        "duration": 0,
        "start_time": "2024-05-16T03:15:19.839Z"
      },
      {
        "duration": 0,
        "start_time": "2024-05-16T03:15:19.840Z"
      },
      {
        "duration": 0,
        "start_time": "2024-05-16T03:15:19.841Z"
      },
      {
        "duration": 0,
        "start_time": "2024-05-16T03:15:19.842Z"
      },
      {
        "duration": 0,
        "start_time": "2024-05-16T03:15:19.843Z"
      },
      {
        "duration": 0,
        "start_time": "2024-05-16T03:15:19.844Z"
      },
      {
        "duration": 0,
        "start_time": "2024-05-16T03:15:19.846Z"
      },
      {
        "duration": 0,
        "start_time": "2024-05-16T03:15:19.847Z"
      },
      {
        "duration": 0,
        "start_time": "2024-05-16T03:15:19.848Z"
      },
      {
        "duration": 0,
        "start_time": "2024-05-16T03:15:19.849Z"
      },
      {
        "duration": 0,
        "start_time": "2024-05-16T03:15:19.850Z"
      },
      {
        "duration": 0,
        "start_time": "2024-05-16T03:15:19.851Z"
      },
      {
        "duration": 0,
        "start_time": "2024-05-16T03:15:19.901Z"
      },
      {
        "duration": 0,
        "start_time": "2024-05-16T03:15:19.902Z"
      },
      {
        "duration": 0,
        "start_time": "2024-05-16T03:15:19.904Z"
      },
      {
        "duration": 0,
        "start_time": "2024-05-16T03:15:19.905Z"
      },
      {
        "duration": 0,
        "start_time": "2024-05-16T03:15:19.906Z"
      },
      {
        "duration": 0,
        "start_time": "2024-05-16T03:15:19.909Z"
      },
      {
        "duration": 0,
        "start_time": "2024-05-16T03:15:19.911Z"
      },
      {
        "duration": 0,
        "start_time": "2024-05-16T03:15:19.912Z"
      },
      {
        "duration": 0,
        "start_time": "2024-05-16T03:15:19.913Z"
      },
      {
        "duration": 0,
        "start_time": "2024-05-16T03:15:19.914Z"
      },
      {
        "duration": 0,
        "start_time": "2024-05-16T03:15:19.916Z"
      },
      {
        "duration": 0,
        "start_time": "2024-05-16T03:15:19.917Z"
      },
      {
        "duration": 0,
        "start_time": "2024-05-16T03:15:19.918Z"
      },
      {
        "duration": 0,
        "start_time": "2024-05-16T03:15:19.919Z"
      },
      {
        "duration": 0,
        "start_time": "2024-05-16T03:15:19.921Z"
      },
      {
        "duration": 0,
        "start_time": "2024-05-16T03:15:19.922Z"
      },
      {
        "duration": 5012,
        "start_time": "2024-05-16T03:16:15.196Z"
      },
      {
        "duration": 3058,
        "start_time": "2024-05-16T03:16:20.210Z"
      },
      {
        "duration": 2868,
        "start_time": "2024-05-16T03:16:23.269Z"
      },
      {
        "duration": 2213,
        "start_time": "2024-05-16T03:16:26.140Z"
      },
      {
        "duration": 11,
        "start_time": "2024-05-16T03:16:28.355Z"
      },
      {
        "duration": 51,
        "start_time": "2024-05-16T03:16:28.367Z"
      },
      {
        "duration": 6,
        "start_time": "2024-05-16T03:16:28.419Z"
      },
      {
        "duration": 91,
        "start_time": "2024-05-16T03:16:28.426Z"
      },
      {
        "duration": 19143,
        "start_time": "2024-05-16T03:16:28.519Z"
      },
      {
        "duration": 1,
        "start_time": "2024-05-16T03:16:47.665Z"
      },
      {
        "duration": 3187,
        "start_time": "2024-05-16T03:16:47.668Z"
      },
      {
        "duration": 4,
        "start_time": "2024-05-16T03:16:50.858Z"
      },
      {
        "duration": 9,
        "start_time": "2024-05-16T03:16:50.863Z"
      },
      {
        "duration": 6,
        "start_time": "2024-05-16T03:16:50.874Z"
      },
      {
        "duration": 2005,
        "start_time": "2024-05-16T03:16:50.882Z"
      },
      {
        "duration": 13,
        "start_time": "2024-05-16T03:16:52.888Z"
      },
      {
        "duration": 11,
        "start_time": "2024-05-16T03:16:52.902Z"
      },
      {
        "duration": 25970,
        "start_time": "2024-05-16T03:16:52.914Z"
      },
      {
        "duration": 36557,
        "start_time": "2024-05-16T03:17:18.886Z"
      },
      {
        "duration": 45,
        "start_time": "2024-05-16T03:17:55.445Z"
      },
      {
        "duration": 219,
        "start_time": "2024-05-16T03:17:55.491Z"
      },
      {
        "duration": 2,
        "start_time": "2024-05-16T03:17:55.711Z"
      },
      {
        "duration": 280,
        "start_time": "2024-05-16T03:17:55.714Z"
      },
      {
        "duration": 0,
        "start_time": "2024-05-16T03:17:55.995Z"
      },
      {
        "duration": 0,
        "start_time": "2024-05-16T03:17:55.996Z"
      },
      {
        "duration": 0,
        "start_time": "2024-05-16T03:17:55.997Z"
      },
      {
        "duration": 0,
        "start_time": "2024-05-16T03:17:55.998Z"
      },
      {
        "duration": 0,
        "start_time": "2024-05-16T03:17:56.002Z"
      },
      {
        "duration": 0,
        "start_time": "2024-05-16T03:17:56.003Z"
      },
      {
        "duration": 0,
        "start_time": "2024-05-16T03:17:56.004Z"
      },
      {
        "duration": 0,
        "start_time": "2024-05-16T03:17:56.005Z"
      },
      {
        "duration": 0,
        "start_time": "2024-05-16T03:17:56.006Z"
      },
      {
        "duration": 0,
        "start_time": "2024-05-16T03:17:56.007Z"
      },
      {
        "duration": 0,
        "start_time": "2024-05-16T03:17:56.008Z"
      },
      {
        "duration": 0,
        "start_time": "2024-05-16T03:17:56.009Z"
      },
      {
        "duration": 0,
        "start_time": "2024-05-16T03:17:56.010Z"
      },
      {
        "duration": 0,
        "start_time": "2024-05-16T03:17:56.011Z"
      },
      {
        "duration": 0,
        "start_time": "2024-05-16T03:17:56.012Z"
      },
      {
        "duration": 0,
        "start_time": "2024-05-16T03:17:56.013Z"
      },
      {
        "duration": 0,
        "start_time": "2024-05-16T03:17:56.014Z"
      },
      {
        "duration": 0,
        "start_time": "2024-05-16T03:17:56.015Z"
      },
      {
        "duration": 0,
        "start_time": "2024-05-16T03:17:56.016Z"
      },
      {
        "duration": 0,
        "start_time": "2024-05-16T03:17:56.016Z"
      },
      {
        "duration": 0,
        "start_time": "2024-05-16T03:17:56.017Z"
      },
      {
        "duration": 0,
        "start_time": "2024-05-16T03:17:56.018Z"
      },
      {
        "duration": 0,
        "start_time": "2024-05-16T03:17:56.019Z"
      },
      {
        "duration": 0,
        "start_time": "2024-05-16T03:17:56.020Z"
      },
      {
        "duration": 0,
        "start_time": "2024-05-16T03:17:56.021Z"
      },
      {
        "duration": 0,
        "start_time": "2024-05-16T03:17:56.022Z"
      },
      {
        "duration": 1706,
        "start_time": "2024-05-16T03:19:23.524Z"
      },
      {
        "duration": 1877,
        "start_time": "2024-05-16T03:19:34.725Z"
      },
      {
        "duration": 1926,
        "start_time": "2024-05-16T03:20:09.044Z"
      },
      {
        "duration": 2404,
        "start_time": "2024-05-16T03:21:25.036Z"
      },
      {
        "duration": 2482,
        "start_time": "2024-05-16T03:21:28.244Z"
      },
      {
        "duration": 17,
        "start_time": "2024-05-16T03:21:30.728Z"
      },
      {
        "duration": 880,
        "start_time": "2024-05-16T03:21:30.746Z"
      },
      {
        "duration": 10,
        "start_time": "2024-05-16T03:21:32.585Z"
      },
      {
        "duration": 23,
        "start_time": "2024-05-16T03:21:33.405Z"
      },
      {
        "duration": 4,
        "start_time": "2024-05-16T03:21:34.777Z"
      },
      {
        "duration": 77,
        "start_time": "2024-05-16T03:21:35.573Z"
      },
      {
        "duration": 17456,
        "start_time": "2024-05-16T03:21:36.845Z"
      },
      {
        "duration": 2,
        "start_time": "2024-05-16T03:21:54.303Z"
      },
      {
        "duration": 2,
        "start_time": "2024-05-16T03:22:39.901Z"
      },
      {
        "duration": 3260,
        "start_time": "2024-05-16T03:22:40.457Z"
      },
      {
        "duration": 3,
        "start_time": "2024-05-16T03:22:43.719Z"
      },
      {
        "duration": 33,
        "start_time": "2024-05-16T03:22:45.662Z"
      },
      {
        "duration": 993865,
        "start_time": "2024-05-16T03:22:58.586Z"
      },
      {
        "duration": 5305,
        "start_time": "2024-05-16T03:44:26.502Z"
      },
      {
        "duration": 1788,
        "start_time": "2024-05-16T03:44:35.902Z"
      },
      {
        "duration": 11,
        "start_time": "2024-05-16T03:46:34.861Z"
      },
      {
        "duration": 2352,
        "start_time": "2024-05-16T03:47:05.051Z"
      },
      {
        "duration": 2339,
        "start_time": "2024-05-16T03:47:07.405Z"
      },
      {
        "duration": 2480,
        "start_time": "2024-05-16T03:47:09.746Z"
      },
      {
        "duration": 828,
        "start_time": "2024-05-16T03:47:12.227Z"
      },
      {
        "duration": 13,
        "start_time": "2024-05-16T03:47:13.056Z"
      },
      {
        "duration": 32,
        "start_time": "2024-05-16T03:47:13.070Z"
      },
      {
        "duration": 8,
        "start_time": "2024-05-16T03:47:13.103Z"
      },
      {
        "duration": 100,
        "start_time": "2024-05-16T03:47:13.112Z"
      },
      {
        "duration": 17345,
        "start_time": "2024-05-16T03:47:13.213Z"
      },
      {
        "duration": 2,
        "start_time": "2024-05-16T03:47:30.560Z"
      },
      {
        "duration": 3188,
        "start_time": "2024-05-16T03:47:30.563Z"
      },
      {
        "duration": 5,
        "start_time": "2024-05-16T03:47:33.755Z"
      },
      {
        "duration": 7,
        "start_time": "2024-05-16T03:47:33.761Z"
      },
      {
        "duration": 3211,
        "start_time": "2024-05-16T03:47:33.770Z"
      },
      {
        "duration": 1093,
        "start_time": "2024-05-16T03:47:36.982Z"
      },
      {
        "duration": 10,
        "start_time": "2024-05-16T03:47:38.076Z"
      },
      {
        "duration": 7,
        "start_time": "2024-05-16T03:47:38.087Z"
      },
      {
        "duration": 25933,
        "start_time": "2024-05-16T03:47:38.095Z"
      },
      {
        "duration": 36005,
        "start_time": "2024-05-16T03:48:04.029Z"
      },
      {
        "duration": 37,
        "start_time": "2024-05-16T03:48:40.035Z"
      },
      {
        "duration": 142,
        "start_time": "2024-05-16T03:48:40.074Z"
      },
      {
        "duration": 2,
        "start_time": "2024-05-16T03:48:40.217Z"
      },
      {
        "duration": 321,
        "start_time": "2024-05-16T03:48:40.221Z"
      },
      {
        "duration": 0,
        "start_time": "2024-05-16T03:48:40.544Z"
      },
      {
        "duration": 0,
        "start_time": "2024-05-16T03:48:40.545Z"
      },
      {
        "duration": 0,
        "start_time": "2024-05-16T03:48:40.545Z"
      },
      {
        "duration": 0,
        "start_time": "2024-05-16T03:48:40.546Z"
      },
      {
        "duration": 0,
        "start_time": "2024-05-16T03:48:40.547Z"
      },
      {
        "duration": 0,
        "start_time": "2024-05-16T03:48:40.548Z"
      },
      {
        "duration": 0,
        "start_time": "2024-05-16T03:48:40.548Z"
      },
      {
        "duration": 0,
        "start_time": "2024-05-16T03:48:40.549Z"
      },
      {
        "duration": 0,
        "start_time": "2024-05-16T03:48:40.550Z"
      },
      {
        "duration": 0,
        "start_time": "2024-05-16T03:48:40.551Z"
      },
      {
        "duration": 0,
        "start_time": "2024-05-16T03:48:40.552Z"
      },
      {
        "duration": 0,
        "start_time": "2024-05-16T03:48:40.553Z"
      },
      {
        "duration": 0,
        "start_time": "2024-05-16T03:48:40.554Z"
      },
      {
        "duration": 0,
        "start_time": "2024-05-16T03:48:40.554Z"
      },
      {
        "duration": 0,
        "start_time": "2024-05-16T03:48:40.555Z"
      },
      {
        "duration": 0,
        "start_time": "2024-05-16T03:48:40.556Z"
      },
      {
        "duration": 0,
        "start_time": "2024-05-16T03:48:40.557Z"
      },
      {
        "duration": 0,
        "start_time": "2024-05-16T03:48:40.558Z"
      },
      {
        "duration": 0,
        "start_time": "2024-05-16T03:48:40.559Z"
      },
      {
        "duration": 0,
        "start_time": "2024-05-16T03:48:40.560Z"
      },
      {
        "duration": 0,
        "start_time": "2024-05-16T03:48:40.560Z"
      },
      {
        "duration": 0,
        "start_time": "2024-05-16T03:48:40.561Z"
      },
      {
        "duration": 0,
        "start_time": "2024-05-16T03:48:40.562Z"
      },
      {
        "duration": 0,
        "start_time": "2024-05-16T03:48:40.563Z"
      },
      {
        "duration": 0,
        "start_time": "2024-05-16T03:48:40.564Z"
      },
      {
        "duration": 0,
        "start_time": "2024-05-16T03:48:40.602Z"
      },
      {
        "duration": 994,
        "start_time": "2024-05-16T04:00:10.026Z"
      },
      {
        "duration": 2829,
        "start_time": "2024-05-16T04:00:14.356Z"
      },
      {
        "duration": 933,
        "start_time": "2024-05-16T04:00:27.333Z"
      },
      {
        "duration": 1884,
        "start_time": "2024-05-16T04:00:34.075Z"
      },
      {
        "duration": 2348,
        "start_time": "2024-05-16T04:00:54.034Z"
      },
      {
        "duration": 2349,
        "start_time": "2024-05-16T04:00:56.384Z"
      },
      {
        "duration": 2488,
        "start_time": "2024-05-16T04:00:58.735Z"
      },
      {
        "duration": 836,
        "start_time": "2024-05-16T04:01:01.224Z"
      },
      {
        "duration": 11,
        "start_time": "2024-05-16T04:01:02.062Z"
      },
      {
        "duration": 37,
        "start_time": "2024-05-16T04:01:02.074Z"
      },
      {
        "duration": 5,
        "start_time": "2024-05-16T04:01:02.112Z"
      },
      {
        "duration": 92,
        "start_time": "2024-05-16T04:01:02.119Z"
      },
      {
        "duration": 18026,
        "start_time": "2024-05-16T04:01:02.212Z"
      },
      {
        "duration": 2,
        "start_time": "2024-05-16T04:01:20.239Z"
      },
      {
        "duration": 3208,
        "start_time": "2024-05-16T04:01:20.242Z"
      },
      {
        "duration": 4,
        "start_time": "2024-05-16T04:01:23.453Z"
      },
      {
        "duration": 9,
        "start_time": "2024-05-16T04:01:23.458Z"
      },
      {
        "duration": 2765,
        "start_time": "2024-05-16T04:01:23.469Z"
      },
      {
        "duration": 1039,
        "start_time": "2024-05-16T04:01:26.236Z"
      },
      {
        "duration": 8,
        "start_time": "2024-05-16T04:01:27.277Z"
      },
      {
        "duration": 20,
        "start_time": "2024-05-16T04:01:27.286Z"
      },
      {
        "duration": 26037,
        "start_time": "2024-05-16T04:01:27.307Z"
      },
      {
        "duration": 36806,
        "start_time": "2024-05-16T04:01:53.345Z"
      },
      {
        "duration": 38,
        "start_time": "2024-05-16T04:02:30.152Z"
      },
      {
        "duration": 185,
        "start_time": "2024-05-16T04:02:30.191Z"
      },
      {
        "duration": 33,
        "start_time": "2024-05-16T04:02:30.378Z"
      },
      {
        "duration": 355,
        "start_time": "2024-05-16T04:02:30.412Z"
      },
      {
        "duration": 0,
        "start_time": "2024-05-16T04:02:30.769Z"
      },
      {
        "duration": 0,
        "start_time": "2024-05-16T04:02:30.770Z"
      },
      {
        "duration": 0,
        "start_time": "2024-05-16T04:02:30.771Z"
      },
      {
        "duration": 0,
        "start_time": "2024-05-16T04:02:30.772Z"
      },
      {
        "duration": 0,
        "start_time": "2024-05-16T04:02:30.773Z"
      },
      {
        "duration": 0,
        "start_time": "2024-05-16T04:02:30.774Z"
      },
      {
        "duration": 0,
        "start_time": "2024-05-16T04:02:30.776Z"
      },
      {
        "duration": 0,
        "start_time": "2024-05-16T04:02:30.777Z"
      },
      {
        "duration": 0,
        "start_time": "2024-05-16T04:02:30.778Z"
      },
      {
        "duration": 0,
        "start_time": "2024-05-16T04:02:30.802Z"
      },
      {
        "duration": 0,
        "start_time": "2024-05-16T04:02:30.802Z"
      },
      {
        "duration": 0,
        "start_time": "2024-05-16T04:02:30.804Z"
      },
      {
        "duration": 0,
        "start_time": "2024-05-16T04:02:30.805Z"
      },
      {
        "duration": 0,
        "start_time": "2024-05-16T04:02:30.806Z"
      },
      {
        "duration": 0,
        "start_time": "2024-05-16T04:02:30.807Z"
      },
      {
        "duration": 0,
        "start_time": "2024-05-16T04:02:30.808Z"
      },
      {
        "duration": 0,
        "start_time": "2024-05-16T04:02:30.808Z"
      },
      {
        "duration": 0,
        "start_time": "2024-05-16T04:02:30.809Z"
      },
      {
        "duration": 0,
        "start_time": "2024-05-16T04:02:30.810Z"
      },
      {
        "duration": 0,
        "start_time": "2024-05-16T04:02:30.811Z"
      },
      {
        "duration": 0,
        "start_time": "2024-05-16T04:02:30.812Z"
      },
      {
        "duration": 0,
        "start_time": "2024-05-16T04:02:30.813Z"
      },
      {
        "duration": 0,
        "start_time": "2024-05-16T04:02:30.814Z"
      },
      {
        "duration": 0,
        "start_time": "2024-05-16T04:02:30.815Z"
      },
      {
        "duration": 0,
        "start_time": "2024-05-16T04:02:30.816Z"
      },
      {
        "duration": 0,
        "start_time": "2024-05-16T04:02:30.817Z"
      },
      {
        "duration": 914,
        "start_time": "2024-05-16T04:02:55.392Z"
      },
      {
        "duration": 2408,
        "start_time": "2024-05-16T04:03:41.793Z"
      },
      {
        "duration": 2402,
        "start_time": "2024-05-16T04:03:44.203Z"
      },
      {
        "duration": 2471,
        "start_time": "2024-05-16T04:03:46.607Z"
      },
      {
        "duration": 850,
        "start_time": "2024-05-16T04:03:49.080Z"
      },
      {
        "duration": 11,
        "start_time": "2024-05-16T04:03:49.932Z"
      },
      {
        "duration": 26,
        "start_time": "2024-05-16T04:03:49.945Z"
      },
      {
        "duration": 25,
        "start_time": "2024-05-16T04:03:49.972Z"
      },
      {
        "duration": 122,
        "start_time": "2024-05-16T04:03:49.998Z"
      },
      {
        "duration": 17645,
        "start_time": "2024-05-16T04:03:50.122Z"
      },
      {
        "duration": 2,
        "start_time": "2024-05-16T04:04:07.769Z"
      },
      {
        "duration": 3104,
        "start_time": "2024-05-16T04:04:07.772Z"
      },
      {
        "duration": 4,
        "start_time": "2024-05-16T04:04:10.879Z"
      },
      {
        "duration": 988780,
        "start_time": "2024-05-16T04:04:10.884Z"
      },
      {
        "duration": 2,
        "start_time": "2024-05-16T04:20:39.665Z"
      },
      {
        "duration": 25588,
        "start_time": "2024-05-16T04:20:39.668Z"
      },
      {
        "duration": 35951,
        "start_time": "2024-05-16T04:21:05.257Z"
      },
      {
        "duration": 37,
        "start_time": "2024-05-16T04:21:41.210Z"
      },
      {
        "duration": 394,
        "start_time": "2024-05-16T04:21:41.249Z"
      },
      {
        "duration": 3,
        "start_time": "2024-05-16T04:21:41.644Z"
      },
      {
        "duration": 59,
        "start_time": "2024-05-16T04:21:41.648Z"
      },
      {
        "duration": 5383,
        "start_time": "2024-05-16T04:21:41.708Z"
      },
      {
        "duration": 82810,
        "start_time": "2024-05-16T04:21:47.092Z"
      },
      {
        "duration": 89307,
        "start_time": "2024-05-16T04:23:09.904Z"
      },
      {
        "duration": 5,
        "start_time": "2024-05-16T04:24:39.212Z"
      },
      {
        "duration": 95489,
        "start_time": "2024-05-16T04:24:39.218Z"
      },
      {
        "duration": 6,
        "start_time": "2024-05-16T04:26:14.709Z"
      },
      {
        "duration": 6,
        "start_time": "2024-05-16T04:26:14.716Z"
      },
      {
        "duration": 15,
        "start_time": "2024-05-16T04:26:14.725Z"
      },
      {
        "duration": 3,
        "start_time": "2024-05-16T04:26:14.741Z"
      },
      {
        "duration": 8,
        "start_time": "2024-05-16T04:26:14.745Z"
      },
      {
        "duration": 59,
        "start_time": "2024-05-16T04:26:14.754Z"
      },
      {
        "duration": 4,
        "start_time": "2024-05-16T04:26:14.814Z"
      },
      {
        "duration": 655184,
        "start_time": "2024-05-16T04:26:14.819Z"
      },
      {
        "duration": 2,
        "start_time": "2024-05-16T04:37:10.005Z"
      },
      {
        "duration": 17,
        "start_time": "2024-05-16T04:37:10.009Z"
      },
      {
        "duration": 23,
        "start_time": "2024-05-16T04:37:10.027Z"
      },
      {
        "duration": 9,
        "start_time": "2024-05-16T04:37:10.051Z"
      },
      {
        "duration": 531683,
        "start_time": "2024-05-16T04:37:10.061Z"
      },
      {
        "duration": 3,
        "start_time": "2024-05-16T04:46:01.745Z"
      },
      {
        "duration": 90,
        "start_time": "2024-05-16T04:46:01.749Z"
      },
      {
        "duration": 77,
        "start_time": "2024-05-16T04:46:01.840Z"
      },
      {
        "duration": 33,
        "start_time": "2024-05-16T04:46:01.919Z"
      },
      {
        "duration": 649341,
        "start_time": "2024-05-16T04:46:01.953Z"
      },
      {
        "duration": 22,
        "start_time": "2024-05-16T04:56:51.295Z"
      },
      {
        "duration": 1539,
        "start_time": "2024-05-16T04:56:51.318Z"
      },
      {
        "duration": 1533,
        "start_time": "2024-05-16T04:56:52.858Z"
      },
      {
        "duration": 4946,
        "start_time": "2024-05-17T11:39:39.996Z"
      },
      {
        "duration": 3259,
        "start_time": "2024-05-17T11:39:44.945Z"
      },
      {
        "duration": 3079,
        "start_time": "2024-05-17T11:39:48.206Z"
      },
      {
        "duration": 3104,
        "start_time": "2024-05-17T11:39:51.287Z"
      },
      {
        "duration": 9,
        "start_time": "2024-05-17T11:39:54.393Z"
      },
      {
        "duration": 22,
        "start_time": "2024-05-17T11:39:54.404Z"
      },
      {
        "duration": 49,
        "start_time": "2024-05-17T11:39:54.427Z"
      },
      {
        "duration": 115,
        "start_time": "2024-05-17T11:39:54.478Z"
      },
      {
        "duration": 18712,
        "start_time": "2024-05-17T11:39:54.595Z"
      },
      {
        "duration": 2,
        "start_time": "2024-05-17T11:40:13.309Z"
      },
      {
        "duration": 365,
        "start_time": "2024-05-17T11:40:13.312Z"
      },
      {
        "duration": 5,
        "start_time": "2024-05-17T11:40:13.679Z"
      },
      {
        "duration": 109840,
        "start_time": "2024-05-17T11:40:13.685Z"
      },
      {
        "duration": 2,
        "start_time": "2024-05-17T11:42:03.527Z"
      },
      {
        "duration": 4642,
        "start_time": "2024-05-17T11:42:03.531Z"
      },
      {
        "duration": 4012,
        "start_time": "2024-05-17T11:42:08.174Z"
      },
      {
        "duration": 12,
        "start_time": "2024-05-17T11:42:12.188Z"
      },
      {
        "duration": 96,
        "start_time": "2024-05-17T11:42:12.201Z"
      },
      {
        "duration": 3,
        "start_time": "2024-05-17T11:42:12.299Z"
      },
      {
        "duration": 29,
        "start_time": "2024-05-17T11:42:12.303Z"
      },
      {
        "duration": 614,
        "start_time": "2024-05-17T11:42:12.334Z"
      },
      {
        "duration": 9635,
        "start_time": "2024-05-17T11:42:12.950Z"
      },
      {
        "duration": 7496,
        "start_time": "2024-05-17T11:42:22.591Z"
      },
      {
        "duration": 95,
        "start_time": "2024-05-17T11:42:30.089Z"
      },
      {
        "duration": 9400,
        "start_time": "2024-05-17T11:42:30.186Z"
      },
      {
        "duration": 10,
        "start_time": "2024-05-17T11:42:39.588Z"
      },
      {
        "duration": 14,
        "start_time": "2024-05-17T11:42:39.685Z"
      },
      {
        "duration": 116,
        "start_time": "2024-05-17T11:42:39.701Z"
      },
      {
        "duration": 8,
        "start_time": "2024-05-17T11:42:39.818Z"
      },
      {
        "duration": 6,
        "start_time": "2024-05-17T11:42:39.827Z"
      },
      {
        "duration": 20,
        "start_time": "2024-05-17T11:42:39.834Z"
      },
      {
        "duration": 4,
        "start_time": "2024-05-17T11:42:39.856Z"
      },
      {
        "duration": 63225,
        "start_time": "2024-05-17T11:42:39.861Z"
      },
      {
        "duration": 3,
        "start_time": "2024-05-17T11:43:43.087Z"
      },
      {
        "duration": 94,
        "start_time": "2024-05-17T11:43:43.091Z"
      },
      {
        "duration": 15,
        "start_time": "2024-05-17T11:43:43.186Z"
      },
      {
        "duration": 9,
        "start_time": "2024-05-17T11:43:43.202Z"
      },
      {
        "duration": 51290,
        "start_time": "2024-05-17T11:43:43.212Z"
      },
      {
        "duration": 3,
        "start_time": "2024-05-17T11:44:34.503Z"
      },
      {
        "duration": 51,
        "start_time": "2024-05-17T11:44:34.507Z"
      },
      {
        "duration": 72,
        "start_time": "2024-05-17T11:44:34.562Z"
      },
      {
        "duration": 27,
        "start_time": "2024-05-17T11:44:34.635Z"
      },
      {
        "duration": 92627,
        "start_time": "2024-05-17T11:44:34.664Z"
      },
      {
        "duration": 10,
        "start_time": "2024-05-17T11:46:07.293Z"
      },
      {
        "duration": 232,
        "start_time": "2024-05-17T11:46:07.304Z"
      },
      {
        "duration": 189,
        "start_time": "2024-05-17T11:46:07.538Z"
      },
      {
        "duration": 297,
        "start_time": "2024-05-17T12:00:24.491Z"
      },
      {
        "duration": 13,
        "start_time": "2024-05-17T12:04:54.991Z"
      },
      {
        "duration": 12,
        "start_time": "2024-05-17T12:05:06.831Z"
      },
      {
        "duration": 4,
        "start_time": "2024-05-17T12:05:23.351Z"
      },
      {
        "duration": 4514,
        "start_time": "2024-05-17T12:07:45.519Z"
      },
      {
        "duration": 4,
        "start_time": "2024-05-17T12:07:52.991Z"
      },
      {
        "duration": 12884,
        "start_time": "2024-05-17T12:08:09.658Z"
      },
      {
        "duration": 5,
        "start_time": "2024-05-17T12:08:26.210Z"
      },
      {
        "duration": 2,
        "start_time": "2024-05-17T12:09:19.979Z"
      },
      {
        "duration": 5,
        "start_time": "2024-05-17T12:09:21.650Z"
      },
      {
        "duration": 52,
        "start_time": "2024-05-17T12:12:57.778Z"
      },
      {
        "duration": 14,
        "start_time": "2024-05-17T12:13:47.439Z"
      },
      {
        "duration": 17,
        "start_time": "2024-05-17T12:15:07.899Z"
      },
      {
        "duration": 3,
        "start_time": "2024-05-17T12:16:53.529Z"
      },
      {
        "duration": 5,
        "start_time": "2024-05-17T12:17:03.676Z"
      },
      {
        "duration": 17,
        "start_time": "2024-05-17T12:17:30.201Z"
      },
      {
        "duration": 15,
        "start_time": "2024-05-17T12:17:45.413Z"
      },
      {
        "duration": 14,
        "start_time": "2024-05-17T12:18:28.728Z"
      },
      {
        "duration": 15,
        "start_time": "2024-05-17T12:21:49.202Z"
      },
      {
        "duration": 15,
        "start_time": "2024-05-17T12:21:52.362Z"
      },
      {
        "duration": 15,
        "start_time": "2024-05-17T12:22:42.922Z"
      },
      {
        "duration": 13,
        "start_time": "2024-05-17T12:26:28.582Z"
      },
      {
        "duration": 13,
        "start_time": "2024-05-17T12:27:18.923Z"
      },
      {
        "duration": 15,
        "start_time": "2024-05-17T12:28:18.231Z"
      },
      {
        "duration": 14,
        "start_time": "2024-05-17T12:30:07.911Z"
      },
      {
        "duration": 13,
        "start_time": "2024-05-17T12:30:22.444Z"
      },
      {
        "duration": 13,
        "start_time": "2024-05-17T12:31:07.523Z"
      },
      {
        "duration": 13,
        "start_time": "2024-05-17T12:31:19.663Z"
      },
      {
        "duration": 15,
        "start_time": "2024-05-17T12:36:28.163Z"
      },
      {
        "duration": 15,
        "start_time": "2024-05-17T12:36:37.144Z"
      },
      {
        "duration": 21,
        "start_time": "2024-05-17T12:36:42.712Z"
      },
      {
        "duration": 17,
        "start_time": "2024-05-17T12:38:09.696Z"
      },
      {
        "duration": 13,
        "start_time": "2024-05-17T12:39:09.944Z"
      },
      {
        "duration": 13,
        "start_time": "2024-05-17T12:39:27.404Z"
      },
      {
        "duration": 13,
        "start_time": "2024-05-17T12:39:54.004Z"
      },
      {
        "duration": 14,
        "start_time": "2024-05-17T12:40:05.865Z"
      },
      {
        "duration": 12,
        "start_time": "2024-05-17T12:42:36.445Z"
      },
      {
        "duration": 13,
        "start_time": "2024-05-17T12:42:46.484Z"
      },
      {
        "duration": 39,
        "start_time": "2024-05-17T12:44:23.885Z"
      },
      {
        "duration": 21,
        "start_time": "2024-05-17T12:44:29.365Z"
      },
      {
        "duration": 25,
        "start_time": "2024-05-17T12:44:39.525Z"
      },
      {
        "duration": 15,
        "start_time": "2024-05-17T13:06:53.353Z"
      },
      {
        "duration": 14,
        "start_time": "2024-05-17T13:07:03.240Z"
      },
      {
        "duration": 13,
        "start_time": "2024-05-17T13:07:27.109Z"
      },
      {
        "duration": 3092,
        "start_time": "2024-05-17T13:09:09.481Z"
      },
      {
        "duration": 30,
        "start_time": "2024-05-17T13:09:15.681Z"
      },
      {
        "duration": 13,
        "start_time": "2024-05-17T13:10:21.260Z"
      },
      {
        "duration": 2,
        "start_time": "2024-05-17T13:13:03.461Z"
      },
      {
        "duration": 4,
        "start_time": "2024-05-17T13:13:20.140Z"
      },
      {
        "duration": 18,
        "start_time": "2024-05-17T13:15:21.601Z"
      },
      {
        "duration": 14,
        "start_time": "2024-05-17T13:17:16.088Z"
      },
      {
        "duration": 13,
        "start_time": "2024-05-17T13:17:39.133Z"
      },
      {
        "duration": 15,
        "start_time": "2024-05-17T13:18:04.072Z"
      },
      {
        "duration": 13,
        "start_time": "2024-05-17T13:18:13.940Z"
      },
      {
        "duration": 14,
        "start_time": "2024-05-17T13:18:25.320Z"
      },
      {
        "duration": 43,
        "start_time": "2024-05-17T13:18:46.992Z"
      },
      {
        "duration": 14,
        "start_time": "2024-05-17T13:19:00.540Z"
      },
      {
        "duration": 30,
        "start_time": "2024-05-17T13:19:31.500Z"
      },
      {
        "duration": 15,
        "start_time": "2024-05-17T13:20:44.140Z"
      },
      {
        "duration": 14,
        "start_time": "2024-05-17T13:20:51.701Z"
      },
      {
        "duration": 13,
        "start_time": "2024-05-17T13:21:34.440Z"
      },
      {
        "duration": 214,
        "start_time": "2024-05-17T13:22:04.400Z"
      },
      {
        "duration": 358,
        "start_time": "2024-05-17T13:22:09.940Z"
      },
      {
        "duration": 181,
        "start_time": "2024-05-17T13:22:59.109Z"
      },
      {
        "duration": 356,
        "start_time": "2024-05-17T13:24:04.002Z"
      },
      {
        "duration": 18,
        "start_time": "2024-05-17T13:24:30.462Z"
      },
      {
        "duration": 15,
        "start_time": "2024-05-17T13:27:14.483Z"
      },
      {
        "duration": 3,
        "start_time": "2024-05-17T13:27:18.744Z"
      },
      {
        "duration": 30,
        "start_time": "2024-05-17T13:27:26.903Z"
      },
      {
        "duration": 27,
        "start_time": "2024-05-17T13:27:38.271Z"
      },
      {
        "duration": 26,
        "start_time": "2024-05-17T13:27:46.472Z"
      },
      {
        "duration": 25,
        "start_time": "2024-05-17T13:27:54.171Z"
      },
      {
        "duration": 13,
        "start_time": "2024-05-17T13:29:09.272Z"
      },
      {
        "duration": 14,
        "start_time": "2024-05-17T13:29:27.065Z"
      },
      {
        "duration": 17,
        "start_time": "2024-05-17T13:30:26.305Z"
      },
      {
        "duration": 17,
        "start_time": "2024-05-17T13:30:38.245Z"
      },
      {
        "duration": 17,
        "start_time": "2024-05-17T13:30:44.945Z"
      },
      {
        "duration": 16,
        "start_time": "2024-05-17T13:31:44.625Z"
      },
      {
        "duration": 19,
        "start_time": "2024-05-17T13:32:07.853Z"
      },
      {
        "duration": 18,
        "start_time": "2024-05-17T13:32:11.786Z"
      },
      {
        "duration": 18,
        "start_time": "2024-05-17T13:32:19.826Z"
      },
      {
        "duration": 18,
        "start_time": "2024-05-17T13:32:29.885Z"
      },
      {
        "duration": 17,
        "start_time": "2024-05-17T13:32:49.585Z"
      },
      {
        "duration": 15,
        "start_time": "2024-05-17T13:33:07.306Z"
      },
      {
        "duration": 17,
        "start_time": "2024-05-17T13:33:24.846Z"
      },
      {
        "duration": 2448,
        "start_time": "2024-05-17T13:38:02.707Z"
      },
      {
        "duration": 2436,
        "start_time": "2024-05-17T13:38:05.158Z"
      },
      {
        "duration": 2673,
        "start_time": "2024-05-17T13:38:07.596Z"
      },
      {
        "duration": 753,
        "start_time": "2024-05-17T13:38:10.270Z"
      },
      {
        "duration": 10,
        "start_time": "2024-05-17T13:38:11.025Z"
      },
      {
        "duration": 10,
        "start_time": "2024-05-17T13:38:11.036Z"
      },
      {
        "duration": 4,
        "start_time": "2024-05-17T13:38:11.047Z"
      },
      {
        "duration": 99,
        "start_time": "2024-05-17T13:38:11.052Z"
      },
      {
        "duration": 17070,
        "start_time": "2024-05-17T13:38:11.152Z"
      },
      {
        "duration": 2,
        "start_time": "2024-05-17T13:38:28.223Z"
      },
      {
        "duration": 347,
        "start_time": "2024-05-17T13:38:28.226Z"
      },
      {
        "duration": 3,
        "start_time": "2024-05-17T13:38:28.575Z"
      },
      {
        "duration": 100691,
        "start_time": "2024-05-17T13:38:28.584Z"
      },
      {
        "duration": 2,
        "start_time": "2024-05-17T13:40:09.277Z"
      },
      {
        "duration": 4101,
        "start_time": "2024-05-17T13:40:09.284Z"
      },
      {
        "duration": 3579,
        "start_time": "2024-05-17T13:40:13.386Z"
      },
      {
        "duration": 11,
        "start_time": "2024-05-17T13:40:16.966Z"
      },
      {
        "duration": 131,
        "start_time": "2024-05-17T13:40:16.984Z"
      },
      {
        "duration": 2,
        "start_time": "2024-05-17T13:40:17.116Z"
      },
      {
        "duration": 13,
        "start_time": "2024-05-17T13:40:17.120Z"
      },
      {
        "duration": 297,
        "start_time": "2024-05-17T13:40:17.135Z"
      },
      {
        "duration": 0,
        "start_time": "2024-05-17T13:40:17.434Z"
      },
      {
        "duration": 0,
        "start_time": "2024-05-17T13:40:17.435Z"
      },
      {
        "duration": 0,
        "start_time": "2024-05-17T13:40:17.436Z"
      },
      {
        "duration": 0,
        "start_time": "2024-05-17T13:40:17.437Z"
      },
      {
        "duration": 0,
        "start_time": "2024-05-17T13:40:17.438Z"
      },
      {
        "duration": 0,
        "start_time": "2024-05-17T13:40:17.439Z"
      },
      {
        "duration": 0,
        "start_time": "2024-05-17T13:40:17.440Z"
      },
      {
        "duration": 0,
        "start_time": "2024-05-17T13:40:17.442Z"
      },
      {
        "duration": 0,
        "start_time": "2024-05-17T13:40:17.444Z"
      },
      {
        "duration": 0,
        "start_time": "2024-05-17T13:40:17.445Z"
      },
      {
        "duration": 0,
        "start_time": "2024-05-17T13:40:17.446Z"
      },
      {
        "duration": 0,
        "start_time": "2024-05-17T13:40:17.448Z"
      },
      {
        "duration": 0,
        "start_time": "2024-05-17T13:40:17.449Z"
      },
      {
        "duration": 0,
        "start_time": "2024-05-17T13:40:17.450Z"
      },
      {
        "duration": 0,
        "start_time": "2024-05-17T13:40:17.452Z"
      },
      {
        "duration": 0,
        "start_time": "2024-05-17T13:40:17.484Z"
      },
      {
        "duration": 0,
        "start_time": "2024-05-17T13:40:17.486Z"
      },
      {
        "duration": 0,
        "start_time": "2024-05-17T13:40:17.487Z"
      },
      {
        "duration": 0,
        "start_time": "2024-05-17T13:40:17.488Z"
      },
      {
        "duration": 0,
        "start_time": "2024-05-17T13:40:17.490Z"
      },
      {
        "duration": 0,
        "start_time": "2024-05-17T13:40:17.491Z"
      },
      {
        "duration": 0,
        "start_time": "2024-05-17T13:40:17.493Z"
      },
      {
        "duration": 0,
        "start_time": "2024-05-17T13:40:17.494Z"
      },
      {
        "duration": 0,
        "start_time": "2024-05-17T13:40:17.495Z"
      },
      {
        "duration": 0,
        "start_time": "2024-05-17T13:40:17.497Z"
      },
      {
        "duration": 0,
        "start_time": "2024-05-17T13:40:17.498Z"
      },
      {
        "duration": 0,
        "start_time": "2024-05-17T13:40:17.499Z"
      },
      {
        "duration": 0,
        "start_time": "2024-05-17T13:40:17.500Z"
      },
      {
        "duration": 0,
        "start_time": "2024-05-17T13:40:17.501Z"
      },
      {
        "duration": 18,
        "start_time": "2024-05-17T13:43:32.948Z"
      },
      {
        "duration": 10,
        "start_time": "2024-05-17T13:45:30.403Z"
      },
      {
        "duration": 18,
        "start_time": "2024-05-17T13:45:40.528Z"
      },
      {
        "duration": 414,
        "start_time": "2024-05-17T13:46:09.908Z"
      },
      {
        "duration": 14,
        "start_time": "2024-05-17T13:46:27.215Z"
      },
      {
        "duration": 15,
        "start_time": "2024-05-17T13:46:37.787Z"
      },
      {
        "duration": 24,
        "start_time": "2024-05-17T13:46:42.508Z"
      },
      {
        "duration": 14,
        "start_time": "2024-05-17T13:46:48.648Z"
      },
      {
        "duration": 9,
        "start_time": "2024-05-17T13:48:05.048Z"
      },
      {
        "duration": 2395,
        "start_time": "2024-05-17T13:48:17.070Z"
      },
      {
        "duration": 2399,
        "start_time": "2024-05-17T13:48:19.467Z"
      },
      {
        "duration": 2499,
        "start_time": "2024-05-17T13:48:21.868Z"
      },
      {
        "duration": 749,
        "start_time": "2024-05-17T13:48:24.368Z"
      },
      {
        "duration": 10,
        "start_time": "2024-05-17T13:48:25.118Z"
      },
      {
        "duration": 9,
        "start_time": "2024-05-17T13:48:25.129Z"
      },
      {
        "duration": 6,
        "start_time": "2024-05-17T13:48:25.139Z"
      },
      {
        "duration": 102,
        "start_time": "2024-05-17T13:48:25.146Z"
      },
      {
        "duration": 17242,
        "start_time": "2024-05-17T13:48:25.249Z"
      },
      {
        "duration": 2,
        "start_time": "2024-05-17T13:48:42.492Z"
      },
      {
        "duration": 369,
        "start_time": "2024-05-17T13:48:42.495Z"
      },
      {
        "duration": 3,
        "start_time": "2024-05-17T13:48:42.866Z"
      },
      {
        "duration": 99941,
        "start_time": "2024-05-17T13:48:42.870Z"
      },
      {
        "duration": 2,
        "start_time": "2024-05-17T13:50:22.813Z"
      },
      {
        "duration": 4110,
        "start_time": "2024-05-17T13:50:22.816Z"
      },
      {
        "duration": 3539,
        "start_time": "2024-05-17T13:50:26.927Z"
      },
      {
        "duration": 17,
        "start_time": "2024-05-17T13:50:30.467Z"
      },
      {
        "duration": 119,
        "start_time": "2024-05-17T13:50:30.486Z"
      },
      {
        "duration": 3,
        "start_time": "2024-05-17T13:50:30.606Z"
      },
      {
        "duration": 78,
        "start_time": "2024-05-17T13:50:30.610Z"
      },
      {
        "duration": 338,
        "start_time": "2024-05-17T13:50:30.689Z"
      },
      {
        "duration": 0,
        "start_time": "2024-05-17T13:50:31.029Z"
      },
      {
        "duration": 0,
        "start_time": "2024-05-17T13:50:31.030Z"
      },
      {
        "duration": 0,
        "start_time": "2024-05-17T13:50:31.030Z"
      },
      {
        "duration": 0,
        "start_time": "2024-05-17T13:50:31.031Z"
      },
      {
        "duration": 0,
        "start_time": "2024-05-17T13:50:31.032Z"
      },
      {
        "duration": 0,
        "start_time": "2024-05-17T13:50:31.032Z"
      },
      {
        "duration": 0,
        "start_time": "2024-05-17T13:50:31.033Z"
      },
      {
        "duration": 0,
        "start_time": "2024-05-17T13:50:31.034Z"
      },
      {
        "duration": 0,
        "start_time": "2024-05-17T13:50:31.034Z"
      },
      {
        "duration": 0,
        "start_time": "2024-05-17T13:50:31.035Z"
      },
      {
        "duration": 0,
        "start_time": "2024-05-17T13:50:31.036Z"
      },
      {
        "duration": 0,
        "start_time": "2024-05-17T13:50:31.036Z"
      },
      {
        "duration": 0,
        "start_time": "2024-05-17T13:50:31.037Z"
      },
      {
        "duration": 0,
        "start_time": "2024-05-17T13:50:31.038Z"
      },
      {
        "duration": 0,
        "start_time": "2024-05-17T13:50:31.038Z"
      },
      {
        "duration": 0,
        "start_time": "2024-05-17T13:50:31.039Z"
      },
      {
        "duration": 0,
        "start_time": "2024-05-17T13:50:31.040Z"
      },
      {
        "duration": 0,
        "start_time": "2024-05-17T13:50:31.040Z"
      },
      {
        "duration": 0,
        "start_time": "2024-05-17T13:50:31.041Z"
      },
      {
        "duration": 0,
        "start_time": "2024-05-17T13:50:31.042Z"
      },
      {
        "duration": 1,
        "start_time": "2024-05-17T13:50:31.042Z"
      },
      {
        "duration": 0,
        "start_time": "2024-05-17T13:50:31.043Z"
      },
      {
        "duration": 0,
        "start_time": "2024-05-17T13:50:31.044Z"
      },
      {
        "duration": 0,
        "start_time": "2024-05-17T13:50:31.045Z"
      },
      {
        "duration": 0,
        "start_time": "2024-05-17T13:50:31.046Z"
      },
      {
        "duration": 0,
        "start_time": "2024-05-17T13:50:31.046Z"
      },
      {
        "duration": 0,
        "start_time": "2024-05-17T13:50:31.047Z"
      },
      {
        "duration": 0,
        "start_time": "2024-05-17T13:50:31.048Z"
      },
      {
        "duration": 0,
        "start_time": "2024-05-17T13:50:31.048Z"
      },
      {
        "duration": 41,
        "start_time": "2024-05-17T13:54:37.858Z"
      },
      {
        "duration": 2603,
        "start_time": "2024-05-17T13:56:40.090Z"
      },
      {
        "duration": 2481,
        "start_time": "2024-05-17T13:56:42.695Z"
      },
      {
        "duration": 2806,
        "start_time": "2024-05-17T13:56:45.178Z"
      },
      {
        "duration": 837,
        "start_time": "2024-05-17T13:56:47.986Z"
      },
      {
        "duration": 11,
        "start_time": "2024-05-17T13:56:48.825Z"
      },
      {
        "duration": 10,
        "start_time": "2024-05-17T13:56:48.837Z"
      },
      {
        "duration": 12,
        "start_time": "2024-05-17T13:56:48.849Z"
      },
      {
        "duration": 103,
        "start_time": "2024-05-17T13:56:48.862Z"
      },
      {
        "duration": 19049,
        "start_time": "2024-05-17T13:56:48.966Z"
      },
      {
        "duration": 2,
        "start_time": "2024-05-17T13:57:08.017Z"
      },
      {
        "duration": 383,
        "start_time": "2024-05-17T13:57:08.020Z"
      },
      {
        "duration": 5,
        "start_time": "2024-05-17T13:57:08.404Z"
      },
      {
        "duration": 102594,
        "start_time": "2024-05-17T13:57:08.410Z"
      },
      {
        "duration": 2,
        "start_time": "2024-05-17T13:58:51.006Z"
      },
      {
        "duration": 4116,
        "start_time": "2024-05-17T13:58:51.009Z"
      },
      {
        "duration": 3552,
        "start_time": "2024-05-17T13:58:55.127Z"
      },
      {
        "duration": 11,
        "start_time": "2024-05-17T13:58:58.684Z"
      },
      {
        "duration": 70,
        "start_time": "2024-05-17T13:58:58.696Z"
      },
      {
        "duration": 2,
        "start_time": "2024-05-17T13:58:58.767Z"
      },
      {
        "duration": 22,
        "start_time": "2024-05-17T13:58:58.770Z"
      },
      {
        "duration": 309,
        "start_time": "2024-05-17T13:58:58.793Z"
      },
      {
        "duration": 0,
        "start_time": "2024-05-17T13:58:59.104Z"
      },
      {
        "duration": 1,
        "start_time": "2024-05-17T13:58:59.104Z"
      },
      {
        "duration": 0,
        "start_time": "2024-05-17T13:58:59.105Z"
      },
      {
        "duration": 0,
        "start_time": "2024-05-17T13:58:59.106Z"
      },
      {
        "duration": 0,
        "start_time": "2024-05-17T13:58:59.107Z"
      },
      {
        "duration": 0,
        "start_time": "2024-05-17T13:58:59.108Z"
      },
      {
        "duration": 0,
        "start_time": "2024-05-17T13:58:59.109Z"
      },
      {
        "duration": 0,
        "start_time": "2024-05-17T13:58:59.109Z"
      },
      {
        "duration": 0,
        "start_time": "2024-05-17T13:58:59.110Z"
      },
      {
        "duration": 0,
        "start_time": "2024-05-17T13:58:59.111Z"
      },
      {
        "duration": 0,
        "start_time": "2024-05-17T13:58:59.111Z"
      },
      {
        "duration": 0,
        "start_time": "2024-05-17T13:58:59.112Z"
      },
      {
        "duration": 0,
        "start_time": "2024-05-17T13:58:59.113Z"
      },
      {
        "duration": 0,
        "start_time": "2024-05-17T13:58:59.113Z"
      },
      {
        "duration": 0,
        "start_time": "2024-05-17T13:58:59.114Z"
      },
      {
        "duration": 0,
        "start_time": "2024-05-17T13:58:59.114Z"
      },
      {
        "duration": 0,
        "start_time": "2024-05-17T13:58:59.115Z"
      },
      {
        "duration": 0,
        "start_time": "2024-05-17T13:58:59.116Z"
      },
      {
        "duration": 1,
        "start_time": "2024-05-17T13:58:59.116Z"
      },
      {
        "duration": 0,
        "start_time": "2024-05-17T13:58:59.117Z"
      },
      {
        "duration": 0,
        "start_time": "2024-05-17T13:58:59.118Z"
      },
      {
        "duration": 0,
        "start_time": "2024-05-17T13:58:59.119Z"
      },
      {
        "duration": 0,
        "start_time": "2024-05-17T13:58:59.120Z"
      },
      {
        "duration": 0,
        "start_time": "2024-05-17T13:58:59.121Z"
      },
      {
        "duration": 0,
        "start_time": "2024-05-17T13:58:59.121Z"
      },
      {
        "duration": 0,
        "start_time": "2024-05-17T13:58:59.122Z"
      },
      {
        "duration": 0,
        "start_time": "2024-05-17T13:58:59.123Z"
      },
      {
        "duration": 0,
        "start_time": "2024-05-17T13:58:59.124Z"
      },
      {
        "duration": 0,
        "start_time": "2024-05-17T13:58:59.124Z"
      },
      {
        "duration": 2445,
        "start_time": "2024-05-17T13:59:30.846Z"
      },
      {
        "duration": 2405,
        "start_time": "2024-05-17T13:59:33.293Z"
      },
      {
        "duration": 2638,
        "start_time": "2024-05-17T13:59:35.700Z"
      },
      {
        "duration": 746,
        "start_time": "2024-05-17T13:59:38.339Z"
      },
      {
        "duration": 9,
        "start_time": "2024-05-17T13:59:39.087Z"
      },
      {
        "duration": 14,
        "start_time": "2024-05-17T13:59:39.097Z"
      },
      {
        "duration": 5,
        "start_time": "2024-05-17T13:59:39.113Z"
      },
      {
        "duration": 100,
        "start_time": "2024-05-17T13:59:39.119Z"
      },
      {
        "duration": 16851,
        "start_time": "2024-05-17T13:59:39.220Z"
      },
      {
        "duration": 2,
        "start_time": "2024-05-17T13:59:56.073Z"
      },
      {
        "duration": 349,
        "start_time": "2024-05-17T13:59:56.083Z"
      },
      {
        "duration": 4,
        "start_time": "2024-05-17T13:59:56.434Z"
      },
      {
        "duration": 101158,
        "start_time": "2024-05-17T13:59:56.440Z"
      },
      {
        "duration": 2,
        "start_time": "2024-05-17T14:01:37.600Z"
      },
      {
        "duration": 4025,
        "start_time": "2024-05-17T14:01:37.604Z"
      },
      {
        "duration": 3601,
        "start_time": "2024-05-17T14:01:41.631Z"
      },
      {
        "duration": 11,
        "start_time": "2024-05-17T14:01:45.233Z"
      },
      {
        "duration": 79,
        "start_time": "2024-05-17T14:01:45.245Z"
      },
      {
        "duration": 2,
        "start_time": "2024-05-17T14:01:45.325Z"
      },
      {
        "duration": 48,
        "start_time": "2024-05-17T14:01:45.328Z"
      },
      {
        "duration": 313,
        "start_time": "2024-05-17T14:01:45.377Z"
      },
      {
        "duration": 0,
        "start_time": "2024-05-17T14:01:45.691Z"
      },
      {
        "duration": 0,
        "start_time": "2024-05-17T14:01:45.692Z"
      },
      {
        "duration": 0,
        "start_time": "2024-05-17T14:01:45.693Z"
      },
      {
        "duration": 0,
        "start_time": "2024-05-17T14:01:45.694Z"
      },
      {
        "duration": 0,
        "start_time": "2024-05-17T14:01:45.695Z"
      },
      {
        "duration": 0,
        "start_time": "2024-05-17T14:01:45.695Z"
      },
      {
        "duration": 0,
        "start_time": "2024-05-17T14:01:45.696Z"
      },
      {
        "duration": 0,
        "start_time": "2024-05-17T14:01:45.697Z"
      },
      {
        "duration": 0,
        "start_time": "2024-05-17T14:01:45.698Z"
      },
      {
        "duration": 0,
        "start_time": "2024-05-17T14:01:45.699Z"
      },
      {
        "duration": 0,
        "start_time": "2024-05-17T14:01:45.699Z"
      },
      {
        "duration": 0,
        "start_time": "2024-05-17T14:01:45.700Z"
      },
      {
        "duration": 0,
        "start_time": "2024-05-17T14:01:45.701Z"
      },
      {
        "duration": 0,
        "start_time": "2024-05-17T14:01:45.702Z"
      },
      {
        "duration": 0,
        "start_time": "2024-05-17T14:01:45.702Z"
      },
      {
        "duration": 0,
        "start_time": "2024-05-17T14:01:45.703Z"
      },
      {
        "duration": 0,
        "start_time": "2024-05-17T14:01:45.704Z"
      },
      {
        "duration": 0,
        "start_time": "2024-05-17T14:01:45.705Z"
      },
      {
        "duration": 0,
        "start_time": "2024-05-17T14:01:45.705Z"
      },
      {
        "duration": 0,
        "start_time": "2024-05-17T14:01:45.706Z"
      },
      {
        "duration": 0,
        "start_time": "2024-05-17T14:01:45.707Z"
      },
      {
        "duration": 0,
        "start_time": "2024-05-17T14:01:45.708Z"
      },
      {
        "duration": 0,
        "start_time": "2024-05-17T14:01:45.709Z"
      },
      {
        "duration": 0,
        "start_time": "2024-05-17T14:01:45.709Z"
      },
      {
        "duration": 0,
        "start_time": "2024-05-17T14:01:45.710Z"
      },
      {
        "duration": 0,
        "start_time": "2024-05-17T14:01:45.711Z"
      },
      {
        "duration": 0,
        "start_time": "2024-05-17T14:01:45.712Z"
      },
      {
        "duration": 0,
        "start_time": "2024-05-17T14:01:45.712Z"
      },
      {
        "duration": 0,
        "start_time": "2024-05-17T14:01:45.713Z"
      },
      {
        "duration": 10,
        "start_time": "2024-05-17T14:04:23.508Z"
      },
      {
        "duration": 758,
        "start_time": "2024-05-17T14:04:54.268Z"
      },
      {
        "duration": 2553,
        "start_time": "2024-05-17T14:05:10.714Z"
      },
      {
        "duration": 2525,
        "start_time": "2024-05-17T14:05:13.269Z"
      },
      {
        "duration": 2640,
        "start_time": "2024-05-17T14:05:15.796Z"
      },
      {
        "duration": 790,
        "start_time": "2024-05-17T14:05:18.438Z"
      },
      {
        "duration": 11,
        "start_time": "2024-05-17T14:05:19.230Z"
      },
      {
        "duration": 35,
        "start_time": "2024-05-17T14:05:19.242Z"
      },
      {
        "duration": 6,
        "start_time": "2024-05-17T14:05:19.279Z"
      },
      {
        "duration": 159,
        "start_time": "2024-05-17T14:05:19.286Z"
      },
      {
        "duration": 17923,
        "start_time": "2024-05-17T14:05:19.446Z"
      },
      {
        "duration": 2,
        "start_time": "2024-05-17T14:05:37.370Z"
      },
      {
        "duration": 3281,
        "start_time": "2024-05-17T14:05:37.373Z"
      },
      {
        "duration": 4,
        "start_time": "2024-05-17T14:05:40.657Z"
      },
      {
        "duration": 1056011,
        "start_time": "2024-05-17T14:05:40.662Z"
      },
      {
        "duration": 2,
        "start_time": "2024-05-17T14:23:16.676Z"
      },
      {
        "duration": 27045,
        "start_time": "2024-05-17T14:23:16.684Z"
      },
      {
        "duration": 35878,
        "start_time": "2024-05-17T14:23:43.731Z"
      },
      {
        "duration": 35,
        "start_time": "2024-05-17T14:24:19.611Z"
      },
      {
        "duration": 395,
        "start_time": "2024-05-17T14:24:19.647Z"
      },
      {
        "duration": 2,
        "start_time": "2024-05-17T14:24:20.044Z"
      },
      {
        "duration": 106,
        "start_time": "2024-05-17T14:24:20.048Z"
      },
      {
        "duration": 312,
        "start_time": "2024-05-17T14:24:20.155Z"
      },
      {
        "duration": 0,
        "start_time": "2024-05-17T14:24:20.469Z"
      },
      {
        "duration": 0,
        "start_time": "2024-05-17T14:24:20.470Z"
      },
      {
        "duration": 0,
        "start_time": "2024-05-17T14:24:20.471Z"
      },
      {
        "duration": 0,
        "start_time": "2024-05-17T14:24:20.471Z"
      },
      {
        "duration": 0,
        "start_time": "2024-05-17T14:24:20.472Z"
      },
      {
        "duration": 0,
        "start_time": "2024-05-17T14:24:20.484Z"
      },
      {
        "duration": 0,
        "start_time": "2024-05-17T14:24:20.485Z"
      },
      {
        "duration": 0,
        "start_time": "2024-05-17T14:24:20.485Z"
      },
      {
        "duration": 0,
        "start_time": "2024-05-17T14:24:20.486Z"
      },
      {
        "duration": 0,
        "start_time": "2024-05-17T14:24:20.487Z"
      },
      {
        "duration": 0,
        "start_time": "2024-05-17T14:24:20.488Z"
      },
      {
        "duration": 0,
        "start_time": "2024-05-17T14:24:20.488Z"
      },
      {
        "duration": 0,
        "start_time": "2024-05-17T14:24:20.489Z"
      },
      {
        "duration": 0,
        "start_time": "2024-05-17T14:24:20.490Z"
      },
      {
        "duration": 0,
        "start_time": "2024-05-17T14:24:20.490Z"
      },
      {
        "duration": 0,
        "start_time": "2024-05-17T14:24:20.491Z"
      },
      {
        "duration": 0,
        "start_time": "2024-05-17T14:24:20.492Z"
      },
      {
        "duration": 0,
        "start_time": "2024-05-17T14:24:20.493Z"
      },
      {
        "duration": 0,
        "start_time": "2024-05-17T14:24:20.494Z"
      },
      {
        "duration": 0,
        "start_time": "2024-05-17T14:24:20.495Z"
      },
      {
        "duration": 0,
        "start_time": "2024-05-17T14:24:20.495Z"
      },
      {
        "duration": 0,
        "start_time": "2024-05-17T14:24:20.496Z"
      },
      {
        "duration": 0,
        "start_time": "2024-05-17T14:24:20.497Z"
      },
      {
        "duration": 0,
        "start_time": "2024-05-17T14:24:20.498Z"
      },
      {
        "duration": 0,
        "start_time": "2024-05-17T14:24:20.498Z"
      },
      {
        "duration": 0,
        "start_time": "2024-05-17T14:24:20.499Z"
      },
      {
        "duration": 0,
        "start_time": "2024-05-17T14:24:20.500Z"
      },
      {
        "duration": 0,
        "start_time": "2024-05-17T14:24:20.501Z"
      },
      {
        "duration": 0,
        "start_time": "2024-05-17T14:24:20.502Z"
      },
      {
        "duration": 780,
        "start_time": "2024-05-17T14:32:19.025Z"
      },
      {
        "duration": 2443,
        "start_time": "2024-05-17T14:32:27.649Z"
      },
      {
        "duration": 2515,
        "start_time": "2024-05-17T14:32:30.094Z"
      },
      {
        "duration": 2582,
        "start_time": "2024-05-17T14:32:32.610Z"
      },
      {
        "duration": 772,
        "start_time": "2024-05-17T14:32:35.194Z"
      },
      {
        "duration": 9,
        "start_time": "2024-05-17T14:32:35.967Z"
      },
      {
        "duration": 142,
        "start_time": "2024-05-17T14:32:35.984Z"
      },
      {
        "duration": 40,
        "start_time": "2024-05-17T14:32:36.127Z"
      },
      {
        "duration": 95,
        "start_time": "2024-05-17T14:32:36.168Z"
      },
      {
        "duration": 363,
        "start_time": "2024-05-17T14:32:36.264Z"
      },
      {
        "duration": 0,
        "start_time": "2024-05-17T14:32:36.705Z"
      },
      {
        "duration": 0,
        "start_time": "2024-05-17T14:32:36.707Z"
      },
      {
        "duration": 0,
        "start_time": "2024-05-17T14:32:36.708Z"
      },
      {
        "duration": 0,
        "start_time": "2024-05-17T14:32:36.709Z"
      },
      {
        "duration": 0,
        "start_time": "2024-05-17T14:32:36.710Z"
      },
      {
        "duration": 0,
        "start_time": "2024-05-17T14:32:36.711Z"
      },
      {
        "duration": 0,
        "start_time": "2024-05-17T14:32:36.712Z"
      },
      {
        "duration": 0,
        "start_time": "2024-05-17T14:32:36.714Z"
      },
      {
        "duration": 0,
        "start_time": "2024-05-17T14:32:36.715Z"
      },
      {
        "duration": 0,
        "start_time": "2024-05-17T14:32:36.716Z"
      },
      {
        "duration": 0,
        "start_time": "2024-05-17T14:32:36.717Z"
      },
      {
        "duration": 0,
        "start_time": "2024-05-17T14:32:36.718Z"
      },
      {
        "duration": 0,
        "start_time": "2024-05-17T14:32:36.719Z"
      },
      {
        "duration": 0,
        "start_time": "2024-05-17T14:32:36.721Z"
      },
      {
        "duration": 0,
        "start_time": "2024-05-17T14:32:36.722Z"
      },
      {
        "duration": 0,
        "start_time": "2024-05-17T14:32:36.723Z"
      },
      {
        "duration": 0,
        "start_time": "2024-05-17T14:32:36.724Z"
      },
      {
        "duration": 0,
        "start_time": "2024-05-17T14:32:36.725Z"
      },
      {
        "duration": 0,
        "start_time": "2024-05-17T14:32:36.727Z"
      },
      {
        "duration": 0,
        "start_time": "2024-05-17T14:32:36.729Z"
      },
      {
        "duration": 0,
        "start_time": "2024-05-17T14:32:36.730Z"
      },
      {
        "duration": 0,
        "start_time": "2024-05-17T14:32:36.731Z"
      },
      {
        "duration": 0,
        "start_time": "2024-05-17T14:32:36.732Z"
      },
      {
        "duration": 0,
        "start_time": "2024-05-17T14:32:36.734Z"
      },
      {
        "duration": 0,
        "start_time": "2024-05-17T14:32:36.734Z"
      },
      {
        "duration": 0,
        "start_time": "2024-05-17T14:32:36.735Z"
      },
      {
        "duration": 0,
        "start_time": "2024-05-17T14:32:36.737Z"
      },
      {
        "duration": 0,
        "start_time": "2024-05-17T14:32:36.737Z"
      },
      {
        "duration": 0,
        "start_time": "2024-05-17T14:32:36.738Z"
      },
      {
        "duration": 0,
        "start_time": "2024-05-17T14:32:36.784Z"
      },
      {
        "duration": 0,
        "start_time": "2024-05-17T14:32:36.785Z"
      },
      {
        "duration": 0,
        "start_time": "2024-05-17T14:32:36.786Z"
      },
      {
        "duration": 0,
        "start_time": "2024-05-17T14:32:36.787Z"
      },
      {
        "duration": 0,
        "start_time": "2024-05-17T14:32:36.787Z"
      },
      {
        "duration": 0,
        "start_time": "2024-05-17T14:32:36.788Z"
      },
      {
        "duration": 0,
        "start_time": "2024-05-17T14:32:36.789Z"
      },
      {
        "duration": 0,
        "start_time": "2024-05-17T14:32:36.790Z"
      },
      {
        "duration": 0,
        "start_time": "2024-05-17T14:32:36.790Z"
      },
      {
        "duration": 0,
        "start_time": "2024-05-17T14:32:36.791Z"
      },
      {
        "duration": 0,
        "start_time": "2024-05-17T14:32:36.792Z"
      },
      {
        "duration": 0,
        "start_time": "2024-05-17T14:32:36.793Z"
      },
      {
        "duration": 2698,
        "start_time": "2024-05-17T14:33:10.607Z"
      },
      {
        "duration": 2597,
        "start_time": "2024-05-17T14:33:13.307Z"
      },
      {
        "duration": 2752,
        "start_time": "2024-05-17T14:33:15.906Z"
      },
      {
        "duration": 846,
        "start_time": "2024-05-17T14:33:18.660Z"
      },
      {
        "duration": 10,
        "start_time": "2024-05-17T14:33:19.508Z"
      },
      {
        "duration": 11,
        "start_time": "2024-05-17T14:33:19.519Z"
      },
      {
        "duration": 11,
        "start_time": "2024-05-17T14:33:19.531Z"
      },
      {
        "duration": 118,
        "start_time": "2024-05-17T14:33:19.543Z"
      },
      {
        "duration": 18691,
        "start_time": "2024-05-17T14:33:19.663Z"
      },
      {
        "duration": 2,
        "start_time": "2024-05-17T14:33:38.355Z"
      },
      {
        "duration": 337,
        "start_time": "2024-05-17T14:33:38.358Z"
      },
      {
        "duration": 3,
        "start_time": "2024-05-17T14:33:38.697Z"
      },
      {
        "duration": 105893,
        "start_time": "2024-05-17T14:33:38.701Z"
      },
      {
        "duration": 2,
        "start_time": "2024-05-17T14:35:24.597Z"
      },
      {
        "duration": 4053,
        "start_time": "2024-05-17T14:35:24.600Z"
      },
      {
        "duration": 3749,
        "start_time": "2024-05-17T14:35:28.655Z"
      },
      {
        "duration": 10,
        "start_time": "2024-05-17T14:35:32.405Z"
      },
      {
        "duration": 156,
        "start_time": "2024-05-17T14:35:32.416Z"
      },
      {
        "duration": 3,
        "start_time": "2024-05-17T14:35:32.573Z"
      },
      {
        "duration": 22,
        "start_time": "2024-05-17T14:35:32.577Z"
      },
      {
        "duration": 348,
        "start_time": "2024-05-17T14:35:32.600Z"
      },
      {
        "duration": 0,
        "start_time": "2024-05-17T14:35:32.950Z"
      },
      {
        "duration": 0,
        "start_time": "2024-05-17T14:35:32.950Z"
      },
      {
        "duration": 0,
        "start_time": "2024-05-17T14:35:32.951Z"
      },
      {
        "duration": 0,
        "start_time": "2024-05-17T14:35:32.952Z"
      },
      {
        "duration": 0,
        "start_time": "2024-05-17T14:35:32.953Z"
      },
      {
        "duration": 0,
        "start_time": "2024-05-17T14:35:32.954Z"
      },
      {
        "duration": 0,
        "start_time": "2024-05-17T14:35:32.955Z"
      },
      {
        "duration": 0,
        "start_time": "2024-05-17T14:35:32.956Z"
      },
      {
        "duration": 0,
        "start_time": "2024-05-17T14:35:32.956Z"
      },
      {
        "duration": 0,
        "start_time": "2024-05-17T14:35:32.957Z"
      },
      {
        "duration": 0,
        "start_time": "2024-05-17T14:35:32.958Z"
      },
      {
        "duration": 0,
        "start_time": "2024-05-17T14:35:32.959Z"
      },
      {
        "duration": 0,
        "start_time": "2024-05-17T14:35:32.960Z"
      },
      {
        "duration": 0,
        "start_time": "2024-05-17T14:35:32.960Z"
      },
      {
        "duration": 0,
        "start_time": "2024-05-17T14:35:32.961Z"
      },
      {
        "duration": 0,
        "start_time": "2024-05-17T14:35:32.962Z"
      },
      {
        "duration": 0,
        "start_time": "2024-05-17T14:35:32.963Z"
      },
      {
        "duration": 0,
        "start_time": "2024-05-17T14:35:32.964Z"
      },
      {
        "duration": 0,
        "start_time": "2024-05-17T14:35:32.964Z"
      },
      {
        "duration": 0,
        "start_time": "2024-05-17T14:35:32.984Z"
      },
      {
        "duration": 0,
        "start_time": "2024-05-17T14:35:32.985Z"
      },
      {
        "duration": 0,
        "start_time": "2024-05-17T14:35:32.986Z"
      },
      {
        "duration": 0,
        "start_time": "2024-05-17T14:35:32.987Z"
      },
      {
        "duration": 0,
        "start_time": "2024-05-17T14:35:32.987Z"
      },
      {
        "duration": 0,
        "start_time": "2024-05-17T14:35:32.988Z"
      },
      {
        "duration": 0,
        "start_time": "2024-05-17T14:35:32.989Z"
      },
      {
        "duration": 0,
        "start_time": "2024-05-17T14:35:32.989Z"
      },
      {
        "duration": 0,
        "start_time": "2024-05-17T14:35:32.990Z"
      },
      {
        "duration": 0,
        "start_time": "2024-05-17T14:35:32.991Z"
      },
      {
        "duration": 19,
        "start_time": "2024-05-17T14:37:01.147Z"
      },
      {
        "duration": 17,
        "start_time": "2024-05-17T14:38:30.349Z"
      },
      {
        "duration": 17,
        "start_time": "2024-05-17T14:39:18.315Z"
      },
      {
        "duration": 533,
        "start_time": "2024-05-17T14:39:37.176Z"
      },
      {
        "duration": 20,
        "start_time": "2024-05-17T14:39:45.128Z"
      },
      {
        "duration": 18,
        "start_time": "2024-05-17T14:39:55.761Z"
      },
      {
        "duration": 17,
        "start_time": "2024-05-17T14:40:07.547Z"
      },
      {
        "duration": 19,
        "start_time": "2024-05-17T14:40:21.880Z"
      },
      {
        "duration": 24,
        "start_time": "2024-05-17T14:41:47.348Z"
      },
      {
        "duration": 15,
        "start_time": "2024-05-17T14:41:54.168Z"
      },
      {
        "duration": 14,
        "start_time": "2024-05-17T14:42:08.568Z"
      },
      {
        "duration": 17,
        "start_time": "2024-05-17T14:42:58.964Z"
      },
      {
        "duration": 2,
        "start_time": "2024-05-17T14:43:12.568Z"
      },
      {
        "duration": 16,
        "start_time": "2024-05-17T14:43:14.309Z"
      },
      {
        "duration": 525,
        "start_time": "2024-05-17T14:43:53.528Z"
      },
      {
        "duration": 36,
        "start_time": "2024-05-17T14:43:55.028Z"
      },
      {
        "duration": 258,
        "start_time": "2024-05-17T14:44:21.089Z"
      },
      {
        "duration": 33,
        "start_time": "2024-05-17T14:44:22.588Z"
      },
      {
        "duration": 18,
        "start_time": "2024-05-17T14:44:35.240Z"
      },
      {
        "duration": 15,
        "start_time": "2024-05-17T14:48:26.200Z"
      },
      {
        "duration": 22,
        "start_time": "2024-05-17T14:48:48.021Z"
      },
      {
        "duration": 21,
        "start_time": "2024-05-17T14:51:30.360Z"
      },
      {
        "duration": 16,
        "start_time": "2024-05-17T14:51:54.520Z"
      },
      {
        "duration": 16,
        "start_time": "2024-05-17T14:52:04.161Z"
      },
      {
        "duration": 21,
        "start_time": "2024-05-17T14:52:12.281Z"
      },
      {
        "duration": 20,
        "start_time": "2024-05-17T14:52:41.261Z"
      },
      {
        "duration": 11,
        "start_time": "2024-05-17T14:53:10.309Z"
      },
      {
        "duration": 11,
        "start_time": "2024-05-17T14:53:18.921Z"
      },
      {
        "duration": 7,
        "start_time": "2024-05-17T14:53:23.501Z"
      },
      {
        "duration": 2364,
        "start_time": "2024-05-17T14:53:36.762Z"
      },
      {
        "duration": 2385,
        "start_time": "2024-05-17T14:53:39.127Z"
      },
      {
        "duration": 2572,
        "start_time": "2024-05-17T14:53:41.513Z"
      },
      {
        "duration": 735,
        "start_time": "2024-05-17T14:53:44.087Z"
      },
      {
        "duration": 9,
        "start_time": "2024-05-17T14:53:44.824Z"
      },
      {
        "duration": 13,
        "start_time": "2024-05-17T14:53:44.834Z"
      },
      {
        "duration": 13,
        "start_time": "2024-05-17T14:53:44.848Z"
      },
      {
        "duration": 150,
        "start_time": "2024-05-17T14:53:44.862Z"
      },
      {
        "duration": 19620,
        "start_time": "2024-05-17T14:53:45.013Z"
      },
      {
        "duration": 2,
        "start_time": "2024-05-17T14:54:04.634Z"
      },
      {
        "duration": 336,
        "start_time": "2024-05-17T14:54:04.637Z"
      },
      {
        "duration": 3,
        "start_time": "2024-05-17T14:54:04.975Z"
      },
      {
        "duration": 100653,
        "start_time": "2024-05-17T14:54:04.979Z"
      },
      {
        "duration": 2,
        "start_time": "2024-05-17T14:55:45.635Z"
      },
      {
        "duration": 4039,
        "start_time": "2024-05-17T14:55:45.638Z"
      },
      {
        "duration": 3564,
        "start_time": "2024-05-17T14:55:49.679Z"
      },
      {
        "duration": 10,
        "start_time": "2024-05-17T14:55:53.244Z"
      },
      {
        "duration": 152,
        "start_time": "2024-05-17T14:55:53.255Z"
      },
      {
        "duration": 3,
        "start_time": "2024-05-17T14:55:53.408Z"
      },
      {
        "duration": 32,
        "start_time": "2024-05-17T14:55:53.412Z"
      },
      {
        "duration": 608,
        "start_time": "2024-05-17T14:55:53.445Z"
      },
      {
        "duration": 564,
        "start_time": "2024-05-17T14:55:54.055Z"
      },
      {
        "duration": 8067,
        "start_time": "2024-05-17T14:55:54.620Z"
      },
      {
        "duration": 5296,
        "start_time": "2024-05-17T14:56:02.689Z"
      },
      {
        "duration": 5,
        "start_time": "2024-05-17T14:56:07.987Z"
      },
      {
        "duration": 4805,
        "start_time": "2024-05-17T14:56:07.993Z"
      },
      {
        "duration": 8,
        "start_time": "2024-05-17T14:56:12.885Z"
      },
      {
        "duration": 17,
        "start_time": "2024-05-17T14:56:12.894Z"
      },
      {
        "duration": 67,
        "start_time": "2024-05-17T14:56:12.912Z"
      },
      {
        "duration": 29,
        "start_time": "2024-05-17T14:56:12.980Z"
      },
      {
        "duration": 9,
        "start_time": "2024-05-17T14:56:13.010Z"
      },
      {
        "duration": 13,
        "start_time": "2024-05-17T14:56:13.020Z"
      },
      {
        "duration": 10,
        "start_time": "2024-05-17T14:56:13.034Z"
      },
      {
        "duration": 32138,
        "start_time": "2024-05-17T14:56:13.045Z"
      },
      {
        "duration": 3,
        "start_time": "2024-05-17T14:56:45.185Z"
      },
      {
        "duration": 6,
        "start_time": "2024-05-17T14:56:45.189Z"
      },
      {
        "duration": 99,
        "start_time": "2024-05-17T14:56:45.196Z"
      },
      {
        "duration": 16,
        "start_time": "2024-05-17T14:56:45.297Z"
      },
      {
        "duration": 54885,
        "start_time": "2024-05-17T14:56:45.315Z"
      },
      {
        "duration": 3,
        "start_time": "2024-05-17T14:57:40.202Z"
      },
      {
        "duration": 39,
        "start_time": "2024-05-17T14:57:40.208Z"
      },
      {
        "duration": 11,
        "start_time": "2024-05-17T14:57:40.249Z"
      },
      {
        "duration": 11,
        "start_time": "2024-05-17T14:57:40.261Z"
      },
      {
        "duration": 68722,
        "start_time": "2024-05-17T14:57:40.273Z"
      },
      {
        "duration": 8,
        "start_time": "2024-05-17T14:58:48.997Z"
      },
      {
        "duration": 167,
        "start_time": "2024-05-17T14:58:49.006Z"
      },
      {
        "duration": 158,
        "start_time": "2024-05-17T14:58:49.174Z"
      },
      {
        "duration": 5,
        "start_time": "2024-05-17T14:58:49.333Z"
      },
      {
        "duration": 312,
        "start_time": "2024-05-17T14:58:49.339Z"
      },
      {
        "duration": 0,
        "start_time": "2024-05-17T14:58:49.652Z"
      },
      {
        "duration": 0,
        "start_time": "2024-05-17T14:58:49.653Z"
      },
      {
        "duration": 2914,
        "start_time": "2024-05-17T14:59:43.750Z"
      },
      {
        "duration": 29,
        "start_time": "2024-05-17T14:59:51.090Z"
      },
      {
        "duration": 24,
        "start_time": "2024-05-17T15:00:13.646Z"
      },
      {
        "duration": 4,
        "start_time": "2024-05-17T15:00:16.270Z"
      },
      {
        "duration": 17,
        "start_time": "2024-05-17T15:00:18.630Z"
      },
      {
        "duration": 2439,
        "start_time": "2024-05-17T15:01:01.190Z"
      },
      {
        "duration": 2413,
        "start_time": "2024-05-17T15:01:03.631Z"
      },
      {
        "duration": 2669,
        "start_time": "2024-05-17T15:01:06.046Z"
      },
      {
        "duration": 749,
        "start_time": "2024-05-17T15:01:08.717Z"
      },
      {
        "duration": 12,
        "start_time": "2024-05-17T15:01:09.468Z"
      },
      {
        "duration": 72,
        "start_time": "2024-05-17T15:01:09.484Z"
      },
      {
        "duration": 18,
        "start_time": "2024-05-17T15:01:09.557Z"
      },
      {
        "duration": 158,
        "start_time": "2024-05-17T15:01:09.576Z"
      },
      {
        "duration": 18144,
        "start_time": "2024-05-17T15:01:09.735Z"
      },
      {
        "duration": 6,
        "start_time": "2024-05-17T15:01:27.880Z"
      },
      {
        "duration": 3089,
        "start_time": "2024-05-17T15:01:27.887Z"
      },
      {
        "duration": 7,
        "start_time": "2024-05-17T15:01:30.978Z"
      },
      {
        "duration": 1002198,
        "start_time": "2024-05-17T15:01:30.987Z"
      },
      {
        "duration": 2,
        "start_time": "2024-05-17T15:18:13.189Z"
      },
      {
        "duration": 25292,
        "start_time": "2024-05-17T15:18:13.201Z"
      },
      {
        "duration": 35913,
        "start_time": "2024-05-17T15:18:38.494Z"
      },
      {
        "duration": 34,
        "start_time": "2024-05-17T15:19:14.408Z"
      },
      {
        "duration": 418,
        "start_time": "2024-05-17T15:19:14.444Z"
      },
      {
        "duration": 2,
        "start_time": "2024-05-17T15:19:14.864Z"
      },
      {
        "duration": 108,
        "start_time": "2024-05-17T15:19:14.867Z"
      },
      {
        "duration": 714,
        "start_time": "2024-05-17T15:19:14.976Z"
      },
      {
        "duration": 5301,
        "start_time": "2024-05-17T15:19:15.692Z"
      },
      {
        "duration": 35089,
        "start_time": "2024-05-17T15:19:20.995Z"
      },
      {
        "duration": 21908,
        "start_time": "2024-05-17T15:19:56.086Z"
      },
      {
        "duration": 5,
        "start_time": "2024-05-17T15:20:18.084Z"
      },
      {
        "duration": 26204,
        "start_time": "2024-05-17T15:20:18.090Z"
      },
      {
        "duration": 11,
        "start_time": "2024-05-17T15:20:44.295Z"
      },
      {
        "duration": 15,
        "start_time": "2024-05-17T15:20:44.308Z"
      },
      {
        "duration": 27,
        "start_time": "2024-05-17T15:20:44.325Z"
      },
      {
        "duration": 11,
        "start_time": "2024-05-17T15:20:44.353Z"
      },
      {
        "duration": 4,
        "start_time": "2024-05-17T15:20:44.366Z"
      },
      {
        "duration": 58,
        "start_time": "2024-05-17T15:20:44.371Z"
      },
      {
        "duration": 5,
        "start_time": "2024-05-17T15:20:44.431Z"
      },
      {
        "duration": 306250,
        "start_time": "2024-05-17T15:20:44.437Z"
      },
      {
        "duration": 3,
        "start_time": "2024-05-17T15:25:50.689Z"
      },
      {
        "duration": 92,
        "start_time": "2024-05-17T15:25:50.693Z"
      },
      {
        "duration": 12,
        "start_time": "2024-05-17T15:25:50.786Z"
      },
      {
        "duration": 11,
        "start_time": "2024-05-17T15:25:50.799Z"
      },
      {
        "duration": 585243,
        "start_time": "2024-05-17T15:25:50.811Z"
      },
      {
        "duration": 2,
        "start_time": "2024-05-17T15:35:36.055Z"
      },
      {
        "duration": 44,
        "start_time": "2024-05-17T15:35:36.060Z"
      },
      {
        "duration": 3,
        "start_time": "2024-05-17T15:35:36.105Z"
      },
      {
        "duration": 4,
        "start_time": "2024-05-17T15:35:36.109Z"
      }
    ],
    "kernelspec": {
      "display_name": "Python 3 (ipykernel)",
      "language": "python",
      "name": "python3"
    },
    "language_info": {
      "codemirror_mode": {
        "name": "ipython",
        "version": 3
      },
      "file_extension": ".py",
      "mimetype": "text/x-python",
      "name": "python",
      "nbconvert_exporter": "python",
      "pygments_lexer": "ipython3",
      "version": "3.9.5"
    },
    "toc": {
      "base_numbering": 1,
      "nav_menu": {},
      "number_sections": true,
      "sideBar": true,
      "skip_h1_title": true,
      "title_cell": "Содержание",
      "title_sidebar": "Contents",
      "toc_cell": true,
      "toc_position": {
        "height": "calc(100% - 180px)",
        "left": "10px",
        "top": "150px",
        "width": "302.388px"
      },
      "toc_section_display": true,
      "toc_window_display": true
    },
    "colab": {
      "provenance": []
    }
  },
  "nbformat": 4,
  "nbformat_minor": 0
}